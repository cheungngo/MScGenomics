{
 "cells": [
  {
   "cell_type": "markdown",
   "metadata": {
    "collapsed": false
   },
   "source": [
    "# Basic Algorithms"
   ]
  },
  {
   "cell_type": "markdown",
   "metadata": {
    "collapsed": false
   },
   "source": [
    "### Bisection search"
   ]
  },
  {
   "cell_type": "code",
   "execution_count": 19,
   "metadata": {
    "collapsed": false
   },
   "outputs": [
   ],
   "source": [
    "def sqrt_guess(x, epsilon = 0.1):\n",
    "    \n",
    "    low = 0\n",
    "    high = x\n",
    "    guessed = False\n",
    "    \n",
    "    while guessed == False:\n",
    "        \n",
    "        ans = (low + high) / 2\n",
    "        \n",
    "        # break the loop when the answer is found\n",
    "        if abs(ans**2 - x) < epsilon:\n",
    "            guessed = True\n",
    "        else:\n",
    "            guessed = False\n",
    "            \n",
    "            # This part is important in the program\n",
    "            if (ans**2 > x):\n",
    "                high = ans\n",
    "            else:\n",
    "                low = ans\n",
    "            print(low, high, ans)\n",
    "            \n",
    "    return ans"
   ]
  },
  {
   "cell_type": "code",
   "execution_count": 20,
   "metadata": {
    "collapsed": false
   },
   "outputs": [
    {
     "name": "stdout",
     "output_type": "stream",
     "text": [
      "0 12.5 12.5\n",
      "0 6.25 6.25\n",
      "3.125 6.25 3.125\n",
      "4.6875 6.25 4.6875\n",
      "4.6875 5.46875 5.46875\n",
      "4.6875 5.078125 5.078125\n",
      "4.8828125 5.078125 4.8828125\n",
      "4.98046875 5.078125 4.98046875\n",
      "4.98046875 5.029296875 5.029296875\n"
     ]
    },
    {
     "data": {
      "text/plain": [
       "5.0048828125"
      ]
     },
     "execution_count": 20,
     "metadata": {
     },
     "output_type": "execute_result"
    }
   ],
   "source": [
    "sqrt_guess(25)"
   ]
  },
  {
   "cell_type": "markdown",
   "metadata": {
    "collapsed": false
   },
   "source": [
    "### Bubble sort"
   ]
  },
  {
   "cell_type": "code",
   "execution_count": 28,
   "metadata": {
    "collapsed": false
   },
   "outputs": [
   ],
   "source": [
    "def bubble_sort(ls):\n",
    "    \n",
    "    found = False\n",
    "    \n",
    "    while found == False:\n",
    "        \n",
    "        found = True\n",
    "        \n",
    "        # the last item should not be iterated cause there is no ls[i+1]\n",
    "        for i in (range(len(ls)-1)):\n",
    "            \n",
    "            # swap when values are not in order\n",
    "            if ls[i] > ls[i+1]:\n",
    "                found = False\n",
    "                temp = ls[i+1]\n",
    "                ls[i+1] = ls[i]\n",
    "                ls[i] = temp\n",
    "            print(ls)\n",
    "    \n",
    "    return ls"
   ]
  },
  {
   "cell_type": "code",
   "execution_count": 29,
   "metadata": {
    "collapsed": false
   },
   "outputs": [
    {
     "name": "stdout",
     "output_type": "stream",
     "text": [
      "[1, 4, 2, 3]\n",
      "[1, 2, 4, 3]\n",
      "[1, 2, 3, 4]\n",
      "[1, 2, 3, 4]\n",
      "[1, 2, 3, 4]\n",
      "[1, 2, 3, 4]\n"
     ]
    },
    {
     "data": {
      "text/plain": [
       "[1, 2, 3, 4]"
      ]
     },
     "execution_count": 29,
     "metadata": {
     },
     "output_type": "execute_result"
    }
   ],
   "source": [
    "bubble_sort([1,4,2,3])"
   ]
  },
  {
   "cell_type": "markdown",
   "metadata": {
    "collapsed": false
   },
   "source": [
    "### Selection sort"
   ]
  },
  {
   "cell_type": "code",
   "execution_count": 24,
   "metadata": {
    "collapsed": false
   },
   "outputs": [
   ],
   "source": [
    "def selection_sort(ls):\n",
    "    \n",
    "    for i in range(len(ls)-1):\n",
    "        \n",
    "        min = i\n",
    "        \n",
    "        # comparing the rest of the ls with ls[i]\n",
    "        for j in range(i+1, len(ls), 1):\n",
    "            \n",
    "            # getting the min's index\n",
    "            if ls[j] < ls[min]:\n",
    "                min = j\n",
    "                \n",
    "        # swapping with the first char\n",
    "        temp = ls[i]\n",
    "        ls[i] = ls[min]\n",
    "        ls[min] = temp\n",
    "\n",
    "        print(min, ls)\n",
    "                \n",
    "    return ls"
   ]
  },
  {
   "cell_type": "code",
   "execution_count": 25,
   "metadata": {
    "collapsed": false
   },
   "outputs": [
    {
     "name": "stdout",
     "output_type": "stream",
     "text": [
      "0 [1, 4, 3, 2, 4, 3, 2]\n",
      "3 [1, 2, 3, 4, 4, 3, 2]\n",
      "6 [1, 2, 2, 4, 4, 3, 3]\n",
      "5 [1, 2, 2, 3, 4, 4, 3]\n",
      "6 [1, 2, 2, 3, 3, 4, 4]\n",
      "5 [1, 2, 2, 3, 3, 4, 4]\n"
     ]
    },
    {
     "data": {
      "text/plain": [
       "[1, 2, 2, 3, 3, 4, 4]"
      ]
     },
     "execution_count": 25,
     "metadata": {
     },
     "output_type": "execute_result"
    }
   ],
   "source": [
    "selection_sort([1,4,3,2,4,3,2])"
   ]
  },
  {
   "cell_type": "markdown",
   "metadata": {
    "collapsed": false
   },
   "source": [
    "### Merge sort"
   ]
  },
  {
   "cell_type": "code",
   "execution_count": 38,
   "metadata": {
    "collapsed": false
   },
   "outputs": [
   ],
   "source": [
    "# Assumption: ls1 and ls2 are sorted already\n",
    "\n",
    "def merge(ls1, ls2):\n",
    "    \n",
    "    ls = list()\n",
    "    n1 = 0\n",
    "    n2 = 0\n",
    "    \n",
    "    while n1 < len(ls1) or n2 < len(ls2):\n",
    "        \n",
    "        # if and elif are considering the special case when all n1 / n2 elements had been put into the new list\n",
    "        if n1 == len(ls1):\n",
    "            ls.append(ls2[n2])\n",
    "            n2 += 1\n",
    "        elif n2 == len(ls2):\n",
    "            ls.append(ls1[n1])\n",
    "            n1 += 1\n",
    "        \n",
    "        # the usual operation, putting the smaller number in two lists into the new list\n",
    "        else:\n",
    "            if ls1[n1] <= ls2[n2]:\n",
    "                ls.append(ls1[n1])\n",
    "                n1 += 1\n",
    "            else:\n",
    "                ls.append(ls2[n2])\n",
    "                n2 += 1\n",
    "        \n",
    "    return ls"
   ]
  },
  {
   "cell_type": "code",
   "execution_count": 39,
   "metadata": {
    "collapsed": false
   },
   "outputs": [
    {
     "data": {
      "text/plain": [
       "[1, 2, 2, 3, 3, 4]"
      ]
     },
     "execution_count": 39,
     "metadata": {
     },
     "output_type": "execute_result"
    }
   ],
   "source": [
    "merge([1,2,3],[2,3,4])"
   ]
  },
  {
   "cell_type": "code",
   "execution_count": 44,
   "metadata": {
    "collapsed": false
   },
   "outputs": [
   ],
   "source": [
    "def mergesort(ls):\n",
    "    \n",
    "    # the most important line\n",
    "    if len(ls) == 1:\n",
    "        return(ls)\n",
    "    \n",
    "    # dividing the list\n",
    "    ls1 = ls[:(len(ls)//2)]\n",
    "    ls2 = ls[(len(ls)//2):]\n",
    "    \n",
    "    print(ls1, ls2)\n",
    "    \n",
    "    # recursive loop\n",
    "    ls1_sorted = mergesort(ls1)\n",
    "    ls2_sorted = mergesort(ls2)\n",
    "    \n",
    "    return(merge(ls1_sorted,ls2_sorted))"
   ]
  },
  {
   "cell_type": "code",
   "execution_count": 45,
   "metadata": {
    "collapsed": false
   },
   "outputs": [
    {
     "name": "stdout",
     "output_type": "stream",
     "text": [
      "[44, 53, 94, 44, 64, 6, 10] [3, 29, 69, 38, 21, 33, 67, 20]\n",
      "[44, 53, 94] [44, 64, 6, 10]\n",
      "[44] [53, 94]\n",
      "[53] [94]\n",
      "[44, 64] [6, 10]\n",
      "[44] [64]\n",
      "[6] [10]\n",
      "[3, 29, 69, 38] [21, 33, 67, 20]\n",
      "[3, 29] [69, 38]\n",
      "[3] [29]\n",
      "[69] [38]\n",
      "[21, 33] [67, 20]\n",
      "[21] [33]\n",
      "[67] [20]\n"
     ]
    },
    {
     "data": {
      "text/plain": [
       "[3, 6, 10, 20, 21, 29, 33, 38, 44, 44, 53, 64, 67, 69, 94]"
      ]
     },
     "execution_count": 45,
     "metadata": {
     },
     "output_type": "execute_result"
    }
   ],
   "source": [
    "import random\n",
    "\n",
    "ls = [random.randint(1,100) for i in range(15)]\n",
    "mergesort(ls)"
   ]
  }
 ],
 "metadata": {
  "kernelspec": {
   "display_name": "Python 3 (system-wide)",
   "language": "python",
   "metadata": {
    "cocalc": {
     "description": "Python 3 programming language",
     "priority": 100,
     "url": "https://www.python.org/"
    }
   },
   "name": "python3",
   "resource_dir": "/ext/jupyter/kernels/python3"
  },
  "language_info": {
   "codemirror_mode": {
    "name": "ipython",
    "version": 3
   },
   "file_extension": ".py",
   "mimetype": "text/x-python",
   "name": "python",
   "nbconvert_exporter": "python",
   "pygments_lexer": "ipython3",
   "version": "3.8.10"
  }
 },
 "nbformat": 4,
 "nbformat_minor": 4
}