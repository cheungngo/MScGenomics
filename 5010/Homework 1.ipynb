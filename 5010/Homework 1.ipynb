{
 "cells": [
  {
   "cell_type": "markdown",
   "metadata": {
    "collapsed": false
   },
   "source": [
    "# Homework 1 (Cheung Ngo)"
   ]
  },
  {
   "cell_type": "markdown",
   "metadata": {
    "collapsed": false
   },
   "source": [
    "### Q1: A programe to determine if a year is a leap year"
   ]
  },
  {
   "cell_type": "code",
   "execution_count": 3,
   "metadata": {
    "collapsed": false
   },
   "outputs": [
   ],
   "source": [
    "'''Q1: A programe to determine if a year is a leap year'''\n",
    "\n",
    "def feb_days():\n",
    "    \n",
    "    # Input a year\n",
    "    year = int(input(\"Enter a year:\"))\n",
    "    \n",
    "    # The given algorithm\n",
    "    if year % 100 == 0:\n",
    "        if year % 400 == 0:\n",
    "            print(f\"In {year}, February has 29 days.\")\n",
    "        else: \n",
    "            print(f\"In {year}, February has 28 days.\")\n",
    "    elif year % 4 == 0:\n",
    "        print(f\"In {year}, February has 29 days.\")\n",
    "    else: \n",
    "        print(f\"In {year}, February has 28 days.\")"
   ]
  },
  {
   "cell_type": "code",
   "execution_count": 4,
   "metadata": {
    "cocalc": {
     "outputs": {
      "0": {
       "name": "input",
       "opts": {
        "password": false,
        "prompt": "Enter a year:"
       },
       "output_type": "stream",
       "value": "2000"
      }
     }
    },
    "collapsed": false
   },
   "outputs": [
    {
     "name": "stdout",
     "output_type": "stream",
     "text": "Enter a year: 2000"
    },
    {
     "name": "stdout",
     "output_type": "stream",
     "text": [
      "In 2000, February has 29 days.\n"
     ]
    }
   ],
   "source": [
    "feb_days()"
   ]
  },
  {
   "cell_type": "code",
   "execution_count": 5,
   "metadata": {
    "cocalc": {
     "outputs": {
      "0": {
       "name": "input",
       "opts": {
        "password": false,
        "prompt": "Enter a year:"
       },
       "output_type": "stream",
       "value": "2100"
      }
     }
    },
    "collapsed": false
   },
   "outputs": [
    {
     "name": "stdout",
     "output_type": "stream",
     "text": "Enter a year: 2100"
    },
    {
     "name": "stdout",
     "output_type": "stream",
     "text": [
      "In 2100, February has 28 days.\n"
     ]
    }
   ],
   "source": [
    "feb_days()"
   ]
  },
  {
   "cell_type": "code",
   "execution_count": 6,
   "metadata": {
    "cocalc": {
     "outputs": {
      "0": {
       "name": "input",
       "opts": {
        "password": false,
        "prompt": "Enter a year:"
       },
       "output_type": "stream",
       "value": "1999"
      }
     }
    },
    "collapsed": false
   },
   "outputs": [
    {
     "name": "stdout",
     "output_type": "stream",
     "text": "Enter a year: 1999"
    },
    {
     "name": "stdout",
     "output_type": "stream",
     "text": [
      "In 1999, February has 28 days.\n"
     ]
    }
   ],
   "source": [
    "feb_days()"
   ]
  },
  {
   "cell_type": "markdown",
   "metadata": {
    "collapsed": false
   },
   "source": [
    "### Q2: Printing half of a sequence"
   ]
  },
  {
   "cell_type": "code",
   "execution_count": 30,
   "metadata": {
    "collapsed": false
   },
   "outputs": [
   ],
   "source": [
    "'''Q2: Printing half of a sequence'''\n",
    "\n",
    "def split(seq):\n",
    "    \n",
    "    # ensure the length of sequence > 1\n",
    "    l = len(seq)\n",
    "    assert l >= 2, \"Error: length of sequence should be larger than 1\"\n",
    "    \n",
    "    lhalf = l//2 # the first half should always be smaller than the second half if the length is an odd number\n",
    "    \n",
    "    first_half = seq[:lhalf]\n",
    "    second_half = seq[lhalf:]\n",
    "    \n",
    "    # printing the answers\n",
    "    print(f\"First half: {first_half}\")\n",
    "    print(f\"Second half: {second_half}\")"
   ]
  },
  {
   "cell_type": "code",
   "execution_count": 31,
   "metadata": {
    "collapsed": false
   },
   "outputs": [
    {
     "name": "stdout",
     "output_type": "stream",
     "text": [
      "First half: ACTA\n",
      "Second half: GATGA\n"
     ]
    }
   ],
   "source": [
    "# testing the function\n",
    "\n",
    "seq = \"ACTAGATGA\"\n",
    "split(seq)"
   ]
  },
  {
   "cell_type": "code",
   "execution_count": 23,
   "metadata": {
    "collapsed": false
   },
   "outputs": [
    {
     "name": "stdout",
     "output_type": "stream",
     "text": [
      "First half: TAC\n",
      "Second half: TTG\n"
     ]
    }
   ],
   "source": [
    "seq = \"TACTTG\"\n",
    "split(seq)"
   ]
  },
  {
   "cell_type": "markdown",
   "metadata": {
    "collapsed": false
   },
   "source": [
    "### Q3: Pattern drawing"
   ]
  },
  {
   "cell_type": "code",
   "execution_count": 9,
   "metadata": {
    "collapsed": false
   },
   "outputs": [
   ],
   "source": [
    "'''Q3: Pattern drawing'''\n",
    "\n",
    "def p_draw(number):\n",
    "    \n",
    "    space = \"\" # the space is situated between the two characters\n",
    "    \n",
    "    # nested loop to draw the suggested pattern\n",
    "    for i in range(number):\n",
    "        print(\"#\" + str(space) + \"#\")\n",
    "        space = space + \" \""
   ]
  },
  {
   "cell_type": "code",
   "execution_count": 10,
   "metadata": {
    "collapsed": false
   },
   "outputs": [
    {
     "name": "stdout",
     "output_type": "stream",
     "text": [
      "##\n",
      "# #\n",
      "#  #\n",
      "#   #\n",
      "#    #\n",
      "#     #\n"
     ]
    }
   ],
   "source": [
    "# testing the function (number = 6 as suggested)\n",
    "\n",
    "p_draw(6)"
   ]
  },
  {
   "cell_type": "markdown",
   "metadata": {
    "collapsed": false
   },
   "source": [
    "### Q4: String repeater"
   ]
  },
  {
   "cell_type": "code",
   "execution_count": 16,
   "metadata": {
    "collapsed": false
   },
   "outputs": [
   ],
   "source": [
    "'''Q4: String repeater'''\n",
    "\n",
    "def repeat(string, number):\n",
    "    \n",
    "    output = \"\"\n",
    "    \n",
    "    # nested loop to cocatenate the string\n",
    "    for i in range(number):\n",
    "        output = output + string\n",
    "    print(output)"
   ]
  },
  {
   "cell_type": "code",
   "execution_count": 17,
   "metadata": {
    "collapsed": false
   },
   "outputs": [
    {
     "name": "stdout",
     "output_type": "stream",
     "text": [
      "HiHiHi\n"
     ]
    }
   ],
   "source": [
    "# testing the function\n",
    "\n",
    "repeat(\"Hi\", 3)"
   ]
  },
  {
   "cell_type": "markdown",
   "metadata": {
    "collapsed": false
   },
   "source": [
    "### Q5: Maximum of two numbers"
   ]
  },
  {
   "cell_type": "code",
   "execution_count": 11,
   "metadata": {
    "collapsed": false
   },
   "outputs": [
   ],
   "source": [
    "'''Q5: Maximum of two numbers'''\n",
    "\n",
    "# \"max5\" instead of \"max\" is used to prevent confusion\n",
    "def max5():\n",
    "    \n",
    "    # prompting the user to input two integers\n",
    "    num1 = int(input(\"Input the first integer\"))\n",
    "    num2 = int(input(\"Input the second integer\"))\n",
    "    \n",
    "    # Special case\n",
    "    assert num1 != num2, \"both equal\"\n",
    "    \n",
    "    # Deciding which is the max\n",
    "    max = num1\n",
    "    if num2 > num1:\n",
    "        max = num2\n",
    "    \n",
    "    # printing the results\n",
    "    print(f\"{max} is the greater of the two numbers\")"
   ]
  },
  {
   "cell_type": "code",
   "execution_count": 13,
   "metadata": {
    "cocalc": {
     "outputs": {
      "0": {
       "name": "input",
       "opts": {
        "password": false,
        "prompt": "Input the first integer"
       },
       "output_type": "stream",
       "value": "5"
      },
      "1": {
       "name": "input",
       "opts": {
        "password": false,
        "prompt": "Input the second integer"
       },
       "output_type": "stream",
       "value": "7"
      }
     }
    },
    "collapsed": false
   },
   "outputs": [
    {
     "name": "stdout",
     "output_type": "stream",
     "text": "Input the first integer 5"
    },
    {
     "name": "stdout",
     "output_type": "stream",
     "text": "Input the second integer 7"
    },
    {
     "name": "stdout",
     "output_type": "stream",
     "text": [
      "7 is the greater of the two numbers\n"
     ]
    }
   ],
   "source": [
    "# testing the function\n",
    "\n",
    "max5()"
   ]
  },
  {
   "cell_type": "code",
   "execution_count": 15,
   "metadata": {
    "cocalc": {
     "outputs": {
      "0": {
       "name": "input",
       "opts": {
        "password": false,
        "prompt": "Input the first integer"
       },
       "output_type": "stream",
       "value": "5"
      },
      "1": {
       "name": "input",
       "opts": {
        "password": false,
        "prompt": "Input the second integer"
       },
       "output_type": "stream",
       "value": "5"
      }
     }
    },
    "collapsed": false
   },
   "outputs": [
    {
     "name": "stdout",
     "output_type": "stream",
     "text": "Input the first integer 5"
    },
    {
     "name": "stdout",
     "output_type": "stream",
     "text": "Input the second integer 5"
    },
    {
     "ename": "AssertionError",
     "evalue": "both equal",
     "output_type": "error",
     "traceback": [
      "\u001b[0;31m---------------------------------------------------------------------------\u001b[0m",
      "\u001b[0;31mAssertionError\u001b[0m                            Traceback (most recent call last)",
      "\u001b[0;32m/tmp/ipykernel_865/1278183266.py\u001b[0m in \u001b[0;36m<module>\u001b[0;34m\u001b[0m\n\u001b[0;32m----> 1\u001b[0;31m \u001b[0mmax5\u001b[0m\u001b[0;34m(\u001b[0m\u001b[0;34m)\u001b[0m\u001b[0;34m\u001b[0m\u001b[0;34m\u001b[0m\u001b[0m\n\u001b[0m",
      "\u001b[0;32m/tmp/ipykernel_865/2707848195.py\u001b[0m in \u001b[0;36mmax5\u001b[0;34m()\u001b[0m\n\u001b[1;32m      9\u001b[0m \u001b[0;34m\u001b[0m\u001b[0m\n\u001b[1;32m     10\u001b[0m     \u001b[0;31m# Special case\u001b[0m\u001b[0;34m\u001b[0m\u001b[0;34m\u001b[0m\u001b[0;34m\u001b[0m\u001b[0m\n\u001b[0;32m---> 11\u001b[0;31m     \u001b[0;32massert\u001b[0m \u001b[0mnum1\u001b[0m \u001b[0;34m!=\u001b[0m \u001b[0mnum2\u001b[0m\u001b[0;34m,\u001b[0m \u001b[0;34m\"both equal\"\u001b[0m\u001b[0;34m\u001b[0m\u001b[0;34m\u001b[0m\u001b[0m\n\u001b[0m\u001b[1;32m     12\u001b[0m \u001b[0;34m\u001b[0m\u001b[0m\n\u001b[1;32m     13\u001b[0m     \u001b[0;31m# Deciding which is the max\u001b[0m\u001b[0;34m\u001b[0m\u001b[0;34m\u001b[0m\u001b[0;34m\u001b[0m\u001b[0m\n",
      "\u001b[0;31mAssertionError\u001b[0m: both equal"
     ]
    }
   ],
   "source": [
    "max5()"
   ]
  },
  {
   "cell_type": "markdown",
   "metadata": {
    "collapsed": false
   },
   "source": [
    "### Q6: Longest substring in alphabetical order"
   ]
  },
  {
   "cell_type": "code",
   "execution_count": 1,
   "metadata": {
    "collapsed": false
   },
   "outputs": [
   ],
   "source": [
    "'''Q6: Longest substring in alphabetical order'''\n",
    "\n",
    "def longest_sub(string):\n",
    "    \n",
    "    # Initializing\n",
    "    substring = \"\"\n",
    "    longest = \"\"\n",
    "    \n",
    "    # iterating through the string\n",
    "    for i in range(len(string)):\n",
    "        \n",
    "        # for the first character in the string\n",
    "        if i == 0:\n",
    "            substring = string[i]\n",
    "            longest = substring\n",
    "            \n",
    "        # for the rest of the characters\n",
    "        else:\n",
    "            \n",
    "            if string[i] >= string[i-1]:\n",
    "                substring = substring + string[i]\n",
    "                if len(substring) > len(longest):\n",
    "                    longest = substring\n",
    "            else:\n",
    "                substring = string[i]\n",
    "                \n",
    "    print(f\"Longest substring in alphabetical order is: {longest}\")"
   ]
  },
  {
   "cell_type": "code",
   "execution_count": 2,
   "metadata": {
    "collapsed": false
   },
   "outputs": [
    {
     "name": "stdout",
     "output_type": "stream",
     "text": [
      "Longest substring in alphabetical order is: beggh\n"
     ]
    }
   ],
   "source": [
    "longest_sub(\"azcbobobegghakl\")"
   ]
  },
  {
   "cell_type": "code",
   "execution_count": 3,
   "metadata": {
    "collapsed": false
   },
   "outputs": [
    {
     "name": "stdout",
     "output_type": "stream",
     "text": [
      "Longest substring in alphabetical order is: abc\n"
     ]
    }
   ],
   "source": [
    "longest_sub(\"abcbcd\")"
   ]
  },
  {
   "cell_type": "code",
   "execution_count": 0,
   "metadata": {
    "collapsed": false
   },
   "outputs": [
   ],
   "source": [
   ]
  }
 ],
 "metadata": {
  "kernelspec": {
   "display_name": "Python 3 (system-wide)",
   "language": "python",
   "metadata": {
    "cocalc": {
     "description": "Python 3 programming language",
     "priority": 100,
     "url": "https://www.python.org/"
    }
   },
   "name": "python3",
   "resource_dir": "/ext/jupyter/kernels/python3"
  },
  "language_info": {
   "codemirror_mode": {
    "name": "ipython",
    "version": 3
   },
   "file_extension": ".py",
   "mimetype": "text/x-python",
   "name": "python",
   "nbconvert_exporter": "python",
   "pygments_lexer": "ipython3",
   "version": "3.8.10"
  }
 },
 "nbformat": 4,
 "nbformat_minor": 4
}