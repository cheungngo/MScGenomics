{
 "cells": [
  {
   "cell_type": "markdown",
   "metadata": {
    "collapsed": false
   },
   "source": [
    "# Regex Tutorial"
   ]
  },
  {
   "cell_type": "code",
   "execution_count": 3,
   "metadata": {
    "collapsed": false
   },
   "outputs": [
   ],
   "source": [
    "import re"
   ]
  },
  {
   "cell_type": "markdown",
   "metadata": {
    "collapsed": false
   },
   "source": [
    "### 1. Match a word that contains 4 or more consecutive vowels (a, e, i, o and u). For example, it should match aeie and daoioaidas; but not aebee or auu."
   ]
  },
  {
   "cell_type": "code",
   "execution_count": 1,
   "metadata": {
    "collapsed": false
   },
   "outputs": [
   ],
   "source": [
    "patt1 = r\"[aeiou]{4,}\""
   ]
  },
  {
   "cell_type": "code",
   "execution_count": 6,
   "metadata": {
    "collapsed": false
   },
   "outputs": [
    {
     "data": {
      "text/plain": [
       "['aeie', 'aoioai']"
      ]
     },
     "execution_count": 6,
     "metadata": {
     },
     "output_type": "execute_result"
    }
   ],
   "source": [
    "re.findall(patt1, \"aeie daoioaidas aebee auu\")"
   ]
  },
  {
   "cell_type": "markdown",
   "metadata": {
    "collapsed": false
   },
   "source": [
    "### 2. Match a string with at least 12 characters with “z” as the last one. That is, the total length of the string should be at least 12, including the last “z” character."
   ]
  },
  {
   "cell_type": "code",
   "execution_count": 24,
   "metadata": {
    "collapsed": false
   },
   "outputs": [
   ],
   "source": [
    "patt2 = r\"\\w{11,}z$\""
   ]
  },
  {
   "cell_type": "code",
   "execution_count": 27,
   "metadata": {
    "collapsed": false
   },
   "outputs": [
    {
     "name": "stdout",
     "output_type": "stream",
     "text": [
      "['sfaleifjaleiz']\n",
      "[]\n",
      "[]\n",
      "[]\n"
     ]
    }
   ],
   "source": [
    "strings = [\"sfaleifjaleiz\", \"fsleaijfl\", \"faleijz\", \"flseiafjlesiajf\"]\n",
    "for s in strings:\n",
    "    print(re.findall(patt2, s))"
   ]
  },
  {
   "cell_type": "markdown",
   "metadata": {
    "collapsed": false
   },
   "source": [
    "### 3. Match a string with at least 8 characters but no vowels."
   ]
  },
  {
   "cell_type": "code",
   "execution_count": 28,
   "metadata": {
    "collapsed": false
   },
   "outputs": [
   ],
   "source": [
    "patt3 = r\"[^aeiou]{8,}\""
   ]
  },
  {
   "cell_type": "code",
   "execution_count": 29,
   "metadata": {
    "collapsed": false
   },
   "outputs": [
    {
     "name": "stdout",
     "output_type": "stream",
     "text": [
      "['qqqqqqqqqq']\n",
      "[]\n",
      "[]\n",
      "[]\n"
     ]
    }
   ],
   "source": [
    "strings = [\"qqqqqqqqqq\", \"qqqqqqaqqqqq\", \"qqqq\", \"aeiou\"]\n",
    "for s in strings:\n",
    "    print(re.findall(patt3, s))"
   ]
  },
  {
   "cell_type": "markdown",
   "metadata": {
    "collapsed": false
   },
   "source": [
    "### 4. Match a number which is only composed of even digits, including 0. But don't allow 0 to be the first digit. For example, it should match: 248, 4200, and 6; but not 0, 020, 5 or 123."
   ]
  },
  {
   "cell_type": "code",
   "execution_count": 98,
   "metadata": {
    "collapsed": false
   },
   "outputs": [
   ],
   "source": [
    "patt4_1 = r\"^[2468]\"\n",
    "patt4_2 = r\"^[02468]*$\"\n",
    "patt4_3 = r\"^[2468][02468]*$\""
   ]
  },
  {
   "cell_type": "code",
   "execution_count": 94,
   "metadata": {
    "collapsed": false
   },
   "outputs": [
    {
     "name": "stdout",
     "output_type": "stream",
     "text": [
      "2468\n",
      "4200\n",
      "6\n"
     ]
    }
   ],
   "source": [
    "strings = [\"0246\", \"2468\", \"3131846\", \"4200\", \"6\", \"020\", \"5\", \"123\", \"654\"]\n",
    "for s in strings:\n",
    "    if re.search(patt4_1, s):\n",
    "        if re.search(patt4_2, s):\n",
    "            print(s)"
   ]
  },
  {
   "cell_type": "code",
   "execution_count": 100,
   "metadata": {
    "collapsed": false
   },
   "outputs": [
    {
     "name": "stdout",
     "output_type": "stream",
     "text": [
      "2468\n",
      "4200\n",
      "6\n"
     ]
    }
   ],
   "source": [
    "for s in strings:\n",
    "    if re.search(patt4_3,s):\n",
    "        print(s)"
   ]
  },
  {
   "cell_type": "markdown",
   "metadata": {
    "collapsed": false
   },
   "source": [
    "### 5. Match an RNA sequence that begins with \"AUG\" and ends with either of \"UAA\",\"UAG\", or \"UGA\". An RNA sequence should be composed of only A, C, G and U."
   ]
  },
  {
   "cell_type": "code",
   "execution_count": 111,
   "metadata": {
    "collapsed": false
   },
   "outputs": [
   ],
   "source": [
    "patt5 = r\"^(AUG)[ACGU]*(UAA|UAG|UGA)$\""
   ]
  },
  {
   "cell_type": "code",
   "execution_count": 112,
   "metadata": {
    "collapsed": false
   },
   "outputs": [
   ],
   "source": [
    "strings = [\"AUGACGUUAA\", \"AUGXYZUAA\", \"AUGUGA\", \"AAAUUUUGA\"]"
   ]
  },
  {
   "cell_type": "code",
   "execution_count": 113,
   "metadata": {
    "collapsed": false
   },
   "outputs": [
    {
     "name": "stdout",
     "output_type": "stream",
     "text": [
      "AUGACGUUAA\n",
      "AUGUGA\n"
     ]
    }
   ],
   "source": [
    "for s in strings:\n",
    "    if re.search(patt5, s):\n",
    "        print(s)"
   ]
  },
  {
   "cell_type": "markdown",
   "metadata": {
    "collapsed": false
   },
   "source": [
    "### Part 2"
   ]
  },
  {
   "cell_type": "markdown",
   "metadata": {
    "collapsed": false
   },
   "source": [
    "Complete “grape_count_gata.not_finished.py” first, and then modify it so that it can process a different \n",
    "input file and a list of motifs specified in the command line. Rename the new script as \n",
    "“count_motifs.py”. When run the following command in the command line:"
   ]
  },
  {
   "cell_type": "markdown",
   "metadata": {
    "collapsed": false
   },
   "source": [
    "$ python count_motifs.py grape_promoters.subset.txt [AT]GATA[GA],[CGT]ACGTG[GT][AC],TTGAC"
   ]
  },
  {
   "cell_type": "code",
   "execution_count": 135,
   "metadata": {
    "collapsed": false
   },
   "outputs": [
   ],
   "source": [
    "import re\n",
    "import sys\n",
    "\n",
    "\n",
    "def main():\n",
    "    \n",
    "    input_file = input(\"input_file\")\n",
    "    motifs = input(\"motifs sep by comma\")\n",
    "    motifs = motifs.split(\",\")\n",
    "    \n",
    "    with open(input_file, \"r\") as fh:\n",
    "        for line in fh:\n",
    "            line = line.strip()\n",
    "            gid, seq = re.split(r\"\\s+\", line)\n",
    "            \n",
    "            for motif in motifs:\n",
    "\n",
    "                num_motifs = count_motifs(seq, motif)\n",
    "                print(f\"{gid}\\t{num_motifs}\\t{motif}\")\n",
    "        \n",
    "\n",
    "def count_motifs(seq, motif):\n",
    "    \n",
    "    return len(re.findall(motif, seq))"
   ]
  },
  {
   "cell_type": "code",
   "execution_count": 136,
   "metadata": {
    "cocalc": {
     "outputs": {
      "0": {
       "name": "input",
       "opts": {
        "password": false,
        "prompt": "input_file"
       },
       "output_type": "stream",
       "value": "grape_promoters.subset.txt"
      },
      "1": {
       "name": "input",
       "opts": {
        "password": false,
        "prompt": "motifs sep by comma"
       },
       "output_type": "stream",
       "value": "[AT]GATA[GA],[CGT]ACGTG[GT][AC],TTGAC"
      }
     }
    },
    "collapsed": false
   },
   "outputs": [
    {
     "name": "stdout",
     "output_type": "stream",
     "text": "input_file grape_promoters.subset.txt"
    },
    {
     "name": "stdout",
     "output_type": "stream",
     "text": "motifs sep by comma [AT]GATA[GA],[CGT]ACGTG[GT][AC],TTGAC"
    },
    {
     "name": "stdout",
     "output_type": "stream",
     "text": [
      "GSVIVT01034325001_1\t3\t[AT]GATA[GA]\n",
      "GSVIVT01034325001_1\t0\t[CGT]ACGTG[GT][AC]\n",
      "GSVIVT01034325001_1\t2\tTTGAC\n",
      "GSVIVT01034326001_2\t2\t[AT]GATA[GA]\n",
      "GSVIVT01034326001_2\t0\t[CGT]ACGTG[GT][AC]\n",
      "GSVIVT01034326001_2\t4\tTTGAC\n",
      "GSVIVT01034329001_3\t2\t[AT]GATA[GA]\n",
      "GSVIVT01034329001_3\t0\t[CGT]ACGTG[GT][AC]\n",
      "GSVIVT01034329001_3\t0\tTTGAC\n",
      "GSVIVT01034331001_4\t2\t[AT]GATA[GA]\n",
      "GSVIVT01034331001_4\t0\t[CGT]ACGTG[GT][AC]\n",
      "GSVIVT01034331001_4\t0\tTTGAC\n",
      "GSVIVT01034332001_5\t1\t[AT]GATA[GA]\n",
      "GSVIVT01034332001_5\t0\t[CGT]ACGTG[GT][AC]\n",
      "GSVIVT01034332001_5\t2\tTTGAC\n",
      "GSVIVT01034334001_6\t2\t[AT]GATA[GA]\n",
      "GSVIVT01034334001_6\t1\t[CGT]ACGTG[GT][AC]\n",
      "GSVIVT01034334001_6\t0\tTTGAC\n",
      "GSVIVT01034337001_7\t4\t[AT]GATA[GA]\n",
      "GSVIVT01034337001_7\t1\t[CGT]ACGTG[GT][AC]\n",
      "GSVIVT01034337001_7\t0\tTTGAC\n",
      "GSVIVT01034340001_8\t0\t[AT]GATA[GA]\n",
      "GSVIVT01034340001_8\t0\t[CGT]ACGTG[GT][AC]\n",
      "GSVIVT01034340001_8\t0\tTTGAC\n",
      "GSVIVT01034341001_9\t0\t[AT]GATA[GA]\n",
      "GSVIVT01034341001_9\t0\t[CGT]ACGTG[GT][AC]\n",
      "GSVIVT01034341001_9\t1\tTTGAC\n",
      "GSVIVT01034344001_10\t1\t[AT]GATA[GA]\n",
      "GSVIVT01034344001_10\t0\t[CGT]ACGTG[GT][AC]\n",
      "GSVIVT01034344001_10\t0\tTTGAC\n",
      "GSVIVT01034346001_11\t3\t[AT]GATA[GA]\n",
      "GSVIVT01034346001_11\t0\t[CGT]ACGTG[GT][AC]\n",
      "GSVIVT01034346001_11\t0\tTTGAC\n",
      "GSVIVT01034348001_12\t0\t[AT]GATA[GA]\n",
      "GSVIVT01034348001_12\t0\t[CGT]ACGTG[GT][AC]\n",
      "GSVIVT01034348001_12\t0\tTTGAC\n",
      "GSVIVT01034350001_13\t4\t[AT]GATA[GA]\n",
      "GSVIVT01034350001_13\t0\t[CGT]ACGTG[GT][AC]\n",
      "GSVIVT01034350001_13\t0\tTTGAC\n",
      "GSVIVT01034351001_14\t2\t[AT]GATA[GA]\n",
      "GSVIVT01034351001_14\t0\t[CGT]ACGTG[GT][AC]\n",
      "GSVIVT01034351001_14\t0\tTTGAC\n",
      "GSVIVT01034352001_15\t1\t[AT]GATA[GA]\n",
      "GSVIVT01034352001_15\t1\t[CGT]ACGTG[GT][AC]\n",
      "GSVIVT01034352001_15\t1\tTTGAC\n",
      "GSVIVT01034353001_16\t0\t[AT]GATA[GA]\n",
      "GSVIVT01034353001_16\t0\t[CGT]ACGTG[GT][AC]\n",
      "GSVIVT01034353001_16\t1\tTTGAC\n",
      "GSVIVT01034354001_17\t2\t[AT]GATA[GA]\n",
      "GSVIVT01034354001_17\t0\t[CGT]ACGTG[GT][AC]\n",
      "GSVIVT01034354001_17\t0\tTTGAC\n",
      "GSVIVT01034357001_18\t2\t[AT]GATA[GA]\n",
      "GSVIVT01034357001_18\t0\t[CGT]ACGTG[GT][AC]\n",
      "GSVIVT01034357001_18\t0\tTTGAC\n",
      "GSVIVT01034358001_19\t4\t[AT]GATA[GA]\n",
      "GSVIVT01034358001_19\t0\t[CGT]ACGTG[GT][AC]\n",
      "GSVIVT01034358001_19\t2\tTTGAC\n",
      "GSVIVT01034359001_20\t1\t[AT]GATA[GA]\n",
      "GSVIVT01034359001_20\t0\t[CGT]ACGTG[GT][AC]\n",
      "GSVIVT01034359001_20\t1\tTTGAC\n",
      "GSVIVT01034360001_21\t2\t[AT]GATA[GA]\n",
      "GSVIVT01034360001_21\t0\t[CGT]ACGTG[GT][AC]\n",
      "GSVIVT01034360001_21\t2\tTTGAC\n",
      "GSVIVT01034361001_22\t1\t[AT]GATA[GA]\n",
      "GSVIVT01034361001_22\t0\t[CGT]ACGTG[GT][AC]\n",
      "GSVIVT01034361001_22\t0\tTTGAC\n",
      "GSVIVT01034362001_23\t1\t[AT]GATA[GA]\n",
      "GSVIVT01034362001_23\t0\t[CGT]ACGTG[GT][AC]\n",
      "GSVIVT01034362001_23\t1\tTTGAC\n",
      "GSVIVT01034364001_24\t0\t[AT]GATA[GA]\n",
      "GSVIVT01034364001_24\t0\t[CGT]ACGTG[GT][AC]\n",
      "GSVIVT01034364001_24\t0\tTTGAC\n",
      "GSVIVT01034365001_25\t0\t[AT]GATA[GA]\n",
      "GSVIVT01034365001_25\t0\t[CGT]ACGTG[GT][AC]\n",
      "GSVIVT01034365001_25\t4\tTTGAC\n",
      "GSVIVT01034366001_26\t2\t[AT]GATA[GA]\n",
      "GSVIVT01034366001_26\t0\t[CGT]ACGTG[GT][AC]\n",
      "GSVIVT01034366001_26\t0\tTTGAC\n",
      "GSVIVT01034367001_27\t2\t[AT]GATA[GA]\n",
      "GSVIVT01034367001_27\t0\t[CGT]ACGTG[GT][AC]\n",
      "GSVIVT01034367001_27\t0\tTTGAC\n",
      "GSVIVT01034368001_28\t2\t[AT]GATA[GA]\n",
      "GSVIVT01034368001_28\t0\t[CGT]ACGTG[GT][AC]\n",
      "GSVIVT01034368001_28\t1\tTTGAC\n",
      "GSVIVT01034370001_29\t3\t[AT]GATA[GA]\n",
      "GSVIVT01034370001_29\t0\t[CGT]ACGTG[GT][AC]\n",
      "GSVIVT01034370001_29\t2\tTTGAC\n",
      "GSVIVT01034372001_30\t0\t[AT]GATA[GA]\n",
      "GSVIVT01034372001_30\t0\t[CGT]ACGTG[GT][AC]\n",
      "GSVIVT01034372001_30\t3\tTTGAC\n",
      "GSVIVT01034373001_31\t1\t[AT]GATA[GA]\n",
      "GSVIVT01034373001_31\t0\t[CGT]ACGTG[GT][AC]\n",
      "GSVIVT01034373001_31\t0\tTTGAC\n",
      "GSVIVT01034378001_32\t3\t[AT]GATA[GA]\n",
      "GSVIVT01034378001_32\t0\t[CGT]ACGTG[GT][AC]\n",
      "GSVIVT01034378001_32\t2\tTTGAC\n",
      "GSVIVT01034380001_33\t1\t[AT]GATA[GA]\n",
      "GSVIVT01034380001_33\t2\t[CGT]ACGTG[GT][AC]\n",
      "GSVIVT01034380001_33\t0\tTTGAC\n",
      "GSVIVT01034385001_34\t3\t[AT]GATA[GA]\n",
      "GSVIVT01034385001_34\t0\t[CGT]ACGTG[GT][AC]\n",
      "GSVIVT01034385001_34\t1\tTTGAC\n",
      "GSVIVT01034388001_35\t2\t[AT]GATA[GA]\n",
      "GSVIVT01034388001_35\t0\t[CGT]ACGTG[GT][AC]\n",
      "GSVIVT01034388001_35\t0\tTTGAC\n",
      "GSVIVT01034389001_36\t3\t[AT]GATA[GA]\n",
      "GSVIVT01034389001_36\t0\t[CGT]ACGTG[GT][AC]\n",
      "GSVIVT01034389001_36\t0\tTTGAC\n",
      "GSVIVT01034390001_37\t1\t[AT]GATA[GA]\n",
      "GSVIVT01034390001_37\t0\t[CGT]ACGTG[GT][AC]\n",
      "GSVIVT01034390001_37\t2\tTTGAC\n",
      "GSVIVT01034391001_38\t3\t[AT]GATA[GA]\n",
      "GSVIVT01034391001_38\t0\t[CGT]ACGTG[GT][AC]\n",
      "GSVIVT01034391001_38\t0\tTTGAC\n",
      "GSVIVT01034392001_39\t0\t[AT]GATA[GA]\n",
      "GSVIVT01034392001_39\t0\t[CGT]ACGTG[GT][AC]\n",
      "GSVIVT01034392001_39\t1\tTTGAC\n",
      "GSVIVT01034394001_40\t3\t[AT]GATA[GA]\n",
      "GSVIVT01034394001_40\t0\t[CGT]ACGTG[GT][AC]\n",
      "GSVIVT01034394001_40\t0\tTTGAC\n",
      "GSVIVT01034396001_41\t7\t[AT]GATA[GA]\n",
      "GSVIVT01034396001_41\t0\t[CGT]ACGTG[GT][AC]\n",
      "GSVIVT01034396001_41\t2\tTTGAC\n",
      "GSVIVT01034397001_42\t2\t[AT]GATA[GA]\n",
      "GSVIVT01034397001_42\t0\t[CGT]ACGTG[GT][AC]\n",
      "GSVIVT01034397001_42\t1\tTTGAC\n",
      "GSVIVT01034399001_43\t2\t[AT]GATA[GA]\n",
      "GSVIVT01034399001_43\t0\t[CGT]ACGTG[GT][AC]\n",
      "GSVIVT01034399001_43\t0\tTTGAC\n",
      "GSVIVT01034402001_44\t2\t[AT]GATA[GA]\n",
      "GSVIVT01034402001_44\t0\t[CGT]ACGTG[GT][AC]\n",
      "GSVIVT01034402001_44\t0\tTTGAC\n",
      "GSVIVT01034403001_45\t0\t[AT]GATA[GA]\n",
      "GSVIVT01034403001_45\t0\t[CGT]ACGTG[GT][AC]\n",
      "GSVIVT01034403001_45\t0\tTTGAC\n",
      "GSVIVT01034405001_46\t4\t[AT]GATA[GA]\n",
      "GSVIVT01034405001_46\t0\t[CGT]ACGTG[GT][AC]\n",
      "GSVIVT01034405001_46\t0\tTTGAC\n",
      "GSVIVT01034406001_47\t1\t[AT]GATA[GA]\n",
      "GSVIVT01034406001_47\t0\t[CGT]ACGTG[GT][AC]\n",
      "GSVIVT01034406001_47\t2\tTTGAC\n",
      "GSVIVT01034407001_48\t4\t[AT]GATA[GA]\n",
      "GSVIVT01034407001_48\t0\t[CGT]ACGTG[GT][AC]\n",
      "GSVIVT01034407001_48\t1\tTTGAC\n",
      "GSVIVT01034409001_49\t3\t[AT]GATA[GA]\n",
      "GSVIVT01034409001_49\t0\t[CGT]ACGTG[GT][AC]\n",
      "GSVIVT01034409001_49\t0\tTTGAC\n",
      "GSVIVT01034410001_50\t0\t[AT]GATA[GA]\n",
      "GSVIVT01034410001_50\t0\t[CGT]ACGTG[GT][AC]\n",
      "GSVIVT01034410001_50\t1\tTTGAC\n",
      "GSVIVT01034412001_51\t0\t[AT]GATA[GA]\n",
      "GSVIVT01034412001_51\t0\t[CGT]ACGTG[GT][AC]\n",
      "GSVIVT01034412001_51\t0\tTTGAC\n",
      "GSVIVT01034414001_52\t1\t[AT]GATA[GA]\n",
      "GSVIVT01034414001_52\t0\t[CGT]ACGTG[GT][AC]\n",
      "GSVIVT01034414001_52\t0\tTTGAC\n",
      "GSVIVT01034416001_53\t1\t[AT]GATA[GA]\n",
      "GSVIVT01034416001_53\t1\t[CGT]ACGTG[GT][AC]\n",
      "GSVIVT01034416001_53\t0\tTTGAC\n",
      "GSVIVT01034418001_54\t1\t[AT]GATA[GA]\n",
      "GSVIVT01034418001_54\t0\t[CGT]ACGTG[GT][AC]\n",
      "GSVIVT01034418001_54\t1\tTTGAC\n",
      "GSVIVT01034421001_55\t2\t[AT]GATA[GA]\n",
      "GSVIVT01034421001_55\t0\t[CGT]ACGTG[GT][AC]\n",
      "GSVIVT01034421001_55\t0\tTTGAC\n",
      "GSVIVT01034422001_56\t3\t[AT]GATA[GA]\n",
      "GSVIVT01034422001_56\t0\t[CGT]ACGTG[GT][AC]\n",
      "GSVIVT01034422001_56\t1\tTTGAC\n",
      "GSVIVT01034427001_57\t1\t[AT]GATA[GA]\n",
      "GSVIVT01034427001_57\t0\t[CGT]ACGTG[GT][AC]\n",
      "GSVIVT01034427001_57\t0\tTTGAC\n",
      "GSVIVT01034428001_58\t3\t[AT]GATA[GA]\n",
      "GSVIVT01034428001_58\t0\t[CGT]ACGTG[GT][AC]\n",
      "GSVIVT01034428001_58\t0\tTTGAC\n",
      "GSVIVT01034429001_59\t3\t[AT]GATA[GA]\n",
      "GSVIVT01034429001_59\t0\t[CGT]ACGTG[GT][AC]\n",
      "GSVIVT01034429001_59\t4\tTTGAC\n",
      "GSVIVT01034432001_60\t4\t[AT]GATA[GA]\n",
      "GSVIVT01034432001_60\t0\t[CGT]ACGTG[GT][AC]\n",
      "GSVIVT01034432001_60\t2\tTTGAC\n",
      "GSVIVT01034433001_61\t0\t[AT]GATA[GA]\n",
      "GSVIVT01034433001_61\t0\t[CGT]ACGTG[GT][AC]\n",
      "GSVIVT01034433001_61\t4\tTTGAC\n",
      "GSVIVT01034439001_62\t1\t[AT]GATA[GA]\n",
      "GSVIVT01034439001_62\t0\t[CGT]ACGTG[GT][AC]\n",
      "GSVIVT01034439001_62\t0\tTTGAC\n",
      "GSVIVT01034442001_63\t1\t[AT]GATA[GA]\n",
      "GSVIVT01034442001_63\t1\t[CGT]ACGTG[GT][AC]\n",
      "GSVIVT01034442001_63\t2\tTTGAC\n",
      "GSVIVT01034446001_64\t3\t[AT]GATA[GA]\n",
      "GSVIVT01034446001_64\t1\t[CGT]ACGTG[GT][AC]\n",
      "GSVIVT01034446001_64\t1\tTTGAC\n",
      "GSVIVT01034449001_65\t6\t[AT]GATA[GA]\n",
      "GSVIVT01034449001_65\t0\t[CGT]ACGTG[GT][AC]\n",
      "GSVIVT01034449001_65\t1\tTTGAC\n",
      "GSVIVT01034451001_66\t2\t[AT]GATA[GA]\n",
      "GSVIVT01034451001_66\t0\t[CGT]ACGTG[GT][AC]\n",
      "GSVIVT01034451001_66\t0\tTTGAC\n",
      "GSVIVT01037925001_67\t2\t[AT]GATA[GA]\n",
      "GSVIVT01037925001_67\t0\t[CGT]ACGTG[GT][AC]\n",
      "GSVIVT01037925001_67\t2\tTTGAC\n",
      "GSVIVT01037927001_68\t4\t[AT]GATA[GA]\n",
      "GSVIVT01037927001_68\t0\t[CGT]ACGTG[GT][AC]\n",
      "GSVIVT01037927001_68\t0\tTTGAC\n",
      "GSVIVT01037928001_69\t3\t[AT]GATA[GA]\n",
      "GSVIVT01037928001_69\t1\t[CGT]ACGTG[GT][AC]\n",
      "GSVIVT01037928001_69\t0\tTTGAC\n",
      "GSVIVT01037929001_70\t2\t[AT]GATA[GA]\n",
      "GSVIVT01037929001_70\t0\t[CGT]ACGTG[GT][AC]\n",
      "GSVIVT01037929001_70\t1\tTTGAC\n",
      "GSVIVT01037932001_71\t2\t[AT]GATA[GA]\n",
      "GSVIVT01037932001_71\t0\t[CGT]ACGTG[GT][AC]\n",
      "GSVIVT01037932001_71\t1\tTTGAC\n",
      "GSVIVT01037936001_72\t2\t[AT]GATA[GA]\n",
      "GSVIVT01037936001_72\t0\t[CGT]ACGTG[GT][AC]\n",
      "GSVIVT01037936001_72\t0\tTTGAC\n",
      "GSVIVT01037941001_73\t1\t[AT]GATA[GA]\n",
      "GSVIVT01037941001_73\t0\t[CGT]ACGTG[GT][AC]\n",
      "GSVIVT01037941001_73\t0\tTTGAC\n",
      "GSVIVT01037942001_74\t1\t[AT]GATA[GA]\n",
      "GSVIVT01037942001_74\t2\t[CGT]ACGTG[GT][AC]\n",
      "GSVIVT01037942001_74\t3\tTTGAC\n",
      "GSVIVT01037944001_75\t0\t[AT]GATA[GA]\n",
      "GSVIVT01037944001_75\t0\t[CGT]ACGTG[GT][AC]\n",
      "GSVIVT01037944001_75\t1\tTTGAC\n",
      "GSVIVT01037945001_76\t1\t[AT]GATA[GA]\n",
      "GSVIVT01037945001_76\t0\t[CGT]ACGTG[GT][AC]\n",
      "GSVIVT01037945001_76\t1\tTTGAC\n",
      "GSVIVT01037947001_77\t0\t[AT]GATA[GA]\n",
      "GSVIVT01037947001_77\t0\t[CGT]ACGTG[GT][AC]\n",
      "GSVIVT01037947001_77\t3\tTTGAC\n",
      "GSVIVT01037948001_78\t0\t[AT]GATA[GA]\n",
      "GSVIVT01037948001_78\t0\t[CGT]ACGTG[GT][AC]\n",
      "GSVIVT01037948001_78\t1\tTTGAC\n",
      "GSVIVT01037949001_79\t1\t[AT]GATA[GA]\n",
      "GSVIVT01037949001_79\t0\t[CGT]ACGTG[GT][AC]\n",
      "GSVIVT01037949001_79\t3\tTTGAC\n",
      "GSVIVT01037954001_80\t5\t[AT]GATA[GA]\n",
      "GSVIVT01037954001_80\t0\t[CGT]ACGTG[GT][AC]\n",
      "GSVIVT01037954001_80\t2\tTTGAC\n",
      "GSVIVT01037956001_81\t1\t[AT]GATA[GA]\n",
      "GSVIVT01037956001_81\t0\t[CGT]ACGTG[GT][AC]\n",
      "GSVIVT01037956001_81\t1\tTTGAC\n",
      "GSVIVT01037957001_82\t1\t[AT]GATA[GA]\n",
      "GSVIVT01037957001_82\t1\t[CGT]ACGTG[GT][AC]\n",
      "GSVIVT01037957001_82\t0\tTTGAC\n",
      "GSVIVT01037958001_83\t3\t[AT]GATA[GA]\n",
      "GSVIVT01037958001_83\t0\t[CGT]ACGTG[GT][AC]\n",
      "GSVIVT01037958001_83\t0\tTTGAC\n",
      "GSVIVT01037960001_84\t3\t[AT]GATA[GA]\n",
      "GSVIVT01037960001_84\t0\t[CGT]ACGTG[GT][AC]\n",
      "GSVIVT01037960001_84\t0\tTTGAC\n",
      "GSVIVT01037962001_85\t1\t[AT]GATA[GA]\n",
      "GSVIVT01037962001_85\t0\t[CGT]ACGTG[GT][AC]\n",
      "GSVIVT01037962001_85\t1\tTTGAC\n",
      "GSVIVT01037963001_86\t3\t[AT]GATA[GA]\n",
      "GSVIVT01037963001_86\t0\t[CGT]ACGTG[GT][AC]\n",
      "GSVIVT01037963001_86\t3\tTTGAC\n",
      "GSVIVT01037969001_87\t4\t[AT]GATA[GA]\n",
      "GSVIVT01037969001_87\t0\t[CGT]ACGTG[GT][AC]\n",
      "GSVIVT01037969001_87\t0\tTTGAC\n",
      "GSVIVT01037970001_88\t0\t[AT]GATA[GA]\n",
      "GSVIVT01037970001_88\t0\t[CGT]ACGTG[GT][AC]\n",
      "GSVIVT01037970001_88\t1\tTTGAC\n",
      "GSVIVT01037972001_89\t3\t[AT]GATA[GA]\n",
      "GSVIVT01037972001_89\t0\t[CGT]ACGTG[GT][AC]\n",
      "GSVIVT01037972001_89\t1\tTTGAC\n",
      "GSVIVT01037973001_90\t0\t[AT]GATA[GA]\n",
      "GSVIVT01037973001_90\t0\t[CGT]ACGTG[GT][AC]\n",
      "GSVIVT01037973001_90\t0\tTTGAC\n",
      "GSVIVT01037975001_91\t0\t[AT]GATA[GA]\n",
      "GSVIVT01037975001_91\t0\t[CGT]ACGTG[GT][AC]\n",
      "GSVIVT01037975001_91\t1\tTTGAC\n",
      "GSVIVT01037976001_92\t3\t[AT]GATA[GA]\n",
      "GSVIVT01037976001_92\t0\t[CGT]ACGTG[GT][AC]\n",
      "GSVIVT01037976001_92\t1\tTTGAC\n",
      "GSVIVT01037977001_93\t1\t[AT]GATA[GA]\n",
      "GSVIVT01037977001_93\t0\t[CGT]ACGTG[GT][AC]\n",
      "GSVIVT01037977001_93\t1\tTTGAC\n",
      "GSVIVT01037978001_94\t1\t[AT]GATA[GA]\n",
      "GSVIVT01037978001_94\t0\t[CGT]ACGTG[GT][AC]\n",
      "GSVIVT01037978001_94\t2\tTTGAC\n",
      "GSVIVT01037979001_95\t2\t[AT]GATA[GA]\n",
      "GSVIVT01037979001_95\t0\t[CGT]ACGTG[GT][AC]\n",
      "GSVIVT01037979001_95\t1\tTTGAC\n",
      "GSVIVT01037982001_96\t2\t[AT]GATA[GA]\n",
      "GSVIVT01037982001_96\t0\t[CGT]ACGTG[GT][AC]\n",
      "GSVIVT01037982001_96\t0\tTTGAC\n",
      "GSVIVT01037983001_97\t5\t[AT]GATA[GA]\n",
      "GSVIVT01037983001_97\t0\t[CGT]ACGTG[GT][AC]\n",
      "GSVIVT01037983001_97\t1\tTTGAC\n",
      "GSVIVT01037987001_98\t1\t[AT]GATA[GA]\n",
      "GSVIVT01037987001_98\t0\t[CGT]ACGTG[GT][AC]\n",
      "GSVIVT01037987001_98\t3\tTTGAC\n",
      "GSVIVT01037988001_99\t0\t[AT]GATA[GA]\n",
      "GSVIVT01037988001_99\t0\t[CGT]ACGTG[GT][AC]\n",
      "GSVIVT01037988001_99\t0\tTTGAC\n",
      "GSVIVT01037993001_100\t2\t[AT]GATA[GA]\n",
      "GSVIVT01037993001_100\t0\t[CGT]ACGTG[GT][AC]\n",
      "GSVIVT01037993001_100\t1\tTTGAC\n",
      "GSVIVT01038001001_101\t2\t[AT]GATA[GA]\n",
      "GSVIVT01038001001_101\t1\t[CGT]ACGTG[GT][AC]\n",
      "GSVIVT01038001001_101\t0\tTTGAC\n",
      "GSVIVT01038006001_102\t2\t[AT]GATA[GA]\n",
      "GSVIVT01038006001_102\t0\t[CGT]ACGTG[GT][AC]\n",
      "GSVIVT01038006001_102\t3\tTTGAC\n",
      "GSVIVT01038007001_103\t0\t[AT]GATA[GA]\n",
      "GSVIVT01038007001_103\t0\t[CGT]ACGTG[GT][AC]\n",
      "GSVIVT01038007001_103\t2\tTTGAC\n",
      "GSVIVT01038008001_104\t1\t[AT]GATA[GA]\n",
      "GSVIVT01038008001_104\t0\t[CGT]ACGTG[GT][AC]\n",
      "GSVIVT01038008001_104\t2\tTTGAC\n",
      "GSVIVT01038011001_105\t1\t[AT]GATA[GA]\n",
      "GSVIVT01038011001_105\t0\t[CGT]ACGTG[GT][AC]\n",
      "GSVIVT01038011001_105\t0\tTTGAC\n",
      "GSVIVT01038013001_106\t0\t[AT]GATA[GA]\n",
      "GSVIVT01038013001_106\t0\t[CGT]ACGTG[GT][AC]\n",
      "GSVIVT01038013001_106\t0\tTTGAC\n"
     ]
    }
   ],
   "source": [
    "main()"
   ]
  }
 ],
 "metadata": {
  "kernelspec": {
   "display_name": "Python 3 (system-wide)",
   "language": "python",
   "metadata": {
    "cocalc": {
     "description": "Python 3 programming language",
     "priority": 100,
     "url": "https://www.python.org/"
    }
   },
   "name": "python3",
   "resource_dir": "/ext/jupyter/kernels/python3"
  },
  "language_info": {
   "codemirror_mode": {
    "name": "ipython",
    "version": 3
   },
   "file_extension": ".py",
   "mimetype": "text/x-python",
   "name": "python",
   "nbconvert_exporter": "python",
   "pygments_lexer": "ipython3",
   "version": "3.8.10"
  }
 },
 "nbformat": 4,
 "nbformat_minor": 4
}