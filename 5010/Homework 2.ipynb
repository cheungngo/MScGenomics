{
 "cells": [
  {
   "cell_type": "markdown",
   "metadata": {
    "collapsed": false
   },
   "source": [
    "# GNBF 5010 Homework 2"
   ]
  },
  {
   "cell_type": "markdown",
   "metadata": {
    "collapsed": false
   },
   "source": [
    "## Question 1: Unknown Letters"
   ]
  },
  {
   "cell_type": "markdown",
   "metadata": {
    "collapsed": false
   },
   "source": [
    "The input file seqs.txt contains 516 sequences, with each sequence in a single line. Write a\n",
    "program to list which letters in the file seqs.txt are not A, T, C, or G. It should only list each\n",
    "letter once. Hint: Start with an empty list for unknown letters. Then use two loops to scan letters\n",
    "in each sequences."
   ]
  },
  {
   "cell_type": "code",
   "execution_count": 39,
   "metadata": {
    "collapsed": false,
    "scrolled": true
   },
   "outputs": [
   ],
   "source": [
    "'''Unknown Letters (version 1 - using list)'''\n",
    "\n",
    "import io\n",
    "\n",
    "def unknown_letters_1(filepath):\n",
    "    \n",
    "    # calculate the number of lines in the textfile\n",
    "    no_of_lines = sum(1 for i in io.open(filepath))\n",
    "\n",
    "    with io.open(filepath) as fh:\n",
    "\n",
    "        # create an empty list\n",
    "        ls = list()\n",
    "\n",
    "        # reading line by line\n",
    "        for i in range(no_of_lines):\n",
    "            line = fh.readline().strip()\n",
    "\n",
    "            # iterating each char in each line\n",
    "            for k in line:\n",
    "                if (k != \"A\") & (k != \"T\") & (k != \"C\") & (k != \"G\") & (k not in ls):\n",
    "                    ls.append(k)\n",
    "\n",
    "    # printing out the list\n",
    "    print(sorted(ls))"
   ]
  },
  {
   "cell_type": "code",
   "execution_count": 40,
   "metadata": {
    "collapsed": false
   },
   "outputs": [
    {
     "name": "stdout",
     "output_type": "stream",
     "text": [
      "['H', 'K', 'M', 'N', 'R', 'S', 'W', 'Y']\n"
     ]
    }
   ],
   "source": [
    "# Running the program\n",
    "unknown_letters_1(\"data/seqs.txt\")"
   ]
  },
  {
   "cell_type": "code",
   "execution_count": 41,
   "metadata": {
    "collapsed": false
   },
   "outputs": [
   ],
   "source": [
    "'''Unknown Letters (version 2 - using dict)'''\n",
    "\n",
    "import io\n",
    "\n",
    "def unknown_letters_2(filepath):\n",
    "    \n",
    "    # calculate the number of lines in the textfile\n",
    "    no_of_lines = sum(1 for i in io.open(filepath))\n",
    "\n",
    "    with io.open(filepath) as fh:\n",
    "\n",
    "        # create an empty dictionary\n",
    "        dc = dict()\n",
    "\n",
    "        # reading line by line\n",
    "        for i in range(no_of_lines):\n",
    "            line = fh.readline().strip()\n",
    "\n",
    "            # iterating each char in each line\n",
    "            for char in line:\n",
    "                if char in dc.keys():\n",
    "                    dc[char] += 1\n",
    "                else:\n",
    "                    dc[char] = 1\n",
    "    \n",
    "    # printing out the answers\n",
    "    for k in sorted(dc.keys()):\n",
    "        if (k != \"A\") & (k != \"T\") & (k != \"C\") & (k != \"G\"):\n",
    "            print(k)"
   ]
  },
  {
   "cell_type": "code",
   "execution_count": 42,
   "metadata": {
    "collapsed": false
   },
   "outputs": [
    {
     "name": "stdout",
     "output_type": "stream",
     "text": [
      "H\n",
      "K\n",
      "M\n",
      "N\n",
      "R\n",
      "S\n",
      "W\n",
      "Y\n"
     ]
    }
   ],
   "source": [
    "unknown_letters_2(\"data/seqs.txt\")"
   ]
  },
  {
   "cell_type": "markdown",
   "metadata": {
    "collapsed": false
   },
   "source": [
    "## Question 2: Sequence Properties"
   ]
  },
  {
   "cell_type": "markdown",
   "metadata": {
    "collapsed": false
   },
   "source": [
    "Write a program, 1) read all sequences in seqs.txt and store them into a list called seqs, 2)\n",
    "prompt the user a menu for selection of various properties of the seuqences, and 3) show the\n",
    "corresponding results based on user’s choice.\n",
    "The selection menu should include the following items. Please use separate functions in your\n",
    "program for the processes in options 1 to 4"
   ]
  },
  {
   "cell_type": "markdown",
   "metadata": {
    "collapsed": false
   },
   "source": [
    "#### 1) Number of sequences in the input file"
   ]
  },
  {
   "cell_type": "code",
   "execution_count": 43,
   "metadata": {
    "collapsed": false
   },
   "outputs": [
   ],
   "source": [
    "'''Calculating the number of sequences in the input file'''\n",
    "\n",
    "import io\n",
    "\n",
    "def no_of_line(filepath):\n",
    "    \n",
    "    ans = sum(1 for i in io.open(filepath))\n",
    "    print(f\"The number of sequences in the input file is {ans}\")"
   ]
  },
  {
   "cell_type": "code",
   "execution_count": 44,
   "metadata": {
    "collapsed": false
   },
   "outputs": [
    {
     "name": "stdout",
     "output_type": "stream",
     "text": [
      "The number of sequences in the input file is 516\n"
     ]
    }
   ],
   "source": [
    "# testing the first function\n",
    "\n",
    "no_of_line(\"data/seqs.txt\")"
   ]
  },
  {
   "cell_type": "markdown",
   "metadata": {
    "collapsed": false
   },
   "source": [
    "#### 2) Number of occurrences of a specific sequence, e.g. GGATC. The program will then prompt another message for the input of the target sequence."
   ]
  },
  {
   "cell_type": "code",
   "execution_count": 45,
   "metadata": {
    "collapsed": false
   },
   "outputs": [
   ],
   "source": [
    "'''Calculating the number of occurrences of a specific sequence'''\n",
    "\n",
    "def no_of_occ(filepath):\n",
    "    \n",
    "    # Prompting for input\n",
    "    seq = str(input(\"Please input the target sequence:  \"))\n",
    "    \n",
    "    # number of lines\n",
    "    no = sum(1 for i in io.open(filepath))\n",
    "    \n",
    "    # initializing the counter and other variables:\n",
    "    count = 0\n",
    "    seqlen = len(seq)\n",
    "    \n",
    "    with io.open(filepath) as fh:\n",
    "        \n",
    "        # reading line by line\n",
    "        for i in range(no):\n",
    "            line = fh.readline().strip()\n",
    "\n",
    "            # iterating each char in each line\n",
    "            for k in range(len(line) - seqlen + 1):\n",
    "                if seq == line[k:k+seqlen]:\n",
    "                    count += 1\n",
    "                    \n",
    "    # returning the answer\n",
    "    print(f\"the number of occurrences of {seq} is {count}\")"
   ]
  },
  {
   "cell_type": "code",
   "execution_count": 46,
   "metadata": {
    "cocalc": {
     "outputs": {
      "0": {
       "name": "input",
       "opts": {
        "password": false,
        "prompt": "Please input the target sequence:  "
       },
       "output_type": "stream",
       "value": "GGATC"
      }
     }
    },
    "collapsed": false
   },
   "outputs": [
    {
     "name": "stdout",
     "output_type": "stream",
     "text": "Please input the target sequence:   GGATC"
    },
    {
     "name": "stdout",
     "output_type": "stream",
     "text": [
      "the number of occurrences of GGATC is 357\n"
     ]
    }
   ],
   "source": [
    "# testing the function\n",
    "\n",
    "no_of_occ(\"data/seqs.txt\")"
   ]
  },
  {
   "cell_type": "markdown",
   "metadata": {
    "collapsed": false
   },
   "source": [
    "#### 3) Number of sequences with length ≥ a particular length, e.g. 500. The program will then ask for the minimum length."
   ]
  },
  {
   "cell_type": "code",
   "execution_count": 7,
   "metadata": {
    "collapsed": false
   },
   "outputs": [
   ],
   "source": [
    "'''Number of sequences with length >= x'''\n",
    "\n",
    "def no_seq_gt_x(filepath):\n",
    "    \n",
    "    # Input the specific length, and input validation\n",
    "    splen = input(\"Please input a particular length in integer:  \")\n",
    "    assert type(int(splen)) == int, \"Error, please input an integer\"\n",
    "    splen = int(splen)\n",
    "    \n",
    "    # number of lines\n",
    "    no = sum(1 for i in io.open(filepath))\n",
    "    \n",
    "    # initializing the counter:\n",
    "    count = 0\n",
    "    \n",
    "    with io.open(filepath) as fh:\n",
    "        \n",
    "        # reading line by line\n",
    "        for i in range(no):\n",
    "            line = fh.readline().strip()\n",
    "            if len(line) >= splen:\n",
    "                count += 1\n",
    "                \n",
    "    # returning the answer\n",
    "    \n",
    "    print(f\"The number of sequences with length ≥ {splen} is {count}\")"
   ]
  },
  {
   "cell_type": "code",
   "execution_count": 8,
   "metadata": {
    "cocalc": {
     "outputs": {
      "0": {
       "name": "input",
       "opts": {
        "password": false,
        "prompt": "Please input a particular length in integer:  "
       },
       "output_type": "stream",
       "value": "500"
      }
     }
    },
    "collapsed": false
   },
   "outputs": [
    {
     "name": "stdout",
     "output_type": "stream",
     "text": "Please input a particular length in integer:   500"
    },
    {
     "name": "stdout",
     "output_type": "stream",
     "text": [
      "The number of sequences with length ≥ 500 is 347\n"
     ]
    }
   ],
   "source": [
    "# Testing the function\n",
    "\n",
    "no_seq_gt_x(\"data/seqs.txt\")"
   ]
  },
  {
   "cell_type": "markdown",
   "metadata": {
    "collapsed": false
   },
   "source": [
    "#### 4) Number of sequences with GC content ≥ a given value, e.g. 50%. The GC content could be calculated as (num_of_G + num_of_C) / seq_total_len"
   ]
  },
  {
   "cell_type": "code",
   "execution_count": 9,
   "metadata": {
    "collapsed": false
   },
   "outputs": [
   ],
   "source": [
    "def no_seq_gt_gc(filepath):\n",
    "    \n",
    "    # Input the GC value, and input validation\n",
    "    gc = input(\"Please input a particular GC value in percentage (omit the % sign):  \")\n",
    "    assert type(int(gc)) == int, \"Error, please input an integer\"\n",
    "    gc = int(gc)\n",
    "    \n",
    "    # number of lines\n",
    "    no = sum(1 for i in io.open(filepath))\n",
    "    \n",
    "    # initializing the counter:\n",
    "    count = 0\n",
    "    \n",
    "    with io.open(filepath) as fh:\n",
    "        \n",
    "        # reading line by line\n",
    "        for i in range(no):\n",
    "            line = fh.readline().strip()\n",
    "            \n",
    "            # counting the GC content\n",
    "            gcline = 0\n",
    "            for char in line:\n",
    "                if (char == \"G\") or (char == \"C\"):\n",
    "                    gcline += 1\n",
    "            gcpercent = gcline / len(line) * 100\n",
    "            \n",
    "            # comparing to the ref GC\n",
    "            if gcpercent >= gc:\n",
    "                count += 1\n",
    "                \n",
    "    # returning the answer\n",
    "    print (f\"The number of sequences with GC content ≥ {gc} is {count}\")"
   ]
  },
  {
   "cell_type": "code",
   "execution_count": 10,
   "metadata": {
    "cocalc": {
     "outputs": {
      "0": {
       "name": "input",
       "opts": {
        "password": false,
        "prompt": "Please input a particular GC value in percentage (omit the % sign):  "
       },
       "output_type": "stream",
       "value": "50"
      }
     }
    },
    "collapsed": false
   },
   "outputs": [
    {
     "name": "stdout",
     "output_type": "stream",
     "text": "Please input a particular GC value in percentage (omit the % sign):   50"
    },
    {
     "name": "stdout",
     "output_type": "stream",
     "text": [
      "The number of sequences with GC content ≥ 50 is 255\n"
     ]
    }
   ],
   "source": [
    "no_seq_gt_gc(\"data/seqs.txt\")"
   ]
  },
  {
   "cell_type": "markdown",
   "metadata": {
    "collapsed": false
   },
   "source": [
    "#### 5) The combination of choices 3 and 4: Number of sequences with length ≥ a particular length and with GC content ≥ a particular value."
   ]
  },
  {
   "cell_type": "code",
   "execution_count": 13,
   "metadata": {
    "collapsed": false
   },
   "outputs": [
   ],
   "source": [
    "'''The combination of choices 3 and 4: Number of sequences with length ≥ a particular length and with GC content ≥ a particular value'''\n",
    "\n",
    "def comb_3_4(filepath):\n",
    "    \n",
    "    # Input the specific length, and input validation\n",
    "    splen = input(\"Please input a particular length in integer:  \")\n",
    "    assert type(int(splen)) == int, \"Error, please input an integer\"\n",
    "    splen = int(splen)\n",
    "    \n",
    "    # Input the GC value, and input validation\n",
    "    gc = input(\"Please input a particular GC value in percentage (omit the % sign):  \")\n",
    "    assert type(int(gc)) == int, \"Error, please input an integer\"\n",
    "    gc = int(gc)\n",
    "    \n",
    "    # number of lines\n",
    "    no = sum(1 for i in io.open(filepath))\n",
    "    \n",
    "    # initializing the counter:\n",
    "    count = 0\n",
    "    \n",
    "    with io.open(filepath) as fh:\n",
    "        \n",
    "        # reading line by line\n",
    "        for i in range(no):\n",
    "            line = fh.readline().strip()\n",
    "            \n",
    "            # counting the GC content\n",
    "            gcline = 0\n",
    "            for char in line:\n",
    "                if (char == \"G\") or (char == \"C\"):\n",
    "                    gcline += 1\n",
    "            gcpercent = gcline / len(line) * 100\n",
    "            \n",
    "            # Need to satisfy both condition:\n",
    "            if (gcpercent >= gc) & (len(line) >= splen):\n",
    "                count += 1\n",
    "            \n",
    "    # returning the answer\n",
    "    print(f\"The number of sequences with length ≥ {splen} and with GC content ≥ {gc} is {count}\")"
   ]
  },
  {
   "cell_type": "code",
   "execution_count": 14,
   "metadata": {
    "cocalc": {
     "outputs": {
      "0": {
       "name": "input",
       "opts": {
        "password": false,
        "prompt": "Please input a particular length in integer:  "
       },
       "output_type": "stream",
       "value": "600"
      },
      "1": {
       "name": "input",
       "opts": {
        "password": false,
        "prompt": "Please input a particular GC value in percentage (omit the % sign):  "
       },
       "output_type": "stream",
       "value": "60"
      }
     }
    },
    "collapsed": false
   },
   "outputs": [
    {
     "name": "stdout",
     "output_type": "stream",
     "text": "Please input a particular length in integer:   600"
    },
    {
     "name": "stdout",
     "output_type": "stream",
     "text": "Please input a particular GC value in percentage (omit the % sign):   60"
    },
    {
     "name": "stdout",
     "output_type": "stream",
     "text": [
      "The number of sequences with length ≥ 600 and with GC content ≥ 60 is 11\n"
     ]
    }
   ],
   "source": [
    "# testing the function\n",
    "\n",
    "comb_3_4(\"data/seqs.txt\")"
   ]
  },
  {
   "cell_type": "markdown",
   "metadata": {
    "collapsed": false
   },
   "source": [
    "#### A main function to combine all together:"
   ]
  },
  {
   "cell_type": "code",
   "execution_count": 99,
   "metadata": {
    "collapsed": false
   },
   "outputs": [
   ],
   "source": [
    "import sys\n",
    "\n",
    "def all(filepath):\n",
    "    \n",
    "    print(\"Please select the sequences property that you want to display, or press 0 to exit the program.\")\n",
    "    print(\"\")\n",
    "    print(\"1) Total number of sequences\")\n",
    "    print(\"2) Number of pattern occurrences\")\n",
    "    print(\"3) Number of sequences with length >= min_len\")\n",
    "    print(\"4) Number of sequences with GC% >= min_GC\")\n",
    "    print(\"5) Number of sequences with length >= min_len and GC% >= min_GC\")\n",
    "    \n",
    "    # input validation\n",
    "    option = int(input(\"Enter the choice  \"))\n",
    "    assert (option >= 0) & (option <= 5), \"Error, please input an integer between 0 to 5\"\n",
    "    \n",
    "    # calling the functions options by options\n",
    "    if option == 0:\n",
    "        sys.exit()\n",
    "    elif option == 1:\n",
    "        no_of_line(filepath)\n",
    "    elif option == 2:\n",
    "        no_of_occ(filepath)\n",
    "    elif option == 3:\n",
    "        no_seq_gt_x(filepath)\n",
    "    elif option == 4:\n",
    "        no_seq_gt_gc(filepath)\n",
    "    elif option == 5:\n",
    "        comb_3_4(filepath)\n",
    "    else:\n",
    "        print(\"Error, please input an integer between 0 to 5\")\n",
    "        print(\"\")\n",
    "        all(filepath)\n",
    "    \n",
    "    print(\"\")\n",
    "    print(\"==============================\")"
   ]
  },
  {
   "cell_type": "code",
   "execution_count": 100,
   "metadata": {
    "cocalc": {
     "outputs": {
      "1": {
       "name": "input",
       "opts": {
        "password": false,
        "prompt": "Enter the choice  "
       },
       "output_type": "stream",
       "value": "3"
      },
      "2": {
       "name": "input",
       "opts": {
        "password": false,
        "prompt": "Please input a particular length in integer:  "
       },
       "output_type": "stream",
       "value": "500"
      }
     }
    },
    "collapsed": false
   },
   "outputs": [
    {
     "name": "stdout",
     "output_type": "stream",
     "text": [
      "Please select the sequences property that you want to display, or press 0 to exit the program.\n",
      "\n",
      "1) Total number of sequences\n",
      "2) Number of pattern occurrences\n",
      "3) Number of sequences with length >= min_len\n",
      "4) Number of sequences with GC% >= min_GC\n",
      "5) Number of sequences with length >= min_len and GC% >= min_GC\n"
     ]
    },
    {
     "name": "stdout",
     "output_type": "stream",
     "text": "Enter the choice   3"
    },
    {
     "name": "stdout",
     "output_type": "stream",
     "text": "Please input a particular length in integer:   500"
    },
    {
     "name": "stdout",
     "output_type": "stream",
     "text": [
      "The number of sequences with length ≥ 500 is 347\n",
      "\n",
      "==============================\n"
     ]
    }
   ],
   "source": [
    "all(\"data/seqs.txt\")"
   ]
  },
  {
   "cell_type": "code",
   "execution_count": 101,
   "metadata": {
    "cocalc": {
     "outputs": {
      "1": {
       "name": "input",
       "opts": {
        "password": false,
        "prompt": "Enter the choice  "
       },
       "output_type": "stream",
       "value": "5"
      },
      "2": {
       "name": "input",
       "opts": {
        "password": false,
        "prompt": "Please input a particular length in integer:  "
       },
       "output_type": "stream",
       "value": "600"
      },
      "3": {
       "name": "input",
       "opts": {
        "password": false,
        "prompt": "Please input a particular GC value in percentage (omit the % sign):  "
       },
       "output_type": "stream",
       "value": "60"
      }
     }
    },
    "collapsed": false
   },
   "outputs": [
    {
     "name": "stdout",
     "output_type": "stream",
     "text": [
      "Please select the sequences property that you want to display, or press 0 to exit the program.\n",
      "\n",
      "1) Total number of sequences\n",
      "2) Number of pattern occurrences\n",
      "3) Number of sequences with length >= min_len\n",
      "4) Number of sequences with GC% >= min_GC\n",
      "5) Number of sequences with length >= min_len and GC% >= min_GC\n"
     ]
    },
    {
     "name": "stdout",
     "output_type": "stream",
     "text": "Enter the choice   5"
    },
    {
     "name": "stdout",
     "output_type": "stream",
     "text": "Please input a particular length in integer:   600"
    },
    {
     "name": "stdout",
     "output_type": "stream",
     "text": "Please input a particular GC value in percentage (omit the % sign):   60"
    },
    {
     "name": "stdout",
     "output_type": "stream",
     "text": [
      "The number of sequences with length ≥ 600 and with GC content ≥ 60 is 11\n",
      "\n",
      "==============================\n"
     ]
    }
   ],
   "source": [
    "all(\"data/seqs.txt\")"
   ]
  },
  {
   "cell_type": "markdown",
   "metadata": {
    "collapsed": false
   },
   "source": [
    "## Question 3: Average of tests"
   ]
  },
  {
   "cell_type": "markdown",
   "metadata": {
    "collapsed": false
   },
   "source": [
    "Suppose test1.txt, test2.txt and test3.txt are results from three different\n",
    "experiments. The gene set used in each experiment is slightly different. Each row in the data file\n",
    "represents one gene, with the following format:"
   ]
  },
  {
   "cell_type": "markdown",
   "metadata": {
    "collapsed": false
   },
   "source": [
    "    Accession_Number Number Number …"
   ]
  },
  {
   "cell_type": "markdown",
   "metadata": {
    "collapsed": false
   },
   "source": [
    "    1) First, load the data from all files to a single dictionary, with the accession number as the key and the reference to a list of data from all experiments as the value.\n",
    "\n",
    "2) Then calculate the average for each gene and store them in another dictionary.\n",
    "\n",
    "3) At the end, write this new dictionary to an output file called test_averages.txt,\n",
    "    where the first column is the accession number of gene and the second column is the\n",
    "    corresponding average value."
   ]
  },
  {
   "cell_type": "markdown",
   "metadata": {
    "collapsed": false
   },
   "source": [
    "#### 1) First, load the data from all files to a single dictionary, with the accession number as the key and the reference to a list of data from all experiments as the value."
   ]
  },
  {
   "cell_type": "code",
   "execution_count": 48,
   "metadata": {
    "collapsed": false
   },
   "outputs": [
   ],
   "source": [
    "'''A function to load the data into the dict'''\n",
    "\n",
    "import io\n",
    "\n",
    "def as_dict(filepath):\n",
    "    \n",
    "    # number of lines\n",
    "    no = sum(1 for i in io.open(filepath))\n",
    "    \n",
    "    # an empty dict\n",
    "    dc = dict()\n",
    "    \n",
    "    with io.open(filepath) as fh:\n",
    "        \n",
    "        # reading line by line\n",
    "        for i in range(no):\n",
    "            line = fh.readline().strip().split(\"\\t\")\n",
    "            dc[line[0]] = [float(j) for j in line[1:]] # this is important for subsequent calculations\n",
    "    \n",
    "    # returning the dict\n",
    "    return(dc)"
   ]
  },
  {
   "cell_type": "code",
   "execution_count": 49,
   "metadata": {
    "collapsed": false
   },
   "outputs": [
    {
     "name": "stdout",
     "output_type": "stream",
     "text": [
      "1329\n",
      "1336\n",
      "1344\n"
     ]
    }
   ],
   "source": [
    "# A test to test if the keys in dictionaries overlaps:\n",
    "\n",
    "d1 = as_dict(\"data/test1.txt\")\n",
    "d2 = as_dict(\"data/test2.txt\")\n",
    "d3 = as_dict(\"data/test3.txt\")\n",
    "print(len(d1.keys() & d2.keys()))\n",
    "print(len(d3.keys() & d2.keys()))\n",
    "print(len(d3.keys() & d1.keys()))"
   ]
  },
  {
   "cell_type": "code",
   "execution_count": 50,
   "metadata": {
    "collapsed": false
   },
   "outputs": [
   ],
   "source": [
    "'''A function to merge two dictionaries with overlapping keys'''\n",
    "\n",
    "def merge_dict(dict1, dict2):\n",
    "    \n",
    "    # make a copy of dict1\n",
    "    dc = dict1.copy()\n",
    "    \n",
    "    # iteration against the keys in dict2\n",
    "    for key in dict2.keys():\n",
    "        if key in dc.keys():\n",
    "            dc[key] = dc[key] + dict2[key]\n",
    "        else:\n",
    "            dc[key] = dict2[key]\n",
    "    \n",
    "    # sorting the dictionary by key\n",
    "    dc_sort = dict()\n",
    "    sorted_keys = sorted(dc.keys())\n",
    "    for i in sorted_keys:\n",
    "        dc_sort[i] = dc[i]\n",
    "        \n",
    "    # returning the combined dictionary\n",
    "    return(dc_sort)"
   ]
  },
  {
   "cell_type": "code",
   "execution_count": 51,
   "metadata": {
    "collapsed": false
   },
   "outputs": [
    {
     "name": "stdout",
     "output_type": "stream",
     "text": [
      "[0.3049, 6.3518, 1.4233, 4.2769]\n",
      "[2.8967, 8.115]\n",
      "[0.3049, 6.3518, 1.4233, 4.2769, 2.8967, 8.115]\n"
     ]
    }
   ],
   "source": [
    "# Testing the above function\n",
    "\n",
    "d4 = merge_dict(d1,d2)\n",
    "d5 = merge_dict(d4,d3)\n",
    "print(d1[\"D86958\"])\n",
    "print(d2[\"D86958\"])\n",
    "print(d4[\"D86958\"])"
   ]
  },
  {
   "cell_type": "markdown",
   "metadata": {
    "collapsed": false
   },
   "source": [
    "#### 2) Then calculate the average for each gene and store them in another dictionary."
   ]
  },
  {
   "cell_type": "code",
   "execution_count": 52,
   "metadata": {
    "collapsed": false
   },
   "outputs": [
   ],
   "source": [
    "'''function to calculate the average for each gene'''\n",
    "\n",
    "def avg_dict(dc):\n",
    "    \n",
    "    dc_avg = dict()\n",
    "    \n",
    "    for i in dc.keys():\n",
    "        dc_avg[i] = sum(dc[i]) / len(dc[i])\n",
    "    \n",
    "    return(dc_avg)"
   ]
  },
  {
   "cell_type": "code",
   "execution_count": 53,
   "metadata": {
    "collapsed": false
   },
   "outputs": [
    {
     "name": "stdout",
     "output_type": "stream",
     "text": [
      "3.894766666666667\n"
     ]
    }
   ],
   "source": [
    "# The averaged dictionary\n",
    "d6 = avg_dict(d5)\n",
    "print(d6[\"D86958\"])"
   ]
  },
  {
   "cell_type": "markdown",
   "metadata": {
    "collapsed": false
   },
   "source": [
    "#### 3) At the end, write this new dictionary to an output file called test_averages.txt, where the first column is the accession number of gene and the second column is the corresponding average value."
   ]
  },
  {
   "cell_type": "code",
   "execution_count": 54,
   "metadata": {
    "collapsed": false
   },
   "outputs": [
   ],
   "source": [
    "'''A function to write an output file'''\n",
    "\n",
    "def write_dict(dc, outpath):\n",
    "    \n",
    "    no = sum(1 for i in dc.keys())\n",
    "    \n",
    "    with io.open(outpath, \"w\") as fh:\n",
    "        for k in dc.keys():\n",
    "            fh.write(str(k) + \"\\t\" + str(dc[k]) + \"\\n\")"
   ]
  },
  {
   "cell_type": "code",
   "execution_count": 55,
   "metadata": {
    "collapsed": false
   },
   "outputs": [
   ],
   "source": [
    "# trying out the function\n",
    "\n",
    "write_dict(d6, \"data/test_average.txt\")"
   ]
  },
  {
   "cell_type": "markdown",
   "metadata": {
    "collapsed": false
   },
   "source": [
    "## Question 4: Molecular Weight"
   ]
  },
  {
   "cell_type": "markdown",
   "metadata": {
    "collapsed": false
   },
   "source": [
    "Write a program with the following steps."
   ]
  },
  {
   "cell_type": "markdown",
   "metadata": {
    "collapsed": false
   },
   "source": [
    "#### 1) Make a python dictionary of one-letter amino acids codes (the keys) to their molecular weight (the values), for all 22 amino acids. The molecular weight of 22 amino acids can be found in provided table. For example, the molecular weight of C (Cysteine) is 121. "
   ]
  },
  {
   "cell_type": "code",
   "execution_count": 56,
   "metadata": {
    "collapsed": false
   },
   "outputs": [
   ],
   "source": [
    "def aa_table():\n",
    "\n",
    "    dc = {\"A\":89,\n",
    "         \"R\":174,\n",
    "         \"N\":132,\n",
    "         \"D\":133,\n",
    "         \"B\":133,\n",
    "         \"C\":121,\n",
    "         \"Q\":146,\n",
    "         \"E\":147,\n",
    "         \"Z\":147,\n",
    "         \"G\":75,\n",
    "         \"H\":155,\n",
    "         \"I\":131,\n",
    "         \"L\":131,\n",
    "         \"K\":146,\n",
    "         \"M\":149,\n",
    "         \"F\":165,\n",
    "         \"P\":115,\n",
    "         \"S\":105,\n",
    "         \"T\":119,\n",
    "         \"W\":204,\n",
    "         \"Y\":181,\n",
    "         \"V\":117}\n",
    "    \n",
    "    return dc"
   ]
  },
  {
   "cell_type": "code",
   "execution_count": 57,
   "metadata": {
    "collapsed": false
   },
   "outputs": [
    {
     "data": {
      "text/plain": [
       "121"
      ]
     },
     "execution_count": 57,
     "metadata": {
     },
     "output_type": "execute_result"
    }
   ],
   "source": [
    "dc = aa_table()\n",
    "dc[\"C\"]"
   ]
  },
  {
   "cell_type": "markdown",
   "metadata": {
    "collapsed": false
   },
   "source": [
    "#### 2) Print out a list of all the amino acids sorted by their molecular weights from the heaviest to the lightest. Hint: Just sort the items in Question (1) dictionary based on values."
   ]
  },
  {
   "cell_type": "code",
   "execution_count": 58,
   "metadata": {
    "collapsed": false
   },
   "outputs": [
   ],
   "source": [
    "'''Function to sort dict by value'''\n",
    "\n",
    "import string\n",
    "\n",
    "def sort_dict_v(dc):\n",
    "    \n",
    "    # sort the dict by values\n",
    "    dc_sorted = dict(sorted(dc.items(), key = lambda i : i[1], reverse = True))\n",
    "    \n",
    "    # creating strings from the dictionary\n",
    "    keys = [i for i in dc_sorted.keys()]\n",
    "    values = [i for i in dc_sorted.values()]\n",
    "    \n",
    "    for i in (range(len(dc_sorted)+1)):\n",
    "        \n",
    "        # printing out the answer with the format suggested\n",
    "        if i == 0:\n",
    "            print(string.ascii_lowercase[i] + \".\" + \"\\t\" + \"AA\" + \"\\t\" + \"MW\")\n",
    "        else:\n",
    "            print(string.ascii_lowercase[i] + \".\" + \"\\t\" + str(keys[i-1]) + \"\\t\" + str(values[i-1]) + \"Da\")"
   ]
  },
  {
   "cell_type": "code",
   "execution_count": 59,
   "metadata": {
    "collapsed": false
   },
   "outputs": [
    {
     "name": "stdout",
     "output_type": "stream",
     "text": [
      "a.\tAA\tMW\n",
      "b.\tW\t204Da\n",
      "c.\tY\t181Da\n",
      "d.\tR\t174Da\n",
      "e.\tF\t165Da\n",
      "f.\tH\t155Da\n",
      "g.\tM\t149Da\n",
      "h.\tE\t147Da\n",
      "i.\tZ\t147Da\n",
      "j.\tQ\t146Da\n",
      "k.\tK\t146Da\n",
      "l.\tD\t133Da\n",
      "m.\tB\t133Da\n",
      "n.\tN\t132Da\n",
      "o.\tI\t131Da\n",
      "p.\tL\t131Da\n",
      "q.\tC\t121Da\n",
      "r.\tT\t119Da\n",
      "s.\tV\t117Da\n",
      "t.\tP\t115Da\n",
      "u.\tS\t105Da\n",
      "v.\tA\t89Da\n",
      "w.\tG\t75Da\n"
     ]
    }
   ],
   "source": [
    "sort_dict_v(dc)"
   ]
  },
  {
   "cell_type": "markdown",
   "metadata": {
    "collapsed": false
   },
   "source": [
    "#### 3) Read the protein sequence from lysozyme.fasta and calculate the molecular weight of this protein using the dictionary created in question (1)."
   ]
  },
  {
   "cell_type": "code",
   "execution_count": 60,
   "metadata": {
    "collapsed": false
   },
   "outputs": [
   ],
   "source": [
    "'''Function to calculate molecular weight from a fasta file'''\n",
    "\n",
    "import io\n",
    "import re\n",
    "\n",
    "def mw_from_fasta(filepath):\n",
    "    \n",
    "    # number of lines in the file\n",
    "    no = sum(1 for i in io.open(filepath))\n",
    "    \n",
    "    with io.open(filepath) as fh:\n",
    "        \n",
    "        # initializing the dictionary\n",
    "        mw = dict()\n",
    "        \n",
    "        # reading line by line\n",
    "        for i in range(no):\n",
    "            ln = fh.readline()\n",
    "            \n",
    "            # get the \"key\" for each gene (there is only one gene in this file, but this program can do multiple gene with a fasta format)\n",
    "            if re.search(r\">\", ln):\n",
    "                ln = ln.strip().split(\" \")\n",
    "                key = ln[0]\n",
    "                \n",
    "            # get the molecular weight for each gene\n",
    "            else:\n",
    "                ln = ln.strip()\n",
    "                for char in ln:\n",
    "                    if key in mw.keys():\n",
    "                        mw[key] += dc[char]\n",
    "                    else:\n",
    "                        mw[key] = dc[char]\n",
    "            \n",
    "    return mw"
   ]
  },
  {
   "cell_type": "code",
   "execution_count": 61,
   "metadata": {
    "collapsed": false
   },
   "outputs": [
    {
     "data": {
      "text/plain": [
       "{'>sp|P17897|LYZ1_MOUSE': 19421}"
      ]
     },
     "execution_count": 61,
     "metadata": {
     },
     "output_type": "execute_result"
    }
   ],
   "source": [
    "mw_from_fasta(\"data/lysozyme.fasta\")"
   ]
  }
 ],
 "metadata": {
  "kernelspec": {
   "display_name": "Python 3 (system-wide)",
   "language": "python",
   "metadata": {
    "cocalc": {
     "description": "Python 3 programming language",
     "priority": 100,
     "url": "https://www.python.org/"
    }
   },
   "name": "python3",
   "resource_dir": "/ext/jupyter/kernels/python3"
  },
  "language_info": {
   "codemirror_mode": {
    "name": "ipython",
    "version": 3
   },
   "file_extension": ".py",
   "mimetype": "text/x-python",
   "name": "python",
   "nbconvert_exporter": "python",
   "pygments_lexer": "ipython3",
   "version": "3.8.10"
  }
 },
 "nbformat": 4,
 "nbformat_minor": 4
}