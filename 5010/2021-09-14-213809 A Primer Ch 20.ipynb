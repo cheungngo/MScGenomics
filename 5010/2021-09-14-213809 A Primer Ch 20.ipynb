{
 "cells": [
  {
   "cell_type": "markdown",
   "metadata": {
    "collapsed": false
   },
   "source": [
    "# Chapter 20 Dictionaries"
   ]
  },
  {
   "cell_type": "markdown",
   "metadata": {
    "collapsed": false
   },
   "source": [
    "## Some random trying"
   ]
  },
  {
   "cell_type": "markdown",
   "metadata": {
    "collapsed": false
   },
   "source": [
    "##### setting up a dict"
   ]
  },
  {
   "cell_type": "code",
   "execution_count": 1,
   "metadata": {
    "collapsed": false
   },
   "outputs": [
   ],
   "source": [
    "dc = dict()\n",
    "ls1 = [\"CYP6B\", \"AGP2\", \"CATB\"] \n",
    "ls2 = [0.56, 0.24, 0.73]"
   ]
  },
  {
   "cell_type": "code",
   "execution_count": 2,
   "metadata": {
    "collapsed": false
   },
   "outputs": [
    {
     "name": "stdout",
     "output_type": "stream",
     "text": [
      "{'CYP6B': 0.56, 'AGP2': 0.24, 'CATB': 0.73}\n"
     ]
    }
   ],
   "source": [
    "for i in range(len(ls1)):\n",
    "    dc[ls1[i]] = ls2[i]\n",
    "print(dc)"
   ]
  },
  {
   "cell_type": "markdown",
   "metadata": {
    "collapsed": false
   },
   "source": [
    "##### sorting a dict by keys"
   ]
  },
  {
   "cell_type": "code",
   "execution_count": 3,
   "metadata": {
    "collapsed": false
   },
   "outputs": [
    {
     "name": "stdout",
     "output_type": "stream",
     "text": [
      "{'AGP2': 0.24, 'CATB': 0.73, 'CYP6B': 0.56}\n"
     ]
    }
   ],
   "source": [
    "dc_sort = dict()\n",
    "sorted_keys = sorted(dc.keys())\n",
    "for i in sorted_keys:\n",
    "    dc_sort[i] = dc[i]\n",
    "print(dc_sort) # sorted by keys"
   ]
  },
  {
   "cell_type": "markdown",
   "metadata": {
    "collapsed": false
   },
   "source": [
    "##### get the values and items"
   ]
  },
  {
   "cell_type": "code",
   "execution_count": 4,
   "metadata": {
    "collapsed": false
   },
   "outputs": [
    {
     "data": {
      "text/plain": [
       "dict_values([0.56, 0.24, 0.73])"
      ]
     },
     "execution_count": 4,
     "metadata": {
     },
     "output_type": "execute_result"
    }
   ],
   "source": [
    "dc.values()"
   ]
  },
  {
   "cell_type": "code",
   "execution_count": 5,
   "metadata": {
    "collapsed": false
   },
   "outputs": [
    {
     "data": {
      "text/plain": [
       "dict_items([('CYP6B', 0.56), ('AGP2', 0.24), ('CATB', 0.73)])"
      ]
     },
     "execution_count": 5,
     "metadata": {
     },
     "output_type": "execute_result"
    }
   ],
   "source": [
    "dc.items()"
   ]
  },
  {
   "cell_type": "markdown",
   "metadata": {
    "collapsed": false
   },
   "source": [
    "##### sorting a dict by values"
   ]
  },
  {
   "cell_type": "code",
   "execution_count": 6,
   "metadata": {
    "collapsed": false
   },
   "outputs": [
   ],
   "source": [
    "dc_val = dict(sorted(dc.items(), key = lambda i:i[1]))"
   ]
  },
  {
   "cell_type": "code",
   "execution_count": 7,
   "metadata": {
    "collapsed": false
   },
   "outputs": [
    {
     "name": "stdout",
     "output_type": "stream",
     "text": [
      "{'AGP2': 0.24, 'CYP6B': 0.56, 'CATB': 0.73}\n"
     ]
    }
   ],
   "source": [
    "print(dc_val)"
   ]
  },
  {
   "cell_type": "markdown",
   "metadata": {
    "collapsed": false
   },
   "source": [
    "## The gene ontology problem"
   ]
  },
  {
   "cell_type": "markdown",
   "metadata": {
    "collapsed": false
   },
   "source": [
    "##### first problem being finding the number of appearance for each id"
   ]
  },
  {
   "cell_type": "code",
   "execution_count": 8,
   "metadata": {
    "collapsed": false
   },
   "outputs": [
    {
     "name": "stdout",
     "output_type": "stream",
     "text": [
      "25106\n"
     ]
    }
   ],
   "source": [
    "import io\n",
    "\n",
    "no = sum(1 for i in io.open(\"data_20/PZ.annot.txt\"))\n",
    "print(no)"
   ]
  },
  {
   "cell_type": "code",
   "execution_count": 9,
   "metadata": {
    "collapsed": false
   },
   "outputs": [
   ],
   "source": [
    "dc_id = dict()\n",
    "with io.open(\"data_20/PZ.annot.txt\") as fh:\n",
    "    for i in range(no):\n",
    "        lineid = fh.readline().strip().split(\"\\t\")[0]\n",
    "        if lineid in dc_id.keys():\n",
    "            dc_id[lineid] += 1\n",
    "        else:\n",
    "            dc_id[lineid] = 1"
   ]
  },
  {
   "cell_type": "code",
   "execution_count": 10,
   "metadata": {
    "collapsed": false,
    "scrolled": true
   },
   "outputs": [
    {
     "name": "stdout",
     "output_type": "stream",
     "text": [
      "PZ7180000020811_DVU\t1\n",
      "PZ7180000020752_DVU\t1\n",
      "PZ7180000034678_DWY\t1\n",
      "PZ7180000024883_EZN\t4\n",
      "PZ7180000023260_APN\t1\n",
      "PZ7180000035568_APN\t1\n",
      "PZ7180000020052_APQ\t4\n",
      "PZ547337_APR\t1\n",
      "PZ7180000033253_APS\t5\n",
      "PZ7180000033254_APS\t7\n"
     ]
    }
   ],
   "source": [
    "# printing the first 10 pairs\n",
    "dc_id_keys = list(dc_id.keys())\n",
    "for i in range(10):\n",
    "    print(dc_id_keys[i] + \"\\t\" + str(dc_id[dc_id_keys[i]]))"
   ]
  },
  {
   "cell_type": "markdown",
   "metadata": {
    "collapsed": false
   },
   "source": [
    "##### Create a function for subsequent problems"
   ]
  },
  {
   "cell_type": "code",
   "execution_count": 11,
   "metadata": {
    "collapsed": false
   },
   "outputs": [
   ],
   "source": [
    "# combining all together\n",
    "def key_counter(file):\n",
    "    no = sum(1 for i in io.open(file))\n",
    "    dc_id = dict()\n",
    "    with io.open(file) as fh:\n",
    "        for i in range(no):\n",
    "            lineid = fh.readline().strip().split(\"\\t\")[0]\n",
    "            if lineid in dc_id.keys():\n",
    "                dc_id[lineid] += 1\n",
    "            else:\n",
    "                dc_id[lineid] = 1\n",
    "    return(dc_id)"
   ]
  },
  {
   "cell_type": "code",
   "execution_count": 12,
   "metadata": {
    "collapsed": false
   },
   "outputs": [
   ],
   "source": [
    "dc_id = key_counter(\"data_20/PZ.annot.txt\")"
   ]
  },
  {
   "cell_type": "markdown",
   "metadata": {
    "collapsed": false
   },
   "source": [
    "##### grep transcriptase in the third column (without using the command tools)"
   ]
  },
  {
   "cell_type": "code",
   "execution_count": 13,
   "metadata": {
    "collapsed": false
   },
   "outputs": [
   ],
   "source": [
    "# the grep function\n",
    "\n",
    "import re\n",
    "\n",
    "def grepper(file, column, word):\n",
    "    no = sum(1 for i in io.open(file))\n",
    "    ls = list()\n",
    "    with io.open(\"data_20/PZ.annot.txt\") as fh:\n",
    "        for i in range(no):\n",
    "            line = fh.readline().strip()\n",
    "            col = line.split(\"\\t\")[column]\n",
    "            if re.search(word, col):\n",
    "                ls.append(line)\n",
    "    return(ls)"
   ]
  },
  {
   "cell_type": "code",
   "execution_count": 14,
   "metadata": {
    "collapsed": false
   },
   "outputs": [
   ],
   "source": [
    "# grepping the \"transcriptase\"\n",
    "\n",
    "ls_transcriptase = grepper(\"data_20/PZ.annot.txt\", 2, \"transcriptase\")"
   ]
  },
  {
   "cell_type": "code",
   "execution_count": 15,
   "metadata": {
    "collapsed": false
   },
   "outputs": [
   ],
   "source": [
    "# writing the filtered file\n",
    "\n",
    "with io.open(\"data_20/PZ.annot2.txt\", \"w\") as fh:\n",
    "    for i in range(len(ls_transcriptase)):\n",
    "        fh.write(ls_transcriptase[i] + \"\\n\")"
   ]
  },
  {
   "cell_type": "code",
   "execution_count": 16,
   "metadata": {
    "collapsed": false
   },
   "outputs": [
   ],
   "source": [
    "dc_trans = key_counter(\"data_20/PZ.annot2.txt\")"
   ]
  },
  {
   "cell_type": "code",
   "execution_count": 17,
   "metadata": {
    "collapsed": false
   },
   "outputs": [
    {
     "data": {
      "text/plain": [
       "{'PZ7180000000003_PI': 4,\n",
       " 'PZ840833_BZS': 1,\n",
       " 'PZ858982_CAA': 2,\n",
       " 'PZ7180000029134_AHQ': 3,\n",
       " 'PZ7180000000012_IL': 3,\n",
       " 'PZ7180000000017_IL': 3,\n",
       " 'PZ7180000000006_HO': 1,\n",
       " 'PZ7180000000009_HO': 1,\n",
       " 'PZ59_HO': 4,\n",
       " 'PZ7180000000012_DC': 5,\n",
       " 'PZ32722_B': 7,\n",
       " 'PZ7180000000108_N': 1,\n",
       " 'PZ7180000000070_N': 1,\n",
       " 'PZ7180000000089_N': 4,\n",
       " 'PZ7180000000107_N': 1,\n",
       " 'PZ924_N': 4,\n",
       " 'PZ7180000000590_B': 2,\n",
       " 'PZ578878': 3,\n",
       " 'PZ492962': 1,\n",
       " 'PZ7180000025781': 2,\n",
       " 'PZCAP37180000034572_A': 1}"
      ]
     },
     "execution_count": 17,
     "metadata": {
     },
     "output_type": "execute_result"
    }
   ],
   "source": [
    "dc_trans # these are the keys with \"transcriptase\" in the third column"
   ]
  },
  {
   "cell_type": "markdown",
   "metadata": {
    "collapsed": false
   },
   "source": [
    "##### finding the id with the highest count"
   ]
  },
  {
   "cell_type": "code",
   "execution_count": 18,
   "metadata": {
    "collapsed": false
   },
   "outputs": [
   ],
   "source": [
    "dc_trans_s = dict(sorted(dc_trans.items(), key = lambda i:i[1], reverse = True))"
   ]
  },
  {
   "cell_type": "code",
   "execution_count": 19,
   "metadata": {
    "collapsed": false
   },
   "outputs": [
    {
     "name": "stdout",
     "output_type": "stream",
     "text": [
      "PZ32722_B\t7\n"
     ]
    }
   ],
   "source": [
    "print(str(list(dc_trans_s.keys())[0]) + \"\\t\" + str(dc_trans_s[list(dc_trans_s.keys())[0]]))"
   ]
  },
  {
   "cell_type": "markdown",
   "metadata": {
    "collapsed": false
   },
   "source": [
    "## Question 1: Create a codon dictionary / function"
   ]
  },
  {
   "cell_type": "code",
   "execution_count": 20,
   "metadata": {
    "collapsed": false
   },
   "outputs": [
   ],
   "source": [
    "dc_codon = dict()\n",
    "no = sum(1 for i in io.open(\"data_20/codon.txt\")) # source: https://github.com/zhanxw/anno/blob/master/codon.txt\n",
    "\n",
    "with io.open(\"data_20/codon.txt\") as fh:\n",
    "    for i in range(no):\n",
    "        ls = fh.readline().strip().split()\n",
    "        dc_codon[ls[0]] = ls[2]"
   ]
  },
  {
   "cell_type": "code",
   "execution_count": 21,
   "metadata": {
    "collapsed": false
   },
   "outputs": [
    {
     "name": "stdout",
     "output_type": "stream",
     "text": [
      "{'AAA': 'K', 'AAC': 'N', 'AAG': 'K', 'AAT': 'N', 'ACA': 'T', 'ACC': 'T', 'ACG': 'T', 'ACT': 'T', 'AGA': 'R', 'AGC': 'S', 'AGG': 'R', 'AGT': 'S', 'ATA': 'I', 'ATC': 'I', 'ATG': 'M', 'ATT': 'I', 'CAA': 'Q', 'CAC': 'H', 'CAG': 'Q', 'CAT': 'H', 'CCA': 'P', 'CCC': 'P', 'CCG': 'P', 'CCT': 'P', 'CGA': 'R', 'CGC': 'R', 'CGG': 'R', 'CGT': 'R', 'CTA': 'L', 'CTC': 'L', 'CTG': 'L', 'CTT': 'L', 'GAA': 'E', 'GAC': 'D', 'GAG': 'E', 'GAT': 'D', 'GCA': 'A', 'GCC': 'A', 'GCG': 'A', 'GCT': 'A', 'GGA': 'G', 'GGC': 'G', 'GGG': 'G', 'GGT': 'G', 'GTA': 'V', 'GTC': 'V', 'GTG': 'V', 'GTT': 'V', 'TAA': 'O', 'TAC': 'Y', 'TAG': 'O', 'TAT': 'Y', 'TCA': 'S', 'TCC': 'S', 'TCG': 'S', 'TCT': 'S', 'TGA': 'O', 'TGC': 'C', 'TGG': 'W', 'TGT': 'C', 'TTA': 'L', 'TTC': 'F', 'TTG': 'L', 'TTT': 'F'}\n"
     ]
    }
   ],
   "source": [
    "print(dc_codon)"
   ]
  },
  {
   "cell_type": "code",
   "execution_count": 22,
   "metadata": {
    "collapsed": false
   },
   "outputs": [
   ],
   "source": [
    "# creating a function\n",
    "\n",
    "def codon_to_aa(codon):\n",
    "    if len(codon) != 3:\n",
    "        print(\"error\")\n",
    "    elif codon not in dc_codon.keys():\n",
    "        print(\"X\")\n",
    "    else:\n",
    "        return(dc_codon[codon])"
   ]
  },
  {
   "cell_type": "code",
   "execution_count": 23,
   "metadata": {
    "collapsed": false
   },
   "outputs": [
    {
     "data": {
      "text/plain": [
       "'W'"
      ]
     },
     "execution_count": 23,
     "metadata": {
     },
     "output_type": "execute_result"
    }
   ],
   "source": [
    "codon_to_aa(\"TGG\")"
   ]
  },
  {
   "cell_type": "code",
   "execution_count": 24,
   "metadata": {
    "collapsed": false
   },
   "outputs": [
    {
     "data": {
      "text/plain": [
       "'O'"
      ]
     },
     "execution_count": 24,
     "metadata": {
     },
     "output_type": "execute_result"
    }
   ],
   "source": [
    "codon_to_aa(\"TAA\")"
   ]
  },
  {
   "cell_type": "code",
   "execution_count": 25,
   "metadata": {
    "collapsed": false
   },
   "outputs": [
    {
     "name": "stdout",
     "output_type": "stream",
     "text": [
      "X\n"
     ]
    }
   ],
   "source": [
    "codon_to_aa(\"BOB\")"
   ]
  },
  {
   "cell_type": "markdown",
   "metadata": {
    "collapsed": false
   },
   "source": [
    "## Question 2: DNA to aa"
   ]
  },
  {
   "cell_type": "code",
   "execution_count": 26,
   "metadata": {
    "collapsed": false
   },
   "outputs": [
   ],
   "source": [
    "# from Chapter 18\n",
    "\n",
    "def get_windows (seq, win_size, step_size):\n",
    "    ls = list()\n",
    "    pos = 0\n",
    "    while pos < len(seq):\n",
    "        if len(seq[pos:(pos+win_size)]) < win_size:\n",
    "            break\n",
    "        ls.append(seq[pos:(pos+win_size)])\n",
    "        pos = pos + step_size\n",
    "    return(ls)"
   ]
  },
  {
   "cell_type": "code",
   "execution_count": 27,
   "metadata": {
    "collapsed": false
   },
   "outputs": [
   ],
   "source": [
    "def dna_to_aa(seq):\n",
    "    ls = get_windows(seq,3,3)\n",
    "    aa = \"\"\n",
    "    for i in ls:\n",
    "        aa = aa + str(codon_to_aa(i))\n",
    "    return(aa)"
   ]
  },
  {
   "cell_type": "code",
   "execution_count": 28,
   "metadata": {
    "collapsed": false
   },
   "outputs": [
    {
     "data": {
      "text/plain": [
       "'KLSL'"
      ]
     },
     "execution_count": 28,
     "metadata": {
     },
     "output_type": "execute_result"
    }
   ],
   "source": [
    "dna_to_aa(\"AAACTGTCTCTA\")"
   ]
  },
  {
   "cell_type": "markdown",
   "metadata": {
    "collapsed": false
   },
   "source": [
    "## Question 3: kmer counter"
   ]
  },
  {
   "cell_type": "code",
   "execution_count": 29,
   "metadata": {
    "collapsed": false
   },
   "outputs": [
   ],
   "source": [
    "def count_kmer(seq):\n",
    "    ls = get_windows(seq,3,1)\n",
    "    kmer = dict()\n",
    "    for i in ls:\n",
    "        if i in kmer.keys():\n",
    "            kmer[i] += 1\n",
    "        else:\n",
    "            kmer[i] = 1\n",
    "    return(kmer)"
   ]
  },
  {
   "cell_type": "code",
   "execution_count": 30,
   "metadata": {
    "collapsed": false
   },
   "outputs": [
    {
     "data": {
      "text/plain": [
       "{'AAA': 1,\n",
       " 'AAC': 1,\n",
       " 'ACT': 1,\n",
       " 'CTG': 1,\n",
       " 'TGT': 1,\n",
       " 'GTC': 1,\n",
       " 'TCT': 2,\n",
       " 'CTC': 1,\n",
       " 'CTA': 1}"
      ]
     },
     "execution_count": 30,
     "metadata": {
     },
     "output_type": "execute_result"
    }
   ],
   "source": [
    "count_kmer(\"AAACTGTCTCTA\")"
   ]
  },
  {
   "cell_type": "markdown",
   "metadata": {
    "collapsed": false
   },
   "source": [
    "## Question 4: Combining two dictionaries"
   ]
  },
  {
   "cell_type": "markdown",
   "metadata": {
    "collapsed": false
   },
   "source": [
    "> if same key with diff values -> higher value"
   ]
  },
  {
   "cell_type": "code",
   "execution_count": 32,
   "metadata": {
    "collapsed": false
   },
   "outputs": [
   ],
   "source": [
    "def union_dict(d1,d2):\n",
    "    d = d1\n",
    "    for k in d2.keys():\n",
    "        if k in d.keys():\n",
    "            if d2[k] > d[k]:\n",
    "                d[k] = d2[k]\n",
    "        else:\n",
    "            d[k] = d2[k]\n",
    "    return(d)"
   ]
  },
  {
   "cell_type": "code",
   "execution_count": 34,
   "metadata": {
    "collapsed": false
   },
   "outputs": [
   ],
   "source": [
    "d1 = count_kmer(\"AAACTGTCTCTA\")\n",
    "d2 = count_kmer(\"AAACTGTCTCTACTA\")"
   ]
  },
  {
   "cell_type": "code",
   "execution_count": 35,
   "metadata": {
    "collapsed": false
   },
   "outputs": [
   ],
   "source": [
    "d = union_dict(d1,d2)"
   ]
  },
  {
   "cell_type": "code",
   "execution_count": 36,
   "metadata": {
    "collapsed": false
   },
   "outputs": [
    {
     "data": {
      "text/plain": [
       "{'AAA': 1,\n",
       " 'AAC': 1,\n",
       " 'ACT': 2,\n",
       " 'CTG': 1,\n",
       " 'TGT': 1,\n",
       " 'GTC': 1,\n",
       " 'TCT': 2,\n",
       " 'CTC': 1,\n",
       " 'CTA': 2,\n",
       " 'TAC': 1}"
      ]
     },
     "execution_count": 36,
     "metadata": {
     },
     "output_type": "execute_result"
    }
   ],
   "source": [
    "d1"
   ]
  },
  {
   "cell_type": "code",
   "execution_count": 37,
   "metadata": {
    "collapsed": false
   },
   "outputs": [
    {
     "data": {
      "text/plain": [
       "{'AAA': 1,\n",
       " 'AAC': 1,\n",
       " 'ACT': 2,\n",
       " 'CTG': 1,\n",
       " 'TGT': 1,\n",
       " 'GTC': 1,\n",
       " 'TCT': 2,\n",
       " 'CTC': 1,\n",
       " 'CTA': 2,\n",
       " 'TAC': 1}"
      ]
     },
     "execution_count": 37,
     "metadata": {
     },
     "output_type": "execute_result"
    }
   ],
   "source": [
    "d2"
   ]
  },
  {
   "cell_type": "code",
   "execution_count": 38,
   "metadata": {
    "collapsed": false
   },
   "outputs": [
    {
     "data": {
      "text/plain": [
       "{'AAA': 1,\n",
       " 'AAC': 1,\n",
       " 'ACT': 2,\n",
       " 'CTG': 1,\n",
       " 'TGT': 1,\n",
       " 'GTC': 1,\n",
       " 'TCT': 2,\n",
       " 'CTC': 1,\n",
       " 'CTA': 2,\n",
       " 'TAC': 1}"
      ]
     },
     "execution_count": 38,
     "metadata": {
     },
     "output_type": "execute_result"
    }
   ],
   "source": [
    "d"
   ]
  }
 ],
 "metadata": {
  "kernelspec": {
   "display_name": "Python 3 (system-wide)",
   "language": "python",
   "metadata": {
    "cocalc": {
     "description": "Python 3 programming language",
     "priority": 100,
     "url": "https://www.python.org/"
    }
   },
   "name": "python3",
   "resource_dir": "/ext/jupyter/kernels/python3"
  },
  "language_info": {
   "codemirror_mode": {
    "name": "ipython",
    "version": 3
   },
   "file_extension": ".py",
   "mimetype": "text/x-python",
   "name": "python",
   "nbconvert_exporter": "python",
   "pygments_lexer": "ipython3",
   "version": "3.8.10"
  }
 },
 "nbformat": 4,
 "nbformat_minor": 4
}