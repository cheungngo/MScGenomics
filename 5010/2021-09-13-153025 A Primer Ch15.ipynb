{
 "cells": [
  {
   "cell_type": "markdown",
   "metadata": {
    "collapsed": false
   },
   "source": [
    "## Chapter 15 Collections and looping: lists and for"
   ]
  },
  {
   "cell_type": "markdown",
   "metadata": {
    "collapsed": false
   },
   "source": [
    "## .append()"
   ]
  },
  {
   "cell_type": "code",
   "execution_count": 1,
   "metadata": {
    "collapsed": false
   },
   "outputs": [
    {
     "name": "stdout",
     "output_type": "stream",
     "text": [
      "['a']\n"
     ]
    }
   ],
   "source": [
    "l = list()\n",
    "l.append(\"a\")\n",
    "print(l)"
   ]
  },
  {
   "cell_type": "markdown",
   "metadata": {
    "collapsed": false
   },
   "source": [
    "## sorted() and .sort()"
   ]
  },
  {
   "cell_type": "code",
   "execution_count": 2,
   "metadata": {
    "collapsed": false
   },
   "outputs": [
    {
     "name": "stdout",
     "output_type": "stream",
     "text": [
      "['T', 'G', 'C', 'A']\n"
     ]
    }
   ],
   "source": [
    "l = [\"A\", \"C\", \"G\", \"T\"]\n",
    "print(sorted(l, reverse = True))"
   ]
  },
  {
   "cell_type": "code",
   "execution_count": 4,
   "metadata": {
    "collapsed": false
   },
   "outputs": [
    {
     "name": "stdout",
     "output_type": "stream",
     "text": [
      "['A', 'C', 'G', 'T']\n"
     ]
    }
   ],
   "source": [
    "l.sort()\n",
    "print(l)"
   ]
  },
  {
   "cell_type": "markdown",
   "metadata": {
    "collapsed": false
   },
   "source": [
    "## .split()"
   ]
  },
  {
   "cell_type": "code",
   "execution_count": 6,
   "metadata": {
    "collapsed": false
   },
   "outputs": [
    {
     "name": "stdout",
     "output_type": "stream",
     "text": [
      "['', 'bc', 'bc', 'bc', 'bc', 'bc', 'bc']\n"
     ]
    }
   ],
   "source": [
    "l = \"abc\"*6\n",
    "ls = l.split(\"a\")\n",
    "print(ls)"
   ]
  },
  {
   "cell_type": "code",
   "execution_count": 8,
   "metadata": {
    "collapsed": false
   },
   "outputs": [
    {
     "name": "stdout",
     "output_type": "stream",
     "text": [
      "['a', 'b', 'c', 'a', 'b', 'c', 'a', 'b', 'c', 'a', 'b', 'c', 'a', 'b', 'c', 'a', 'b', 'c']\n"
     ]
    }
   ],
   "source": [
    "# if you want to split by char, may need to do it like this\n",
    "lc = list()\n",
    "for i in l:\n",
    "    lc.append(i)\n",
    "print(lc)"
   ]
  },
  {
   "cell_type": "markdown",
   "metadata": {
    "collapsed": false
   },
   "source": [
    "## immutable list (not able to be changed) i.e. tuples"
   ]
  },
  {
   "cell_type": "code",
   "execution_count": 10,
   "metadata": {
    "collapsed": false
   },
   "outputs": [
    {
     "data": {
      "text/plain": [
       "tuple"
      ]
     },
     "execution_count": 10,
     "metadata": {
     },
     "output_type": "execute_result"
    }
   ],
   "source": [
    "x = (\"A\", \"B\", \"C\")\n",
    "type(x)"
   ]
  },
  {
   "cell_type": "markdown",
   "metadata": {
    "collapsed": false
   },
   "source": [
    "## Q1 & 2:"
   ]
  },
  {
   "cell_type": "code",
   "execution_count": 17,
   "metadata": {
    "collapsed": false
   },
   "outputs": [
    {
     "name": "stdout",
     "output_type": "stream",
     "text": [
      "16\n"
     ]
    }
   ],
   "source": [
    "# sample code for width 4 and depth 2:\n",
    "\n",
    "total = 0\n",
    "for i in range(4):\n",
    "    for j in range(4):\n",
    "        total += 1\n",
    "\n",
    "print(total)"
   ]
  },
  {
   "cell_type": "markdown",
   "metadata": {
    "collapsed": false
   },
   "source": [
    "### define an equation that indicates the sum of \"total\" for width \"w\" and depth \"d\""
   ]
  },
  {
   "cell_type": "code",
   "execution_count": 12,
   "metadata": {
    "collapsed": false
   },
   "outputs": [
    {
     "data": {
      "text/plain": [
       "16"
      ]
     },
     "execution_count": 12,
     "metadata": {
     },
     "output_type": "execute_result"
    }
   ],
   "source": [
    "def total(w,d):\n",
    "    return(w**d)\n",
    "\n",
    "total(4,2)"
   ]
  },
  {
   "cell_type": "markdown",
   "metadata": {
    "collapsed": false
   },
   "source": [
    "## Q3:"
   ]
  },
  {
   "cell_type": "code",
   "execution_count": 14,
   "metadata": {
    "collapsed": false
   },
   "outputs": [
    {
     "name": "stdout",
     "output_type": "stream",
     "text": [
      "45\n"
     ]
    }
   ],
   "source": [
    "# sample code provided in the question\n",
    "\n",
    "total = 0\n",
    "x = 10\n",
    "\n",
    "for i in range(x):\n",
    "    for j in range(i):\n",
    "        total += 1\n",
    "\n",
    "print(total)"
   ]
  },
  {
   "cell_type": "markdown",
   "metadata": {
    "collapsed": false
   },
   "source": [
    "### question: to provide another formula for the above function in terms of x"
   ]
  },
  {
   "cell_type": "code",
   "execution_count": 16,
   "metadata": {
    "collapsed": false
   },
   "outputs": [
    {
     "data": {
      "text/plain": [
       "45.0"
      ]
     },
     "execution_count": 16,
     "metadata": {
     },
     "output_type": "execute_result"
    }
   ],
   "source": [
    "def total2(x):\n",
    "    return(x * (x-1) / 2)\n",
    "\n",
    "total2(10)"
   ]
  },
  {
   "cell_type": "markdown",
   "metadata": {
    "collapsed": false
   },
   "source": [
    "## Q4:"
   ]
  },
  {
   "cell_type": "code",
   "execution_count": 19,
   "metadata": {
    "collapsed": false
   },
   "outputs": [
   ],
   "source": [
    "seq = \"ATGATAGAGGGATACGGGATAG\"\n",
    "subseq = \"GATA\""
   ]
  },
  {
   "cell_type": "markdown",
   "metadata": {
    "collapsed": false
   },
   "source": [
    "### find all positions"
   ]
  },
  {
   "cell_type": "code",
   "execution_count": 21,
   "metadata": {
    "collapsed": false
   },
   "outputs": [
    {
     "name": "stdout",
     "output_type": "stream",
     "text": [
      "2\n",
      "10\n",
      "17\n"
     ]
    }
   ],
   "source": [
    "for i in range(len(seq)):\n",
    "    curseq = seq[i:(i+4)]\n",
    "    if (len(curseq) < 4):\n",
    "        break\n",
    "    if (curseq == subseq):\n",
    "        print(i)"
   ]
  },
  {
   "cell_type": "code",
   "execution_count": 22,
   "metadata": {
    "collapsed": false
   },
   "outputs": [
    {
     "name": "stdout",
     "output_type": "stream",
     "text": [
      "2\n",
      "10\n",
      "17\n"
     ]
    }
   ],
   "source": [
    "# another approach\n",
    "\n",
    "for i in range(len(seq)):\n",
    "    if (seq.startswith(subseq,i)):\n",
    "        print(i)"
   ]
  },
  {
   "cell_type": "code",
   "execution_count": 23,
   "metadata": {
    "collapsed": false
   },
   "outputs": [
    {
     "name": "stdout",
     "output_type": "stream",
     "text": [
      "[2, 10, 17]\n"
     ]
    }
   ],
   "source": [
    "# or simply:\n",
    "\n",
    "x = [i for i in range(len(seq)) if seq.startswith(subseq,i)]\n",
    "print(x)\n",
    "# also an example for list comprehension"
   ]
  },
  {
   "cell_type": "markdown",
   "metadata": {
    "collapsed": false
   },
   "source": [
    "## Q5: to transpose a list of columns"
   ]
  },
  {
   "cell_type": "code",
   "execution_count": 24,
   "metadata": {
    "collapsed": false
   },
   "outputs": [
   ],
   "source": [
    "cols = [[10,20,30,40],[5,6,7,8],[0.7,0.8,0.9,1.0]]"
   ]
  },
  {
   "cell_type": "code",
   "execution_count": 25,
   "metadata": {
    "collapsed": false
   },
   "outputs": [
    {
     "name": "stdout",
     "output_type": "stream",
     "text": [
      "[[10, 5, 0.7], [20, 6, 0.8], [30, 7, 0.9], [40, 8, 1.0]]\n"
     ]
    }
   ],
   "source": [
    "ls = list()\n",
    "for i in range(len(cols[0])):\n",
    "    l = list()\n",
    "    for j in range(len(cols)):\n",
    "        l.append(cols[j][i])\n",
    "    ls.append(l)\n",
    "print(ls)"
   ]
  },
  {
   "cell_type": "code",
   "execution_count": 26,
   "metadata": {
    "collapsed": false
   },
   "outputs": [
    {
     "name": "stdout",
     "output_type": "stream",
     "text": [
      "[[10, 5, 0.7], [20, 6, 0.8], [30, 7, 0.9], [40, 8, 1.0]]\n"
     ]
    }
   ],
   "source": [
    "# a smarter approach\n",
    "\n",
    "ls = list(map(list, zip(*cols)))\n",
    "print(ls)\n",
    "\n",
    "# The signature of zip: zip(*iterables) This means zip expects an arbitrary number \n",
    "# of arguments each of which must be iterable. E.g. zip([1, 2], [3, 4], [5, 6])."
   ]
  },
  {
   "cell_type": "code",
   "execution_count": 0,
   "metadata": {
    "collapsed": false
   },
   "outputs": [
   ],
   "source": [
   ]
  }
 ],
 "metadata": {
  "kernelspec": {
   "display_name": "Python 3 (system-wide)",
   "language": "python",
   "metadata": {
    "cocalc": {
     "description": "Python 3 programming language",
     "priority": 100,
     "url": "https://www.python.org/"
    }
   },
   "name": "python3",
   "resource_dir": "/ext/jupyter/kernels/python3"
  },
  "language_info": {
   "codemirror_mode": {
    "name": "ipython",
    "version": 3
   },
   "file_extension": ".py",
   "mimetype": "text/x-python",
   "name": "python",
   "nbconvert_exporter": "python",
   "pygments_lexer": "ipython3",
   "version": "3.8.10"
  }
 },
 "nbformat": 4,
 "nbformat_minor": 4
}