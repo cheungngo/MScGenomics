{
 "cells": [
  {
   "cell_type": "markdown",
   "metadata": {
    "collapsed": false
   },
   "source": [
    "# Chapter 17 Conditional control flow"
   ]
  },
  {
   "cell_type": "markdown",
   "metadata": {
    "collapsed": false
   },
   "source": [
    "## Q1: Calculate the total molecular weight for the sequence in the file seq.txt"
   ]
  },
  {
   "cell_type": "code",
   "execution_count": 5,
   "metadata": {
    "collapsed": false
   },
   "outputs": [
   ],
   "source": [
    "import io"
   ]
  },
  {
   "cell_type": "code",
   "execution_count": 4,
   "metadata": {
    "collapsed": false
   },
   "outputs": [
   ],
   "source": [
    "# function for calculating the mole weight\n",
    "def mw(a,t,c,g):\n",
    "    return(a*313.21 + t*304.2 + c*289.18 + g*329.21 - 61.96)"
   ]
  },
  {
   "cell_type": "code",
   "execution_count": 10,
   "metadata": {
    "collapsed": false
   },
   "outputs": [
    {
     "name": "stdout",
     "output_type": "stream",
     "text": [
      "1\n"
     ]
    }
   ],
   "source": [
    "nol = sum(1 for i in io.open(\"data_17/seq.txt\"))\n",
    "print(nol)"
   ]
  },
  {
   "cell_type": "code",
   "execution_count": 13,
   "metadata": {
    "collapsed": false
   },
   "outputs": [
    {
     "name": "stdout",
     "output_type": "stream",
     "text": [
      "AATGCGAATATTTTTATTTACAATCAATTACAATCAAGTCTTAAACTTATAGATTATAAAAATTATATATTCTAGTAATGGAAATCAACTCTTACTCAATAGTCGTAGAGCCAAAATTTAAAAGAAATCTTAATTATTAAAATAAAACTAGATAACTTTGAAAGTTGACGGTTGATTTAATCCAAAATATGAAATACATTGTTTTGACTGAAATGTGTTATTTGTTAGAATGTTGGTTGAAATTATCTATTCGTAACATAGTATTAAATACTGTTTATATCAGGGATTCCCAAAGTGGTCGATATTGAACTTAAAGCATTGCTAATTCTCACTCTGTCTTCTATTGACCTAAGTCAGAATTAATAATAATAATAATTGATCTTAAAAGTAGGTAATTTGGCCATGGGGGGTCTTAACAGTTTATTTTGGAAAAGGGGTCCAAAATAGTTTGGGGGTACCTGCTCTAAACATTTACATTTAAATATAAGGAAACTTATTAATGATACTAAAATATATTTTATATTTTTTGCTTATAATGCTATAAAAATATCTTAGAATCATATAAGAAACATACTCCAACAAATATATAAAATTACAAAAAAATATATACCTAATTATGTCTCATGAAGTTTATCATTGTAGTTGAATCAACAAGTAAAACCACAGGATGCAGCTTGTATGAAATACAAACAACTATTATTTGTTAATCTTTTTTAATGTCTTTTATCTACGATTATTTTGAAATCGTAGCGAGCAATTAACTTTTTTAAATCAATAAAAAATTAACTAATGTTATTTGTCTTTACTTTTTATAATTTGCATTGTCTACATTCCTTAAATGTAATTAGTATTAATGAAAAGTGCCTTGATAATGATGATGTTATATAAATAAAGTTGTCAGAAGTTCGGCGAGTACGGCAAAGATGACCCCGAACAGTTTCCGTCTGTCGGAGAACTTCAGCCTGTACCCGCAGTTCATGTACCACCTTCGCCGCTCGCA\n"
     ]
    }
   ],
   "source": [
    "molecule = \"\"\n",
    "with io.open(\"data_17/seq.txt\") as fh:\n",
    "    molecule = fh.readline().strip()\n",
    "print(molecule)"
   ]
  },
  {
   "cell_type": "code",
   "execution_count": 15,
   "metadata": {
    "collapsed": false
   },
   "outputs": [
    {
     "name": "stdout",
     "output_type": "stream",
     "text": [
      "308911.36\n"
     ]
    }
   ],
   "source": [
    "a = 0; c = 0; t = 0; g = 0\n",
    "for i in molecule:\n",
    "    if i == \"A\":\n",
    "        a += 1\n",
    "    elif i == \"C\":\n",
    "        c += 1\n",
    "    elif i == \"G\":\n",
    "        g += 1\n",
    "    elif i == \"T\":\n",
    "        t += 1\n",
    "    else:\n",
    "        print(\"error noted x 1\")\n",
    "print(mw(a,t,c,g))"
   ]
  },
  {
   "cell_type": "code",
   "execution_count": 16,
   "metadata": {
    "collapsed": false
   },
   "outputs": [
   ],
   "source": [
    "# making a function for the above calculation:\n",
    "def mw_from_mole(molecule):\n",
    "    a = 0; c = 0; t = 0; g = 0\n",
    "    for i in molecule:\n",
    "        if i == \"A\":\n",
    "            a += 1\n",
    "        elif i == \"C\":\n",
    "            c += 1\n",
    "        elif i == \"G\":\n",
    "            g += 1\n",
    "        elif i == \"T\":\n",
    "            t += 1\n",
    "        else:\n",
    "            print(\"error noted x 1\")\n",
    "    return(mw(a,t,c,g))"
   ]
  },
  {
   "cell_type": "code",
   "execution_count": 18,
   "metadata": {
    "collapsed": false
   },
   "outputs": [
    {
     "name": "stdout",
     "output_type": "stream",
     "text": [
      "308911.36\n"
     ]
    }
   ],
   "source": [
    "print(mw_from_mole(molecule))"
   ]
  },
  {
   "cell_type": "markdown",
   "metadata": {
    "collapsed": false
   },
   "source": [
    "## Q2: Calculate the molecular weight for the molecules in another file"
   ]
  },
  {
   "cell_type": "code",
   "execution_count": 20,
   "metadata": {
    "collapsed": false
   },
   "outputs": [
    {
     "name": "stdout",
     "output_type": "stream",
     "text": [
      "4\n"
     ]
    }
   ],
   "source": [
    "nol = sum(1 for i in io.open(\"data_17/seqs.txt\"))\n",
    "print(nol)"
   ]
  },
  {
   "cell_type": "code",
   "execution_count": 23,
   "metadata": {
    "collapsed": false
   },
   "outputs": [
   ],
   "source": [
    "molecules = list()\n",
    "with io.open(\"data_17/seqs.txt\") as fh:\n",
    "    for i in range(nol):\n",
    "        molecules.append(fh.readline().strip())"
   ]
  },
  {
   "cell_type": "code",
   "execution_count": 25,
   "metadata": {
    "collapsed": false
   },
   "outputs": [
    {
     "name": "stdout",
     "output_type": "stream",
     "text": [
      "308911.36\n",
      "289161.41\n",
      "308781.32\n",
      "290086.45999999996\n"
     ]
    }
   ],
   "source": [
    "for i in molecules:\n",
    "    print(mw_from_mole(i))"
   ]
  },
  {
   "cell_type": "markdown",
   "metadata": {
    "collapsed": false
   },
   "source": [
    "## Q3: Same calculation from a different file with a different format"
   ]
  },
  {
   "cell_type": "code",
   "execution_count": 28,
   "metadata": {
    "collapsed": false
   },
   "outputs": [
    {
     "name": "stdout",
     "output_type": "stream",
     "text": [
      "4\n"
     ]
    }
   ],
   "source": [
    "nol = sum(1 for i in io.open(\"data_17/ids_seqs.txt\"))\n",
    "print(nol)"
   ]
  },
  {
   "cell_type": "code",
   "execution_count": 32,
   "metadata": {
    "collapsed": false
   },
   "outputs": [
   ],
   "source": [
    "molecules = list()\n",
    "with io.open(\"data_17/ids_seqs.txt\") as fh:\n",
    "    for i in range(nol):\n",
    "        molecules.append(fh.readline().strip().split(\"\\t\"))"
   ]
  },
  {
   "cell_type": "code",
   "execution_count": 35,
   "metadata": {
    "collapsed": false
   },
   "outputs": [
    {
     "name": "stdout",
     "output_type": "stream",
     "text": [
      "['PZ7180000000004_TX', 'AATGCGAATATTTTTATTTACAATCAATTACAATCAAGTCTTAAACTTATAGATTATAAAAATTATATATTCTAGTAATGGAAATCAACTCTTACTCAATAGTCGTAGAGCCAAAATTTAAAAGAAATCTTAATTATTAAAATAAAACTAGATAACTTTGAAAGTTGACGGTTGATTTAATCCAAAATATGAAATACATTGTTTTGACTGAAATGTGTTATTTGTTAGAATGTTGGTTGAAATTATCTATTCGTAACATAGTATTAAATACTGTTTATATCAGGGATTCCCAAAGTGGTCGATATTGAACTTAAAGCATTGCTAATTCTCACTCTGTCTTCTATTGACCTAAGTCAGAATTAATAATAATAATAATTGATCTTAAAAGTAGGTAATTTGGCCATGGGGGGTCTTAACAGTTTATTTTGGAAAAGGGGTCCAAAATAGTTTGGGGGTACCTGCTCTAAACATTTACATTTAAATATAAGGAAACTTATTAATGATACTAAAATATATTTTATATTTTTTGCTTATAATGCTATAAAAATATCTTAGAATCATATAAGAAACATACTCCAACAAATATATAAAATTACAAAAAAATATATACCTAATTATGTCTCATGAAGTTTATCATTGTAGTTGAATCAACAAGTAAAACCACAGGATGCAGCTTGTATGAAATACAAACAACTATTATTTGTTAATCTTTTTTAATGTCTTTTATCTACGATTATTTTGAAATCGTAGCGAGCAATTAACTTTTTTAAATCAATAAAAAATTAACTAATGTTATTTGTCTTTACTTTTTATAATTTGCATTGTCTACATTCCTTAAATGTAATTAGTATTAATGAAAAGTGCCTTGATAATGATGATGTTATATAAATAAAGTTGTCAGAAGTTCGGCGAGTACGGCAAAGATGACCCCGAACAGTTTCCGTCTGTCGGAGAACTTCAGCCTGTACCCGCAGTTCATGTACCACCTTCGCCGCTCGCA']\n"
     ]
    }
   ],
   "source": [
    "print(molecules[0])"
   ]
  },
  {
   "cell_type": "code",
   "execution_count": 41,
   "metadata": {
    "collapsed": false
   },
   "outputs": [
    {
     "name": "stdout",
     "output_type": "stream",
     "text": [
      "PZ7180000000004_TX\t308911.36\n",
      "PZ7180000027934\t289161.41\n",
      "PZ7180000000004_TY\t308781.32\n",
      "PZ7180000024036\t290086.45999999996\n"
     ]
    }
   ],
   "source": [
    "for i in molecules:\n",
    "    print(i[0] + \"\\t\" + str(mw_from_mole(i[1])))"
   ]
  },
  {
   "cell_type": "markdown",
   "metadata": {
    "collapsed": false
   },
   "source": [
    "## Q4: finding the overlapping sequences:"
   ]
  },
  {
   "cell_type": "code",
   "execution_count": 42,
   "metadata": {
    "collapsed": false
   },
   "outputs": [
    {
     "name": "stdout",
     "output_type": "stream",
     "text": [
      "0\n",
      "2\n",
      "4\n",
      "6\n",
      "13\n"
     ]
    }
   ],
   "source": [
    "seq = \"GAGAGAGAGATATGAGA\"\n",
    "subseq = \"GAGA\"\n",
    "\n",
    "for i in range(len(seq)):\n",
    "    curseq = seq[i:(i+4)]\n",
    "    if (len(curseq) < 4):\n",
    "        break\n",
    "    if (curseq == subseq):\n",
    "        print(i)"
   ]
  }
 ],
 "metadata": {
  "kernelspec": {
   "display_name": "Python 3 (system-wide)",
   "language": "python",
   "metadata": {
    "cocalc": {
     "description": "Python 3 programming language",
     "priority": 100,
     "url": "https://www.python.org/"
    }
   },
   "name": "python3",
   "resource_dir": "/ext/jupyter/kernels/python3"
  },
  "language_info": {
   "codemirror_mode": {
    "name": "ipython",
    "version": 3
   },
   "file_extension": ".py",
   "mimetype": "text/x-python",
   "name": "python",
   "nbconvert_exporter": "python",
   "pygments_lexer": "ipython3",
   "version": "3.8.10"
  }
 },
 "nbformat": 4,
 "nbformat_minor": 4
}