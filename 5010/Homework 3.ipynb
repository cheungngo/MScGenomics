{
 "cells": [
  {
   "cell_type": "markdown",
   "metadata": {
    "collapsed": false
   },
   "source": [
    "# Homework 3"
   ]
  },
  {
   "cell_type": "markdown",
   "metadata": {
    "collapsed": false
   },
   "source": [
    "## Question 1: "
   ]
  },
  {
   "cell_type": "markdown",
   "metadata": {
    "collapsed": false
   },
   "source": [
    "Modify the snps_density.py so that for each 1,000,000 bp region of each chromosome, the program calculates the percentage of SNPs that are transitions and the number of SNPs in each region. The results should be saved to a file called transitions.txt and look similar to this:"
   ]
  },
  {
   "cell_type": "markdown",
   "metadata": {
    "collapsed": false
   },
   "source": [
    "#### class SNP"
   ]
  },
  {
   "cell_type": "code",
   "execution_count": 18,
   "metadata": {
    "collapsed": false
   },
   "outputs": [
   ],
   "source": [
    "## A class representing simple SNPs\n",
    "\n",
    "class SNP:\n",
    "    def __init__(self, chrname, pos, snpid, refallele, altallele):\n",
    "        assert refallele != altallele, f\"Error: ref == alt at pos {pos}\"\n",
    "        self.chrname = chrname\n",
    "        self.pos = pos\n",
    "        self.snpid = snpid\n",
    "        self.refallele = refallele\n",
    "        self.altallele = altallele\n",
    "\n",
    "\n",
    "    ## Returns True if refallele/altallele is A/G, G/A, C/T, or T/C\n",
    "    def is_transition(self):\n",
    "        is_AG = (self.refallele == \"A\" and self.altallele == \"G\")\n",
    "        is_GA = (self.refallele == \"G\" and self.altallele == \"A\")\n",
    "        if is_AG or is_GA:\n",
    "            return True  \n",
    "        \n",
    "        is_CT = (self.refallele == \"C\" and self.altallele == \"T\")\n",
    "        is_TC = (self.refallele == \"T\" and self.altallele == \"C\")\n",
    "        if is_CT or is_TC:\n",
    "             return True\n",
    "\n",
    "        return False\n",
    "\n",
    "    ## Returns True if the snp is a transversion (ie, not a transition)\n",
    "    def is_transversion(self):\n",
    "        if self.is_transition():\n",
    "            return False\n",
    "        return True"
   ]
  },
  {
   "cell_type": "code",
   "execution_count": 2,
   "metadata": {
    "collapsed": false
   },
   "outputs": [
   ],
   "source": [
    "## transition test; should not result in \"Failed Test\"\n",
    "\n",
    "snp1 = SNP(\"1\", 12351, \"rs11345\", \"C\", \"T\")\n",
    "assert snp1.is_transition(), \"Failed Test\""
   ]
  },
  {
   "cell_type": "code",
   "execution_count": 3,
   "metadata": {
    "collapsed": false
   },
   "outputs": [
   ],
   "source": [
    "## transversion test; should not result in \"Failed Test\"\n",
    "snp2 = SNP(\"1\", 36642, \"rs22541\", \"A\", \"T\")\n",
    "assert snp2.is_transversion(), \"Failed Test\"    ## Does not error"
   ]
  },
  {
   "cell_type": "code",
   "execution_count": 4,
   "metadata": {
    "collapsed": false
   },
   "outputs": [
    {
     "ename": "AssertionError",
     "evalue": "Error: ref == alt at pos 69835",
     "output_type": "error",
     "traceback": [
      "\u001b[0;31m---------------------------------------------------------------------------\u001b[0m",
      "\u001b[0;31mAssertionError\u001b[0m                            Traceback (most recent call last)",
      "\u001b[0;32m/tmp/ipykernel_430/2393683182.py\u001b[0m in \u001b[0;36m<module>\u001b[0;34m\u001b[0m\n\u001b[1;32m      1\u001b[0m \u001b[0;31m## error test; should result in \"Error: ref == pos at position 69835\"\u001b[0m\u001b[0;34m\u001b[0m\u001b[0;34m\u001b[0m\u001b[0;34m\u001b[0m\u001b[0m\n\u001b[0;32m----> 2\u001b[0;31m \u001b[0msnp3\u001b[0m \u001b[0;34m=\u001b[0m \u001b[0mSNP\u001b[0m\u001b[0;34m(\u001b[0m\u001b[0;34m\"1\"\u001b[0m\u001b[0;34m,\u001b[0m \u001b[0;36m69835\u001b[0m\u001b[0;34m,\u001b[0m \u001b[0;34m\"rs53461\"\u001b[0m\u001b[0;34m,\u001b[0m \u001b[0;34m\"A\"\u001b[0m\u001b[0;34m,\u001b[0m \u001b[0;34m\"A\"\u001b[0m\u001b[0;34m)\u001b[0m             \u001b[0;31m## Results in error\u001b[0m\u001b[0;34m\u001b[0m\u001b[0;34m\u001b[0m\u001b[0m\n\u001b[0m",
      "\u001b[0;32m/tmp/ipykernel_430/2354461646.py\u001b[0m in \u001b[0;36m__init__\u001b[0;34m(self, chrname, pos, snpid, refallele, altallele)\u001b[0m\n\u001b[1;32m      3\u001b[0m \u001b[0;32mclass\u001b[0m \u001b[0mSNP\u001b[0m\u001b[0;34m:\u001b[0m\u001b[0;34m\u001b[0m\u001b[0;34m\u001b[0m\u001b[0m\n\u001b[1;32m      4\u001b[0m     \u001b[0;32mdef\u001b[0m \u001b[0m__init__\u001b[0m\u001b[0;34m(\u001b[0m\u001b[0mself\u001b[0m\u001b[0;34m,\u001b[0m \u001b[0mchrname\u001b[0m\u001b[0;34m,\u001b[0m \u001b[0mpos\u001b[0m\u001b[0;34m,\u001b[0m \u001b[0msnpid\u001b[0m\u001b[0;34m,\u001b[0m \u001b[0mrefallele\u001b[0m\u001b[0;34m,\u001b[0m \u001b[0maltallele\u001b[0m\u001b[0;34m)\u001b[0m\u001b[0;34m:\u001b[0m\u001b[0;34m\u001b[0m\u001b[0;34m\u001b[0m\u001b[0m\n\u001b[0;32m----> 5\u001b[0;31m         \u001b[0;32massert\u001b[0m \u001b[0mrefallele\u001b[0m \u001b[0;34m!=\u001b[0m \u001b[0maltallele\u001b[0m\u001b[0;34m,\u001b[0m \u001b[0;34mf\"Error: ref == alt at pos {pos}\"\u001b[0m\u001b[0;34m\u001b[0m\u001b[0;34m\u001b[0m\u001b[0m\n\u001b[0m\u001b[1;32m      6\u001b[0m         \u001b[0mself\u001b[0m\u001b[0;34m.\u001b[0m\u001b[0mchrname\u001b[0m \u001b[0;34m=\u001b[0m \u001b[0mchrname\u001b[0m\u001b[0;34m\u001b[0m\u001b[0;34m\u001b[0m\u001b[0m\n\u001b[1;32m      7\u001b[0m         \u001b[0mself\u001b[0m\u001b[0;34m.\u001b[0m\u001b[0mpos\u001b[0m \u001b[0;34m=\u001b[0m \u001b[0mpos\u001b[0m\u001b[0;34m\u001b[0m\u001b[0;34m\u001b[0m\u001b[0m\n",
      "\u001b[0;31mAssertionError\u001b[0m: Error: ref == alt at pos 69835"
     ]
    }
   ],
   "source": [
    "## error test; should result in \"Error: ref == pos at position 69835\"\n",
    "snp3 = SNP(\"1\", 69835, \"rs53461\", \"A\", \"A\")             ## Results in error"
   ]
  },
  {
   "cell_type": "markdown",
   "metadata": {
    "collapsed": false
   },
   "source": [
    "#### Class Chromosome"
   ]
  },
  {
   "cell_type": "code",
   "execution_count": 74,
   "metadata": {
    "collapsed": false
   },
   "outputs": [
   ],
   "source": [
    "class Chromosome:\n",
    "    \n",
    "    def __init__(self, chrname):\n",
    "        self.chrname = chrname\n",
    "        self.locations_to_snps = dict()\n",
    "\n",
    "    ## Returns the chromosome name\n",
    "    def get_name(self):\n",
    "        return self.name\n",
    "\n",
    "    \n",
    "    ## Given all necessary information to add a new SNP, create\n",
    "    ## a new SNP object and add it to the SNPs dictionary. If\n",
    "    ## a SNP already exists at that location, or\n",
    "    ## the given chrname doesn't match self.chrname, an error is reported.\n",
    "    def add_snp(self, chrname, pos, snpid, refallele, altallele):\n",
    "        ## If there is already an entry for that SNP, throw an error\n",
    "        open_location = not (pos in self.locations_to_snps)\n",
    "        assert open_location, f\"Duplicate SNP: {self.chrname}:{pos}\"\n",
    "        \n",
    "        ## If the chrname doesn't match self.chrname, throw and error\n",
    "        assert chrname == self.chrname, \"Chr name mismatch!\"\n",
    "\n",
    "        ## Otherwise, create the SNP object and add it to the dictionary\n",
    "        newsnp = SNP(chrname, pos, snpid, refallele, altallele)\n",
    "        self.locations_to_snps[pos] = newsnp\n",
    "\n",
    "\n",
    "    ## Returns the number of transition snps stored in this chromosome\n",
    "    def count_transitions(self):\n",
    "        count = 0\n",
    "\n",
    "        locations = self.locations_to_snps.keys()\n",
    "        for location in locations:\n",
    "            snp = self.locations_to_snps[location]\n",
    "            if snp.is_transition():\n",
    "                count = count + 1\n",
    "\n",
    "        return count\n",
    "\n",
    "\n",
    "    ## Returns the number of transversion snps stored in this chromosome\n",
    "    def count_transversions(self):\n",
    "        total_snps = len(self.locations_to_snps)\n",
    "        return total_snps - self.count_transitions()\n",
    "\n",
    "    \n",
    "    ## returns the number of snps between l and m, divided by\n",
    "    ## the size of the region\n",
    "    def density_region(self, l, m):\n",
    "        count = 0\n",
    "        for location in self.locations_to_snps.keys():\n",
    "            if location >= l and location <= m:\n",
    "                count = count + 1\n",
    "\n",
    "        size = m - l  + 1\n",
    "        return 1000*count/float(size)\n",
    "\n",
    "\n",
    "    ## returns the position of the last SNP known\n",
    "    def get_last_snp_position(self):\n",
    "        locations = list(self.locations_to_snps.keys())\n",
    "        locations.sort()\n",
    "        return locations[len(locations) - 1]\n",
    "    \n",
    "\n",
    "    ## given a region size, looks at non-overlapping windows\n",
    "    ## of that size and returns a list of three elements for\n",
    "    ## the region with the highest density:\n",
    "    ## [density of region, start of region, end of region]\n",
    "    def max_density(self, region_size):\n",
    "        region_start = 1\n",
    "        ## default answer if no SNPs exist [density, start, end]:\n",
    "        best_answer = [0.0, 1, region_size - 1]\n",
    "        \n",
    "        ## todo: implement this method\n",
    "        last_snp_position = self.get_last_snp_position()\n",
    "        while region_start < last_snp_position:\n",
    "            region_end = region_start + region_size - 1\n",
    "            region_density = self.density_region(region_start, region_end)\n",
    "            # if this region has a higher density than any we've seen so far:\n",
    "            if region_density > best_answer[0]:\n",
    "                best_answer = [region_density, region_start, region_end]\n",
    "            \n",
    "            region_start = region_start + region_size\n",
    "        \n",
    "        return best_answer\n",
    "    \n",
    "    \n",
    "    ### Below are the new functions in the class \"chromosome\"\n",
    "\n",
    "\n",
    "    # A function to count the number of snp, transition and transversion cout in a given region\n",
    "    def region_trans(self, l, m):\n",
    "        \n",
    "        # initializing the variables\n",
    "        count_snp = 0\n",
    "        count_transition = 0\n",
    "        count_transversion = 0\n",
    "        \n",
    "        # iterating through the dictionary (key = location, value = snp-related)\n",
    "        for loc in self.locations_to_snps.keys():\n",
    "            \n",
    "            loc = int(loc)\n",
    "            \n",
    "            # when the location falls into the given region\n",
    "            if loc >= l and loc <= m:\n",
    "                \n",
    "                # count the corresponding snp number, and transition / transversion count\n",
    "                count_snp += 1\n",
    "                if self.locations_to_snps[str(loc)].is_transition():\n",
    "                    count_transition += 1\n",
    "                if self.locations_to_snps[str(loc)].is_transversion():\n",
    "                    count_transversion += 1\n",
    "        \n",
    "        # consider the exceptional cases where no snp in the region\n",
    "        try:\n",
    "            return [count_snp, round(count_transition / count_snp,3), round(count_transversion / count_snp,3)]\n",
    "        except:\n",
    "            return [count_snp, 0, 0]\n",
    "\n",
    "        \n",
    "    # A function to find the counts (snp, transition) in a chromosome, divided by specific region size\n",
    "    \n",
    "    def region_den(self, region_size):\n",
    "        \n",
    "        # lastsnp being the last snp in each chromosome\n",
    "        lastsnp = int(sorted(self.locations_to_snps.keys(), reverse = True)[0])\n",
    "        \n",
    "        # initializing the output dictionary\n",
    "        rden = dict()\n",
    "        \n",
    "        # iterating from the pos == 1 to the last snp, with each step == region size\n",
    "        for loc in range(1, lastsnp, region_size):\n",
    "            \n",
    "            loc = int(loc)\n",
    "            \n",
    "            # calculate the counts for each region with specified region size\n",
    "            reg_trans = self.region_trans(loc, loc + region_size - 1)\n",
    "            \n",
    "            # output with location, percentage of transition, and number of snp\n",
    "            no_snp = reg_trans[0]\n",
    "            percent_transition = reg_trans[1]\n",
    "            key = str(loc) + \"..\" + str(loc + region_size - 1)\n",
    "            rden[key] = [key, percent_transition, no_snp]\n",
    "            \n",
    "        return(rden)"
   ]
  },
  {
   "cell_type": "markdown",
   "metadata": {
    "collapsed": false
   },
   "source": [
    "#### Main program"
   ]
  },
  {
   "cell_type": "code",
   "execution_count": 72,
   "metadata": {
    "collapsed": false
   },
   "outputs": [
   ],
   "source": [
    "import io\n",
    "\n",
    "def main():\n",
    "\n",
    "    # number of lines in file\n",
    "    no = sum(1 for line in io.open(\"trio.sample.vcf\"))\n",
    "\n",
    "    with io.open(\"trio.sample.vcf\") as fh:\n",
    "        \n",
    "        # initialize the dictionary; with keys = chromosome number; value = each snp\n",
    "        chrnames_to_chrs = dict()\n",
    "        \n",
    "        # iterating through all the lines\n",
    "        for i in range(no):\n",
    "            \n",
    "            # splitting each lines into lists\n",
    "            ln = fh.readline().strip().split(\"\\t\")\n",
    "            \n",
    "            # skipping the first few lines which started with \"#\"\n",
    "            if not ln[0].startswith(\"#\"):\n",
    "                \n",
    "                # initialize a new chromosome if not found in the dict\n",
    "                if ln[0] not in chrnames_to_chrs.keys():\n",
    "                    chrnames_to_chrs[ln[0]] = Chromosome(ln[0])\n",
    "                # adding the snp line by line\n",
    "                chrnames_to_chrs[ln[0]].add_snp(ln[0],ln[1],ln[2],ln[3],ln[4])\n",
    "\n",
    "    # writing the output file\n",
    "    with open(\"transitions.txt\", \"w\") as fh:\n",
    "        \n",
    "        # the column names\n",
    "        fh.write(\"chromosome\" + \"\\t\" + \"loc\" + \"\\t\" + \"%transition\" + \"\\t\" + \"num_snp\" + \"\\n\")\n",
    "        \n",
    "        # iterating through each chromosomes, e.g. 1,2,3...X\n",
    "        for i in chrnames_to_chrs.keys():\n",
    "            \n",
    "            # calculate the counts (snp, transition) in a chromosome, divided by specific region size\n",
    "            dc = chrnames_to_chrs[i].region_den(1000000)\n",
    "            \n",
    "            # for each region, write the data\n",
    "            for loc in dc.keys():\n",
    "                ls = dc[loc]\n",
    "                fh.write(str(i) + \"\\t\" + str(ls[0]) + \"\\t\" + str(ls[1]) + \"\\t\" + str(ls[2]) + \"\\n\")"
   ]
  },
  {
   "cell_type": "code",
   "execution_count": 73,
   "metadata": {
    "collapsed": false
   },
   "outputs": [
   ],
   "source": [
    "main()"
   ]
  },
  {
   "cell_type": "markdown",
   "metadata": {
    "collapsed": false
   },
   "source": [
    "## Question 2"
   ]
  },
  {
   "cell_type": "markdown",
   "metadata": {
    "collapsed": false
   },
   "source": [
    "The   module (used with     ) allows us to make random choices; for example, returns a random float between 0.0 and 1.0. The\n",
    "function returns a random integer between a and b (inclusive); for example,\n",
    "4) could return 1, 2, 3, or 4. There’s also a   function; given a list, it returns a single element (at random) from it. So, if   , then random.choice(bases) will return a single string, either \"A\", \"C\", \"T\", or \"G\".\n"
   ]
  },
  {
   "cell_type": "markdown",
   "metadata": {
    "collapsed": false
   },
   "source": [
    "In this program, define a Bug class. A bug object will represent an individual organism with a genome, from which a fitness can be calculated. For example, if a = Bug(), then a will have a self.genome which is a string of 100 random DNA bases (this should be generated in the constructor). You should implement a .get_fitness() method which returns a number computed from self.geome. For example, let’s simply define the fitness as\n",
    "   Number of G bases + Number of C bases + 5 if “AAA” present in the genome.\n"
   ]
  },
  {
   "cell_type": "markdown",
   "metadata": {
    "collapsed": false
   },
   "source": [
    "\n",
    "Bug objects should also have a .mutate_random_base() method, which causes a random\n",
    "random\n",
    "  random.random()\n",
    "random.choice()\n",
    "element of implement a\n",
    "In the\n",
    "each run its\n",
    "to be set to a random element from [\"A\", \"C\", \"G\", \"T\"]. Finally, method, which sets a specific index in the genome to a specific base:\n",
    "should set self.genome[3] to \"T\"."
   ]
  },
  {
   "cell_type": "markdown",
   "metadata": {
    "collapsed": false
   },
   "source": [
    "In the main() on of your program, create a list of 10 Bug objects, and in a for-loop, have\n",
    "method and print its new fitness."
   ]
  },
  {
   "cell_type": "code",
   "execution_count": 2,
   "metadata": {
    "collapsed": false
   },
   "outputs": [
   ],
   "source": [
    "import random"
   ]
  },
  {
   "cell_type": "code",
   "execution_count": 245,
   "metadata": {
    "collapsed": false
   },
   "outputs": [
   ],
   "source": [
    "class bug:\n",
    "    \n",
    "    \n",
    "    def __init__(self):\n",
    "        \n",
    "        # four bases\n",
    "        self.bases = [\"A\", \"T\", \"C\", \"G\"]\n",
    "        \n",
    "        # generating 100 bases by random\n",
    "        self.genome = [random.choice(self.bases) for i in range(100)]\n",
    "        \n",
    "        \n",
    "    # function to mutate a random base\n",
    "    def mutate_base(self):\n",
    "        \n",
    "        # generate a random number from 0 to 99\n",
    "        base_no = random.randint(0,99)\n",
    "        # mutate the base according to the above number\n",
    "        original_base = self.genome[base_no]\n",
    "        # ensure the base is mutated\n",
    "        while self.genome[base_no] == original_base:\n",
    "            self.genome[base_no] = random.choice(self.bases)\n",
    "        return(self.genome)\n",
    "        \n",
    "        \n",
    "    # function to set a base to another desired base\n",
    "    def set_base(self, index, base):\n",
    "        \n",
    "        # ensure the desired base is not equal to the original base\n",
    "        assert base != self.genome[index], \"error: base already set\"\n",
    "        # set the base\n",
    "        self.genome[index] = base\n",
    "        return(self.genome)\n",
    "        \n",
    "        \n",
    "    # function to get the fitness\n",
    "    def get_fitness(self):\n",
    "        \n",
    "        # initializing\n",
    "        self.fitness = 0\n",
    "        fitness = 0\n",
    "        \n",
    "        # calculating the fitness by assessing the GC content\n",
    "        for i in range(len(self.genome)):\n",
    "            if self.genome[i] == \"G\" or self.genome[i] == \"C\":\n",
    "                fitness += 1\n",
    "        \n",
    "        # joining the list of genome as a string\n",
    "        genome_str = \"\".join(self.genome)\n",
    "        # fitness + 5 if \"AAA\" is present\n",
    "        if \"AAA\" in genome_str:\n",
    "            fitness += 5\n",
    "        self.fitness = fitness\n",
    "        return(self.fitness)\n",
    "        \n",
    "    # Function to replace the entire genome \n",
    "    # for question 3\n",
    "    def replace_genome(self, genomes):\n",
    "        newgenomes = [i for i in genomes] # this is very important\n",
    "        self.genome = newgenomes\n",
    "        return(self.genome)"
   ]
  },
  {
   "cell_type": "markdown",
   "metadata": {
    "collapsed": false
   },
   "source": [
    "#### Testing the program"
   ]
  },
  {
   "cell_type": "code",
   "execution_count": 246,
   "metadata": {
    "collapsed": false
   },
   "outputs": [
    {
     "name": "stdout",
     "output_type": "stream",
     "text": [
      "['G', 'G', 'T', 'T', 'T', 'G', 'A', 'A', 'G', 'G', 'T', 'C', 'C', 'G', 'A', 'T', 'A', 'T', 'G', 'T', 'G', 'G', 'C', 'T', 'G', 'G', 'T', 'T', 'A', 'T', 'C', 'T', 'A', 'A', 'T', 'T', 'G', 'C', 'C', 'C', 'C', 'C', 'G', 'T', 'A', 'C', 'A', 'G', 'A', 'A', 'G', 'G', 'C', 'A', 'G', 'G', 'T', 'C', 'T', 'G', 'G', 'G', 'A', 'T', 'C', 'C', 'C', 'C', 'G', 'G', 'C', 'C', 'T', 'T', 'C', 'T', 'C', 'A', 'G', 'A', 'C', 'C', 'T', 'G', 'A', 'G', 'C', 'A', 'C', 'A', 'G', 'T', 'C', 'C', 'G', 'A', 'T', 'G', 'C', 'G']\n"
     ]
    }
   ],
   "source": [
    "# initialization of a bug\n",
    "a = bug()\n",
    "print(a.genome)"
   ]
  },
  {
   "cell_type": "code",
   "execution_count": 247,
   "metadata": {
    "collapsed": false
   },
   "outputs": [
    {
     "data": {
      "text/plain": [
       "57"
      ]
     },
     "execution_count": 247,
     "metadata": {
     },
     "output_type": "execute_result"
    }
   ],
   "source": [
    "# get fitness\n",
    "a.get_fitness()\n",
    "a.fitness"
   ]
  },
  {
   "cell_type": "code",
   "execution_count": 248,
   "metadata": {
    "collapsed": false
   },
   "outputs": [
    {
     "name": "stdout",
     "output_type": "stream",
     "text": [
      "13\n"
     ]
    }
   ],
   "source": [
    "b = [i for i in a.genome]\n",
    "# random mutation\n",
    "a.mutate_base()\n",
    "\n",
    "# checking which has been mutated\n",
    "\n",
    "for i in range(len(b)):\n",
    "    if b[i] != a.genome[i]:\n",
    "        print(i)"
   ]
  },
  {
   "cell_type": "code",
   "execution_count": 249,
   "metadata": {
    "collapsed": false
   },
   "outputs": [
    {
     "name": "stdout",
     "output_type": "stream",
     "text": [
      "0\n"
     ]
    }
   ],
   "source": [
    "c = [i for i in a.genome]\n",
    "# set base\n",
    "a.set_base(0, \"T\")\n",
    "\n",
    "# checking if the base has been set\n",
    "\n",
    "for i in range(len(c)):\n",
    "    if c[i] != a.genome[i]:\n",
    "        print(i)"
   ]
  },
  {
   "cell_type": "markdown",
   "metadata": {
    "collapsed": false
   },
   "source": [
    "## Question 3:"
   ]
  },
  {
   "cell_type": "markdown",
   "metadata": {
    "collapsed": false
   },
   "source": [
    "(Bonus) Write another program based on the code of previous question and simlulate the \n",
    "evolutonary progress. Frist, create a Population class. Population objects will have a list of Bug \n",
    "objects (say, 50) called self.bug_list. This Population class should have also\n",
    "a .create_offspring() method, which will:"
   ]
  },
  {
   "cell_type": "markdown",
   "metadata": {
    "collapsed": false
   },
   "source": [
    "1) create an empty new_pop list, \n",
    "2) for each oldbug in self.bug_list: \n",
    "    a) create a new Bug object newbug, \n",
    "    b) set the genome of newbug to be the same as that of oldbug, \n",
    "    c) call newbug.mutate_random_base(), and \n",
    "    d) add oldbug and newbug to new_pop. \n",
    "3) set self.bug_list to new_pop."
   ]
  },
  {
   "cell_type": "markdown",
   "metadata": {
    "collapsed": false
   },
   "source": [
    "The Population class will also have a .cull() method; this should reduce self.bug_list to the \n",
    "top 50% of bug objects by fitness. You might find .__lt__() in Bug class and similar methods \n",
    "useful, as they will allow you to sort self.bug_list by fitness if implemented properly.nFinally, \n",
    "implement a .get_mean_fitness() method in the Population class, which should return the \n",
    "average fitness of self.bug_list."
   ]
  },
  {
   "cell_type": "markdown",
   "metadata": {
    "collapsed": false
   },
   "source": [
    "In the main() function of your program, first instantiate a p = Population() object and then in \n",
    "a for-loop of 20 iterations:"
   ]
  },
  {
   "cell_type": "markdown",
   "metadata": {
    "collapsed": false
   },
   "source": [
    "1) run p.create_offspring(), \n",
    "2) run p.cull(), and \n",
    "3) print p.get_mean_fitness(), allowing you to see the evolutionary progress of your \n",
    "simulation."
   ]
  },
  {
   "cell_type": "markdown",
   "metadata": {
    "collapsed": false
   },
   "source": [
    "Your program should simulate the evolutionary progress, where population fitness is improving. See \n",
    "the example output below.\n",
    "\n",
    ">Fitness of population during evolutionary progress\n",
    "\n",
    ">(Assuming fitness = num_Gs + num_Cs (+ 5, if AAA present in genome)):\n",
    "\n",
    ">53.36\n",
    "\n",
    ">57.62\n",
    "\n",
    ">59.96\n",
    "\n",
    ">60.94"
   ]
  },
  {
   "cell_type": "code",
   "execution_count": 236,
   "metadata": {
    "collapsed": false
   },
   "outputs": [
   ],
   "source": [
    "class population:\n",
    "    \n",
    "    # initializing 50 random bugs\n",
    "    def __init__(self):\n",
    "        self.bug_list = [bug() for i in range(50)]\n",
    "\n",
    "        \n",
    "    # create 50 offsprings\n",
    "    def create_offspring(self):\n",
    "        \n",
    "        # initializing\n",
    "        new_pop = []\n",
    "        for i in self.bug_list:\n",
    "            \n",
    "            # create a new bug\n",
    "            b = bug()\n",
    "            \n",
    "            # replace the genome of the new bug with the old bug\n",
    "            b.replace_genome(i.genome)\n",
    "            \n",
    "            # replace the new bug genome\n",
    "            b.mutate_base()\n",
    "            \n",
    "            # add the new bug to the new_pop list\n",
    "            new_pop.append(b)\n",
    "            \n",
    "        # updating the bug_list\n",
    "        self.bug_list = self.bug_list + new_pop\n",
    "        \n",
    "        \n",
    "    # A function to reduce the bug list to the fittest 50%\n",
    "    def cull(self):\n",
    "        \n",
    "        # initializing\n",
    "        new_pop = list()\n",
    "        fitness = dict()\n",
    "        \n",
    "        # calculating the fitness for each bug, appending the results into a list\n",
    "        for i in self.bug_list:\n",
    "            i.get_fitness()\n",
    "            fitness[i] = i.fitness     \n",
    "            \n",
    "        # sorting the dict by value\n",
    "        fitness = dict(sorted(fitness.items(), key = lambda i:i[1], reverse = True))\n",
    "            \n",
    "        # Selecting the first half of the population\n",
    "        for i in range((len(self.bug_list)//2)):\n",
    "            bug = list(fitness.keys())[i]\n",
    "            new_pop.append(bug)\n",
    "                    \n",
    "        # final bug list\n",
    "        self.bug_list = new_pop\n",
    "        \n",
    "        \n",
    "    def mean_fitness(self):\n",
    "        \n",
    "        # module needed for calculating the mean\n",
    "        import statistics\n",
    "        \n",
    "        # initializing\n",
    "        fitness = list()\n",
    "        \n",
    "        # get the fitness for each bug\n",
    "        for i in self.bug_list:\n",
    "            i.get_fitness()\n",
    "            fitness.append(i.fitness)\n",
    "            \n",
    "        # calculate the mean for all the bugs\n",
    "        self.mean_fit = (statistics.mean(fitness))"
   ]
  },
  {
   "cell_type": "code",
   "execution_count": 243,
   "metadata": {
    "collapsed": false
   },
   "outputs": [
   ],
   "source": [
    "# the main function\n",
    "\n",
    "def main():\n",
    "    \n",
    "    p = population()\n",
    "    \n",
    "    print(\"Fitness of population during evolutionary progress: \\n\")\n",
    "    \n",
    "    print(\"(Assuming fitness = num_Gs + num_Cs (+ 5, if AAA present in genome)): \\n\")\n",
    "\n",
    "    for i in range(20):\n",
    "        \n",
    "        p.create_offspring()\n",
    "        p.cull()\n",
    "        p.mean_fitness()\n",
    "        print(f\"Generation {i}: \\t{p.mean_fit} \\n\")"
   ]
  },
  {
   "cell_type": "code",
   "execution_count": 244,
   "metadata": {
    "collapsed": false
   },
   "outputs": [
    {
     "name": "stdout",
     "output_type": "stream",
     "text": [
      "Fitness of population during evolutionary progress: \n",
      "\n",
      "(Assuming fitness = num_Gs + num_Cs (+ 5, if AAA present in genome)): \n",
      "\n",
      "Generation 0: \t56.06 \n",
      "\n",
      "Generation 1: \t57.5 \n",
      "\n",
      "Generation 2: \t58.92 \n",
      "\n",
      "Generation 3: \t60.18 \n",
      "\n",
      "Generation 4: \t61.3 \n",
      "\n",
      "Generation 5: \t62.14 \n",
      "\n",
      "Generation 6: \t63.28 \n",
      "\n",
      "Generation 7: \t64.3 \n",
      "\n",
      "Generation 8: \t65.3 \n",
      "\n",
      "Generation 9: \t65.94 \n",
      "\n",
      "Generation 10: \t66.64 \n",
      "\n",
      "Generation 11: \t67.34 \n",
      "\n",
      "Generation 12: \t67.78 \n",
      "\n",
      "Generation 13: \t68.4 \n",
      "\n",
      "Generation 14: \t68.88 \n",
      "\n",
      "Generation 15: \t69.28 \n",
      "\n",
      "Generation 16: \t69.54 \n",
      "\n",
      "Generation 17: \t70.08 \n",
      "\n",
      "Generation 18: \t70.44 \n",
      "\n",
      "Generation 19: \t70.98 \n",
      "\n"
     ]
    }
   ],
   "source": [
    "main()"
   ]
  },
  {
   "cell_type": "code",
   "execution_count": 0,
   "metadata": {
    "collapsed": false
   },
   "outputs": [
   ],
   "source": [
   ]
  }
 ],
 "metadata": {
  "kernelspec": {
   "display_name": "Python 3 (system-wide)",
   "language": "python",
   "metadata": {
    "cocalc": {
     "description": "Python 3 programming language",
     "priority": 100,
     "url": "https://www.python.org/"
    }
   },
   "name": "python3",
   "resource_dir": "/ext/jupyter/kernels/python3"
  },
  "language_info": {
   "codemirror_mode": {
    "name": "ipython",
    "version": 3
   },
   "file_extension": ".py",
   "mimetype": "text/x-python",
   "name": "python",
   "nbconvert_exporter": "python",
   "pygments_lexer": "ipython3",
   "version": "3.8.10"
  }
 },
 "nbformat": 4,
 "nbformat_minor": 4
}