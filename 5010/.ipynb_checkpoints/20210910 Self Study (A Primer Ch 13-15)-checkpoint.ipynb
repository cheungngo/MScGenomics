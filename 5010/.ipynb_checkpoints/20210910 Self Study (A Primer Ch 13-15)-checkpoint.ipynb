{
 "cells": [
  {
   "cell_type": "code",
   "execution_count": null,
   "id": "89ccf6da",
   "metadata": {},
   "outputs": [],
   "source": [
    "### 20210910 Self Study (A Primer for computational biology)"
   ]
  },
  {
   "cell_type": "code",
   "execution_count": null,
   "id": "ee792e9b",
   "metadata": {},
   "outputs": [],
   "source": [
    "### Ch 13 (A Primer)"
   ]
  },
  {
   "cell_type": "code",
   "execution_count": 2,
   "id": "fab87e3c",
   "metadata": {},
   "outputs": [
    {
     "name": "stdout",
     "output_type": "stream",
     "text": [
      "hello\n"
     ]
    }
   ],
   "source": [
    "print(\"hello\")"
   ]
  },
  {
   "cell_type": "code",
   "execution_count": 3,
   "id": "62f3aaba",
   "metadata": {},
   "outputs": [
    {
     "name": "stdout",
     "output_type": "stream",
     "text": [
      "5000\n"
     ]
    }
   ],
   "source": [
    "a = 5000\n",
    "print(a)"
   ]
  },
  {
   "cell_type": "code",
   "execution_count": 15,
   "id": "1b76e663",
   "metadata": {},
   "outputs": [],
   "source": [
    "### Ch 14 (Elementary data types, \"A Primer\")"
   ]
  },
  {
   "cell_type": "code",
   "execution_count": null,
   "id": "d16e71b8",
   "metadata": {},
   "outputs": [],
   "source": [
    "# random trying"
   ]
  },
  {
   "cell_type": "code",
   "execution_count": 8,
   "id": "28f06b5c",
   "metadata": {},
   "outputs": [
    {
     "data": {
      "text/plain": [
       "int"
      ]
     },
     "execution_count": 8,
     "metadata": {},
     "output_type": "execute_result"
    }
   ],
   "source": [
    "x = 10\n",
    "y = 0.05\n",
    "type(x)"
   ]
  },
  {
   "cell_type": "code",
   "execution_count": 21,
   "id": "36ee5f7c",
   "metadata": {},
   "outputs": [
    {
     "data": {
      "text/plain": [
       "float"
      ]
     },
     "execution_count": 21,
     "metadata": {},
     "output_type": "execute_result"
    }
   ],
   "source": [
    "type(y)"
   ]
  },
  {
   "cell_type": "code",
   "execution_count": null,
   "id": "a1df28c2",
   "metadata": {},
   "outputs": [],
   "source": [
    "# Integers, floats, boolean"
   ]
  },
  {
   "cell_type": "code",
   "execution_count": 19,
   "id": "4bfd6e44",
   "metadata": {},
   "outputs": [
    {
     "name": "stdout",
     "output_type": "stream",
     "text": [
      "0\n"
     ]
    }
   ],
   "source": [
    "print(int(y)) "
   ]
  },
  {
   "cell_type": "code",
   "execution_count": 22,
   "id": "42f3579f",
   "metadata": {},
   "outputs": [
    {
     "name": "stdout",
     "output_type": "stream",
     "text": [
      "10.0\n"
     ]
    }
   ],
   "source": [
    "print(float(x))"
   ]
  },
  {
   "cell_type": "code",
   "execution_count": 24,
   "id": "852ea4fb",
   "metadata": {},
   "outputs": [
    {
     "data": {
      "text/plain": [
       "False"
      ]
     },
     "execution_count": 24,
     "metadata": {},
     "output_type": "execute_result"
    }
   ],
   "source": [
    "2 > 3"
   ]
  },
  {
   "cell_type": "code",
   "execution_count": 25,
   "id": "4f6b0bf7",
   "metadata": {},
   "outputs": [],
   "source": [
    "# Strings"
   ]
  },
  {
   "cell_type": "code",
   "execution_count": 26,
   "id": "e85a3ecc",
   "metadata": {},
   "outputs": [
    {
     "name": "stdout",
     "output_type": "stream",
     "text": [
      "MarcoCheung\n"
     ]
    }
   ],
   "source": [
    "a = \"Marco\"\n",
    "b = \"Cheung\"\n",
    "print(a+b)"
   ]
  },
  {
   "cell_type": "code",
   "execution_count": 27,
   "id": "6e155485",
   "metadata": {},
   "outputs": [
    {
     "name": "stdout",
     "output_type": "stream",
     "text": [
      "Marco Cheung\n"
     ]
    }
   ],
   "source": [
    "print(a + \" \" + b) # somewhat like paste() in R"
   ]
  },
  {
   "cell_type": "code",
   "execution_count": 33,
   "id": "88379653",
   "metadata": {},
   "outputs": [
    {
     "ename": "TypeError",
     "evalue": "can only concatenate str (not \"int\") to str",
     "output_type": "error",
     "traceback": [
      "\u001b[0;31m---------------------------------------------------------------------------\u001b[0m",
      "\u001b[0;31mTypeError\u001b[0m                                 Traceback (most recent call last)",
      "\u001b[0;32m<ipython-input-33-9b91bd807421>\u001b[0m in \u001b[0;36m<module>\u001b[0;34m\u001b[0m\n\u001b[1;32m      1\u001b[0m \u001b[0mc\u001b[0m \u001b[0;34m=\u001b[0m \u001b[0;36m1990\u001b[0m\u001b[0;34m\u001b[0m\u001b[0;34m\u001b[0m\u001b[0m\n\u001b[1;32m      2\u001b[0m \u001b[0;31m# if just cocatenate c, will result in error\u001b[0m\u001b[0;34m\u001b[0m\u001b[0;34m\u001b[0m\u001b[0;34m\u001b[0m\u001b[0m\n\u001b[0;32m----> 3\u001b[0;31m \u001b[0mprint\u001b[0m\u001b[0;34m(\u001b[0m\u001b[0ma\u001b[0m \u001b[0;34m+\u001b[0m \u001b[0mb\u001b[0m \u001b[0;34m+\u001b[0m \u001b[0mc\u001b[0m\u001b[0;34m)\u001b[0m\u001b[0;34m\u001b[0m\u001b[0;34m\u001b[0m\u001b[0m\n\u001b[0m",
      "\u001b[0;31mTypeError\u001b[0m: can only concatenate str (not \"int\") to str"
     ]
    }
   ],
   "source": [
    "c = 1990\n",
    "# if just cocatenate c, will result in error\n",
    "print(a + b + c)"
   ]
  },
  {
   "cell_type": "code",
   "execution_count": 34,
   "id": "dba6fb44",
   "metadata": {},
   "outputs": [
    {
     "name": "stdout",
     "output_type": "stream",
     "text": [
      "MarcoCheung1990\n"
     ]
    }
   ],
   "source": [
    "print(a + b + str(c))"
   ]
  },
  {
   "cell_type": "code",
   "execution_count": 11,
   "id": "6b0f8c8c",
   "metadata": {},
   "outputs": [
    {
     "data": {
      "text/plain": [
       "bool"
      ]
     },
     "execution_count": 11,
     "metadata": {},
     "output_type": "execute_result"
    }
   ],
   "source": [
    "# Q1 convert between types (into bool)\n",
    "b = bool(3)\n",
    "type(b)"
   ]
  },
  {
   "cell_type": "code",
   "execution_count": 12,
   "id": "d1577f50",
   "metadata": {},
   "outputs": [
    {
     "name": "stdout",
     "output_type": "stream",
     "text": [
      "True\n"
     ]
    }
   ],
   "source": [
    "print(b)"
   ]
  },
  {
   "cell_type": "code",
   "execution_count": 14,
   "id": "a2b226e4",
   "metadata": {},
   "outputs": [
    {
     "name": "stdout",
     "output_type": "stream",
     "text": [
      "False\n",
      "True\n",
      "True\n",
      "True\n",
      "True\n",
      "True\n",
      "True\n",
      "True\n",
      "True\n",
      "True\n"
     ]
    }
   ],
   "source": [
    "for i in range(10):\n",
    "    print(bool(i))\n",
    "\n",
    "# so you can see that only 0 is false"
   ]
  },
  {
   "cell_type": "code",
   "execution_count": 36,
   "id": "edab89ad",
   "metadata": {},
   "outputs": [
    {
     "name": "stdout",
     "output_type": "stream",
     "text": [
      "True\n",
      "True\n",
      "True\n",
      "True\n",
      "True\n",
      "True\n",
      "True\n",
      "True\n",
      "True\n",
      "True\n"
     ]
    }
   ],
   "source": [
    "for i in \"as;ldkfjDJ\":\n",
    "    print(bool(i))"
   ]
  },
  {
   "cell_type": "code",
   "execution_count": 35,
   "id": "7436c0f4",
   "metadata": {},
   "outputs": [
    {
     "name": "stdout",
     "output_type": "stream",
     "text": [
      "True\n"
     ]
    }
   ],
   "source": [
    "print(bool(\"ABD\"))"
   ]
  },
  {
   "cell_type": "code",
   "execution_count": 37,
   "id": "44d07b86",
   "metadata": {},
   "outputs": [
    {
     "name": "stdout",
     "output_type": "stream",
     "text": [
      "abcabcabc\n"
     ]
    }
   ],
   "source": [
    "# Q2 Multiply string by an integer\n",
    "\n",
    "print(\"abc\" * 3)"
   ]
  },
  {
   "cell_type": "code",
   "execution_count": 39,
   "id": "b2fdaf1c",
   "metadata": {},
   "outputs": [
    {
     "ename": "TypeError",
     "evalue": "string indices must be integers",
     "output_type": "error",
     "traceback": [
      "\u001b[0;31m---------------------------------------------------------------------------\u001b[0m",
      "\u001b[0;31mTypeError\u001b[0m                                 Traceback (most recent call last)",
      "\u001b[0;32m<ipython-input-39-afe2edfdb716>\u001b[0m in \u001b[0;36m<module>\u001b[0;34m\u001b[0m\n\u001b[1;32m      2\u001b[0m \u001b[0;34m\u001b[0m\u001b[0m\n\u001b[1;32m      3\u001b[0m \u001b[0mstring\u001b[0m \u001b[0;34m=\u001b[0m \u001b[0;34m\"ABCabc\"\u001b[0m\u001b[0;34m\u001b[0m\u001b[0;34m\u001b[0m\u001b[0m\n\u001b[0;32m----> 4\u001b[0;31m \u001b[0mprint\u001b[0m\u001b[0;34m(\u001b[0m\u001b[0mstring\u001b[0m\u001b[0;34m[\u001b[0m\u001b[0;36m1.0\u001b[0m\u001b[0;34m]\u001b[0m\u001b[0;34m)\u001b[0m\u001b[0;34m\u001b[0m\u001b[0;34m\u001b[0m\u001b[0m\n\u001b[0m",
      "\u001b[0;31mTypeError\u001b[0m: string indices must be integers"
     ]
    }
   ],
   "source": [
    "# Q3 Using float type as an index\n",
    "\n",
    "string = \"ABCabc\"\n",
    "print(string[1.0])"
   ]
  },
  {
   "cell_type": "code",
   "execution_count": 40,
   "id": "0a56550f",
   "metadata": {},
   "outputs": [
    {
     "name": "stdout",
     "output_type": "stream",
     "text": [
      "B\n"
     ]
    }
   ],
   "source": [
    "print(string[1])"
   ]
  },
  {
   "cell_type": "code",
   "execution_count": 41,
   "id": "b84616e8",
   "metadata": {},
   "outputs": [],
   "source": [
    "# Q4 split half program\n",
    "\n",
    "seq = \"ACTAGATGA\""
   ]
  },
  {
   "cell_type": "code",
   "execution_count": 47,
   "id": "eba0aa07",
   "metadata": {},
   "outputs": [],
   "source": [
    "def split(seq):\n",
    "    l = len(seq)\n",
    "    lh = l//2\n",
    "    first_half = seq[:lh]\n",
    "    second_half = seq[lh:]\n",
    "    print(first_half, second_half)"
   ]
  },
  {
   "cell_type": "code",
   "execution_count": 49,
   "id": "85402635",
   "metadata": {},
   "outputs": [
    {
     "name": "stdout",
     "output_type": "stream",
     "text": [
      "ACTA GATGA\n"
     ]
    }
   ],
   "source": [
    "split(seq)"
   ]
  },
  {
   "cell_type": "code",
   "execution_count": 50,
   "id": "04668f27",
   "metadata": {},
   "outputs": [],
   "source": [
    "### Ch 15 Collections and looping: lists and for"
   ]
  },
  {
   "cell_type": "code",
   "execution_count": 52,
   "id": "0d246d06",
   "metadata": {},
   "outputs": [
    {
     "name": "stdout",
     "output_type": "stream",
     "text": [
      "['a']\n"
     ]
    }
   ],
   "source": [
    "# .append()\n",
    "l = list()\n",
    "l.append(\"a\")\n",
    "print(l)"
   ]
  },
  {
   "cell_type": "code",
   "execution_count": 57,
   "id": "fcb413e7",
   "metadata": {},
   "outputs": [
    {
     "name": "stdout",
     "output_type": "stream",
     "text": [
      "['T', 'G', 'C', 'A']\n"
     ]
    }
   ],
   "source": [
    "# sorted\n",
    "l = [\"A\", \"C\", \"G\", \"T\"]\n",
    "print(sorted(l, reverse = True))"
   ]
  },
  {
   "cell_type": "code",
   "execution_count": 58,
   "id": "a695af6c",
   "metadata": {},
   "outputs": [
    {
     "name": "stdout",
     "output_type": "stream",
     "text": [
      "['A', 'C', 'G', 'T']\n"
     ]
    }
   ],
   "source": [
    "# .sort()\n",
    "l.sort()\n",
    "print(l)"
   ]
  },
  {
   "cell_type": "code",
   "execution_count": 69,
   "id": "8515cff2",
   "metadata": {},
   "outputs": [
    {
     "name": "stdout",
     "output_type": "stream",
     "text": [
      "['', 'bc', 'bc', 'bc', 'bc', 'bc', 'bc']\n"
     ]
    }
   ],
   "source": [
    "# .split()\n",
    "l = \"abc\"*6\n",
    "ls = l.split(\"a\")\n",
    "print(ls)"
   ]
  },
  {
   "cell_type": "code",
   "execution_count": 101,
   "id": "cedd8a3c",
   "metadata": {},
   "outputs": [
    {
     "name": "stdout",
     "output_type": "stream",
     "text": [
      "['a', 'b', 'c', 'a', 'b', 'c', 'a', 'b', 'c', 'a', 'b', 'c', 'a', 'b', 'c', 'a', 'b', 'c']\n"
     ]
    }
   ],
   "source": [
    "# if you want to split by char, may need to do it like this\n",
    "lc = list()\n",
    "for i in l:\n",
    "    lc.append(i)\n",
    "print(lc)"
   ]
  },
  {
   "cell_type": "code",
   "execution_count": 103,
   "id": "98e24894",
   "metadata": {},
   "outputs": [
    {
     "data": {
      "text/plain": [
       "tuple"
      ]
     },
     "execution_count": 103,
     "metadata": {},
     "output_type": "execute_result"
    }
   ],
   "source": [
    "# immutable list (not able to be changed) i.e. tuples\n",
    "\n",
    "x = (\"A\", \"B\", \"C\")\n",
    "type(x)"
   ]
  },
  {
   "cell_type": "code",
   "execution_count": 74,
   "id": "471cd8e1",
   "metadata": {},
   "outputs": [
    {
     "name": "stdout",
     "output_type": "stream",
     "text": [
      "16\n"
     ]
    }
   ],
   "source": [
    "# Q1 & 2:\n",
    "# sample code for width 4 and depth 2:\n",
    "\n",
    "total = 0\n",
    "for i in range(4):\n",
    "    for j in range(4):\n",
    "        total += 1\n",
    "\n",
    "print(total)"
   ]
  },
  {
   "cell_type": "code",
   "execution_count": 76,
   "id": "4a1c4e86",
   "metadata": {},
   "outputs": [],
   "source": [
    "# define an equation that indicates the sum of \"total\" for width \"w\" and depth \"d\"\n",
    "\n",
    "def total(w,d):\n",
    "    return(w**d)"
   ]
  },
  {
   "cell_type": "code",
   "execution_count": 77,
   "id": "988b75df",
   "metadata": {},
   "outputs": [
    {
     "data": {
      "text/plain": [
       "16"
      ]
     },
     "execution_count": 77,
     "metadata": {},
     "output_type": "execute_result"
    }
   ],
   "source": [
    "total(4,2)"
   ]
  },
  {
   "cell_type": "code",
   "execution_count": 79,
   "id": "319fa4ea",
   "metadata": {},
   "outputs": [
    {
     "name": "stdout",
     "output_type": "stream",
     "text": [
      "45\n"
     ]
    }
   ],
   "source": [
    "# Q3:\n",
    "# sample code\n",
    "\n",
    "total = 0\n",
    "x = 10\n",
    "\n",
    "for i in range(x):\n",
    "    for j in range(i):\n",
    "        total += 1\n",
    "\n",
    "print(total)"
   ]
  },
  {
   "cell_type": "code",
   "execution_count": 83,
   "id": "0ae7d502",
   "metadata": {},
   "outputs": [],
   "source": [
    "def total2(x):\n",
    "    return(x * (x-1) / 2)"
   ]
  },
  {
   "cell_type": "code",
   "execution_count": 84,
   "id": "e442a81b",
   "metadata": {},
   "outputs": [
    {
     "data": {
      "text/plain": [
       "45.0"
      ]
     },
     "execution_count": 84,
     "metadata": {},
     "output_type": "execute_result"
    }
   ],
   "source": [
    "total2(10)"
   ]
  },
  {
   "cell_type": "code",
   "execution_count": 85,
   "id": "29c1b589",
   "metadata": {},
   "outputs": [
    {
     "data": {
      "text/plain": [
       "2"
      ]
     },
     "execution_count": 85,
     "metadata": {},
     "output_type": "execute_result"
    }
   ],
   "source": [
    "# Q4:\n",
    "\n",
    "seq = \"ATGATAGAGGGATACGGGATAG\"\n",
    "subseq = \"GATA\"\n",
    "\n",
    "# find all positions"
   ]
  },
  {
   "cell_type": "code",
   "execution_count": 89,
   "id": "5f2dd335",
   "metadata": {},
   "outputs": [
    {
     "name": "stdout",
     "output_type": "stream",
     "text": [
      "2\n",
      "10\n",
      "17\n"
     ]
    }
   ],
   "source": [
    "for i in range(len(seq)):\n",
    "    curseq = seq[i:(i+4)]\n",
    "    if (len(curseq) < 4):\n",
    "        break\n",
    "    if (curseq == subseq):\n",
    "        print(i)"
   ]
  },
  {
   "cell_type": "code",
   "execution_count": 93,
   "id": "cdb3d647",
   "metadata": {},
   "outputs": [
    {
     "name": "stdout",
     "output_type": "stream",
     "text": [
      "2\n",
      "10\n",
      "17\n"
     ]
    }
   ],
   "source": [
    "# another approach\n",
    "\n",
    "for i in range(len(seq)):\n",
    "    if (seq.startswith(subseq,i)):\n",
    "        print(i)"
   ]
  },
  {
   "cell_type": "code",
   "execution_count": 97,
   "id": "908d00c4",
   "metadata": {},
   "outputs": [
    {
     "name": "stdout",
     "output_type": "stream",
     "text": [
      "[2, 10, 17]\n"
     ]
    }
   ],
   "source": [
    "# or simply:\n",
    "\n",
    "x = [i for i in range(len(seq)) if seq.startswith(subseq,i)]\n",
    "print(x)\n",
    "# also an example for list comprehension"
   ]
  },
  {
   "cell_type": "code",
   "execution_count": 100,
   "id": "92f52f73",
   "metadata": {},
   "outputs": [],
   "source": [
    "# Q5: to transpose a list of columns\n",
    "\n",
    "cols = [[10,20,30,40],[5,6,7,8],[0.7,0.8,0.9,1.0]]"
   ]
  },
  {
   "cell_type": "code",
   "execution_count": 131,
   "id": "75f9e105",
   "metadata": {},
   "outputs": [
    {
     "data": {
      "text/plain": [
       "[[10, 5, 0.7], [20, 6, 0.8], [30, 7, 0.9], [40, 8, 1.0]]"
      ]
     },
     "execution_count": 131,
     "metadata": {},
     "output_type": "execute_result"
    }
   ],
   "source": [
    "ls = list(map(list, zip(*cols)))\n",
    "ls\n",
    "\n",
    "# The signature of zip: zip(*iterables) This means zip expects an arbitrary number \n",
    "# of arguments each of which must be iterable. E.g. zip([1, 2], [3, 4], [5, 6])."
   ]
  },
  {
   "cell_type": "code",
   "execution_count": 141,
   "id": "f93bf885",
   "metadata": {},
   "outputs": [],
   "source": [
    "# the rudimentary way\n",
    "ls = list()\n",
    "for i in range(len(cols[0])):\n",
    "    l = list()\n",
    "    for j in range(len(cols)):\n",
    "        l.append(cols[j][i])\n",
    "    ls.append(l)\n",
    "print(ls)"
   ]
  }
 ],
 "metadata": {
  "kernelspec": {
   "display_name": "Python 3",
   "language": "python",
   "name": "python3"
  },
  "language_info": {
   "codemirror_mode": {
    "name": "ipython",
    "version": 3
   },
   "file_extension": ".py",
   "mimetype": "text/x-python",
   "name": "python",
   "nbconvert_exporter": "python",
   "pygments_lexer": "ipython3",
   "version": "3.8.8"
  }
 },
 "nbformat": 4,
 "nbformat_minor": 5
}
