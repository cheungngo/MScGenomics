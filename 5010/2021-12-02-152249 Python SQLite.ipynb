{
 "cells": [
  {
   "cell_type": "markdown",
   "metadata": {
    "collapsed": false
   },
   "source": [
    "# Python SQLite"
   ]
  },
  {
   "cell_type": "markdown",
   "metadata": {
    "collapsed": false
   },
   "source": [
    "### https://gist.github.com/imShakil/478859e7a1aba8e08057535a062e6537"
   ]
  },
  {
   "cell_type": "code",
   "execution_count": 1,
   "metadata": {
    "collapsed": false
   },
   "outputs": [
   ],
   "source": [
    "import sqlite3"
   ]
  },
  {
   "cell_type": "markdown",
   "metadata": {
    "collapsed": false
   },
   "source": [
    "#### Create a database (or to connect to an existing one)"
   ]
  },
  {
   "cell_type": "code",
   "execution_count": 4,
   "metadata": {
    "collapsed": false
   },
   "outputs": [
   ],
   "source": [
    "db = sqlite3.connect(\"testing.db\")\n",
    "# a .db file has just been created"
   ]
  },
  {
   "cell_type": "markdown",
   "metadata": {
    "collapsed": false
   },
   "source": [
    "#### .cursor(); CREATE TABLE"
   ]
  },
  {
   "cell_type": "code",
   "execution_count": 5,
   "metadata": {
    "collapsed": false
   },
   "outputs": [
   ],
   "source": [
    "# need a cursor object to continue\n",
    "cur = db.cursor()"
   ]
  },
  {
   "cell_type": "code",
   "execution_count": 6,
   "metadata": {
    "collapsed": false
   },
   "outputs": [
    {
     "data": {
      "text/plain": [
       "<sqlite3.Cursor at 0x7f8901c43500>"
      ]
     },
     "execution_count": 6,
     "metadata": {
     },
     "output_type": "execute_result"
    }
   ],
   "source": [
    "# create a table\n",
    "cur.execute(\n",
    "            \"\"\"CREATE TABLE IF NOT EXISTS users(\n",
    "                id INTEGER PRIMARY KEY,\n",
    "                name TEXT,\n",
    "                phone TEXT unique)\n",
    "                \"\"\")"
   ]
  },
  {
   "cell_type": "code",
   "execution_count": 8,
   "metadata": {
    "collapsed": false
   },
   "outputs": [
   ],
   "source": [
    "# need to commit\n",
    "db.commit()"
   ]
  },
  {
   "cell_type": "markdown",
   "metadata": {
    "collapsed": false
   },
   "source": [
    "#### INSERT INTO"
   ]
  },
  {
   "cell_type": "code",
   "execution_count": 10,
   "metadata": {
    "collapsed": false
   },
   "outputs": [
    {
     "data": {
      "text/plain": [
       "<sqlite3.Cursor at 0x7f8901c43500>"
      ]
     },
     "execution_count": 10,
     "metadata": {
     },
     "output_type": "execute_result"
    }
   ],
   "source": [
    "cur.execute(\n",
    "            \"\"\"INSERT INTO users(id, name, phone) \n",
    "                VALUES(?,?,?)\"\"\",\n",
    "            (123,\"Karina\", \"55303171\"))"
   ]
  },
  {
   "cell_type": "code",
   "execution_count": 11,
   "metadata": {
    "collapsed": false
   },
   "outputs": [
   ],
   "source": [
    "db.commit()"
   ]
  },
  {
   "cell_type": "code",
   "execution_count": 13,
   "metadata": {
    "collapsed": false
   },
   "outputs": [
   ],
   "source": [
    "# can insert a list of tubles\n",
    "\n",
    "import random\n",
    "\n",
    "newdata = [\n",
    "    \n",
    "    (\n",
    "        random.randint(100,900),\n",
    "        \"Robot\" + str(i),\n",
    "        str(random.randint(10000000,99999999))\n",
    "    )\n",
    "    for i in range(10)\n",
    "]"
   ]
  },
  {
   "cell_type": "code",
   "execution_count": 15,
   "metadata": {
    "collapsed": false
   },
   "outputs": [
    {
     "data": {
      "text/plain": [
       "[(776, 'Robot0', '26478576'),\n",
       " (868, 'Robot1', '95808426'),\n",
       " (628, 'Robot2', '82396899'),\n",
       " (585, 'Robot3', '45885223'),\n",
       " (255, 'Robot4', '74795794'),\n",
       " (269, 'Robot5', '13740200'),\n",
       " (212, 'Robot6', '73584595'),\n",
       " (231, 'Robot7', '13111275'),\n",
       " (106, 'Robot8', '28027617'),\n",
       " (856, 'Robot9', '98599725')]"
      ]
     },
     "execution_count": 15,
     "metadata": {
     },
     "output_type": "execute_result"
    }
   ],
   "source": [
    "newdata"
   ]
  },
  {
   "cell_type": "code",
   "execution_count": 17,
   "metadata": {
    "collapsed": false
   },
   "outputs": [
    {
     "data": {
      "text/plain": [
       "<sqlite3.Cursor at 0x7f8901c43500>"
      ]
     },
     "execution_count": 17,
     "metadata": {
     },
     "output_type": "execute_result"
    }
   ],
   "source": [
    "# .executemany() !\n",
    "cur.executemany(\n",
    "                \"\"\"INSERT INTO users(id, name, phone) VALUES(?,?,?)\"\"\",\n",
    "                newdata)"
   ]
  },
  {
   "cell_type": "code",
   "execution_count": 18,
   "metadata": {
    "collapsed": false
   },
   "outputs": [
   ],
   "source": [
    "db.commit()"
   ]
  },
  {
   "cell_type": "markdown",
   "metadata": {
    "collapsed": false
   },
   "source": [
    "#### SELECT FROM (Retrieving data from database)"
   ]
  },
  {
   "cell_type": "markdown",
   "metadata": {
    "collapsed": false
   },
   "source": [
    "#### need to use with .fetchone() / .fetchmany() / .fetchall()"
   ]
  },
  {
   "cell_type": "code",
   "execution_count": 26,
   "metadata": {
    "collapsed": false
   },
   "outputs": [
    {
     "data": {
      "text/plain": [
       "<sqlite3.Cursor at 0x7f8901c43500>"
      ]
     },
     "execution_count": 26,
     "metadata": {
     },
     "output_type": "execute_result"
    }
   ],
   "source": [
    "cur.execute(\"\"\"SELECT id, name, phone FROM users\"\"\")"
   ]
  },
  {
   "cell_type": "code",
   "execution_count": 27,
   "metadata": {
    "collapsed": false
   },
   "outputs": [
    {
     "name": "stdout",
     "output_type": "stream",
     "text": [
      "(106, 'Robot8', '28027617')\n",
      "[(123, 'Karina', '55303171'), (212, 'Robot6', '73584595'), (231, 'Robot7', '13111275')]\n"
     ]
    }
   ],
   "source": [
    "# .fetchmany() and .fetchone()\n",
    "print(cur.fetchone())\n",
    "print(cur.fetchmany(3))"
   ]
  },
  {
   "cell_type": "code",
   "execution_count": 28,
   "metadata": {
    "collapsed": false
   },
   "outputs": [
    {
     "name": "stdout",
     "output_type": "stream",
     "text": [
      "[(255, 'Robot4', '74795794'), (269, 'Robot5', '13740200'), (585, 'Robot3', '45885223'), (628, 'Robot2', '82396899'), (776, 'Robot0', '26478576'), (856, 'Robot9', '98599725'), (868, 'Robot1', '95808426')]\n"
     ]
    }
   ],
   "source": [
    "# .fetchall()\n",
    "all_users = cur.fetchall()\n",
    "print(all_users)"
   ]
  },
  {
   "cell_type": "markdown",
   "metadata": {
    "collapsed": false
   },
   "source": [
    "Note that the cursor will go down and would not repeat the items that had already been fetched"
   ]
  },
  {
   "cell_type": "code",
   "execution_count": 29,
   "metadata": {
    "collapsed": false
   },
   "outputs": [
    {
     "name": "stdout",
     "output_type": "stream",
     "text": [
      "None\n"
     ]
    }
   ],
   "source": [
    "print(cur.fetchone())"
   ]
  },
  {
   "cell_type": "markdown",
   "metadata": {
    "collapsed": false
   },
   "source": [
    "If you want to fetch again, need to execute the SELECT FROM statement again"
   ]
  },
  {
   "cell_type": "code",
   "execution_count": 30,
   "metadata": {
    "collapsed": false
   },
   "outputs": [
    {
     "name": "stdout",
     "output_type": "stream",
     "text": [
      "[(106, 'Robot8', '28027617'), (123, 'Karina', '55303171'), (212, 'Robot6', '73584595'), (231, 'Robot7', '13111275'), (255, 'Robot4', '74795794'), (269, 'Robot5', '13740200'), (585, 'Robot3', '45885223'), (628, 'Robot2', '82396899'), (776, 'Robot0', '26478576'), (856, 'Robot9', '98599725'), (868, 'Robot1', '95808426')]\n"
     ]
    }
   ],
   "source": [
    "cur.execute(\"\"\"SELECT id, name, phone FROM users\"\"\")\n",
    "all_users = cur.fetchall()\n",
    "print(all_users)"
   ]
  },
  {
   "cell_type": "code",
   "execution_count": 0,
   "metadata": {
    "collapsed": false
   },
   "outputs": [
   ],
   "source": [
    "db.commit()"
   ]
  },
  {
   "cell_type": "markdown",
   "metadata": {
    "collapsed": false
   },
   "source": [
    "#### WHERE"
   ]
  },
  {
   "cell_type": "code",
   "execution_count": 35,
   "metadata": {
    "collapsed": false
   },
   "outputs": [
    {
     "data": {
      "text/plain": [
       "<sqlite3.Cursor at 0x7f8901c43500>"
      ]
     },
     "execution_count": 35,
     "metadata": {
     },
     "output_type": "execute_result"
    }
   ],
   "source": [
    "cur.execute(\"\"\"SELECT id, name, phone FROM users WHERE id = 123\"\"\")"
   ]
  },
  {
   "cell_type": "code",
   "execution_count": 36,
   "metadata": {
    "collapsed": false
   },
   "outputs": [
    {
     "name": "stdout",
     "output_type": "stream",
     "text": [
      "[(123, 'Karina', '55303171')]\n"
     ]
    }
   ],
   "source": [
    "print(cur.fetchall())"
   ]
  },
  {
   "cell_type": "code",
   "execution_count": 0,
   "metadata": {
    "collapsed": false
   },
   "outputs": [
   ],
   "source": [
    "db.commit()"
   ]
  },
  {
   "cell_type": "markdown",
   "metadata": {
    "collapsed": false
   },
   "source": [
    "#### UPDATE SET WHERE"
   ]
  },
  {
   "cell_type": "code",
   "execution_count": 37,
   "metadata": {
    "collapsed": false
   },
   "outputs": [
    {
     "data": {
      "text/plain": [
       "<sqlite3.Cursor at 0x7f8901c43500>"
      ]
     },
     "execution_count": 37,
     "metadata": {
     },
     "output_type": "execute_result"
    }
   ],
   "source": [
    "cur.execute(\"\"\"UPDATE users SET phone = ? WHERE id = ?\"\"\", (\"999\", 123))"
   ]
  },
  {
   "cell_type": "code",
   "execution_count": 38,
   "metadata": {
    "collapsed": false
   },
   "outputs": [
    {
     "name": "stdout",
     "output_type": "stream",
     "text": [
      "[(123, 'Karina', '999')]\n"
     ]
    }
   ],
   "source": [
    "# looking at the results\n",
    "cur.execute(\"\"\"SELECT id, name, phone FROM users WHERE id = 123\"\"\")\n",
    "print(cur.fetchall())"
   ]
  },
  {
   "cell_type": "code",
   "execution_count": 0,
   "metadata": {
    "collapsed": false
   },
   "outputs": [
   ],
   "source": [
    "db.commit()"
   ]
  },
  {
   "cell_type": "markdown",
   "metadata": {
    "collapsed": false
   },
   "source": [
    "#### DELETE FROM"
   ]
  },
  {
   "cell_type": "code",
   "execution_count": 41,
   "metadata": {
    "collapsed": false
   },
   "outputs": [
    {
     "data": {
      "text/plain": [
       "<sqlite3.Cursor at 0x7f8901c43500>"
      ]
     },
     "execution_count": 41,
     "metadata": {
     },
     "output_type": "execute_result"
    }
   ],
   "source": [
    "cur.execute(\"\"\"DELETE FROM users WHERE name = 'Karina'\"\"\")"
   ]
  },
  {
   "cell_type": "code",
   "execution_count": 42,
   "metadata": {
    "collapsed": false
   },
   "outputs": [
    {
     "name": "stdout",
     "output_type": "stream",
     "text": [
      "[]\n"
     ]
    }
   ],
   "source": [
    "# looking at the results\n",
    "cur.execute(\"\"\"SELECT id, name, phone FROM users WHERE id = 123\"\"\")\n",
    "print(cur.fetchall())"
   ]
  },
  {
   "cell_type": "code",
   "execution_count": 43,
   "metadata": {
    "collapsed": false
   },
   "outputs": [
   ],
   "source": [
    "db.commit()"
   ]
  },
  {
   "cell_type": "markdown",
   "metadata": {
    "collapsed": false
   },
   "source": [
    "#### DROP TABLE"
   ]
  },
  {
   "cell_type": "code",
   "execution_count": 44,
   "metadata": {
    "collapsed": false
   },
   "outputs": [
    {
     "data": {
      "text/plain": [
       "<sqlite3.Cursor at 0x7f8901c43500>"
      ]
     },
     "execution_count": 44,
     "metadata": {
     },
     "output_type": "execute_result"
    }
   ],
   "source": [
    "cur.execute(\"\"\"DROP TABLE IF EXISTS users\"\"\")"
   ]
  },
  {
   "cell_type": "code",
   "execution_count": 45,
   "metadata": {
    "collapsed": false
   },
   "outputs": [
   ],
   "source": [
    "db.commit()"
   ]
  },
  {
   "cell_type": "markdown",
   "metadata": {
    "collapsed": false
   },
   "source": [
    "## Class teaching - loading a textfile into a database"
   ]
  },
  {
   "cell_type": "code",
   "execution_count": 46,
   "metadata": {
    "collapsed": false
   },
   "outputs": [
   ],
   "source": [
    "# Create a new database\n",
    "conn = sqlite3.connect(\"variant.db\")\n",
    "c = conn.cursor()"
   ]
  },
  {
   "cell_type": "code",
   "execution_count": 47,
   "metadata": {
    "collapsed": false
   },
   "outputs": [
    {
     "data": {
      "text/plain": [
       "<sqlite3.Cursor at 0x7f8901bce420>"
      ]
     },
     "execution_count": 47,
     "metadata": {
     },
     "output_type": "execute_result"
    }
   ],
   "source": [
    "# Create a new table called variants\n",
    "c.execute(\"\"\"CREATE TABLE IF NOT EXISTS \n",
    "                variants(\n",
    "                        id INTEGER PRIMARY KEY,\n",
    "                        chrom TEXT,\n",
    "                        start INTEGER,\n",
    "                        end INTEGER,\n",
    "                        strand TEXT,\n",
    "                        rsid TEXT)\"\"\")"
   ]
  },
  {
   "cell_type": "code",
   "execution_count": 49,
   "metadata": {
    "collapsed": false
   },
   "outputs": [
   ],
   "source": [
    "conn.commit()"
   ]
  },
  {
   "cell_type": "code",
   "execution_count": 51,
   "metadata": {
    "collapsed": false
   },
   "outputs": [
    {
     "name": "stdout",
     "output_type": "stream",
     "text": [
      "[('chr10', '114808901', '114808902', '+', 'rs12255372'), ('chr9', '22125502', '22125503', '+', 'rs1333049'), ('chr3', '46414946', '46414978', '+', 'rs333'), ('chr2', '136608645', '136608646', '-', 'rs4988235')]\n"
     ]
    }
   ],
   "source": [
    "# Loading the textfile\n",
    "data = []\n",
    "with open(\"variants.txt\") as fh:\n",
    "    for line in fh:\n",
    "        data.append(tuple(line.strip().split(\"\\t\")))\n",
    "print(data)"
   ]
  },
  {
   "cell_type": "code",
   "execution_count": 52,
   "metadata": {
    "collapsed": false
   },
   "outputs": [
    {
     "data": {
      "text/plain": [
       "<sqlite3.Cursor at 0x7f8901bce420>"
      ]
     },
     "execution_count": 52,
     "metadata": {
     },
     "output_type": "execute_result"
    }
   ],
   "source": [
    "# Insert into the database\n",
    "c.executemany(\"\"\"INSERT INTO variants(chrom, start, end, strand, rsid) VALUES(?,?,?,?,?)\"\"\", data)"
   ]
  },
  {
   "cell_type": "code",
   "execution_count": 55,
   "metadata": {
    "collapsed": false
   },
   "outputs": [
    {
     "name": "stdout",
     "output_type": "stream",
     "text": [
      "[(1, 'chr10', 114808901, 114808902, '+', 'rs12255372'), (2, 'chr9', 22125502, 22125503, '+', 'rs1333049'), (3, 'chr3', 46414946, 46414978, '+', 'rs333'), (4, 'chr2', 136608645, 136608646, '-', 'rs4988235')]\n"
     ]
    }
   ],
   "source": [
    "# Looking at the database\n",
    "c.execute(\"\"\"SELECT id, chrom, start, end, strand, rsid FROM variants\"\"\")\n",
    "print(c.fetchall()) # note that the id will be generated automatically"
   ]
  },
  {
   "cell_type": "code",
   "execution_count": 56,
   "metadata": {
    "collapsed": false
   },
   "outputs": [
   ],
   "source": [
    "conn.commit()"
   ]
  },
  {
   "cell_type": "markdown",
   "metadata": {
    "collapsed": false
   },
   "source": [
    "## Class teaching - loading a *.json file into the *.db"
   ]
  },
  {
   "cell_type": "code",
   "execution_count": 57,
   "metadata": {
    "collapsed": false
   },
   "outputs": [
   ],
   "source": [
    "# Loading the *.json file first\n",
    "\n",
    "import json\n",
    "\n",
    "jdata = open(\"roster_data_sample.json\").read()\n",
    "data = json.loads(jdata)"
   ]
  },
  {
   "cell_type": "code",
   "execution_count": 59,
   "metadata": {
    "collapsed": false
   },
   "outputs": [
    {
     "name": "stdout",
     "output_type": "stream",
     "text": [
      "[['Charley', 'si110', 1], ['Mea', 'si110', 0], ['Hattie', 'si110', 0], ['Lyena', 'si110', 0], ['Keziah', 'si110', 0]]\n"
     ]
    }
   ],
   "source": [
    "print(data[:5])"
   ]
  },
  {
   "cell_type": "code",
   "execution_count": 60,
   "metadata": {
    "collapsed": false
   },
   "outputs": [
   ],
   "source": [
    "# Create a new database and new table\n",
    "\n",
    "conn = sqlite3.connect(\"roster.db\")\n",
    "c = conn.cursor()\n",
    "\n",
    "c.execute(\"\"\"CREATE TABLE IF NOT EXISTS member(\n",
    "                id INTEGER,\n",
    "                course_id INTEGER,\n",
    "                role INTEGER,\n",
    "                PRIMARY KEY (id, course_id))\"\"\")\n",
    "\n",
    "conn.commit()"
   ]
  },
  {
   "cell_type": "code",
   "execution_count": 61,
   "metadata": {
    "collapsed": false
   },
   "outputs": [
    {
     "name": "stdout",
     "output_type": "stream",
     "text": [
      "[('Charley', 'si110', 1), ('Mea', 'si110', 0), ('Hattie', 'si110', 0), ('Lyena', 'si110', 0), ('Keziah', 'si110', 0)]\n"
     ]
    }
   ],
   "source": [
    "# convert the data into a list of tuples\n",
    "\n",
    "newdata = [tuple(i) for i in data]\n",
    "print(newdata[:5])"
   ]
  },
  {
   "cell_type": "code",
   "execution_count": 66,
   "metadata": {
    "collapsed": false
   },
   "outputs": [
    {
     "data": {
      "text/plain": [
       "<sqlite3.Cursor at 0x7f8901bd2110>"
      ]
     },
     "execution_count": 66,
     "metadata": {
     },
     "output_type": "execute_result"
    }
   ],
   "source": [
    "# insert the data into the table\n",
    "\n",
    "c.executemany(\"\"\"INSERT INTO member (id, course_id, role) VALUES(?,?,?)\"\"\", newdata)"
   ]
  },
  {
   "cell_type": "code",
   "execution_count": 68,
   "metadata": {
    "collapsed": false
   },
   "outputs": [
    {
     "name": "stdout",
     "output_type": "stream",
     "text": [
      "[('Charley', 'si110', 1), ('Mea', 'si110', 0), ('Hattie', 'si110', 0), ('Lyena', 'si110', 0), ('Keziah', 'si110', 0), ('Ellyce', 'si110', 0), ('Thalia', 'si110', 0), ('Meabh', 'si110', 0), ('Aria', 'si110', 0), ('Reena', 'si110', 0)]\n"
     ]
    }
   ],
   "source": [
    "# checking out on the results\n",
    "\n",
    "c.execute(\"\"\"SELECT id, course_id, role FROM member\"\"\")\n",
    "print(c.fetchmany(10))"
   ]
  },
  {
   "cell_type": "code",
   "execution_count": 69,
   "metadata": {
    "collapsed": false
   },
   "outputs": [
   ],
   "source": [
    "conn.commit()"
   ]
  }
 ],
 "metadata": {
  "kernelspec": {
   "display_name": "Python 3 (system-wide)",
   "language": "python",
   "metadata": {
    "cocalc": {
     "description": "Python 3 programming language",
     "priority": 100,
     "url": "https://www.python.org/"
    }
   },
   "name": "python3",
   "resource_dir": "/ext/jupyter/kernels/python3"
  },
  "language_info": {
   "codemirror_mode": {
    "name": "ipython",
    "version": 3
   },
   "file_extension": ".py",
   "mimetype": "text/x-python",
   "name": "python",
   "nbconvert_exporter": "python",
   "pygments_lexer": "ipython3",
   "version": "3.8.10"
  }
 },
 "nbformat": 4,
 "nbformat_minor": 4
}