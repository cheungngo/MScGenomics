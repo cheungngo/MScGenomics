{
 "cells": [
  {
   "cell_type": "markdown",
   "metadata": {
    "collapsed": false
   },
   "source": [
    "# Chapter 23: Objects and classes"
   ]
  },
  {
   "cell_type": "markdown",
   "metadata": {
    "collapsed": false
   },
   "source": [
    "## Trying on the SNP class"
   ]
  },
  {
   "cell_type": "markdown",
   "metadata": {
    "collapsed": false
   },
   "source": [
    "> To check if the SNP is \"transition\" or \"transversion\""
   ]
  },
  {
   "cell_type": "code",
   "execution_count": 143,
   "metadata": {
    "collapsed": false
   },
   "outputs": [
   ],
   "source": [
    "class SNP:\n",
    "    \n",
    "    def __init__(self, chrom, pos, id, ref, alt):\n",
    "        assert ref != alt, \"Error: ref == alt\"\n",
    "        self.chrom = chrom\n",
    "        self.pos = pos\n",
    "        self.id = id\n",
    "        self.ref = ref\n",
    "        self.alt = alt\n",
    "        \n",
    "    def is_transition(self):\n",
    "        if self.ref == \"A\" or self.ref == \"G\":\n",
    "            if self.alt == \"A\" or self.alt == \"G\":\n",
    "                return(True)\n",
    "        if self.ref == \"C\" or self.ref == \"T\":\n",
    "            if self.alt == \"C\" or self.alt == \"T\":\n",
    "                return(True)\n",
    "        return(False)\n",
    "    \n",
    "    def is_transversion(self):\n",
    "        if self.is_transition():\n",
    "            return(False)\n",
    "        return(True)"
   ]
  },
  {
   "cell_type": "code",
   "execution_count": 148,
   "metadata": {
    "collapsed": false,
    "scrolled": true
   },
   "outputs": [
    {
     "name": "stdout",
     "output_type": "stream",
     "text": [
      "rs57181708\n",
      "True\n",
      "False\n",
      ".\n",
      "False\n",
      "True\n",
      "rs4970461\n",
      "False\n",
      "True\n",
      "rs6689107\n",
      "False\n",
      "True\n",
      "rs13302914\n",
      "True\n",
      "False\n"
     ]
    }
   ],
   "source": [
    "import io\n",
    "\n",
    "with io.open(\"data_23/trio.sample.vcf.txt\") as fh:\n",
    "    for i in range(15):\n",
    "        ln = fh.readline().strip().split(\"\\t\")\n",
    "        if i > 9:\n",
    "            snp = SNP(ln[0],ln[1],ln[2],ln[3],ln[4])\n",
    "            print(snp.id)\n",
    "            print(snp.is_transition())\n",
    "            print(snp.is_transversion())"
   ]
  },
  {
   "cell_type": "code",
   "execution_count": 146,
   "metadata": {
    "collapsed": false
   },
   "outputs": [
    {
     "name": "stdout",
     "output_type": "stream",
     "text": [
      "rs57181708\n",
      "True\n",
      "False\n",
      ".\n",
      "False\n",
      "True\n",
      "rs4970461\n",
      "False\n",
      "True\n",
      "rs6689107\n",
      "False\n",
      "True\n",
      "rs13302914\n",
      "True\n",
      "False\n"
     ]
    }
   ],
   "source": [
    "# another better method\n",
    "\n",
    "import re\n",
    "\n",
    "with io.open(\"data_23/trio.sample.vcf.txt\") as fh:\n",
    "    for i in range(15):\n",
    "        ln = fh.readline().strip()\n",
    "        if not (re.search(r\"^#\", ln)):\n",
    "            ln = ln.split(\"\\t\")\n",
    "            snp = SNP(ln[0],ln[1],ln[2],ln[3],ln[4])\n",
    "            print(snp.id)\n",
    "            print(snp.is_transition())\n",
    "            print(snp.is_transversion())"
   ]
  },
  {
   "cell_type": "markdown",
   "metadata": {
    "collapsed": false
   },
   "source": [
    "## Now with the chromosome class"
   ]
  },
  {
   "cell_type": "code",
   "execution_count": 45,
   "metadata": {
    "collapsed": false
   },
   "outputs": [
   ],
   "source": [
    "class chromosome:\n",
    "    \n",
    "    def __init__(self, chrom):\n",
    "        self.chrom = chrom\n",
    "        self.snploc = dict()\n",
    "        \n",
    "    def add_snp(self, chrom, pos, id, ref, alt):\n",
    "        assert pos not in self.snploc.keys(), \"Error: duplicated SNP\"\n",
    "        assert chrom == self.chrom, \"Error: wrong chromosome\"\n",
    "        newsnp = SNP(chrom, pos, id, ref, alt)\n",
    "        self.snploc[pos] = newsnp\n",
    "        \n",
    "    def count_transition(self):\n",
    "        count = 0\n",
    "        locs = self.snploc.keys()\n",
    "        for loc in locs:\n",
    "            if self.snploc[loc].is_transition():\n",
    "                count += 1\n",
    "        return(count)\n",
    "    \n",
    "    def count_transversion(self):\n",
    "        count = 0\n",
    "        locs = self.snploc.keys()\n",
    "        for loc in locs:\n",
    "            if self.snploc[loc].is_transversion():\n",
    "                count += 1\n",
    "        return(count)"
   ]
  },
  {
   "cell_type": "code",
   "execution_count": 69,
   "metadata": {
    "collapsed": false
   },
   "outputs": [
   ],
   "source": [
    "import io\n",
    "\n",
    "no = sum(1 for line in io.open(\"data_23/trio.sample.vcf.txt\"))\n",
    "\n",
    "with io.open(\"data_23/trio.sample.vcf.txt\") as fh:\n",
    "    chr = dict()\n",
    "    for i in range(no):\n",
    "        ln = fh.readline().strip().split(\"\\t\")\n",
    "        if i > 10:\n",
    "            if ln[0] not in chr.keys():\n",
    "                chr[ln[0]] = chromosome(ln[0])\n",
    "            chr[ln[0]].add_snp(ln[0],ln[1],ln[2],ln[3],ln[4])"
   ]
  },
  {
   "cell_type": "code",
   "execution_count": 66,
   "metadata": {
    "collapsed": false
   },
   "outputs": [
    {
     "name": "stdout",
     "output_type": "stream",
     "text": [
      "9344\n",
      "4262\n",
      "10309\n",
      "5130\n",
      "8708\n",
      "4261\n",
      "9050\n",
      "4372\n",
      "7586\n",
      "3874\n",
      "7874\n",
      "3697\n",
      "6784\n",
      "3274\n",
      "6520\n",
      "3419\n",
      "5102\n",
      "2653\n",
      "6165\n",
      "2952\n",
      "5944\n",
      "2908\n",
      "5876\n",
      "2700\n",
      "4926\n",
      "2368\n",
      "4016\n",
      "1891\n",
      "3397\n",
      "1676\n",
      "3449\n",
      "1891\n",
      "3024\n",
      "1357\n",
      "3791\n",
      "1738\n",
      "2198\n",
      "962\n",
      "2656\n",
      "1187\n",
      "1773\n",
      "848\n",
      "1539\n",
      "639\n"
     ]
    }
   ],
   "source": [
    "for i in range(1,23):\n",
    "    print(chr[str(i)].count_transition())\n",
    "    print(chr[str(i)].count_transversion())\n",
    "# literally counted all chromosomes"
   ]
  },
  {
   "cell_type": "markdown",
   "metadata": {
    "collapsed": false
   },
   "source": [
    "## Extending the \"chromosome\" class: searching for the SNP dense region"
   ]
  },
  {
   "cell_type": "code",
   "execution_count": 87,
   "metadata": {
    "collapsed": false
   },
   "outputs": [
   ],
   "source": [
    "class chromosome:\n",
    "    \n",
    "    def __init__(self, chrom):\n",
    "        self.chrom = chrom\n",
    "        self.snploc = dict()\n",
    "        \n",
    "    def add_snp(self, chrom, pos, id, ref, alt):\n",
    "        assert pos not in self.snploc.keys(), \"Error: duplicated SNP\"\n",
    "        assert chrom == self.chrom, \"Error: wrong chromosome\"\n",
    "        newsnp = SNP(chrom, pos, id, ref, alt)\n",
    "        self.snploc[pos] = newsnp\n",
    "        \n",
    "    def count_transition(self):\n",
    "        count = 0\n",
    "        locs = self.snploc.keys()\n",
    "        for loc in locs:\n",
    "            if self.snploc[loc].is_transition():\n",
    "                count += 1\n",
    "        return(count)\n",
    "    \n",
    "    def count_transversion(self):\n",
    "        count = 0\n",
    "        locs = self.snploc.keys()\n",
    "        for loc in locs:\n",
    "            if self.snploc[loc].is_transversion():\n",
    "                count += 1\n",
    "        return(count)\n",
    "    \n",
    "### below being new functions\n",
    "    \n",
    "    def density(self, l, m):\n",
    "        count = 0\n",
    "        for loc in self.snploc.keys():\n",
    "            loc = int(loc)\n",
    "            if loc >= l and loc <= m:\n",
    "                count += 1\n",
    "        den = count / (m - l + 1) * 1000\n",
    "        return(den)\n",
    "    \n",
    "    def best_region(self, region_size):\n",
    "        \n",
    "        lastsnp = int(sorted(self.snploc.keys(), reverse = True)[0])\n",
    "        best = [0.0, 1, region_size - 1] # density, start, end\n",
    "        \n",
    "        for loc in range(1, lastsnp, region_size):\n",
    "            loc = int(loc)\n",
    "            den = self.density(loc, loc + region_size - 1)\n",
    "            if den > best[0]:\n",
    "                best = [den, loc, loc + region_size - 1]\n",
    "        return(best)"
   ]
  },
  {
   "cell_type": "code",
   "execution_count": 88,
   "metadata": {
    "collapsed": false
   },
   "outputs": [
   ],
   "source": [
    "# need to update the dictionary\n",
    "\n",
    "no = sum(1 for line in io.open(\"data_23/trio.sample.vcf.txt\"))\n",
    "\n",
    "with io.open(\"data_23/trio.sample.vcf.txt\") as fh:\n",
    "    chr = dict()\n",
    "    for i in range(no):\n",
    "        ln = fh.readline().strip().split(\"\\t\")\n",
    "        if i > 10:\n",
    "            if ln[0] not in chr.keys():\n",
    "                chr[ln[0]] = chromosome(ln[0])\n",
    "            chr[ln[0]].add_snp(ln[0],ln[1],ln[2],ln[3],ln[4])"
   ]
  },
  {
   "cell_type": "code",
   "execution_count": 89,
   "metadata": {
    "collapsed": false
   },
   "outputs": [
    {
     "data": {
      "text/plain": [
       "[0.21000000000000002, 5200001, 5300000]"
      ]
     },
     "execution_count": 89,
     "metadata": {
     },
     "output_type": "execute_result"
    }
   ],
   "source": [
    "chr[\"1\"].best_region(100000)"
   ]
  },
  {
   "cell_type": "markdown",
   "metadata": {
    "collapsed": false
   },
   "source": [
    "## Q1: Calculating the density for each region (and the number of transitions, the number of snps)"
   ]
  },
  {
   "cell_type": "code",
   "execution_count": 110,
   "metadata": {
    "collapsed": false
   },
   "outputs": [
   ],
   "source": [
    "class chromosome:\n",
    "    \n",
    "    def __init__(self, chrom):\n",
    "        self.chrom = chrom\n",
    "        self.snploc = dict()\n",
    "        \n",
    "    def add_snp(self, chrom, pos, id, ref, alt):\n",
    "        assert pos not in self.snploc.keys(), \"Error: duplicated SNP\"\n",
    "        assert chrom == self.chrom, \"Error: wrong chromosome\"\n",
    "        newsnp = SNP(chrom, pos, id, ref, alt)\n",
    "        self.snploc[pos] = newsnp\n",
    "        \n",
    "    def count_transition(self):\n",
    "        count = 0\n",
    "        locs = self.snploc.keys()\n",
    "        for loc in locs:\n",
    "            if self.snploc[loc].is_transition():\n",
    "                count += 1\n",
    "        return(count)\n",
    "    \n",
    "    def count_transversion(self):\n",
    "        count = 0\n",
    "        locs = self.snploc.keys()\n",
    "        for loc in locs:\n",
    "            if self.snploc[loc].is_transversion():\n",
    "                count += 1\n",
    "        return(count)\n",
    "    \n",
    "    def density(self, l, m):\n",
    "        count = 0\n",
    "        for loc in self.snploc.keys():\n",
    "            loc = int(loc)\n",
    "            if loc >= l and loc <= m:\n",
    "                count += 1\n",
    "        den = count / (m - l + 1) * 1000\n",
    "        return(den)\n",
    "    \n",
    "    def best_region(self, region_size):\n",
    "        \n",
    "        lastsnp = int(sorted(self.snploc.keys(), reverse = True)[0])\n",
    "        best = [0.0, 1, region_size - 1] # density, start, end\n",
    "        \n",
    "        for loc in range(1, lastsnp, region_size):\n",
    "            loc = int(loc)\n",
    "            den = self.density(loc, loc + region_size - 1)\n",
    "            if den > best[0]:\n",
    "                best = [den, loc, loc + region_size - 1]\n",
    "        return(best)\n",
    "    \n",
    "### Below are the new functions in the class \"chromosome\"\n",
    "\n",
    "    def region_trans(self, l, m):\n",
    "        count_snp = 0\n",
    "        count_transition = 0\n",
    "        count_transversion = 0\n",
    "        for loc in self.snploc.keys():\n",
    "            loc = int(loc)\n",
    "            if loc >= l and loc <= m:\n",
    "                count_snp += 1\n",
    "                if self.snploc[str(loc)].is_transition():\n",
    "                    count_transition += 1\n",
    "                if self.snploc[str(loc)].is_transversion():\n",
    "                    count_transversion += 1\n",
    "        try:\n",
    "            return [count_snp, round(count_transition / count_snp,2), round(count_transversion / count_snp,2)]\n",
    "        except:\n",
    "            return [count_snp, 0, 0]\n",
    "\n",
    "    def region_den(self, region_size):\n",
    "        \n",
    "        lastsnp = int(sorted(self.snploc.keys(), reverse = True)[0])\n",
    "        rden = dict()\n",
    "        \n",
    "        for loc in range(1, lastsnp, region_size):\n",
    "            loc = int(loc)\n",
    "            den = round(self.density(loc, loc + region_size - 1),2)\n",
    "            reg_trans = self.region_trans(loc, loc + region_size - 1)\n",
    "            no_snp = reg_trans[0]\n",
    "            percent_transition = reg_trans[1]\n",
    "            key = str(loc) + \"..\" + str(loc + region_size - 1)\n",
    "            rden[key] = [key, den, percent_transition, no_snp]\n",
    "        return(rden)"
   ]
  },
  {
   "cell_type": "code",
   "execution_count": 111,
   "metadata": {
    "collapsed": false
   },
   "outputs": [
   ],
   "source": [
    "# need to update the dictionary\n",
    "\n",
    "no = sum(1 for line in io.open(\"data_23/trio.sample.vcf.txt\"))\n",
    "\n",
    "with io.open(\"data_23/trio.sample.vcf.txt\") as fh:\n",
    "    chr = dict()\n",
    "    for i in range(no):\n",
    "        ln = fh.readline().strip().split(\"\\t\")\n",
    "        if i > 10:\n",
    "            if ln[0] not in chr.keys():\n",
    "                chr[ln[0]] = chromosome(ln[0])\n",
    "            chr[ln[0]].add_snp(ln[0],ln[1],ln[2],ln[3],ln[4])"
   ]
  },
  {
   "cell_type": "code",
   "execution_count": 114,
   "metadata": {
    "collapsed": false
   },
   "outputs": [
   ],
   "source": [
    "dc1 = chr[\"1\"].region_den(1000000)"
   ]
  },
  {
   "cell_type": "code",
   "execution_count": 118,
   "metadata": {
    "collapsed": false
   },
   "outputs": [
    {
     "name": "stdout",
     "output_type": "stream",
     "text": [
      "chr\tloc\tdens\t%transition\tno_snp\n",
      "1\t1..1000000\t0.02\t0.71\t17\n",
      "1\t1000001..2000000\t0.03\t0.79\t34\n",
      "1\t2000001..3000000\t0.07\t0.68\t72\n",
      "1\t3000001..4000000\t0.06\t0.66\t65\n",
      "1\t4000001..5000000\t0.08\t0.75\t83\n",
      "1\t5000001..6000000\t0.07\t0.68\t71\n",
      "1\t6000001..7000000\t0.06\t0.71\t58\n",
      "1\t7000001..8000000\t0.07\t0.74\t73\n",
      "1\t8000001..9000000\t0.06\t0.72\t57\n",
      "1\t9000001..10000000\t0.06\t0.8\t55\n"
     ]
    }
   ],
   "source": [
    "print(\"chr\" + \"\\t\" + \"loc\" + \"\\t\" + \"dens\" + \"\\t\" + \"%transition\" + \"\\t\" + \"no_snp\")\n",
    "for i in range(10):\n",
    "    ls = dc1[list(dc1.keys())[i]]\n",
    "    print(\"1\" + \"\\t\" + str(ls[0]) + \"\\t\" + str(ls[1]) + \"\\t\" + str(ls[2]) + \"\\t\" + str(ls[3]))"
   ]
  },
  {
   "cell_type": "markdown",
   "metadata": {
    "collapsed": false
   },
   "source": [
    "## Q2: Creating the \"bug\" class"
   ]
  },
  {
   "cell_type": "code",
   "execution_count": 5,
   "metadata": {
    "collapsed": false
   },
   "outputs": [
   ],
   "source": [
    "import random"
   ]
  },
  {
   "cell_type": "code",
   "execution_count": 4,
   "metadata": {
    "collapsed": false
   },
   "outputs": [
   ],
   "source": [
    "class bug:\n",
    "    \n",
    "    def __init__(self):\n",
    "        self.bases = [\"A\", \"T\", \"C\", \"G\"]\n",
    "        self.genome = [random.choice(self.bases) for i in range(100)]\n",
    "        \n",
    "    def mutate_base(self):\n",
    "        base_no = random.randint(0,99)\n",
    "        self.genome[base_no] = random.choice(self.bases)\n",
    "        \n",
    "    def set_base(self, index, base):\n",
    "        self.genome[index] = base\n",
    "        \n",
    "    def get_fitness(self):\n",
    "        self.fitness = 0\n",
    "        fitness = 0\n",
    "        for i in range(100):\n",
    "            if self.genome[i] == \"G\" or self.genome[i] == \"C\":\n",
    "                fitness += 1\n",
    "        genome_str = \"\".join(self.genome)\n",
    "        if \"AAA\" in genome_str:\n",
    "            fitness += 5\n",
    "        self.fitness = fitness"
   ]
  },
  {
   "cell_type": "code",
   "execution_count": 265,
   "metadata": {
    "collapsed": false
   },
   "outputs": [
    {
     "data": {
      "text/plain": [
       "['G', 'C', 'A', 'T', 'G']"
      ]
     },
     "execution_count": 265,
     "metadata": {
     },
     "output_type": "execute_result"
    }
   ],
   "source": [
    "a = bug()\n",
    "a.genome[:5]"
   ]
  },
  {
   "cell_type": "code",
   "execution_count": 266,
   "metadata": {
    "collapsed": false
   },
   "outputs": [
   ],
   "source": [
    "a.mutate_base()"
   ]
  },
  {
   "cell_type": "code",
   "execution_count": 267,
   "metadata": {
    "collapsed": false
   },
   "outputs": [
   ],
   "source": [
    "a.set_base(0,\"T\")"
   ]
  },
  {
   "cell_type": "code",
   "execution_count": 268,
   "metadata": {
    "collapsed": false
   },
   "outputs": [
    {
     "data": {
      "text/plain": [
       "['T', 'C', 'A', 'T', 'G']"
      ]
     },
     "execution_count": 268,
     "metadata": {
     },
     "output_type": "execute_result"
    }
   ],
   "source": [
    "a.genome[:5]"
   ]
  },
  {
   "cell_type": "code",
   "execution_count": 270,
   "metadata": {
    "collapsed": false
   },
   "outputs": [
    {
     "data": {
      "text/plain": [
       "57"
      ]
     },
     "execution_count": 270,
     "metadata": {
     },
     "output_type": "execute_result"
    }
   ],
   "source": [
    "a.get_fitness()\n",
    "a.fitness"
   ]
  },
  {
   "cell_type": "code",
   "execution_count": 185,
   "metadata": {
    "collapsed": false
   },
   "outputs": [
    {
     "name": "stdout",
     "output_type": "stream",
     "text": [
      "54\n",
      "54\n",
      "44\n",
      "46\n",
      "56\n",
      "57\n",
      "44\n",
      "42\n",
      "56\n",
      "60\n",
      "51\n",
      "51\n",
      "49\n",
      "50\n",
      "43\n",
      "47\n",
      "59\n",
      "58\n",
      "56\n",
      "55\n"
     ]
    }
   ],
   "source": [
    "# Creating 10 bugs; have them mutated; and calculated their fitness\n",
    "\n",
    "for i in range(10):\n",
    "    newbug = bug()\n",
    "    print(newbug.get_fitness())\n",
    "    for j in range(10):\n",
    "        newbug.mutate_base()\n",
    "    print(newbug.get_fitness())"
   ]
  },
  {
   "cell_type": "markdown",
   "metadata": {
    "collapsed": false
   },
   "source": [
    "## Q3: Adding on the class \"population\""
   ]
  },
  {
   "cell_type": "code",
   "execution_count": 138,
   "metadata": {
    "collapsed": false
   },
   "outputs": [
   ],
   "source": [
    "class population:\n",
    "    \n",
    "    def __init__(self):\n",
    "        self.bug_list = [bug() for i in range(50)]\n",
    "    \n",
    "    def create_offspring(self):\n",
    "        new_pop = list()\n",
    "        oldbug = [i for i in self.bug_list]\n",
    "        for i in self.bug_list:\n",
    "            i.mutate_base()\n",
    "        newbug = [i for i in self.bug_list]\n",
    "        new_pop = oldbug + newbug\n",
    "        self.bug_list = new_pop\n",
    "    \n",
    "    def cull(self):\n",
    "        new_pop = list()\n",
    "        fitness = list()\n",
    "        for i in self.bug_list:\n",
    "            i.get_fitness()\n",
    "            fitness.append(i.fitness)\n",
    "        halfnumber = sorted(fitness, reverse = True)[len(fitness)//2]\n",
    "        for i in range(len(fitness)):\n",
    "            if fitness[i] > halfnumber:\n",
    "                new_pop.append(self.bug_list[i])\n",
    "        for i in range(len(fitness)):\n",
    "            if fitness[i] == halfnumber:\n",
    "                if len(new_pop) < len(fitness)//2:\n",
    "                    new_pop.append(self.bug_list[i])\n",
    "                else:\n",
    "                    break\n",
    "        self.bug_list = new_pop\n",
    "        \n",
    "    def mean_fitness(self):\n",
    "        \n",
    "        import statistics\n",
    "        \n",
    "        fitness = list()\n",
    "        for i in self.bug_list:\n",
    "            i.get_fitness()\n",
    "            fitness.append(i.fitness)\n",
    "        return(statistics.mean(fitness))"
   ]
  },
  {
   "cell_type": "code",
   "execution_count": 140,
   "metadata": {
    "collapsed": false
   },
   "outputs": [
    {
     "name": "stdout",
     "output_type": "stream",
     "text": [
      "50\n",
      "54.08\n"
     ]
    }
   ],
   "source": [
    "popa = population()\n",
    "print(len(popa.bug_list))\n",
    "print(popa.mean_fitness())"
   ]
  },
  {
   "cell_type": "code",
   "execution_count": 141,
   "metadata": {
    "collapsed": false
   },
   "outputs": [
    {
     "name": "stdout",
     "output_type": "stream",
     "text": [
      "100\n",
      "54\n"
     ]
    }
   ],
   "source": [
    "popa.create_offspring()\n",
    "print(len(popa.bug_list))\n",
    "print(popa.mean_fitness())"
   ]
  },
  {
   "cell_type": "code",
   "execution_count": 142,
   "metadata": {
    "collapsed": false
   },
   "outputs": [
    {
     "name": "stdout",
     "output_type": "stream",
     "text": [
      "50\n",
      "58.28\n"
     ]
    }
   ],
   "source": [
    "popa.cull()\n",
    "print(len(popa.bug_list))\n",
    "print(popa.mean_fitness())"
   ]
  }
 ],
 "metadata": {
  "kernelspec": {
   "display_name": "Python 3 (system-wide)",
   "language": "python",
   "metadata": {
    "cocalc": {
     "description": "Python 3 programming language",
     "priority": 100,
     "url": "https://www.python.org/"
    }
   },
   "name": "python3",
   "resource_dir": "/ext/jupyter/kernels/python3"
  },
  "language_info": {
   "codemirror_mode": {
    "name": "ipython",
    "version": 3
   },
   "file_extension": ".py",
   "mimetype": "text/x-python",
   "name": "python",
   "nbconvert_exporter": "python",
   "pygments_lexer": "ipython3",
   "version": "3.8.10"
  }
 },
 "nbformat": 4,
 "nbformat_minor": 4
}