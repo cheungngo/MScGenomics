{
 "cells": [
  {
   "cell_type": "markdown",
   "metadata": {
    "collapsed": false
   },
   "source": [
    "# Question 3 (Linux record)"
   ]
  },
  {
   "cell_type": "code",
   "execution_count": 5,
   "metadata": {
    "collapsed": false
   },
   "outputs": [
    {
     "name": "stdout",
     "output_type": "stream",
     "text": [
      "Cloning into 'PyVCF'...\n"
     ]
    },
    {
     "name": "stdout",
     "output_type": "stream",
     "text": [
      "remote: Enumerating objects: 2338, done.\u001b[K\n"
     ]
    },
    {
     "name": "stdout",
     "output_type": "stream",
     "text": [
      "Receiving objects:   0% (1/2338)\rReceiving objects:   1% (24/2338)\rReceiving objects:   2% (47/2338)\rReceiving objects:   3% (71/2338)\rReceiving objects:   4% (94/2338)\rReceiving objects:   5% (117/2338)\rReceiving objects:   6% (141/2338)\rReceiving objects:   7% (164/2338)\rReceiving objects:   8% (188/2338)\rReceiving objects:   9% (211/2338)\rReceiving objects:  10% (234/2338)\rReceiving objects:  11% (258/2338)\rReceiving objects:  12% (281/2338)\rReceiving objects:  13% (304/2338)\rReceiving objects:  14% (328/2338)\rReceiving objects:  15% (351/2338)\rReceiving objects:  16% (375/2338)\rReceiving objects:  17% (398/2338)\rReceiving objects:  18% (421/2338)\rReceiving objects:  19% (445/2338)\rReceiving objects:  20% (468/2338)\rReceiving objects:  21% (491/2338)\rReceiving objects:  22% (515/2338)\rReceiving objects:  23% (538/2338)\rReceiving objects:  24% (562/2338)\rReceiving objects:  25% (585/2338)\rReceiving objects:  26% (608/2338)\rReceiving objects:  27% (632/2338)\rReceiving objects:  28% (655/2338)\rReceiving objects:  29% (679/2338)\rReceiving objects:  30% (702/2338)\rReceiving objects:  31% (725/2338)\rReceiving objects:  32% (749/2338)\rReceiving objects:  33% (772/2338)\rReceiving objects:  34% (795/2338)\rReceiving objects:  35% (819/2338)\rReceiving objects:  36% (842/2338)\rReceiving objects:  37% (866/2338)\rReceiving objects:  38% (889/2338)\rReceiving objects:  39% (912/2338)\rReceiving objects:  40% (936/2338)\rReceiving objects:  41% (959/2338)\rReceiving objects:  42% (982/2338)\rReceiving objects:  43% (1006/2338)\rReceiving objects:  44% (1029/2338)\rReceiving objects:  45% (1053/2338)\rReceiving objects:  46% (1076/2338)\rReceiving objects:  47% (1099/2338)\rReceiving objects:  48% (1123/2338)\rReceiving objects:  49% (1146/2338)\rReceiving objects:  50% (1169/2338)\rReceiving objects:  51% (1193/2338)\rReceiving objects:  52% (1216/2338)\rReceiving objects:  53% (1240/2338)\rReceiving objects:  54% (1263/2338)\rReceiving objects:  55% (1286/2338)\rReceiving objects:  56% (1310/2338)\rReceiving objects:  57% (1333/2338)\rReceiving objects:  58% (1357/2338)\rReceiving objects:  59% (1380/2338)\rReceiving objects:  60% (1403/2338)\rReceiving objects:  61% (1427/2338)\rReceiving objects:  62% (1450/2338)\rReceiving objects:  63% (1473/2338)\rReceiving objects:  64% (1497/2338)\rReceiving objects:  65% (1520/2338)\rReceiving objects:  66% (1544/2338)\rReceiving objects:  67% (1567/2338)\rReceiving objects:  68% (1590/2338)\rReceiving objects:  69% (1614/2338)\rReceiving objects:  70% (1637/2338)\rReceiving objects:  71% (1660/2338)\rReceiving objects:  72% (1684/2338)\rReceiving objects:  73% (1707/2338)\rReceiving objects:  74% (1731/2338)\rReceiving objects:  75% (1754/2338)\rReceiving objects:  76% (1777/2338)\rReceiving objects:  77% (1801/2338)\rReceiving objects:  78% (1824/2338)\rReceiving objects:  79% (1848/2338)\rReceiving objects:  80% (1871/2338)\rReceiving objects:  81% (1894/2338)\rReceiving objects:  82% (1918/2338)\rReceiving objects:  83% (1941/2338)\rremote: Total 2338 (delta 0), reused 0 (delta 0), pack-reused 2338\u001b[K\n"
     ]
    },
    {
     "name": "stdout",
     "output_type": "stream",
     "text": [
      "Receiving objects:  84% (1964/2338)\rReceiving objects:  85% (1988/2338)\rReceiving objects:  86% (2011/2338)\rReceiving objects:  87% (2035/2338)\rReceiving objects:  88% (2058/2338)\rReceiving objects:  89% (2081/2338)\rReceiving objects:  90% (2105/2338)\rReceiving objects:  91% (2128/2338)\rReceiving objects:  92% (2151/2338)\rReceiving objects:  93% (2175/2338)\rReceiving objects:  94% (2198/2338)\rReceiving objects:  95% (2222/2338)\rReceiving objects:  96% (2245/2338)\rReceiving objects:  97% (2268/2338)\rReceiving objects:  98% (2292/2338)\rReceiving objects:  99% (2315/2338)\rReceiving objects: 100% (2338/2338)\rReceiving objects: 100% (2338/2338), 1.66 MiB | 20.46 MiB/s, done.\n"
     ]
    },
    {
     "name": "stdout",
     "output_type": "stream",
     "text": [
      "Resolving deltas:   0% (0/1362)\rResolving deltas:   2% (29/1362)\rResolving deltas:   3% (41/1362)\rResolving deltas:   4% (56/1362)\rResolving deltas:   5% (71/1362)\rResolving deltas:   6% (86/1362)\rResolving deltas:   7% (105/1362)\rResolving deltas:   8% (109/1362)\rResolving deltas:   9% (126/1362)\rResolving deltas:  13% (188/1362)\rResolving deltas:  15% (213/1362)\rResolving deltas:  19% (261/1362)\rResolving deltas:  20% (273/1362)\rResolving deltas:  21% (288/1362)\rResolving deltas:  23% (314/1362)\rResolving deltas:  25% (341/1362)\rResolving deltas:  26% (358/1362)\rResolving deltas:  27% (377/1362)\rResolving deltas:  28% (383/1362)\rResolving deltas:  29% (399/1362)\rResolving deltas:  30% (409/1362)\rResolving deltas:  31% (429/1362)\rResolving deltas:  32% (436/1362)\rResolving deltas:  34% (467/1362)\rResolving deltas:  35% (478/1362)\rResolving deltas:  36% (494/1362)\rResolving deltas:  37% (512/1362)\rResolving deltas:  43% (589/1362)\rResolving deltas:  45% (616/1362)\rResolving deltas:  46% (640/1362)\rResolving deltas:  47% (642/1362)\rResolving deltas:  48% (655/1362)\rResolving deltas:  51% (699/1362)\rResolving deltas:  53% (729/1362)\rResolving deltas:  54% (742/1362)\rResolving deltas:  57% (787/1362)\rResolving deltas:  58% (802/1362)\rResolving deltas:  59% (805/1362)\rResolving deltas:  61% (841/1362)\rResolving deltas:  62% (845/1362)\rResolving deltas:  63% (859/1362)\rResolving deltas:  67% (924/1362)\rResolving deltas:  68% (928/1362)\rResolving deltas:  69% (948/1362)\rResolving deltas:  70% (958/1362)\rResolving deltas:  71% (970/1362)\rResolving deltas:  72% (985/1362)\rResolving deltas:  73% (999/1362)\rResolving deltas:  74% (1010/1362)\rResolving deltas:  75% (1022/1362)\rResolving deltas:  76% (1046/1362)\rResolving deltas:  77% (1053/1362)\rResolving deltas:  80% (1092/1362)\rResolving deltas:  81% (1104/1362)\rResolving deltas:  82% (1127/1362)\rResolving deltas:  83% (1140/1362)\rResolving deltas:  84% (1148/1362)\rResolving deltas:  86% (1177/1362)\rResolving deltas:  87% (1193/1362)\rResolving deltas:  88% (1203/1362)\rResolving deltas:  89% (1218/1362)\rResolving deltas:  90% (1227/1362)\rResolving deltas:  91% (1245/1362)\rResolving deltas:  92% (1254/1362)\rResolving deltas:  93% (1268/1362)\rResolving deltas:  94% (1283/1362)\rResolving deltas:  95% (1301/1362)\rResolving deltas:  96% (1311/1362)\rResolving deltas:  97% (1322/1362)\rResolving deltas:  98% (1336/1362)\rResolving deltas: 100% (1362/1362)\rResolving deltas: 100% (1362/1362), done.\n"
     ]
    }
   ],
   "source": [
    "git clone https://github.com/jamescasbon/PyVCF.git"
   ]
  },
  {
   "cell_type": "code",
   "execution_count": 6,
   "metadata": {
    "collapsed": false
   },
   "outputs": [
   ],
   "source": [
    "cd PyVCF"
   ]
  },
  {
   "cell_type": "code",
   "execution_count": 7,
   "metadata": {
    "collapsed": false
   },
   "outputs": [
    {
     "name": "stdout",
     "output_type": "stream",
     "text": [
      "LICENSE      README.rst  \u001b[0m\u001b[01;34mrequirements\u001b[0m  setup.py  \u001b[01;34mvcf\u001b[0m\n"
     ]
    },
    {
     "name": "stdout",
     "output_type": "stream",
     "text": [
      "MANIFEST.in  \u001b[01;34mdocs\u001b[0m        \u001b[01;34mscripts\u001b[0m       tox.ini\n"
     ]
    }
   ],
   "source": [
    "ls"
   ]
  },
  {
   "cell_type": "code",
   "execution_count": 8,
   "metadata": {
    "collapsed": false
   },
   "outputs": [
    {
     "name": "stdout",
     "output_type": "stream",
     "text": [
      "/usr/lib/python3.8/distutils/dist.py:274: UserWarning: Unknown distribution option: 'use_2to3'\n"
     ]
    },
    {
     "name": "stdout",
     "output_type": "stream",
     "text": [
      "  warnings.warn(msg)\n"
     ]
    },
    {
     "name": "stdout",
     "output_type": "stream",
     "text": [
      "running install\n"
     ]
    },
    {
     "name": "stdout",
     "output_type": "stream",
     "text": [
      "running bdist_egg\n"
     ]
    },
    {
     "name": "stdout",
     "output_type": "stream",
     "text": [
      "running egg_info\n"
     ]
    },
    {
     "name": "stdout",
     "output_type": "stream",
     "text": [
      "creating PyVCF.egg-info\n"
     ]
    },
    {
     "name": "stdout",
     "output_type": "stream",
     "text": [
      "writing PyVCF.egg-info/PKG-INFO\n"
     ]
    },
    {
     "name": "stdout",
     "output_type": "stream",
     "text": [
      "writing dependency_links to PyVCF.egg-info/dependency_links.txt\n"
     ]
    },
    {
     "name": "stdout",
     "output_type": "stream",
     "text": [
      "writing entry points to PyVCF.egg-info/entry_points.txt\n"
     ]
    },
    {
     "name": "stdout",
     "output_type": "stream",
     "text": [
      "writing requirements to PyVCF.egg-info/requires.txt\n"
     ]
    },
    {
     "name": "stdout",
     "output_type": "stream",
     "text": [
      "writing top-level names to PyVCF.egg-info/top_level.txt\n"
     ]
    },
    {
     "name": "stdout",
     "output_type": "stream",
     "text": [
      "writing manifest file 'PyVCF.egg-info/SOURCES.txt'\n"
     ]
    },
    {
     "name": "stdout",
     "output_type": "stream",
     "text": [
      "reading manifest template 'MANIFEST.in'\n"
     ]
    },
    {
     "name": "stdout",
     "output_type": "stream",
     "text": [
      "adding license file 'LICENSE'\n"
     ]
    },
    {
     "name": "stdout",
     "output_type": "stream",
     "text": [
      "writing manifest file 'PyVCF.egg-info/SOURCES.txt'\n"
     ]
    },
    {
     "name": "stdout",
     "output_type": "stream",
     "text": [
      "installing library code to build/bdist.linux-x86_64/egg\n"
     ]
    },
    {
     "name": "stdout",
     "output_type": "stream",
     "text": [
      "running install_lib\n"
     ]
    },
    {
     "name": "stdout",
     "output_type": "stream",
     "text": [
      "running build_py\n"
     ]
    },
    {
     "name": "stdout",
     "output_type": "stream",
     "text": [
      "creating build\n"
     ]
    },
    {
     "name": "stdout",
     "output_type": "stream",
     "text": [
      "creating build/lib.linux-x86_64-3.8\n"
     ]
    },
    {
     "name": "stdout",
     "output_type": "stream",
     "text": [
      "creating build/lib.linux-x86_64-3.8/vcf\n"
     ]
    },
    {
     "name": "stdout",
     "output_type": "stream",
     "text": [
      "copying vcf/filters.py -> build/lib.linux-x86_64-3.8/vcf\n"
     ]
    },
    {
     "name": "stdout",
     "output_type": "stream",
     "text": [
      "copying vcf/model.py -> build/lib.linux-x86_64-3.8/vcf\n"
     ]
    },
    {
     "name": "stdout",
     "output_type": "stream",
     "text": [
      "copying vcf/utils.py -> build/lib.linux-x86_64-3.8/vcf\n"
     ]
    },
    {
     "name": "stdout",
     "output_type": "stream",
     "text": [
      "copying vcf/__init__.py -> build/lib.linux-x86_64-3.8/vcf\n"
     ]
    },
    {
     "name": "stdout",
     "output_type": "stream",
     "text": [
      "copying vcf/parser.py -> build/lib.linux-x86_64-3.8/vcf\n"
     ]
    },
    {
     "name": "stdout",
     "output_type": "stream",
     "text": [
      "copying vcf/sample_filter.py -> build/lib.linux-x86_64-3.8/vcf\n"
     ]
    },
    {
     "name": "stdout",
     "output_type": "stream",
     "text": [
      "creating build/lib.linux-x86_64-3.8/vcf/test\n"
     ]
    },
    {
     "name": "stdout",
     "output_type": "stream",
     "text": [
      "copying vcf/test/test_vcf.py -> build/lib.linux-x86_64-3.8/vcf/test\n"
     ]
    },
    {
     "name": "stdout",
     "output_type": "stream",
     "text": [
      "copying vcf/test/__init__.py -> build/lib.linux-x86_64-3.8/vcf/test\n"
     ]
    },
    {
     "name": "stdout",
     "output_type": "stream",
     "text": [
      "copying vcf/test/prof.py -> build/lib.linux-x86_64-3.8/vcf/test\n"
     ]
    },
    {
     "name": "stdout",
     "output_type": "stream",
     "text": [
      "copying vcf/cparse.pyx -> build/lib.linux-x86_64-3.8/vcf\n"
     ]
    },
    {
     "name": "stdout",
     "output_type": "stream",
     "text": [
      "copying vcf/test/1kg.sites.vcf -> build/lib.linux-x86_64-3.8/vcf/test\n"
     ]
    },
    {
     "name": "stdout",
     "output_type": "stream",
     "text": [
      "copying vcf/test/1kg.vcf.gz -> build/lib.linux-x86_64-3.8/vcf/test\n"
     ]
    },
    {
     "name": "stdout",
     "output_type": "stream",
     "text": [
      "copying vcf/test/FT.vcf -> build/lib.linux-x86_64-3.8/vcf/test\n"
     ]
    },
    {
     "name": "stdout",
     "output_type": "stream",
     "text": [
      "copying vcf/test/README.md -> build/lib.linux-x86_64-3.8/vcf/test\n"
     ]
    },
    {
     "name": "stdout",
     "output_type": "stream",
     "text": [
      "copying vcf/test/bad-info-character.vcf -> build/lib.linux-x86_64-3.8/vcf/test\n"
     ]
    },
    {
     "name": "stdout",
     "output_type": "stream",
     "text": [
      "copying vcf/test/bcftools.vcf -> build/lib.linux-x86_64-3.8/vcf/test\n"
     ]
    },
    {
     "name": "stdout",
     "output_type": "stream",
     "text": [
      "copying vcf/test/contig_idonly.vcf -> build/lib.linux-x86_64-3.8/vcf/test\n"
     ]
    },
    {
     "name": "stdout",
     "output_type": "stream",
     "text": [
      "copying vcf/test/example-4.0.vcf -> build/lib.linux-x86_64-3.8/vcf/test\n"
     ]
    },
    {
     "name": "stdout",
     "output_type": "stream",
     "text": [
      "copying vcf/test/example-4.1-bnd.vcf -> build/lib.linux-x86_64-3.8/vcf/test\n"
     ]
    },
    {
     "name": "stdout",
     "output_type": "stream",
     "text": [
      "copying vcf/test/example-4.1-info-multiple-values.vcf -> build/lib.linux-x86_64-3.8/vcf/test\n"
     ]
    },
    {
     "name": "stdout",
     "output_type": "stream",
     "text": [
      "copying vcf/test/example-4.1-ploidy.vcf -> build/lib.linux-x86_64-3.8/vcf/test\n"
     ]
    },
    {
     "name": "stdout",
     "output_type": "stream",
     "text": [
      "copying vcf/test/example-4.1-sv.vcf -> build/lib.linux-x86_64-3.8/vcf/test\n"
     ]
    },
    {
     "name": "stdout",
     "output_type": "stream",
     "text": [
      "copying vcf/test/example-4.1.vcf -> build/lib.linux-x86_64-3.8/vcf/test\n"
     ]
    },
    {
     "name": "stdout",
     "output_type": "stream",
     "text": [
      "copying vcf/test/example-4.2.vcf -> build/lib.linux-x86_64-3.8/vcf/test\n"
     ]
    },
    {
     "name": "stdout",
     "output_type": "stream",
     "text": [
      "copying vcf/test/freebayes.vcf -> build/lib.linux-x86_64-3.8/vcf/test\n"
     ]
    },
    {
     "name": "stdout",
     "output_type": "stream",
     "text": [
      "copying vcf/test/gatk.vcf -> build/lib.linux-x86_64-3.8/vcf/test\n"
     ]
    },
    {
     "name": "stdout",
     "output_type": "stream",
     "text": [
      "copying vcf/test/gatk_26_meta.vcf -> build/lib.linux-x86_64-3.8/vcf/test\n"
     ]
    },
    {
     "name": "stdout",
     "output_type": "stream",
     "text": [
      "copying vcf/test/gonl.chr20.release4.gtc.vcf -> build/lib.linux-x86_64-3.8/vcf/test\n"
     ]
    },
    {
     "name": "stdout",
     "output_type": "stream",
     "text": [
      "copying vcf/test/info-type-character.vcf -> build/lib.linux-x86_64-3.8/vcf/test\n"
     ]
    },
    {
     "name": "stdout",
     "output_type": "stream",
     "text": [
      "copying vcf/test/issue-140-file1.vcf -> build/lib.linux-x86_64-3.8/vcf/test\n"
     ]
    },
    {
     "name": "stdout",
     "output_type": "stream",
     "text": [
      "copying vcf/test/issue-140-file2.vcf -> build/lib.linux-x86_64-3.8/vcf/test\n"
     ]
    },
    {
     "name": "stdout",
     "output_type": "stream",
     "text": [
      "copying vcf/test/issue-140-file3.vcf -> build/lib.linux-x86_64-3.8/vcf/test\n"
     ]
    },
    {
     "name": "stdout",
     "output_type": "stream",
     "text": [
      "copying vcf/test/issue-16.vcf -> build/lib.linux-x86_64-3.8/vcf/test\n"
     ]
    },
    {
     "name": "stdout",
     "output_type": "stream",
     "text": [
      "copying vcf/test/issue-201.vcf.gz -> build/lib.linux-x86_64-3.8/vcf/test\n"
     ]
    },
    {
     "name": "stdout",
     "output_type": "stream",
     "text": [
      "copying vcf/test/issue-201.vcf.gz.tbi -> build/lib.linux-x86_64-3.8/vcf/test\n"
     ]
    },
    {
     "name": "stdout",
     "output_type": "stream",
     "text": [
      "copying vcf/test/issue-214.vcf -> build/lib.linux-x86_64-3.8/vcf/test\n"
     ]
    },
    {
     "name": "stdout",
     "output_type": "stream",
     "text": [
      "copying vcf/test/issue-254.vcf -> build/lib.linux-x86_64-3.8/vcf/test\n"
     ]
    },
    {
     "name": "stdout",
     "output_type": "stream",
     "text": [
      "copying vcf/test/issue_49.vcf -> build/lib.linux-x86_64-3.8/vcf/test\n"
     ]
    },
    {
     "name": "stdout",
     "output_type": "stream",
     "text": [
      "copying vcf/test/metadata-whitespace.vcf -> build/lib.linux-x86_64-3.8/vcf/test\n"
     ]
    },
    {
     "name": "stdout",
     "output_type": "stream",
     "text": [
      "copying vcf/test/mixed-filtering.vcf -> build/lib.linux-x86_64-3.8/vcf/test\n"
     ]
    },
    {
     "name": "stdout",
     "output_type": "stream",
     "text": [
      "copying vcf/test/null_genotype_mono.vcf -> build/lib.linux-x86_64-3.8/vcf/test\n"
     ]
    },
    {
     "name": "stdout",
     "output_type": "stream",
     "text": [
      "copying vcf/test/parse-meta-line.vcf -> build/lib.linux-x86_64-3.8/vcf/test\n"
     ]
    },
    {
     "name": "stdout",
     "output_type": "stream",
     "text": [
      "copying vcf/test/samples-space.vcf -> build/lib.linux-x86_64-3.8/vcf/test\n"
     ]
    },
    {
     "name": "stdout",
     "output_type": "stream",
     "text": [
      "copying vcf/test/samtools.vcf -> build/lib.linux-x86_64-3.8/vcf/test\n"
     ]
    },
    {
     "name": "stdout",
     "output_type": "stream",
     "text": [
      "copying vcf/test/strelka.vcf -> build/lib.linux-x86_64-3.8/vcf/test\n"
     ]
    },
    {
     "name": "stdout",
     "output_type": "stream",
     "text": [
      "copying vcf/test/string_as_flag.vcf -> build/lib.linux-x86_64-3.8/vcf/test\n"
     ]
    },
    {
     "name": "stdout",
     "output_type": "stream",
     "text": [
      "copying vcf/test/tb.vcf.gz -> build/lib.linux-x86_64-3.8/vcf/test\n"
     ]
    },
    {
     "name": "stdout",
     "output_type": "stream",
     "text": [
      "copying vcf/test/tb.vcf.gz.tbi -> build/lib.linux-x86_64-3.8/vcf/test\n"
     ]
    },
    {
     "name": "stdout",
     "output_type": "stream",
     "text": [
      "copying vcf/test/uncalled_genotypes.vcf -> build/lib.linux-x86_64-3.8/vcf/test\n"
     ]
    },
    {
     "name": "stdout",
     "output_type": "stream",
     "text": [
      "copying vcf/test/walk_left.vcf -> build/lib.linux-x86_64-3.8/vcf/test\n"
     ]
    },
    {
     "name": "stdout",
     "output_type": "stream",
     "text": [
      "copying vcf/test/walk_refcall.vcf -> build/lib.linux-x86_64-3.8/vcf/test\n"
     ]
    },
    {
     "name": "stdout",
     "output_type": "stream",
     "text": [
      "running build_ext\n"
     ]
    },
    {
     "name": "stdout",
     "output_type": "stream",
     "text": [
      "cythoning vcf/cparse.pyx to vcf/cparse.c\n"
     ]
    },
    {
     "name": "stdout",
     "output_type": "stream",
     "text": [
      "/usr/local/lib/python3.8/dist-packages/Cython/Compiler/Main.py:369: FutureWarning: Cython directive 'language_level' not set, using 2 for now (Py2). This will change in a later release! File: /home/user/5010/Ch_24/PyVCF/vcf/cparse.pyx\n"
     ]
    },
    {
     "name": "stdout",
     "output_type": "stream",
     "text": [
      "  tree = Parsing.p_module(s, pxd, full_module_name)\n"
     ]
    },
    {
     "name": "stdout",
     "output_type": "stream",
     "text": [
      "warning: vcf/cparse.pyx:29:14: Non-trivial type declarators in shared declaration (e.g. mix of pointers and values). Each pointer declaration should be on its own line.\n"
     ]
    },
    {
     "name": "stdout",
     "output_type": "stream",
     "text": [
      "warning: vcf/cparse.pyx:29:21: Non-trivial type declarators in shared declaration (e.g. mix of pointers and values). Each pointer declaration should be on its own line.\n"
     ]
    },
    {
     "name": "stdout",
     "output_type": "stream",
     "text": [
      "warning: vcf/cparse.pyx:29:27: Non-trivial type declarators in shared declaration (e.g. mix of pointers and values). Each pointer declaration should be on its own line.\n"
     ]
    },
    {
     "name": "stdout",
     "output_type": "stream",
     "text": [
      "warning: vcf/cparse.pyx:29:40: Non-trivial type declarators in shared declaration (e.g. mix of pointers and values). Each pointer declaration should be on its own line.\n"
     ]
    },
    {
     "name": "stdout",
     "output_type": "stream",
     "text": [
      "building 'vcf.cparse' extension\n"
     ]
    },
    {
     "name": "stdout",
     "output_type": "stream",
     "text": [
      "creating build/temp.linux-x86_64-3.8\n"
     ]
    },
    {
     "name": "stdout",
     "output_type": "stream",
     "text": [
      "creating build/temp.linux-x86_64-3.8/vcf\n"
     ]
    },
    {
     "name": "stdout",
     "output_type": "stream",
     "text": [
      "x86_64-linux-gnu-gcc -pthread -Wno-unused-result -Wsign-compare -DNDEBUG -g -fwrapv -O2 -Wall -g -fstack-protector-strong -Wformat -Werror=format-security -g -fwrapv -O2 -g -fstack-protector-strong -Wformat -Werror=format-security -Wdate-time -D_FORTIFY_SOURCE=2 -fPIC -I/usr/include/python3.8 -c vcf/cparse.c -o build/temp.linux-x86_64-3.8/vcf/cparse.o\n"
     ]
    },
    {
     "name": "stdout",
     "output_type": "stream",
     "text": [
      "x86_64-linux-gnu-gcc -pthread -shared -Wl,-O1 -Wl,-Bsymbolic-functions -Wl,-Bsymbolic-functions -Wl,-z,relro -g -fwrapv -O2 -Wl,-Bsymbolic-functions -Wl,-z,relro -g -fwrapv -O2 -g -fstack-protector-strong -Wformat -Werror=format-security -Wdate-time -D_FORTIFY_SOURCE=2 build/temp.linux-x86_64-3.8/vcf/cparse.o -o build/lib.linux-x86_64-3.8/vcf/cparse.cpython-38-x86_64-linux-gnu.so\n"
     ]
    },
    {
     "name": "stdout",
     "output_type": "stream",
     "text": [
      "creating build/bdist.linux-x86_64\n"
     ]
    },
    {
     "name": "stdout",
     "output_type": "stream",
     "text": [
      "creating build/bdist.linux-x86_64/egg\n"
     ]
    },
    {
     "name": "stdout",
     "output_type": "stream",
     "text": [
      "creating build/bdist.linux-x86_64/egg/vcf\n"
     ]
    },
    {
     "name": "stdout",
     "output_type": "stream",
     "text": [
      "copying build/lib.linux-x86_64-3.8/vcf/utils.py -> build/bdist.linux-x86_64/egg/vcf\n"
     ]
    },
    {
     "name": "stdout",
     "output_type": "stream",
     "text": [
      "copying build/lib.linux-x86_64-3.8/vcf/__init__.py -> build/bdist.linux-x86_64/egg/vcf\n"
     ]
    },
    {
     "name": "stdout",
     "output_type": "stream",
     "text": [
      "copying build/lib.linux-x86_64-3.8/vcf/cparse.pyx -> build/bdist.linux-x86_64/egg/vcf\n"
     ]
    },
    {
     "name": "stdout",
     "output_type": "stream",
     "text": [
      "copying build/lib.linux-x86_64-3.8/vcf/sample_filter.py -> build/bdist.linux-x86_64/egg/vcf\n"
     ]
    },
    {
     "name": "stdout",
     "output_type": "stream",
     "text": [
      "copying build/lib.linux-x86_64-3.8/vcf/cparse.cpython-38-x86_64-linux-gnu.so -> build/bdist.linux-x86_64/egg/vcf\n"
     ]
    },
    {
     "name": "stdout",
     "output_type": "stream",
     "text": [
      "creating build/bdist.linux-x86_64/egg/vcf/test\n"
     ]
    },
    {
     "name": "stdout",
     "output_type": "stream",
     "text": [
      "copying build/lib.linux-x86_64-3.8/vcf/test/example-4.1-sv.vcf -> build/bdist.linux-x86_64/egg/vcf/test\n"
     ]
    },
    {
     "name": "stdout",
     "output_type": "stream",
     "text": [
      "copying build/lib.linux-x86_64-3.8/vcf/test/issue-16.vcf -> build/bdist.linux-x86_64/egg/vcf/test\n"
     ]
    },
    {
     "name": "stdout",
     "output_type": "stream",
     "text": [
      "copying build/lib.linux-x86_64-3.8/vcf/test/uncalled_genotypes.vcf -> build/bdist.linux-x86_64/egg/vcf/test\n"
     ]
    },
    {
     "name": "stdout",
     "output_type": "stream",
     "text": [
      "copying build/lib.linux-x86_64-3.8/vcf/test/example-4.1-info-multiple-values.vcf -> build/bdist.linux-x86_64/egg/vcf/test\n"
     ]
    },
    {
     "name": "stdout",
     "output_type": "stream",
     "text": [
      "copying build/lib.linux-x86_64-3.8/vcf/test/example-4.0.vcf -> build/bdist.linux-x86_64/egg/vcf/test\n"
     ]
    },
    {
     "name": "stdout",
     "output_type": "stream",
     "text": [
      "copying build/lib.linux-x86_64-3.8/vcf/test/info-type-character.vcf -> build/bdist.linux-x86_64/egg/vcf/test\n"
     ]
    },
    {
     "name": "stdout",
     "output_type": "stream",
     "text": [
      "copying build/lib.linux-x86_64-3.8/vcf/test/issue-140-file1.vcf -> build/bdist.linux-x86_64/egg/vcf/test\n"
     ]
    },
    {
     "name": "stdout",
     "output_type": "stream",
     "text": [
      "copying build/lib.linux-x86_64-3.8/vcf/test/issue-254.vcf -> build/bdist.linux-x86_64/egg/vcf/test\n"
     ]
    },
    {
     "name": "stdout",
     "output_type": "stream",
     "text": [
      "copying build/lib.linux-x86_64-3.8/vcf/test/issue-201.vcf.gz -> build/bdist.linux-x86_64/egg/vcf/test\n"
     ]
    },
    {
     "name": "stdout",
     "output_type": "stream",
     "text": [
      "copying build/lib.linux-x86_64-3.8/vcf/test/mixed-filtering.vcf -> build/bdist.linux-x86_64/egg/vcf/test\n"
     ]
    },
    {
     "name": "stdout",
     "output_type": "stream",
     "text": [
      "copying build/lib.linux-x86_64-3.8/vcf/test/FT.vcf -> build/bdist.linux-x86_64/egg/vcf/test\n"
     ]
    },
    {
     "name": "stdout",
     "output_type": "stream",
     "text": [
      "copying build/lib.linux-x86_64-3.8/vcf/test/example-4.1-bnd.vcf -> build/bdist.linux-x86_64/egg/vcf/test\n"
     ]
    },
    {
     "name": "stdout",
     "output_type": "stream",
     "text": [
      "copying build/lib.linux-x86_64-3.8/vcf/test/issue-214.vcf -> build/bdist.linux-x86_64/egg/vcf/test\n"
     ]
    },
    {
     "name": "stdout",
     "output_type": "stream",
     "text": [
      "copying build/lib.linux-x86_64-3.8/vcf/test/walk_refcall.vcf -> build/bdist.linux-x86_64/egg/vcf/test\n"
     ]
    },
    {
     "name": "stdout",
     "output_type": "stream",
     "text": [
      "copying build/lib.linux-x86_64-3.8/vcf/test/bad-info-character.vcf -> build/bdist.linux-x86_64/egg/vcf/test\n"
     ]
    },
    {
     "name": "stdout",
     "output_type": "stream",
     "text": [
      "copying build/lib.linux-x86_64-3.8/vcf/test/gonl.chr20.release4.gtc.vcf -> build/bdist.linux-x86_64/egg/vcf/test\n"
     ]
    },
    {
     "name": "stdout",
     "output_type": "stream",
     "text": [
      "copying build/lib.linux-x86_64-3.8/vcf/test/bcftools.vcf -> build/bdist.linux-x86_64/egg/vcf/test\n"
     ]
    },
    {
     "name": "stdout",
     "output_type": "stream",
     "text": [
      "copying build/lib.linux-x86_64-3.8/vcf/test/__init__.py -> build/bdist.linux-x86_64/egg/vcf/test\n"
     ]
    },
    {
     "name": "stdout",
     "output_type": "stream",
     "text": [
      "copying build/lib.linux-x86_64-3.8/vcf/test/example-4.1.vcf -> build/bdist.linux-x86_64/egg/vcf/test\n"
     ]
    },
    {
     "name": "stdout",
     "output_type": "stream",
     "text": [
      "copying build/lib.linux-x86_64-3.8/vcf/test/prof.py -> build/bdist.linux-x86_64/egg/vcf/test\n"
     ]
    },
    {
     "name": "stdout",
     "output_type": "stream",
     "text": [
      "copying build/lib.linux-x86_64-3.8/vcf/test/walk_left.vcf -> build/bdist.linux-x86_64/egg/vcf/test\n"
     ]
    },
    {
     "name": "stdout",
     "output_type": "stream",
     "text": [
      "copying build/lib.linux-x86_64-3.8/vcf/test/string_as_flag.vcf -> build/bdist.linux-x86_64/egg/vcf/test\n"
     ]
    },
    {
     "name": "stdout",
     "output_type": "stream",
     "text": [
      "copying build/lib.linux-x86_64-3.8/vcf/test/issue-140-file3.vcf -> build/bdist.linux-x86_64/egg/vcf/test\n"
     ]
    },
    {
     "name": "stdout",
     "output_type": "stream",
     "text": [
      "copying build/lib.linux-x86_64-3.8/vcf/test/contig_idonly.vcf -> build/bdist.linux-x86_64/egg/vcf/test\n"
     ]
    },
    {
     "name": "stdout",
     "output_type": "stream",
     "text": [
      "copying build/lib.linux-x86_64-3.8/vcf/test/tb.vcf.gz -> build/bdist.linux-x86_64/egg/vcf/test\n"
     ]
    },
    {
     "name": "stdout",
     "output_type": "stream",
     "text": [
      "copying build/lib.linux-x86_64-3.8/vcf/test/example-4.2.vcf -> build/bdist.linux-x86_64/egg/vcf/test\n"
     ]
    },
    {
     "name": "stdout",
     "output_type": "stream",
     "text": [
      "copying build/lib.linux-x86_64-3.8/vcf/test/freebayes.vcf -> build/bdist.linux-x86_64/egg/vcf/test\n"
     ]
    },
    {
     "name": "stdout",
     "output_type": "stream",
     "text": [
      "copying build/lib.linux-x86_64-3.8/vcf/test/issue_49.vcf -> build/bdist.linux-x86_64/egg/vcf/test\n"
     ]
    },
    {
     "name": "stdout",
     "output_type": "stream",
     "text": [
      "copying build/lib.linux-x86_64-3.8/vcf/test/metadata-whitespace.vcf -> build/bdist.linux-x86_64/egg/vcf/test\n"
     ]
    },
    {
     "name": "stdout",
     "output_type": "stream",
     "text": [
      "copying build/lib.linux-x86_64-3.8/vcf/test/samtools.vcf -> build/bdist.linux-x86_64/egg/vcf/test\n"
     ]
    },
    {
     "name": "stdout",
     "output_type": "stream",
     "text": [
      "copying build/lib.linux-x86_64-3.8/vcf/test/samples-space.vcf -> build/bdist.linux-x86_64/egg/vcf/test\n"
     ]
    },
    {
     "name": "stdout",
     "output_type": "stream",
     "text": [
      "copying build/lib.linux-x86_64-3.8/vcf/test/null_genotype_mono.vcf -> build/bdist.linux-x86_64/egg/vcf/test\n"
     ]
    },
    {
     "name": "stdout",
     "output_type": "stream",
     "text": [
      "copying build/lib.linux-x86_64-3.8/vcf/test/example-4.1-ploidy.vcf -> build/bdist.linux-x86_64/egg/vcf/test\n"
     ]
    },
    {
     "name": "stdout",
     "output_type": "stream",
     "text": [
      "copying build/lib.linux-x86_64-3.8/vcf/test/strelka.vcf -> build/bdist.linux-x86_64/egg/vcf/test\n"
     ]
    },
    {
     "name": "stdout",
     "output_type": "stream",
     "text": [
      "copying build/lib.linux-x86_64-3.8/vcf/test/gatk.vcf -> build/bdist.linux-x86_64/egg/vcf/test\n"
     ]
    },
    {
     "name": "stdout",
     "output_type": "stream",
     "text": [
      "copying build/lib.linux-x86_64-3.8/vcf/test/1kg.sites.vcf -> build/bdist.linux-x86_64/egg/vcf/test\n"
     ]
    },
    {
     "name": "stdout",
     "output_type": "stream",
     "text": [
      "copying build/lib.linux-x86_64-3.8/vcf/test/README.md -> build/bdist.linux-x86_64/egg/vcf/test\n"
     ]
    },
    {
     "name": "stdout",
     "output_type": "stream",
     "text": [
      "copying build/lib.linux-x86_64-3.8/vcf/test/parse-meta-line.vcf -> build/bdist.linux-x86_64/egg/vcf/test\n"
     ]
    },
    {
     "name": "stdout",
     "output_type": "stream",
     "text": [
      "copying build/lib.linux-x86_64-3.8/vcf/test/issue-140-file2.vcf -> build/bdist.linux-x86_64/egg/vcf/test\n"
     ]
    },
    {
     "name": "stdout",
     "output_type": "stream",
     "text": [
      "copying build/lib.linux-x86_64-3.8/vcf/test/1kg.vcf.gz -> build/bdist.linux-x86_64/egg/vcf/test\n"
     ]
    },
    {
     "name": "stdout",
     "output_type": "stream",
     "text": [
      "copying build/lib.linux-x86_64-3.8/vcf/test/test_vcf.py -> build/bdist.linux-x86_64/egg/vcf/test\n"
     ]
    },
    {
     "name": "stdout",
     "output_type": "stream",
     "text": [
      "copying build/lib.linux-x86_64-3.8/vcf/test/gatk_26_meta.vcf -> build/bdist.linux-x86_64/egg/vcf/test\n"
     ]
    },
    {
     "name": "stdout",
     "output_type": "stream",
     "text": [
      "copying build/lib.linux-x86_64-3.8/vcf/test/tb.vcf.gz.tbi -> build/bdist.linux-x86_64/egg/vcf/test\n"
     ]
    },
    {
     "name": "stdout",
     "output_type": "stream",
     "text": [
      "copying build/lib.linux-x86_64-3.8/vcf/test/issue-201.vcf.gz.tbi -> build/bdist.linux-x86_64/egg/vcf/test\n"
     ]
    },
    {
     "name": "stdout",
     "output_type": "stream",
     "text": [
      "copying build/lib.linux-x86_64-3.8/vcf/model.py -> build/bdist.linux-x86_64/egg/vcf\n"
     ]
    },
    {
     "name": "stdout",
     "output_type": "stream",
     "text": [
      "copying build/lib.linux-x86_64-3.8/vcf/parser.py -> build/bdist.linux-x86_64/egg/vcf\n"
     ]
    },
    {
     "name": "stdout",
     "output_type": "stream",
     "text": [
      "copying build/lib.linux-x86_64-3.8/vcf/filters.py -> build/bdist.linux-x86_64/egg/vcf\n"
     ]
    },
    {
     "name": "stdout",
     "output_type": "stream",
     "text": [
      "byte-compiling build/bdist.linux-x86_64/egg/vcf/utils.py to utils.cpython-38.pyc\n"
     ]
    },
    {
     "name": "stdout",
     "output_type": "stream",
     "text": [
      "byte-compiling build/bdist.linux-x86_64/egg/vcf/__init__.py to __init__.cpython-38.pyc\n"
     ]
    },
    {
     "name": "stdout",
     "output_type": "stream",
     "text": [
      "byte-compiling build/bdist.linux-x86_64/egg/vcf/sample_filter.py to sample_filter.cpython-38.pyc\n"
     ]
    },
    {
     "name": "stdout",
     "output_type": "stream",
     "text": [
      "byte-compiling build/bdist.linux-x86_64/egg/vcf/test/__init__.py to __init__.cpython-38.pyc\n"
     ]
    },
    {
     "name": "stdout",
     "output_type": "stream",
     "text": [
      "byte-compiling build/bdist.linux-x86_64/egg/vcf/test/prof.py to prof.cpython-38.pyc\n"
     ]
    },
    {
     "name": "stdout",
     "output_type": "stream",
     "text": [
      "  File \"build/bdist.linux-x86_64/egg/vcf/test/prof.py\", line 22\n"
     ]
    },
    {
     "name": "stdout",
     "output_type": "stream",
     "text": [
      "    print t/n\n"
     ]
    },
    {
     "name": "stdout",
     "output_type": "stream",
     "text": [
      "          ^\n"
     ]
    },
    {
     "name": "stdout",
     "output_type": "stream",
     "text": [
      "SyntaxError: Missing parentheses in call to 'print'. Did you mean print(t/n)?\n"
     ]
    },
    {
     "name": "stdout",
     "output_type": "stream",
     "text": [
      "\n"
     ]
    },
    {
     "name": "stdout",
     "output_type": "stream",
     "text": [
      "byte-compiling build/bdist.linux-x86_64/egg/vcf/test/test_vcf.py to test_vcf.cpython-38.pyc\n"
     ]
    },
    {
     "name": "stdout",
     "output_type": "stream",
     "text": [
      "byte-compiling build/bdist.linux-x86_64/egg/vcf/model.py to model.cpython-38.pyc\n"
     ]
    },
    {
     "name": "stdout",
     "output_type": "stream",
     "text": [
      "byte-compiling build/bdist.linux-x86_64/egg/vcf/parser.py to parser.cpython-38.pyc\n"
     ]
    },
    {
     "name": "stdout",
     "output_type": "stream",
     "text": [
      "byte-compiling build/bdist.linux-x86_64/egg/vcf/filters.py to filters.cpython-38.pyc\n"
     ]
    },
    {
     "name": "stdout",
     "output_type": "stream",
     "text": [
      "creating stub loader for vcf/cparse.cpython-38-x86_64-linux-gnu.so\n"
     ]
    },
    {
     "name": "stdout",
     "output_type": "stream",
     "text": [
      "byte-compiling build/bdist.linux-x86_64/egg/vcf/cparse.py to cparse.cpython-38.pyc\n"
     ]
    },
    {
     "name": "stdout",
     "output_type": "stream",
     "text": [
      "creating build/bdist.linux-x86_64/egg/EGG-INFO\n"
     ]
    },
    {
     "name": "stdout",
     "output_type": "stream",
     "text": [
      "installing scripts to build/bdist.linux-x86_64/egg/EGG-INFO/scripts\n"
     ]
    },
    {
     "name": "stdout",
     "output_type": "stream",
     "text": [
      "running install_scripts\n"
     ]
    },
    {
     "name": "stdout",
     "output_type": "stream",
     "text": [
      "running build_scripts\n"
     ]
    },
    {
     "name": "stdout",
     "output_type": "stream",
     "text": [
      "creating build/scripts-3.8\n"
     ]
    },
    {
     "name": "stdout",
     "output_type": "stream",
     "text": [
      "copying and adjusting scripts/vcf_melt -> build/scripts-3.8\n"
     ]
    },
    {
     "name": "stdout",
     "output_type": "stream",
     "text": [
      "copying and adjusting scripts/vcf_filter.py -> build/scripts-3.8\n"
     ]
    },
    {
     "name": "stdout",
     "output_type": "stream",
     "text": [
      "copying and adjusting scripts/vcf_sample_filter.py -> build/scripts-3.8\n"
     ]
    },
    {
     "name": "stdout",
     "output_type": "stream",
     "text": [
      "changing mode of build/scripts-3.8/vcf_melt from 644 to 755\n"
     ]
    },
    {
     "name": "stdout",
     "output_type": "stream",
     "text": [
      "changing mode of build/scripts-3.8/vcf_filter.py from 644 to 755\n"
     ]
    },
    {
     "name": "stdout",
     "output_type": "stream",
     "text": [
      "changing mode of build/scripts-3.8/vcf_sample_filter.py from 644 to 755\n"
     ]
    },
    {
     "name": "stdout",
     "output_type": "stream",
     "text": [
      "creating build/bdist.linux-x86_64/egg/EGG-INFO/scripts\n"
     ]
    },
    {
     "name": "stdout",
     "output_type": "stream",
     "text": [
      "copying build/scripts-3.8/vcf_melt -> build/bdist.linux-x86_64/egg/EGG-INFO/scripts\n"
     ]
    },
    {
     "name": "stdout",
     "output_type": "stream",
     "text": [
      "copying build/scripts-3.8/vcf_sample_filter.py -> build/bdist.linux-x86_64/egg/EGG-INFO/scripts\n"
     ]
    },
    {
     "name": "stdout",
     "output_type": "stream",
     "text": [
      "copying build/scripts-3.8/vcf_filter.py -> build/bdist.linux-x86_64/egg/EGG-INFO/scripts\n"
     ]
    },
    {
     "name": "stdout",
     "output_type": "stream",
     "text": [
      "changing mode of build/bdist.linux-x86_64/egg/EGG-INFO/scripts/vcf_melt to 755\n"
     ]
    },
    {
     "name": "stdout",
     "output_type": "stream",
     "text": [
      "changing mode of build/bdist.linux-x86_64/egg/EGG-INFO/scripts/vcf_sample_filter.py to 755\n"
     ]
    },
    {
     "name": "stdout",
     "output_type": "stream",
     "text": [
      "changing mode of build/bdist.linux-x86_64/egg/EGG-INFO/scripts/vcf_filter.py to 755\n"
     ]
    },
    {
     "name": "stdout",
     "output_type": "stream",
     "text": [
      "copying PyVCF.egg-info/PKG-INFO -> build/bdist.linux-x86_64/egg/EGG-INFO\n"
     ]
    },
    {
     "name": "stdout",
     "output_type": "stream",
     "text": [
      "copying PyVCF.egg-info/SOURCES.txt -> build/bdist.linux-x86_64/egg/EGG-INFO\n"
     ]
    },
    {
     "name": "stdout",
     "output_type": "stream",
     "text": [
      "copying PyVCF.egg-info/dependency_links.txt -> build/bdist.linux-x86_64/egg/EGG-INFO\n"
     ]
    },
    {
     "name": "stdout",
     "output_type": "stream",
     "text": [
      "copying PyVCF.egg-info/entry_points.txt -> build/bdist.linux-x86_64/egg/EGG-INFO\n"
     ]
    },
    {
     "name": "stdout",
     "output_type": "stream",
     "text": [
      "copying PyVCF.egg-info/requires.txt -> build/bdist.linux-x86_64/egg/EGG-INFO\n"
     ]
    },
    {
     "name": "stdout",
     "output_type": "stream",
     "text": [
      "copying PyVCF.egg-info/top_level.txt -> build/bdist.linux-x86_64/egg/EGG-INFO\n"
     ]
    },
    {
     "name": "stdout",
     "output_type": "stream",
     "text": [
      "writing build/bdist.linux-x86_64/egg/EGG-INFO/native_libs.txt\n"
     ]
    },
    {
     "name": "stdout",
     "output_type": "stream",
     "text": [
      "zip_safe flag not set; analyzing archive contents...\n"
     ]
    },
    {
     "name": "stdout",
     "output_type": "stream",
     "text": [
      "vcf.__pycache__.cparse.cpython-38: module references __file__\n"
     ]
    },
    {
     "name": "stdout",
     "output_type": "stream",
     "text": [
      "vcf.test.__pycache__.test_vcf.cpython-38: module references __file__\n"
     ]
    },
    {
     "name": "stdout",
     "output_type": "stream",
     "text": [
      "creating dist\n"
     ]
    },
    {
     "name": "stdout",
     "output_type": "stream",
     "text": [
      "creating 'dist/PyVCF-0.6.8-py3.8-linux-x86_64.egg' and adding 'build/bdist.linux-x86_64/egg' to it\n"
     ]
    },
    {
     "name": "stdout",
     "output_type": "stream",
     "text": [
      "removing 'build/bdist.linux-x86_64/egg' (and everything under it)\n"
     ]
    },
    {
     "name": "stdout",
     "output_type": "stream",
     "text": [
      "Processing PyVCF-0.6.8-py3.8-linux-x86_64.egg\n"
     ]
    },
    {
     "name": "stdout",
     "output_type": "stream",
     "text": [
      "removing '/home/user/.local/lib/python3.8/site-packages/PyVCF-0.6.8-py3.8-linux-x86_64.egg' (and everything under it)\n"
     ]
    },
    {
     "name": "stdout",
     "output_type": "stream",
     "text": [
      "creating /home/user/.local/lib/python3.8/site-packages/PyVCF-0.6.8-py3.8-linux-x86_64.egg\n"
     ]
    },
    {
     "name": "stdout",
     "output_type": "stream",
     "text": [
      "Extracting PyVCF-0.6.8-py3.8-linux-x86_64.egg to /home/user/.local/lib/python3.8/site-packages\n"
     ]
    },
    {
     "name": "stdout",
     "output_type": "stream",
     "text": [
      "  File \"/home/user/.local/lib/python3.8/site-packages/PyVCF-0.6.8-py3.8-linux-x86_64.egg/vcf/test/prof.py\", line 22\n"
     ]
    },
    {
     "name": "stdout",
     "output_type": "stream",
     "text": [
      "    print t/n\n"
     ]
    },
    {
     "name": "stdout",
     "output_type": "stream",
     "text": [
      "          ^\n"
     ]
    },
    {
     "name": "stdout",
     "output_type": "stream",
     "text": [
      "SyntaxError: Missing parentheses in call to 'print'. Did you mean print(t/n)?\n"
     ]
    },
    {
     "name": "stdout",
     "output_type": "stream",
     "text": [
      "\n"
     ]
    },
    {
     "name": "stdout",
     "output_type": "stream",
     "text": [
      "PyVCF 0.6.8 is already the active version in easy-install.pth\n"
     ]
    },
    {
     "name": "stdout",
     "output_type": "stream",
     "text": [
      "Installing vcf_sample_filter.py script to /home/user/.local/bin\n"
     ]
    },
    {
     "name": "stdout",
     "output_type": "stream",
     "text": [
      "Installing vcf_filter.py script to /home/user/.local/bin\n"
     ]
    },
    {
     "name": "stdout",
     "output_type": "stream",
     "text": [
      "Installing vcf_melt script to /home/user/.local/bin\n"
     ]
    },
    {
     "name": "stdout",
     "output_type": "stream",
     "text": [
      "\n"
     ]
    },
    {
     "name": "stdout",
     "output_type": "stream",
     "text": [
      "Installed /home/user/.local/lib/python3.8/site-packages/PyVCF-0.6.8-py3.8-linux-x86_64.egg\n"
     ]
    },
    {
     "name": "stdout",
     "output_type": "stream",
     "text": [
      "Processing dependencies for PyVCF==0.6.8\n"
     ]
    },
    {
     "name": "stdout",
     "output_type": "stream",
     "text": [
      "Searching for setuptools==58.0.0\n"
     ]
    },
    {
     "name": "stdout",
     "output_type": "stream",
     "text": [
      "Best match: setuptools 58.0.0\n"
     ]
    },
    {
     "name": "stdout",
     "output_type": "stream",
     "text": [
      "Adding setuptools 58.0.0 to easy-install.pth file\n"
     ]
    },
    {
     "name": "stdout",
     "output_type": "stream",
     "text": [
      "\n"
     ]
    },
    {
     "name": "stdout",
     "output_type": "stream",
     "text": [
      "Using /usr/local/lib/python3.8/dist-packages\n"
     ]
    },
    {
     "name": "stdout",
     "output_type": "stream",
     "text": [
      "Finished processing dependencies for PyVCF==0.6.8\n"
     ]
    }
   ],
   "source": [
    "python setup.py install --user"
   ]
  },
  {
   "cell_type": "code",
   "execution_count": 9,
   "metadata": {
    "collapsed": false
   },
   "outputs": [
   ],
   "source": [
    "cd .."
   ]
  },
  {
   "cell_type": "code",
   "execution_count": 0,
   "metadata": {
    "collapsed": false
   },
   "outputs": [
   ],
   "source": [
   ]
  }
 ],
 "metadata": {
  "kernelspec": {
   "display_name": "Bash (Linux)",
   "env": {
    "PS1": "$"
   },
   "language": "bash",
   "name": "bash",
   "resource_dir": "/ext/jupyter/kernels/bash"
  },
  "language_info": {
   "codemirror_mode": "shell",
   "file_extension": ".sh",
   "mimetype": "text/x-sh",
   "name": "bash"
  }
 },
 "nbformat": 4,
 "nbformat_minor": 4
}