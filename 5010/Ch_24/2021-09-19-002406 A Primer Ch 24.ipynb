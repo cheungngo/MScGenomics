{
 "cells": [
  {
   "cell_type": "markdown",
   "metadata": {
    "collapsed": false
   },
   "source": [
    "# Chapter 24: Application programming interfaces, modules, packages, syntactic sugar"
   ]
  },
  {
   "cell_type": "markdown",
   "metadata": {
    "collapsed": false
   },
   "source": [
    "## Getting help"
   ]
  },
  {
   "cell_type": "code",
   "execution_count": 10,
   "metadata": {
    "collapsed": false
   },
   "outputs": [
   ],
   "source": [
    "# ls = list()\n",
    "# help(ls)"
   ]
  },
  {
   "cell_type": "markdown",
   "metadata": {
    "collapsed": false
   },
   "source": [
    "## Parsing a FASTA file"
   ]
  },
  {
   "cell_type": "code",
   "execution_count": 11,
   "metadata": {
    "collapsed": false
   },
   "outputs": [
   ],
   "source": [
    "from Bio import SeqIO\n",
    "import io"
   ]
  },
  {
   "cell_type": "code",
   "execution_count": 13,
   "metadata": {
    "collapsed": false
   },
   "outputs": [
   ],
   "source": [
    "with io.open(\"cluster_AB.fasta.txt\") as fh:\n",
    "    id = list()\n",
    "    seq = list()\n",
    "    for rec in SeqIO.parse(fh,\"fasta\"):\n",
    "        id.append(rec.id)\n",
    "        seq.append(rec.seq)"
   ]
  },
  {
   "cell_type": "code",
   "execution_count": 14,
   "metadata": {
    "collapsed": false
   },
   "outputs": [
    {
     "data": {
      "text/plain": [
       "['FQVI7FG01E013T',\n",
       " 'FQVI7FG01BCKNG',\n",
       " 'FQVI7FG01C2RP4',\n",
       " 'FQVI7FG01EHHQ0',\n",
       " 'FQVI7FG01BREXN']"
      ]
     },
     "execution_count": 14,
     "metadata": {
     },
     "output_type": "execute_result"
    }
   ],
   "source": [
    "id[:5]"
   ]
  },
  {
   "cell_type": "code",
   "execution_count": 15,
   "metadata": {
    "collapsed": false
   },
   "outputs": [
    {
     "data": {
      "text/plain": [
       "[Seq('AAGTATTCGTGCGATTCAACGTTTACTTATCAAGTAGGAAGATTCTTGTGGGAT...CAT', SingleLetterAlphabet()),\n",
       " Seq('TCTTTTTGCAAGTGATATAGGTATTTCCTTACAGATGAGGAAGCGGAAGATGCC...AAT', SingleLetterAlphabet()),\n",
       " Seq('TGAGAAGTGGTTACCGGTGACTAAGGAATCGTATAATTATCTAGACATCAACAT...AAT', SingleLetterAlphabet()),\n",
       " Seq('AAAACAATAAGAAAACTTTAAGGGAAATGTGGCTCAACTTTGTTGAAACTGGCA...TAC', SingleLetterAlphabet()),\n",
       " Seq('CTAAGTATGGATTATCAGGAGCGTCCCACTTAGACGATCTTATGTACTTGTTCC...TTG', SingleLetterAlphabet())]"
      ]
     },
     "execution_count": 15,
     "metadata": {
     },
     "output_type": "execute_result"
    }
   ],
   "source": [
    "seq[:5]"
   ]
  },
  {
   "cell_type": "markdown",
   "metadata": {
    "collapsed": false
   },
   "source": [
    "## My own method to parse a FASTA"
   ]
  },
  {
   "cell_type": "code",
   "execution_count": 16,
   "metadata": {
    "collapsed": false
   },
   "outputs": [
   ],
   "source": [
    "import re\n",
    "import io\n",
    "\n",
    "no = sum(1 for i in io.open(\"cluster_AB.fasta.txt\"))\n",
    "with io.open(\"cluster_AB.fasta.txt\") as fh:\n",
    "    id = list()\n",
    "    seq = list()\n",
    "    for i in range(no):\n",
    "        ln = fh.readline().strip()\n",
    "        if re.search(r\"^>\",ln):\n",
    "            id.append(ln[1:])\n",
    "        else:\n",
    "            seq.append(ln)"
   ]
  },
  {
   "cell_type": "code",
   "execution_count": 17,
   "metadata": {
    "collapsed": false
   },
   "outputs": [
    {
     "data": {
      "text/plain": [
       "['FQVI7FG01E013T',\n",
       " 'FQVI7FG01BCKNG',\n",
       " 'FQVI7FG01C2RP4',\n",
       " 'FQVI7FG01EHHQ0',\n",
       " 'FQVI7FG01BREXN']"
      ]
     },
     "execution_count": 17,
     "metadata": {
     },
     "output_type": "execute_result"
    }
   ],
   "source": [
    "id[:5]"
   ]
  },
  {
   "cell_type": "code",
   "execution_count": 18,
   "metadata": {
    "collapsed": false
   },
   "outputs": [
    {
     "data": {
      "text/plain": [
       "['AAGTATTCGTGCGATTCAACGTTTACTTATCAAGTAGGAAGATTCTTGTGGGATTTGGCCGAGAATAGCA',\n",
       " 'AAAATAAAGTATTTTCGTACTATTTTTCGTGCGTGTCGGAGCGAAGTATCTTCGGCCTTCAAGGAGCTAA',\n",
       " 'GTATGGATTATCAGGAGCGTCCCACTTAGACGATCTTATGTACTTGTTCCATGGCAAGAAATTTGGAATA',\n",
       " 'CCCGTCGACAAGAACCTACCCTCGTACAAAATGATACAACAGACTTGTGCCCTCTTTACAAATTTTGCTA',\n",
       " 'AATATGGAAATCCCACACCTGAACCTGTGAACGGAGTAACCTGGCCTCCGTACAACAACATAACCCAAGA']"
      ]
     },
     "execution_count": 18,
     "metadata": {
     },
     "output_type": "execute_result"
    }
   ],
   "source": [
    "seq[:5]"
   ]
  },
  {
   "cell_type": "markdown",
   "metadata": {
    "collapsed": false
   },
   "source": [
    "## Q1: Using the personalized module \"bugpop\""
   ]
  },
  {
   "cell_type": "code",
   "execution_count": 1,
   "metadata": {
    "collapsed": false
   },
   "outputs": [
   ],
   "source": [
    "import bugpop # note that the bugpop.py needs to be in the same directory"
   ]
  },
  {
   "cell_type": "code",
   "execution_count": 2,
   "metadata": {
    "collapsed": false
   },
   "outputs": [
    {
     "data": {
      "text/plain": [
       "['G', 'C', 'T', 'A', 'G', 'T', 'A', 'C', 'G', 'T']"
      ]
     },
     "execution_count": 2,
     "metadata": {
     },
     "output_type": "execute_result"
    }
   ],
   "source": [
    "bugpop.bug().genome[:10]"
   ]
  },
  {
   "cell_type": "code",
   "execution_count": 3,
   "metadata": {
    "collapsed": false
   },
   "outputs": [
    {
     "name": "stdout",
     "output_type": "stream",
     "text": [
      "50\n",
      "53.38\n"
     ]
    }
   ],
   "source": [
    "popa = bugpop.population()\n",
    "print(len(popa.bug_list))\n",
    "print(popa.mean_fitness())"
   ]
  },
  {
   "cell_type": "code",
   "execution_count": 4,
   "metadata": {
    "collapsed": false
   },
   "outputs": [
    {
     "name": "stdout",
     "output_type": "stream",
     "text": [
      "100\n",
      "53.28\n"
     ]
    }
   ],
   "source": [
    "popa.create_offspring()\n",
    "print(len(popa.bug_list))\n",
    "print(popa.mean_fitness())"
   ]
  },
  {
   "cell_type": "code",
   "execution_count": 5,
   "metadata": {
    "collapsed": false,
    "scrolled": true
   },
   "outputs": [
    {
     "name": "stdout",
     "output_type": "stream",
     "text": [
      "50\n",
      "56.84\n"
     ]
    }
   ],
   "source": [
    "popa.cull()\n",
    "print(len(popa.bug_list))\n",
    "print(popa.mean_fitness())"
   ]
  },
  {
   "cell_type": "markdown",
   "metadata": {
    "collapsed": false
   },
   "source": [
    "#### getting help"
   ]
  },
  {
   "cell_type": "code",
   "execution_count": 7,
   "metadata": {
    "collapsed": false,
    "scrolled": true
   },
   "outputs": [
    {
     "name": "stdout",
     "output_type": "stream",
     "text": [
      "Help on module bugpop:\n",
      "\n",
      "NAME\n",
      "    bugpop - Personal Module for the generation of bug populations\n",
      "\n",
      "CLASSES\n",
      "    builtins.object\n",
      "        bug\n",
      "        population\n",
      "    \n",
      "    class bug(builtins.object)\n",
      "     |  class to generate individual bugs\n",
      "     |  \n",
      "     |  Methods defined here:\n",
      "     |  \n",
      "     |  __init__(self)\n",
      "     |      initializing genome for a bug\n",
      "     |  \n",
      "     |  get_fitness(self)\n",
      "     |      get a arbituary fitness score\n",
      "     |  \n",
      "     |  mutate_base(self)\n",
      "     |      mutate a genome randomly\n",
      "     |  \n",
      "     |  set_base(self, index, base)\n",
      "     |      artificially mutate a genome\n",
      "     |  \n",
      "     |  ----------------------------------------------------------------------\n",
      "     |  Data descriptors defined here:\n",
      "     |  \n",
      "     |  __dict__\n",
      "     |      dictionary for instance variables (if defined)\n",
      "     |  \n",
      "     |  __weakref__\n",
      "     |      list of weak references to the object (if defined)\n",
      "    \n",
      "    class population(builtins.object)\n",
      "     |  Class to manage a population of bugs\n",
      "     |  \n",
      "     |  Methods defined here:\n",
      "     |  \n",
      "     |  __init__(self)\n",
      "     |      Generating 50 bugs by default\n",
      "     |  \n",
      "     |  create_offspring(self)\n",
      "     |      Create offspring based on existing genome\n",
      "     |  \n",
      "     |  cull(self)\n",
      "     |      Keeping the fittest bugs\n",
      "     |  \n",
      "     |  mean_fitness(self)\n",
      "     |      Calculating the mean fitness\n",
      "     |  \n",
      "     |  ----------------------------------------------------------------------\n",
      "     |  Data descriptors defined here:\n",
      "     |  \n",
      "     |  __dict__\n",
      "     |      dictionary for instance variables (if defined)\n",
      "     |  \n",
      "     |  __weakref__\n",
      "     |      list of weak references to the object (if defined)\n",
      "\n",
      "FILE\n",
      "    /home/user/5010/Ch_24/bugpop.py\n",
      "\n",
      "\n"
     ]
    }
   ],
   "source": [
    "help(bugpop)"
   ]
  },
  {
   "cell_type": "markdown",
   "metadata": {
    "collapsed": false
   },
   "source": [
    "## Q2: Getting help for the strings"
   ]
  },
  {
   "cell_type": "code",
   "execution_count": 9,
   "metadata": {
    "collapsed": false
   },
   "outputs": [
   ],
   "source": [
    "# stg = \"\"\n",
    "# help(stg)"
   ]
  },
  {
   "cell_type": "markdown",
   "metadata": {
    "collapsed": false
   },
   "source": [
    "## Q3: PyVCF"
   ]
  },
  {
   "cell_type": "markdown",
   "metadata": {
    "collapsed": false
   },
   "source": [
    "#### installation of the module please see Question 3.ipynb"
   ]
  },
  {
   "cell_type": "markdown",
   "metadata": {
    "collapsed": false
   },
   "source": [
    "## Q4: count and print how many lines in trio.sample.vcf have a reference allele of \"A\""
   ]
  },
  {
   "cell_type": "markdown",
   "metadata": {
    "collapsed": false
   },
   "source": [
    "> my module (vcfparse.py) was used instead"
   ]
  },
  {
   "cell_type": "code",
   "execution_count": 3,
   "metadata": {
    "collapsed": false
   },
   "outputs": [
   ],
   "source": [
    "import vcfparse"
   ]
  },
  {
   "cell_type": "code",
   "execution_count": 6,
   "metadata": {
    "collapsed": false
   },
   "outputs": [
   ],
   "source": [
    "dc_chr = vcfparse.get_vcf(\"trio.sample.vcf.txt\").chr"
   ]
  },
  {
   "cell_type": "code",
   "execution_count": 7,
   "metadata": {
    "collapsed": false
   },
   "outputs": [
    {
     "data": {
      "text/plain": [
       "{'1': <vcfparse.chromosome at 0x7f88848416d0>,\n",
       " '2': <vcfparse.chromosome at 0x7f887e740e50>,\n",
       " '3': <vcfparse.chromosome at 0x7f887e2f3850>,\n",
       " '4': <vcfparse.chromosome at 0x7f887df7a550>,\n",
       " '5': <vcfparse.chromosome at 0x7f887db9bca0>,\n",
       " '6': <vcfparse.chromosome at 0x7f887d8b9ac0>,\n",
       " '7': <vcfparse.chromosome at 0x7f887d563340>,\n",
       " '8': <vcfparse.chromosome at 0x7f887d29db20>,\n",
       " '9': <vcfparse.chromosome at 0x7f887cfd25e0>,\n",
       " '10': <vcfparse.chromosome at 0x7f887cdef0a0>,\n",
       " '11': <vcfparse.chromosome at 0x7f887cafd220>,\n",
       " '12': <vcfparse.chromosome at 0x7f887c7f2e80>,\n",
       " '13': <vcfparse.chromosome at 0x7f887c4d3220>,\n",
       " '14': <vcfparse.chromosome at 0x7f887c242d00>,\n",
       " '15': <vcfparse.chromosome at 0x7f887c0bc7c0>,\n",
       " '16': <vcfparse.chromosome at 0x7f887beef4c0>,\n",
       " '17': <vcfparse.chromosome at 0x7f887bd37760>,\n",
       " '18': <vcfparse.chromosome at 0x7f887bbacca0>,\n",
       " '19': <vcfparse.chromosome at 0x7f887b985760>,\n",
       " '20': <vcfparse.chromosome at 0x7f887b891b80>,\n",
       " '21': <vcfparse.chromosome at 0x7f887b75c400>,\n",
       " '22': <vcfparse.chromosome at 0x7f887b6bbac0>,\n",
       " 'X': <vcfparse.chromosome at 0x7f887b5f78e0>}"
      ]
     },
     "execution_count": 7,
     "metadata": {
     },
     "output_type": "execute_result"
    }
   ],
   "source": [
    "dc_chr"
   ]
  },
  {
   "cell_type": "code",
   "execution_count": 13,
   "metadata": {
    "collapsed": false
   },
   "outputs": [
   ],
   "source": [
    "dc_refA = dict()\n",
    "for i in dc_chr.keys():\n",
    "    dc_loc = dc_chr[i].snploc\n",
    "    refA = 0\n",
    "    for loc in dc_loc.keys():\n",
    "        if dc_loc[loc].ref == \"A\":\n",
    "            refA += 1\n",
    "    dc_refA[i] = refA"
   ]
  },
  {
   "cell_type": "code",
   "execution_count": 14,
   "metadata": {
    "collapsed": false
   },
   "outputs": [
    {
     "data": {
      "text/plain": [
       "{'1': 3271,\n",
       " '2': 3644,\n",
       " '3': 3192,\n",
       " '4': 3303,\n",
       " '5': 2745,\n",
       " '6': 2794,\n",
       " '7': 2409,\n",
       " '8': 2338,\n",
       " '9': 1905,\n",
       " '10': 2097,\n",
       " '11': 2162,\n",
       " '12': 2018,\n",
       " '13': 1791,\n",
       " '14': 1394,\n",
       " '15': 1176,\n",
       " '16': 1204,\n",
       " '17': 1027,\n",
       " '18': 1303,\n",
       " '19': 717,\n",
       " '20': 944,\n",
       " '21': 636,\n",
       " '22': 466,\n",
       " 'X': 1147}"
      ]
     },
     "execution_count": 14,
     "metadata": {
     },
     "output_type": "execute_result"
    }
   ],
   "source": [
    "dc_refA"
   ]
  }
 ],
 "metadata": {
  "kernelspec": {
   "display_name": "Python 3 (system-wide)",
   "language": "python",
   "metadata": {
    "cocalc": {
     "description": "Python 3 programming language",
     "priority": 100,
     "url": "https://www.python.org/"
    }
   },
   "name": "python3",
   "resource_dir": "/ext/jupyter/kernels/python3"
  },
  "language_info": {
   "codemirror_mode": {
    "name": "ipython",
    "version": 3
   },
   "file_extension": ".py",
   "mimetype": "text/x-python",
   "name": "python",
   "nbconvert_exporter": "python",
   "pygments_lexer": "ipython3",
   "version": "3.8.10"
  }
 },
 "nbformat": 4,
 "nbformat_minor": 4
}