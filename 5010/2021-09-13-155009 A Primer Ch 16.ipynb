{
 "cells": [
  {
   "cell_type": "markdown",
   "metadata": {
    "collapsed": false
   },
   "source": [
    "# Chapter 16 File input and output"
   ]
  },
  {
   "cell_type": "markdown",
   "metadata": {
    "collapsed": false
   },
   "source": [
    "#### A file \"ids.txt\" is created beforehand, containing a gene ID, a tab and a GC-content value"
   ]
  },
  {
   "cell_type": "code",
   "execution_count": 3,
   "metadata": {
    "collapsed": false
   },
   "outputs": [
   ],
   "source": [
    "import io"
   ]
  },
  {
   "cell_type": "markdown",
   "metadata": {
    "collapsed": false
   },
   "source": [
    "## io.open()"
   ]
  },
  {
   "cell_type": "code",
   "execution_count": 2,
   "metadata": {
    "collapsed": false
   },
   "outputs": [
   ],
   "source": [
    "fhandle = io.open(\"data_16/ids.txt\")"
   ]
  },
  {
   "cell_type": "markdown",
   "metadata": {
    "collapsed": false
   },
   "source": [
    "## .readline()"
   ]
  },
  {
   "cell_type": "code",
   "execution_count": 3,
   "metadata": {
    "collapsed": false
   },
   "outputs": [
   ],
   "source": [
    "l1 = fhandle.readline()\n",
    "l2 = fhandle.readline()\n",
    "l3 = fhandle.readline()"
   ]
  },
  {
   "cell_type": "code",
   "execution_count": 4,
   "metadata": {
    "collapsed": false
   },
   "outputs": [
    {
     "name": "stdout",
     "output_type": "stream",
     "text": [
      "CYP6B\t0.24\n",
      "\n",
      "AGP4\t0.96\n",
      "\n",
      "CATB\t0.37\n"
     ]
    }
   ],
   "source": [
    "print(l1)\n",
    "print(l2)\n",
    "print(l3)"
   ]
  },
  {
   "cell_type": "code",
   "execution_count": 5,
   "metadata": {
    "collapsed": false
   },
   "outputs": [
   ],
   "source": [
    "fhandle.close()\n",
    "# to close the file"
   ]
  },
  {
   "cell_type": "markdown",
   "metadata": {
    "collapsed": false
   },
   "source": [
    "## Another approach (ensuring the file handle is closed)"
   ]
  },
  {
   "cell_type": "code",
   "execution_count": 6,
   "metadata": {
    "collapsed": false
   },
   "outputs": [
    {
     "name": "stdout",
     "output_type": "stream",
     "text": [
      "CYP6B\t0.24\n",
      "\n",
      "AGP4\t0.96\n",
      "\n",
      "CATB\t0.37\n",
      "done processing; file handle closed\n"
     ]
    }
   ],
   "source": [
    "with io.open(\"data_16/ids.txt\") as fhandle:\n",
    "    l1 = fhandle.readline()\n",
    "    l2 = fhandle.readline()\n",
    "    l3 = fhandle.readline()\n",
    "    print(l1)\n",
    "    print(l2)\n",
    "    print(l3)\n",
    "print(\"done processing; file handle closed\")"
   ]
  },
  {
   "cell_type": "markdown",
   "metadata": {
    "collapsed": false
   },
   "source": [
    "#### one can see that the additional lines between each line are annoying; this is because of the /n characters at the end of each lines; we can have them removed by using .strip()"
   ]
  },
  {
   "cell_type": "code",
   "execution_count": 7,
   "metadata": {
    "collapsed": false
   },
   "outputs": [
    {
     "name": "stdout",
     "output_type": "stream",
     "text": [
      "CYP6B\t0.24\n",
      "AGP4\t0.96\n",
      "CATB\t0.37\n",
      "done processing; file handle closed\n"
     ]
    }
   ],
   "source": [
    "with io.open(\"data_16/ids.txt\") as fhandle:\n",
    "    l1 = fhandle.readline()\n",
    "    l2 = fhandle.readline()\n",
    "    l3 = fhandle.readline()\n",
    "    l1s = l1.strip()\n",
    "    l2s = l2.strip()\n",
    "    l3s = l3.strip()\n",
    "    print(l1s)\n",
    "    print(l2s)\n",
    "    print(l3s)\n",
    "print(\"done processing; file handle closed\")"
   ]
  },
  {
   "cell_type": "code",
   "execution_count": 8,
   "metadata": {
    "collapsed": false
   },
   "outputs": [
    {
     "name": "stdout",
     "output_type": "stream",
     "text": [
      "CYP6B\t0.24\n",
      "AGP4\t0.96\n",
      "CATB\t0.37\n",
      "done processing; file handle closed\n"
     ]
    }
   ],
   "source": [
    "# more advanced:\n",
    "with io.open(\"data_16/ids.txt\") as fhandle:\n",
    "    for i in range(3):\n",
    "        l = fhandle.readline().strip()\n",
    "        print(l)\n",
    "print(\"done processing; file handle closed\")"
   ]
  },
  {
   "cell_type": "markdown",
   "metadata": {
    "collapsed": false
   },
   "source": [
    "## side-track: finding the lines in a file"
   ]
  },
  {
   "cell_type": "code",
   "execution_count": 9,
   "metadata": {
    "collapsed": false
   },
   "outputs": [
    {
     "name": "stdout",
     "output_type": "stream",
     "text": [
      "3\n"
     ]
    }
   ],
   "source": [
    "no = sum(1 for line in io.open(\"data_16/ids.txt\"))\n",
    "print(no)"
   ]
  },
  {
   "cell_type": "markdown",
   "metadata": {
    "collapsed": false
   },
   "source": [
    "## locating into a specific column in the txt file"
   ]
  },
  {
   "cell_type": "code",
   "execution_count": 10,
   "metadata": {
    "collapsed": false
   },
   "outputs": [
    {
     "name": "stdout",
     "output_type": "stream",
     "text": [
      "0.24\n",
      "0.96\n",
      "0.37\n"
     ]
    }
   ],
   "source": [
    "with io.open(\"data_16/ids.txt\") as fhandle:\n",
    "    for i in range(no):\n",
    "        l = fhandle.readline().strip()\n",
    "        l_ls = l.split(\"\\t\") # each column is split by tab\n",
    "        print(l_ls[1])"
   ]
  },
  {
   "cell_type": "code",
   "execution_count": 11,
   "metadata": {
    "collapsed": false
   },
   "outputs": [
    {
     "name": "stdout",
     "output_type": "stream",
     "text": [
      "0.5233333333333333\n"
     ]
    }
   ],
   "source": [
    "# calculating the average of this column\n",
    "\n",
    "l_ls = list()\n",
    "\n",
    "with io.open(\"data_16/ids.txt\") as fhandle:\n",
    "    for i in range(no):\n",
    "        l = fhandle.readline().strip()\n",
    "        l_ls.append(float(l.split(\"\\t\")[1])) # an important line\n",
    "        \n",
    "print(sum(l_ls)/len(l_ls))"
   ]
  },
  {
   "cell_type": "markdown",
   "metadata": {
    "collapsed": false
   },
   "source": [
    "## Writing data using .write()"
   ]
  },
  {
   "cell_type": "code",
   "execution_count": 12,
   "metadata": {
    "collapsed": false
   },
   "outputs": [
    {
     "name": "stdout",
     "output_type": "stream",
     "text": [
      "[0, 1, 2, 3, 4, 5, 6, 7, 8, 9]\n",
      "['A', 'B', 'C', 'D', 'E', 'F', 'G', 'H', 'I', 'J']\n"
     ]
    }
   ],
   "source": [
    "# creating some data first\n",
    "data0 = [i for i in range(10)]\n",
    "data1 = [\"A\", \"B\", \"C\", \"D\", \"E\", \"F\", \"G\", \"H\", \"I\", \"J\"]\n",
    "print(data0)\n",
    "print(data1)"
   ]
  },
  {
   "cell_type": "code",
   "execution_count": 13,
   "metadata": {
    "collapsed": false
   },
   "outputs": [
   ],
   "source": [
    "with io.open(\"data_16/num.txt\", \"w\") as fh:\n",
    "    for i in range(10):\n",
    "        fh.write(str(data0[i]) + \"\\t\" + data1[i] + \"\\n\")"
   ]
  },
  {
   "cell_type": "code",
   "execution_count": 14,
   "metadata": {
    "collapsed": false
   },
   "outputs": [
    {
     "name": "stdout",
     "output_type": "stream",
     "text": [
      "0\tA\n",
      "1\tB\n",
      "2\tC\n",
      "3\tD\n",
      "4\tE\n",
      "5\tF\n",
      "6\tG\n",
      "7\tH\n",
      "8\tI\n",
      "9\tJ\n",
      "finished\n"
     ]
    }
   ],
   "source": [
    "# reading the written file\n",
    "no = sum(1 for line in io.open(\"data_16/num.txt\"))\n",
    "with io.open(\"data_16/num.txt\") as fh:\n",
    "    for i in range(no):\n",
    "        print(fh.readline().strip())\n",
    "print(\"finished\")"
   ]
  },
  {
   "cell_type": "markdown",
   "metadata": {
    "collapsed": false
   },
   "source": [
    "## Q1:"
   ]
  },
  {
   "cell_type": "code",
   "execution_count": 15,
   "metadata": {
    "collapsed": false
   },
   "outputs": [
    {
     "name": "stdout",
     "output_type": "stream",
     "text": [
      "['PZ7180000000004_TY', 'YKL081W', '31.07', '338', '197', '8', '13', '993', '1', '313', '1e-32', '  124']\n",
      "['PZ1082_AB', 'YHR104W', '44.92', '118', '62', '3', '4', '348', '196', '313', '1e-26', '  100']\n",
      "['PZ11_FX', 'YLR406C', '53.01', '83', '38', '1', '290', '42', '25', '106', '7e-15', '65.9']\n",
      "['PZ7180000036154', 'YNL245C', '36.27', '102', '60', '3', '105', '395', '1', '102', '3e-07', '46.2']\n",
      "['PZ605962', 'YKR079C', '29.57', '115', '66', '4', '429', '121', '479', '590', '3e-11', '59.3']\n"
     ]
    }
   ],
   "source": [
    "# visualizing the dataset (first 5 rows)\n",
    "no = sum(1 for line in io.open(\"data_16/pz_blastx_yeast_top1.txt\"))\n",
    "with io.open(\"data_16/pz_blastx_yeast_top1.txt\") as fh:\n",
    "    for i in range(5):\n",
    "        print(fh.readline().strip().split(\"\\t\"))"
   ]
  },
  {
   "cell_type": "markdown",
   "metadata": {
    "collapsed": false
   },
   "source": [
    "#### find the sd of the eleventh column"
   ]
  },
  {
   "cell_type": "code",
   "execution_count": 18,
   "metadata": {
    "collapsed": false
   },
   "outputs": [
    {
     "name": "stdout",
     "output_type": "stream",
     "text": [
      "[1e-32, 1e-26, 7e-15, 3e-07, 3e-11, 3e-37, 5e-52, 8e-45, 6e-30, 2e-26, 1e-16, 2e-08, 1e-09, 1e-22, 5e-14, 8e-09, 2e-21, 1e-49, 1e-14, 2e-10, 3e-18, 2e-13, 9e-24, 8e-11]\n"
     ]
    }
   ],
   "source": [
    "Eval_ls = list()\n",
    "\n",
    "with io.open(\"data_16/pz_blastx_yeast_top1.txt\") as fh:\n",
    "    for i in range(no):\n",
    "        Eval_ls.append(float(fh.readline().strip().split(\"\\t\")[10]))\n",
    "        \n",
    "print(Eval_ls)"
   ]
  },
  {
   "cell_type": "code",
   "execution_count": 23,
   "metadata": {
    "collapsed": false
   },
   "outputs": [
   ],
   "source": [
    "import statistics"
   ]
  },
  {
   "cell_type": "code",
   "execution_count": 24,
   "metadata": {
    "collapsed": false
   },
   "outputs": [
    {
     "name": "stdout",
     "output_type": "stream",
     "text": [
      "6.112940484086607e-08\n"
     ]
    }
   ],
   "source": [
    "print(statistics.stdev(Eval_ls))"
   ]
  },
  {
   "cell_type": "markdown",
   "metadata": {
    "collapsed": false
   },
   "source": [
    "## Q2: Reverse all the lines in file"
   ]
  },
  {
   "cell_type": "code",
   "execution_count": 13,
   "metadata": {
    "collapsed": false
   },
   "outputs": [
   ],
   "source": [
    "lines = list()\n",
    "no = sum(1 for i in io.open(\"data_16/pz_blastx_yeast_top1.txt\"))\n",
    "\n",
    "with io.open(\"data_16/pz_blastx_yeast_top1.txt\") as fh:\n",
    "    for i in range(no):\n",
    "        lines.append(fh.readline().strip())\n",
    "\n",
    "rev = reversed(lines) # creating a reverseiterator\n",
    "lines_rev = list(rev)"
   ]
  },
  {
   "cell_type": "code",
   "execution_count": 16,
   "metadata": {
    "collapsed": false
   },
   "outputs": [
   ],
   "source": [
    "with io.open(\"data_16/pz_blastx_yeast_top1_reversed.txt\", \"w\") as fh:\n",
    "    for i in range(len(lines_rev)):\n",
    "        fh.write(lines_rev[i] + \"\\n\")"
   ]
  },
  {
   "cell_type": "markdown",
   "metadata": {
    "collapsed": false
   },
   "source": [
    "## Q3: writing a quine"
   ]
  },
  {
   "cell_type": "code",
   "execution_count": 22,
   "metadata": {
    "collapsed": false
   },
   "outputs": [
    {
     "name": "stdout",
     "output_type": "stream",
     "text": [
      "605\n"
     ]
    }
   ],
   "source": [
    "no = sum(1 for i in io.open(\"2021-09-13-155009 A Primer Ch 16.ipynb\"))\n",
    "print(no)"
   ]
  },
  {
   "cell_type": "markdown",
   "metadata": {
    "collapsed": false
   },
   "source": [
    "> with io.open(\"2021-09-13-155009 A Primer Ch 16.ipynb\") as fh:\n",
    ">>     for i in range(no):\n",
    ">>>         l = fh.readline()\n",
    ">>>         print(l)"
   ]
  }
 ],
 "metadata": {
  "kernelspec": {
   "display_name": "Python 3 (system-wide)",
   "language": "python",
   "metadata": {
    "cocalc": {
     "description": "Python 3 programming language",
     "priority": 100,
     "url": "https://www.python.org/"
    }
   },
   "name": "python3",
   "resource_dir": "/ext/jupyter/kernels/python3"
  },
  "language_info": {
   "codemirror_mode": {
    "name": "ipython",
    "version": 3
   },
   "file_extension": ".py",
   "mimetype": "text/x-python",
   "name": "python",
   "nbconvert_exporter": "python",
   "pygments_lexer": "ipython3",
   "version": "3.8.10"
  }
 },
 "nbformat": 4,
 "nbformat_minor": 4
}