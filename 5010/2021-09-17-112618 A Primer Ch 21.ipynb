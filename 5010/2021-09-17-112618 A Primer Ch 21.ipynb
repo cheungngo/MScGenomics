{
 "cells": [
  {
   "cell_type": "markdown",
   "metadata": {
    "collapsed": false
   },
   "source": [
    "# Chapter 21: Bioinformatic Knick-knacks and regular expressions"
   ]
  },
  {
   "cell_type": "markdown",
   "metadata": {
    "collapsed": false
   },
   "source": [
    "## Knick-knacks"
   ]
  },
  {
   "cell_type": "markdown",
   "metadata": {
    "collapsed": false
   },
   "source": [
    "#### Changing a char in a string"
   ]
  },
  {
   "cell_type": "code",
   "execution_count": 1,
   "metadata": {
    "collapsed": false
   },
   "outputs": [
    {
     "data": {
      "text/plain": [
       "'T'"
      ]
     },
     "execution_count": 1,
     "metadata": {
     },
     "output_type": "execute_result"
    }
   ],
   "source": [
    "# indexing string\n",
    "\n",
    "seq = \"ACTCG\"\n",
    "seq[2]"
   ]
  },
  {
   "cell_type": "code",
   "execution_count": 2,
   "metadata": {
    "collapsed": false
   },
   "outputs": [
    {
     "ename": "TypeError",
     "evalue": "'str' object does not support item assignment",
     "output_type": "error",
     "traceback": [
      "\u001b[0;31m---------------------------------------------------------------------------\u001b[0m",
      "\u001b[0;31mTypeError\u001b[0m                                 Traceback (most recent call last)",
      "\u001b[0;32m/tmp/ipykernel_330/2337670031.py\u001b[0m in \u001b[0;36m<module>\u001b[0;34m\u001b[0m\n\u001b[1;32m      1\u001b[0m \u001b[0;31m# try to change a char in a string?\u001b[0m\u001b[0;34m\u001b[0m\u001b[0;34m\u001b[0m\u001b[0;34m\u001b[0m\u001b[0m\n\u001b[1;32m      2\u001b[0m \u001b[0;34m\u001b[0m\u001b[0m\n\u001b[0;32m----> 3\u001b[0;31m \u001b[0mseq\u001b[0m\u001b[0;34m[\u001b[0m\u001b[0;36m2\u001b[0m\u001b[0;34m]\u001b[0m \u001b[0;34m=\u001b[0m \u001b[0;34m\"A\"\u001b[0m \u001b[0;31m#error\u001b[0m\u001b[0;34m\u001b[0m\u001b[0;34m\u001b[0m\u001b[0m\n\u001b[0m",
      "\u001b[0;31mTypeError\u001b[0m: 'str' object does not support item assignment"
     ]
    }
   ],
   "source": [
    "# try to change a char in a string?\n",
    "\n",
    "seq[2] = \"A\" #error"
   ]
  },
  {
   "cell_type": "code",
   "execution_count": 3,
   "metadata": {
    "collapsed": false
   },
   "outputs": [
    {
     "name": "stdout",
     "output_type": "stream",
     "text": [
      "['A', 'C', 'A', 'C', 'G']\n"
     ]
    }
   ],
   "source": [
    "# need to make it a list before doing so\n",
    "\n",
    "seql = list(seq)\n",
    "seql[2] = \"A\"\n",
    "print(seql)"
   ]
  },
  {
   "cell_type": "code",
   "execution_count": 5,
   "metadata": {
    "collapsed": false
   },
   "outputs": [
    {
     "name": "stdout",
     "output_type": "stream",
     "text": [
      "ACACG\n"
     ]
    }
   ],
   "source": [
    "# joining it back\n",
    "\n",
    "seqj = \"\".join(seql)\n",
    "print(seqj)"
   ]
  },
  {
   "cell_type": "markdown",
   "metadata": {
    "collapsed": false
   },
   "source": [
    "#### Reversing a string"
   ]
  },
  {
   "cell_type": "markdown",
   "metadata": {
    "collapsed": false
   },
   "source": [
    "> similar principle: need to make it a list first, then reverse, then join it back"
   ]
  },
  {
   "cell_type": "code",
   "execution_count": 6,
   "metadata": {
    "collapsed": false
   },
   "outputs": [
    {
     "name": "stdout",
     "output_type": "stream",
     "text": [
      "['G', 'A', 'T', 'C', 'A']\n"
     ]
    }
   ],
   "source": [
    "seq = \"ACTAG\"\n",
    "seql = list(seq)\n",
    "seql.reverse()\n",
    "print(seql)"
   ]
  },
  {
   "cell_type": "code",
   "execution_count": 7,
   "metadata": {
    "collapsed": false
   },
   "outputs": [
    {
     "name": "stdout",
     "output_type": "stream",
     "text": [
      "GATCA\n"
     ]
    }
   ],
   "source": [
    "seqr = \"\".join(seql)\n",
    "print(seqr)"
   ]
  },
  {
   "cell_type": "markdown",
   "metadata": {
    "collapsed": false
   },
   "source": [
    "#### Find and replace (All)"
   ]
  },
  {
   "cell_type": "markdown",
   "metadata": {
    "collapsed": false
   },
   "source": [
    "> No need to make it a list"
   ]
  },
  {
   "cell_type": "code",
   "execution_count": 9,
   "metadata": {
    "collapsed": false
   },
   "outputs": [
    {
     "name": "stdout",
     "output_type": "stream",
     "text": [
      "GAGAGAGAGAUAUGAGA\n"
     ]
    }
   ],
   "source": [
    "seq = \"GAGAGAGAGATATGAGA\"\n",
    "seqr = seq.replace(\"T\", \"U\")\n",
    "print(seqr)"
   ]
  },
  {
   "cell_type": "markdown",
   "metadata": {
    "collapsed": false
   },
   "source": [
    "#### The library \"re\""
   ]
  },
  {
   "cell_type": "code",
   "execution_count": 10,
   "metadata": {
    "collapsed": false
   },
   "outputs": [
   ],
   "source": [
    "import re"
   ]
  },
  {
   "cell_type": "code",
   "execution_count": 26,
   "metadata": {
    "collapsed": false
   },
   "outputs": [
    {
     "data": {
      "text/plain": [
       "<re.Match object; span=(0, 3), match='GAG'>"
      ]
     },
     "execution_count": 26,
     "metadata": {
     },
     "output_type": "execute_result"
    }
   ],
   "source": [
    "# searching for a pattern in a string\n",
    "\n",
    "seq = \"GAGAGAGAGATATGAGA\"\n",
    "re.search(r\"GAG\", seq)"
   ]
  },
  {
   "cell_type": "code",
   "execution_count": 25,
   "metadata": {
    "collapsed": false
   },
   "outputs": [
    {
     "name": "stdout",
     "output_type": "stream",
     "text": [
      "('XAXAGATATXA', 3)\n"
     ]
    }
   ],
   "source": [
    "# replacing a pattern with another pattern\n",
    "\n",
    "seq = \"GAGAGAGAGATATGAGA\"\n",
    "result = re.subn(r\"GAG\", # pattern to be found\n",
    "                \"X\", # replacement\n",
    "                seq, # sequence\n",
    "                0) # number of changes; 0 for all\n",
    "print(result) # prints a tuple; tuple[0] is the modified pattern, tuple[1] is the number of replacement"
   ]
  },
  {
   "cell_type": "markdown",
   "metadata": {
    "collapsed": false
   },
   "source": [
    "> sidetrack"
   ]
  },
  {
   "cell_type": "code",
   "execution_count": 23,
   "metadata": {
    "collapsed": false
   },
   "outputs": [
    {
     "data": {
      "text/plain": [
       "<Signature (pattern, repl, string, count=0, flags=0)>"
      ]
     },
     "execution_count": 23,
     "metadata": {
     },
     "output_type": "execute_result"
    }
   ],
   "source": [
    "# a method to get all the arguments in a function\n",
    "\n",
    "import inspect\n",
    "inspect.signature(re.subn)"
   ]
  },
  {
   "cell_type": "code",
   "execution_count": 22,
   "metadata": {
    "collapsed": false
   },
   "outputs": [
    {
     "data": {
      "text/plain": [
       "FullArgSpec(args=['pattern', 'repl', 'string', 'count', 'flags'], varargs=None, varkw=None, defaults=(0, 0), kwonlyargs=[], kwonlydefaults=None, annotations={})"
      ]
     },
     "execution_count": 22,
     "metadata": {
     },
     "output_type": "execute_result"
    }
   ],
   "source": [
    "inspect.getfullargspec(re.subn)"
   ]
  },
  {
   "cell_type": "markdown",
   "metadata": {
    "collapsed": false
   },
   "source": [
    "## Q1: Function to reverse complement"
   ]
  },
  {
   "cell_type": "code",
   "execution_count": 3,
   "metadata": {
    "collapsed": false
   },
   "outputs": [
   ],
   "source": [
    "def reverse_complement(seq):\n",
    "    seq_com = \"\"\n",
    "    for i in seq:\n",
    "        if i == \"A\":\n",
    "            seq_com = seq_com + \"T\"\n",
    "        elif i == \"T\":\n",
    "            seq_com = seq_com + \"A\"\n",
    "        elif i == \"C\":\n",
    "            seq_com = seq_com + \"G\"\n",
    "        elif i == \"G\":\n",
    "            seq_com = seq_com + \"C\"\n",
    "        else:\n",
    "            seq_com = seq_com + \"X\"\n",
    "    seq_com_ls = list(seq_com)\n",
    "    seq_com_ls.reverse()\n",
    "    seq_com_r = \"\".join(seq_com_ls)\n",
    "    return(seq_com_r)"
   ]
  },
  {
   "cell_type": "code",
   "execution_count": 4,
   "metadata": {
    "collapsed": false
   },
   "outputs": [
    {
     "name": "stdout",
     "output_type": "stream",
     "text": [
      "TCTCATATCTCTCTCTC\n"
     ]
    }
   ],
   "source": [
    "seq = \"GAGAGAGAGATATGAGA\"\n",
    "print(reverse_complement(seq))"
   ]
  },
  {
   "cell_type": "markdown",
   "metadata": {
    "collapsed": false
   },
   "source": [
    "## Q2: Function to get 6 reading frames; first three from the normal seq, next three from the rev comp seq"
   ]
  },
  {
   "cell_type": "code",
   "execution_count": 6,
   "metadata": {
    "collapsed": false
   },
   "outputs": [
   ],
   "source": [
    "def get_windows (seq, win_size, step_size):\n",
    "    ls = list()\n",
    "    pos = 0\n",
    "    while pos < len(seq):\n",
    "        if len(seq[pos:(pos+win_size)]) < win_size:\n",
    "            break\n",
    "        ls.append(seq[pos:(pos+win_size)])\n",
    "        pos = pos + step_size\n",
    "    return(ls)"
   ]
  },
  {
   "cell_type": "code",
   "execution_count": 9,
   "metadata": {
    "collapsed": false
   },
   "outputs": [
   ],
   "source": [
    "def seq_to_six(seq):\n",
    "    ls_123 = get_windows(seq,6,1)[0:3]\n",
    "    seq_r = reverse_complement(seq)\n",
    "    ls_456 = get_windows(seq_r,6,1)[0:3]\n",
    "    frames = ls_123 + ls_456\n",
    "    return(frames)"
   ]
  },
  {
   "cell_type": "code",
   "execution_count": 10,
   "metadata": {
    "collapsed": false
   },
   "outputs": [
    {
     "name": "stdout",
     "output_type": "stream",
     "text": [
      "['ACTAGA', 'CTAGAC', 'TAGACG', 'CGTCTA', 'GTCTAG', 'TCTAGT']\n"
     ]
    }
   ],
   "source": [
    "seq = \"ACTAGACG\"\n",
    "print(seq_to_six(seq))"
   ]
  },
  {
   "cell_type": "markdown",
   "metadata": {
    "collapsed": false
   },
   "source": [
    "## Q3: Function to get the longest aa sequence from a DNA seq"
   ]
  },
  {
   "cell_type": "code",
   "execution_count": 12,
   "metadata": {
    "collapsed": false
   },
   "outputs": [
   ],
   "source": [
    "import io\n",
    "\n",
    "dc_codon = dict()\n",
    "no = sum(1 for i in io.open(\"data_20/codon.txt\")) # source: https://github.com/zhanxw/anno/blob/master/codon.txt\n",
    "\n",
    "with io.open(\"data_20/codon.txt\") as fh:\n",
    "    for i in range(no):\n",
    "        ls = fh.readline().strip().split()\n",
    "        dc_codon[ls[0]] = ls[2]"
   ]
  },
  {
   "cell_type": "code",
   "execution_count": 13,
   "metadata": {
    "collapsed": false
   },
   "outputs": [
   ],
   "source": [
    "def codon_to_aa(codon):\n",
    "    if len(codon) != 3:\n",
    "        print(\"error\")\n",
    "    elif codon not in dc_codon.keys():\n",
    "        print(\"X\")\n",
    "    else:\n",
    "        return(dc_codon[codon])"
   ]
  },
  {
   "cell_type": "code",
   "execution_count": 15,
   "metadata": {
    "collapsed": false
   },
   "outputs": [
   ],
   "source": [
    "def dna_to_aa_stop(seq):\n",
    "    ls = get_windows(seq,3,3)\n",
    "    aa = \"\"\n",
    "    for i in ls:\n",
    "        if str(codon_to_aa(i)) == \"O\": # modified\n",
    "            break\n",
    "        aa = aa + str(codon_to_aa(i))\n",
    "    return(aa)"
   ]
  },
  {
   "cell_type": "code",
   "execution_count": 20,
   "metadata": {
    "collapsed": false
   },
   "outputs": [
   ],
   "source": [
    "def longest_non_stop(seq):\n",
    "    longest_aa = \"\"\n",
    "    for i in range(3):\n",
    "        aa = dna_to_aa_stop(seq[i:])\n",
    "        print(aa) # to print every iterations\n",
    "        if len(aa) > len(longest_aa):\n",
    "            longest_aa = aa\n",
    "    seqr = reverse_complement(seq)\n",
    "    for i in range(3):\n",
    "        aa = dna_to_aa_stop(seqr[i:])\n",
    "        print(aa) # to print every iterations\n",
    "        if len(aa) > len(longest_aa):\n",
    "            longest_aa = aa\n",
    "    return(longest_aa)"
   ]
  },
  {
   "cell_type": "code",
   "execution_count": 21,
   "metadata": {
    "collapsed": false
   },
   "outputs": [
    {
     "name": "stdout",
     "output_type": "stream",
     "text": [
      "SY\n",
      "ATRKIDD\n",
      "LLGR\n",
      "V\n",
      "SNRLSS\n",
      "LIVYLPSS\n",
      "LIVYLPSS\n"
     ]
    }
   ],
   "source": [
    "seq = \"AGCTACTAGGAAGATAGACGATTAGAC\"\n",
    "print(longest_non_stop(seq))"
   ]
  },
  {
   "cell_type": "markdown",
   "metadata": {
    "collapsed": false
   },
   "source": [
    "## Q4: Modifying the grape_count_gata.py"
   ]
  },
  {
   "cell_type": "code",
   "execution_count": 24,
   "metadata": {
    "collapsed": false
   },
   "outputs": [
   ],
   "source": [
    "import re\n",
    "import io\n",
    "\n",
    "def count_motifs(seq, motif):\n",
    "    pieces = re.split(motif, seq)\n",
    "    return len(pieces) - 1"
   ]
  },
  {
   "cell_type": "code",
   "execution_count": 29,
   "metadata": {
    "collapsed": false
   },
   "outputs": [
    {
     "name": "stdout",
     "output_type": "stream",
     "text": [
      "GSVIVT01034325001_1\t3\t[AT]GATA[GA]\n",
      "GSVIVT01034325001_1\t0\t[CGT]ACGTG[GT][AC]\n",
      "GSVIVT01034325001_1\t2\tTTGAC\n",
      "GSVIVT01034326001_2\t2\t[AT]GATA[GA]\n",
      "GSVIVT01034326001_2\t0\t[CGT]ACGTG[GT][AC]\n",
      "GSVIVT01034326001_2\t4\tTTGAC\n",
      "GSVIVT01034329001_3\t2\t[AT]GATA[GA]\n",
      "GSVIVT01034329001_3\t0\t[CGT]ACGTG[GT][AC]\n",
      "GSVIVT01034329001_3\t0\tTTGAC\n",
      "GSVIVT01034331001_4\t2\t[AT]GATA[GA]\n",
      "GSVIVT01034331001_4\t0\t[CGT]ACGTG[GT][AC]\n",
      "GSVIVT01034331001_4\t0\tTTGAC\n",
      "GSVIVT01034332001_5\t1\t[AT]GATA[GA]\n",
      "GSVIVT01034332001_5\t0\t[CGT]ACGTG[GT][AC]\n",
      "GSVIVT01034332001_5\t2\tTTGAC\n"
     ]
    }
   ],
   "source": [
    "motif_ls = [r\"[AT]GATA[GA]\",r\"[CGT]ACGTG[GT][AC]\",r\"TTGAC\"]\n",
    "\n",
    "with (io.open(\"data_21/grape_promoters.txt\")) as fh:\n",
    "    for line in range(5):\n",
    "        line = fh.readline()\n",
    "        linestripped = line.strip()\n",
    "        line_list = re.split(r\"\\s+\", linestripped)\n",
    "        gid = line_list[0]\n",
    "        seq = line_list[1]\n",
    "        \n",
    "        for i in motif_ls:\n",
    "            num_motifs = count_motifs(seq, i)\n",
    "            print(gid + \"\\t\" + str(num_motifs) + \"\\t\" + str(i))"
   ]
  },
  {
   "cell_type": "markdown",
   "metadata": {
    "collapsed": false
   },
   "source": [
    "## Q5: Restriction enzymes and subsequent bin sizes"
   ]
  },
  {
   "cell_type": "code",
   "execution_count": 31,
   "metadata": {
    "collapsed": false
   },
   "outputs": [
   ],
   "source": [
    "def count_pieces(seq, motif):\n",
    "    pieces = re.split(motif, seq)\n",
    "    return pieces"
   ]
  },
  {
   "cell_type": "code",
   "execution_count": 34,
   "metadata": {
    "collapsed": false
   },
   "outputs": [
   ],
   "source": [
    "def gbs_cut(seq, motif, bin):\n",
    "    dc = dict()\n",
    "    pieces = count_pieces(seq, motif)\n",
    "    pieces = sorted(pieces)\n",
    "    for p in pieces:\n",
    "        key = len(p) // bin\n",
    "        if key in dc.keys():\n",
    "            dc[key] += 1\n",
    "        else:\n",
    "            dc[key] = 1\n",
    "    return(dc)"
   ]
  },
  {
   "cell_type": "code",
   "execution_count": 35,
   "metadata": {
    "collapsed": false
   },
   "outputs": [
    {
     "data": {
      "text/plain": [
       "{0: 1, 1: 2, 2: 1}"
      ]
     },
     "execution_count": 35,
     "metadata": {
     },
     "output_type": "execute_result"
    }
   ],
   "source": [
    "seq = \"AAAAGCAGCAAAAAAGCTGCAAGCAGCAAAAA\"\n",
    "gbs_cut(seq, \"GC[AT]GC\", 3)"
   ]
  }
 ],
 "metadata": {
  "kernelspec": {
   "display_name": "Python 3 (system-wide)",
   "language": "python",
   "metadata": {
    "cocalc": {
     "description": "Python 3 programming language",
     "priority": 100,
     "url": "https://www.python.org/"
    }
   },
   "name": "python3",
   "resource_dir": "/ext/jupyter/kernels/python3"
  },
  "language_info": {
   "codemirror_mode": {
    "name": "ipython",
    "version": 3
   },
   "file_extension": ".py",
   "mimetype": "text/x-python",
   "name": "python",
   "nbconvert_exporter": "python",
   "pygments_lexer": "ipython3",
   "version": "3.8.10"
  }
 },
 "nbformat": 4,
 "nbformat_minor": 4
}