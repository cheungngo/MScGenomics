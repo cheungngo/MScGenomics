{
 "cells": [
  {
   "cell_type": "markdown",
   "metadata": {
    "collapsed": false
   },
   "source": [
    "# Chapter 18 Python functions"
   ]
  },
  {
   "cell_type": "markdown",
   "metadata": {
    "collapsed": false
   },
   "source": [
    "## Q2: creating a \"get_windows\" function"
   ]
  },
  {
   "cell_type": "code",
   "execution_count": 10,
   "metadata": {
    "collapsed": false
   },
   "outputs": [
   ],
   "source": [
    "def get_windows (seq, win_size, step_size):\n",
    "    ls = list()\n",
    "    pos = 0\n",
    "    while pos < len(seq):\n",
    "        if len(seq[pos:(pos+win_size)]) < win_size:\n",
    "            break\n",
    "        ls.append(seq[pos:(pos+win_size)])\n",
    "        pos = pos + step_size\n",
    "    return(ls)"
   ]
  },
  {
   "cell_type": "code",
   "execution_count": 13,
   "metadata": {
    "collapsed": false
   },
   "outputs": [
   ],
   "source": [
    "# trying out on the answers\n",
    "seq = \"ACGGTAGACCT\""
   ]
  },
  {
   "cell_type": "code",
   "execution_count": 14,
   "metadata": {
    "collapsed": false
   },
   "outputs": [
    {
     "name": "stdout",
     "output_type": "stream",
     "text": [
      "['ACG', 'CGG', 'GGT', 'GTA', 'TAG', 'AGA', 'GAC', 'ACC', 'CCT']\n",
      "['ACG', 'GTA', 'GAC']\n",
      "['ACG', 'AGA']\n",
      "['ACGGT', 'GGTAG', 'TAGAC', 'GACCT']\n"
     ]
    }
   ],
   "source": [
    "print(get_windows(seq, 3, 1))\n",
    "print(get_windows(seq, 3, 3))\n",
    "print(get_windows(seq, 3, 5))\n",
    "print(get_windows(seq, 5, 2))"
   ]
  },
  {
   "cell_type": "markdown",
   "metadata": {
    "collapsed": false
   },
   "source": [
    "## Q3: running the function on lists"
   ]
  },
  {
   "cell_type": "code",
   "execution_count": 16,
   "metadata": {
    "collapsed": false
   },
   "outputs": [
    {
     "name": "stdout",
     "output_type": "stream",
     "text": [
      "[[0, 1, 2], [4, 5, 6]]\n"
     ]
    }
   ],
   "source": [
    "seq = list(range(8))\n",
    "print(get_windows(seq, 3, 4))"
   ]
  },
  {
   "cell_type": "markdown",
   "metadata": {
    "collapsed": false
   },
   "source": [
    "## Q4: re-write the function in Chapter 17"
   ]
  },
  {
   "cell_type": "code",
   "execution_count": 0,
   "metadata": {
    "collapsed": false
   },
   "outputs": [
   ],
   "source": [
    "def mw_from_mole(molecule):\n",
    "    a = 0; c = 0; t = 0; g = 0\n",
    "    for i in molecule:\n",
    "        if i == \"A\":\n",
    "            a += 1\n",
    "        elif i == \"C\":\n",
    "            c += 1\n",
    "        elif i == \"G\":\n",
    "            g += 1\n",
    "        elif i == \"T\":\n",
    "            t += 1\n",
    "        else:\n",
    "            print(\"error noted x 1\")\n",
    "    return(mw(a,t,c,g))"
   ]
  }
 ],
 "metadata": {
  "kernelspec": {
   "display_name": "Python 3 (system-wide)",
   "language": "python",
   "metadata": {
    "cocalc": {
     "description": "Python 3 programming language",
     "priority": 100,
     "url": "https://www.python.org/"
    }
   },
   "name": "python3",
   "resource_dir": "/ext/jupyter/kernels/python3"
  },
  "language_info": {
   "codemirror_mode": {
    "name": "ipython",
    "version": 3
   },
   "file_extension": ".py",
   "mimetype": "text/x-python",
   "name": "python",
   "nbconvert_exporter": "python",
   "pygments_lexer": "ipython3",
   "version": "3.8.10"
  }
 },
 "nbformat": 4,
 "nbformat_minor": 4
}