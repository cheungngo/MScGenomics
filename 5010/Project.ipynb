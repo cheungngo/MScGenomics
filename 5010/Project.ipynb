{
 "cells": [
  {
   "cell_type": "markdown",
   "metadata": {
    "collapsed": false
   },
   "source": [
    "# Project"
   ]
  },
  {
   "cell_type": "markdown",
   "metadata": {
    "collapsed": false
   },
   "source": [
    "## Part 1:"
   ]
  },
  {
   "cell_type": "markdown",
   "metadata": {
    "collapsed": false
   },
   "source": [
    "Write a function called count_kmers_non_dict() which takes a DNA sequence (seq) and a kmer length (k) as input and counts how many times the k-mers occur. This function returns two\n",
    "lists: one stores all k-mers occurring at least once in the sequence; the other stores the\n",
    "corresponding counts of k-mers."
   ]
  },
  {
   "cell_type": "markdown",
   "metadata": {
    "collapsed": false
   },
   "source": [
    "Notes:\n",
    "    \n",
    "1. There are many ways to implement the k-mer counter. One way is to store all unique k-mers in a list as you go, and look through the list with every new k-mer to determine how many times it is observed.\n",
    "\n",
    "2. You may want to discard the k-mers that contain any non-DNA letters. Assume that the valid DNA letters are A, T, C, G, a, t, c and g. Note that it’s inappropriate to remove the non- DNA letters in the original sequence.\n",
    "\n",
    "3. The operator “in” can be used for lists as well as strings: >>>\"A\" in [\"T\", \"A\", \"C\"]\n",
    "True\n",
    "\n",
    "4. Note that the count() method of a string won’t work correctly for this question, as it doesn’t consider the overlapping cases. For example, the number of occurrences of 3-mer “ccc” in sequence “cccc” should be 2, but count() will just return the number of 1.\n",
    "\n",
    "5. In this step, you are not expected to use dictionary yet."
   ]
  },
  {
   "cell_type": "code",
   "execution_count": 17,
   "metadata": {
    "collapsed": false
   },
   "outputs": [
   ],
   "source": [
    "'''A function to count kmers using lists'''\n",
    "\n",
    "def count_kmers_non_dict(seqs, k):\n",
    "    \n",
    "    # initializing the lists\n",
    "    kmer_ls = list()\n",
    "    unique_kmer = list()\n",
    "    \n",
    "    # default valid characters\n",
    "    valid = [\"A\", \"T\", \"C\", \"G\", \"a\", \"t\", \"c\", \"g\"]\n",
    "    \n",
    "    for seq in seqs:\n",
    "\n",
    "        # iterating through the sequence:\n",
    "        for i in range(len(seq)-k+1):\n",
    "\n",
    "            # obtain the kmer for each iteration\n",
    "            kmer = seq[i:i+k]\n",
    "\n",
    "            # see if the kmer contains invalid characters\n",
    "            valid_kmer = True\n",
    "            for char in kmer:\n",
    "                if char not in valid:\n",
    "                    valid_kmer = False\n",
    "                    break\n",
    "\n",
    "            kmer = kmer.upper()\n",
    "\n",
    "            # appending the list for valid kmers\n",
    "            if valid_kmer == True:\n",
    "                kmer_ls.append(kmer)\n",
    "\n",
    "                # to create a unique list\n",
    "                if kmer not in unique_kmer:\n",
    "                    unique_kmer.append(kmer)\n",
    "\n",
    "    # Sorting the list for a better output presentation\n",
    "    unique_kmer = sorted(unique_kmer)\n",
    "\n",
    "    # output\n",
    "    kmer_count = []\n",
    "    for kmer in unique_kmer:\n",
    "        kmer_count.append(kmer_ls.count(kmer))\n",
    "\n",
    "    return unique_kmer, kmer_count"
   ]
  },
  {
   "cell_type": "markdown",
   "metadata": {
    "collapsed": false
   },
   "source": [
    "Write another function: write2file_non_dict(kmer_list, counts, outfilename),\n",
    "where kmer_list is a list of k-mers, counts is the corresponding list of counts, and\n",
    "outfilename is the name of the output file. This function writes the k-mer counts to an output\n",
    "file in format of “kmer:count”."
   ]
  },
  {
   "cell_type": "code",
   "execution_count": 18,
   "metadata": {
    "collapsed": false
   },
   "outputs": [
   ],
   "source": [
    "'''A function to return the output'''\n",
    "\n",
    "def write2file_non_dict(kmer_list, counts, outfilename):\n",
    "    \n",
    "    # open the output file\n",
    "    with open(outfilename, \"w\") as fh:\n",
    "        \n",
    "        # write the kmer and its count line by line\n",
    "        for i in range(len(kmer_list)):\n",
    "            fh.write(f\"{kmer_list[i]} : {counts[i]}\\n\")"
   ]
  },
  {
   "cell_type": "markdown",
   "metadata": {
    "collapsed": false
   },
   "source": [
    "#### Testing the function"
   ]
  },
  {
   "cell_type": "code",
   "execution_count": 19,
   "metadata": {
    "collapsed": false
   },
   "outputs": [
   ],
   "source": [
    "# Using the sequence provided\n",
    "\n",
    "seq = ['ctccaaagaaattgtagttttcttctggcttagaggtagatcatcttggtccaatcagactgaaatgccttgaggctagatttcagtctttgtGGCAGCTGgtgaatttctagtttgccttttcagctagggattagctttttaggggtcccaatgcctagggagatttctaggtcctctgttccttgctgacctccaat']"
   ]
  },
  {
   "cell_type": "code",
   "execution_count": 20,
   "metadata": {
    "collapsed": false
   },
   "outputs": [
    {
     "data": {
      "text/plain": [
       "(['A', 'C', 'G', 'T'], [41, 41, 47, 71])"
      ]
     },
     "execution_count": 20,
     "metadata": {
     },
     "output_type": "execute_result"
    }
   ],
   "source": [
    "count_kmers_non_dict(seq, 1)"
   ]
  },
  {
   "cell_type": "code",
   "execution_count": 21,
   "metadata": {
    "collapsed": false
   },
   "outputs": [
    {
     "data": {
      "text/plain": [
       "(['AA',\n",
       "  'AC',\n",
       "  'AG',\n",
       "  'AT',\n",
       "  'CA',\n",
       "  'CC',\n",
       "  'CT',\n",
       "  'GA',\n",
       "  'GC',\n",
       "  'GG',\n",
       "  'GT',\n",
       "  'TA',\n",
       "  'TC',\n",
       "  'TG',\n",
       "  'TT'],\n",
       " [10, 2, 18, 11, 9, 11, 21, 12, 10, 14, 11, 10, 17, 15, 28])"
      ]
     },
     "execution_count": 21,
     "metadata": {
     },
     "output_type": "execute_result"
    }
   ],
   "source": [
    "count_kmers_non_dict(seq, 2)"
   ]
  },
  {
   "cell_type": "code",
   "execution_count": 11,
   "metadata": {
    "collapsed": false
   },
   "outputs": [
   ],
   "source": [
    "kmer, count = count_kmers_non_dict(seq, 2)\n",
    "write2file_non_dict(kmer, count, \"part1_out.txt\")"
   ]
  },
  {
   "cell_type": "markdown",
   "metadata": {
    "collapsed": false
   },
   "source": [
    "AA:10\n",
    "    \n",
    "AC:2\n",
    "    \n",
    "AG:18\n",
    "    \n",
    "AT:11\n",
    "    \n",
    "CA:9\n",
    "    \n",
    "CC:11\n",
    "    \n",
    "CT:21\n",
    "    \n",
    "GA:12\n",
    "    \n",
    "GC:10\n",
    "    \n",
    "GG:14\n",
    "    \n",
    "GT:11\n",
    "    \n",
    "TA:10\n",
    "    \n",
    "TC:17\n",
    "    \n",
    "TG:15\n",
    "    \n",
    "TT:28"
   ]
  },
  {
   "cell_type": "markdown",
   "metadata": {
    "collapsed": false
   },
   "source": [
    "## Part 2:"
   ]
  },
  {
   "cell_type": "markdown",
   "metadata": {
    "collapsed": false
   },
   "source": [
    "In previous step, you wrote a function which counts all unique k-mers of a specific length in a \n",
    "given sequence. This is a reasonable solution with a relatively short sequence, but the longer the \n",
    "sequence gets, the longer it takes to look through the list. This is an instance when dictionaries \n",
    "are really useful: a dictionary internally sorts keys and searches through them in a much more \n",
    "efficient way."
   ]
  },
  {
   "cell_type": "markdown",
   "metadata": {
    "collapsed": false
   },
   "source": [
    "In this step, you will re-implement the code in step 1 and write a function called\n",
    "count_kmers(), which returns a dictionary with unique k-mers as keys and counts as values.\n",
    "Similarly, write another function write2file(kmer_dict, outfilename) to write the\n",
    "counts to an output file."
   ]
  },
  {
   "cell_type": "markdown",
   "metadata": {
    "collapsed": false
   },
   "source": [
    "Next, compare the time it takes to run a long sequence (read from the file\n",
    "example_chromosome21.txt) using both functions of count_kmers_non_dict() and\n",
    "count_kmers(). Record the running time for both functions in a file called readme.txt. "
   ]
  },
  {
   "cell_type": "markdown",
   "metadata": {
    "collapsed": false
   },
   "source": [
    "Notes:\n",
    "    \n",
    "1. Use a small value of k (k <= 3) so that the job won’t be too heavy for your computer.\n",
    "\n",
    "2. The test file of “example_chromosome21.txt” contains only one sequence, but it’s extremely \n",
    "long and manually stored in multiple lines. So you will need to concatenate all lines together \n",
    "and reconstruct the long sequence before investigating the k-mers.\n",
    "\n",
    "3. Depends on the performance of your computer, it may take a few minutes to load the \n",
    "sequence in “example_chromosome21.txt”.\n",
    "\n",
    "4. Don’t try to use “example_chromosome21.txt” until your program works correctly as the \n",
    "example in Part 1.\n",
    "\n",
    "5. To have python time the program execution time, you can use a function called “time”, \n",
    "within a module also called “time”. See example below."
   ]
  },
  {
   "cell_type": "markdown",
   "metadata": {
    "collapsed": false
   },
   "source": [
    "#### A function to count kmers using dicts"
   ]
  },
  {
   "cell_type": "code",
   "execution_count": 4,
   "metadata": {
    "collapsed": false
   },
   "outputs": [
   ],
   "source": [
    "'''A function to count kmers using dicts'''\n",
    "\n",
    "def count_kmers(seq, k):\n",
    "    \n",
    "    # initializing the dict\n",
    "    dc = dict()\n",
    "    \n",
    "    # default valid characters\n",
    "    valid = [\"A\", \"T\", \"C\", \"G\", \"a\", \"t\", \"c\", \"g\"]\n",
    "    \n",
    "    # for each string in the list of strings:\n",
    "    for seq in seqs:\n",
    "        \n",
    "        # iterating through the sequence:\n",
    "        for i in range(len(seq)-k+1):\n",
    "\n",
    "            # obtain the kmer for each iteration\n",
    "            kmer = seq[i:i+k]\n",
    "\n",
    "            # see if the kmer contains invalid characters\n",
    "            valid_kmer = True\n",
    "            for char in kmer:\n",
    "                if char not in valid:\n",
    "                    valid_kmer = False\n",
    "                    break\n",
    "\n",
    "            kmer = kmer.upper()\n",
    "\n",
    "            # appending the list for valid kmers\n",
    "            if valid_kmer == True:\n",
    "                if kmer in dc.keys():\n",
    "                    dc[kmer] += 1\n",
    "                else:\n",
    "                    dc[kmer] = 1\n",
    "                            \n",
    "    # Output\n",
    "    return dc\n"
   ]
  },
  {
   "cell_type": "code",
   "execution_count": 5,
   "metadata": {
    "collapsed": false
   },
   "outputs": [
   ],
   "source": [
    "'''A function to write the output of the kmer dict'''\n",
    "\n",
    "def write2file(kmer_dict, outfilename):\n",
    "    \n",
    "    # open the file\n",
    "    with open(outfilename, \"w\") as fh:\n",
    "    \n",
    "        # writing line by line for each key in dict and its value\n",
    "        for key in sorted(kmer_dict.keys()):\n",
    "            fh.write(f\"{key} : {kmer_dict[key]}\\n\")"
   ]
  },
  {
   "cell_type": "code",
   "execution_count": 49,
   "metadata": {
    "collapsed": false
   },
   "outputs": [
    {
     "data": {
      "text/plain": [
       "{'CT': 21,\n",
       " 'TC': 17,\n",
       " 'CC': 11,\n",
       " 'CA': 9,\n",
       " 'AA': 10,\n",
       " 'AG': 18,\n",
       " 'GA': 12,\n",
       " 'AT': 11,\n",
       " 'TT': 28,\n",
       " 'TG': 15,\n",
       " 'GT': 11,\n",
       " 'TA': 10,\n",
       " 'GG': 14,\n",
       " 'GC': 10,\n",
       " 'AC': 2}"
      ]
     },
     "execution_count": 49,
     "metadata": {
     },
     "output_type": "execute_result"
    }
   ],
   "source": [
    "# a small test\n",
    "count_kmers(seq,2)"
   ]
  },
  {
   "cell_type": "code",
   "execution_count": 50,
   "metadata": {
    "collapsed": false
   },
   "outputs": [
   ],
   "source": [
    "# another test\n",
    "kmer_dc = count_kmers(seq,2)\n",
    "write2file(kmer_dc, \"part2_out.txt\")"
   ]
  },
  {
   "cell_type": "markdown",
   "metadata": {
    "collapsed": false
   },
   "source": [
    "#### Reading the \"example_chromosome21.txt\""
   ]
  },
  {
   "cell_type": "code",
   "execution_count": 12,
   "metadata": {
    "collapsed": false
   },
   "outputs": [
   ],
   "source": [
    "\"\"\"A function to read .txt sequence file\"\"\"\n",
    "\n",
    "import io\n",
    "\n",
    "def r_txt(filepath):\n",
    "    \n",
    "    # number of lines in the file\n",
    "    no = sum(1 for i in io.open(filepath))\n",
    "    \n",
    "    # initialization\n",
    "    out = \"\"\n",
    "    \n",
    "    with io.open(filepath) as fh:\n",
    "        \n",
    "        for i in range(no):\n",
    "            line = fh.readline().strip()\n",
    "            out += line\n",
    "            \n",
    "    return [out]"
   ]
  },
  {
   "cell_type": "markdown",
   "metadata": {
    "collapsed": false
   },
   "source": [
    "#### Calculating the time for the two methods"
   ]
  },
  {
   "cell_type": "code",
   "execution_count": 13,
   "metadata": {
    "collapsed": false
   },
   "outputs": [
   ],
   "source": [
    "seq = r_txt(\"example_chromosome21.txt\")"
   ]
  },
  {
   "cell_type": "code",
   "execution_count": 8,
   "metadata": {
    "collapsed": false
   },
   "outputs": [
   ],
   "source": [
    "import time"
   ]
  },
  {
   "cell_type": "code",
   "execution_count": 54,
   "metadata": {
    "collapsed": false
   },
   "outputs": [
   ],
   "source": [
    "# First method\n",
    "\n",
    "start = time.time()\n",
    "count_kmers_non_dict(seq, 1)\n",
    "end = time.time()\n",
    "print(f\"Time elapsed is {end-start} seconds.\")\n"
   ]
  },
  {
   "cell_type": "code",
   "execution_count": 9,
   "metadata": {
    "collapsed": false
   },
   "outputs": [
    {
     "ename": "NameError",
     "evalue": "name 'seqs' is not defined",
     "output_type": "error",
     "traceback": [
      "\u001b[0;31m---------------------------------------------------------------------------\u001b[0m",
      "\u001b[0;31mNameError\u001b[0m                                 Traceback (most recent call last)",
      "\u001b[0;32m/tmp/ipykernel_2091/3258531977.py\u001b[0m in \u001b[0;36m<module>\u001b[0;34m\u001b[0m\n\u001b[1;32m      2\u001b[0m \u001b[0;34m\u001b[0m\u001b[0m\n\u001b[1;32m      3\u001b[0m \u001b[0mstart\u001b[0m \u001b[0;34m=\u001b[0m \u001b[0mtime\u001b[0m\u001b[0;34m.\u001b[0m\u001b[0mtime\u001b[0m\u001b[0;34m(\u001b[0m\u001b[0;34m)\u001b[0m\u001b[0;34m\u001b[0m\u001b[0;34m\u001b[0m\u001b[0m\n\u001b[0;32m----> 4\u001b[0;31m \u001b[0mcount_kmers\u001b[0m\u001b[0;34m(\u001b[0m\u001b[0mseq\u001b[0m\u001b[0;34m,\u001b[0m \u001b[0;36m1\u001b[0m\u001b[0;34m)\u001b[0m\u001b[0;34m\u001b[0m\u001b[0;34m\u001b[0m\u001b[0m\n\u001b[0m\u001b[1;32m      5\u001b[0m \u001b[0mend\u001b[0m \u001b[0;34m=\u001b[0m \u001b[0mtime\u001b[0m\u001b[0;34m.\u001b[0m\u001b[0mtime\u001b[0m\u001b[0;34m(\u001b[0m\u001b[0;34m)\u001b[0m\u001b[0;34m\u001b[0m\u001b[0;34m\u001b[0m\u001b[0m\n\u001b[1;32m      6\u001b[0m \u001b[0mprint\u001b[0m\u001b[0;34m(\u001b[0m\u001b[0;34mf\"Time elapsed is {end-start} seconds.\"\u001b[0m\u001b[0;34m)\u001b[0m\u001b[0;34m\u001b[0m\u001b[0;34m\u001b[0m\u001b[0m\n",
      "\u001b[0;32m/tmp/ipykernel_2091/3666672812.py\u001b[0m in \u001b[0;36mcount_kmers\u001b[0;34m(seq, k)\u001b[0m\n\u001b[1;32m     10\u001b[0m \u001b[0;34m\u001b[0m\u001b[0m\n\u001b[1;32m     11\u001b[0m     \u001b[0;31m# for each string in the list of strings:\u001b[0m\u001b[0;34m\u001b[0m\u001b[0;34m\u001b[0m\u001b[0;34m\u001b[0m\u001b[0m\n\u001b[0;32m---> 12\u001b[0;31m     \u001b[0;32mfor\u001b[0m \u001b[0mseq\u001b[0m \u001b[0;32min\u001b[0m \u001b[0mseqs\u001b[0m\u001b[0;34m:\u001b[0m\u001b[0;34m\u001b[0m\u001b[0;34m\u001b[0m\u001b[0m\n\u001b[0m\u001b[1;32m     13\u001b[0m \u001b[0;34m\u001b[0m\u001b[0m\n\u001b[1;32m     14\u001b[0m         \u001b[0;31m# iterating through the sequence:\u001b[0m\u001b[0;34m\u001b[0m\u001b[0;34m\u001b[0m\u001b[0;34m\u001b[0m\u001b[0m\n",
      "\u001b[0;31mNameError\u001b[0m: name 'seqs' is not defined"
     ]
    }
   ],
   "source": [
    "# Second method\n",
    "\n",
    "start = time.time()\n",
    "count_kmers(seq, 1)\n",
    "end = time.time()\n",
    "print(f\"Time elapsed is {end-start} seconds.\")\n"
   ]
  },
  {
   "cell_type": "code",
   "execution_count": 36,
   "metadata": {
    "collapsed": false
   },
   "outputs": [
   ],
   "source": [
    "# another way doing this:\n",
    "\n",
    "with open(\"readme.txt\", \"w\") as fh:\n",
    "    \n",
    "    # First method\n",
    "    start = time.time()\n",
    "    count_kmers_non_dict(seq, 2)\n",
    "    end = time.time()\n",
    "    fh.write(f\"Time elapsed for the first method is {end-start} seconds.\")\n",
    "\n",
    "    # Second method\n",
    "    start = time.time()\n",
    "    count_kmers(seq, 2)\n",
    "    end = time.time()\n",
    "    fh.write(f\"Time elapsed for the second method is {end-start} seconds.\")"
   ]
  },
  {
   "cell_type": "markdown",
   "metadata": {
    "collapsed": false
   },
   "source": [
    "## Part 3:"
   ]
  },
  {
   "cell_type": "markdown",
   "metadata": {
    "collapsed": false
   },
   "source": [
    "In bioinformatics, many analysis algorithms make conclusions based on the abundances of each \n",
    "k-mer in the DNA sequence. Other k-mer based metrics include the number of unique k-mers in \n",
    "a DNA sequence and the shape of the distribution of k-mer frequencies."
   ]
  },
  {
   "cell_type": "markdown",
   "metadata": {
    "collapsed": false
   },
   "source": [
    "In this part, we will generalize the program so that it can \n",
    "\n",
    "1. deal with sequences in the real biological data files, including *.fasta (*.fa, *.faa, or \n",
    "*.fna) and *.fastq (or *.fq). See the provided files for example. \n",
    "\n",
    "2. output a frequency file instead of printing to the console. \n",
    "\n",
    "3. take a list of k-mer lengths from the program input and generate separate frequency \n",
    "files for each k-mer length (k). \n",
    "\n",
    "4. take program input from the command line. For example, \n",
    "\n",
    "> python count_kmers.py tiny_reads.fastq 2 \n",
    "\n",
    "where tiny_reads.fastq is the input file whereas 2 is the k-mer length.\n",
    "\n",
    "> python count_kmers.py tiny_reads.fastq 1,2,3,6\n",
    "\n",
    "where “1,2,3,6” is a list of k-mer lengths to be studied."
   ]
  },
  {
   "cell_type": "markdown",
   "metadata": {
    "collapsed": false
   },
   "source": [
    "#### A function to read the required sequence file"
   ]
  },
  {
   "cell_type": "code",
   "execution_count": 22,
   "metadata": {
    "collapsed": false
   },
   "outputs": [
   ],
   "source": [
    "\"\"\"A function to read fasta / fa sequence file\"\"\"\n",
    "\n",
    "import io\n",
    "import re\n",
    "\n",
    "def r_fasta(filepath):\n",
    "    \n",
    "    # number of lines in the file\n",
    "    no = sum(1 for i in io.open(filepath))\n",
    "    \n",
    "    # initialization\n",
    "    out = []\n",
    "    seq = \"\"\n",
    "    new = True\n",
    "    \n",
    "    with io.open(filepath) as fh:\n",
    "        \n",
    "        for i in range(no):\n",
    "            \n",
    "            line = fh.readline().strip()\n",
    "            \n",
    "            # for each header\n",
    "            if re.search(r\">\", line):\n",
    "                new = True\n",
    "                if len(seq) != 0:\n",
    "                    out.append(seq)\n",
    "                \n",
    "            # for the sequence lines\n",
    "            else:\n",
    "                \n",
    "                # second line onwards\n",
    "                if new == False:\n",
    "                    seq += line\n",
    "                    # for the very last line in the file\n",
    "                    if i == (no-1):\n",
    "                        out.append(seq)\n",
    "                        \n",
    "                # first line of the sequence\n",
    "                else:\n",
    "                    \n",
    "                    new = False\n",
    "                    seq = line\n",
    "            \n",
    "    return out"
   ]
  },
  {
   "cell_type": "code",
   "execution_count": 23,
   "metadata": {
    "collapsed": false
   },
   "outputs": [
    {
     "data": {
      "text/plain": [
       "['CCTTTATCTAATCTTTGGAGCATGAGCTGGCATAGTTGGAACCGCCCTCAGCCTCCTCATCCGTGCAGAACTTGGACAACCTGGAACTCTTCTAGGAGACGACCAAATTTACAATGTAATCGTCACTGCCCACGCCTTCGTAATAATTTTCTTTATAGTAATACCAATCATGATCGGTGGTTTCGGAAACTGACTAGTCCCACTCATAATCGGCGCCCCCGACATAGCATTCCCCCGTATAAACAACATAAGCTTCTGACTACTTCCCCCATCATTTCTTTTACTTCTAGCATCCTCCACAGTAGAAGCTGGAGCAGGAACAGGGTGAACAGTATATCCCCCTCTCGCTGGTAACCTAGCCCATGCCGGTGCTTCAGTAGACCTAGCCATCTTCTCCCTCCACTTAGCAGGTGTTTCCTCTATCCTAGGTGCTATTAACTTTATTACAACCGCCATCAACATAAAACCCCCAACCCTCTCCCAATACCAAACCCCCCTATTCGTATGATCAGTCCTTATTACCGCCGTCCTTCTCCTACTCTCTCTCCCAGTCCTCGCTGCTGGCATTACTATACTACTAACAGACCGAAACCTAAACACTACGTTCTTTGACCCAGCTGGAGGAGGAGACCCAGTCCTGTACCAACACCTCTTCTGATTCTTCGGCCATCCAGAAGTCTATATCCTCATTTTAC',\n",
       " 'GGTAGGTACCGCCCTAAGNCTCCTAATCCGAGCAGAACTANGCCAACCCGGAGCCCTTCTGGGAGACGACCAAATCTACAACGTAGTCGTTACGGCCCACGCCTTCGTAATAATCTTTTTCATAGTAATGCCAATCATAATCGGAGGATTCGGGAACTGACTAGTTCCTCTAATGATTGGGGCCCCAGACATAGCATTCCCTCGAATAAACAACATAAGCTTTTGACTACTACCACCATCATTCCTACTCCTAATAGCCTCCTCAACAGTAGAAGCAGGAGCCGGAACCGGATGAACCGTGTACCCACCACTAGCTGGAAACCTGGCCCACGCCGGAGCCTCAGTAGACCTAGCTATCTTCTCCCTACACCTAGCAGGTATCTCATCCATCCTGGGGGCAATTAACTTCATTACAACAGCAATCAACATAAAACCACCCGCCCTCTCACAATACCAAACACCACTATTCGTGTGATCCGTCCTAATTACGGCCGTACTACTCCTACTATCTCTCCCAGTACTAGCCGCCGGTATCACCATGCTACTCACAGACCGCAACCTCAACACCACCTTCTTTGACCCAGCAGGAGGAGGAGACCCAGTACTATACCAGCACCTATTCTGATTCTTCGGACACCCAGAAGTCTACATCCTAATTCTC',\n",
       " 'CCTATACCTAATTTTCGGCGCATGAGCCGGAATGGTGGGTACCGCTCTAAGCCTCCTCATTCGAGCAGAACTAGGCCAACCCGGAGCCCTTCTGGGAGACGACCAAGTCTACAACGTGGTTGTCACGGCCCATGCCTTCGTAATAATCTTCTTTATAGTTATGCCGATTATAATCGGAGGATTCGGAAACTGACTAGTCCCCCTAATAATCGGAGCCCCAGACATAGCATTTCCGCGAATAAACAACATAAGCTTCTGACTACTCCCACCATCATTCCTCCTCCTCTTAGCATCCTCCACAGTGGAAGCAGGCGTAGGTACAGGCTGAACAGTGTATCCCCCACTAGCTGGCAACCTAGCTCATGCCGGGGCCTCAGTCGACCTCGCAATCTTCTCCTTACACCTAGCTGGTATTTCCTCAATCCTCGGAGCAATTAACTTCATTACAACAGCAATTAACATGAAACCTCCTGCCCTCTCACAATACCAAACCCCACTATTCGTCTGATCAGTGTTAATTACTGCAGTCCTCCTTCTCCTTTCCCTTCCAGTTCTAGCTGCAGGAATCACAATGCTCCTCACAGACCGCAACCTCAACACCACATTCTTCGACCCTGCCGGAGGAGGAGATCCCGTCCTATATCAACATCTCTTCTGATTCTTCGGCCACCCAGAAGTCTACATCCTAATCCTC',\n",
       " 'CATGAGCTGGAATAGTAGGTACCGCCCTAAGCCTCCTAATTCGAGCAGAGCTAGGCCAACCCGGAGCCCTACTGGGAGACGACCAAATCTACAACGTAGTCGNCACGGCCCATGCTTTTGTAATAATCTTCTTCATAGTAATGCCAATCATAATCGGAGGGTTTGGAAACTGACTGGTCCCCCTAATAATTGGAGCTCCAGACATAGCATTCCCCCGAATAAACAACATGAGTTTCTGACTACTTCCCCCATCATTCCTACTACTAATAGCCTCCTCAACAGTAGAAGCAGGCGTTGGAACAGGATGAACCGTATATCCACCACTAGCCGGAAACCTAGCCCATGCAGGAGCCTCAGTAGACCTAGCTATCTTCTCCCTACACCTAGCAGGTATCTCCTCCATCCTAGGGGCAATCAACTTCATTACAACAGCAATCAACATAAAACCACCCGCCCTATCACAATACCAAACACCACTATTCGTATGATCCGTCCTAATCACAGCCGTACTACTCCTCCTATCACTCCCAGTGCTAGCTGCTGGAATTACCATGCTACTTACAGACCGCAACCTCAACACTACCTTCTTTGACCCAGCAGGGGGAGGAGACCCAGTGCTATACCAACATCTATTCTGATTCTTCGGACACCCAGAAGTTTACATCCTAATTCTC',\n",
       " 'CCTATACCTAATTTTCGGCGCATGAGCCGGAATAGTGGGTACCGCCCTAAGCCTCCTCATTCGAGCAGAACTAGGCCAACCCGGAGCCCTTCTGGGAGACGACCAAGTCTATAACGTAGTTGTCACGGCCCATGCCTTCGTAATAATTTTCTTTATAGTTATGCCGATTATAATCGGAGGATTCGGAAACTGACTAGTCCCCCTAATAATCGGAGCCCCAGACATAGCATTCCCACGAATAAACAACATAAGCTTCTGACTACTCCCACCATCATTCCTTCTCCTCCTAGCATCCTCCACAGTCGAAGCAGGCGTAGGTACAGGCTGAACAGTATACCCCCCACTAGCTGGCAACCTAGCTCACGCCGGAGCCTCAGTCGACCTCGCAATCTTCTCTCTACACCTAGCTGGTATTTCCTCAATCCTCGGAGCAATCAACTTCATTACAACAGCAATTAACATAAAACCTCCTGCCCTCTCACAATACCAAACCCCACTGTTCGTCTGATCCGTCCTAATCACTGCAGTCCTCCTGCTCCTTTCCCTTCCAGTTCTAGCTGCAGGAATCACAATACTCCTCACAGACCGCAACCTAAACACCACATTCTTCGACCCTGCTGGAGGAGGAGATCCCGTCCTATATCAACACCTTTTCTGATTCTTCGGCCACCCAGAAGTCTACATCCTAATCNTC',\n",
       " 'CATGAGCTGGAATAGTAGGTACCGCCCTAAGCCTCCTAATTCGAGCAGAGCTAGGCCAACCCGGAGCCCTACTGGGAGACGACCAAATCTACAACGTAGTCGTCACGGCCCATGCTTTTGTAATAATCTTCTTCATAGTAATGCCAATCATAATCGGAGGGTTTGGAAACTGACTGGTCCCCCTAATAATTGGAGCTCCAGACATAGCATTCCCCCGAATAAACAACATGAGTTTCTGACTACTTCCCCCATCATTCCTACTACTAATAGCCTCCTCAACAGTAGAAGCAGGCGTTGGAACAGGATGAACTGTATACCCGCCACTAGCCGGTAACCTAGCCCATGCAGGAGCCTCAGTAGACCTAGCTATCTTCTCCCTACACCTAGCAGGTATCTCCTCCATCCTAGGGGCAATCAACTTCATTACAACAGCAATCAACATAAAACCACCCGCCCTATCACAATACCAAACACCACTATTCGTATGATCCGTCCTAATCACAGCCGTACTACTCCTCCTATCACTCCCAGTGCTAGCTGCTGGAATTACCATGCTACTTACAGACCGCAACCTCAACACTACCTTCTTTGACCCAGCAGGGGGAGGAGACCCAGTGCTATACCAACATCTATTCTGATTCTTCGGACACCCAGAAGTTTACATCCTAATTCTC',\n",
       " 'TAGTTGGAACAGCCCTCAGCCTACTCATCCGAGCAGAACTAGGCCAACCCGGAACCCTCCTGGGAGATGACCAAATCTACAATGTAATCGTCACTGCCCATGCCTTCGTAATAATCTTCTTCATAGTAATACCAGTCATAATTGGAGGCTTCGGAAACTGACTAGTCCCCCTCATAATCGGCGCTCCAGACATAGCATTCCCACGTATAAACAACATAAGCTTCTGACTCCTACCCCCATCCTTCCTACTCCTCCTAGCCTCATCCACAGTGGAAGCAGGCGCAGGAACAGGATGAACGGTGTACCCCCCACTAGCTGGCAACCTAGCCCATGCCGGAGCCTCAGTAGATCTAGCTATTTTCTCACTCCACTTAGCAGGGGTATCCTCTATTCTAGGTGCAATCAATTTCATCACAACCGCCATCAACATAAAACCACCAGCCCTATCACAATATCAAACTCCATTATTCGTGTGATCCGTACTCATCACTGCCGTCCTACTACTATTATCCCTCCCAGTCCTAGCCGCCGGCATCACTATGCTCCTCACAGACCGAAATCTGAACACTACATTCTTCGACCCCGCTGGAGGAGGAGACCCAGTCCTATACCAACACTTATTCTGGTTTTTCGGCCACCCAGAAGTTTACATCCTAATTCTC',\n",
       " 'TAGTTGGAACAGCCCTCAGCCTACTCATCCGAGCAGAACTAGGCCAACCCGGAACCCTCCTGGGAGATGACCAAATCTACAATGTAATCGTCACTGCCCATGCCTTCGTAATAATCTTCTTCATAGTAATACCAGTCATAATTGGAGGCTTCGGAAACTGACTAGTCCCCCTCATAATCGGCGCTCCAGACATAGCATTCACAACATAAGCTTCTGACTCCTACCCCCATCCTTCCTACTCCTCCTAGCCTCATCCACAGTGGAAGCAGGCGCAGGAACAGGATGAACGGTGTACCCCCCACTAGCTGGCAACCTAGCCCATGCCGGAGCCTCAGTAGATCTAGCTATTTTCTCACTCCACTTAGCAGGGGTATCCTCTATTCTAGGTGCAATCAATTTCATCACAACCGCCATCAACATAAAACCACCAGCCCTATCACAATATCAAACTCCATTATTCGTGTGATCCGTACTCATCACTGCCGTCCTACTACTATTATCCCTCCCAGTCCTAGCCGCCGGCATCACTATGCTCCTCACAGACCGAAATCTGAACACTACATTCTTCGACCCCGCTGGAGGAGGAGACCCAGTCCTATACCAACACTTATTCTGGTTTTTCGGCCACCCAGAAGTTTACATCCTAATTCTC',\n",
       " 'TAGTTGGAACAGCCCTCAGCCTACTCATCCGAGCAGAACTAGGCCAACCCGGAACCCTCCTGGGAGATGACCAAATCTACAATGTAATCGTCACTGCCCATGCCTTCGTAATAATCTTCTTCATAGTAATACCAGTCATAATTGGAGGCTTCGGAAACTGACTAGTCCCCCTCATAATCGGCGCTCCAGACATAGCATTCCCACGTATAAACAACATAAGCTTCTGACTCCTACCCCCATCCTTCCTACTCCTCCTAGCCTCATCCACAGTGGAAGCAGGCGCAGGAACAGGATGAACGGTGTACCCCCCACTAGCTGGCAACCTAGCCCATGCCGGAGCCTCAGTAGATCCATCAACATAAAACCACCAGCCCTATCACAATATCAAACTCCATTATTCGTGTGATCCGTACTCATCACTGCCGTCCTACTACTATTATCCCTCCCAGTCCTAGCCGCCGGCATCACTATGCTCCTCACAGACCGAAATCTGAACACTACATTCTTCGACCCCGCTGGAGGAGGAGACCCAGTCCTATACCAACACTTATTCTGGTTTTTCGGCCACCCAGAAGTTTACATCCTAATTCTC',\n",
       " 'TAGTTGGAACAGCCCTCAGCCTACTCATCCGAGCAGAACTAGGCCAACCCGGAACCCTCCTGGGAGATGAATTGGAGGCTTCGGAAACTGACTAGTCCCCCTCATAATCGGCGCTCCAGACATAGCATTCCCACGTATAAACAACATAAGCTTCTGACTCCTACCCCCATCCTTCCTACTCCTCCTAGCCTCATCCACAGTGGAAGCAGGCGCAGGAACAGGATGAACGGTGTACCCCCCACTAGCTGGCAACCTAGCCCATGCCGGAGCCTCAGTAGATCTAGCTATTTTCTCACTCCACTTAGCAGGGGTATCCTCTATTCTAGGTGCAATCAATTTCATCACAACCGCCATCAACATAAAACCACCAGCCCTATCACAATATCAAACTCCATTATTCGTGTGATCCGTACTCATCACTGCCGTCCTACTACTATTATCCCTCCCAGTCCTAGCCGCCGGCATCACTATGCTCCTCACAGACCGAAATCTGAACACTACATTCTTCGACCCCGCTGGAGGAGGAGACCCAGTCCTATACCAACACTTATTCTGGTTTTTCGGCCACCCAGAAGTTTACATCCTAATTCTC',\n",
       " 'TAGTTGGAACAGCCCTCAGCCTACTCATCCGAGCAGAACTAGGCCAACCCGGAACCCTCCTGGGAGATGACCAAATCTACAATGTAATCGTCACTGCCCATGCCTTCGTAATAATCTTCTTCATAGTAATACCAGTCATAATTGGAGGCTTCGGAAACTGACTAGTCCCCCTCATAATCGGCGCTCCAGACATAGCATTCCCACGTATAAACAACATAAGCTTCTGACTCCTACCCCCATCCTTCCTACTCCTCCTAGCCTCATCCACAGTGGAAGCAGGCGCAGGAACAGGATGAACGGTGTACCCCCCACTAGCTGGCAACCTAGCCCATGCCGGAGCCTCAGTAGATCTAGCTATTTTCTCACTCCACTTAGCAGGGGTATCCTCTATTCTAGGTGCAATCAATTTCATCACAACCGCCATCAACATAAAACCACCAGCCCTATCACAATATCAAACTCCATTATTCGTGTGATCCGTACTCATCAC']"
      ]
     },
     "execution_count": 23,
     "metadata": {
     },
     "output_type": "execute_result"
    }
   ],
   "source": [
    "r_fasta(\"nucleotide_sample1.fa\")"
   ]
  },
  {
   "cell_type": "code",
   "execution_count": 42,
   "metadata": {
    "collapsed": false
   },
   "outputs": [
   ],
   "source": [
    "\"\"\"A function to read fastq sequence file\"\"\"\n",
    "\n",
    "import io\n",
    "import re\n",
    "\n",
    "def r_fastq(filepath):\n",
    "    \n",
    "    # number of lines in the file\n",
    "    no = sum(1 for i in io.open(filepath))\n",
    "    \n",
    "    # initialization\n",
    "    out = []\n",
    "    seq = \"\"\n",
    "    seq_line = 0\n",
    "    \n",
    "    with io.open(filepath) as fh:\n",
    "        \n",
    "        for i in range(no):\n",
    "            \n",
    "            line = fh.readline().strip()\n",
    "            \n",
    "            # The first line in the 4-line fastq format; locating the second line (real sequence) as seq_line\n",
    "            if re.search(r\"@\", line):\n",
    "                \n",
    "                # getting the last digit of the label line\n",
    "                digit = line[-1]\n",
    "                \n",
    "                # this is for indicating the computer to add the sequence for the next iteration\n",
    "                seq_line = i+1\n",
    "                \n",
    "            # Adding the second line in the 4-line fastq format\n",
    "            if seq_line == i:\n",
    "                \n",
    "                if (digit == \"1\") and (len(seq) != 0):\n",
    "                    out.append(seq)\n",
    "                    seq = line\n",
    "                else:\n",
    "                    seq += line\n",
    "                \n",
    "            if i == (no-1):\n",
    "                out.append(seq)\n",
    "            \n",
    "    return out"
   ]
  },
  {
   "cell_type": "code",
   "execution_count": 43,
   "metadata": {
    "collapsed": false
   },
   "outputs": [
    {
     "data": {
      "text/plain": [
       "['TCGTACCGTAAGGAACGGTGGACTGGATACGAGTGAGAATGTTGGGATAGATAGATAGATAGATAGATAGATAGATAGAGGCCTTAGGATTACACAATAACATACCTGTGTCGGTTTCAGTATAGTGCCATCCTTCTGTCTCTAGACACTCTTCCGTG',\n",
       " 'TTGGGATATCGCCAAGCGGTAAGGCAACGGACTTTGACTCCGTCATTCGCAGGTTCGAATCCTGCTATCCCAGCCAAAAAAAAAAGCATCGACAAAAAAAATATGCTTGGTGCACGACATGTGTATCGAACCCTGGACACCCTGATTCAAAGCTAACT',\n",
       " 'TAGATAGATATTCCTCGATTAAGAGTAATGCAAGGGATGTCAAGTGTAGGTAAGGTTCTTCGCTCGTACCGTAAGGAGT']"
      ]
     },
     "execution_count": 43,
     "metadata": {
     },
     "output_type": "execute_result"
    }
   ],
   "source": [
    "r_fastq(\"example_reads.fastq\")"
   ]
  },
  {
   "cell_type": "markdown",
   "metadata": {
    "collapsed": false
   },
   "source": [
    "#### For other parts please refer to the part3_66841.py file"
   ]
  }
 ],
 "metadata": {
  "kernelspec": {
   "display_name": "Python 3 (system-wide)",
   "language": "python",
   "metadata": {
    "cocalc": {
     "description": "Python 3 programming language",
     "priority": 100,
     "url": "https://www.python.org/"
    }
   },
   "name": "python3",
   "resource_dir": "/ext/jupyter/kernels/python3"
  },
  "language_info": {
   "codemirror_mode": {
    "name": "ipython",
    "version": 3
   },
   "file_extension": ".py",
   "mimetype": "text/x-python",
   "name": "python",
   "nbconvert_exporter": "python",
   "pygments_lexer": "ipython3",
   "version": "3.8.10"
  }
 },
 "nbformat": 4,
 "nbformat_minor": 4
}