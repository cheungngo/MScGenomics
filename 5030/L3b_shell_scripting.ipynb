{
  "nbformat": 4,
  "nbformat_minor": 0,
  "metadata": {
    "colab": {
      "name": "L3b_shell_scripting.ipynb",
      "provenance": [],
      "authorship_tag": "ABX9TyOZ2d+9ZUVviz5MleZkBxtC",
      "include_colab_link": true
    },
    "kernelspec": {
      "name": "python3",
      "display_name": "Python 3"
    },
    "language_info": {
      "name": "python"
    }
  },
  "cells": [
    {
      "cell_type": "markdown",
      "metadata": {
        "id": "view-in-github",
        "colab_type": "text"
      },
      "source": [
        "<a href=\"https://colab.research.google.com/github/cheungngo/MScGenomics/blob/master/5030/L3b_shell_scripting.ipynb\" target=\"_parent\"><img src=\"https://colab.research.google.com/assets/colab-badge.svg\" alt=\"Open In Colab\"/></a>"
      ]
    },
    {
      "cell_type": "markdown",
      "source": [
        "# Examples of shell scripting from lecture"
      ],
      "metadata": {
        "id": "74Pde0WsdbA2"
      }
    },
    {
      "cell_type": "markdown",
      "source": [
        "### Variables"
      ],
      "metadata": {
        "id": "0ChA7yFzd8y4"
      }
    },
    {
      "cell_type": "code",
      "execution_count": 3,
      "metadata": {
        "colab": {
          "base_uri": "https://localhost:8080/"
        },
        "id": "sdbHB3ocdG3l",
        "outputId": "50c8e9f9-f9af-4c3e-db5d-d4b1741d5813"
      },
      "outputs": [
        {
          "output_type": "stream",
          "name": "stdout",
          "text": [
            "30 40\n",
            "70\n"
          ]
        },
        {
          "output_type": "execute_result",
          "data": {
            "text/plain": [
              ""
            ]
          },
          "metadata": {},
          "execution_count": 3
        }
      ],
      "source": [
        "# script to test variables\n",
        "\n",
        "%%shell\n",
        "\n",
        "# define two variables\n",
        "var1=30\n",
        "var2=40\n",
        "\n",
        "# output the value of these variables\n",
        "echo $var1 $var2\n",
        "echo $(($var1 + $var2)) # need two brackets"
      ]
    },
    {
      "cell_type": "markdown",
      "source": [
        "### For loop"
      ],
      "metadata": {
        "id": "nU6pmbgId_62"
      }
    },
    {
      "cell_type": "code",
      "source": [
        "%%shell\n",
        "\n",
        "for i in $(seq 1 10)\n",
        "\n",
        "do\n",
        "  echo \"Counting from 1 to 10, now at\" $i\n",
        "done"
      ],
      "metadata": {
        "colab": {
          "base_uri": "https://localhost:8080/"
        },
        "id": "u10aE09xeDun",
        "outputId": "24cb2b99-df0b-4303-f5af-268f6e709dee"
      },
      "execution_count": 7,
      "outputs": [
        {
          "output_type": "stream",
          "name": "stdout",
          "text": [
            "Counting from 1 to 10, now at 1\n",
            "Counting from 1 to 10, now at 2\n",
            "Counting from 1 to 10, now at 3\n",
            "Counting from 1 to 10, now at 4\n",
            "Counting from 1 to 10, now at 5\n",
            "Counting from 1 to 10, now at 6\n",
            "Counting from 1 to 10, now at 7\n",
            "Counting from 1 to 10, now at 8\n",
            "Counting from 1 to 10, now at 9\n",
            "Counting from 1 to 10, now at 10\n"
          ]
        },
        {
          "output_type": "execute_result",
          "data": {
            "text/plain": [
              ""
            ]
          },
          "metadata": {},
          "execution_count": 7
        }
      ]
    },
    {
      "cell_type": "markdown",
      "source": [
        "### While loop"
      ],
      "metadata": {
        "id": "F1n9g9kkeYFp"
      }
    },
    {
      "cell_type": "code",
      "source": [
        "%%shell\n",
        "\n",
        "i=5\n",
        "while [ $i -le 10 ] # -le less than or equal to\n",
        "do\n",
        "  echo \"Counting from 5 to 10, now at\" $i\n",
        "  let i=i+1\n",
        "done"
      ],
      "metadata": {
        "colab": {
          "base_uri": "https://localhost:8080/"
        },
        "id": "AbWwh7TlebOn",
        "outputId": "b430a99c-0331-4ae1-c16a-7d56f7f18da6"
      },
      "execution_count": 8,
      "outputs": [
        {
          "output_type": "stream",
          "name": "stdout",
          "text": [
            "Counting from 5 to 10, now at 5\n",
            "Counting from 5 to 10, now at 6\n",
            "Counting from 5 to 10, now at 7\n",
            "Counting from 5 to 10, now at 8\n",
            "Counting from 5 to 10, now at 9\n",
            "Counting from 5 to 10, now at 10\n"
          ]
        },
        {
          "output_type": "execute_result",
          "data": {
            "text/plain": [
              ""
            ]
          },
          "metadata": {},
          "execution_count": 8
        }
      ]
    },
    {
      "cell_type": "code",
      "source": [
        "%%shell\n",
        "\n",
        "i=15\n",
        "while [ $i -ge 10 ] \n",
        "do\n",
        "  echo \"Counting from 15 to 10, now at\" $i\n",
        "  let i=i-1\n",
        "done"
      ],
      "metadata": {
        "colab": {
          "base_uri": "https://localhost:8080/"
        },
        "id": "ZVD-DxAsesWJ",
        "outputId": "2f548e49-c97c-482b-b7b6-b1ece6b6b2ec"
      },
      "execution_count": 13,
      "outputs": [
        {
          "output_type": "stream",
          "name": "stdout",
          "text": [
            "Counting from 15 to 10, now at 15\n",
            "Counting from 15 to 10, now at 14\n",
            "Counting from 15 to 10, now at 13\n",
            "Counting from 15 to 10, now at 12\n",
            "Counting from 15 to 10, now at 11\n",
            "Counting from 15 to 10, now at 10\n"
          ]
        },
        {
          "output_type": "execute_result",
          "data": {
            "text/plain": [
              ""
            ]
          },
          "metadata": {},
          "execution_count": 13
        }
      ]
    },
    {
      "cell_type": "markdown",
      "source": [
        "-gt greater than\n",
        "\n",
        "-ge greater than equal to\n",
        "\n",
        "-lt less than\n",
        "\n",
        "-le less than or equal to"
      ],
      "metadata": {
        "id": "rfSPen1ofHwg"
      }
    },
    {
      "cell_type": "markdown",
      "source": [
        "### Bash function"
      ],
      "metadata": {
        "id": "oY9zSj8NfTgu"
      }
    },
    {
      "cell_type": "code",
      "source": [
        "%%shell\n",
        "\n",
        "function plus {\n",
        "  let result=\"$1 + $2\"\n",
        "  echo $1 + $2 = $result\n",
        "}\n",
        "plus 3 10"
      ],
      "metadata": {
        "colab": {
          "base_uri": "https://localhost:8080/"
        },
        "id": "y-9jc7C7fiOS",
        "outputId": "fa6e7d91-3471-484e-d9f7-52ded629bab9"
      },
      "execution_count": 20,
      "outputs": [
        {
          "output_type": "stream",
          "name": "stdout",
          "text": [
            "3 + 10 = 13\n"
          ]
        },
        {
          "output_type": "execute_result",
          "data": {
            "text/plain": [
              ""
            ]
          },
          "metadata": {},
          "execution_count": 20
        }
      ]
    },
    {
      "cell_type": "markdown",
      "source": [
        "# Shell scripting exercises"
      ],
      "metadata": {
        "id": "_wH-hRH0gLHG"
      }
    },
    {
      "cell_type": "markdown",
      "source": [
        "https://medium.com/@sankad_19852/shell-scripting-exercises-5eb7220c2252"
      ],
      "metadata": {
        "id": "BpEVsNwngOJs"
      }
    },
    {
      "cell_type": "markdown",
      "source": [
        "Exercise_4 - Write a shell script to check to see if the file “file_path” exists. If it does exist, display “file_path passwords are enabled.” Next, check to see if you can write to the file. If you can, display “You have permissions to edit “file_path.””If you cannot, display “You do NOT have permissions to edit “file_path””"
      ],
      "metadata": {
        "id": "JKqzNFBcgSHA"
      }
    },
    {
      "cell_type": "code",
      "source": [
        "%%shell\n",
        "\n",
        "name=\"/content/sample_data/california_housing_test.csv\" # no space before \"=\"\n",
        "\n",
        "if [ -e \"$name\" ] #bracket should be large\n",
        "    then echo \"$name passwords are enabled\"\n",
        "fi\n",
        "\n",
        "if [ -x \"$name\" ]\n",
        "    then \n",
        "        echo \"permitted\"\n",
        "    else\n",
        "        echo \"not permitted\"\n",
        "fi"
      ],
      "metadata": {
        "colab": {
          "base_uri": "https://localhost:8080/"
        },
        "id": "7s-VfJfehO2h",
        "outputId": "57c5f638-cac7-481a-8191-2f9bf22b6dd6"
      },
      "execution_count": 29,
      "outputs": [
        {
          "output_type": "stream",
          "name": "stdout",
          "text": [
            "/content/sample_data/california_housing_test.csv passwords are enabled\n",
            "not permitted\n"
          ]
        },
        {
          "output_type": "execute_result",
          "data": {
            "text/plain": [
              ""
            ]
          },
          "metadata": {},
          "execution_count": 29
        }
      ]
    },
    {
      "cell_type": "markdown",
      "source": [
        "Exercise_5 - Write a shell script that displays “man”,”bear”,”pig”,”dog”,”cat”,and “sheep” on the screen with each appearing on a separate line. Try to do this in as few lines as possible."
      ],
      "metadata": {
        "id": "rkZ6t1zCiIgS"
      }
    },
    {
      "cell_type": "code",
      "source": [
        "%%shell\n",
        "\n",
        "animals=\"man bear pig dog cat sheep\"\n",
        "\n",
        "for animal in $animals; do\n",
        "\n",
        "    echo $animal\n",
        "\n",
        "done"
      ],
      "metadata": {
        "colab": {
          "base_uri": "https://localhost:8080/"
        },
        "id": "AciIarsniI93",
        "outputId": "e7aa67de-4c37-446f-d9de-43f2de1de8fd"
      },
      "execution_count": 33,
      "outputs": [
        {
          "output_type": "stream",
          "name": "stdout",
          "text": [
            "man\n",
            "bear\n",
            "pig\n",
            "dog\n",
            "cat\n",
            "sheep\n"
          ]
        },
        {
          "output_type": "execute_result",
          "data": {
            "text/plain": [
              ""
            ]
          },
          "metadata": {},
          "execution_count": 33
        }
      ]
    },
    {
      "cell_type": "markdown",
      "source": [
        "Exercise_6 - write a shell script that prompts the user for a name of a file or directory and reports if it is a regular file, a directory, or another type of file. Also perform an ls command against the file or directory with the long listing option."
      ],
      "metadata": {
        "id": "XYgxz_rpijfp"
      }
    },
    {
      "cell_type": "code",
      "source": [
        "%%shell\n",
        "\n",
        "echo \"enter a path\"\n",
        "read path\n",
        "\n",
        "if [ -f $path ] \n",
        "    then \n",
        "        echo \"file\" \n",
        "    elif [ -d $path ] \n",
        "        then\n",
        "            echo \"directory\"\n",
        "    else\n",
        "        echo \"neither\"\n",
        "fi\n",
        "\n",
        "ls -l $path"
      ],
      "metadata": {
        "colab": {
          "base_uri": "https://localhost:8080/"
        },
        "id": "9Tn2M8DlikJO",
        "outputId": "f4ea2c1d-19d6-4c91-feec-7aba430f78c5"
      },
      "execution_count": 41,
      "outputs": [
        {
          "output_type": "stream",
          "name": "stdout",
          "text": [
            "enter a path\n",
            "/content/sample_data/README.md\n",
            "file\n",
            "-rwxr-xr-x 1 root root 930 Jan  1  2000 /content/sample_data/README.md\n"
          ]
        },
        {
          "output_type": "execute_result",
          "data": {
            "text/plain": [
              ""
            ]
          },
          "metadata": {},
          "execution_count": 41
        }
      ]
    },
    {
      "cell_type": "markdown",
      "source": [
        "Exercise_7 - Modify the previous script to that it accepts the file or directory name as an argument instead of prompting the user to enter it"
      ],
      "metadata": {
        "id": "sf9q94f-jgIs"
      }
    },
    {
      "cell_type": "code",
      "source": [
        "%%shell\n",
        "\n",
        "function checkfile {\n",
        "    \n",
        "  if [ -f $1 ] \n",
        "    then \n",
        "        echo \"file\" \n",
        "    elif [ -d $1 ] \n",
        "        then\n",
        "            echo \"directory\"\n",
        "    else\n",
        "        echo \"neither\"\n",
        "  fi\n",
        "\n",
        "  ls -l $1\n",
        "\n",
        "}\n",
        "\n",
        "checkfile /content/sample_data/anscombe.json\n",
        "checkfile /content/sample_data"
      ],
      "metadata": {
        "colab": {
          "base_uri": "https://localhost:8080/"
        },
        "id": "VvXbmHU4jgnH",
        "outputId": "fe408efe-8b3f-4bae-f6c2-1c2c7f412f5b"
      },
      "execution_count": 43,
      "outputs": [
        {
          "output_type": "stream",
          "name": "stdout",
          "text": [
            "file\n",
            "-rwxr-xr-x 1 root root 1697 Jan  1  2000 /content/sample_data/anscombe.json\n",
            "directory\n",
            "total 55504\n",
            "-rwxr-xr-x 1 root root     1697 Jan  1  2000 anscombe.json\n",
            "-rw-r--r-- 1 root root   301141 Feb 18 14:33 california_housing_test.csv\n",
            "-rw-r--r-- 1 root root  1706430 Feb 18 14:33 california_housing_train.csv\n",
            "-rw-r--r-- 1 root root 18289443 Feb 18 14:33 mnist_test.csv\n",
            "-rw-r--r-- 1 root root 36523880 Feb 18 14:33 mnist_train_small.csv\n",
            "-rwxr-xr-x 1 root root      930 Jan  1  2000 README.md\n"
          ]
        },
        {
          "output_type": "execute_result",
          "data": {
            "text/plain": [
              ""
            ]
          },
          "metadata": {},
          "execution_count": 43
        }
      ]
    },
    {
      "cell_type": "markdown",
      "source": [
        "Exercise_8 - Modify the previous script to accept an unlimited number of files and directories as arguments."
      ],
      "metadata": {
        "id": "Vjm6ERedj7B5"
      }
    },
    {
      "cell_type": "code",
      "source": [
        "%%shell\n",
        "\n",
        "function checkfile {\n",
        "\n",
        "    files=$@\n",
        "    \n",
        "    for file in $files; do\n",
        "    \n",
        "        if [ -f $file ] \n",
        "            then \n",
        "                echo \"file\" \n",
        "            elif [ -d $file ] \n",
        "                then\n",
        "                    echo \"directory\"\n",
        "            else\n",
        "                echo \"neither\"\n",
        "        fi\n",
        "\n",
        "        ls -l $file\n",
        "\n",
        "    done\n",
        "\n",
        "}\n",
        "\n",
        "checkfile /content/sample_data/anscombe.json /content/sample_data"
      ],
      "metadata": {
        "colab": {
          "base_uri": "https://localhost:8080/"
        },
        "id": "sCOv5cxckdR7",
        "outputId": "b791e275-b342-484e-b844-e24af968151b"
      },
      "execution_count": 47,
      "outputs": [
        {
          "output_type": "stream",
          "name": "stdout",
          "text": [
            "file\n",
            "-rwxr-xr-x 1 root root 1697 Jan  1  2000 /content/sample_data/anscombe.json\n",
            "directory\n",
            "total 55504\n",
            "-rwxr-xr-x 1 root root     1697 Jan  1  2000 anscombe.json\n",
            "-rw-r--r-- 1 root root   301141 Feb 18 14:33 california_housing_test.csv\n",
            "-rw-r--r-- 1 root root  1706430 Feb 18 14:33 california_housing_train.csv\n",
            "-rw-r--r-- 1 root root 18289443 Feb 18 14:33 mnist_test.csv\n",
            "-rw-r--r-- 1 root root 36523880 Feb 18 14:33 mnist_train_small.csv\n",
            "-rwxr-xr-x 1 root root      930 Jan  1  2000 README.md\n"
          ]
        },
        {
          "output_type": "execute_result",
          "data": {
            "text/plain": [
              ""
            ]
          },
          "metadata": {},
          "execution_count": 47
        }
      ]
    },
    {
      "cell_type": "markdown",
      "source": [
        "Exercise_10 - Write a shell script that accepts a file or directory name as an argument. Have the script report if it is reguler file, a directory, or another type of file. If it is a directory, exit with a 1 exit status. If it is some other type of file, exit with a 2 exit status."
      ],
      "metadata": {
        "id": "93AYljWck-cx"
      }
    },
    {
      "cell_type": "code",
      "source": [
        "%%shell\n",
        "\n",
        "function checkfile {\n",
        "    \n",
        "  if [ -f $1 ] \n",
        "    then \n",
        "        echo \"file\" \n",
        "        exit 0\n",
        "    elif [ -d $1 ] \n",
        "        then\n",
        "            echo \"directory\"\n",
        "            exit 1\n",
        "    else\n",
        "        echo \"neither\"\n",
        "        exit 2\n",
        "  fi\n",
        "\n",
        "}\n",
        "\n",
        "checkfile /content/sample_data/anscombe.json\n",
        "checkfile /content/sample_data"
      ],
      "metadata": {
        "colab": {
          "base_uri": "https://localhost:8080/"
        },
        "id": "Iai2x1ZllFGR",
        "outputId": "9755311c-7e9d-4cce-86af-4742716d80c9"
      },
      "execution_count": 49,
      "outputs": [
        {
          "output_type": "stream",
          "name": "stdout",
          "text": [
            "file\n"
          ]
        },
        {
          "output_type": "execute_result",
          "data": {
            "text/plain": [
              ""
            ]
          },
          "metadata": {},
          "execution_count": 49
        }
      ]
    },
    {
      "cell_type": "markdown",
      "source": [
        "Exercise_12 - Write a shell script that consists of a function that displays the number of files in the present working directory. Name this function “file_count” and call it in your script. If you use variable in your function, remember to make it a local variable."
      ],
      "metadata": {
        "id": "0ONEDOJamKQE"
      }
    },
    {
      "cell_type": "code",
      "source": [
        "%%shell\n",
        "\n",
        "function filecount {\n",
        "\n",
        "    if [ -d $1 ]\n",
        "        then\n",
        "            num=$(ls $1 | wc -l)\n",
        "            echo $num\n",
        "        else\n",
        "            echo not a directory\n",
        "    fi\n",
        "\n",
        "}\n",
        "\n",
        "filecount /content/sample_data"
      ],
      "metadata": {
        "colab": {
          "base_uri": "https://localhost:8080/"
        },
        "id": "NB4_K4C2mK00",
        "outputId": "28a71670-bd84-468d-f157-05f40894b8b8"
      },
      "execution_count": 54,
      "outputs": [
        {
          "output_type": "stream",
          "name": "stdout",
          "text": [
            "6\n"
          ]
        },
        {
          "output_type": "execute_result",
          "data": {
            "text/plain": [
              ""
            ]
          },
          "metadata": {},
          "execution_count": 54
        }
      ]
    },
    {
      "cell_type": "markdown",
      "source": [
        "Exercise_14 - Write the shell script that renames all files in the current directory that end in “.csv” to begin with today’s date in the following format: YYYY-MM-DD."
      ],
      "metadata": {
        "id": "j73giKZpnomy"
      }
    },
    {
      "cell_type": "code",
      "source": [
        "%%shell\n",
        "\n",
        "cd sample_data\n",
        "\n",
        "day=$(date +%F)\n",
        "\n",
        "for file in *.csv; do\n",
        "    cp $file ../${day}_${file}\n",
        "    done"
      ],
      "metadata": {
        "colab": {
          "base_uri": "https://localhost:8080/"
        },
        "id": "DHGtq7amnpSR",
        "outputId": "8e16e2c9-32b8-4181-d405-e026f8808e19"
      },
      "execution_count": 67,
      "outputs": [
        {
          "output_type": "execute_result",
          "data": {
            "text/plain": [
              ""
            ]
          },
          "metadata": {},
          "execution_count": 67
        }
      ]
    },
    {
      "cell_type": "code",
      "source": [
        "!ls"
      ],
      "metadata": {
        "colab": {
          "base_uri": "https://localhost:8080/"
        },
        "id": "SMe6IWnEo18D",
        "outputId": "6400867f-087c-4ba6-a0a4-8c5d530cef7b"
      },
      "execution_count": 69,
      "outputs": [
        {
          "output_type": "stream",
          "name": "stdout",
          "text": [
            "2022-03-07_california_housing_test.csv\t 2022-03-07_mnist_train_small.csv\n",
            "2022-03-07_california_housing_train.csv  sample_data\n",
            "2022-03-07_mnist_test.csv\n"
          ]
        }
      ]
    },
    {
      "cell_type": "markdown",
      "source": [
        "Exercise_15 - Write the script that renames files based on the file extension. Next,It should ask the user what prefix to prepend to the file name(s). By default, the prefix should be the current date in YYYY-MM-DD format. If the user simply press enter,the current date will be used. Otherwise,whatever the user entered will be used as the prefix. Next,it should display the original file name and new name of the file. Finally,it should rename the file."
      ],
      "metadata": {
        "id": "0-4zVGGPpeXb"
      }
    },
    {
      "cell_type": "code",
      "source": [
        "%%shell\n",
        "\n",
        "echo \"enter extention\"\n",
        "read ext\n",
        "\n",
        "echo \"enter prefix\"\n",
        "read prefix\n",
        "\n",
        "day=$(date +%F)\n",
        "\n",
        "if [ $prefix ]\n",
        "    then pref=$prefix\n",
        "    else pref=$day\n",
        "fi\n",
        "\n",
        "for file in *.${ext}; do\n",
        "    echo $file\n",
        "    echo ${pref}_${file}\n",
        "    mv $file ${pref}_${file}\n",
        "done"
      ],
      "metadata": {
        "colab": {
          "base_uri": "https://localhost:8080/"
        },
        "id": "rSl5o3KUplQo",
        "outputId": "91c2956e-44e3-4708-9a9d-b17a17d43ef5"
      },
      "execution_count": 74,
      "outputs": [
        {
          "output_type": "stream",
          "name": "stdout",
          "text": [
            "enter extention\n",
            "csv\n",
            "enter prefix\n",
            "hihi\n",
            "_2022-03-07_california_housing_test.csv\n",
            "hihi__2022-03-07_california_housing_test.csv\n",
            "_2022-03-07_california_housing_train.csv\n",
            "hihi__2022-03-07_california_housing_train.csv\n",
            "_2022-03-07_mnist_test.csv\n",
            "hihi__2022-03-07_mnist_test.csv\n",
            "_2022-03-07_mnist_train_small.csv\n",
            "hihi__2022-03-07_mnist_train_small.csv\n"
          ]
        },
        {
          "output_type": "execute_result",
          "data": {
            "text/plain": [
              ""
            ]
          },
          "metadata": {},
          "execution_count": 74
        }
      ]
    }
  ]
}