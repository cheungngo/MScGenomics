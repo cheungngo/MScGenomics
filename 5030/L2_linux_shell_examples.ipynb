{
  "nbformat": 4,
  "nbformat_minor": 0,
  "metadata": {
    "colab": {
      "name": "L2_linux_shell_examples.ipynb",
      "provenance": [],
      "mount_file_id": "1Ssnsqloovzcct9R-coXEir4iuUUhFgO4",
      "authorship_tag": "ABX9TyNFOGGyLgZwIbnZBYUM/JMT",
      "include_colab_link": true
    },
    "kernelspec": {
      "name": "python3",
      "display_name": "Python 3"
    },
    "language_info": {
      "name": "python"
    }
  },
  "cells": [
    {
      "cell_type": "markdown",
      "metadata": {
        "id": "view-in-github",
        "colab_type": "text"
      },
      "source": [
        "<a href=\"https://colab.research.google.com/github/cheungngo/MScGenomics/blob/master/5030/L2_linux_shell_examples.ipynb\" target=\"_parent\"><img src=\"https://colab.research.google.com/assets/colab-badge.svg\" alt=\"Open In Colab\"/></a>"
      ]
    },
    {
      "cell_type": "markdown",
      "source": [
        "# Lecture 2: Linux shell (examples)"
      ],
      "metadata": {
        "id": "UDzUW4iOggnO"
      }
    },
    {
      "cell_type": "code",
      "source": [
        "# loading the data\n",
        "\n",
        "!mkdir -p 5030/lec2\n",
        "%cd 5030/lec2\n",
        "\n",
        "!ln -s \"/content/drive/MyDrive/Colab Notebooks/5030/genomes/BDGP6.Ensembl.93.gtf\""
      ],
      "metadata": {
        "colab": {
          "base_uri": "https://localhost:8080/"
        },
        "id": "ZVlvIKQTg2hy",
        "outputId": "95f9606c-2f5e-4cfd-930c-b4283b90baad"
      },
      "execution_count": 3,
      "outputs": [
        {
          "output_type": "stream",
          "name": "stdout",
          "text": [
            "/content/5030/lec2/5030/lec2\n"
          ]
        }
      ]
    },
    {
      "cell_type": "code",
      "execution_count": 5,
      "metadata": {
        "id": "tEQarptrgWaS"
      },
      "outputs": [],
      "source": [
        "# visualizing the data\n",
        "\n",
        "!head -100 BDGP6.Ensembl.93.gtf > BDGP6.head100.gtf"
      ]
    },
    {
      "cell_type": "code",
      "source": [
        "!head BDGP6.head100.gtf"
      ],
      "metadata": {
        "colab": {
          "base_uri": "https://localhost:8080/"
        },
        "id": "7fm9OUURiBg0",
        "outputId": "ea2e5624-bf02-4f40-e863-7bbc404d6f8b"
      },
      "execution_count": 6,
      "outputs": [
        {
          "output_type": "stream",
          "name": "stdout",
          "text": [
            "#!genome-build BDGP6\n",
            "#!genome-version BDGP6\n",
            "#!genome-date 2014-07\n",
            "#!genome-build-accession GCA_000001215.4\n",
            "3R\tFlyBase\tgene\t567076\t2532932\t.\t+\t.\tgene_id \"FBgn0267431\"; gene_name \"Myo81F\"; gene_source \"FlyBase\"; gene_biotype \"protein_coding\";\n",
            "3R\tFlyBase\ttranscript\t567076\t2532932\t.\t+\t.\tgene_id \"FBgn0267431\"; transcript_id \"FBtr0392909\"; gene_name \"Myo81F\"; gene_source \"FlyBase\"; gene_biotype \"protein_coding\"; transcript_name \"Myo81F-RB\"; transcript_source \"FlyBase\"; transcript_biotype \"protein_coding\";\n",
            "3R\tFlyBase\texon\t567076\t567268\t.\t+\t.\tgene_id \"FBgn0267431\"; transcript_id \"FBtr0392909\"; exon_number \"1\"; gene_name \"Myo81F\"; gene_source \"FlyBase\"; gene_biotype \"protein_coding\"; transcript_name \"Myo81F-RB\"; transcript_source \"FlyBase\"; transcript_biotype \"protein_coding\"; exon_id \"FBtr0392909-E1\";\n",
            "3R\tFlyBase\texon\t835376\t835491\t.\t+\t.\tgene_id \"FBgn0267431\"; transcript_id \"FBtr0392909\"; exon_number \"2\"; gene_name \"Myo81F\"; gene_source \"FlyBase\"; gene_biotype \"protein_coding\"; transcript_name \"Myo81F-RB\"; transcript_source \"FlyBase\"; transcript_biotype \"protein_coding\"; exon_id \"FBtr0392909-E2\";\n",
            "3R\tFlyBase\tCDS\t835378\t835491\t.\t+\t0\tgene_id \"FBgn0267431\"; transcript_id \"FBtr0392909\"; exon_number \"2\"; gene_name \"Myo81F\"; gene_source \"FlyBase\"; gene_biotype \"protein_coding\"; transcript_name \"Myo81F-RB\"; transcript_source \"FlyBase\"; transcript_biotype \"protein_coding\"; protein_id \"FBpp0352251\"; protein_version \"1\";\n",
            "3R\tFlyBase\tstart_codon\t835378\t835380\t.\t+\t0\tgene_id \"FBgn0267431\"; transcript_id \"FBtr0392909\"; exon_number \"2\"; gene_name \"Myo81F\"; gene_source \"FlyBase\"; gene_biotype \"protein_coding\"; transcript_name \"Myo81F-RB\"; transcript_source \"FlyBase\"; transcript_biotype \"protein_coding\";\n"
          ]
        }
      ]
    },
    {
      "cell_type": "markdown",
      "source": [
        "### Example 1: finding feature types available for gene \"fzo\""
      ],
      "metadata": {
        "id": "fDPNUNp4gn1b"
      }
    },
    {
      "cell_type": "code",
      "source": [
        "!grep fzo BDGP6.Ensembl.93.gtf | cut -f3 | sort | uniq\n",
        "# | sort | uniq can be omitted"
      ],
      "metadata": {
        "colab": {
          "base_uri": "https://localhost:8080/"
        },
        "id": "9373peKviEev",
        "outputId": "b5c8b22b-51c4-4b2a-e6d6-7f8d2ebbcca2"
      },
      "execution_count": 14,
      "outputs": [
        {
          "output_type": "stream",
          "name": "stdout",
          "text": [
            "CDS\n",
            "exon\n",
            "five_prime_utr\n",
            "gene\n",
            "start_codon\n",
            "three_prime_utr\n",
            "transcript\n"
          ]
        }
      ]
    },
    {
      "cell_type": "markdown",
      "source": [
        "### Example 2: What transcript_ids are associated with Fis1?"
      ],
      "metadata": {
        "id": "vCQGKGHligz2"
      }
    },
    {
      "cell_type": "code",
      "source": [
        "# grep the \"fis1\"\n",
        "!grep -i fis1 BDGP6.Ensembl.93.gtf | head"
      ],
      "metadata": {
        "colab": {
          "base_uri": "https://localhost:8080/"
        },
        "id": "IHmLqWyfjLP2",
        "outputId": "bc74e6a9-8d72-40ac-d46d-c05bda757bdb"
      },
      "execution_count": 9,
      "outputs": [
        {
          "output_type": "stream",
          "name": "stdout",
          "text": [
            "2R\tFlyBase\tgene\t5603587\t5604834\t.\t-\t.\tgene_id \"FBgn0039969\"; gene_name \"Fis1\"; gene_source \"FlyBase\"; gene_biotype \"protein_coding\";\n",
            "2R\tFlyBase\ttranscript\t5603587\t5604834\t.\t-\t.\tgene_id \"FBgn0039969\"; transcript_id \"FBtr0273208\"; gene_name \"Fis1\"; gene_source \"FlyBase\"; gene_biotype \"protein_coding\"; transcript_name \"Fis1-RC\"; transcript_source \"FlyBase\"; transcript_biotype \"protein_coding\";\n",
            "2R\tFlyBase\texon\t5604710\t5604834\t.\t-\t.\tgene_id \"FBgn0039969\"; transcript_id \"FBtr0273208\"; exon_number \"1\"; gene_name \"Fis1\"; gene_source \"FlyBase\"; gene_biotype \"protein_coding\"; transcript_name \"Fis1-RC\"; transcript_source \"FlyBase\"; transcript_biotype \"protein_coding\"; exon_id \"FBtr0273210-E1\";\n",
            "2R\tFlyBase\tCDS\t5604710\t5604754\t.\t-\t0\tgene_id \"FBgn0039969\"; transcript_id \"FBtr0273208\"; exon_number \"1\"; gene_name \"Fis1\"; gene_source \"FlyBase\"; gene_biotype \"protein_coding\"; transcript_name \"Fis1-RC\"; transcript_source \"FlyBase\"; transcript_biotype \"protein_coding\"; protein_id \"FBpp0271716\"; protein_version \"1\";\n",
            "2R\tFlyBase\tstart_codon\t5604752\t5604754\t.\t-\t0\tgene_id \"FBgn0039969\"; transcript_id \"FBtr0273208\"; exon_number \"1\"; gene_name \"Fis1\"; gene_source \"FlyBase\"; gene_biotype \"protein_coding\"; transcript_name \"Fis1-RC\"; transcript_source \"FlyBase\"; transcript_biotype \"protein_coding\";\n",
            "2R\tFlyBase\texon\t5604583\t5604650\t.\t-\t.\tgene_id \"FBgn0039969\"; transcript_id \"FBtr0273208\"; exon_number \"2\"; gene_name \"Fis1\"; gene_source \"FlyBase\"; gene_biotype \"protein_coding\"; transcript_name \"Fis1-RC\"; transcript_source \"FlyBase\"; transcript_biotype \"protein_coding\"; exon_id \"FBtr0273210-E2\";\n",
            "2R\tFlyBase\tCDS\t5604583\t5604650\t.\t-\t0\tgene_id \"FBgn0039969\"; transcript_id \"FBtr0273208\"; exon_number \"2\"; gene_name \"Fis1\"; gene_source \"FlyBase\"; gene_biotype \"protein_coding\"; transcript_name \"Fis1-RC\"; transcript_source \"FlyBase\"; transcript_biotype \"protein_coding\"; protein_id \"FBpp0271716\"; protein_version \"1\";\n",
            "2R\tFlyBase\texon\t5604468\t5604516\t.\t-\t.\tgene_id \"FBgn0039969\"; transcript_id \"FBtr0273208\"; exon_number \"3\"; gene_name \"Fis1\"; gene_source \"FlyBase\"; gene_biotype \"protein_coding\"; transcript_name \"Fis1-RC\"; transcript_source \"FlyBase\"; transcript_biotype \"protein_coding\"; exon_id \"FBtr0273210-E3\";\n",
            "2R\tFlyBase\tCDS\t5604468\t5604516\t.\t-\t1\tgene_id \"FBgn0039969\"; transcript_id \"FBtr0273208\"; exon_number \"3\"; gene_name \"Fis1\"; gene_source \"FlyBase\"; gene_biotype \"protein_coding\"; transcript_name \"Fis1-RC\"; transcript_source \"FlyBase\"; transcript_biotype \"protein_coding\"; protein_id \"FBpp0271716\"; protein_version \"1\";\n",
            "2R\tFlyBase\texon\t5604244\t5604411\t.\t-\t.\tgene_id \"FBgn0039969\"; transcript_id \"FBtr0273208\"; exon_number \"4\"; gene_name \"Fis1\"; gene_source \"FlyBase\"; gene_biotype \"protein_coding\"; transcript_name \"Fis1-RC\"; transcript_source \"FlyBase\"; transcript_biotype \"protein_coding\"; exon_id \"FBtr0273210-E4\";\n"
          ]
        }
      ]
    },
    {
      "cell_type": "code",
      "source": [
        "# focus on the ninth column\n",
        "!grep -i fis1 BDGP6.Ensembl.93.gtf | cut -f9 | head"
      ],
      "metadata": {
        "colab": {
          "base_uri": "https://localhost:8080/"
        },
        "id": "Ued1_arqjV6l",
        "outputId": "2ee58460-5ca3-4cc3-9661-c617ba53dbfb"
      },
      "execution_count": 10,
      "outputs": [
        {
          "output_type": "stream",
          "name": "stdout",
          "text": [
            "gene_id \"FBgn0039969\"; gene_name \"Fis1\"; gene_source \"FlyBase\"; gene_biotype \"protein_coding\";\n",
            "gene_id \"FBgn0039969\"; transcript_id \"FBtr0273208\"; gene_name \"Fis1\"; gene_source \"FlyBase\"; gene_biotype \"protein_coding\"; transcript_name \"Fis1-RC\"; transcript_source \"FlyBase\"; transcript_biotype \"protein_coding\";\n",
            "gene_id \"FBgn0039969\"; transcript_id \"FBtr0273208\"; exon_number \"1\"; gene_name \"Fis1\"; gene_source \"FlyBase\"; gene_biotype \"protein_coding\"; transcript_name \"Fis1-RC\"; transcript_source \"FlyBase\"; transcript_biotype \"protein_coding\"; exon_id \"FBtr0273210-E1\";\n",
            "gene_id \"FBgn0039969\"; transcript_id \"FBtr0273208\"; exon_number \"1\"; gene_name \"Fis1\"; gene_source \"FlyBase\"; gene_biotype \"protein_coding\"; transcript_name \"Fis1-RC\"; transcript_source \"FlyBase\"; transcript_biotype \"protein_coding\"; protein_id \"FBpp0271716\"; protein_version \"1\";\n",
            "gene_id \"FBgn0039969\"; transcript_id \"FBtr0273208\"; exon_number \"1\"; gene_name \"Fis1\"; gene_source \"FlyBase\"; gene_biotype \"protein_coding\"; transcript_name \"Fis1-RC\"; transcript_source \"FlyBase\"; transcript_biotype \"protein_coding\";\n",
            "gene_id \"FBgn0039969\"; transcript_id \"FBtr0273208\"; exon_number \"2\"; gene_name \"Fis1\"; gene_source \"FlyBase\"; gene_biotype \"protein_coding\"; transcript_name \"Fis1-RC\"; transcript_source \"FlyBase\"; transcript_biotype \"protein_coding\"; exon_id \"FBtr0273210-E2\";\n",
            "gene_id \"FBgn0039969\"; transcript_id \"FBtr0273208\"; exon_number \"2\"; gene_name \"Fis1\"; gene_source \"FlyBase\"; gene_biotype \"protein_coding\"; transcript_name \"Fis1-RC\"; transcript_source \"FlyBase\"; transcript_biotype \"protein_coding\"; protein_id \"FBpp0271716\"; protein_version \"1\";\n",
            "gene_id \"FBgn0039969\"; transcript_id \"FBtr0273208\"; exon_number \"3\"; gene_name \"Fis1\"; gene_source \"FlyBase\"; gene_biotype \"protein_coding\"; transcript_name \"Fis1-RC\"; transcript_source \"FlyBase\"; transcript_biotype \"protein_coding\"; exon_id \"FBtr0273210-E3\";\n",
            "gene_id \"FBgn0039969\"; transcript_id \"FBtr0273208\"; exon_number \"3\"; gene_name \"Fis1\"; gene_source \"FlyBase\"; gene_biotype \"protein_coding\"; transcript_name \"Fis1-RC\"; transcript_source \"FlyBase\"; transcript_biotype \"protein_coding\"; protein_id \"FBpp0271716\"; protein_version \"1\";\n",
            "gene_id \"FBgn0039969\"; transcript_id \"FBtr0273208\"; exon_number \"4\"; gene_name \"Fis1\"; gene_source \"FlyBase\"; gene_biotype \"protein_coding\"; transcript_name \"Fis1-RC\"; transcript_source \"FlyBase\"; transcript_biotype \"protein_coding\"; exon_id \"FBtr0273210-E4\";\n"
          ]
        }
      ]
    },
    {
      "cell_type": "code",
      "source": [
        "# grep the \"transcript_id\"\n",
        "!grep -i fis1 BDGP6.Ensembl.93.gtf | cut -f9 | grep transcript_id | head"
      ],
      "metadata": {
        "colab": {
          "base_uri": "https://localhost:8080/"
        },
        "id": "AO8pZCoIjdDk",
        "outputId": "ef96a77e-7a0e-4ba2-bc59-5c69c718dda9"
      },
      "execution_count": 12,
      "outputs": [
        {
          "output_type": "stream",
          "name": "stdout",
          "text": [
            "gene_id \"FBgn0039969\"; transcript_id \"FBtr0273208\"; gene_name \"Fis1\"; gene_source \"FlyBase\"; gene_biotype \"protein_coding\"; transcript_name \"Fis1-RC\"; transcript_source \"FlyBase\"; transcript_biotype \"protein_coding\";\n",
            "gene_id \"FBgn0039969\"; transcript_id \"FBtr0273208\"; exon_number \"1\"; gene_name \"Fis1\"; gene_source \"FlyBase\"; gene_biotype \"protein_coding\"; transcript_name \"Fis1-RC\"; transcript_source \"FlyBase\"; transcript_biotype \"protein_coding\"; exon_id \"FBtr0273210-E1\";\n",
            "gene_id \"FBgn0039969\"; transcript_id \"FBtr0273208\"; exon_number \"1\"; gene_name \"Fis1\"; gene_source \"FlyBase\"; gene_biotype \"protein_coding\"; transcript_name \"Fis1-RC\"; transcript_source \"FlyBase\"; transcript_biotype \"protein_coding\"; protein_id \"FBpp0271716\"; protein_version \"1\";\n",
            "gene_id \"FBgn0039969\"; transcript_id \"FBtr0273208\"; exon_number \"1\"; gene_name \"Fis1\"; gene_source \"FlyBase\"; gene_biotype \"protein_coding\"; transcript_name \"Fis1-RC\"; transcript_source \"FlyBase\"; transcript_biotype \"protein_coding\";\n",
            "gene_id \"FBgn0039969\"; transcript_id \"FBtr0273208\"; exon_number \"2\"; gene_name \"Fis1\"; gene_source \"FlyBase\"; gene_biotype \"protein_coding\"; transcript_name \"Fis1-RC\"; transcript_source \"FlyBase\"; transcript_biotype \"protein_coding\"; exon_id \"FBtr0273210-E2\";\n",
            "gene_id \"FBgn0039969\"; transcript_id \"FBtr0273208\"; exon_number \"2\"; gene_name \"Fis1\"; gene_source \"FlyBase\"; gene_biotype \"protein_coding\"; transcript_name \"Fis1-RC\"; transcript_source \"FlyBase\"; transcript_biotype \"protein_coding\"; protein_id \"FBpp0271716\"; protein_version \"1\";\n",
            "gene_id \"FBgn0039969\"; transcript_id \"FBtr0273208\"; exon_number \"3\"; gene_name \"Fis1\"; gene_source \"FlyBase\"; gene_biotype \"protein_coding\"; transcript_name \"Fis1-RC\"; transcript_source \"FlyBase\"; transcript_biotype \"protein_coding\"; exon_id \"FBtr0273210-E3\";\n",
            "gene_id \"FBgn0039969\"; transcript_id \"FBtr0273208\"; exon_number \"3\"; gene_name \"Fis1\"; gene_source \"FlyBase\"; gene_biotype \"protein_coding\"; transcript_name \"Fis1-RC\"; transcript_source \"FlyBase\"; transcript_biotype \"protein_coding\"; protein_id \"FBpp0271716\"; protein_version \"1\";\n",
            "gene_id \"FBgn0039969\"; transcript_id \"FBtr0273208\"; exon_number \"4\"; gene_name \"Fis1\"; gene_source \"FlyBase\"; gene_biotype \"protein_coding\"; transcript_name \"Fis1-RC\"; transcript_source \"FlyBase\"; transcript_biotype \"protein_coding\"; exon_id \"FBtr0273210-E4\";\n",
            "gene_id \"FBgn0039969\"; transcript_id \"FBtr0273208\"; exon_number \"4\"; gene_name \"Fis1\"; gene_source \"FlyBase\"; gene_biotype \"protein_coding\"; transcript_name \"Fis1-RC\"; transcript_source \"FlyBase\"; transcript_biotype \"protein_coding\"; protein_id \"FBpp0271716\"; protein_version \"1\";\n"
          ]
        }
      ]
    },
    {
      "cell_type": "code",
      "source": [
        "# separate this column with the delimiter \"; and select the 4th column\n",
        "!grep -i fis1 BDGP6.Ensembl.93.gtf | cut -f9 | grep transcript_id | cut -f4 -d'\"' | head"
      ],
      "metadata": {
        "colab": {
          "base_uri": "https://localhost:8080/"
        },
        "id": "Y20w2545jlok",
        "outputId": "78f8b062-fd99-4bcf-fc51-331a1f1d9969"
      },
      "execution_count": 13,
      "outputs": [
        {
          "output_type": "stream",
          "name": "stdout",
          "text": [
            "FBtr0273208\n",
            "FBtr0273208\n",
            "FBtr0273208\n",
            "FBtr0273208\n",
            "FBtr0273208\n",
            "FBtr0273208\n",
            "FBtr0273208\n",
            "FBtr0273208\n",
            "FBtr0273208\n",
            "FBtr0273208\n"
          ]
        }
      ]
    },
    {
      "cell_type": "code",
      "source": [
        "# remove the repeated entries\n",
        "!grep -i fis1 BDGP6.Ensembl.93.gtf | cut -f9 | grep transcript_id | cut -f4 -d'\"' | sort | uniq"
      ],
      "metadata": {
        "colab": {
          "base_uri": "https://localhost:8080/"
        },
        "id": "SA7CqYKcimXW",
        "outputId": "6a333095-317d-4177-c9cf-414cbbd69571"
      },
      "execution_count": 15,
      "outputs": [
        {
          "output_type": "stream",
          "name": "stdout",
          "text": [
            "FBtr0086073\n",
            "FBtr0273208\n",
            "FBtr0273209\n",
            "FBtr0273210\n",
            "FBtr0273211\n",
            "FBtr0345012\n"
          ]
        }
      ]
    },
    {
      "cell_type": "markdown",
      "source": [
        "### Example 3: How many PGRP genes are on each chromosome?"
      ],
      "metadata": {
        "id": "eEkgtfkZkG0n"
      }
    },
    {
      "cell_type": "code",
      "source": [
        "# grep pgrp\n",
        "!grep -i pgrp BDGP6.Ensembl.93.gtf | head"
      ],
      "metadata": {
        "colab": {
          "base_uri": "https://localhost:8080/"
        },
        "id": "S-D2x4A9kv3T",
        "outputId": "f7fc56b5-9933-4ef5-a6a9-d16fee3199fc"
      },
      "execution_count": 18,
      "outputs": [
        {
          "output_type": "stream",
          "name": "stdout",
          "text": [
            "3R\tFlyBase\tgene\t11452849\t11460552\t.\t-\t.\tgene_id \"FBgn0037906\"; gene_name \"PGRP-LB\"; gene_source \"FlyBase\"; gene_biotype \"protein_coding\";\n",
            "3R\tFlyBase\ttranscript\t11452849\t11454329\t.\t-\t.\tgene_id \"FBgn0037906\"; transcript_id \"FBtr0306098\"; gene_name \"PGRP-LB\"; gene_source \"FlyBase\"; gene_biotype \"protein_coding\"; transcript_name \"PGRP-LB-RE\"; transcript_source \"FlyBase\"; transcript_biotype \"protein_coding\";\n",
            "3R\tFlyBase\texon\t11454225\t11454329\t.\t-\t.\tgene_id \"FBgn0037906\"; transcript_id \"FBtr0306098\"; exon_number \"1\"; gene_name \"PGRP-LB\"; gene_source \"FlyBase\"; gene_biotype \"protein_coding\"; transcript_name \"PGRP-LB-RE\"; transcript_source \"FlyBase\"; transcript_biotype \"protein_coding\"; exon_id \"FBtr0306098-E1\";\n",
            "3R\tFlyBase\texon\t11453452\t11453820\t.\t-\t.\tgene_id \"FBgn0037906\"; transcript_id \"FBtr0306098\"; exon_number \"2\"; gene_name \"PGRP-LB\"; gene_source \"FlyBase\"; gene_biotype \"protein_coding\"; transcript_name \"PGRP-LB-RE\"; transcript_source \"FlyBase\"; transcript_biotype \"protein_coding\"; exon_id \"FBtr0082398-E2\";\n",
            "3R\tFlyBase\tCDS\t11453452\t11453806\t.\t-\t0\tgene_id \"FBgn0037906\"; transcript_id \"FBtr0306098\"; exon_number \"2\"; gene_name \"PGRP-LB\"; gene_source \"FlyBase\"; gene_biotype \"protein_coding\"; transcript_name \"PGRP-LB-RE\"; transcript_source \"FlyBase\"; transcript_biotype \"protein_coding\"; protein_id \"FBpp0297235\"; protein_version \"1\";\n",
            "3R\tFlyBase\tstart_codon\t11453804\t11453806\t.\t-\t0\tgene_id \"FBgn0037906\"; transcript_id \"FBtr0306098\"; exon_number \"2\"; gene_name \"PGRP-LB\"; gene_source \"FlyBase\"; gene_biotype \"protein_coding\"; transcript_name \"PGRP-LB-RE\"; transcript_source \"FlyBase\"; transcript_biotype \"protein_coding\";\n",
            "3R\tFlyBase\texon\t11452849\t11453299\t.\t-\t.\tgene_id \"FBgn0037906\"; transcript_id \"FBtr0306098\"; exon_number \"3\"; gene_name \"PGRP-LB\"; gene_source \"FlyBase\"; gene_biotype \"protein_coding\"; transcript_name \"PGRP-LB-RE\"; transcript_source \"FlyBase\"; transcript_biotype \"protein_coding\"; exon_id \"FBtr0306097-E3\";\n",
            "3R\tFlyBase\tCDS\t11453010\t11453299\t.\t-\t2\tgene_id \"FBgn0037906\"; transcript_id \"FBtr0306098\"; exon_number \"3\"; gene_name \"PGRP-LB\"; gene_source \"FlyBase\"; gene_biotype \"protein_coding\"; transcript_name \"PGRP-LB-RE\"; transcript_source \"FlyBase\"; transcript_biotype \"protein_coding\"; protein_id \"FBpp0297235\"; protein_version \"1\";\n",
            "3R\tFlyBase\tfive_prime_utr\t11454225\t11454329\t.\t-\t.\tgene_id \"FBgn0037906\"; transcript_id \"FBtr0306098\"; gene_name \"PGRP-LB\"; gene_source \"FlyBase\"; gene_biotype \"protein_coding\"; transcript_name \"PGRP-LB-RE\"; transcript_source \"FlyBase\"; transcript_biotype \"protein_coding\";\n",
            "3R\tFlyBase\tfive_prime_utr\t11453807\t11453820\t.\t-\t.\tgene_id \"FBgn0037906\"; transcript_id \"FBtr0306098\"; gene_name \"PGRP-LB\"; gene_source \"FlyBase\"; gene_biotype \"protein_coding\"; transcript_name \"PGRP-LB-RE\"; transcript_source \"FlyBase\"; transcript_biotype \"protein_coding\";\n"
          ]
        }
      ]
    },
    {
      "cell_type": "code",
      "source": [
        "# grep gene\n",
        "!grep -i pgrp BDGP6.Ensembl.93.gtf | grep -w gene | head # -w is so important"
      ],
      "metadata": {
        "colab": {
          "base_uri": "https://localhost:8080/"
        },
        "id": "b1ea4pavkzWL",
        "outputId": "aa532d80-84bf-4c13-a8ba-4f41d9a012a5"
      },
      "execution_count": 21,
      "outputs": [
        {
          "output_type": "stream",
          "name": "stdout",
          "text": [
            "3R\tFlyBase\tgene\t11452849\t11460552\t.\t-\t.\tgene_id \"FBgn0037906\"; gene_name \"PGRP-LB\"; gene_source \"FlyBase\"; gene_biotype \"protein_coding\";\n",
            "3L\tFlyBase\tgene\t5780051\t5784685\t.\t+\t.\tgene_id \"FBgn0260458\"; gene_name \"PGRP-LD\"; gene_source \"FlyBase\"; gene_biotype \"protein_coding\";\n",
            "3L\tFlyBase\tgene\t7651180\t7651900\t.\t+\t.\tgene_id \"FBgn0035806\"; gene_name \"PGRP-SD\"; gene_source \"FlyBase\"; gene_biotype \"protein_coding\";\n",
            "3L\tFlyBase\tgene\t9334332\t9338336\t.\t+\t.\tgene_id \"FBgn0035975\"; gene_name \"PGRP-LA\"; gene_source \"FlyBase\"; gene_biotype \"protein_coding\";\n",
            "3L\tFlyBase\tgene\t9338810\t9348336\t.\t+\t.\tgene_id \"FBgn0035976\"; gene_name \"PGRP-LC\"; gene_source \"FlyBase\"; gene_biotype \"protein_coding\";\n",
            "3L\tFlyBase\tgene\t9349609\t9351489\t.\t+\t.\tgene_id \"FBgn0035977\"; gene_name \"PGRP-LF\"; gene_source \"FlyBase\"; gene_biotype \"protein_coding\";\n",
            "3L\tFlyBase\tgene\t16726541\t16727288\t.\t+\t.\tgene_id \"FBgn0043577\"; gene_name \"PGRP-SB2\"; gene_source \"FlyBase\"; gene_biotype \"protein_coding\";\n",
            "3L\tFlyBase\tgene\t16727299\t16727989\t.\t-\t.\tgene_id \"FBgn0043578\"; gene_name \"PGRP-SB1\"; gene_source \"FlyBase\"; gene_biotype \"protein_coding\";\n",
            "2R\tFlyBase\tgene\t8709733\t8710320\t.\t+\t.\tgene_id \"FBgn0043576\"; gene_name \"PGRP-SC1a\"; gene_source \"FlyBase\"; gene_biotype \"protein_coding\";\n",
            "2R\tFlyBase\tgene\t8713446\t8715094\t.\t+\t.\tgene_id \"FBgn0033327\"; gene_name \"PGRP-SC1b\"; gene_source \"FlyBase\"; gene_biotype \"protein_coding\";\n"
          ]
        }
      ]
    },
    {
      "cell_type": "code",
      "source": [
        "# sort and find the unique entries\n",
        "!grep -i pgrp BDGP6.Ensembl.93.gtf | grep -i gene | cut -f1 | sort | uniq"
      ],
      "metadata": {
        "colab": {
          "base_uri": "https://localhost:8080/"
        },
        "id": "6Nzn46ApkN9M",
        "outputId": "956ea03f-a558-4fe4-c3f0-418fb4f8c044"
      },
      "execution_count": 17,
      "outputs": [
        {
          "output_type": "stream",
          "name": "stdout",
          "text": [
            "2R\n",
            "3L\n",
            "3R\n",
            "X\n"
          ]
        }
      ]
    },
    {
      "cell_type": "markdown",
      "source": [
        "### Example 4: extract Fis1 stop codon positions"
      ],
      "metadata": {
        "id": "CsK9XNzUmLiV"
      }
    },
    {
      "cell_type": "code",
      "source": [
        "# grep fis1 and \"three_prime_utr\"\n",
        "# stop codon right next to the start of the 3' utr\n",
        "! grep -i fis1 BDGP6.Ensembl.93.gtf | grep three_prime_utr | head"
      ],
      "metadata": {
        "colab": {
          "base_uri": "https://localhost:8080/"
        },
        "id": "Xf9_7SylmrVj",
        "outputId": "22a17a65-cfe5-42ae-c1b4-0a5925f7df0b"
      },
      "execution_count": 26,
      "outputs": [
        {
          "output_type": "stream",
          "name": "stdout",
          "text": [
            "2R\tFlyBase\tthree_prime_utr\t5603587\t5603742\t.\t-\t.\tgene_id \"FBgn0039969\"; transcript_id \"FBtr0273208\"; gene_name \"Fis1\"; gene_source \"FlyBase\"; gene_biotype \"protein_coding\"; transcript_name \"Fis1-RC\"; transcript_source \"FlyBase\"; transcript_biotype \"protein_coding\";\n",
            "2R\tFlyBase\tthree_prime_utr\t5603587\t5603742\t.\t-\t.\tgene_id \"FBgn0039969\"; transcript_id \"FBtr0345012\"; gene_name \"Fis1\"; gene_source \"FlyBase\"; gene_biotype \"protein_coding\"; transcript_name \"Fis1-RG\"; transcript_source \"FlyBase\"; transcript_biotype \"protein_coding\";\n",
            "2R\tFlyBase\tthree_prime_utr\t5603587\t5603742\t.\t-\t.\tgene_id \"FBgn0039969\"; transcript_id \"FBtr0086073\"; gene_name \"Fis1\"; gene_source \"FlyBase\"; gene_biotype \"protein_coding\"; transcript_name \"Fis1-RA\"; transcript_source \"FlyBase\"; transcript_biotype \"protein_coding\";\n",
            "2R\tFlyBase\tthree_prime_utr\t5603795\t5603898\t.\t-\t.\tgene_id \"FBgn0039969\"; transcript_id \"FBtr0273210\"; gene_name \"Fis1\"; gene_source \"FlyBase\"; gene_biotype \"protein_coding\"; transcript_name \"Fis1-RE\"; transcript_source \"FlyBase\"; transcript_biotype \"protein_coding\";\n",
            "2R\tFlyBase\tthree_prime_utr\t5603795\t5603898\t.\t-\t.\tgene_id \"FBgn0039969\"; transcript_id \"FBtr0273209\"; gene_name \"Fis1\"; gene_source \"FlyBase\"; gene_biotype \"protein_coding\"; transcript_name \"Fis1-RD\"; transcript_source \"FlyBase\"; transcript_biotype \"protein_coding\";\n",
            "2R\tFlyBase\tthree_prime_utr\t5603795\t5603898\t.\t-\t.\tgene_id \"FBgn0039969\"; transcript_id \"FBtr0273211\"; gene_name \"Fis1\"; gene_source \"FlyBase\"; gene_biotype \"protein_coding\"; transcript_name \"Fis1-RF\"; transcript_source \"FlyBase\"; transcript_biotype \"protein_coding\";\n"
          ]
        }
      ]
    },
    {
      "cell_type": "code",
      "source": [
        "# fis1 is \"-\" strand\n",
        "# column 5 is the starting point\n",
        "! grep -i fis1 BDGP6.Ensembl.93.gtf | grep three_prime_utr | cut -f5 | sort | uniq | head"
      ],
      "metadata": {
        "colab": {
          "base_uri": "https://localhost:8080/"
        },
        "id": "bP-yBy1dm0-L",
        "outputId": "449373fc-6dbb-4c1d-a7ac-a36a7703dbd8"
      },
      "execution_count": 27,
      "outputs": [
        {
          "output_type": "stream",
          "name": "stdout",
          "text": [
            "5603742\n",
            "5603898\n"
          ]
        }
      ]
    },
    {
      "cell_type": "code",
      "source": [
        "# the stop codon should be right next to the starting point; i.e. +3\n",
        "! grep -i fis1 BDGP6.Ensembl.93.gtf | grep three_prime_utr | cut -f5 | sort | uniq | awk '{print $1 + 3}'"
      ],
      "metadata": {
        "colab": {
          "base_uri": "https://localhost:8080/"
        },
        "id": "cJ9Yee6SmPvG",
        "outputId": "fcd708e8-86b8-4646-84bd-85a17ea5d100"
      },
      "execution_count": 25,
      "outputs": [
        {
          "output_type": "stream",
          "name": "stdout",
          "text": [
            "5603745\n",
            "5603901\n"
          ]
        }
      ]
    }
  ]
}