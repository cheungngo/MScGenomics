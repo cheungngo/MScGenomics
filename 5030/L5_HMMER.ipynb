{
  "nbformat": 4,
  "nbformat_minor": 0,
  "metadata": {
    "colab": {
      "name": "L5_HMMER.ipynb",
      "provenance": [],
      "mount_file_id": "1wPieWA3ztlxE0JuA7e1MsNFPUOIrhqsb",
      "authorship_tag": "ABX9TyPmAPuGgbA0iFUthQkjMYwB",
      "include_colab_link": true
    },
    "kernelspec": {
      "name": "python3",
      "display_name": "Python 3"
    },
    "language_info": {
      "name": "python"
    }
  },
  "cells": [
    {
      "cell_type": "markdown",
      "metadata": {
        "id": "view-in-github",
        "colab_type": "text"
      },
      "source": [
        "<a href=\"https://colab.research.google.com/github/cheungngo/MScGenomics/blob/master/5030/L5_HMMER.ipynb\" target=\"_parent\"><img src=\"https://colab.research.google.com/assets/colab-badge.svg\" alt=\"Open In Colab\"/></a>"
      ]
    },
    {
      "cell_type": "markdown",
      "source": [
        "# L5 HMMER"
      ],
      "metadata": {
        "id": "1HZ8lzbzDo7d"
      }
    },
    {
      "cell_type": "markdown",
      "source": [
        "## Installation (HMMER)"
      ],
      "metadata": {
        "id": "MnTBiZTcDrx0"
      }
    },
    {
      "cell_type": "code",
      "execution_count": null,
      "metadata": {
        "id": "n0MbhY-JDdm3"
      },
      "outputs": [],
      "source": [
        "!wget \"http://eddylab.org/software/hmmer/hmmer.tar.gz\" -O hmmer.tar.gz\n",
        "!gzip -d hmmer.tar.gz\n",
        "!tar -xf hmmer.tar"
      ]
    },
    {
      "cell_type": "code",
      "source": [
        "%cd hmmer-3.3.2\n",
        "!./configure\n",
        "!make\n",
        "!make check\n",
        "!make install"
      ],
      "metadata": {
        "id": "KkBYebstDzHI"
      },
      "execution_count": null,
      "outputs": []
    },
    {
      "cell_type": "code",
      "source": [
        "%cd easel\n",
        "!make install"
      ],
      "metadata": {
        "id": "vCDRjiOlEtq8"
      },
      "execution_count": null,
      "outputs": []
    },
    {
      "cell_type": "markdown",
      "source": [
        "## Installation (MUSCLE)"
      ],
      "metadata": {
        "id": "EqKfecNnN8jt"
      }
    },
    {
      "cell_type": "code",
      "source": [
        "%cd ../.."
      ],
      "metadata": {
        "id": "16w1jJ4-N-iB"
      },
      "execution_count": null,
      "outputs": []
    },
    {
      "cell_type": "code",
      "source": [
        "!wget \"https://drive5.com/muscle/downloads3.8.31/muscle3.8.31_i86linux64.tar.gz\" -O muscle3.tar.gz\n",
        "!gzip -d muscle3.tar.gz\n",
        "!tar -xf muscle3.tar\n",
        "!cp muscle3.8.31_i86linux64 ../bin/muscle # most important line"
      ],
      "metadata": {
        "colab": {
          "base_uri": "https://localhost:8080/"
        },
        "id": "0td5EiTJOCGb",
        "outputId": "8f54046e-20bf-4e2e-cac6-1f74fe2ec514"
      },
      "execution_count": 27,
      "outputs": [
        {
          "output_type": "stream",
          "name": "stdout",
          "text": [
            "--2022-02-22 16:18:15--  https://drive5.com/muscle/downloads3.8.31/muscle3.8.31_i86linux64.tar.gz\n",
            "Resolving drive5.com (drive5.com)... 199.195.116.69\n",
            "Connecting to drive5.com (drive5.com)|199.195.116.69|:443... connected.\n",
            "HTTP request sent, awaiting response... 200 OK\n",
            "Length: 487906 (476K) [application/x-gzip]\n",
            "Saving to: ‘muscle3.tar.gz’\n",
            "\n",
            "muscle3.tar.gz      100%[===================>] 476.47K  3.01MB/s    in 0.2s    \n",
            "\n",
            "2022-02-22 16:18:16 (3.01 MB/s) - ‘muscle3.tar.gz’ saved [487906/487906]\n",
            "\n"
          ]
        }
      ]
    },
    {
      "cell_type": "code",
      "source": [
        "# confirming if installed\n",
        "!which muscle"
      ],
      "metadata": {
        "colab": {
          "base_uri": "https://localhost:8080/"
        },
        "id": "PGrwiaFEOf9z",
        "outputId": "8ad20985-8d2a-469b-f062-1b1f38dbf3e9"
      },
      "execution_count": 28,
      "outputs": [
        {
          "output_type": "stream",
          "name": "stdout",
          "text": [
            "/bin/muscle\n"
          ]
        }
      ]
    },
    {
      "cell_type": "markdown",
      "source": [
        "## Preparing the data"
      ],
      "metadata": {
        "id": "GBZ_Wz4GHzh2"
      }
    },
    {
      "cell_type": "code",
      "source": [
        "%cd ../.."
      ],
      "metadata": {
        "colab": {
          "base_uri": "https://localhost:8080/"
        },
        "id": "mi5ahp3iJUAP",
        "outputId": "63f83dcf-18cb-4466-e1f9-11422848ac21"
      },
      "execution_count": 9,
      "outputs": [
        {
          "output_type": "stream",
          "name": "stdout",
          "text": [
            "/content\n"
          ]
        }
      ]
    },
    {
      "cell_type": "code",
      "source": [
        "!cp \"/content/drive/MyDrive/Colab Notebooks/5030/L5/tutorial\" \"/content/tutorial\" -r"
      ],
      "metadata": {
        "id": "pd42DfV0I4x-"
      },
      "execution_count": 6,
      "outputs": []
    },
    {
      "cell_type": "code",
      "source": [
        "%cd tutorial\n",
        "!ls"
      ],
      "metadata": {
        "colab": {
          "base_uri": "https://localhost:8080/"
        },
        "id": "tX0qDEKNJTIJ",
        "outputId": "8dd8ead4-47cf-4efa-c7c8-473e0632e790"
      },
      "execution_count": 11,
      "outputs": [
        {
          "output_type": "stream",
          "name": "stdout",
          "text": [
            "/content/tutorial\n",
            "7LESS_DROME    fn3.hmm\tglobins45.fa  globins4.sto  MADE1.hmm  Pkinase.hmm\n",
            "dna_target.fa  fn3.sto\tglobins4.hmm  HBB_HUMAN     MADE1.sto  Pkinase.sto\n"
          ]
        }
      ]
    },
    {
      "cell_type": "markdown",
      "source": [
        "## Example 1"
      ],
      "metadata": {
        "id": "9c730pehKaO2"
      }
    },
    {
      "cell_type": "code",
      "source": [
        "# build profile from .sto\n",
        "!hmmbuild globins4.hmm globins4.sto"
      ],
      "metadata": {
        "colab": {
          "base_uri": "https://localhost:8080/"
        },
        "id": "RNzDPklhJk5q",
        "outputId": "e61d26af-84ba-4dfe-dadb-cd2b93d00bb0"
      },
      "execution_count": 12,
      "outputs": [
        {
          "output_type": "stream",
          "name": "stdout",
          "text": [
            "# hmmbuild :: profile HMM construction from multiple sequence alignments\n",
            "# HMMER 3.3.2 (Nov 2020); http://hmmer.org/\n",
            "# Copyright (C) 2020 Howard Hughes Medical Institute.\n",
            "# Freely distributed under the BSD open source license.\n",
            "# - - - - - - - - - - - - - - - - - - - - - - - - - - - - - - - - - - - -\n",
            "# input alignment file:             globins4.sto\n",
            "# output HMM file:                  globins4.hmm\n",
            "# - - - - - - - - - - - - - - - - - - - - - - - - - - - - - - - - - - - -\n",
            "\n",
            "# idx name                  nseq  alen  mlen eff_nseq re/pos description\n",
            "#---- -------------------- ----- ----- ----- -------- ------ -----------\n",
            "1     globins4                 4   171   149     0.96  0.589 \n",
            "\n",
            "# CPU time: 0.12u 0.00s 00:00:00.12 Elapsed: 00:00:00.13\n"
          ]
        }
      ]
    },
    {
      "cell_type": "code",
      "source": [
        "# search the profile against globins45.fa\n",
        "!hmmsearch globins4.hmm globins45.fa > out.txt"
      ],
      "metadata": {
        "id": "JwTD_2GCJyuk"
      },
      "execution_count": 14,
      "outputs": []
    },
    {
      "cell_type": "code",
      "source": [
        "!head -25 out.txt"
      ],
      "metadata": {
        "colab": {
          "base_uri": "https://localhost:8080/"
        },
        "id": "NKJMq7K_KLpp",
        "outputId": "db263065-65df-4c78-ee40-1dd2dbb8a1ea"
      },
      "execution_count": 16,
      "outputs": [
        {
          "output_type": "stream",
          "name": "stdout",
          "text": [
            "# hmmsearch :: search profile(s) against a sequence database\n",
            "# HMMER 3.3.2 (Nov 2020); http://hmmer.org/\n",
            "# Copyright (C) 2020 Howard Hughes Medical Institute.\n",
            "# Freely distributed under the BSD open source license.\n",
            "# - - - - - - - - - - - - - - - - - - - - - - - - - - - - - - - - - - - -\n",
            "# query HMM file:                  globins4.hmm\n",
            "# target sequence database:        globins45.fa\n",
            "# - - - - - - - - - - - - - - - - - - - - - - - - - - - - - - - - - - - -\n",
            "\n",
            "Query:       globins4  [M=149]\n",
            "Scores for complete sequences (score includes all domains):\n",
            "   --- full sequence ---   --- best 1 domain ---    -#dom-\n",
            "    E-value  score  bias    E-value  score  bias    exp  N  Sequence   Description\n",
            "    ------- ------ -----    ------- ------ -----   ---- --  --------   -----------\n",
            "    1.9e-67  217.7   0.1    2.1e-67  217.5   0.1    1.0  1  HBB_MANSP   \n",
            "    1.3e-66  215.0   0.2    1.4e-66  214.9   0.2    1.0  1  HBB_CALAR   \n",
            "    2.6e-66  214.0   3.0    2.9e-66  213.9   3.0    1.0  1  MYG_ESCGI   \n",
            "    7.3e-65  209.3   0.2    8.1e-65  209.2   0.2    1.0  1  HBB_URSMA   \n",
            "    2.3e-64  207.7   0.6    2.5e-64  207.6   0.6    1.0  1  HBB_RABIT   \n",
            "      8e-64  206.0   1.4    8.9e-64  205.8   1.4    1.0  1  HBA_PONPY   \n",
            "    1.3e-63  205.2   1.2    1.5e-63  205.1   1.2    1.0  1  MYG_HORSE   \n",
            "    7.7e-63  202.8   1.2    8.5e-63  202.6   1.2    1.0  1  HBB_SPECI   \n",
            "    4.5e-62  200.3   0.6      5e-62  200.1   0.6    1.0  1  HBA_MACFA   \n",
            "    5.2e-62  200.1   0.7    5.8e-62  199.9   0.7    1.0  1  HBB_SPETO   \n",
            "    6.6e-62  199.7   0.1    7.4e-62  199.6   0.1    1.0  1  HBB_SUNMU   \n"
          ]
        }
      ]
    },
    {
      "cell_type": "markdown",
      "source": [
        "## Example 2:"
      ],
      "metadata": {
        "id": "zvLUrlvfKWC0"
      }
    },
    {
      "cell_type": "markdown",
      "source": [
        "How to identify, using HMMER and MUSCLE, homologues of P450-1A1 genes in the Drosophilia melanogaster protein dataset?"
      ],
      "metadata": {
        "id": "iod8_T5wKdQl"
      }
    },
    {
      "cell_type": "markdown",
      "source": [
        "#### Step 1: Download the dataset"
      ],
      "metadata": {
        "id": "Qp6CbLvsKqRk"
      }
    },
    {
      "cell_type": "code",
      "source": [
        "# Fruitfly genome\n",
        "!wget \"http://ftp.flybase.net/genomes/dmel/current/fasta/dmel-all-translation-r6.44.fasta.gz\"\n",
        "!gzip -d dmel-all-translation-r6.44.fasta.gz"
      ],
      "metadata": {
        "colab": {
          "base_uri": "https://localhost:8080/"
        },
        "id": "fcKr_dKWKkwI",
        "outputId": "1ec04a61-8199-4b88-e9b9-b3701e386ddb"
      },
      "execution_count": 18,
      "outputs": [
        {
          "output_type": "stream",
          "name": "stdout",
          "text": [
            "--2022-02-22 16:05:05--  http://ftp.flybase.net/genomes/dmel/current/fasta/dmel-all-translation-r6.44.fasta.gz\n",
            "Resolving ftp.flybase.net (ftp.flybase.net)... 52.23.126.124\n",
            "Connecting to ftp.flybase.net (ftp.flybase.net)|52.23.126.124|:80... connected.\n",
            "HTTP request sent, awaiting response... 200 OK\n",
            "Length: 8234059 (7.9M) [application/x-gzip]\n",
            "Saving to: ‘dmel-all-translation-r6.44.fasta.gz.1’\n",
            "\n",
            "dmel-all-translatio 100%[===================>]   7.85M  45.8MB/s    in 0.2s    \n",
            "\n",
            "2022-02-22 16:05:06 (45.8 MB/s) - ‘dmel-all-translation-r6.44.fasta.gz.1’ saved [8234059/8234059]\n",
            "\n"
          ]
        }
      ]
    },
    {
      "cell_type": "code",
      "source": [
        "# P450-1A1\n",
        "# no link for batch download\n",
        "# just upload and rename\n",
        "!mv \"/content/tutorial/uniprot-p450-1a1+AND+reviewed%3Ayes.fasta\" p4501a1.fasta"
      ],
      "metadata": {
        "id": "qFW5MDj8Lmd2"
      },
      "execution_count": 22,
      "outputs": []
    },
    {
      "cell_type": "markdown",
      "source": [
        "#### Step 2: Obtain multiple sequence alignment using muscle"
      ],
      "metadata": {
        "id": "NOfKsAyBOs3-"
      }
    },
    {
      "cell_type": "code",
      "source": [
        "!muscle -in p4501a1.fasta -out p4501a1.fasta.aln"
      ],
      "metadata": {
        "id": "3GlL7wXRM4Oo"
      },
      "execution_count": null,
      "outputs": []
    },
    {
      "cell_type": "code",
      "source": [
        "!head -25 p4501a1.fasta.aln"
      ],
      "metadata": {
        "colab": {
          "base_uri": "https://localhost:8080/"
        },
        "id": "y06yrHEmPVxd",
        "outputId": "1ea6f058-d902-4964-a040-cd058edd7fcc"
      },
      "execution_count": 31,
      "outputs": [
        {
          "output_type": "stream",
          "name": "stdout",
          "text": [
            ">sp|P08684|CP3A4_HUMAN Cytochrome P450 3A4 OS=Homo sapiens OX=9606 GN=CYP3A4 PE=1 SV=4\n",
            "------------------------------------------------------------\n",
            "-------------------------------------------------------MAL-I\n",
            "PDLAMETWLLLAVSLVLLYL-YGTHSHGLFKK--LGIPG---------PTPLPFL-GNIL\n",
            "SYHK---GFCMFDMECHKKYGKVWGFYDGQQ--PVLAI----------------TDPDMI\n",
            "KTV---LVKECYSVFTNR-RPF------------GPVGFMKSA--ISIAEDEE-------\n",
            "------WKRLRS--------------------------------LLSPTFTS--------\n",
            "-----------------------------------------------GKLKEMVPIIAQY\n",
            "GDVLVRN-LRREAETGKP-------VTLKD-------VFGAYSMDVI-TSTSFGVNID--\n",
            "-----SLNNPQDPF-----------VENTKKLLRFDFLDPFFLSITVFPFLIPI------\n",
            "---------LEVLN-----ICVFPREVTNFLRKSVKRM-KESRLEDTQKHRV--DFLQLM\n",
            "IDSQNSKETE----SHKALSDLEL---VAQSIIFIFAGY--ETTSSVLSFIM-YELATHP\n",
            "DVQQKLQEEIDAVLPNKAP--PTYD-----------------------------------\n",
            "-----------TVLQMEYLD---MVV------------NETLRLFP--------IAMRL-\n",
            "-----------------ERVCKKDVEINGMFIPKGVVVMIP------SYALHRDPKYWTE\n",
            "PEKFLP----ERFSKKN-----------KDNIDPYIYTP---FGSGPRNC----------\n",
            "-------IG-------MRFALMNMKLALIRVLQNFSFKPCKETQIPLKLS---------L\n",
            "GGL-------LQPEKPV------------------------------------------V\n",
            "LKVESRDGTVSGA------------------\n",
            ">sp|Q16678|CP1B1_HUMAN Cytochrome P450 1B1 OS=Homo sapiens OX=9606 GN=CYP1B1 PE=1 SV=2\n",
            "------------------------------------------------------------\n",
            "---------------------------------------------MGTSLSPNDPWPLNP\n",
            "LSIQQTTLLLLLSVLATVHV-GQRLLRQRRRQLRSAPPG---------PFAWPLI-GNAA\n",
            "AVGQ---AAHLSFARLARRYGDVFQIRLGSC--PIVVL----------------NGERAI\n",
            "HQA---LVQQG-SAFADR-PAF------------ASFRVVSGG--RSMAFGHYSEH----\n"
          ]
        }
      ]
    },
    {
      "cell_type": "markdown",
      "source": [
        "#### Step 3: Run hmmbuild to produce the hmm profile for the MSA built"
      ],
      "metadata": {
        "id": "Pe5k6P1UPMli"
      }
    },
    {
      "cell_type": "code",
      "source": [
        "!hmmbuild p4501a1.fasta.aln.hmm p4501a1.fasta.aln"
      ],
      "metadata": {
        "colab": {
          "base_uri": "https://localhost:8080/"
        },
        "id": "EHCgM4RGP3qY",
        "outputId": "fe8bb632-f9d7-4f41-8640-2236a1bc7346"
      },
      "execution_count": 32,
      "outputs": [
        {
          "output_type": "stream",
          "name": "stdout",
          "text": [
            "# hmmbuild :: profile HMM construction from multiple sequence alignments\n",
            "# HMMER 3.3.2 (Nov 2020); http://hmmer.org/\n",
            "# Copyright (C) 2020 Howard Hughes Medical Institute.\n",
            "# Freely distributed under the BSD open source license.\n",
            "# - - - - - - - - - - - - - - - - - - - - - - - - - - - - - - - - - - - -\n",
            "# input alignment file:             p4501a1.fasta.aln\n",
            "# output HMM file:                  p4501a1.fasta.aln.hmm\n",
            "# - - - - - - - - - - - - - - - - - - - - - - - - - - - - - - - - - - - -\n",
            "\n",
            "# idx name                  nseq  alen  mlen eff_nseq re/pos description\n",
            "#---- -------------------- ----- ----- ----- -------- ------ -----------\n",
            "1     p4501a1.fasta           31  1051   584     2.02  0.590 \n",
            "\n",
            "# CPU time: 0.54u 0.00s 00:00:00.54 Elapsed: 00:00:00.54\n"
          ]
        }
      ]
    },
    {
      "cell_type": "code",
      "source": [
        "!head -25 p4501a1.fasta.aln.hmm"
      ],
      "metadata": {
        "colab": {
          "base_uri": "https://localhost:8080/"
        },
        "id": "fPDUVORJQCXD",
        "outputId": "31556557-b3b4-44b4-9500-dd531956783a"
      },
      "execution_count": 33,
      "outputs": [
        {
          "output_type": "stream",
          "name": "stdout",
          "text": [
            "HMMER3/f [3.3.2 | Nov 2020]\n",
            "NAME  p4501a1.fasta\n",
            "LENG  584\n",
            "ALPH  amino\n",
            "RF    no\n",
            "MM    no\n",
            "CONS  yes\n",
            "CS    no\n",
            "MAP   yes\n",
            "DATE  Tue Feb 22 16:25:00 2022\n",
            "NSEQ  31\n",
            "EFFN  2.016968\n",
            "CKSUM 3248153069\n",
            "STATS LOCAL MSV      -11.7899  0.69733\n",
            "STATS LOCAL VITERBI  -12.8858  0.69733\n",
            "STATS LOCAL FORWARD   -6.3940  0.69733\n",
            "HMM          A        C        D        E        F        G        H        I        K        L        M        N        P        Q        R        S        T        V        W        Y   \n",
            "            m->m     m->i     m->d     i->m     i->i     d->m     d->d\n",
            "  COMPO   2.61387  4.23254  2.96107  2.69445  3.17933  2.93931  3.69500  2.89817  2.68967  2.43758  3.58589  3.08234  3.17155  2.98929  2.87452  2.58469  2.80862  2.67130  4.68223  3.62191\n",
            "          2.68536  4.42305  2.77555  2.73161  3.46434  2.40501  3.72575  3.29360  2.67821  2.69394  4.24384  2.90275  2.73606  3.18226  2.89881  2.37877  2.77422  2.98544  4.58557  3.61583\n",
            "          0.37563  1.63010  2.14358  2.95747  0.05335  0.00000        *\n",
            "      1   3.06247  4.45443  4.50988  3.97028  3.17954  4.25873  4.62552  1.53594  3.81018  1.64438  2.03819  4.24256  4.54197  4.04744  3.99881  3.60517  3.30541  1.99269  5.13742  3.98995     30 i - - -\n",
            "          2.68618  4.42225  2.77519  2.73123  3.46354  2.40513  3.72494  3.29354  2.67741  2.69355  4.24690  2.90347  2.73739  3.18146  2.89801  2.37887  2.77519  2.98518  4.58477  3.61503\n",
            "          0.03027  3.90860  4.63095  0.61958  0.77255  0.59487  0.80215\n",
            "      2   2.76252  5.01124  2.57552  2.34207  4.29891  3.29938  3.67682  3.84192  2.40257  3.38419  4.24127  1.99058  3.83116  1.97752  2.78146  2.74897  3.03469  3.47740  5.49882  4.12190     31 q - - -\n"
          ]
        }
      ]
    },
    {
      "cell_type": "markdown",
      "source": [
        "#### Step 4: Search for the profile in the fruit fly protein with hmmsearch"
      ],
      "metadata": {
        "id": "F3bBhhLBQJid"
      }
    },
    {
      "cell_type": "code",
      "source": [
        "!hmmsearch p4501a1.fasta.aln.hmm /content/tutorial/dmel-all-translation-r6.44.fasta > out2.txt"
      ],
      "metadata": {
        "id": "NRSAW4JZQPJq"
      },
      "execution_count": 35,
      "outputs": []
    },
    {
      "cell_type": "code",
      "source": [
        "!head -25 out2.txt"
      ],
      "metadata": {
        "colab": {
          "base_uri": "https://localhost:8080/"
        },
        "id": "EcPLpmDMQlaF",
        "outputId": "3cc46a8b-b0d0-4d26-e0ba-317cca47a2ff"
      },
      "execution_count": 36,
      "outputs": [
        {
          "output_type": "stream",
          "name": "stdout",
          "text": [
            "# hmmsearch :: search profile(s) against a sequence database\n",
            "# HMMER 3.3.2 (Nov 2020); http://hmmer.org/\n",
            "# Copyright (C) 2020 Howard Hughes Medical Institute.\n",
            "# Freely distributed under the BSD open source license.\n",
            "# - - - - - - - - - - - - - - - - - - - - - - - - - - - - - - - - - - - -\n",
            "# query HMM file:                  p4501a1.fasta.aln.hmm\n",
            "# target sequence database:        /content/tutorial/dmel-all-translation-r6.44.fasta\n",
            "# - - - - - - - - - - - - - - - - - - - - - - - - - - - - - - - - - - - -\n",
            "\n",
            "Query:       p4501a1.fasta  [M=584]\n",
            "Scores for complete sequences (score includes all domains):\n",
            "   --- full sequence ---   --- best 1 domain ---    -#dom-\n",
            "    E-value  score  bias    E-value  score  bias    exp  N  Sequence    Description\n",
            "    ------- ------ -----    ------- ------ -----   ---- --  --------    -----------\n",
            "    1.5e-84  285.2   0.0    1.9e-84  284.9   0.0    1.0  1  FBpp0074380  type=polypeptide; loc=X:complement(join(18691828\n",
            "    1.5e-84  285.2   0.0    1.9e-84  284.9   0.0    1.0  1  FBpp0074381  type=polypeptide; loc=X:complement(join(18691828\n",
            "    5.1e-58  197.6   0.0    3.4e-33  115.6   0.0    2.0  2  FBpp0074374  type=polypeptide; loc=X:join(18685962..18686343,\n",
            "    5.1e-58  197.6   0.0    3.4e-33  115.6   0.0    2.0  2  FBpp0309669  type=polypeptide; loc=X:join(18685962..18686343,\n",
            "    1.9e-56  192.4   0.0    2.5e-56  192.0   0.0    1.1  1  FBpp0076836  type=polypeptide; loc=3L:complement(5590587..559\n",
            "    1.9e-56  192.4   0.0    2.5e-56  192.0   0.0    1.1  1  FBpp0312220  type=polypeptide; loc=3L:complement(5590587..559\n",
            "    1.9e-55  189.1   0.0    2.4e-55  188.8   0.0    1.1  1  FBpp0289444  type=polypeptide; loc=3R:join(3322810..3323218,3\n",
            "    3.8e-52  178.2   0.0    1.8e-51  176.0   0.0    1.7  1  FBpp0082159  type=polypeptide; loc=3R:join(12963823..12963916\n",
            "    4.2e-51  174.8   0.0    5.6e-51  174.3   0.0    1.0  1  FBpp0080386  type=polypeptide; loc=2L:16294351..16295862; ID=\n",
            "    4.2e-51  174.8   0.0    5.6e-51  174.3   0.0    1.0  1  FBpp0310367  type=polypeptide; loc=2L:16294351..16295862; ID=\n",
            "    7.2e-50  170.7   0.0    8.6e-50  170.4   0.0    1.0  1  FBpp0074694  type=polypeptide; loc=3L:complement(join(1981310\n"
          ]
        }
      ]
    }
  ]
}