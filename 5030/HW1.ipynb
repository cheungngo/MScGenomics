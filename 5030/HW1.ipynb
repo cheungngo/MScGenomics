{
  "nbformat": 4,
  "nbformat_minor": 0,
  "metadata": {
    "colab": {
      "name": "HW1.ipynb",
      "provenance": [],
      "mount_file_id": "1_H-VdzLBVbmKuG0fWuKakiJEa6fw_tYE",
      "authorship_tag": "ABX9TyMFpvU+V7jjxZpldumjbRw7",
      "include_colab_link": true
    },
    "kernelspec": {
      "name": "python3",
      "display_name": "Python 3"
    },
    "language_info": {
      "name": "python"
    }
  },
  "cells": [
    {
      "cell_type": "markdown",
      "metadata": {
        "id": "view-in-github",
        "colab_type": "text"
      },
      "source": [
        "<a href=\"https://colab.research.google.com/github/cheungngo/MScGenomics/blob/master/5030/HW1.ipynb\" target=\"_parent\"><img src=\"https://colab.research.google.com/assets/colab-badge.svg\" alt=\"Open In Colab\"/></a>"
      ]
    },
    {
      "cell_type": "markdown",
      "source": [
        "# GNBF5030 Homework 1"
      ],
      "metadata": {
        "id": "-RyANJedoWZm"
      }
    },
    {
      "cell_type": "markdown",
      "source": [
        "### CHEUNG NGO"
      ],
      "metadata": {
        "id": "v5hYIvOot9Z8"
      }
    },
    {
      "cell_type": "markdown",
      "source": [
        "*** This hw is done in the google colab environment, so that \"!\" will appear before each command"
      ],
      "metadata": {
        "id": "K31FfD_O7of_"
      }
    },
    {
      "cell_type": "markdown",
      "source": [
        "Please save your homework in **PDF format** and name it as **LastnameFirstname-hw1.pdf** (without any space). Submit it to the Blackboard on or before **Friday 11 February**.\n",
        "\n",
        "You will need to log into the MSc student server to work on these questions. Data files are available under `/hdd1/shared/ecoli/` and `/hdd1/shared/bdgp6/data/genomes`. For each question, list your commands and output (use `head` to display the first few lines if the output is too long). For example,\n",
        "\n",
        "$ wc -l SRR098026.fastq\n",
        "\n",
        "996 SRR098026.fastq"
      ],
      "metadata": {
        "id": "HukuEWmQoYl0"
      }
    },
    {
      "cell_type": "markdown",
      "source": [
        "## Question 1"
      ],
      "metadata": {
        "id": "0vqH4dSkortd"
      }
    },
    {
      "cell_type": "markdown",
      "source": [
        "The four nucleotides that appear in DNA are abbreviated A, C, T and G. Unknown nucleotides are represented with the letter N. An N appearing in a sequencing file represents a position where the sequencing machine was not able to confidently determine the nucleotide in that position. List your commands and output, if any, to answer the following questions.\n"
      ],
      "metadata": {
        "id": "rDlk6eCgowFN"
      }
    },
    {
      "cell_type": "markdown",
      "source": [
        "### 1. Create a directory ~/5030/hw1 for Homework 1 and copy the ecoli foder under /hdd1/shared/ to ~/5030/hw1.\n"
      ],
      "metadata": {
        "id": "c0e5_M7Joylt"
      }
    },
    {
      "cell_type": "code",
      "source": [
        "!mkdir -p 5030/hw1"
      ],
      "metadata": {
        "id": "Y0qNFMG7pYUR"
      },
      "execution_count": null,
      "outputs": []
    },
    {
      "cell_type": "code",
      "source": [
        "!cp \"/content/drive/MyDrive/Colab Notebooks/5030/ecoli\" 5030/hw1/ -r"
      ],
      "metadata": {
        "id": "K76cGj28owvt"
      },
      "execution_count": null,
      "outputs": []
    },
    {
      "cell_type": "code",
      "source": [
        "# check if it is copied\n",
        "%cd 5030/hw1\n",
        "!ls"
      ],
      "metadata": {
        "colab": {
          "base_uri": "https://localhost:8080/"
        },
        "id": "baMwGubDpni-",
        "outputId": "6bced6a5-bab4-47e0-8cce-c112064a2d88"
      },
      "execution_count": null,
      "outputs": [
        {
          "output_type": "stream",
          "name": "stdout",
          "text": [
            "/content/5030/hw1\n",
            "ecoli\n"
          ]
        }
      ]
    },
    {
      "cell_type": "markdown",
      "source": [
        "### 2. How many sequences in `ecoli/untrimmed_fastq/SRR098026.fastq` contain the `TTCNNNNN`? Use `grep` and `wc -l` in a single command to find the number.\n"
      ],
      "metadata": {
        "id": "hhcJsZxUp0e2"
      }
    },
    {
      "cell_type": "code",
      "source": [
        "!grep TTCNNNNN ecoli/untrimmed_fastq/SRR098026.fastq | wc -l\n",
        "# -l is for the line count"
      ],
      "metadata": {
        "colab": {
          "base_uri": "https://localhost:8080/"
        },
        "id": "n5gWxzKqpwAq",
        "outputId": "9125e775-d274-40a8-fbcb-60b07d5f8a7a"
      },
      "execution_count": null,
      "outputs": [
        {
          "output_type": "stream",
          "name": "stdout",
          "text": [
            "4\n"
          ]
        }
      ]
    },
    {
      "cell_type": "code",
      "source": [
        "# visualizing the data\n",
        "!grep TTCNNNNN ecoli/untrimmed_fastq/SRR098026.fastq | head"
      ],
      "metadata": {
        "colab": {
          "base_uri": "https://localhost:8080/"
        },
        "id": "cxtqaz1RqQ5e",
        "outputId": "b9dda635-edc2-4c4d-eb19-48ad1c85cb3b"
      },
      "execution_count": null,
      "outputs": [
        {
          "output_type": "stream",
          "name": "stdout",
          "text": [
            "NNNNNNNNNNNTCGCTTCNNNNNNNNNNNNNCNNN\n",
            "ANNNNNNNNNCTTTTTTTTCNNNNNNNNNATTCTN\n",
            "CNNNNNNNNNCTCCCCTTTCNNNNNNNNNTAATTN\n",
            "ANNNNNNNACAACGCTGTTTCNNNNNNNNGTTCGC\n"
          ]
        }
      ]
    },
    {
      "cell_type": "markdown",
      "source": [
        "### 3. For both `fastq` files under `ecoli/untrimmed_fastq`, search for sequences with 8 consecutive unknown nucleotides (Ns). Have your search report each sequence with header line (or identifier) and redirect the results to an output file `bad_reads.txt`. Your search should be done in one single command. To capture the header line, use `-B` in `grep` command. Your search should also return a specific number of lines before each match. *Note: It can be really useful to do this type of searching to get a feel for the quality of your sequencing results. However, in you research you will most likely use a bioinformatics tool that has a built-in program for filtering out low-quality reads. We will learn such tools soon.*\n"
      ],
      "metadata": {
        "id": "x8Z9tSs-qWqE"
      }
    },
    {
      "cell_type": "code",
      "source": [
        "# find the file names under ecoli/untrimmed_fastq\n",
        "!ls ecoli/untrimmed_fastq"
      ],
      "metadata": {
        "colab": {
          "base_uri": "https://localhost:8080/"
        },
        "id": "AjbeVeuuqZv1",
        "outputId": "f342972e-6ca8-442d-9826-3999fdbfafd5"
      },
      "execution_count": null,
      "outputs": [
        {
          "output_type": "stream",
          "name": "stdout",
          "text": [
            "SRR097977.fastq  SRR098026.fastq\n"
          ]
        }
      ]
    },
    {
      "cell_type": "code",
      "source": [
        "# checking on the number of bad sequences\n",
        "!grep NNNNNNNN ecoli/untrimmed_fastq/SRR097977.fastq | wc -l"
      ],
      "metadata": {
        "colab": {
          "base_uri": "https://localhost:8080/"
        },
        "id": "pPwnM6rhqiBV",
        "outputId": "320f8b48-a9cc-4215-d5e7-0689e3d39706"
      },
      "execution_count": null,
      "outputs": [
        {
          "output_type": "stream",
          "name": "stdout",
          "text": [
            "0\n"
          ]
        }
      ]
    },
    {
      "cell_type": "code",
      "source": [
        "# checking on the number of bad sequences\n",
        "!grep NNNNNNNN ecoli/untrimmed_fastq/SRR098026.fastq | wc -l"
      ],
      "metadata": {
        "colab": {
          "base_uri": "https://localhost:8080/"
        },
        "id": "GLdt-Yknrj5n",
        "outputId": "86236abc-02e5-4435-e7d1-1f58c9deda19"
      },
      "execution_count": null,
      "outputs": [
        {
          "output_type": "stream",
          "name": "stdout",
          "text": [
            "223\n"
          ]
        }
      ]
    },
    {
      "cell_type": "code",
      "source": [
        "# doing the operation\n",
        "!grep -B 1 NNNNNNNN ecoli/untrimmed_fastq/SRR098026.fastq >> bad_reads.txt"
      ],
      "metadata": {
        "id": "3hDzqPMYvPx2"
      },
      "execution_count": null,
      "outputs": []
    },
    {
      "cell_type": "code",
      "source": [
        "# visualizing the bad_reads.txt\n",
        "!head bad_reads.txt"
      ],
      "metadata": {
        "colab": {
          "base_uri": "https://localhost:8080/"
        },
        "id": "6YrlD8DQvy4P",
        "outputId": "7fbd134a-5d7d-47ae-ab61-37e7a775af93"
      },
      "execution_count": null,
      "outputs": [
        {
          "output_type": "stream",
          "name": "stdout",
          "text": [
            "@SRR098026.1 HWUSI-EAS1599_1:2:1:0:968 length=35\n",
            "NNNNNNNNNNNNNNNNCNNNNNNNNNNNNNNNNNN\n",
            "--\n",
            "@SRR098026.2 HWUSI-EAS1599_1:2:1:0:312 length=35\n",
            "NNNNNNNNNNNNNNNNANNNNNNNNNNNNNNNNNN\n",
            "--\n",
            "@SRR098026.3 HWUSI-EAS1599_1:2:1:0:570 length=35\n",
            "NNNNNNNNNNNNNNNNANNNNNNNNNNNNNNNNNN\n",
            "--\n",
            "@SRR098026.4 HWUSI-EAS1599_1:2:1:0:758 length=35\n"
          ]
        }
      ]
    },
    {
      "cell_type": "markdown",
      "source": [
        "### 4. From your home directory, create a new folder `q1` under `~/5030/hw1/`. Then go to this new directory and copy the output file from the previous question to this directory, using **relative path**. At the end, display information of this output file in **long format** using `ls` command and show the number of lines using `wc` command. List all your commands starting from `cd`, as well as results from `ls` and `wc`.\n"
      ],
      "metadata": {
        "id": "7GtGgVPbwHoo"
      }
    },
    {
      "cell_type": "code",
      "source": [
        "!echo $PWD"
      ],
      "metadata": {
        "colab": {
          "base_uri": "https://localhost:8080/"
        },
        "id": "dOIG4NvUxL9o",
        "outputId": "9a0a01cf-6747-40a7-a47d-f7f6fead50f7"
      },
      "execution_count": null,
      "outputs": [
        {
          "output_type": "stream",
          "name": "stdout",
          "text": [
            "/content/5030/hw1\n"
          ]
        }
      ]
    },
    {
      "cell_type": "code",
      "source": [
        "# setting the relative path\n",
        "%env FILEPATH=/content/5030/hw1/bad_reads.txt"
      ],
      "metadata": {
        "colab": {
          "base_uri": "https://localhost:8080/"
        },
        "id": "5R1lDEvewJu5",
        "outputId": "f6c36897-89b6-4778-fa5b-3b66a91c9acc"
      },
      "execution_count": null,
      "outputs": [
        {
          "output_type": "stream",
          "name": "stdout",
          "text": [
            "env: FILEPATH=/content/5030/hw1/bad_reads.txt\n"
          ]
        }
      ]
    },
    {
      "cell_type": "code",
      "source": [
        "# make the new directory\n",
        "!mkdir q1"
      ],
      "metadata": {
        "id": "2Da5SPtlwhC1"
      },
      "execution_count": null,
      "outputs": []
    },
    {
      "cell_type": "code",
      "source": [
        "# copy using relative path\n",
        "!cp $FILEPATH q1/bad_reads.txt"
      ],
      "metadata": {
        "id": "SZhYOMz2xs2E"
      },
      "execution_count": null,
      "outputs": []
    },
    {
      "cell_type": "code",
      "source": [
        "# cd to the q1 folder and see if the file has been copied\n",
        "%cd q1\n",
        "!ls"
      ],
      "metadata": {
        "colab": {
          "base_uri": "https://localhost:8080/"
        },
        "id": "JGvo3lKJxesJ",
        "outputId": "49caa4a0-8c2f-49fb-8c40-df8c80a33997"
      },
      "execution_count": null,
      "outputs": [
        {
          "output_type": "stream",
          "name": "stdout",
          "text": [
            "/content/5030/hw1/q1\n",
            "bad_reads.txt\n"
          ]
        }
      ]
    },
    {
      "cell_type": "code",
      "source": [
        "# display information of this output file in long format using ls command\n",
        "!ls -l bad_reads.txt"
      ],
      "metadata": {
        "colab": {
          "base_uri": "https://localhost:8080/"
        },
        "id": "fQgybR7exlRf",
        "outputId": "3fb933bc-e280-450b-a497-5ab16da92b9d"
      },
      "execution_count": null,
      "outputs": [
        {
          "output_type": "stream",
          "name": "stdout",
          "text": [
            "-rw-r--r-- 1 root root 20060 Jan 26 09:47 bad_reads.txt\n"
          ]
        }
      ]
    },
    {
      "cell_type": "code",
      "source": [
        "# number of lines\n",
        "!wc -l bad_reads.txt"
      ],
      "metadata": {
        "colab": {
          "base_uri": "https://localhost:8080/"
        },
        "id": "KkmG6d4GyVWM",
        "outputId": "a9c1cca9-96e6-4853-e37c-7ec2428bbdab"
      },
      "execution_count": null,
      "outputs": [
        {
          "output_type": "stream",
          "name": "stdout",
          "text": [
            "668 bad_reads.txt\n"
          ]
        }
      ]
    },
    {
      "cell_type": "markdown",
      "source": [
        "## Question 2"
      ],
      "metadata": {
        "id": "JCQihIudzwOW"
      }
    },
    {
      "cell_type": "markdown",
      "source": [
        "Suppose that the SRA metadata file `ecoli/sra_metadata/SraRunTable.txt` contains a lot of information about the samples that we submitted for sequencing. The samples were a mix of single- and paired-end libraries. Now we want to know how many samples of each library type are recorded in our table. Follow steps below to explore the table and perform your task. First of all, copy the original file `SraRunTable.txt` to your own directory `~/5030/hw1/q2`.\n"
      ],
      "metadata": {
        "id": "Gvp1Xkdbz-w2"
      }
    },
    {
      "cell_type": "code",
      "source": [
        "!echo $PWD"
      ],
      "metadata": {
        "colab": {
          "base_uri": "https://localhost:8080/"
        },
        "id": "nNDZa6EJz6SJ",
        "outputId": "802dcd99-2db6-4768-9818-fddc33e9e11f"
      },
      "execution_count": null,
      "outputs": [
        {
          "output_type": "stream",
          "name": "stdout",
          "text": [
            "/content/5030/hw1\n"
          ]
        }
      ]
    },
    {
      "cell_type": "code",
      "source": [
        "# make new directory\n",
        "!mkdir q2"
      ],
      "metadata": {
        "id": "BDJx8bsD0GeN"
      },
      "execution_count": null,
      "outputs": []
    },
    {
      "cell_type": "code",
      "source": [
        "# copy the file\n",
        "!cp ecoli/sra_metadata/SraRunTable.txt q2/SraRunTable.txt"
      ],
      "metadata": {
        "id": "k9MYjOJDz9mp"
      },
      "execution_count": null,
      "outputs": []
    },
    {
      "cell_type": "code",
      "source": [
        "# check if it is copied\n",
        "%cd q2\n",
        "!ls"
      ],
      "metadata": {
        "colab": {
          "base_uri": "https://localhost:8080/"
        },
        "id": "o18MrOHb0bwh",
        "outputId": "3a33e576-0148-42f1-95a4-3ef7a44445d1"
      },
      "execution_count": null,
      "outputs": [
        {
          "output_type": "stream",
          "name": "stdout",
          "text": [
            "/content/5030/hw1/q2\n",
            "SraRunTable.txt\n"
          ]
        }
      ]
    },
    {
      "cell_type": "markdown",
      "source": [
        "### 1. The column headers are in the first row of the meta table. Use `head -n` command to check the first line of the table and record the number of column for `LibraryLayout_s`.\n"
      ],
      "metadata": {
        "id": "5eWrMgAC0spA"
      }
    },
    {
      "cell_type": "code",
      "source": [
        "!head -n 1 SraRunTable.txt | awk -v b=\"LibraryLayout_s\" '{for (i=1;i<=NF;i++) { if ($i == b) { print i } }}'"
      ],
      "metadata": {
        "colab": {
          "base_uri": "https://localhost:8080/"
        },
        "id": "-_VtJtGd2E_a",
        "outputId": "a4426665-23b8-4324-b089-35d162ca6797"
      },
      "execution_count": null,
      "outputs": [
        {
          "output_type": "stream",
          "name": "stdout",
          "text": [
            "3\n"
          ]
        }
      ]
    },
    {
      "cell_type": "markdown",
      "source": [
        "### 2. Use `cut` and `head` to view the first 12 lines of the `LibraryLayout_s` column, in one single command.\n"
      ],
      "metadata": {
        "id": "20hPPFXs3MV6"
      }
    },
    {
      "cell_type": "code",
      "source": [
        "!head -n 12 SraRunTable.txt | cut -f3"
      ],
      "metadata": {
        "colab": {
          "base_uri": "https://localhost:8080/"
        },
        "id": "N41yQWnn3OrX",
        "outputId": "803c74bc-7b1b-40bd-c7d6-d77d381814c5"
      },
      "execution_count": null,
      "outputs": [
        {
          "output_type": "stream",
          "name": "stdout",
          "text": [
            "LibraryLayout_s\n",
            "SINGLE\n",
            "SINGLE\n",
            "SINGLE\n",
            "SINGLE\n",
            "SINGLE\n",
            "SINGLE\n",
            "SINGLE\n",
            "SINGLE\n",
            "PAIRED\n",
            "SINGLE\n",
            "SINGLE\n"
          ]
        }
      ]
    },
    {
      "cell_type": "markdown",
      "source": [
        "### 3. Use `cut`, `grep -v` to extract the column of `LibraryLayout_s` without the header and redirect the output to `library_layout.txt`. Then use `wc` command to double check that your output file contains the right number of lines. *Help: The `grep -v` command can help you remove the header.]*\n"
      ],
      "metadata": {
        "id": "lwY_-v3S3ZS0"
      }
    },
    {
      "cell_type": "code",
      "source": [
        "# extract the column without the header\n",
        "!grep -v \"LibraryLayout_s\" SraRunTable.txt | cut -f3 >> library_layout.txt"
      ],
      "metadata": {
        "id": "bFg3AJoB3cE4"
      },
      "execution_count": null,
      "outputs": []
    },
    {
      "cell_type": "code",
      "source": [
        "# check on the number of lines in the two files\n",
        "!wc -l SraRunTable.txt\n",
        "!wc -l library_layout.txt"
      ],
      "metadata": {
        "colab": {
          "base_uri": "https://localhost:8080/"
        },
        "id": "7UMVqCgm3s5Q",
        "outputId": "7fb7d28e-2851-4fd8-efd5-aeaa0e447e7b"
      },
      "execution_count": null,
      "outputs": [
        {
          "output_type": "stream",
          "name": "stdout",
          "text": [
            "38 SraRunTable.txt\n",
            "37 library_layout.txt\n"
          ]
        }
      ]
    },
    {
      "cell_type": "markdown",
      "source": [
        "### 4. Count the number of `PAIRED` and `SINGLE` in `library_layout.txt` using `sort` and `uniq -c`. *Help: The `sort` command will sort the lines of a text file and the `uniq` command will filter out repeated neighboring lines in a file. You might expect `uniq` to extract all of the unique lines in a file. But it isn't.*\n"
      ],
      "metadata": {
        "id": "hwBQgA2X4SyX"
      }
    },
    {
      "cell_type": "code",
      "source": [
        "! sort library_layout.txt | uniq -c"
      ],
      "metadata": {
        "colab": {
          "base_uri": "https://localhost:8080/"
        },
        "id": "PPZgGMsp4UE-",
        "outputId": "d29f6ee4-e74b-48d8-abc8-a27e7fb53731"
      },
      "execution_count": null,
      "outputs": [
        {
          "output_type": "stream",
          "name": "stdout",
          "text": [
            "      2 PAIRED\n",
            "     35 SINGLE\n"
          ]
        }
      ]
    },
    {
      "cell_type": "markdown",
      "source": [
        "### 5. Combine commands in questions 3 and 4 into a single one to get number of samples of each library type (with piping), so that no intermediate file is needed.\n"
      ],
      "metadata": {
        "id": "36n-irOG4iqY"
      }
    },
    {
      "cell_type": "code",
      "source": [
        "!grep -v \"LibraryLayout_s\" SraRunTable.txt | cut -f3 | sort | uniq -c"
      ],
      "metadata": {
        "colab": {
          "base_uri": "https://localhost:8080/"
        },
        "id": "jkAf5nLm4k3n",
        "outputId": "686557cc-a8f8-4dda-c193-2035fcef3667"
      },
      "execution_count": null,
      "outputs": [
        {
          "output_type": "stream",
          "name": "stdout",
          "text": [
            "      2 PAIRED\n",
            "     35 SINGLE\n"
          ]
        }
      ]
    },
    {
      "cell_type": "markdown",
      "source": [
        "### 6. Similarly, can you find out the number of different sample load dates in the table? How many samples were loaded on each date? Perform this task in a single command.\n"
      ],
      "metadata": {
        "id": "oi2lstcE4tU_"
      }
    },
    {
      "cell_type": "code",
      "source": [
        "# get the column number first\n",
        "# (could be performed by simple visualization though)\n",
        "!head -n 1 SraRunTable.txt | awk -v b=\"LoadDate_s\" '{for (i=1;i<=NF;i++) { if ($i == b) { print i } }}'"
      ],
      "metadata": {
        "colab": {
          "base_uri": "https://localhost:8080/"
        },
        "id": "CBs0QvAn4vnE",
        "outputId": "2b186b32-a2c5-4541-f4c3-9c4b15c31766"
      },
      "execution_count": null,
      "outputs": [
        {
          "output_type": "stream",
          "name": "stdout",
          "text": [
            "5\n"
          ]
        }
      ]
    },
    {
      "cell_type": "code",
      "source": [
        "# get the number of different sample load dates\n",
        "!grep -v \"LoadDate_s\" SraRunTable.txt | cut -f5 | sort | uniq -c"
      ],
      "metadata": {
        "colab": {
          "base_uri": "https://localhost:8080/"
        },
        "id": "DSU2QpuJ5Csg",
        "outputId": "749f603b-b420-4416-a166-1bf91d8eb71f"
      },
      "execution_count": null,
      "outputs": [
        {
          "output_type": "stream",
          "name": "stdout",
          "text": [
            "      6 25-Jul-12\n",
            "     31 29-May-14\n"
          ]
        }
      ]
    },
    {
      "cell_type": "markdown",
      "source": [
        "## Question 3"
      ],
      "metadata": {
        "id": "DmL2frPi5QDR"
      }
    },
    {
      "cell_type": "markdown",
      "source": [
        "Data files are available under `/hdd1/shared/bdgp6/data/genomes`."
      ],
      "metadata": {
        "id": "ALSZiVBY5qVq"
      }
    },
    {
      "cell_type": "markdown",
      "source": [
        "### 1. Prepare your work space by creating directories of the following hierarchy."
      ],
      "metadata": {
        "id": "9KF3C3FKhIZ_"
      }
    },
    {
      "cell_type": "markdown",
      "source": [
        "    ```\n",
        "    ~/5030/hw1/q3/\n",
        "    ├── summary\n",
        "    |   └── q3_directory_contents.txt\n",
        "    ├── genome-annot\n",
        "    │   └── BDGP6.Ensembl.93.gtf\n",
        "    └── output\n",
        "    ```\n",
        "  a. Create directories of `summary`, `genome-annot` and `output`, under `~/5030/hw1/q3`.\n",
        "\n",
        "  b. Under `genome-annot`, create a symbolic link of the `.gft` file using `ln -s` command. The original `.gtf` file is under `/hdd1/shared/bdgp6/data/genomes`.\n",
        "\n",
        "  c. Record your directory structure by saving the output of `ls -lR ~/5030/hw1/q3` into the `summary` directory as a file named `q3_directory_contents.txt`.\n"
      ],
      "metadata": {
        "id": "prBXwch6hDsB"
      }
    },
    {
      "cell_type": "code",
      "source": [
        "# making the directories\n",
        "\n",
        "!mkdir 5030\n",
        "%cd 5030\n",
        "!mkdir hw1\n",
        "%cd hw1\n",
        "!mkdir q3\n",
        "%cd q3\n",
        "!mkdir summary\n",
        "!mkdir genome-annot\n",
        "!mkdir output\n",
        "!ls"
      ],
      "metadata": {
        "colab": {
          "base_uri": "https://localhost:8080/"
        },
        "id": "AhAtVKVThHSu",
        "outputId": "7609a589-d6b9-4f83-cd24-14c70168db04"
      },
      "execution_count": null,
      "outputs": [
        {
          "output_type": "stream",
          "name": "stdout",
          "text": [
            "mkdir: cannot create directory ‘5030’: File exists\n",
            "/content/5030\n",
            "/content/5030/hw1\n",
            "/content/5030/hw1/q3\n",
            "genome-annot  output  summary\n"
          ]
        }
      ]
    },
    {
      "cell_type": "code",
      "source": [
        "# creating the link\n",
        "\n",
        "%cd genome-annot\n",
        "!ln -s \"/content/drive/MyDrive/Colab Notebooks/5030/genomes/BDGP6.Ensembl.93.gtf\""
      ],
      "metadata": {
        "colab": {
          "base_uri": "https://localhost:8080/"
        },
        "id": "GN20Wb73hy_G",
        "outputId": "4e39b2a9-49c1-49a5-8a11-620a23b85495"
      },
      "execution_count": null,
      "outputs": [
        {
          "output_type": "stream",
          "name": "stdout",
          "text": [
            "/content/5030/hw1/q3/genome-annot\n"
          ]
        }
      ]
    },
    {
      "cell_type": "code",
      "source": [
        "%cd .."
      ],
      "metadata": {
        "id": "DCjxrI2wix9g"
      },
      "execution_count": null,
      "outputs": []
    },
    {
      "cell_type": "code",
      "source": [
        "# Record your directory structure\n",
        "\n",
        "!ls -lR > summary/q3_directory_contents.txt"
      ],
      "metadata": {
        "id": "VkT8HwdzjEUY"
      },
      "execution_count": null,
      "outputs": []
    },
    {
      "cell_type": "code",
      "source": [
        "# looking at the directory structure\n",
        "\n",
        "!head summary/q3_directory_contents.txt"
      ],
      "metadata": {
        "colab": {
          "base_uri": "https://localhost:8080/"
        },
        "id": "-KfvXMizjM1f",
        "outputId": "36bd9ba0-0903-4909-bbd1-1cd870e6ff5c"
      },
      "execution_count": null,
      "outputs": [
        {
          "output_type": "stream",
          "name": "stdout",
          "text": [
            ".:\n",
            "total 12\n",
            "drwxr-xr-x 2 root root 4096 Feb  2 08:26 genome-annot\n",
            "drwxr-xr-x 2 root root 4096 Feb  2 08:23 output\n",
            "drwxr-xr-x 2 root root 4096 Feb  2 08:27 summary\n",
            "\n",
            "./genome-annot:\n",
            "total 4\n",
            "lrwxrwxrwx 1 root root 72 Feb  2 08:26 BDGP6.Ensembl.93.gtf -> /content/drive/MyDrive/Colab Notebooks/5030/genomes/BDGP6.Ensembl.93.gtf\n",
            "\n"
          ]
        }
      ]
    },
    {
      "cell_type": "markdown",
      "source": [
        "### 2. In `BDGP6.Ensembl.93.gtf`, how many different `transcript_id`s are associated with the gene `Sxl`?\n"
      ],
      "metadata": {
        "id": "QmE-ObRZjVn3"
      }
    },
    {
      "cell_type": "code",
      "source": [
        "%cd genome-annot"
      ],
      "metadata": {
        "colab": {
          "base_uri": "https://localhost:8080/"
        },
        "id": "_qpuxZEJja-I",
        "outputId": "2da65886-90aa-43c4-de50-96e63d14aeee"
      },
      "execution_count": null,
      "outputs": [
        {
          "output_type": "stream",
          "name": "stdout",
          "text": [
            "/content/5030/hw1/q3/genome-annot\n"
          ]
        }
      ]
    },
    {
      "cell_type": "code",
      "source": [
        "!head BDGP6.Ensembl.93.gtf"
      ],
      "metadata": {
        "colab": {
          "base_uri": "https://localhost:8080/"
        },
        "id": "psaklqYejdXr",
        "outputId": "221076da-f480-4253-9d5e-1df567aaa803"
      },
      "execution_count": null,
      "outputs": [
        {
          "output_type": "stream",
          "name": "stdout",
          "text": [
            "#!genome-build BDGP6\n",
            "#!genome-version BDGP6\n",
            "#!genome-date 2014-07\n",
            "#!genome-build-accession GCA_000001215.4\n",
            "3R\tFlyBase\tgene\t567076\t2532932\t.\t+\t.\tgene_id \"FBgn0267431\"; gene_name \"Myo81F\"; gene_source \"FlyBase\"; gene_biotype \"protein_coding\";\n",
            "3R\tFlyBase\ttranscript\t567076\t2532932\t.\t+\t.\tgene_id \"FBgn0267431\"; transcript_id \"FBtr0392909\"; gene_name \"Myo81F\"; gene_source \"FlyBase\"; gene_biotype \"protein_coding\"; transcript_name \"Myo81F-RB\"; transcript_source \"FlyBase\"; transcript_biotype \"protein_coding\";\n",
            "3R\tFlyBase\texon\t567076\t567268\t.\t+\t.\tgene_id \"FBgn0267431\"; transcript_id \"FBtr0392909\"; exon_number \"1\"; gene_name \"Myo81F\"; gene_source \"FlyBase\"; gene_biotype \"protein_coding\"; transcript_name \"Myo81F-RB\"; transcript_source \"FlyBase\"; transcript_biotype \"protein_coding\"; exon_id \"FBtr0392909-E1\";\n",
            "3R\tFlyBase\texon\t835376\t835491\t.\t+\t.\tgene_id \"FBgn0267431\"; transcript_id \"FBtr0392909\"; exon_number \"2\"; gene_name \"Myo81F\"; gene_source \"FlyBase\"; gene_biotype \"protein_coding\"; transcript_name \"Myo81F-RB\"; transcript_source \"FlyBase\"; transcript_biotype \"protein_coding\"; exon_id \"FBtr0392909-E2\";\n",
            "3R\tFlyBase\tCDS\t835378\t835491\t.\t+\t0\tgene_id \"FBgn0267431\"; transcript_id \"FBtr0392909\"; exon_number \"2\"; gene_name \"Myo81F\"; gene_source \"FlyBase\"; gene_biotype \"protein_coding\"; transcript_name \"Myo81F-RB\"; transcript_source \"FlyBase\"; transcript_biotype \"protein_coding\"; protein_id \"FBpp0352251\"; protein_version \"1\";\n",
            "3R\tFlyBase\tstart_codon\t835378\t835380\t.\t+\t0\tgene_id \"FBgn0267431\"; transcript_id \"FBtr0392909\"; exon_number \"2\"; gene_name \"Myo81F\"; gene_source \"FlyBase\"; gene_biotype \"protein_coding\"; transcript_name \"Myo81F-RB\"; transcript_source \"FlyBase\"; transcript_biotype \"protein_coding\";\n"
          ]
        }
      ]
    },
    {
      "cell_type": "code",
      "source": [
        "!cut -f9 BDGP6.Ensembl.93.gtf | grep \"Sxl\" | grep \"transcript_id\" | wc -l"
      ],
      "metadata": {
        "colab": {
          "base_uri": "https://localhost:8080/"
        },
        "id": "4P6ZeGxdmVk-",
        "outputId": "fa52070f-70a2-469c-9334-8c820a38c983"
      },
      "execution_count": null,
      "outputs": [
        {
          "output_type": "stream",
          "name": "stdout",
          "text": [
            "488\n"
          ]
        }
      ]
    },
    {
      "cell_type": "markdown",
      "source": [
        "### 3. How many different features (column 3) in `BDGP6.Ensembl.93.gtf` file?"
      ],
      "metadata": {
        "id": "lNG1RIL_mx6l"
      }
    },
    {
      "cell_type": "markdown",
      "source": [
        "  a. Use `cut` and `head` to view part of the contents in column 3.\n",
        "\n",
        "  b. In a single line of command, use `grep -v '^#'` to remove the header lines and then use `cut` and `head` to view part of contents in column 3 again. (Just print first 10 lines, no need to save any file.) What does `grep -v '^#'` mean? (`^` represents the beginning of a line)\n",
        "\n",
        "  c. Modify command in question `b` to list all different types of features in the `.gtf` file. (Use `sort` and `uniq`; in a single line of command)\n",
        "\n",
        "  d. Modify command in question `c` to show the number of each feature type and sort it in the order of the numbers using `sort -n` command. (Perform the task in a single line of command)\n"
      ],
      "metadata": {
        "id": "2etkqtmLm0QS"
      }
    },
    {
      "cell_type": "code",
      "source": [
        "# Part a\n",
        "\n",
        "!cut -f3 BDGP6.Ensembl.93.gtf | head"
      ],
      "metadata": {
        "colab": {
          "base_uri": "https://localhost:8080/"
        },
        "id": "WhMz9CvJm2i_",
        "outputId": "a6ba14f0-3d21-4f36-f5b2-d0a9d15515a3"
      },
      "execution_count": null,
      "outputs": [
        {
          "output_type": "stream",
          "name": "stdout",
          "text": [
            "#!genome-build BDGP6\n",
            "#!genome-version BDGP6\n",
            "#!genome-date 2014-07\n",
            "#!genome-build-accession GCA_000001215.4\n",
            "gene\n",
            "transcript\n",
            "exon\n",
            "exon\n",
            "CDS\n",
            "start_codon\n"
          ]
        }
      ]
    },
    {
      "cell_type": "code",
      "source": [
        "# Part b\n",
        "\n",
        "!grep -v '^#' BDGP6.Ensembl.93.gtf | cut -f3 | head\n",
        "# '^#' means starting with #"
      ],
      "metadata": {
        "colab": {
          "base_uri": "https://localhost:8080/"
        },
        "id": "QD8K-jZum9SG",
        "outputId": "4b88aead-0653-48e4-f882-b6165e4e35ce"
      },
      "execution_count": null,
      "outputs": [
        {
          "output_type": "stream",
          "name": "stdout",
          "text": [
            "gene\n",
            "transcript\n",
            "exon\n",
            "exon\n",
            "CDS\n",
            "start_codon\n",
            "exon\n",
            "CDS\n",
            "exon\n",
            "CDS\n"
          ]
        }
      ]
    },
    {
      "cell_type": "code",
      "source": [
        "# Part c\n",
        "\n",
        "!grep -v '^#' BDGP6.Ensembl.93.gtf | cut -f3 | sort | uniq"
      ],
      "metadata": {
        "colab": {
          "base_uri": "https://localhost:8080/"
        },
        "id": "qfcJqXYAnL2c",
        "outputId": "d32720b3-df04-4ebd-df77-6d6d1d7cc244"
      },
      "execution_count": null,
      "outputs": [
        {
          "output_type": "stream",
          "name": "stdout",
          "text": [
            "CDS\n",
            "exon\n",
            "five_prime_utr\n",
            "gene\n",
            "Selenocysteine\n",
            "start_codon\n",
            "three_prime_utr\n",
            "transcript\n"
          ]
        }
      ]
    },
    {
      "cell_type": "code",
      "source": [
        "# Part d\n",
        "\n",
        "!grep -v '^#' BDGP6.Ensembl.93.gtf | cut -f3 | sort | uniq -c | sort -nr"
      ],
      "metadata": {
        "colab": {
          "base_uri": "https://localhost:8080/"
        },
        "id": "KeyuA1nTncx1",
        "outputId": "d006e514-526f-4ffa-f15b-e5d0e4bb4b37"
      },
      "execution_count": null,
      "outputs": [
        {
          "output_type": "stream",
          "name": "stdout",
          "text": [
            " 187373 exon\n",
            " 160859 CDS\n",
            "  46299 five_prime_utr\n",
            "  34767 transcript\n",
            "  33892 three_prime_utr\n",
            "  30492 start_codon\n",
            "  17737 gene\n",
            "      4 Selenocysteine\n"
          ]
        }
      ]
    },
    {
      "cell_type": "markdown",
      "source": [
        "### 4. Create a simpler `.bed` file containing only genes, excluding those on scaffolds beginning with `211` (The first column of `.gtf` file is name of chromosome or scaffold). For details of `GTF` and `BED` file formats, see https://asia.ensembl.org/info/website/upload/gff.html and https://asia.ensembl.org/info/website/upload/bed.html.\n"
      ],
      "metadata": {
        "id": "c8ZFPM2hpaHY"
      }
    },
    {
      "cell_type": "markdown",
      "source": [
        "  a. The combination of `awk` and `grep` can get you part of the way. Please try the following command and interpret it in your own words.\n",
        "  \n",
        "    ```\n",
        "    $ cd ~/5030/hw1/q3/genome-annot\n",
        "    $ awk '$3 == \"gene\" {print $1 \"\\t\" $4 \"\\t\" $5}' BDGP6.Ensembl.93.gtf \\\n",
        "    | grep -v ^211 | head\n",
        "    ```"
      ],
      "metadata": {
        "id": "Agi1Z_UTpn2x"
      }
    },
    {
      "cell_type": "code",
      "source": [
        "!awk '$3 == \"gene\" {print $1 \"\\t\" $4 \"\\t\" $5}' BDGP6.Ensembl.93.gtf | grep -v ^211 | head"
      ],
      "metadata": {
        "colab": {
          "base_uri": "https://localhost:8080/"
        },
        "id": "W3nMvquoplZ4",
        "outputId": "5f0f7b90-eed5-4e02-9e1d-e330b927c5e1"
      },
      "execution_count": null,
      "outputs": [
        {
          "output_type": "stream",
          "name": "stdout",
          "text": [
            "3R\t567076\t2532932\n",
            "3R\t722370\t722621\n",
            "3R\t1031171\t1031354\n",
            "3R\t1366234\t1366601\n",
            "3R\t1865108\t1866008\n",
            "3R\t2156916\t2157206\n",
            "3R\t2554162\t3263582\n",
            "3R\t2744304\t2744800\n",
            "3R\t3322810\t3354486\n",
            "3R\t3461351\t3587054\n"
          ]
        }
      ]
    },
    {
      "cell_type": "markdown",
      "source": [
        "  b. Modify the `awk` `print` command so that column 4 is the gene name and column 5 is the gene length. e.g.\n",
        "  ```\n",
        "  3R\t4641963\t4644636\t\"slx1\";\t2674\n",
        "  3R\t4641963\t4643292\t\"MED31\";\t1330\n",
        "  3R\t4644649\t4645655\t\"Dlip2\";\t1007\n",
        "  3R\t4645981\t4648884\t\"rpk\";\t2904\n",
        "  3R\t4646433\t4648242\t\"CR44155\";\t1810\n",
        "  ```"
      ],
      "metadata": {
        "id": "pyI5J1fsqIKJ"
      }
    },
    {
      "cell_type": "code",
      "source": [
        "!awk '$3 == \"gene\" {print $1 \"\\t\" $4 \"\\t\" $5 \"\\t\" $12 \"\\t\" $5-$4}' BDGP6.Ensembl.93.gtf | grep -v ^211 | head"
      ],
      "metadata": {
        "colab": {
          "base_uri": "https://localhost:8080/"
        },
        "id": "hIaeO9TapEa1",
        "outputId": "2290041a-7bcb-467c-f1e5-5548a4ed68c2"
      },
      "execution_count": null,
      "outputs": [
        {
          "output_type": "stream",
          "name": "stdout",
          "text": [
            "3R\t567076\t2532932\t\"Myo81F\";\t1965856\n",
            "3R\t722370\t722621\t\"CR41571\";\t251\n",
            "3R\t1031171\t1031354\t\"CR12798\";\t183\n",
            "3R\t1366234\t1366601\t\"CR46123\";\t367\n",
            "3R\t1865108\t1866008\t\"CR46122\";\t900\n",
            "3R\t2156916\t2157206\t\"CR40182\";\t290\n",
            "3R\t2554162\t3263582\t\"Pzl\";\t709420\n",
            "3R\t2744304\t2744800\t\"CR45220\";\t496\n",
            "3R\t3322810\t3354486\t\"spok\";\t31676\n",
            "3R\t3461351\t3587054\t\"Parp\";\t125703\n"
          ]
        }
      ]
    },
    {
      "cell_type": "markdown",
      "source": [
        "c. Continue to modify the command and use `sed` to remove the `;` sign at the end of gene_name column. (You may want to use `\\;` instead of `;` in `sed` substitution)\n"
      ],
      "metadata": {
        "id": "Q-0v-NIAqhh0"
      }
    },
    {
      "cell_type": "code",
      "source": [
        "!awk '$3 == \"gene\" {print $1 \"\\t\" $4 \"\\t\" $5 \"\\t\" $12 \"\\t\" $5-$4}' BDGP6.Ensembl.93.gtf \\\n",
        "| grep -v ^211 | sed s/';'//g | head"
      ],
      "metadata": {
        "colab": {
          "base_uri": "https://localhost:8080/"
        },
        "id": "umGFtQF2qj30",
        "outputId": "e57c574a-2ac0-49e6-ee11-3b67ce79cd91"
      },
      "execution_count": null,
      "outputs": [
        {
          "output_type": "stream",
          "name": "stdout",
          "text": [
            "3R\t567076\t2532932\t\"Myo81F\"\t1965856\n",
            "3R\t722370\t722621\t\"CR41571\"\t251\n",
            "3R\t1031171\t1031354\t\"CR12798\"\t183\n",
            "3R\t1366234\t1366601\t\"CR46123\"\t367\n",
            "3R\t1865108\t1866008\t\"CR46122\"\t900\n",
            "3R\t2156916\t2157206\t\"CR40182\"\t290\n",
            "3R\t2554162\t3263582\t\"Pzl\"\t709420\n",
            "3R\t2744304\t2744800\t\"CR45220\"\t496\n",
            "3R\t3322810\t3354486\t\"spok\"\t31676\n",
            "3R\t3461351\t3587054\t\"Parp\"\t125703\n"
          ]
        }
      ]
    },
    {
      "cell_type": "markdown",
      "source": [
        "d. Instead of printing out first 10 lines, now redirect the results to a new file named `BDGP6.Ensembl.93.gene.bed`. Verify that your file contains 17721 lines.\n"
      ],
      "metadata": {
        "id": "UOoXc6JWrxbu"
      }
    },
    {
      "cell_type": "code",
      "source": [
        "!awk '$3 == \"gene\" {print $1 \"\\t\" $4 \"\\t\" $5 \"\\t\" $12 \"\\t\" $5-$4}' BDGP6.Ensembl.93.gtf \\\n",
        "| grep -v ^211 | sed s/';'//g > BDGP6.Ensembl.93.gene.bed"
      ],
      "metadata": {
        "id": "hvMtQz2Crz_t"
      },
      "execution_count": null,
      "outputs": []
    },
    {
      "cell_type": "code",
      "source": [
        "# verify the number of lines\n",
        "\n",
        "!wc -l BDGP6.Ensembl.93.gene.bed"
      ],
      "metadata": {
        "colab": {
          "base_uri": "https://localhost:8080/"
        },
        "id": "N-3_1uzYsKQr",
        "outputId": "c5d5cb7b-2bce-4d90-9ab6-57cc4ba8b8e9"
      },
      "execution_count": null,
      "outputs": [
        {
          "output_type": "stream",
          "name": "stdout",
          "text": [
            "17721 BDGP6.Ensembl.93.gene.bed\n"
          ]
        }
      ]
    },
    {
      "cell_type": "markdown",
      "source": [
        "e. Save the first 100 lines of the results to `~/5030/hw1/q3/output/BDGP6.Ensembl.93.head100.bed`\n"
      ],
      "metadata": {
        "id": "AkT_yflasV3c"
      }
    },
    {
      "cell_type": "code",
      "source": [
        "!awk '$3 == \"gene\" {print $1 \"\\t\" $4 \"\\t\" $5 \"\\t\" $12 \"\\t\" $5-$4}' BDGP6.Ensembl.93.gtf \\\n",
        "| grep -v ^211 | sed s/';'//g | head -100 > ../output/BDGP6.Ensembl.93.head100.bed"
      ],
      "metadata": {
        "id": "yOSFVj6xsWQ1"
      },
      "execution_count": null,
      "outputs": []
    },
    {
      "cell_type": "code",
      "source": [
        "# verify the number of lines\n",
        "\n",
        "!wc -l ../output/BDGP6.Ensembl.93.head100.bed"
      ],
      "metadata": {
        "colab": {
          "base_uri": "https://localhost:8080/"
        },
        "id": "tQGA542NslBv",
        "outputId": "7cac4d47-de34-4dce-9d6c-7282ee87e1c1"
      },
      "execution_count": null,
      "outputs": [
        {
          "output_type": "stream",
          "name": "stdout",
          "text": [
            "100 ../output/BDGP6.Ensembl.93.head100.bed\n"
          ]
        }
      ]
    },
    {
      "cell_type": "markdown",
      "source": [
        "### 5. Count number of genes per chromosome in `BDGP6.Ensembl.93.gene.bed` using `cut` `sort` and `uniq`. Redirect your results to `~/5030/hw1/q3/output/genes_per_chromosome.out`.\n"
      ],
      "metadata": {
        "id": "OnmdROX9s60E"
      }
    },
    {
      "cell_type": "code",
      "source": [
        "# visualizing the data\n",
        "\n",
        "!head BDGP6.Ensembl.93.gene.bed"
      ],
      "metadata": {
        "colab": {
          "base_uri": "https://localhost:8080/"
        },
        "id": "fp3w0t9Js-8l",
        "outputId": "690d07ca-4ff4-4741-d4c3-d6015d7b53ff"
      },
      "execution_count": null,
      "outputs": [
        {
          "output_type": "stream",
          "name": "stdout",
          "text": [
            "3R\t567076\t2532932\t\"Myo81F\"\t1965856\n",
            "3R\t722370\t722621\t\"CR41571\"\t251\n",
            "3R\t1031171\t1031354\t\"CR12798\"\t183\n",
            "3R\t1366234\t1366601\t\"CR46123\"\t367\n",
            "3R\t1865108\t1866008\t\"CR46122\"\t900\n",
            "3R\t2156916\t2157206\t\"CR40182\"\t290\n",
            "3R\t2554162\t3263582\t\"Pzl\"\t709420\n",
            "3R\t2744304\t2744800\t\"CR45220\"\t496\n",
            "3R\t3322810\t3354486\t\"spok\"\t31676\n",
            "3R\t3461351\t3587054\t\"Parp\"\t125703\n"
          ]
        }
      ]
    },
    {
      "cell_type": "code",
      "source": [
        "# redirecting the results\n",
        "\n",
        "!cut -f1 BDGP6.Ensembl.93.gene.bed | sort | uniq -c | sort -nr > ../output/genes_per_chromosome.out"
      ],
      "metadata": {
        "id": "03dZNsN9tN8c"
      },
      "execution_count": null,
      "outputs": []
    },
    {
      "cell_type": "code",
      "source": [
        "# visualizing the results\n",
        "\n",
        "! head ../output/genes_per_chromosome.out"
      ],
      "metadata": {
        "colab": {
          "base_uri": "https://localhost:8080/"
        },
        "id": "PgxaD96svTl9",
        "outputId": "9861e3b5-9b15-4ccb-93d1-c58af9f95f03"
      },
      "execution_count": null,
      "outputs": [
        {
          "output_type": "stream",
          "name": "stdout",
          "text": [
            "   4191 3R\n",
            "   3621 2R\n",
            "   3496 2L\n",
            "   3457 3L\n",
            "   2671 X\n",
            "    113 Y\n",
            "    111 4\n",
            "     38 mitochondrion_genome\n",
            "     21 rDNA\n",
            "      2 Unmapped_Scaffold_8\n"
          ]
        }
      ]
    },
    {
      "cell_type": "markdown",
      "source": [
        "### 6. Find 20 longest and shortest genes in `BDGP6.Ensembl.93.gene.bed` using `sort` command with `-n` and `-k` options. Redirect the results in `~/5030/hw1/q3/output/longest_20_genes.out` and `~/5030/hw1/q3/output/shortest_20_genes.out` respectively. (Hint: First of all, figure out what are options `-n` and `-k` in the `sort` command. Then take advantage of the commands that allow you to examine the beginning or the end of a file.) Your output file should look like\n"
      ],
      "metadata": {
        "id": "4Jrx3F3JvY3l"
      }
    },
    {
      "cell_type": "markdown",
      "source": [
        "  ```\n",
        "  3R      31846987        32015520        \"heph\"  168534\n",
        "  X       5085759 5254864 \"CG15465\"       169106\n",
        "  ```"
      ],
      "metadata": {
        "id": "p-IldAIWvnW9"
      }
    },
    {
      "cell_type": "code",
      "source": [
        "# the longest 20 genes\n",
        "\n",
        "!sort -k5 -nr BDGP6.Ensembl.93.gene.bed | head -20 > ../output/longest_20_genes.out"
      ],
      "metadata": {
        "id": "spwQs8XbvYQs"
      },
      "execution_count": null,
      "outputs": []
    },
    {
      "cell_type": "code",
      "source": [
        "# the shortest 20 genes\n",
        "\n",
        "!sort -k5 -n BDGP6.Ensembl.93.gene.bed | head > ../output/shortest_20_genes.out"
      ],
      "metadata": {
        "id": "N3zBAxfIwP3Y"
      },
      "execution_count": null,
      "outputs": []
    },
    {
      "cell_type": "code",
      "source": [
        "# visualizing the results (long)\n",
        "\n",
        "!head ../output/longest_20_genes.out"
      ],
      "metadata": {
        "colab": {
          "base_uri": "https://localhost:8080/"
        },
        "id": "s5Av14GKwqHf",
        "outputId": "c961aa28-4c71-4404-9272-5167644dca37"
      },
      "execution_count": null,
      "outputs": [
        {
          "output_type": "stream",
          "name": "stdout",
          "text": [
            "3R\t567076\t2532932\t\"Myo81F\"\t1965856\n",
            "3R\t2554162\t3263582\t\"Pzl\"\t709420\n",
            "3L\t25236940\t25670980\t\"CG45782\"\t434040\n",
            "2R\t1866080\t2262115\t\"CG17684\"\t396035\n",
            "X\t2740384\t3134532\t\"kirre\"\t394148\n",
            "2R\t326768\t705848\t\"CG45781\"\t379080\n",
            "X\t12043698\t12335214\t\"Ten-a\"\t291516\n",
            "3L\t13521907\t13803400\t\"bru3\"\t281493\n",
            "Y\t1636574\t1884846\t\"Ppr-Y\"\t248272\n",
            "X\t7166451\t7405797\t\"CR44357\"\t239346\n"
          ]
        }
      ]
    },
    {
      "cell_type": "code",
      "source": [
        "# visualising the results (short)\n",
        "\n",
        "!head ../output/shortest_20_genes.out"
      ],
      "metadata": {
        "colab": {
          "base_uri": "https://localhost:8080/"
        },
        "id": "PA3na85LwvZF",
        "outputId": "ae76b30f-646a-4c55-a1e6-76845b8c89bd"
      },
      "execution_count": null,
      "outputs": [
        {
          "output_type": "stream",
          "name": "stdout",
          "text": [
            "rDNA\t16526\t16555\t\"2SrRNA-Psi:CR45850\"\t29\n",
            "rDNA\t46356\t46385\t\"2SrRNA:CR45836\"\t29\n",
            "rDNA\t58805\t58834\t\"2SrRNA:CR45840\"\t29\n",
            "rDNA\t70540\t70569\t\"2SrRNA:CR45843\"\t29\n",
            "X\t23205409\t23205438\t\"2SrRNA-Psi:CR40677\"\t29\n",
            "X\t23214040\t23214069\t\"2SrRNA-Psi:CR45858\"\t29\n",
            "X\t23291700\t23291729\t\"2SrRNA:CR45864\"\t29\n",
            "2L\t21680670\t21680700\t\"snmRNA:254\"\t30\n",
            "2L\t19403535\t19403568\t\"snmRNA:359\"\t33\n",
            "2R\t21335510\t21335544\t\"snmRNA:184\"\t34\n"
          ]
        }
      ]
    },
    {
      "cell_type": "markdown",
      "source": [
        "7. Use `awk` command to find genes that are longer than 5000 bps in `BDGP6.Ensembl.93.gene.bed` and redirect the results to `~/5030/hw1/q3/output/BDGP6.Ensembml.93.gt5000.bed`.\n"
      ],
      "metadata": {
        "id": "owOwhX7sw10k"
      }
    },
    {
      "cell_type": "code",
      "source": [
        "!awk '$5 > 5000 {print $0}' BDGP6.Ensembl.93.gene.bed > ../output/BDGP6.Ensembml.93.gt5000.bed"
      ],
      "metadata": {
        "id": "zzLlqSXPw3uJ"
      },
      "execution_count": null,
      "outputs": []
    },
    {
      "cell_type": "code",
      "source": [
        "# visualizing the output\n",
        "\n",
        "!head ../output/BDGP6.Ensembml.93.gt5000.bed"
      ],
      "metadata": {
        "colab": {
          "base_uri": "https://localhost:8080/"
        },
        "id": "PEJC9OjJx3Q4",
        "outputId": "4aedeb8e-b09e-493c-bcd0-889c7ab355e3"
      },
      "execution_count": null,
      "outputs": [
        {
          "output_type": "stream",
          "name": "stdout",
          "text": [
            "3R\t567076\t2532932\t\"Myo81F\"\t1965856\n",
            "3R\t2554162\t3263582\t\"Pzl\"\t709420\n",
            "3R\t3322810\t3354486\t\"spok\"\t31676\n",
            "3R\t3461351\t3587054\t\"Parp\"\t125703\n",
            "3R\t3734855\t3745306\t\"Tim17b\"\t10451\n",
            "3R\t3846729\t3868401\t\"CG41099\"\t21672\n",
            "3R\t4077939\t4104326\t\"CG42402\"\t26387\n",
            "3R\t4126442\t4137882\t\"Gfat1\"\t11440\n",
            "3R\t4174632\t4186751\t\"CG12581\"\t12119\n",
            "3R\t4186963\t4196210\t\"CR33294\"\t9247\n"
          ]
        }
      ]
    },
    {
      "cell_type": "code",
      "source": [
        "# verifying that the min is not smaller than 5000\n",
        "\n",
        "!sort ../output/BDGP6.Ensembml.93.gt5000.bed | head -3"
      ],
      "metadata": {
        "colab": {
          "base_uri": "https://localhost:8080/"
        },
        "id": "uWnujjaVyZHu",
        "outputId": "2c5d6656-d2a8-416e-956c-d5f4d7add154"
      },
      "execution_count": null,
      "outputs": [
        {
          "output_type": "stream",
          "name": "stdout",
          "text": [
            "2L\t10003832\t10008889\t\"CG4747\"\t5057\n",
            "2L\t10032690\t10038954\t\"obst-B\"\t6264\n",
            "2L\t10064121\t10180256\t\"CG44153\"\t116135\n"
          ]
        }
      ]
    },
    {
      "cell_type": "markdown",
      "source": [
        "### 8. Starting again with the original `.gtf` file. Find the top 10 genes with most transcripts using `grep` `sort` and `tail` (or `head`)."
      ],
      "metadata": {
        "id": "CEXdIMYDymm2"
      }
    },
    {
      "cell_type": "code",
      "source": [
        "# visualizing the data\n",
        "\n",
        "!head BDGP6.Ensembl.93.gtf"
      ],
      "metadata": {
        "colab": {
          "base_uri": "https://localhost:8080/"
        },
        "id": "uGeZaSN31PZH",
        "outputId": "c6ddf847-fbf0-408a-962c-0afabcdfdc0e"
      },
      "execution_count": null,
      "outputs": [
        {
          "output_type": "stream",
          "name": "stdout",
          "text": [
            "#!genome-build BDGP6\n",
            "#!genome-version BDGP6\n",
            "#!genome-date 2014-07\n",
            "#!genome-build-accession GCA_000001215.4\n",
            "3R\tFlyBase\tgene\t567076\t2532932\t.\t+\t.\tgene_id \"FBgn0267431\"; gene_name \"Myo81F\"; gene_source \"FlyBase\"; gene_biotype \"protein_coding\";\n",
            "3R\tFlyBase\ttranscript\t567076\t2532932\t.\t+\t.\tgene_id \"FBgn0267431\"; transcript_id \"FBtr0392909\"; gene_name \"Myo81F\"; gene_source \"FlyBase\"; gene_biotype \"protein_coding\"; transcript_name \"Myo81F-RB\"; transcript_source \"FlyBase\"; transcript_biotype \"protein_coding\";\n",
            "3R\tFlyBase\texon\t567076\t567268\t.\t+\t.\tgene_id \"FBgn0267431\"; transcript_id \"FBtr0392909\"; exon_number \"1\"; gene_name \"Myo81F\"; gene_source \"FlyBase\"; gene_biotype \"protein_coding\"; transcript_name \"Myo81F-RB\"; transcript_source \"FlyBase\"; transcript_biotype \"protein_coding\"; exon_id \"FBtr0392909-E1\";\n",
            "3R\tFlyBase\texon\t835376\t835491\t.\t+\t.\tgene_id \"FBgn0267431\"; transcript_id \"FBtr0392909\"; exon_number \"2\"; gene_name \"Myo81F\"; gene_source \"FlyBase\"; gene_biotype \"protein_coding\"; transcript_name \"Myo81F-RB\"; transcript_source \"FlyBase\"; transcript_biotype \"protein_coding\"; exon_id \"FBtr0392909-E2\";\n",
            "3R\tFlyBase\tCDS\t835378\t835491\t.\t+\t0\tgene_id \"FBgn0267431\"; transcript_id \"FBtr0392909\"; exon_number \"2\"; gene_name \"Myo81F\"; gene_source \"FlyBase\"; gene_biotype \"protein_coding\"; transcript_name \"Myo81F-RB\"; transcript_source \"FlyBase\"; transcript_biotype \"protein_coding\"; protein_id \"FBpp0352251\"; protein_version \"1\";\n",
            "3R\tFlyBase\tstart_codon\t835378\t835380\t.\t+\t0\tgene_id \"FBgn0267431\"; transcript_id \"FBtr0392909\"; exon_number \"2\"; gene_name \"Myo81F\"; gene_source \"FlyBase\"; gene_biotype \"protein_coding\"; transcript_name \"Myo81F-RB\"; transcript_source \"FlyBase\"; transcript_biotype \"protein_coding\";\n"
          ]
        }
      ]
    },
    {
      "cell_type": "markdown",
      "source": [
        "  a. Use `grep -w` to get rows of transcript features (column 3). There should be a total of 34767 lines.\n"
      ],
      "metadata": {
        "id": "MYX7oChayp_X"
      }
    },
    {
      "cell_type": "code",
      "source": [
        "!cut -f3 BDGP6.Ensembl.93.gtf | grep -v \"^#\" | grep -w transcript | wc -l"
      ],
      "metadata": {
        "colab": {
          "base_uri": "https://localhost:8080/"
        },
        "id": "voBjLQ0XzEw1",
        "outputId": "bc211439-ff49-4308-80b9-083dc69bc6c7"
      },
      "execution_count": null,
      "outputs": [
        {
          "output_type": "stream",
          "name": "stdout",
          "text": [
            "34767\n"
          ]
        }
      ]
    },
    {
      "cell_type": "markdown",
      "source": [
        "  b. Then use `cut` `sort` `uniq -c` and `sort` again to order the genes by their occurrences. Redirect the top 10 genes to `~/5030/hw1/q3/output/genes_w_most_transcripts.out`. Perform the task in a single line of command. Then display contents in `genes_w_most_transcripts.out` using `cat` command. They should look like\n"
      ],
      "metadata": {
        "id": "bewbn61DzUgn"
      }
    },
    {
      "cell_type": "markdown",
      "source": [
        "  ```\n",
        "  23 \"slo\";\n",
        "  25 \"heph\";\n",
        "  25 \"lola\";\n",
        "  ```"
      ],
      "metadata": {
        "id": "S9UbIBpizXJG"
      }
    },
    {
      "cell_type": "code",
      "source": [
        "!awk '$3 == \"transcript\" {print $0}' BDGP6.Ensembl.93.gtf | cut -f9 | cut -d'\"' -f6 \\\n",
        "| sort | uniq -c | sort -nr | head -10"
      ],
      "metadata": {
        "colab": {
          "base_uri": "https://localhost:8080/"
        },
        "id": "Zet09RJ2zY79",
        "outputId": "b5482197-a17e-4ef8-b8d2-8e9b3bd5b0cb"
      },
      "execution_count": null,
      "outputs": [
        {
          "output_type": "stream",
          "name": "stdout",
          "text": [
            "     75 Dscam1\n",
            "     60 para\n",
            "     31 Svil\n",
            "     25 Sxl\n",
            "     25 lola\n",
            "     25 heph\n",
            "     23 slo\n",
            "     23 mtd\n",
            "     23 CAP\n",
            "     22 trol\n"
          ]
        }
      ]
    },
    {
      "cell_type": "code",
      "source": [
        "# another method (to keep the '\"')\n",
        "\n",
        "!awk '$3 == \"transcript\" {print $0}' BDGP6.Ensembl.93.gtf | cut -f9 | awk '{print $6}' | sed s/';'//g \\\n",
        "| sort | uniq -c | sort -nr | head -10"
      ],
      "metadata": {
        "colab": {
          "base_uri": "https://localhost:8080/"
        },
        "id": "8Wda-w-X1bWO",
        "outputId": "cccf2c5a-fa51-44d1-98b9-0c2a6b932d75"
      },
      "execution_count": null,
      "outputs": [
        {
          "output_type": "stream",
          "name": "stdout",
          "text": [
            "     75 \"Dscam1\"\n",
            "     60 \"para\"\n",
            "     31 \"Svil\"\n",
            "     25 \"Sxl\"\n",
            "     25 \"lola\"\n",
            "     25 \"heph\"\n",
            "     23 \"slo\"\n",
            "     23 \"mtd\"\n",
            "     23 \"CAP\"\n",
            "     22 \"trol\"\n"
          ]
        }
      ]
    },
    {
      "cell_type": "code",
      "source": [
        "# saving the output\n",
        "\n",
        "!awk '$3 == \"transcript\" {print $0}' BDGP6.Ensembl.93.gtf | cut -f9 | awk '{print $6}' | sed s/';'//g | sort | uniq -c | sort -nr | head -10 > ../output/genes_w_most_transcripts.out"
      ],
      "metadata": {
        "id": "PY0WwXo22XAI"
      },
      "execution_count": null,
      "outputs": []
    },
    {
      "cell_type": "markdown",
      "source": [
        "### 9. Submit the output files."
      ],
      "metadata": {
        "id": "1F-9gJ-I2q4f"
      }
    },
    {
      "cell_type": "markdown",
      "source": [
        "a. Summarize your directory structure again by saving the output of `ls -lR ~/5030/hw1/q3` into the `summary` directory as a file named `q9_directory_contents.txt`.\n"
      ],
      "metadata": {
        "id": "Dh7xOxs32rzu"
      }
    },
    {
      "cell_type": "code",
      "source": [
        "%cd .."
      ],
      "metadata": {
        "colab": {
          "base_uri": "https://localhost:8080/"
        },
        "id": "ZJXb939x2tht",
        "outputId": "780fc5d3-d1bb-4e81-c963-bc824210c281"
      },
      "execution_count": null,
      "outputs": [
        {
          "output_type": "stream",
          "name": "stdout",
          "text": [
            "/content/5030/hw1/q3\n"
          ]
        }
      ]
    },
    {
      "cell_type": "code",
      "source": [
        "!ls -lR . > summary/q9_directory_contents.txt"
      ],
      "metadata": {
        "id": "QQUC4i7e2vmx"
      },
      "execution_count": null,
      "outputs": []
    },
    {
      "cell_type": "code",
      "source": [
        "# visualizing the output\n",
        "\n",
        "!head -30 summary/q9_directory_contents.txt"
      ],
      "metadata": {
        "colab": {
          "base_uri": "https://localhost:8080/"
        },
        "id": "7B6BiW_226RO",
        "outputId": "fb45f410-f17f-4405-e9ea-8a211c2c3e1b"
      },
      "execution_count": null,
      "outputs": [
        {
          "output_type": "stream",
          "name": "stdout",
          "text": [
            ".:\n",
            "total 12\n",
            "drwxr-xr-x 2 root root 4096 Feb  2 13:47 genome-annot\n",
            "drwxr-xr-x 2 root root 4096 Feb  2 14:32 output\n",
            "drwxr-xr-x 2 root root 4096 Feb  2 14:34 summary\n",
            "\n",
            "./genome-annot:\n",
            "total 600\n",
            "-rw-r--r-- 1 root root 610013 Feb  2 13:47 BDGP6.Ensembl.93.gene.bed\n",
            "lrwxrwxrwx 1 root root     72 Feb  2 08:26 BDGP6.Ensembl.93.gtf -> /content/drive/MyDrive/Colab Notebooks/5030/genomes/BDGP6.Ensembl.93.gtf\n",
            "\n",
            "./output:\n",
            "total 140\n",
            "-rw-r--r-- 1 root root   3287 Feb  2 13:49 BDGP6.Ensembl.93.head100.bed\n",
            "-rw-r--r-- 1 root root 121422 Feb  2 14:14 BDGP6.Ensembml.93.gt5000.bed\n",
            "-rw-r--r-- 1 root root    144 Feb  2 14:01 genes_per_chromosome.out\n",
            "-rw-r--r-- 1 root root    148 Feb  2 14:32 genes_w_most_transcripts.out\n",
            "-rw-r--r-- 1 root root    684 Feb  2 14:06 longest_20_genes.out\n",
            "-rw-r--r-- 1 root root    391 Feb  2 14:06 shortest_20_genes.out\n",
            "\n",
            "./summary:\n",
            "total 4\n",
            "-rw-r--r-- 1 root root 427 Feb  2 08:28 q3_directory_contents.txt\n",
            "-rw-r--r-- 1 root root   0 Feb  2 14:34 q9_directory_contents.txt\n"
          ]
        }
      ]
    },
    {
      "cell_type": "markdown",
      "source": [
        "b. Use `tar -czvf` to create a `.tar.gz` file named `hw1_q3.tar.gz`, containing your directories of `~/5030/hw1/q3/output` and `~/5030/hw1/q3/summary`. Then copy `hw1_q3.tar.gz` to your folder under `/hdd1/5030-hw`.\n"
      ],
      "metadata": {
        "id": "afxrLmaa3MRQ"
      }
    },
    {
      "cell_type": "code",
      "source": [
        "!tar -czvf hw1_q3.tar.gz output summary"
      ],
      "metadata": {
        "colab": {
          "base_uri": "https://localhost:8080/"
        },
        "id": "-EG9CkIw3O0e",
        "outputId": "9823568a-6d3a-40bd-da96-93422a3dc2dd"
      },
      "execution_count": null,
      "outputs": [
        {
          "output_type": "stream",
          "name": "stdout",
          "text": [
            "output/\n",
            "output/BDGP6.Ensembml.93.gt5000.bed\n",
            "output/BDGP6.Ensembl.93.head100.bed\n",
            "output/genes_w_most_transcripts.out\n",
            "output/genes_per_chromosome.out\n",
            "output/shortest_20_genes.out\n",
            "output/longest_20_genes.out\n",
            "summary/\n",
            "summary/q3_directory_contents.txt\n",
            "summary/q9_directory_contents.txt\n"
          ]
        }
      ]
    },
    {
      "cell_type": "markdown",
      "source": [
        "the file hw1_q3.tar.gz was downloaded separately as this homework was done in the google colab environment"
      ],
      "metadata": {
        "id": "RlQzXuaw3q-g"
      }
    },
    {
      "cell_type": "code",
      "source": [
        "# !cp hw1_q3.tar.gz ../../../hdd1/5030-hw"
      ],
      "metadata": {
        "id": "z0FTP0nJ5O15"
      },
      "execution_count": null,
      "outputs": []
    },
    {
      "cell_type": "markdown",
      "source": [
        "### 10. Clean up."
      ],
      "metadata": {
        "id": "8blK9y9U3yaz"
      }
    },
    {
      "cell_type": "markdown",
      "source": [
        "  a. Use `find` command to find all `.bed` files that are larger than 50kb under `~/5030/hw1/q3`."
      ],
      "metadata": {
        "id": "rHo-NXhI31j-"
      }
    },
    {
      "cell_type": "code",
      "source": [
        "!find . -name '*.bed' -size +50b"
      ],
      "metadata": {
        "colab": {
          "base_uri": "https://localhost:8080/"
        },
        "id": "t_EwBI2433a-",
        "outputId": "d3c7c04e-00f3-4121-a798-854d473911bf"
      },
      "execution_count": null,
      "outputs": [
        {
          "output_type": "stream",
          "name": "stdout",
          "text": [
            "./genome-annot/BDGP6.Ensembl.93.gene.bed\n",
            "./output/BDGP6.Ensembml.93.gt5000.bed\n"
          ]
        }
      ]
    },
    {
      "cell_type": "markdown",
      "source": [
        " b. Modify the command, e.g. using the backquote sign (\\`), to find and remove any file that is larger than 500kb under `~/5030/hw1/q3`.\n"
      ],
      "metadata": {
        "id": "NhF2Btx86Jcf"
      }
    },
    {
      "cell_type": "code",
      "source": [
        "!rm `find . -name '*.bed' -size +50b`"
      ],
      "metadata": {
        "id": "v7_9S8ZA6Gk5"
      },
      "execution_count": null,
      "outputs": []
    },
    {
      "cell_type": "code",
      "source": [
        "# checking out\n",
        "!find . -name '*.bed' -size +50b"
      ],
      "metadata": {
        "id": "r-lSZta97cdS"
      },
      "execution_count": null,
      "outputs": []
    }
  ]
}