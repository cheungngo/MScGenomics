{
  "nbformat": 4,
  "nbformat_minor": 0,
  "metadata": {
    "colab": {
      "name": "L7.ipynb",
      "provenance": [],
      "collapsed_sections": [],
      "mount_file_id": "1leILuQQp4fve5JMX95elnqALKr69AaX5",
      "authorship_tag": "ABX9TyNguInK5Ae5LwsTLinrZMic",
      "include_colab_link": true
    },
    "kernelspec": {
      "name": "python3",
      "display_name": "Python 3"
    },
    "language_info": {
      "name": "python"
    }
  },
  "cells": [
    {
      "cell_type": "markdown",
      "metadata": {
        "id": "view-in-github",
        "colab_type": "text"
      },
      "source": [
        "<a href=\"https://colab.research.google.com/github/cheungngo/MScGenomics/blob/master/5030/L7_Variant_calling.ipynb\" target=\"_parent\"><img src=\"https://colab.research.google.com/assets/colab-badge.svg\" alt=\"Open In Colab\"/></a>"
      ]
    },
    {
      "cell_type": "markdown",
      "source": [
        "# Variant calling"
      ],
      "metadata": {
        "id": "6UN5n73B5jrx"
      }
    },
    {
      "cell_type": "markdown",
      "source": [
        "## Installing the bwa"
      ],
      "metadata": {
        "id": "DSuAibuBsb8-"
      }
    },
    {
      "cell_type": "code",
      "source": [
        "!cp \"/content/drive/MyDrive/Colab Notebooks/5030/bwa/bwa-0.7.17.tar.bz2\" bwa.tar.bz2\n",
        "!bzip2 -d /content/bwa.tar.bz2\n",
        "!tar -xf bwa.tar"
      ],
      "metadata": {
        "id": "c39I1BA8qYOJ"
      },
      "execution_count": 6,
      "outputs": []
    },
    {
      "cell_type": "code",
      "source": [
        "%cd bwa-0.7.17\n",
        "!make"
      ],
      "metadata": {
        "id": "hhPY7Lcwr3iO"
      },
      "execution_count": null,
      "outputs": []
    },
    {
      "cell_type": "markdown",
      "source": [
        "## Installing the samtools"
      ],
      "metadata": {
        "id": "DHldNfRczTY9"
      }
    },
    {
      "cell_type": "code",
      "source": [
        "%cd ..\n",
        "!wget https://github.com/samtools/samtools/releases/download/1.15/samtools-1.15.tar.bz2\n",
        "!bzip2 -d /content/samtools-1.15.tar.bz2\n",
        "!tar -xf /content/samtools-1.15.tar"
      ],
      "metadata": {
        "id": "K5Gt40pOzUtw"
      },
      "execution_count": null,
      "outputs": []
    },
    {
      "cell_type": "code",
      "source": [
        "%cd /content/samtools-1.15\n",
        "!./configure\n",
        "!make\n",
        "!make install"
      ],
      "metadata": {
        "id": "1TNAgh05ziKD"
      },
      "execution_count": null,
      "outputs": []
    },
    {
      "cell_type": "markdown",
      "source": [
        "## Installing the bcftools"
      ],
      "metadata": {
        "id": "jhmCgEZM1v3P"
      }
    },
    {
      "cell_type": "code",
      "source": [
        "%cd ..\n",
        "!wget https://github.com/samtools/bcftools/releases/download/1.15/bcftools-1.15.tar.bz2\n",
        "!bzip2 -d /content/bcftools-1.15.tar.bz2\n",
        "!tar -xf /content/bcftools-1.15.tar"
      ],
      "metadata": {
        "id": "R98eo_-y1xm4"
      },
      "execution_count": null,
      "outputs": []
    },
    {
      "cell_type": "code",
      "source": [
        "%cd /content/bcftools-1.15\n",
        "!./configure\n",
        "!make\n",
        "!make install"
      ],
      "metadata": {
        "id": "alVgs9FA2EqC"
      },
      "execution_count": null,
      "outputs": []
    },
    {
      "cell_type": "markdown",
      "source": [
        "## Downloading the reference genome E. coli REL606"
      ],
      "metadata": {
        "id": "WDYm1jKvsg11"
      }
    },
    {
      "cell_type": "code",
      "source": [
        "%cd .."
      ],
      "metadata": {
        "colab": {
          "base_uri": "https://localhost:8080/"
        },
        "id": "MLvC83640WzD",
        "outputId": "1a26be63-c369-4455-d5b3-d50e663b512f"
      },
      "execution_count": 49,
      "outputs": [
        {
          "output_type": "stream",
          "name": "stdout",
          "text": [
            "/content\n"
          ]
        }
      ]
    },
    {
      "cell_type": "code",
      "execution_count": null,
      "metadata": {
        "id": "_kVWRbavpbwi"
      },
      "outputs": [],
      "source": [
        "!wget ftp://ftp.ncbi.nlm.nih.gov/genomes/all/GCA/000/017/985/GCA_000017985.1_ASM1798v1/GCA_000017985.1_ASM1798v1_genomic.fna.gz\n",
        "!gzip -d /content/GCA_000017985.1_ASM1798v1_genomic.fna.gz"
      ]
    },
    {
      "cell_type": "markdown",
      "source": [
        "## Getting the reference genome from the ftp (another way)"
      ],
      "metadata": {
        "id": "eIIYv0D4ucay"
      }
    },
    {
      "cell_type": "code",
      "source": [
        "!cp \"/content/drive/MyDrive/Colab Notebooks/5030/L7/ecoli_rel606.fasta\" ."
      ],
      "metadata": {
        "id": "Z5PS2X4WuWNo"
      },
      "execution_count": 20,
      "outputs": []
    },
    {
      "cell_type": "markdown",
      "source": [
        "## Indexing the reference genome"
      ],
      "metadata": {
        "id": "O4sn3VqHvAkt"
      }
    },
    {
      "cell_type": "code",
      "source": [
        "%cd /content/bwa-0.7.17"
      ],
      "metadata": {
        "colab": {
          "base_uri": "https://localhost:8080/"
        },
        "id": "j7lov4oUurw4",
        "outputId": "9f2818ce-2c36-4934-9914-c1113ae64e8a"
      },
      "execution_count": 22,
      "outputs": [
        {
          "output_type": "stream",
          "name": "stdout",
          "text": [
            "/content/bwa-0.7.17\n"
          ]
        }
      ]
    },
    {
      "cell_type": "code",
      "source": [
        "!./bwa index \"/content/ecoli_rel606.fasta\""
      ],
      "metadata": {
        "colab": {
          "base_uri": "https://localhost:8080/"
        },
        "id": "HQqGZd4quw4e",
        "outputId": "798a9d2c-6f81-456a-ebb7-103b7bcba3d3"
      },
      "execution_count": 23,
      "outputs": [
        {
          "output_type": "stream",
          "name": "stdout",
          "text": [
            "[bwa_index] Pack FASTA... 0.05 sec\n",
            "[bwa_index] Construct BWT for the packed sequence...\n",
            "[bwa_index] 1.61 seconds elapse.\n",
            "[bwa_index] Update BWT... 0.03 sec\n",
            "[bwa_index] Pack forward-only FASTA... 0.03 sec\n",
            "[bwa_index] Construct SA from BWT and Occ... 0.58 sec\n",
            "[main] Version: 0.7.17-r1188\n",
            "[main] CMD: ./bwa index /content/ecoli_rel606.fasta\n",
            "[main] Real time: 2.401 sec; CPU: 2.314 sec\n"
          ]
        }
      ]
    },
    {
      "cell_type": "code",
      "source": [
        "# you can see the new files here\n",
        "!ls .."
      ],
      "metadata": {
        "colab": {
          "base_uri": "https://localhost:8080/"
        },
        "id": "qyIZwz-Au8ZT",
        "outputId": "577f9998-daa5-49a8-b6f3-5372e2e680aa"
      },
      "execution_count": 24,
      "outputs": [
        {
          "output_type": "stream",
          "name": "stdout",
          "text": [
            "bwa-0.7.17\t\tecoli_rel606.fasta.bwt\n",
            "bwa.tar\t\t\tecoli_rel606.fasta.pac\n",
            "drive\t\t\tecoli_rel606.fasta.sa\n",
            "ecoli_rel606.fasta\tGCA_000017985.1_ASM1798v1_genomic.fna\n",
            "ecoli_rel606.fasta.amb\tsample_data\n",
            "ecoli_rel606.fasta.ann\n"
          ]
        }
      ]
    },
    {
      "cell_type": "markdown",
      "source": [
        "## Align reads to reference genome"
      ],
      "metadata": {
        "id": "MPywGVP6vGNK"
      }
    },
    {
      "cell_type": "code",
      "source": [
        "# getting the fastq files\n",
        "!cp \"/content/drive/MyDrive/Colab Notebooks/5030/L7/SRR2584866_1.trim.sub.fastq\" ..\n",
        "!cp \"/content/drive/MyDrive/Colab Notebooks/5030/L7/SRR2584866_2.trim.sub.fastq\" .."
      ],
      "metadata": {
        "id": "FyOujOHBvLFZ"
      },
      "execution_count": 25,
      "outputs": []
    },
    {
      "cell_type": "code",
      "source": [
        "!./bwa mem /content/ecoli_rel606.fasta \\\n",
        "\"/content/SRR2584866_1.trim.sub.fastq\" \\\n",
        "\"/content/SRR2584866_2.trim.sub.fastq\" > ../SRR2584866.aligned.sam"
      ],
      "metadata": {
        "id": "HoY3MaDtyTkv"
      },
      "execution_count": null,
      "outputs": []
    },
    {
      "cell_type": "code",
      "source": [
        "!ls .."
      ],
      "metadata": {
        "colab": {
          "base_uri": "https://localhost:8080/"
        },
        "id": "E92TDab8zEO8",
        "outputId": "96fcddbe-f788-47cd-a590-0ce2e03f7efb"
      },
      "execution_count": 31,
      "outputs": [
        {
          "output_type": "stream",
          "name": "stdout",
          "text": [
            "bwa-0.7.17\t\tecoli_rel606.fasta.pac\n",
            "bwa.tar\t\t\tecoli_rel606.fasta.sa\n",
            "drive\t\t\tGCA_000017985.1_ASM1798v1_genomic.fna\n",
            "ecoli_rel606.fasta\tsample_data\n",
            "ecoli_rel606.fasta.amb\tSRR2584866_1.trim.sub.fastq\n",
            "ecoli_rel606.fasta.ann\tSRR2584866_2.trim.sub.fastq\n",
            "ecoli_rel606.fasta.bwt\tSRR2584866.aligned.sam\n"
          ]
        }
      ]
    },
    {
      "cell_type": "markdown",
      "source": [
        "## Convert SAM to BAM with samtools"
      ],
      "metadata": {
        "id": "jRJTvPZW0p0C"
      }
    },
    {
      "cell_type": "code",
      "source": [
        "%cd .."
      ],
      "metadata": {
        "id": "P84Oe9Q90hfX"
      },
      "execution_count": null,
      "outputs": []
    },
    {
      "cell_type": "code",
      "source": [
        "!samtools view -S -b \"/content/SRR2584866.aligned.sam\" \\\n",
        "> \"/content/SRR2584866.aligned.bam\""
      ],
      "metadata": {
        "id": "MRRRKGZU0lvX"
      },
      "execution_count": 39,
      "outputs": []
    },
    {
      "cell_type": "markdown",
      "source": [
        "## Sorting and indexing"
      ],
      "metadata": {
        "id": "QC1XKp710_xb"
      }
    },
    {
      "cell_type": "code",
      "source": [
        "!samtools sort -o \"/content/SRR2584866.aligned.sorted.bam\" \\\n",
        "\"/content/SRR2584866.aligned.bam\""
      ],
      "metadata": {
        "id": "gXgg856R1Q1a"
      },
      "execution_count": 40,
      "outputs": []
    },
    {
      "cell_type": "code",
      "source": [
        "!samtools index \"/content/SRR2584866.aligned.sorted.bam\""
      ],
      "metadata": {
        "id": "irgUzXCW1csK"
      },
      "execution_count": 41,
      "outputs": []
    },
    {
      "cell_type": "markdown",
      "source": [
        "## Post-alignment cleanup"
      ],
      "metadata": {
        "id": "2280895P3dRj"
      }
    },
    {
      "cell_type": "code",
      "source": [
        "!bcftools mpileup -O b -o /content/SRR2584866_raw.bcf \\\n",
        "-f /content/ecoli_rel606.fasta \\\n",
        "/content/SRR2584866.aligned.sorted.bam"
      ],
      "metadata": {
        "colab": {
          "base_uri": "https://localhost:8080/"
        },
        "id": "S5vhFqnH3j_Y",
        "outputId": "330ba29a-c517-4fdc-da0a-456f9dc6ca8e"
      },
      "execution_count": 51,
      "outputs": [
        {
          "output_type": "stream",
          "name": "stdout",
          "text": [
            "[mpileup] 1 samples in 1 input files\n",
            "[mpileup] maximum number of reads per input file set to -d 250\n"
          ]
        }
      ]
    },
    {
      "cell_type": "markdown",
      "source": [
        "## Variant calling"
      ],
      "metadata": {
        "id": "zUrXPCsA4MRh"
      }
    },
    {
      "cell_type": "code",
      "source": [
        "!bcftools call --ploidy 1 -m -v \\\n",
        "-o /content/SRR2584866_variants.vcf \\\n",
        "\"/content/SRR2584866_raw.bcf\""
      ],
      "metadata": {
        "id": "6cAMWzk34TI3"
      },
      "execution_count": 52,
      "outputs": []
    },
    {
      "cell_type": "markdown",
      "source": [
        "## Final filtering"
      ],
      "metadata": {
        "id": "X59jUk3_5aV4"
      }
    },
    {
      "cell_type": "code",
      "source": [
        "!vcfutils.pl varFilter /content/SRR2584866_variants.vcf > /content/SRR2584866_variants_final.vcf"
      ],
      "metadata": {
        "id": "PSSdkIa_5DmN"
      },
      "execution_count": 54,
      "outputs": []
    },
    {
      "cell_type": "code",
      "source": [
        "!head -100 /content/SRR2584866_variants_final.vcf"
      ],
      "metadata": {
        "colab": {
          "base_uri": "https://localhost:8080/"
        },
        "id": "8Pd6iQZ7501I",
        "outputId": "32c86916-978e-44ca-a2ac-8f7fde46d470"
      },
      "execution_count": 55,
      "outputs": [
        {
          "output_type": "stream",
          "name": "stdout",
          "text": [
            "##fileformat=VCFv4.2\n",
            "##FILTER=<ID=PASS,Description=\"All filters passed\">\n",
            "##bcftoolsVersion=1.15+htslib-1.15\n",
            "##bcftoolsCommand=mpileup -O b -o /content/SRR2584866_raw.bcf -f /content/ecoli_rel606.fasta /content/SRR2584866.aligned.sorted.bam\n",
            "##reference=file:///content/ecoli_rel606.fasta\n",
            "##contig=<ID=CP000819.1,length=4629812>\n",
            "##ALT=<ID=*,Description=\"Represents allele(s) other than observed.\">\n",
            "##INFO=<ID=INDEL,Number=0,Type=Flag,Description=\"Indicates that the variant is an INDEL.\">\n",
            "##INFO=<ID=IDV,Number=1,Type=Integer,Description=\"Maximum number of raw reads supporting an indel\">\n",
            "##INFO=<ID=IMF,Number=1,Type=Float,Description=\"Maximum fraction of raw reads supporting an indel\">\n",
            "##INFO=<ID=DP,Number=1,Type=Integer,Description=\"Raw read depth\">\n",
            "##INFO=<ID=VDB,Number=1,Type=Float,Description=\"Variant Distance Bias for filtering splice-site artefacts in RNA-seq data (bigger is better)\",Version=\"3\">\n",
            "##INFO=<ID=RPBZ,Number=1,Type=Float,Description=\"Mann-Whitney U-z test of Read Position Bias (closer to 0 is better)\">\n",
            "##INFO=<ID=MQBZ,Number=1,Type=Float,Description=\"Mann-Whitney U-z test of Mapping Quality Bias (closer to 0 is better)\">\n",
            "##INFO=<ID=BQBZ,Number=1,Type=Float,Description=\"Mann-Whitney U-z test of Base Quality Bias (closer to 0 is better)\">\n",
            "##INFO=<ID=MQSBZ,Number=1,Type=Float,Description=\"Mann-Whitney U-z test of Mapping Quality vs Strand Bias (closer to 0 is better)\">\n",
            "##INFO=<ID=SCBZ,Number=1,Type=Float,Description=\"Mann-Whitney U-z test of Soft-Clip Length Bias (closer to 0 is better)\">\n",
            "##INFO=<ID=FS,Number=1,Type=Float,Description=\"Phred-scaled p-value using Fisher's exact test to detect strand bias\">\n",
            "##INFO=<ID=SGB,Number=1,Type=Float,Description=\"Segregation based metric.\">\n",
            "##INFO=<ID=MQ0F,Number=1,Type=Float,Description=\"Fraction of MQ0 reads (smaller is better)\">\n",
            "##FORMAT=<ID=PL,Number=G,Type=Integer,Description=\"List of Phred-scaled genotype likelihoods\">\n",
            "##FORMAT=<ID=GT,Number=1,Type=String,Description=\"Genotype\">\n",
            "##INFO=<ID=AC,Number=A,Type=Integer,Description=\"Allele count in genotypes for each ALT allele, in the same order as listed\">\n",
            "##INFO=<ID=AN,Number=1,Type=Integer,Description=\"Total number of alleles in called genotypes\">\n",
            "##INFO=<ID=DP4,Number=4,Type=Integer,Description=\"Number of high-quality ref-forward , ref-reverse, alt-forward and alt-reverse bases\">\n",
            "##INFO=<ID=MQ,Number=1,Type=Integer,Description=\"Average mapping quality\">\n",
            "##bcftools_callVersion=1.15+htslib-1.15\n",
            "##bcftools_callCommand=call --ploidy 1 -m -v -o /content/SRR2584866_variants.vcf /content/SRR2584866_raw.bcf; Date=Sat Mar  5 16:21:39 2022\n",
            "#CHROM\tPOS\tID\tREF\tALT\tQUAL\tFILTER\tINFO\tFORMAT\t/content/SRR2584866.aligned.sorted.bam\n",
            "CP000819.1\t1521\t.\tC\tT\t207.417\t.\tDP=9;VDB=0.993024;SGB=-0.662043;MQSBZ=0;FS=0;MQ0F=0;AC=1;AN=1;DP4=0,0,4,5;MQ=60\tGT:PL\t1:237,0\n",
            "CP000819.1\t1612\t.\tA\tG\t225.417\t.\tDP=13;VDB=0.790654;SGB=-0.676189;MQSBZ=0;FS=0;MQ0F=0;AC=1;AN=1;DP4=0,0,5,6;MQ=60\tGT:PL\t1:255,0\n",
            "CP000819.1\t9092\t.\tA\tG\t225.417\t.\tDP=14;VDB=0.924225;SGB=-0.676189;MQSBZ=0;FS=0;MQ0F=0;AC=1;AN=1;DP4=0,0,7,4;MQ=60\tGT:PL\t1:255,0\n",
            "CP000819.1\t9972\t.\tT\tG\t214.417\t.\tDP=10;VDB=0.022095;SGB=-0.670168;MQSBZ=0;FS=0;MQ0F=0;AC=1;AN=1;DP4=0,0,2,8;MQ=60\tGT:PL\t1:244,0\n",
            "CP000819.1\t10563\t.\tG\tA\t225.417\t.\tDP=11;VDB=0.991347;SGB=-0.670168;MQSBZ=0;FS=0;MQ0F=0;AC=1;AN=1;DP4=0,0,4,6;MQ=60\tGT:PL\t1:255,0\n",
            "CP000819.1\t22257\t.\tC\tT\t127.416\t.\tDP=5;VDB=0.0765947;SGB=-0.590765;MQSBZ=0;FS=0;MQ0F=0;AC=1;AN=1;DP4=0,0,2,3;MQ=60\tGT:PL\t1:157,0\n",
            "CP000819.1\t38971\t.\tA\tG\t225.417\t.\tDP=14;VDB=0.933536;SGB=-0.683931;MQSBZ=0;FS=0;MQ0F=0;AC=1;AN=1;DP4=0,0,3,10;MQ=60\tGT:PL\t1:255,0\n",
            "CP000819.1\t42306\t.\tA\tG\t225.417\t.\tDP=15;VDB=0.990252;SGB=-0.688148;MQSBZ=0;FS=0;MQ0F=0;AC=1;AN=1;DP4=0,0,6,9;MQ=60\tGT:PL\t1:255,0\n",
            "CP000819.1\t45277\t.\tA\tG\t225.417\t.\tDP=15;VDB=0.265917;SGB=-0.680642;MQSBZ=0;FS=0;MQ0F=0;AC=1;AN=1;DP4=0,0,6,6;MQ=60\tGT:PL\t1:255,0\n",
            "CP000819.1\t56613\t.\tC\tG\t213.417\t.\tDP=12;VDB=0.943469;SGB=-0.680642;MQSBZ=0;FS=0;MQ0F=0;AC=1;AN=1;DP4=0,0,9,3;MQ=60\tGT:PL\t1:243,0\n",
            "CP000819.1\t62118\t.\tA\tG\t225.417\t.\tDP=19;VDB=0.0849445;SGB=-0.689466;MQSBZ=1;FS=0;MQ0F=0;AC=1;AN=1;DP4=0,0,8,8;MQ=59\tGT:PL\t1:255,0\n",
            "CP000819.1\t64042\t.\tG\tA\t225.417\t.\tDP=18;VDB=0.158387;SGB=-0.689466;MQSBZ=0;FS=0;MQ0F=0;AC=1;AN=1;DP4=0,0,6,10;MQ=60\tGT:PL\t1:255,0\n",
            "CP000819.1\t78808\t.\tC\tT\t225.417\t.\tDP=23;VDB=0.91969;SGB=-0.69168;MQSBZ=0;FS=0;MQ0F=0;AC=1;AN=1;DP4=0,0,11,8;MQ=60\tGT:PL\t1:255,0\n",
            "CP000819.1\t80113\t.\tA\tG\t178.416\t.\tDP=9;VDB=0.984625;SGB=-0.662043;MQSBZ=0;FS=0;MQ0F=0;AC=1;AN=1;DP4=0,0,7,2;MQ=60\tGT:PL\t1:208,0\n",
            "CP000819.1\t81158\t.\tA\tC\t225.417\t.\tDP=13;VDB=0.608538;SGB=-0.676189;MQSBZ=0;FS=0;MQ0F=0;AC=1;AN=1;DP4=0,0,5,6;MQ=60\tGT:PL\t1:255,0\n",
            "CP000819.1\t87462\t.\tA\tG\t205.417\t.\tDP=10;VDB=0.128343;SGB=-0.636426;MQSBZ=0;FS=0;MQ0F=0;AC=1;AN=1;DP4=0,0,1,6;MQ=60\tGT:PL\t1:235,0\n",
            "CP000819.1\t94370\t.\tA\tG\t220.417\t.\tDP=11;VDB=0.961632;SGB=-0.670168;MQSBZ=0;FS=0;MQ0F=0;AC=1;AN=1;DP4=0,0,2,8;MQ=60\tGT:PL\t1:250,0\n",
            "CP000819.1\t98286\t.\tC\tT\t147.416\t.\tDP=7;VDB=0.729686;SGB=-0.636426;MQSBZ=0;FS=0;MQ0F=0;AC=1;AN=1;DP4=0,0,4,3;MQ=60\tGT:PL\t1:177,0\n",
            "CP000819.1\t98404\t.\tG\tA\t225.417\t.\tDP=14;VDB=0.347065;SGB=-0.686358;MQSBZ=0;FS=0;MQ0F=0;AC=1;AN=1;DP4=0,0,8,6;MQ=60\tGT:PL\t1:255,0\n",
            "CP000819.1\t105581\t.\tG\tA\t225.417\t.\tDP=13;VDB=0.379887;SGB=-0.676189;MQSBZ=0;FS=0;MQ0F=0;AC=1;AN=1;DP4=0,0,6,5;MQ=60\tGT:PL\t1:255,0\n",
            "CP000819.1\t124045\t.\tA\tG\t225.417\t.\tDP=13;VDB=0.598947;SGB=-0.680642;MQSBZ=0;FS=0;MQ0F=0;AC=1;AN=1;DP4=0,0,6,6;MQ=60\tGT:PL\t1:255,0\n",
            "CP000819.1\t125741\t.\tT\tC\t225.417\t.\tDP=11;VDB=0.455044;SGB=-0.662043;MQSBZ=0;FS=0;MQ0F=0;AC=1;AN=1;DP4=0,0,4,5;MQ=60\tGT:PL\t1:255,0\n",
            "CP000819.1\t140180\t.\tA\tG\t163.416\t.\tDP=6;VDB=0.808637;SGB=-0.616816;MQSBZ=0;FS=0;MQ0F=0;AC=1;AN=1;DP4=0,0,3,3;MQ=60\tGT:PL\t1:193,0\n",
            "CP000819.1\t146944\t.\tT\tC\t185.416\t.\tDP=9;VDB=0.659709;SGB=-0.651104;MQSBZ=0;FS=0;MQ0F=0;AC=1;AN=1;DP4=0,0,1,7;MQ=60\tGT:PL\t1:215,0\n",
            "CP000819.1\t148134\t.\tAGGGG\tAGGGGG\t191.416\t.\tINDEL;IDV=8;IMF=1;DP=8;VDB=0.0462387;SGB=-0.651104;MQSBZ=0;FS=0;MQ0F=0;AC=1;AN=1;DP4=0,0,3,5;MQ=60\tGT:PL\t1:221,0\n",
            "CP000819.1\t157998\t.\tGTTTTTTTTT\tGTTTTTTTT\t101.415\t.\tINDEL;IDV=6;IMF=1;DP=6;VDB=0.358309;SGB=-0.616816;MQSBZ=0;FS=0;MQ0F=0;AC=1;AN=1;DP4=0,0,1,5;MQ=60\tGT:PL\t1:131,0\n",
            "CP000819.1\t159875\t.\tA\tG\t142.416\t.\tDP=7;VDB=0.582309;SGB=-0.636426;MQSBZ=0;FS=0;MQ0F=0;AC=1;AN=1;DP4=0,0,1,6;MQ=60\tGT:PL\t1:172,0\n",
            "CP000819.1\t166078\t.\tA\tG\t90.4151\t.\tDP=4;VDB=0.0587288;SGB=-0.556411;FS=0;MQ0F=0;AC=1;AN=1;DP4=0,0,4,0;MQ=60\tGT:PL\t1:120,0\n",
            "CP000819.1\t171422\t.\tC\tT\t225.417\t.\tDP=13;VDB=0.954164;SGB=-0.676189;MQSBZ=0;FS=0;MQ0F=0;AC=1;AN=1;DP4=0,0,6,5;MQ=60\tGT:PL\t1:255,0\n",
            "CP000819.1\t172553\t.\tCAA\tCA\t206.417\t.\tINDEL;IDV=11;IMF=1;DP=11;VDB=0.293805;SGB=-0.676189;MQSBZ=0;FS=0;MQ0F=0;AC=1;AN=1;DP4=0,0,8,3;MQ=60\tGT:PL\t1:236,0\n",
            "CP000819.1\t175213\t.\tGAA\tGA\t205.417\t.\tINDEL;IDV=10;IMF=1;DP=10;VDB=0.957887;SGB=-0.670168;MQSBZ=0;FS=0;MQ0F=0;AC=1;AN=1;DP4=0,0,5,5;MQ=60\tGT:PL\t1:235,0\n",
            "CP000819.1\t180502\t.\tC\tT\t192.416\t.\tDP=8;VDB=0.0555824;SGB=-0.651104;MQSBZ=0;FS=0;MQ0F=0;AC=1;AN=1;DP4=0,0,3,5;MQ=60\tGT:PL\t1:222,0\n",
            "CP000819.1\t184752\t.\tC\tT\t149.416\t.\tDP=6;VDB=0.0229453;SGB=-0.616816;MQSBZ=0;FS=0;MQ0F=0;AC=1;AN=1;DP4=0,0,4,2;MQ=60\tGT:PL\t1:179,0\n",
            "CP000819.1\t189171\t.\tC\tT\t172.416\t.\tDP=7;VDB=0.405339;SGB=-0.636426;MQSBZ=0;FS=0;MQ0F=0;AC=1;AN=1;DP4=0,0,2,5;MQ=60\tGT:PL\t1:202,0\n",
            "CP000819.1\t191724\t.\tC\tT\t203.417\t.\tDP=9;VDB=0.461975;SGB=-0.651104;MQSBZ=0;FS=0;MQ0F=0;AC=1;AN=1;DP4=0,0,4,4;MQ=60\tGT:PL\t1:233,0\n",
            "CP000819.1\t197681\t.\tCTTTTTTTT\tCTTTTTTTTT\t225.417\t.\tINDEL;IDV=13;IMF=1;DP=13;VDB=0.283476;SGB=-0.683931;MQSBZ=0;FS=0;MQ0F=0;AC=1;AN=1;DP4=0,0,9,4;MQ=60\tGT:PL\t1:255,0\n",
            "CP000819.1\t213751\t.\tA\tG\t193.416\t.\tDP=8;VDB=0.0637684;SGB=-0.636426;MQSBZ=0;FS=0;MQ0F=0;AC=1;AN=1;DP4=0,0,5,2;MQ=60\tGT:PL\t1:223,0\n",
            "CP000819.1\t216480\t.\tC\tT\t67.4148\t.\tDP=3;VDB=0.851467;SGB=-0.511536;MQSBZ=0;FS=0;MQ0F=0;AC=1;AN=1;DP4=0,0,1,2;MQ=60\tGT:PL\t1:97,0\n",
            "CP000819.1\t228771\t.\tCGGGGG\tCGGGGGG\t104.288\t.\tINDEL;IDV=5;IMF=0.625;DP=8;VDB=0.327269;SGB=-0.590765;RPBZ=-1.63978;MQBZ=2.64575;MQSBZ=-0.632456;SCBZ=0;FS=0;MQ0F=0.375;AC=1;AN=1;DP4=1,2,1,4;MQ=25\tGT:PL\t1:131,0\n",
            "CP000819.1\t233686\t.\tCTTTTT\tCTTTTTT\t152.416\t.\tINDEL;IDV=8;IMF=0.888889;DP=9;VDB=0.396463;SGB=-0.651104;RPBZ=-1.55569;MQBZ=0;MQSBZ=0;SCBZ=0;FS=0;MQ0F=0;AC=1;AN=1;DP4=0,0,4,4;MQ=60\tGT:PL\t1:182,0\n",
            "CP000819.1\t235408\t.\tT\tC\t225.417\t.\tDP=11;VDB=0.766668;SGB=-0.662043;MQSBZ=0;FS=0;MQ0F=0;AC=1;AN=1;DP4=0,0,5,4;MQ=60\tGT:PL\t1:255,0\n",
            "CP000819.1\t235496\t.\tC\tT\t166.416\t.\tDP=7;VDB=0.787989;SGB=-0.636426;MQSBZ=0;FS=0;MQ0F=0;AC=1;AN=1;DP4=0,0,4,3;MQ=60\tGT:PL\t1:196,0\n",
            "CP000819.1\t241885\t.\tG\tA\t73.2592\t.\tDP=10;VDB=0.964647;SGB=-0.590765;RPBZ=-0.447214;MQBZ=2.44949;MQSBZ=-1.09545;BQBZ=-1.69088;SCBZ=0;FS=0;MQ0F=0.3;AC=1;AN=1;DP4=2,1,4,1;MQ=20\tGT:PL\t1:100,0\n",
            "CP000819.1\t241950\t.\tT\tA\t154.327\t.\tDP=13;VDB=0.29154;SGB=-0.651104;RPBZ=-2.0459;MQBZ=2.60177;MQSBZ=-0.193925;BQBZ=-2.03893;SCBZ=-1.63299;FS=0;MQ0F=0.230769;AC=1;AN=1;DP4=1,2,4,4;MQ=34\tGT:PL\t1:181,0\n",
            "CP000819.1\t247796\t.\tT\tC\t225.417\t.\tDP=12;VDB=0.762155;SGB=-0.662043;MQSBZ=0;FS=0;MQ0F=0;AC=1;AN=1;DP4=0,0,4,5;MQ=60\tGT:PL\t1:255,0\n",
            "CP000819.1\t276145\t.\tC\tT\t167.416\t.\tDP=7;VDB=0.112085;SGB=-0.556411;MQSBZ=0;FS=0;MQ0F=0;AC=1;AN=1;DP4=0,0,2,2;MQ=60\tGT:PL\t1:197,0\n",
            "CP000819.1\t281923\t.\tG\tT\t225.417\t.\tDP=14;VDB=0.855713;SGB=-0.676189;MQSBZ=0;FS=0;MQ0F=0;AC=1;AN=1;DP4=0,0,5,6;MQ=60\tGT:PL\t1:255,0\n",
            "CP000819.1\t294206\t.\tTGGGGGGG\tTGGGGGGGGG\t225.417\t.\tINDEL;IDV=8;IMF=0.8;DP=10;VDB=0.876455;SGB=-0.651104;RPBZ=-2.09529;MQBZ=0;MQSBZ=0;SCBZ=0;FS=0;MQ0F=0;AC=1;AN=1;DP4=0,0,4,4;MQ=60\tGT:PL\t1:255,0\n",
            "CP000819.1\t299195\t.\tG\tA\t131.416\t.\tDP=6;VDB=0.930466;SGB=-0.590765;MQSBZ=0;FS=0;MQ0F=0;AC=1;AN=1;DP4=0,0,2,3;MQ=60\tGT:PL\t1:161,0\n",
            "CP000819.1\t306404\t.\tC\tT\t195.416\t.\tDP=8;VDB=0.519034;SGB=-0.651104;MQSBZ=0;FS=0;MQ0F=0;AC=1;AN=1;DP4=0,0,3,5;MQ=60\tGT:PL\t1:225,0\n",
            "CP000819.1\t326689\t.\tC\tT\t219.417\t.\tDP=12;VDB=0.102415;SGB=-0.676189;MQSBZ=0;FS=0;MQ0F=0;AC=1;AN=1;DP4=0,0,8,3;MQ=60\tGT:PL\t1:249,0\n",
            "CP000819.1\t337563\t.\tC\tT\t222.417\t.\tDP=10;VDB=0.086868;SGB=-0.651104;MQSBZ=0;FS=0;MQ0F=0;AC=1;AN=1;DP4=0,0,2,6;MQ=60\tGT:PL\t1:252,0\n",
            "CP000819.1\t338770\t.\tT\tC\t165.416\t.\tDP=7;VDB=0.86799;SGB=-0.636426;MQSBZ=0;FS=0;MQ0F=0;AC=1;AN=1;DP4=0,0,3,4;MQ=60\tGT:PL\t1:195,0\n",
            "CP000819.1\t352369\t.\tAGGGGGGGG\tAGGGGGGGGG\t216.311\t.\tINDEL;IDV=16;IMF=0.941176;DP=17;VDB=0.108809;SGB=-0.689466;RPBZ=0.408499;MQBZ=0;MQSBZ=0;SCBZ=0.25;FS=0;MQ0F=0;AC=1;AN=1;DP4=1,0,12,4;MQ=60\tGT:PL\t1:243,0\n",
            "CP000819.1\t357611\t.\tT\tC\t102.415\t.\tDP=4;VDB=0.984512;SGB=-0.556411;MQSBZ=0;FS=0;MQ0F=0;AC=1;AN=1;DP4=0,0,3,1;MQ=60\tGT:PL\t1:132,0\n",
            "CP000819.1\t360604\t.\tTGGGGGG\tTGGGGGGG\t225.417\t.\tINDEL;IDV=12;IMF=0.923077;DP=13;VDB=0.788058;SGB=-0.680642;RPBZ=-1.60577;MQBZ=0;MQSBZ=0;SCBZ=0;FS=0;MQ0F=0;AC=1;AN=1;DP4=0,0,7,5;MQ=60\tGT:PL\t1:255,0\n",
            "CP000819.1\t365047\t.\tA\tG\t199.416\t.\tDP=9;VDB=0.0763459;SGB=-0.636426;MQSBZ=0;FS=0;MQ0F=0;AC=1;AN=1;DP4=0,0,3,4;MQ=60\tGT:PL\t1:229,0\n",
            "CP000819.1\t369026\t.\tA\tG\t208.417\t.\tDP=9;VDB=0.00695702;SGB=-0.662043;MQSBZ=0;FS=0;MQ0F=0;AC=1;AN=1;DP4=0,0,7,2;MQ=60\tGT:PL\t1:238,0\n",
            "CP000819.1\t371056\t.\tG\tT\t225.417\t.\tDP=11;VDB=0.317696;SGB=-0.676189;MQSBZ=0;FS=0;MQ0F=0;AC=1;AN=1;DP4=0,0,4,7;MQ=60\tGT:PL\t1:255,0\n",
            "CP000819.1\t373014\t.\tC\tT\t220.417\t.\tDP=9;VDB=0.984435;SGB=-0.662043;MQSBZ=0;FS=0;MQ0F=0;AC=1;AN=1;DP4=0,0,5,4;MQ=60\tGT:PL\t1:250,0\n",
            "CP000819.1\t376267\t.\tG\tA\t175.416\t.\tDP=7;VDB=0.57958;SGB=-0.590765;MQSBZ=0;FS=0;MQ0F=0;AC=1;AN=1;DP4=0,0,3,2;MQ=60\tGT:PL\t1:205,0\n",
            "CP000819.1\t377000\t.\tT\tG\t55.213\t.\tDP=6;VDB=0.142856;SGB=-0.511536;RPBZ=1.96396;MQBZ=2.23607;MQSBZ=2.23607;BQBZ=-0.912871;SCBZ=0;FS=0;MQ0F=0.5;AC=1;AN=1;DP4=3,0,0,3;MQ=20\tGT:PL\t1:82,0\n",
            "CP000819.1\t388160\t.\tC\tT\t225.417\t.\tDP=15;VDB=0.987773;SGB=-0.688148;MQSBZ=0;FS=0;MQ0F=0;AC=1;AN=1;DP4=0,0,7,8;MQ=60\tGT:PL\t1:255,0\n",
            "CP000819.1\t398061\t.\tG\tC\t156.416\t.\tDP=7;VDB=0.618859;SGB=-0.616816;MQSBZ=0;FS=0;MQ0F=0;AC=1;AN=1;DP4=0,0,5,1;MQ=60\tGT:PL\t1:186,0\n",
            "CP000819.1\t412637\t.\tC\tT\t87.415\t.\tDP=4;VDB=0.118267;SGB=-0.556411;FS=0;MQ0F=0;AC=1;AN=1;DP4=0,0,0,4;MQ=60\tGT:PL\t1:117,0\n",
            "CP000819.1\t417363\t.\tC\tT\t200.416\t.\tDP=9;VDB=0.202829;SGB=-0.662043;MQSBZ=0;FS=0;MQ0F=0;AC=1;AN=1;DP4=0,0,2,7;MQ=60\tGT:PL\t1:230,0\n",
            "CP000819.1\t426451\t.\tA\tG\t225.417\t.\tDP=15;VDB=0.761693;SGB=-0.688148;MQSBZ=0;FS=0;MQ0F=0;AC=1;AN=1;DP4=0,0,12,3;MQ=60\tGT:PL\t1:255,0\n",
            "CP000819.1\t430835\t.\tC\tT\t228.388\t.\tDP=16;VDB=0.00519188;SGB=-0.676189;RPBZ=-2.17423;MQBZ=2.94392;MQSBZ=-0.104608;BQBZ=0.199591;SCBZ=-2.34521;FS=0;MQ0F=0.125;AC=1;AN=1;DP4=0,2,4,7;MQ=49\tGT:PL\t1:255,0\n",
            "CP000819.1\t433359\t.\tCTTTTTTT\tCTTTTTTTT\t92.4151\t.\tINDEL;IDV=5;IMF=0.625;DP=8;VDB=0.44936;SGB=-0.590765;RPBZ=-2.23607;MQBZ=0;MQSBZ=0;SCBZ=0;FS=0;MQ0F=0;AC=1;AN=1;DP4=0,0,1,4;MQ=60\tGT:PL\t1:122,0\n",
            "CP000819.1\t433561\t.\tC\tT\t211.417\t.\tDP=9;VDB=0.71762;SGB=-0.636426;MQSBZ=0;FS=0;MQ0F=0;AC=1;AN=1;DP4=0,0,4,3;MQ=60\tGT:PL\t1:241,0\n",
            "CP000819.1\t447290\t.\tT\tC\t118.415\t.\tDP=6;VDB=0.874813;SGB=-0.616816;FS=0;MQ0F=0;AC=1;AN=1;DP4=0,0,0,6;MQ=60\tGT:PL\t1:148,0\n"
          ]
        }
      ]
    }
  ]
}