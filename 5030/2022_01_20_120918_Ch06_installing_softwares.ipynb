{
  "nbformat": 4,
  "nbformat_minor": 0,
  "metadata": {
    "colab": {
      "name": "2022-01-20-120918_Ch06_installing_softwares.ipynb",
      "provenance": [],
      "authorship_tag": "ABX9TyPaSmMr/lCWmLilZjQVRQhy",
      "include_colab_link": true
    },
    "kernelspec": {
      "name": "python3",
      "display_name": "Python 3"
    },
    "language_info": {
      "name": "python"
    }
  },
  "cells": [
    {
      "cell_type": "markdown",
      "metadata": {
        "id": "view-in-github",
        "colab_type": "text"
      },
      "source": [
        "<a href=\"https://colab.research.google.com/github/cheungngo/MScGenomics/blob/master/5030/2022_01_20_120918_Ch06_installing_softwares.ipynb\" target=\"_parent\"><img src=\"https://colab.research.google.com/assets/colab-badge.svg\" alt=\"Open In Colab\"/></a>"
      ]
    },
    {
      "cell_type": "markdown",
      "source": [
        "# Installing Bioinformatic Software"
      ],
      "metadata": {
        "id": "gr-drFpi0CpY"
      }
    },
    {
      "cell_type": "markdown",
      "source": [
        "### Downloading and Unzipping the software"
      ],
      "metadata": {
        "id": "f8JtO9C4uOZR"
      }
    },
    {
      "cell_type": "code",
      "execution_count": null,
      "metadata": {
        "colab": {
          "base_uri": "https://localhost:8080/"
        },
        "id": "erHEX7YEsW0z",
        "outputId": "329cdc41-1e7a-4044-9756-dfc062994664"
      },
      "outputs": [
        {
          "output_type": "stream",
          "name": "stdout",
          "text": [
            "--2022-01-20 04:17:52--  http://eddylab.org/software/hmmer/hmmer.tar.gz\n",
            "Resolving eddylab.org (eddylab.org)... 96.126.110.11, 2600:3c03::f03c:91ff:fec8:383c\n",
            "Connecting to eddylab.org (eddylab.org)|96.126.110.11|:80... connected.\n",
            "HTTP request sent, awaiting response... 200 OK\n",
            "Length: 18213049 (17M) [application/x-gzip]\n",
            "Saving to: ‘hmmer.tar.gz’\n",
            "\n",
            "hmmer.tar.gz        100%[===================>]  17.37M  7.51MB/s    in 2.3s    \n",
            "\n",
            "2022-01-20 04:17:55 (7.51 MB/s) - ‘hmmer.tar.gz’ saved [18213049/18213049]\n",
            "\n"
          ]
        }
      ],
      "source": [
        "!wget \"http://eddylab.org/software/hmmer/hmmer.tar.gz\" -O hmmer.tar.gz"
      ]
    },
    {
      "cell_type": "code",
      "source": [
        "ls"
      ],
      "metadata": {
        "colab": {
          "base_uri": "https://localhost:8080/"
        },
        "id": "KYqOAHBls0Ng",
        "outputId": "edc377f9-62f8-4e90-e6ee-a1083f07e748"
      },
      "execution_count": null,
      "outputs": [
        {
          "output_type": "stream",
          "name": "stdout",
          "text": [
            "hmmer.tar  hmmer.tar.gz  \u001b[0m\u001b[01;34msample_data\u001b[0m/\n"
          ]
        }
      ]
    },
    {
      "cell_type": "code",
      "source": [
        "!gzip -d hmmer.tar.gz"
      ],
      "metadata": {
        "id": "PRNwUbais1Wq"
      },
      "execution_count": null,
      "outputs": []
    },
    {
      "cell_type": "code",
      "source": [
        "ls"
      ],
      "metadata": {
        "colab": {
          "base_uri": "https://localhost:8080/"
        },
        "id": "NRHTbL4Ps-dh",
        "outputId": "a684d389-a304-47a1-8498-532693a62bb0"
      },
      "execution_count": null,
      "outputs": [
        {
          "output_type": "stream",
          "name": "stdout",
          "text": [
            "hmmer.tar  \u001b[0m\u001b[01;34msample_data\u001b[0m/\n"
          ]
        }
      ]
    },
    {
      "cell_type": "code",
      "source": [
        "!tar -xf hmmer.tar"
      ],
      "metadata": {
        "id": "hqcnRDVAs_Lg"
      },
      "execution_count": null,
      "outputs": []
    },
    {
      "cell_type": "code",
      "source": [
        "ls"
      ],
      "metadata": {
        "colab": {
          "base_uri": "https://localhost:8080/"
        },
        "id": "YBcKXL-jtWmA",
        "outputId": "2421d3ab-0d10-464e-880e-e66e170ea7c2"
      },
      "execution_count": null,
      "outputs": [
        {
          "output_type": "stream",
          "name": "stdout",
          "text": [
            "\u001b[0m\u001b[01;34mhmmer-3.3.2\u001b[0m/  hmmer.tar  \u001b[01;34msample_data\u001b[0m/\n"
          ]
        }
      ]
    },
    {
      "cell_type": "markdown",
      "source": [
        "### Compiling the source"
      ],
      "metadata": {
        "id": "-AMPCFtsuYqx"
      }
    },
    {
      "cell_type": "code",
      "source": [
        "# need to look at the directory for any \"readme\" or \"install\" file first"
      ],
      "metadata": {
        "id": "iqohP00sua5b"
      },
      "execution_count": null,
      "outputs": []
    },
    {
      "cell_type": "code",
      "source": [
        "%cd hmmer-3.3.2"
      ],
      "metadata": {
        "colab": {
          "base_uri": "https://localhost:8080/"
        },
        "id": "GDzY1kJhx1ey",
        "outputId": "9d7b2578-00fc-433e-cafc-ad8ce5748e94"
      },
      "execution_count": null,
      "outputs": [
        {
          "output_type": "stream",
          "name": "stdout",
          "text": [
            "/content/hmmer-3.3.2\n"
          ]
        }
      ]
    },
    {
      "cell_type": "code",
      "source": [
        "!less INSTALL"
      ],
      "metadata": {
        "colab": {
          "base_uri": "https://localhost:8080/"
        },
        "id": "amJOe2tcug74",
        "outputId": "1de02acd-e1f8-48ac-e39d-fac286bc32eb"
      },
      "execution_count": null,
      "outputs": [
        {
          "output_type": "stream",
          "name": "stdout",
          "text": [
            "\u001b7\u001b[?47h\u001b[?1h\u001b=\rBrief installation instructions \r\n",
            "HMMER 3.3.2 (Nov 2020)\r\n",
            "\r\n",
            "Starting from a source distribution, hmmer-3.3.2.tar.gz:\r\n",
            "   uncompress hmmer-3.3.2.tar.gz  \r\n",
            "   tar xf hmmer-3.3.2.tar\r\n",
            "   cd hmmer-3.3.2\r\n",
            "   ./configure\r\n",
            "   make\r\n",
            "   make check                        # optional: automated tests\r\n",
            "   make install                      # optional: install HMMER programs and man  \bpages\r\n",
            "   (cd easel; make install)          # optional: install Easel tools too\r\n",
            "\r\n",
            "For more details including customization, supported platforms, and\r\n",
            "troubleshooting, see the Installation chapter in the HMMER User's\r\n",
            "Guide (Userguide.pdf).\r\n",
            "\r\n",
            "\r\n",
            "\r\n",
            "\n",
            "\u001b[K\u001b[?1l\u001b>\u001b[2J\u001b[?47l\u001b8"
          ]
        }
      ]
    },
    {
      "cell_type": "code",
      "source": [
        "!./configure"
      ],
      "metadata": {
        "colab": {
          "base_uri": "https://localhost:8080/"
        },
        "id": "HioLvQYhuw7I",
        "outputId": "4c568a26-93e0-4c53-e828-4d4085c55530"
      },
      "execution_count": null,
      "outputs": [
        {
          "output_type": "stream",
          "name": "stdout",
          "text": [
            "configure: Configuring HMMER3 for your system.\n",
            "checking build system type... x86_64-pc-linux-gnu\n",
            "checking host system type... x86_64-pc-linux-gnu\n",
            "checking whether to compile using MPI... no\n",
            "checking for gcc... gcc\n",
            "checking whether the C compiler works... yes\n",
            "checking for C compiler default output file name... a.out\n",
            "checking for suffix of executables... \n",
            "checking whether we are cross compiling... no\n",
            "checking for suffix of object files... o\n",
            "checking whether we are using the GNU C compiler... yes\n",
            "checking whether gcc accepts -g... yes\n",
            "checking for gcc option to accept ISO C89... none needed\n",
            "checking for gcc option to accept ISO C99... none needed\n",
            "checking for gcc option to accept ISO Standard C... (cached) none needed\n",
            "checking how to run the C preprocessor... gcc -E\n",
            "checking for a BSD-compatible install... /usr/bin/install -c\n",
            "checking for strip... strip\n",
            "checking for ranlib... ranlib\n",
            "checking for ar... /usr/bin/ar\n",
            "checking whether ln -s works... yes\n",
            "checking for a sed that does not truncate output... /bin/sed\n",
            "checking for grep that handles long lines and -e... /bin/grep\n",
            "checking for egrep... /bin/grep -E\n",
            "checking whether gcc is Clang... no\n",
            "checking whether pthreads work with -pthread... yes\n",
            "checking for joinable pthread attribute... PTHREAD_CREATE_JOINABLE\n",
            "checking whether more special flags are required for pthreads... no\n",
            "checking for PTHREAD_PRIO_INHERIT... yes\n",
            "checking whether gcc can compile our Altivec/VMX code... no\n",
            "checking whether gcc can compile our SSE code... yes\n",
            "configure: Activating Intel/AMD SSE vector DP implementation\n",
            "checking whether _MM_SET_FLUSH_ZERO_MODE is supported... yes\n",
            "checking compiler support --start-group... yes\n",
            "checking for gzip... /bin/gzip\n",
            "checking for python3... yes\n",
            "checking for library containing clock_gettime... none required\n",
            "checking for ANSI C header files... yes\n",
            "checking for sys/types.h... yes\n",
            "checking for sys/stat.h... yes\n",
            "checking for stdlib.h... yes\n",
            "checking for string.h... yes\n",
            "checking for memory.h... yes\n",
            "checking for strings.h... yes\n",
            "checking for inttypes.h... yes\n",
            "checking for stdint.h... yes\n",
            "checking for unistd.h... yes\n",
            "checking endian.h usability... yes\n",
            "checking endian.h presence... yes\n",
            "checking for endian.h... yes\n",
            "checking for inttypes.h... (cached) yes\n",
            "checking for stdint.h... (cached) yes\n",
            "checking for unistd.h... (cached) yes\n",
            "checking for sys/types.h... (cached) yes\n",
            "checking netinet/in.h usability... yes\n",
            "checking netinet/in.h presence... yes\n",
            "checking for netinet/in.h... yes\n",
            "checking sys/param.h usability... yes\n",
            "checking sys/param.h presence... yes\n",
            "checking for sys/param.h... yes\n",
            "checking for sys/sysctl.h... yes\n",
            "checking for uint8_t... yes\n",
            "checking for uint16_t... yes\n",
            "checking for uint32_t... yes\n",
            "checking for uint64_t... yes\n",
            "checking for off_t... yes\n",
            "checking whether byte ordering is bigendian... no\n",
            "checking for __attribute__((noreturn))... yes\n",
            "checking for __attribute__((format))... yes\n",
            "checking for mkstemp... yes\n",
            "checking for popen... yes\n",
            "checking for putenv... yes\n",
            "checking for strcasecmp... yes\n",
            "checking for strsep... yes\n",
            "checking for times... yes\n",
            "checking for getpid... yes\n",
            "checking for sysctl... yes\n",
            "checking for sysconf... yes\n",
            "checking for getcwd... yes\n",
            "checking for chmod... yes\n",
            "checking for stat... yes\n",
            "checking for fstat... yes\n",
            "checking for erfc... no\n",
            "checking for library containing ntohs... none required\n",
            "checking for library containing ntohl... none required\n",
            "checking for library containing htons... none required\n",
            "checking for library containing htonl... none required\n",
            "checking for library containing socket... none required\n",
            "checking for library containing inet_pton... none required\n",
            "checking for _LARGEFILE_SOURCE value needed for large files... no\n",
            "checking for special C compiler options needed for large files... no\n",
            "checking for _FILE_OFFSET_BITS value needed for large files... no\n",
            "configure: creating ./config.status\n",
            "config.status: creating Makefile\n",
            "config.status: creating src/Makefile\n",
            "config.status: creating testsuite/Makefile\n",
            "config.status: creating profmark/Makefile\n",
            "config.status: creating src/impl_sse/Makefile\n",
            "config.status: creating documentation/Makefile\n",
            "config.status: creating documentation/man/Makefile\n",
            "config.status: creating documentation/userguide/Makefile\n",
            "config.status: creating documentation/userguide/inclusions/Makefile\n",
            "config.status: creating libdivsufsort/Makefile\n",
            "config.status: creating easel/Makefile\n",
            "config.status: creating easel/miniapps/Makefile\n",
            "config.status: creating easel/testsuite/Makefile\n",
            "config.status: creating easel/documentation/Makefile\n",
            "config.status: creating documentation/userguide/titlepage.tex\n",
            "config.status: creating documentation/userguide/titlepage_daemon.tex\n",
            "config.status: creating documentation/userguide/copyright.tex\n",
            "config.status: creating documentation/man/alimask.man\n",
            "config.status: creating documentation/man/hmmalign.man\n",
            "config.status: creating documentation/man/hmmbuild.man\n",
            "config.status: creating documentation/man/hmmc2.man\n",
            "config.status: creating documentation/man/hmmconvert.man\n",
            "config.status: creating documentation/man/hmmemit.man\n",
            "config.status: creating documentation/man/hmmer.man\n",
            "config.status: creating documentation/man/hmmfetch.man\n",
            "config.status: creating documentation/man/hmmlogo.man\n",
            "config.status: creating documentation/man/hmmpgmd.man\n",
            "config.status: creating documentation/man/hmmpgmd_shard.man\n",
            "config.status: creating documentation/man/hmmpress.man\n",
            "config.status: creating documentation/man/hmmscan.man\n",
            "config.status: creating documentation/man/hmmsearch.man\n",
            "config.status: creating documentation/man/hmmsim.man\n",
            "config.status: creating documentation/man/hmmstat.man\n",
            "config.status: creating documentation/man/jackhmmer.man\n",
            "config.status: creating documentation/man/makehmmerdb.man\n",
            "config.status: creating documentation/man/nhmmer.man\n",
            "config.status: creating documentation/man/nhmmscan.man\n",
            "config.status: creating documentation/man/phmmer.man\n",
            "config.status: creating easel/miniapps/esl-afetch.man\n",
            "config.status: creating easel/miniapps/esl-alimanip.man\n",
            "config.status: creating easel/miniapps/esl-alimap.man\n",
            "config.status: creating easel/miniapps/esl-alimask.man\n",
            "config.status: creating easel/miniapps/esl-alimerge.man\n",
            "config.status: creating easel/miniapps/esl-alipid.man\n",
            "config.status: creating easel/miniapps/esl-alirev.man\n",
            "config.status: creating easel/miniapps/esl-alistat.man\n",
            "config.status: creating easel/miniapps/esl-compalign.man\n",
            "config.status: creating easel/miniapps/esl-compstruct.man\n",
            "config.status: creating easel/miniapps/esl-construct.man\n",
            "config.status: creating easel/miniapps/esl-histplot.man\n",
            "config.status: creating easel/miniapps/esl-mask.man\n",
            "config.status: creating easel/miniapps/esl-mixdchlet.man\n",
            "config.status: creating easel/miniapps/esl-reformat.man\n",
            "config.status: creating easel/miniapps/esl-selectn.man\n",
            "config.status: creating easel/miniapps/esl-seqrange.man\n",
            "config.status: creating easel/miniapps/esl-seqstat.man\n",
            "config.status: creating easel/miniapps/esl-sfetch.man\n",
            "config.status: creating easel/miniapps/esl-shuffle.man\n",
            "config.status: creating easel/miniapps/esl-ssdraw.man\n",
            "config.status: creating easel/miniapps/esl-translate.man\n",
            "config.status: creating easel/miniapps/esl-weight.man\n",
            "config.status: creating easel/decoy_config.h\n",
            "config.status: creating src/p7_config.h\n",
            "config.status: creating easel/esl_config.h\n",
            "config.status: creating libdivsufsort/divsufsort.h\n",
            "config.status: linking src/impl_sse to src/impl\n",
            "\n",
            "\n",
            "HMMER configuration:\n",
            "   compiler:             gcc -O3   -pthread \n",
            "   host:                 x86_64-pc-linux-gnu\n",
            "   linker:               \n",
            "   libraries:              \n",
            "   DP implementation:    sse\n",
            "\n",
            "Now do 'make'  to build HMMER, and optionally:\n",
            "       'make check'  to run self tests,\n",
            "       'make install'  to install programs and man pages,\n",
            "       '(cd easel; make install)'  to install Easel tools.\n",
            "\n"
          ]
        }
      ]
    },
    {
      "cell_type": "code",
      "source": [
        "ls"
      ],
      "metadata": {
        "colab": {
          "base_uri": "https://localhost:8080/"
        },
        "id": "tCMutr12x6J0",
        "outputId": "d57776d2-18c7-43e8-a10a-5c2fc91103a0"
      },
      "execution_count": null,
      "outputs": [
        {
          "output_type": "stream",
          "name": "stdout",
          "text": [
            "config.guess    configure.ac    \u001b[0m\u001b[01;34mlibdivsufsort\u001b[0m/  \u001b[01;34mprofmark\u001b[0m/         \u001b[01;34mtestsuite\u001b[0m/\n",
            "config.log      \u001b[01;34mdocumentation\u001b[0m/  LICENSE         README.md         \u001b[01;34mtutorial\u001b[0m/\n",
            "\u001b[01;32mconfig.status\u001b[0m*  \u001b[01;34measel\u001b[0m/          Makefile        RELEASE-3.3.2.md  Userguide.pdf\n",
            "config.sub      INSTALL         Makefile.in     \u001b[01;34msrc\u001b[0m/\n",
            "\u001b[01;32mconfigure\u001b[0m*      install-sh      \u001b[01;32mmakeTAGS.sh\u001b[0m*    \u001b[01;34mtest-speed\u001b[0m/\n"
          ]
        }
      ]
    },
    {
      "cell_type": "code",
      "source": [
        "!make"
      ],
      "metadata": {
        "colab": {
          "base_uri": "https://localhost:8080/"
        },
        "id": "eExSsBGXx6q6",
        "outputId": "2bde9a15-0bcd-42a5-a74e-b459167c6df9"
      },
      "execution_count": null,
      "outputs": [
        {
          "output_type": "stream",
          "name": "stdout",
          "text": [
            "     SUBDIR easel\n",
            "     CC easel.o\n",
            "     CC esl_alloc.o\n",
            "     CC esl_alphabet.o\n",
            "     CC esl_arr2.o\n",
            "     CC esl_arr3.o\n",
            "     CC esl_bitfield.o\n",
            "     CC esl_buffer.o\n",
            "     CC esl_cluster.o\n",
            "     CC esl_composition.o\n",
            "     CC esl_cpu.o\n",
            "     CC esl_dirichlet.o\n",
            "     CC esl_distance.o\n",
            "     CC esl_dmatrix.o\n",
            "     CC esl_dsqdata.o\n",
            "     CC esl_exponential.o\n",
            "     CC esl_fileparser.o\n",
            "     CC esl_gamma.o\n",
            "     CC esl_gencode.o\n",
            "     CC esl_getopts.o\n",
            "     CC esl_gev.o\n",
            "     CC esl_graph.o\n",
            "     CC esl_gumbel.o\n",
            "     CC esl_heap.o\n",
            "     CC esl_histogram.o\n",
            "     CC esl_hmm.o\n",
            "     CC esl_huffman.o\n",
            "     CC esl_hyperexp.o\n",
            "     CC esl_json.o\n",
            "     CC esl_keyhash.o\n",
            "     CC esl_matrixops.o\n",
            "     CC esl_mem.o\n",
            "     CC esl_minimizer.o\n",
            "     CC esl_mixdchlet.o\n",
            "     CC esl_mixgev.o\n",
            "     CC esl_mpi.o\n",
            "     CC esl_msa.o\n",
            "     CC esl_msacluster.o\n",
            "     CC esl_msafile.o\n",
            "     CC esl_msafile2.o\n",
            "     CC esl_msafile_a2m.o\n",
            "     CC esl_msafile_afa.o\n",
            "     CC esl_msafile_clustal.o\n",
            "     CC esl_msafile_phylip.o\n",
            "     CC esl_msafile_psiblast.o\n",
            "     CC esl_msafile_selex.o\n",
            "     CC esl_msafile_stockholm.o\n",
            "     CC esl_msashuffle.o\n",
            "     CC esl_msaweight.o\n",
            "     CC esl_normal.o\n",
            "     CC esl_paml.o\n",
            "     CC esl_quicksort.o\n",
            "     CC esl_random.o\n",
            "     CC esl_rand64.o\n",
            "     CC esl_randomseq.o\n",
            "     CC esl_ratematrix.o\n",
            "     CC esl_recorder.o\n",
            "     CC esl_red_black.o\n",
            "     CC esl_regexp.o\n",
            "     CC esl_rootfinder.o\n",
            "     CC esl_scorematrix.o\n",
            "     CC esl_sq.o\n",
            "     CC esl_sqio.o\n",
            "     CC esl_sqio_ascii.o\n",
            "     CC esl_sqio_ncbi.o\n",
            "     CC esl_ssi.o\n",
            "     CC esl_stack.o\n",
            "     CC esl_stats.o\n",
            "     CC esl_stopwatch.o\n",
            "     CC esl_stretchexp.o\n",
            "     CC esl_subcmd.o\n",
            "     CC esl_threads.o\n",
            "     CC esl_tree.o\n",
            "     CC esl_varint.o\n",
            "     CC esl_vectorops.o\n",
            "     CC esl_weibull.o\n",
            "     CC esl_workqueue.o\n",
            "     CC esl_wuss.o\n",
            "     CC esl_sse.o\n",
            "     CC esl_avx.o\n",
            "     CC esl_avx512.o\n",
            "     CC esl_neon.o\n",
            "     CC esl_vmx.o\n",
            "     AR libeasel.a\n",
            "     SUBDIR miniapps\n",
            "     GEN esl-afetch\n",
            "     GEN esl-alimanip\n",
            "     GEN esl-alimap\n",
            "     GEN esl-alimask\n",
            "     GEN esl-alimerge\n",
            "     GEN esl-alipid\n",
            "     GEN esl-alirev\n",
            "     GEN esl-alistat\n",
            "     GEN esl-compalign\n",
            "     GEN esl-compstruct\n",
            "     GEN esl-construct\n",
            "     GEN esl-histplot\n",
            "     GEN esl-mask\n",
            "     GEN esl-mixdchlet\n",
            "     GEN esl-reformat\n",
            "     GEN esl-selectn\n",
            "     GEN esl-seqrange\n",
            "     GEN esl-seqstat\n",
            "     GEN esl-sfetch\n",
            "     GEN esl-shuffle\n",
            "     GEN esl-ssdraw\n",
            "     GEN esl-translate\n",
            "     GEN esl-weight\n",
            "     CC cmd_alistat.o\n",
            "     CC cmd_downsample.o\n",
            "     CC cmd_filter.o\n",
            "     CC cmd_index.o\n",
            "     GEN easel\n",
            "     SUBDIR libdivsufsort\n",
            "     CC divsufsort.o\n",
            "     AR libdivsufsort.a\n",
            "     SUBDIR src\n",
            "     CC alimask.o\n",
            "     CC build.o\n",
            "     CC cachedb.o\n",
            "     CC cachedb_shard.o\n",
            "     CC emit.o\n",
            "     CC errors.o\n",
            "     CC evalues.o\n",
            "     CC eweight.o\n",
            "     CC generic_decoding.o\n",
            "     CC generic_fwdback.o\n",
            "     CC generic_fwdback_chk.o\n",
            "     CC generic_fwdback_banded.o\n",
            "     CC generic_null2.o\n",
            "     CC generic_msv.o\n",
            "     CC generic_optacc.o\n",
            "     CC generic_stotrace.o\n",
            "     CC generic_viterbi.o\n",
            "     CC generic_vtrace.o\n",
            "     CC h2_io.o\n",
            "     CC heatmap.o\n",
            "     CC hmmlogo.o\n",
            "     CC hmmdmstr.o\n",
            "     CC hmmdmstr_shard.o\n",
            "     CC hmmd_search_status.o\n",
            "     CC hmmdwrkr.o\n",
            "     CC hmmdwrkr_shard.o\n",
            "     CC hmmdutils.o\n",
            "     CC hmmer.o\n",
            "     CC logsum.o\n",
            "     CC modelconfig.o\n",
            "     CC modelstats.o\n",
            "     CC mpisupport.o\n",
            "     CC seqmodel.o\n",
            "     CC tracealign.o\n",
            "     CC p7_alidisplay.o\n",
            "     CC p7_bg.o\n",
            "     CC p7_builder.o\n",
            "     CC p7_domain.o\n",
            "     CC p7_domaindef.o\n",
            "     CC p7_gbands.o\n",
            "     CC p7_gmx.o\n",
            "     CC p7_gmxb.o\n",
            "     CC p7_gmxchk.o\n",
            "     CC p7_hit.o\n",
            "     CC p7_hmm.o\n",
            "     CC p7_hmmcache.o\n",
            "     CC p7_hmmd_search_stats.o\n",
            "     CC p7_hmmfile.o\n",
            "     CC p7_hmmwindow.o\n",
            "     CC p7_pipeline.o\n",
            "     CC p7_prior.o\n",
            "     CC p7_profile.o\n",
            "     CC p7_spensemble.o\n",
            "     CC p7_tophits.o\n",
            "     CC p7_trace.o\n",
            "     CC p7_scoredata.o\n",
            "     CC hmmpgmd2msa.o\n",
            "     CC fm_alphabet.o\n",
            "     CC fm_general.o\n",
            "     CC fm_sse.o\n",
            "     CC fm_ssv.o\n",
            "     AR libhmmer-src.stamp\n",
            "     SUBDIR impl_sse\n",
            "     CC decoding.o\n",
            "     CC fwdback.o\n",
            "     CC io.o\n",
            "     CC ssvfilter.o\n",
            "     CC msvfilter.o\n",
            "     CC null2.o\n",
            "     CC optacc.o\n",
            "     CC stotrace.o\n",
            "     CC vitfilter.o\n",
            "     CC p7_omx.o\n",
            "     CC p7_oprofile.o\n",
            "     CC mpi.o\n",
            "     AR libhmmer-impl.stamp\n",
            "     GEN alimask\n",
            "     CC hmmalign.o\n",
            "     GEN hmmalign\n",
            "     CC hmmbuild.o\n",
            "     GEN hmmbuild\n",
            "     CC hmmconvert.o\n",
            "     GEN hmmconvert\n",
            "     CC hmmemit.o\n",
            "     GEN hmmemit\n",
            "     CC hmmfetch.o\n",
            "     GEN hmmfetch\n",
            "     GEN hmmlogo\n",
            "     CC hmmpgmd.o\n",
            "     GEN hmmpgmd\n",
            "     CC hmmpgmd_shard.o\n",
            "     GEN hmmpgmd_shard\n",
            "     CC hmmpress.o\n",
            "     GEN hmmpress\n",
            "     CC hmmscan.o\n",
            "     GEN hmmscan\n",
            "     CC hmmsearch.o\n",
            "     GEN hmmsearch\n",
            "     CC hmmsim.o\n",
            "     GEN hmmsim\n",
            "     CC hmmstat.o\n",
            "     GEN hmmstat\n",
            "     CC jackhmmer.o\n",
            "     GEN jackhmmer\n",
            "     CC phmmer.o\n",
            "     GEN phmmer\n",
            "     CC nhmmer.o\n",
            "     GEN nhmmer\n",
            "     CC nhmmscan.o\n",
            "     GEN nhmmscan\n",
            "     CC makehmmerdb.o\n",
            "     GEN makehmmerdb\n",
            "     CC hmmc2.o\n",
            "     GEN hmmc2\n",
            "     CC hmmerfm-exactmatch.o\n",
            "     GEN hmmerfm-exactmatch\n",
            "     SUBDIR profmark\n",
            "     CC create-profmark.o\n",
            "     GEN create-profmark\n",
            "     CC rocplot.o\n",
            "     GEN rocplot\n"
          ]
        }
      ]
    },
    {
      "cell_type": "code",
      "source": [
        "!make check"
      ],
      "metadata": {
        "colab": {
          "base_uri": "https://localhost:8080/"
        },
        "id": "pbbHHm7kx-76",
        "outputId": "10ff45bc-099f-4a20-a6f1-52f8c79c72ca"
      },
      "execution_count": null,
      "outputs": [
        {
          "output_type": "stream",
          "name": "stdout",
          "text": [
            "     SUBDIR easel\n",
            "     GEN easel_utest\n",
            "     GEN esl_alloc_utest\n",
            "     GEN esl_alphabet_utest\n",
            "     GEN esl_bitfield_utest\n",
            "     GEN esl_buffer_utest\n",
            "     GEN esl_cluster_utest\n",
            "     GEN esl_cpu_utest\n",
            "     GEN esl_dirichlet_utest\n",
            "     GEN esl_distance_utest\n",
            "     GEN esl_dmatrix_utest\n",
            "     GEN esl_dsqdata_utest\n",
            "     GEN esl_exponential_utest\n",
            "     GEN esl_fileparser_utest\n",
            "     GEN esl_gamma_utest\n",
            "     GEN esl_gencode_utest\n",
            "     GEN esl_getopts_utest\n",
            "     GEN esl_graph_utest\n",
            "     GEN esl_gumbel_utest\n",
            "     GEN esl_heap_utest\n",
            "     GEN esl_histogram_utest\n",
            "     GEN esl_hmm_utest\n",
            "     GEN esl_huffman_utest\n",
            "     GEN esl_hyperexp_utest\n",
            "     GEN esl_json_utest\n",
            "     GEN esl_keyhash_utest\n",
            "     GEN esl_matrixops_utest\n",
            "     GEN esl_mem_utest\n",
            "     GEN esl_minimizer_utest\n",
            "     GEN esl_mixdchlet_utest\n",
            "     GEN esl_msa_utest\n",
            "     GEN esl_msacluster_utest\n",
            "     GEN esl_msafile_utest\n",
            "     GEN esl_msafile2_utest\n",
            "     GEN esl_msafile_a2m_utest\n",
            "     GEN esl_msafile_afa_utest\n",
            "     GEN esl_msafile_clustal_utest\n",
            "     GEN esl_msafile_phylip_utest\n",
            "     GEN esl_msafile_psiblast_utest\n",
            "     GEN esl_msafile_selex_utest\n",
            "     GEN esl_msafile_stockholm_utest\n",
            "     GEN esl_msaweight_utest\n",
            "     GEN esl_normal_utest\n",
            "     GEN esl_quicksort_utest\n",
            "     GEN esl_random_utest\n",
            "     GEN esl_rand64_utest\n",
            "     GEN esl_randomseq_utest\n",
            "     GEN esl_ratematrix_utest\n",
            "     GEN esl_red_black_utest\n",
            "     GEN esl_recorder_utest\n",
            "     GEN esl_regexp_utest\n",
            "     GEN esl_rootfinder_utest\n",
            "     GEN esl_scorematrix_utest\n",
            "     GEN esl_sq_utest\n",
            "     GEN esl_sqio_utest\n",
            "     GEN esl_ssi_utest\n",
            "     GEN esl_stack_utest\n",
            "     GEN esl_stats_utest\n",
            "     GEN esl_stretchexp_utest\n",
            "     GEN esl_tree_utest\n",
            "     GEN esl_varint_utest\n",
            "     GEN esl_vectorops_utest\n",
            "     GEN esl_weibull_utest\n",
            "     GEN esl_wuss_utest\n",
            "     GEN esl_sse_utest\n",
            "     GEN esl_avx_utest\n",
            "     GEN esl_avx512_utest\n",
            "     GEN esl_neon_utest\n",
            "     GEN esl_vmx_utest\n",
            "     SUBDIR miniapps\n",
            "     SUBDIR libdivsufsort\n",
            "     SUBDIR src\n",
            "     SUBDIR impl_sse\n",
            "     GEN build_utest\n",
            "     GEN generic_fwdback_utest\n",
            "     GEN generic_fwdback_chk_utest\n",
            "     GEN generic_msv_utest\n",
            "     GEN generic_stotrace_utest\n",
            "     GEN generic_viterbi_utest\n",
            "     GEN hmmer_utest\n",
            "     GEN logsum_utest\n",
            "     GEN modelconfig_utest\n",
            "     GEN seqmodel_utest\n",
            "     GEN p7_alidisplay_utest\n",
            "     GEN p7_bg_utest\n",
            "     GEN p7_domain_utest\n",
            "     GEN p7_gmx_utest\n",
            "     GEN p7_gmxchk_utest\n",
            "     GEN p7_hit_utest\n",
            "     GEN p7_hmmd_search_stats_utest\n",
            "     GEN p7_hmm_utest\n",
            "     GEN p7_hmmfile_utest\n",
            "     GEN p7_profile_utest\n",
            "     GEN p7_tophits_utest\n",
            "     GEN p7_trace_utest\n",
            "     GEN p7_scoredata_utest\n",
            "     GEN hmmpgmd2msa_utest\n",
            "     GEN hmmd_search_status_utest\n",
            "     CC itest_brute.o\n",
            "     GEN itest_brute\n",
            "     SUBDIR impl_sse\n",
            "     GEN decoding_utest\n",
            "     GEN fwdback_utest\n",
            "     GEN io_utest\n",
            "     GEN msvfilter_utest\n",
            "     GEN null2_utest\n",
            "     GEN optacc_utest\n",
            "     GEN stotrace_utest\n",
            "     GEN vitfilter_utest\n",
            "     SUBDIR easel\n",
            "     SUBDIR miniapps\n",
            "     SUBDIR testsuite\n",
            "\n",
            "Running Easel test suite...\n",
            "\n",
            "    exercise    1 [          easel-utest] ...     ok.\n",
            "    exercise    2 [          alloc-utest] ...     ok.\n",
            "    exercise    3 [       alphabet-utest] ...     ok.\n",
            "    exercise    4 [            avx-utest] ...     ok.\n",
            "    exercise    5 [         avx512-utest] ...     ok.\n",
            "    exercise    6 [       bitfield-utest] ...     ok.\n",
            "    exercise    7 [         buffer-utest] ...     ok.\n",
            "    exercise    8 [        cluster-utest] ...     ok.\n",
            "    exercise    9 [            cpu-utest] ...     ok.\n",
            "    exercise   10 [      dirichlet-utest] ...     ok.\n",
            "    exercise   11 [       distance-utest] ...     ok.\n",
            "    exercise   12 [        dmatrix-utest] ...     ok.\n",
            "    exercise   13 [        dsqdata-utest] ...     ok.\n",
            "    exercise   14 [    exponential-utest] ...     ok.\n",
            "    exercise   15 [     fileparser-utest] ...     ok.\n",
            "    exercise   16 [          gamma-utest] ...     ok.\n",
            "    exercise   17 [        gencode-utest] ...     ok.\n",
            "    exercise   18 [        getopts-utest] ...     ok.\n",
            "    exercise   19 [          graph-utest] ...     ok.\n",
            "    exercise   20 [         gumbel-utest] ...     ok.\n",
            "    exercise   21 [           heap-utest] ...     ok.\n",
            "    exercise   22 [      histogram-utest] ...     ok.\n",
            "    exercise   23 [        huffman-utest] ...     ok.\n",
            "    exercise   24 [       hyperexp-utest] ...     ok.\n",
            "    exercise   25 [           json-utest] ...     ok.\n",
            "    exercise   26 [        keyhash-utest] ...     ok.\n",
            "    exercise   27 [      matrixops-utest] ...     ok.\n",
            "    exercise   28 [            mem-utest] ...     ok.\n",
            "    exercise   29 [      minimizer-utest] ...     ok.\n",
            "    exercise   30 [      mixdchlet-utest] ...     ok.\n",
            "    exercise   31 [            msa-utest] ...     ok.\n",
            "    exercise   32 [     msacluster-utest] ...     ok.\n",
            "    exercise   33 [              msafile] ...     ok.\n",
            "    exercise   34 [             msafile2] ...     ok.\n",
            "    exercise   35 [          msafile-a2m] ...     ok.\n",
            "    exercise   36 [          msafile-afa] ...     ok.\n",
            "    exercise   37 [      msafile-clustal] ...     ok.\n",
            "    exercise   38 [       msafile-phylip] ...     ok.\n",
            "    exercise   39 [     msafile-psiblast] ...     ok.\n",
            "    exercise   40 [        msafile-selex] ...     ok.\n",
            "    exercise   41 [    msafile-stockholm] ...     ok.\n",
            "    exercise   42 [      msaweight-utest] ...     ok.\n",
            "    exercise   43 [           neon-utest] ...     ok.\n",
            "    exercise   44 [         normal-utest] ...     ok.\n",
            "    exercise   45 [      quicksort-utest] ...     ok.\n",
            "    exercise   46 [         random-utest] ...     ok.\n",
            "    exercise   47 [         rand64-utest] ...     ok.\n",
            "    exercise   48 [      randomseq-utest] ...     ok.\n",
            "    exercise   49 [     ratematrix-utest] ...     ok.\n",
            "    exercise   50 [       recorder-utest] ...     ok.\n",
            "    exercise   51 [      red_black-utest] ...     ok.\n",
            "    exercise   52 [         regexp-utest] ...     ok.\n",
            "    exercise   53 [     rootfinder-utest] ...     ok.\n",
            "    exercise   54 [    scorematrix-utest] ...     ok.\n",
            "    exercise   55 [             sq-utest] ...     ok.\n",
            "    exercise   56 [           sqio-utest] ...     ok.\n",
            "    exercise   57 [            sse-utest] ...     ok.\n",
            "    exercise   58 [            ssi-utest] ...     ok.\n",
            "    exercise   59 [          stack-utest] ...     ok.\n",
            "    exercise   60 [          stats-utest] ...     ok.\n",
            "    exercise   61 [     stretchexp-utest] ...     ok.\n",
            "    exercise   62 [           tree-utest] ...     ok.\n",
            "    exercise   63 [         varint-utest] ...     ok.\n",
            "    exercise   64 [      vectorops-utest] ...     ok.\n",
            "    exercise   65 [            vmx-utest] ...     ok.\n",
            "    exercise   66 [        weibull-utest] ...     ok.\n",
            "    exercise   67 [           wuss-utest] ...     ok.\n",
            "    exercise   68 [                   e2] ...     ok.\n",
            "    exercise   69 [       degen-residues] ...     ok.\n",
            "    exercise   70 [         ncbi-indices] ...     ok.\n",
            "    exercise   71 [             blank-gf] ...     ok.\n",
            "    exercise   72 [        esl-translate] ...     ok.\n",
            "    exercise   73 [           esl-afetch] ...     ok.\n",
            "    exercise   74 [         esl-alimanip] ...     ok.\n",
            "    exercise   75 [           esl-alimap] ...     ok.\n",
            "    exercise   76 [          esl-alimask] ...     ok.\n",
            "    exercise   77 [         esl-alimerge] ...     ok.\n",
            "    exercise   78 [          esl-alistat] ...     ok.\n",
            "    exercise   79 [        esl-compalign] ...     ok.\n",
            "    exercise   80 [        esl-construct] ...     ok.\n",
            "    exercise   81 [             esl-mask] ...     ok.\n",
            "    exercise   82 [         esl-seqrange] ...     ok.\n",
            "    exercise   83 [          esl-shuffle] ...     ok.\n",
            "    exercise   84 [           esl-ssdraw] ...     ok.\n",
            "\n",
            "All 84 exercises at level <= 2 passed.\n",
            "\n",
            "\n",
            "System information:\n",
            "Thu Jan 20 04:46:15 UTC 2022\n",
            "Linux b38e5401e12f 5.4.144+ #1 SMP Tue Dec 7 09:58:10 PST 2021 x86_64 x86_64 x86_64 GNU/Linux\n",
            "     SUBDIR testsuite\n",
            "\n",
            "Running HMMER test suite...\n",
            "\n",
            "    exercise    1 [                hmmer] ...     ok.\n",
            "    exercise    2 [                build] ...     ok.\n",
            "    exercise    3 [      generic_fwdback] ...     ok.\n",
            "    exercise    4 [          generic_msv] ...     ok.\n",
            "    exercise    5 [     generic_stotrace] ...     ok.\n",
            "    exercise    6 [      generic_viterbi] ...     ok.\n",
            "    exercise    7 [   hmmd_search_status] ...     ok.\n",
            "    exercise    8 [               logsum] ...     ok.\n",
            "    exercise    9 [          modelconfig] ...     ok.\n",
            "    exercise   10 [             seqmodel] ...     ok.\n",
            "    exercise   11 [        p7_alidisplay] ...     ok.\n",
            "    exercise   12 [                p7_bg] ...     ok.\n",
            "    exercise   13 [            p7_domain] ...     ok.\n",
            "    exercise   14 [               p7_gmx] ...     ok.\n",
            "    exercise   15 [               p7_hit] ...     ok.\n",
            "    exercise   16 [               p7_hmm] ...     ok.\n",
            "    exercise   17 [           p7_hmmfile] ...     ok.\n",
            "    exercise   18 [ p7_hmmd_search_stats] ...     ok.\n",
            "    exercise   19 [           p7_profile] ...     ok.\n",
            "    exercise   20 [           p7_tophits] ...     ok.\n",
            "    exercise   21 [             p7_trace] ...     ok.\n",
            "    exercise   22 [         p7_scoredata] ...     ok.\n",
            "    exercise   23 [             decoding] ...     ok.\n",
            "    exercise   24 [              fwdback] ...     ok.\n",
            "    exercise   25 [                   io] ...     ok.\n",
            "    exercise   26 [            msvfilter] ...     ok.\n",
            "    exercise   27 [                null2] ...     ok.\n",
            "    exercise   28 [               optacc] ...     ok.\n",
            "    exercise   29 [             stotrace] ...     ok.\n",
            "    exercise   30 [            vitfilter] ...     ok.\n",
            "    exercise   31 [          hmmpgmd2msa] ...     ok.\n",
            "    exercise   32 [             hmmalign] ...     ok.\n",
            "    exercise   33 [          hmmalign/-h] ...     ok.\n",
            "    exercise   34 [          hmmalign/-o] ...     ok.\n",
            "    exercise   35 [    hmmalign/--mapali] ...     ok.\n",
            "    exercise   36 [      hmmalign/--trim] ...     ok.\n",
            "    exercise   37 [     hmmalign/--amino] ...     ok.\n",
            "    exercise   38 [  hmmalign/--informat] ...     ok.\n",
            "    exercise   39 [ hmmalign/--outformat] ...     ok.\n",
            "    exercise   40 [             hmmbuild] ...     ok.\n",
            "    exercise   41 [             build/-h] ...     ok.\n",
            "    exercise   42 [             build/-n] ...     ok.\n",
            "    exercise   43 [             build/-o] ...     ok.\n",
            "    exercise   44 [             build/-O] ...     ok.\n",
            "    exercise   45 [        build/--amino] ...     ok.\n",
            "    exercise   46 [          build/--dna] ...     ok.\n",
            "    exercise   47 [          build/--rna] ...     ok.\n",
            "    exercise   48 [         build/--fast] ...     ok.\n",
            "    exercise   49 [         build/--hand] ...     ok.\n",
            "    exercise   50 [      build/--symfrac] ...     ok.\n",
            "    exercise   51 [   build/--fragthresh] ...     ok.\n",
            "    exercise   52 [          build/--wpb] ...     ok.\n",
            "    exercise   53 [         build/--wgsc] ...     ok.\n",
            "    exercise   54 [      build/--wblosum] ...     ok.\n",
            "    exercise   55 [        build/--wnone] ...     ok.\n",
            "    exercise   56 [          build/--wid] ...     ok.\n",
            "    exercise   57 [         build/--eent] ...     ok.\n",
            "    exercise   58 [       build/--eclust] ...     ok.\n",
            "    exercise   59 [        build/--enone] ...     ok.\n",
            "    exercise   60 [         build/--eset] ...     ok.\n",
            "    exercise   61 [          build/--ere] ...     ok.\n",
            "    exercise   62 [       build/--esigma] ...     ok.\n",
            "    exercise   63 [          build/--eid] ...     ok.\n",
            "    exercise   64 [        build/--pnone] ...     ok.\n",
            "    exercise   65 [     build/--plaplace] ...     ok.\n",
            "    exercise   66 [          build/--EmL] ...     ok.\n",
            "    exercise   67 [          build/--EmN] ...     ok.\n",
            "    exercise   68 [          build/--EvL] ...     ok.\n",
            "    exercise   69 [          build/--EvN] ...     ok.\n",
            "    exercise   70 [          build/--EfL] ...     ok.\n",
            "    exercise   71 [          build/--EfN] ...     ok.\n",
            "    exercise   72 [          build/--Eft] ...     ok.\n",
            "    exercise   73 [     build/--informat] ...     ok.\n",
            "    exercise   74 [         build/--seed] ...     ok.\n",
            "    exercise   75 [               search] ...     ok.\n",
            "    exercise   76 [            search/-h] ...     ok.\n",
            "    exercise   77 [            search/-o] ...     ok.\n",
            "    exercise   78 [            search/-A] ...     ok.\n",
            "    exercise   79 [      search/--tblout] ...     ok.\n",
            "    exercise   80 [   search/--domtblout] ...     ok.\n",
            "    exercise   81 [  search/--pfamtblout] ...     ok.\n",
            "    exercise   82 [         search/--acc] ...     ok.\n",
            "    exercise   83 [       search/--noali] ...     ok.\n",
            "    exercise   84 [     search/--notextw] ...     ok.\n",
            "    exercise   85 [       search/--textw] ...     ok.\n",
            "    exercise   86 [            search/-E] ...     ok.\n",
            "    exercise   87 [            search/-T] ...     ok.\n",
            "    exercise   88 [        search/--domE] ...     ok.\n",
            "    exercise   89 [        search/--domT] ...     ok.\n",
            "    exercise   90 [        search/--incE] ...     ok.\n",
            "    exercise   91 [        search/--incT] ...     ok.\n",
            "    exercise   92 [     search/--incdomE] ...     ok.\n",
            "    exercise   93 [     search/--incdomT] ...     ok.\n",
            "    exercise   94 [      search/--cut_ga] ...     ok.\n",
            "    exercise   95 [      search/--cut_nc] ...     ok.\n",
            "    exercise   96 [      search/--cut_tc] ...     ok.\n",
            "    exercise   97 [         search/--max] ...     ok.\n",
            "    exercise   98 [          search/--F1] ...     ok.\n",
            "    exercise   99 [          search/--F2] ...     ok.\n",
            "    exercise  100 [          search/--F3] ...     ok.\n",
            "    exercise  101 [      search/--nobias] ...     ok.\n",
            "    exercise  102 [     search/--nonull2] ...     ok.\n",
            "    exercise  103 [            search/-Z] ...     ok.\n",
            "    exercise  104 [        search/--domZ] ...     ok.\n",
            "    exercise  105 [        search/--seed] ...     ok.\n",
            "    exercise  106 [     search/--tformat] ...     ok.\n",
            "    exercise  107 [              hmmscan] ...     ok.\n",
            "    exercise  108 [              scan/-h] ...     ok.\n",
            "    exercise  109 [              scan/-o] ...     ok.\n",
            "    exercise  110 [        scan/--tblout] ...     ok.\n",
            "    exercise  111 [     scan/--domtblout] ...     ok.\n",
            "    exercise  112 [    scan/--pfamtblout] ...     ok.\n",
            "    exercise  113 [           scan/--acc] ...     ok.\n",
            "    exercise  114 [         scan/--noali] ...     ok.\n",
            "    exercise  115 [       scan/--notextw] ...     ok.\n",
            "    exercise  116 [         scan/--textw] ...     ok.\n",
            "    exercise  117 [              scan/-E] ...     ok.\n",
            "    exercise  118 [              scan/-T] ...     ok.\n",
            "    exercise  119 [          scan/--domE] ...     ok.\n",
            "    exercise  120 [          scan/--domT] ...     ok.\n",
            "    exercise  121 [          scan/--incE] ...     ok.\n",
            "    exercise  122 [          scan/--incT] ...     ok.\n",
            "    exercise  123 [       scan/--incdomE] ...     ok.\n",
            "    exercise  124 [       scan/--incdomT] ...     ok.\n",
            "    exercise  125 [       scan/--incdomT] ...     ok.\n",
            "    exercise  126 [        scan/--cut_ga] ...     ok.\n",
            "    exercise  127 [        scan/--cut_nc] ...     ok.\n",
            "    exercise  128 [        scan/--cut_tc] ...     ok.\n",
            "    exercise  129 [           scan/--max] ...     ok.\n",
            "    exercise  130 [            scan/--F1] ...     ok.\n",
            "    exercise  131 [            scan/--F2] ...     ok.\n",
            "    exercise  132 [            scan/--F3] ...     ok.\n",
            "    exercise  133 [        scan/--nobias] ...     ok.\n",
            "    exercise  134 [       scan/--nonull2] ...     ok.\n",
            "    exercise  135 [              scan/-Z] ...     ok.\n",
            "    exercise  136 [          scan/--domZ] ...     ok.\n",
            "    exercise  137 [          scan/--seed] ...     ok.\n",
            "    exercise  138 [       scan/--qformat] ...     ok.\n",
            "    exercise  139 [           scan/--cpu] ...     ok.\n",
            "    exercise  140 [            jackhmmer] ...     ok.\n",
            "    exercise  141 [                 j/-h] ...     ok.\n",
            "    exercise  142 [                 j/-N] ...     ok.\n",
            "    exercise  143 [                 j/-o] ...     ok.\n",
            "    exercise  144 [                 j/-A] ...     ok.\n",
            "    exercise  145 [           j/--tblout] ...     ok.\n",
            "    exercise  146 [        j/--domtblout] ...     ok.\n",
            "    exercise  147 [           j/--chkhmm] ...     ok.\n",
            "    exercise  148 [           j/--chkali] ...     ok.\n",
            "    exercise  149 [              j/--acc] ...     ok.\n",
            "    exercise  150 [            j/--noali] ...     ok.\n",
            "    exercise  151 [          j/--notextw] ...     ok.\n",
            "    exercise  152 [            j/--textw] ...     ok.\n",
            "    exercise  153 [            j/--popen] ...     ok.\n",
            "    exercise  154 [          j/--pextend] ...     ok.\n",
            "    exercise  155 [           j/--mxfile] ...     ok.\n",
            "    exercise  156 [                 j/-E] ...     ok.\n",
            "    exercise  157 [                 j/-T] ...     ok.\n",
            "    exercise  158 [             j/--domE] ...     ok.\n",
            "    exercise  159 [             j/--domT] ...     ok.\n",
            "    exercise  160 [             j/--incE] ...     ok.\n",
            "    exercise  161 [             j/--incT] ...     ok.\n",
            "    exercise  162 [          j/--incdomE] ...     ok.\n",
            "    exercise  163 [          j/--incdomT] ...     ok.\n",
            "    exercise  164 [              j/--max] ...     ok.\n",
            "    exercise  165 [               j/--F1] ...     ok.\n",
            "    exercise  166 [               j/--F2] ...     ok.\n",
            "    exercise  167 [               j/--F3] ...     ok.\n",
            "    exercise  168 [           j/--nobias] ...     ok.\n",
            "    exercise  169 [              j/--EmL] ...     ok.\n",
            "    exercise  170 [              j/--EmN] ...     ok.\n",
            "    exercise  171 [              j/--EvL] ...     ok.\n",
            "    exercise  172 [              j/--EvN] ...     ok.\n",
            "    exercise  173 [              j/--EfL] ...     ok.\n",
            "    exercise  174 [              j/--EfN] ...     ok.\n",
            "    exercise  175 [              j/--Eft] ...     ok.\n",
            "    exercise  176 [          j/--nonull2] ...     ok.\n",
            "    exercise  177 [                 j/-Z] ...     ok.\n",
            "    exercise  178 [             j/--domZ] ...     ok.\n",
            "    exercise  179 [             j/--seed] ...     ok.\n",
            "    exercise  180 [          j/--qformat] ...     ok.\n",
            "    exercise  181 [          j/--tformat] ...     ok.\n",
            "    exercise  182 [               phmmer] ...     ok.\n",
            "    exercise  183 [            phmmer/-h] ...     ok.\n",
            "    exercise  184 [            phmmer/-o] ...     ok.\n",
            "    exercise  185 [            phmmer/-A] ...     ok.\n",
            "    exercise  186 [      phmmer/--tblout] ...     ok.\n",
            "    exercise  187 [   phmmer/--domtblout] ...     ok.\n",
            "    exercise  188 [  phmmer/--pfamtblout] ...     ok.\n",
            "    exercise  189 [         phmmer/--acc] ...     ok.\n",
            "    exercise  190 [       phmmer/--noali] ...     ok.\n",
            "    exercise  191 [     phmmer/--notextw] ...     ok.\n",
            "    exercise  192 [       phmmer/--textw] ...     ok.\n",
            "    exercise  193 [       phmmer/--popen] ...     ok.\n",
            "    exercise  194 [     phmmer/--pextend] ...     ok.\n",
            "    exercise  195 [      phmmer/--mxfile] ...     ok.\n",
            "    exercise  196 [            phmmer/-E] ...     ok.\n",
            "    exercise  197 [            phmmer/-T] ...     ok.\n",
            "    exercise  198 [        phmmer/--domE] ...     ok.\n",
            "    exercise  199 [        phmmer/--domT] ...     ok.\n",
            "    exercise  200 [        phmmer/--incE] ...     ok.\n",
            "    exercise  201 [        phmmer/--incT] ...     ok.\n",
            "    exercise  202 [     phmmer/--incdomE] ...     ok.\n",
            "    exercise  203 [     phmmer/--incdomT] ...     ok.\n",
            "    exercise  204 [         phmmer/--max] ...     ok.\n",
            "    exercise  205 [          phmmer/--F1] ...     ok.\n",
            "    exercise  206 [          phmmer/--F2] ...     ok.\n",
            "    exercise  207 [          phmmer/--F3] ...     ok.\n",
            "    exercise  208 [      phmmer/--nobias] ...     ok.\n",
            "    exercise  209 [         phmmer/--EmL] ...     ok.\n",
            "    exercise  210 [         phmmer/--EmN] ...     ok.\n",
            "    exercise  211 [         phmmer/--EvL] ...     ok.\n",
            "    exercise  212 [         phmmer/--EvN] ...     ok.\n",
            "    exercise  213 [         phmmer/--EfL] ...     ok.\n",
            "    exercise  214 [         phmmer/--EfN] ...     ok.\n",
            "    exercise  215 [         phmmer/--Eft] ...     ok.\n",
            "    exercise  216 [     phmmer/--nonull2] ...     ok.\n",
            "    exercise  217 [            phmmer/-Z] ...     ok.\n",
            "    exercise  218 [        phmmer/--domZ] ...     ok.\n",
            "    exercise  219 [        phmmer/--seed] ...     ok.\n",
            "    exercise  220 [     phmmer/--qformat] ...     ok.\n",
            "    exercise  221 [     phmmer/--tformat] ...     ok.\n",
            "    exercise  222 [               nhmmer] ...     ok.\n",
            "    exercise  223 [            nhmmer/-h] ...     ok.\n",
            "    exercise  224 [            nhmmer/-o] ...     ok.\n",
            "    exercise  225 [            nhmmer/-A] ...     ok.\n",
            "    exercise  226 [      nhmmer/--tblout] ...     ok.\n",
            "    exercise  227 [  nhmmer/--dfamtblout] ...     ok.\n",
            "    exercise  228 [         nhmmer/--acc] ...     ok.\n",
            "    exercise  229 [       nhmmer/--noali] ...     ok.\n",
            "    exercise  230 [     nhmmer/--notextw] ...     ok.\n",
            "    exercise  231 [       nhmmer/--textw] ...     ok.\n",
            "    exercise  232 [            nhmmer/-E] ...     ok.\n",
            "    exercise  233 [            nhmmer/-T] ...     ok.\n",
            "    exercise  234 [        nhmmer/--incE] ...     ok.\n",
            "    exercise  235 [        nhmmer/--incT] ...     ok.\n",
            "    exercise  236 [         nhmmer/--max] ...     ok.\n",
            "    exercise  237 [          nhmmer/--F1] ...     ok.\n",
            "    exercise  238 [          nhmmer/--F2] ...     ok.\n",
            "    exercise  239 [          nhmmer/--F3] ...     ok.\n",
            "    exercise  240 [      nhmmer/--nobias] ...     ok.\n",
            "    exercise  241 [     nhmmer/--nonull2] ...     ok.\n",
            "    exercise  242 [            nhmmer/-Z] ...     ok.\n",
            "    exercise  243 [        nhmmer/--seed] ...     ok.\n",
            "    exercise  244 [             nhmmscan] ...     ok.\n",
            "    exercise  245 [          nhmmscan/-h] ...     ok.\n",
            "    exercise  246 [          nhmmscan/-o] ...     ok.\n",
            "    exercise  247 [    nhmmscan/--tblout] ...     ok.\n",
            "    exercise  248 [nhmmscan/--dfamtblout] ...     ok.\n",
            "    exercise  249 [       nhmmscan/--acc] ...     ok.\n",
            "    exercise  250 [     nhmmscan/--noali] ...     ok.\n",
            "    exercise  251 [   nhmmscan/--notextw] ...     ok.\n",
            "    exercise  252 [     nhmmscan/--textw] ...     ok.\n",
            "    exercise  253 [          nhmmscan/-E] ...     ok.\n",
            "    exercise  254 [          nhmmscan/-T] ...     ok.\n",
            "    exercise  255 [      nhmmscan/--incE] ...     ok.\n",
            "    exercise  256 [      nhmmscan/--incT] ...     ok.\n",
            "    exercise  257 [       nhmmscan/--max] ...     ok.\n",
            "    exercise  258 [        nhmmscan/--F1] ...     ok.\n",
            "    exercise  259 [        nhmmscan/--F2] ...     ok.\n",
            "    exercise  260 [        nhmmscan/--F3] ...     ok.\n",
            "    exercise  261 [    nhmmscan/--nobias] ...     ok.\n",
            "    exercise  262 [   nhmmscan/--nonull2] ...     ok.\n",
            "    exercise  263 [          nhmmscan/-Z] ...     ok.\n",
            "    exercise  264 [      nhmmscan/--seed] ...     ok.\n",
            "    exercise  265 [              hmmemit] ...     ok.\n",
            "    exercise  266 [           hmmemit/-h] ...     ok.\n",
            "    exercise  267 [           hmmemit/-c] ...     ok.\n",
            "    exercise  268 [           hmmemit/-o] ...     ok.\n",
            "    exercise  269 [           hmmemit/-p] ...     ok.\n",
            "    exercise  270 [           hmmemit/-N] ...     ok.\n",
            "    exercise  271 [           hmmemit/-L] ...     ok.\n",
            "    exercise  272 [      hmmemit/--local] ...     ok.\n",
            "    exercise  273 [   hmmemit/--unilocal] ...     ok.\n",
            "    exercise  274 [     hmmemit/--glocal] ...     ok.\n",
            "    exercise  275 [  hmmemit/--uniglocal] ...     ok.\n",
            "    exercise  276 [             hmmfetch] ...     ok.\n",
            "    exercise  277 [              hmmstat] ...     ok.\n",
            "    exercise  278 [              hmmlogo] ...     ok.\n",
            "    exercise  279 [           hmmconvert] ...     ok.\n",
            "    exercise  280 [               hmmsim] ...     ok.\n",
            "    exercise  281 [   hmmbuild_variation] ...     ok.\n",
            "    exercise  282 [    hmmscan_variation] ...     ok.\n",
            "    exercise  283 [  hmmsearch_variation] ...     ok.\n",
            "    exercise  284 [     phmmer_variation] ...     ok.\n",
            "    exercise  285 [               mapali] ...     ok.\n",
            "    exercise  286 [            fragments] ...     ok.\n",
            "    exercise  287 [          nonresidues] ...     ok.\n",
            "    exercise  288 [       opt-annotation] ...     ok.\n",
            "    exercise  289 [            dup-names] ...     ok.\n",
            "    exercise  290 [         mapali-again] ...     ok.\n",
            "    exercise  291 [    delete-corruption] ...     ok.\n",
            "    exercise  292 [        msa-integrity] ...     ok.\n",
            "    exercise  293 [    hmmemit-consensus] ...     ok.\n",
            "    exercise  294 [           hmmconvert] ...     ok.\n",
            "    exercise  295 [          stdin_pipes] ...     ok.\n",
            "    exercise  296 [       nhmmer_generic] ...     ok.\n",
            "    exercise  297 [           hmmpgmd_ga] ...     ok.\n",
            "    exercise  298 [               rewind] ...     ok.\n",
            "    exercise  299 [     hmmpgmd_shard_ga] ...     ok.\n",
            "    exercise  300 [            bad-fasta] ...     ok.\n",
            "    exercise  301 [          brute-itest] ...     ok.\n",
            "    exercise  302 [       hmmpress-itest] ...     ok.\n",
            "    exercise  303 [                  h39] ...     ok.\n",
            "    exercise  304 [                  h45] ...     ok.\n",
            "    exercise  305 [                  h50] ...     ok.\n",
            "    exercise  306 [                  h82] ...     ok.\n",
            "    exercise  307 [               iss159] ...     ok.\n",
            "\n",
            "All 307 exercises at level <= 2 passed.\n",
            "\n",
            "\n",
            "System information:\n",
            "Thu Jan 20 04:46:35 UTC 2022\n",
            "Linux b38e5401e12f 5.4.144+ #1 SMP Tue Dec 7 09:58:10 PST 2021 x86_64 x86_64 x86_64 GNU/Linux\n"
          ]
        }
      ]
    },
    {
      "cell_type": "code",
      "source": [
        "!make install"
      ],
      "metadata": {
        "colab": {
          "base_uri": "https://localhost:8080/"
        },
        "id": "7l8jhQ2dyBCk",
        "outputId": "896f2c81-5e2f-4cc4-c561-ca041457b660"
      },
      "execution_count": null,
      "outputs": [
        {
          "output_type": "stream",
          "name": "stdout",
          "text": [
            "     SUBDIR easel\n",
            "     SUBDIR miniapps\n",
            "     SUBDIR libdivsufsort\n",
            "     SUBDIR src\n",
            "     SUBDIR impl_sse\n",
            "     SUBDIR profmark\n",
            "/usr/bin/install -c -d /usr/local/bin\n",
            "/usr/bin/install -c -d /usr/local/share/man/man1\n",
            "make -C src install\n",
            "make[1]: Entering directory '/content/hmmer-3.3.2/src'\n",
            "for file in alimask hmmalign hmmbuild hmmconvert hmmemit hmmfetch hmmlogo hmmpgmd hmmpgmd_shard hmmpress hmmscan hmmsearch hmmsim hmmstat jackhmmer phmmer nhmmer nhmmscan makehmmerdb; do \\\n",
            "   /usr/bin/install -c -m 0755 $file /usr/local/bin/ ;\\\n",
            "done\n",
            "make[1]: Leaving directory '/content/hmmer-3.3.2/src'\n",
            "make -C documentation install\n",
            "make[1]: Entering directory '/content/hmmer-3.3.2/documentation'\n",
            "make -C man install\n",
            "make[2]: Entering directory '/content/hmmer-3.3.2/documentation/man'\n",
            "for file in hmmer hmmalign hmmbuild hmmc2 hmmconvert hmmemit hmmfetch hmmlogo hmmpgmd hmmpgmd_shard hmmpress hmmscan hmmsearch hmmsim hmmstat jackhmmer makehmmerdb phmmer nhmmer nhmmscan alimask; do \\\n",
            "   /usr/bin/install -c -m 0664 $file.man /usr/local/share/man/man1/${file}.1 ;\\\n",
            "done\n",
            "make[2]: Leaving directory '/content/hmmer-3.3.2/documentation/man'\n",
            "make[1]: Leaving directory '/content/hmmer-3.3.2/documentation'\n"
          ]
        }
      ]
    },
    {
      "cell_type": "code",
      "source": [
        "%cd easel"
      ],
      "metadata": {
        "colab": {
          "base_uri": "https://localhost:8080/"
        },
        "id": "Nu-GZmJjz_WD",
        "outputId": "a6da7820-0277-49b0-99c4-4a053422d5ae"
      },
      "execution_count": null,
      "outputs": [
        {
          "output_type": "stream",
          "name": "stdout",
          "text": [
            "/content/hmmer-3.3.2/easel\n"
          ]
        }
      ]
    },
    {
      "cell_type": "code",
      "source": [
        "!make install"
      ],
      "metadata": {
        "colab": {
          "base_uri": "https://localhost:8080/"
        },
        "id": "3H7kuInN0pyw",
        "outputId": "36867de4-b3fb-400e-97aa-88d9a4d2e919"
      },
      "execution_count": null,
      "outputs": [
        {
          "output_type": "stream",
          "name": "stdout",
          "text": [
            "/usr/bin/install -c -d /usr/local/bin\n",
            "/usr/bin/install -c -d /usr/local/share/man/man1\n",
            "make -C miniapps install\n",
            "make[1]: Entering directory '/content/hmmer-3.3.2/easel/miniapps'\n",
            "/usr/bin/install -c -m 0755 easel /usr/local/bin/\n",
            "for file in esl-afetch esl-alimanip esl-alimap esl-alimask esl-alimerge esl-alipid esl-alirev esl-alistat esl-compalign esl-compstruct esl-construct esl-histplot esl-mask esl-mixdchlet esl-reformat esl-selectn esl-seqrange esl-seqstat esl-sfetch esl-shuffle esl-ssdraw esl-translate esl-weight; do \\\n",
            "   /usr/bin/install -c -m 0755 $file /usr/local/bin/ ;\\\n",
            "done\n",
            "for file in esl-afetch esl-alimanip esl-alimap esl-alimask esl-alimerge esl-alipid esl-alirev esl-alistat esl-compalign esl-compstruct esl-construct esl-histplot esl-mask esl-mixdchlet esl-reformat esl-selectn esl-seqrange esl-seqstat esl-sfetch esl-shuffle esl-ssdraw esl-translate esl-weight; do \\\n",
            "   /usr/bin/install -c -m 0644 $file.man /usr/local/share/man/man1/${file}.1 ;\\\n",
            "done\n",
            "make[1]: Leaving directory '/content/hmmer-3.3.2/easel/miniapps'\n"
          ]
        }
      ]
    },
    {
      "cell_type": "markdown",
      "source": [
        "### Need to download and install another program (Muscle) before proceeding"
      ],
      "metadata": {
        "id": "KrTcwCJc107L"
      }
    },
    {
      "cell_type": "markdown",
      "source": [
        "##### (for multiple alignments)"
      ],
      "metadata": {
        "id": "dPzcSatE7v9i"
      }
    },
    {
      "cell_type": "code",
      "source": [
        "%cd ../.."
      ],
      "metadata": {
        "colab": {
          "base_uri": "https://localhost:8080/"
        },
        "id": "HdPHXz2c2OuI",
        "outputId": "3a234795-6dff-4d0e-e957-469b9ac62961"
      },
      "execution_count": null,
      "outputs": [
        {
          "output_type": "stream",
          "name": "stdout",
          "text": [
            "/\n"
          ]
        }
      ]
    },
    {
      "cell_type": "code",
      "source": [
        "%cd content"
      ],
      "metadata": {
        "colab": {
          "base_uri": "https://localhost:8080/"
        },
        "id": "BLprdr6A6bvZ",
        "outputId": "d6d83413-9409-46fc-b774-c2170ab6c9e1"
      },
      "execution_count": null,
      "outputs": [
        {
          "output_type": "stream",
          "name": "stdout",
          "text": [
            "/content\n"
          ]
        }
      ]
    },
    {
      "cell_type": "code",
      "source": [
        "!uname -a # knowing that it is 64"
      ],
      "metadata": {
        "colab": {
          "base_uri": "https://localhost:8080/"
        },
        "id": "8DHYq22Z4E0R",
        "outputId": "08221d4e-966d-4c6f-c714-bd815b232fdc"
      },
      "execution_count": null,
      "outputs": [
        {
          "output_type": "stream",
          "name": "stdout",
          "text": [
            "Linux b38e5401e12f 5.4.144+ #1 SMP Tue Dec 7 09:58:10 PST 2021 x86_64 x86_64 x86_64 GNU/Linux\n"
          ]
        }
      ]
    },
    {
      "cell_type": "code",
      "source": [
        "!wget \"https://drive5.com/muscle/downloads3.8.31/muscle3.8.31_i86linux64.tar.gz\" -O muscle3.tar.gz"
      ],
      "metadata": {
        "colab": {
          "base_uri": "https://localhost:8080/"
        },
        "id": "H9dUYFur4GBG",
        "outputId": "13d2fecd-d0f5-450b-bc02-e1e5b5f55730"
      },
      "execution_count": null,
      "outputs": [
        {
          "output_type": "stream",
          "name": "stdout",
          "text": [
            "--2022-01-20 05:16:18--  https://drive5.com/muscle/downloads3.8.31/muscle3.8.31_i86linux64.tar.gz\n",
            "Resolving drive5.com (drive5.com)... 199.195.116.69\n",
            "Connecting to drive5.com (drive5.com)|199.195.116.69|:443... connected.\n",
            "HTTP request sent, awaiting response... 200 OK\n",
            "Length: 487906 (476K) [application/x-gzip]\n",
            "Saving to: ‘muscle3.tar.gz’\n",
            "\n",
            "muscle3.tar.gz      100%[===================>] 476.47K   574KB/s    in 0.8s    \n",
            "\n",
            "2022-01-20 05:16:20 (574 KB/s) - ‘muscle3.tar.gz’ saved [487906/487906]\n",
            "\n"
          ]
        }
      ]
    },
    {
      "cell_type": "code",
      "source": [
        "!gzip -d muscle3.tar.gz"
      ],
      "metadata": {
        "id": "URdxxTNB4Rph"
      },
      "execution_count": null,
      "outputs": []
    },
    {
      "cell_type": "code",
      "source": [
        "!tar -xf muscle3.tar"
      ],
      "metadata": {
        "id": "8aHzWJd74bR8"
      },
      "execution_count": null,
      "outputs": []
    },
    {
      "cell_type": "code",
      "source": [
        "ls"
      ],
      "metadata": {
        "colab": {
          "base_uri": "https://localhost:8080/"
        },
        "id": "I7QNU6BW4ikU",
        "outputId": "2b49f296-401d-47d2-eb9f-7010658a48e3"
      },
      "execution_count": null,
      "outputs": [
        {
          "output_type": "stream",
          "name": "stdout",
          "text": [
            "config.log      Makefile                        \u001b[0m\u001b[01;34mprofmark\u001b[0m/\n",
            "\u001b[01;32mconfig.status\u001b[0m*  \u001b[01;32mmuscle3.8.31_i86linux64\u001b[0m*        \u001b[01;34msample_data\u001b[0m/\n",
            "\u001b[01;34mdocumentation\u001b[0m/  muscle3.tar                     \u001b[01;34msrc\u001b[0m/\n",
            "\u001b[01;34measel\u001b[0m/          \u001b[01;34mmuscle-5.1\u001b[0m/                     \u001b[01;34mtestsuite\u001b[0m/\n",
            "\u001b[01;34mhmmer-3.3.2\u001b[0m/    muscle5.1.linux_intel64         v5.1.tar\n",
            "hmmer.tar       muscle5.1.linux_intel64.tar.gz\n",
            "\u001b[01;34mlibdivsufsort\u001b[0m/  muscle5.1.tar.gz\n"
          ]
        }
      ]
    },
    {
      "cell_type": "code",
      "source": [
        "!./muscle3.8.31_i86linux64"
      ],
      "metadata": {
        "colab": {
          "base_uri": "https://localhost:8080/"
        },
        "id": "BPjwtw-T6WE_",
        "outputId": "46b612af-5f5b-437a-bd2f-2577959c8167"
      },
      "execution_count": null,
      "outputs": [
        {
          "output_type": "stream",
          "name": "stdout",
          "text": [
            "\n",
            "MUSCLE v3.8.31 by Robert C. Edgar\n",
            "\n",
            "http://www.drive5.com/muscle\n",
            "This software is donated to the public domain.\n",
            "Please cite: Edgar, R.C. Nucleic Acids Res 32(5), 1792-97.\n",
            "\n",
            "\n",
            "Basic usage\n",
            "\n",
            "    muscle -in <inputfile> -out <outputfile>\n",
            "\n",
            "Common options (for a complete list please see the User Guide):\n",
            "\n",
            "    -in <inputfile>    Input file in FASTA format (default stdin)\n",
            "    -out <outputfile>  Output alignment in FASTA format (default stdout)\n",
            "    -diags             Find diagonals (faster for similar sequences)\n",
            "    -maxiters <n>      Maximum number of iterations (integer, default 16)\n",
            "    -maxhours <h>      Maximum time to iterate in hours (default no limit)\n",
            "    -html              Write output in HTML format (default FASTA)\n",
            "    -msf               Write output in GCG MSF format (default FASTA)\n",
            "    -clw               Write output in CLUSTALW format (default FASTA)\n",
            "    -clwstrict         As -clw, with 'CLUSTAL W (1.81)' header\n",
            "    -log[a] <logfile>  Log to file (append if -loga, overwrite if -log)\n",
            "    -quiet             Do not write progress messages to stderr\n",
            "    -version           Display version information and exit\n",
            "\n",
            "Without refinement (very fast, avg accuracy similar to T-Coffee): -maxiters 2\n",
            "Fastest possible (amino acids): -maxiters 1 -diags -sv -distance1 kbit20_3\n",
            "Fastest possible (nucleotides): -maxiters 1 -diags\n"
          ]
        }
      ]
    },
    {
      "cell_type": "code",
      "source": [
        "cp muscle3.8.31_i86linux64 ../bin/muscle # this is the installation"
      ],
      "metadata": {
        "id": "f2eNmVpa6oNC"
      },
      "execution_count": null,
      "outputs": []
    }
  ]
}