{
 "cells": [
  {
   "cell_type": "markdown",
   "metadata": {
    "collapsed": false
   },
   "source": [
    "# Commandline and Filesystem"
   ]
  },
  {
   "cell_type": "code",
   "execution_count": 1,
   "metadata": {
    "collapsed": false
   },
   "outputs": [
    {
     "name": "stdout",
     "output_type": "stream",
     "text": [
      "hello there\n"
     ]
    }
   ],
   "source": [
    "echo hello there"
   ]
  },
  {
   "cell_type": "code",
   "execution_count": 16,
   "metadata": {
    "collapsed": false
   },
   "outputs": [
    {
     "name": "stdout",
     "output_type": "stream",
     "text": [
      "user\n"
     ]
    }
   ],
   "source": [
    "echo $USER"
   ]
  },
  {
   "cell_type": "markdown",
   "metadata": {
    "collapsed": false
   },
   "source": [
    "### Environmental variables"
   ]
  },
  {
   "cell_type": "code",
   "execution_count": 17,
   "metadata": {
    "collapsed": false
   },
   "outputs": [
    {
     "name": "stdout",
     "output_type": "stream",
     "text": [
      "hi\n"
     ]
    }
   ],
   "source": [
    "export GREETING=hi\n",
    "echo $GREETING"
   ]
  },
  {
   "cell_type": "code",
   "execution_count": 18,
   "metadata": {
    "collapsed": false
   },
   "outputs": [
    {
     "name": "stdout",
     "output_type": "stream",
     "text": [
      "hello everyone\n"
     ]
    }
   ],
   "source": [
    "export GREETING=hello\\ everyone # dealing with spaces in the variables\n",
    "echo $GREETING"
   ]
  },
  {
   "cell_type": "code",
   "execution_count": 19,
   "metadata": {
    "collapsed": false
   },
   "outputs": [
    {
     "name": "stdout",
     "output_type": "stream",
     "text": [
      "hello everybody\n"
     ]
    }
   ],
   "source": [
    "# an alternative way\n",
    "export GREETING=\"hello everybody\"\n",
    "echo $GREETING"
   ]
  },
  {
   "cell_type": "markdown",
   "metadata": {
    "collapsed": false
   },
   "source": [
    "### Alternative shells"
   ]
  },
  {
   "cell_type": "code",
   "execution_count": 20,
   "metadata": {
    "collapsed": false
   },
   "outputs": [
    {
     "name": "stdout",
     "output_type": "stream",
     "text": [
      "/usr/bin/bash\n"
     ]
    }
   ],
   "source": [
    "echo $0"
   ]
  },
  {
   "cell_type": "code",
   "execution_count": 0,
   "metadata": {
    "collapsed": false
   },
   "outputs": [
   ],
   "source": [
    "# try changing to the tcsh shell\n",
    "# tcsh\n",
    "# echo$0"
   ]
  },
  {
   "cell_type": "code",
   "execution_count": 0,
   "metadata": {
    "collapsed": false
   },
   "outputs": [
   ],
   "source": [
    "# get back from tcsh shell\n",
    "# exit"
   ]
  },
  {
   "cell_type": "markdown",
   "metadata": {
    "collapsed": false
   },
   "source": [
    "### Files, Directories, Paths"
   ]
  },
  {
   "cell_type": "code",
   "execution_count": 21,
   "metadata": {
    "collapsed": false
   },
   "outputs": [
    {
     "name": "stdout",
     "output_type": "stream",
     "text": [
      "/home/user\n"
     ]
    }
   ],
   "source": [
    "# HOME directory\n",
    "echo $HOME"
   ]
  },
  {
   "cell_type": "code",
   "execution_count": 22,
   "metadata": {
    "collapsed": false
   },
   "outputs": [
    {
     "name": "stdout",
     "output_type": "stream",
     "text": [
      "/home/user/5030\n"
     ]
    }
   ],
   "source": [
    "# WORKING directory \n",
    "echo $PWD"
   ]
  },
  {
   "cell_type": "code",
   "execution_count": 23,
   "metadata": {
    "collapsed": false
   },
   "outputs": [
    {
     "name": "stdout",
     "output_type": "stream",
     "text": [
      "/home/user/5030\n"
     ]
    }
   ],
   "source": [
    "# or\n",
    "pwd"
   ]
  },
  {
   "cell_type": "markdown",
   "metadata": {
    "collapsed": false
   },
   "source": [
    "##### Moving through directories"
   ]
  },
  {
   "cell_type": "code",
   "execution_count": 24,
   "metadata": {
    "collapsed": false
   },
   "outputs": [
    {
     "name": "stdout",
     "output_type": "stream",
     "text": [
      "Ch03.ipynb  \u001b[0m\u001b[01;34mtestingCh03\u001b[0m\n"
     ]
    }
   ],
   "source": [
    "ls"
   ]
  },
  {
   "cell_type": "code",
   "execution_count": 25,
   "metadata": {
    "collapsed": false
   },
   "outputs": [
   ],
   "source": [
    "cd testingCh03"
   ]
  },
  {
   "cell_type": "code",
   "execution_count": 26,
   "metadata": {
    "collapsed": false
   },
   "outputs": [
    {
     "name": "stdout",
     "output_type": "stream",
     "text": [
      "abc.txt\n"
     ]
    }
   ],
   "source": [
    "ls"
   ]
  },
  {
   "cell_type": "code",
   "execution_count": 27,
   "metadata": {
    "collapsed": false
   },
   "outputs": [
   ],
   "source": [
    "# moving back to home\n",
    "cd $HOME"
   ]
  },
  {
   "cell_type": "code",
   "execution_count": 28,
   "metadata": {
    "collapsed": false
   },
   "outputs": [
    {
     "name": "stdout",
     "output_type": "stream",
     "text": [
      " \u001b[0m\u001b[01;34m5010\u001b[0m  \u001b[01;34m'Deep Learning'\u001b[0m                              \u001b[01;34mtkinter\u001b[0m\n"
     ]
    },
    {
     "name": "stdout",
     "output_type": "stream",
     "text": [
      " \u001b[01;34m5030\u001b[0m  \u001b[01;34m'Michigan applied data science for python'\u001b[0m\n"
     ]
    }
   ],
   "source": [
    "ls"
   ]
  },
  {
   "cell_type": "code",
   "execution_count": 29,
   "metadata": {
    "collapsed": false
   },
   "outputs": [
   ],
   "source": [
    "cd 5030"
   ]
  },
  {
   "cell_type": "code",
   "execution_count": 30,
   "metadata": {
    "collapsed": false
   },
   "outputs": [
    {
     "name": "stdout",
     "output_type": "stream",
     "text": [
      "Ch03.ipynb  \u001b[0m\u001b[01;34mtestingCh03\u001b[0m\n"
     ]
    }
   ],
   "source": [
    "ls"
   ]
  },
  {
   "cell_type": "code",
   "execution_count": 10,
   "metadata": {
    "collapsed": false
   },
   "outputs": [
   ],
   "source": [
    "# saving this directory for later use\n",
    "export hom=$PWD"
   ]
  },
  {
   "cell_type": "code",
   "execution_count": 11,
   "metadata": {
    "collapsed": false
   },
   "outputs": [
   ],
   "source": [
    "cd $hom"
   ]
  },
  {
   "cell_type": "code",
   "execution_count": 12,
   "metadata": {
    "collapsed": false
   },
   "outputs": [
    {
     "name": "stdout",
     "output_type": "stream",
     "text": [
      "Ch03.ipynb  \u001b[0m\u001b[01;34mtestingCh03\u001b[0m\n"
     ]
    }
   ],
   "source": [
    "ls"
   ]
  },
  {
   "cell_type": "markdown",
   "metadata": {
    "collapsed": false
   },
   "source": [
    "##### ~"
   ]
  },
  {
   "cell_type": "code",
   "execution_count": 41,
   "metadata": {
    "collapsed": false
   },
   "outputs": [
   ],
   "source": [
    "cd ~"
   ]
  },
  {
   "cell_type": "code",
   "execution_count": 43,
   "metadata": {
    "collapsed": false
   },
   "outputs": [
    {
     "name": "stdout",
     "output_type": "stream",
     "text": [
      "/home/user\n"
     ]
    }
   ],
   "source": [
    "pwd"
   ]
  },
  {
   "cell_type": "code",
   "execution_count": 14,
   "metadata": {
    "collapsed": false
   },
   "outputs": [
    {
     "name": "stdout",
     "output_type": "stream",
     "text": [
      "/home/user/5030\n"
     ]
    }
   ],
   "source": [
    "cd $hom\n",
    "pwd"
   ]
  },
  {
   "cell_type": "markdown",
   "metadata": {
    "collapsed": false
   },
   "source": [
    "### Optional arguments"
   ]
  },
  {
   "cell_type": "code",
   "execution_count": 36,
   "metadata": {
    "collapsed": false
   },
   "outputs": [
    {
     "name": "stdout",
     "output_type": "stream",
     "text": [
      "LS(1)                            User Commands                           LS(1)\n"
     ]
    },
    {
     "name": "stdout",
     "output_type": "stream",
     "text": [
      "\n"
     ]
    },
    {
     "name": "stdout",
     "output_type": "stream",
     "text": [
      "N\bNA\bAM\bME\bE\n"
     ]
    },
    {
     "name": "stdout",
     "output_type": "stream",
     "text": [
      "       ls - list directory contents\n"
     ]
    },
    {
     "name": "stdout",
     "output_type": "stream",
     "text": [
      "\n"
     ]
    },
    {
     "name": "stdout",
     "output_type": "stream",
     "text": [
      "S\bSY\bYN\bNO\bOP\bPS\bSI\bIS\bS\n"
     ]
    },
    {
     "name": "stdout",
     "output_type": "stream",
     "text": [
      "       l\bls\bs [_\bO_\bP_\bT_\bI_\bO_\bN]... [_\bF_\bI_\bL_\bE]...\n"
     ]
    },
    {
     "name": "stdout",
     "output_type": "stream",
     "text": [
      "\n"
     ]
    },
    {
     "name": "stdout",
     "output_type": "stream",
     "text": [
      "D\bDE\bES\bSC\bCR\bRI\bIP\bPT\bTI\bIO\bON\bN\n"
     ]
    },
    {
     "name": "stdout",
     "output_type": "stream",
     "text": [
      "       List  information  about  the FILEs (the current directory by default).\n"
     ]
    },
    {
     "name": "stdout",
     "output_type": "stream",
     "text": [
      "       Sort entries alphabetically if none of -\b-c\bcf\bft\btu\buv\bvS\bSU\bUX\bX nor -\b--\b-s\bso\bor\brt\bt  is  speci‐\n"
     ]
    },
    {
     "name": "stdout",
     "output_type": "stream",
     "text": [
      "       fied.\n"
     ]
    },
    {
     "name": "stdout",
     "output_type": "stream",
     "text": [
      "\n"
     ]
    },
    {
     "name": "stdout",
     "output_type": "stream",
     "text": [
      "       Mandatory  arguments  to  long  options are mandatory for short options\n"
     ]
    },
    {
     "name": "stdout",
     "output_type": "stream",
     "text": [
      "       too.\n"
     ]
    },
    {
     "name": "stdout",
     "output_type": "stream",
     "text": [
      "\n"
     ]
    },
    {
     "name": "stdout",
     "output_type": "stream",
     "text": [
      "       -\b-a\ba, -\b--\b-a\bal\bll\bl\n"
     ]
    },
    {
     "name": "stdout",
     "output_type": "stream",
     "text": [
      "              do not ignore entries starting with .\n"
     ]
    },
    {
     "name": "stdout",
     "output_type": "stream",
     "text": [
      "\n"
     ]
    },
    {
     "name": "stdout",
     "output_type": "stream",
     "text": [
      "       -\b-A\bA, -\b--\b-a\bal\blm\bmo\bos\bst\bt-\b-a\bal\bll\bl\n"
     ]
    },
    {
     "name": "stdout",
     "output_type": "stream",
     "text": [
      "              do not list implied . and ..\n"
     ]
    },
    {
     "name": "stdout",
     "output_type": "stream",
     "text": [
      "\n"
     ]
    },
    {
     "name": "stdout",
     "output_type": "stream",
     "text": [
      "       -\b--\b-a\bau\but\bth\bho\bor\br\n"
     ]
    },
    {
     "name": "stdout",
     "output_type": "stream",
     "text": [
      "              with -\b-l\bl, print the author of each file\n"
     ]
    },
    {
     "name": "stdout",
     "output_type": "stream",
     "text": [
      "\n"
     ]
    },
    {
     "name": "stdout",
     "output_type": "stream",
     "text": [
      "       -\b-b\bb, -\b--\b-e\bes\bsc\bca\bap\bpe\be\n"
     ]
    },
    {
     "name": "stdout",
     "output_type": "stream",
     "text": [
      "              print C-style escapes for nongraphic characters\n"
     ]
    },
    {
     "name": "stdout",
     "output_type": "stream",
     "text": [
      "\n"
     ]
    },
    {
     "name": "stdout",
     "output_type": "stream",
     "text": [
      "       -\b--\b-b\bbl\blo\boc\bck\bk-\b-s\bsi\biz\bze\be=_\bS_\bI_\bZ_\bE\n"
     ]
    },
    {
     "name": "stdout",
     "output_type": "stream",
     "text": [
      "              with  -\b-l\bl,  scale  sizes  by  SIZE  when  printing  them;   e.g.,\n"
     ]
    },
    {
     "name": "stdout",
     "output_type": "stream",
     "text": [
      "              '--block-size=M'; see SIZE format below\n"
     ]
    },
    {
     "name": "stdout",
     "output_type": "stream",
     "text": [
      "\n"
     ]
    },
    {
     "name": "stdout",
     "output_type": "stream",
     "text": [
      "       -\b-B\bB, -\b--\b-i\big\bgn\bno\bor\bre\be-\b-b\bba\bac\bck\bku\bup\bps\bs\n"
     ]
    },
    {
     "name": "stdout",
     "output_type": "stream",
     "text": [
      "              do not list implied entries ending with ~\n"
     ]
    },
    {
     "name": "stdout",
     "output_type": "stream",
     "text": [
      "\n"
     ]
    },
    {
     "name": "stdout",
     "output_type": "stream",
     "text": [
      "       -\b-c\bc     with -\b-l\blt\bt: sort by, and show, ctime (time of last modification of\n"
     ]
    },
    {
     "name": "stdout",
     "output_type": "stream",
     "text": [
      "              file status information); with -\b-l\bl: show ctime and sort by  name;\n"
     ]
    },
    {
     "name": "stdout",
     "output_type": "stream",
     "text": [
      "              otherwise: sort by ctime, newest first\n"
     ]
    },
    {
     "name": "stdout",
     "output_type": "stream",
     "text": [
      "\n"
     ]
    },
    {
     "name": "stdout",
     "output_type": "stream",
     "text": [
      "       -\b-C\bC     list entries by columns\n"
     ]
    },
    {
     "name": "stdout",
     "output_type": "stream",
     "text": [
      "\n"
     ]
    },
    {
     "name": "stdout",
     "output_type": "stream",
     "text": [
      "       -\b--\b-c\bco\bol\blo\bor\br[=_\bW_\bH_\bE_\bN]\n"
     ]
    },
    {
     "name": "stdout",
     "output_type": "stream",
     "text": [
      "              colorize  the output; WHEN can be 'always' (default if omitted),\n"
     ]
    },
    {
     "name": "stdout",
     "output_type": "stream",
     "text": [
      "              'auto', or 'never'; more info below\n"
     ]
    },
    {
     "name": "stdout",
     "output_type": "stream",
     "text": [
      "\n"
     ]
    },
    {
     "name": "stdout",
     "output_type": "stream",
     "text": [
      "       -\b-d\bd, -\b--\b-d\bdi\bir\bre\bec\bct\bto\bor\bry\by\n"
     ]
    },
    {
     "name": "stdout",
     "output_type": "stream",
     "text": [
      "              list directories themselves, not their contents\n"
     ]
    },
    {
     "name": "stdout",
     "output_type": "stream",
     "text": [
      "\n"
     ]
    },
    {
     "name": "stdout",
     "output_type": "stream",
     "text": [
      "       -\b-D\bD, -\b--\b-d\bdi\bir\bre\bed\bd\n"
     ]
    },
    {
     "name": "stdout",
     "output_type": "stream",
     "text": [
      "              generate output designed for Emacs' dired mode\n"
     ]
    },
    {
     "name": "stdout",
     "output_type": "stream",
     "text": [
      "\n"
     ]
    },
    {
     "name": "stdout",
     "output_type": "stream",
     "text": [
      "       -\b-f\bf     do not sort, enable -\b-a\baU\bU, disable -\b-l\bls\bs -\b--\b-c\bco\bol\blo\bor\br\n"
     ]
    },
    {
     "name": "stdout",
     "output_type": "stream",
     "text": [
      "\n"
     ]
    },
    {
     "name": "stdout",
     "output_type": "stream",
     "text": [
      "       -\b-F\bF, -\b--\b-c\bcl\bla\bas\bss\bsi\bif\bfy\by\n"
     ]
    },
    {
     "name": "stdout",
     "output_type": "stream",
     "text": [
      "              append indicator (one of */=>@|) to entries\n"
     ]
    },
    {
     "name": "stdout",
     "output_type": "stream",
     "text": [
      "\n"
     ]
    },
    {
     "name": "stdout",
     "output_type": "stream",
     "text": [
      "       -\b--\b-f\bfi\bil\ble\be-\b-t\bty\byp\bpe\be\n"
     ]
    },
    {
     "name": "stdout",
     "output_type": "stream",
     "text": [
      "              likewise, except do not append '*'\n"
     ]
    },
    {
     "name": "stdout",
     "output_type": "stream",
     "text": [
      "\n"
     ]
    },
    {
     "name": "stdout",
     "output_type": "stream",
     "text": [
      "       -\b--\b-f\bfo\bor\brm\bma\bat\bt=_\bW_\bO_\bR_\bD\n"
     ]
    },
    {
     "name": "stdout",
     "output_type": "stream",
     "text": [
      "              across -\b-x\bx, commas -\b-m\bm, horizontal -\b-x\bx, long -\b-l\bl, single-column  -\b-1\b1,\n"
     ]
    },
    {
     "name": "stdout",
     "output_type": "stream",
     "text": [
      "              verbose -\b-l\bl, vertical -\b-C\bC\n"
     ]
    },
    {
     "name": "stdout",
     "output_type": "stream",
     "text": [
      "\n"
     ]
    },
    {
     "name": "stdout",
     "output_type": "stream",
     "text": [
      "       -\b--\b-f\bfu\bul\bll\bl-\b-t\bti\bim\bme\be\n"
     ]
    },
    {
     "name": "stdout",
     "output_type": "stream",
     "text": [
      "              like -\b-l\bl -\b--\b-t\bti\bim\bme\be-\b-s\bst\bty\byl\ble\be=_\bf_\bu_\bl_\bl_\b-_\bi_\bs_\bo\n"
     ]
    },
    {
     "name": "stdout",
     "output_type": "stream",
     "text": [
      "\n"
     ]
    },
    {
     "name": "stdout",
     "output_type": "stream",
     "text": [
      "       -\b-g\bg     like -\b-l\bl, but do not list owner\n"
     ]
    },
    {
     "name": "stdout",
     "output_type": "stream",
     "text": [
      "\n"
     ]
    },
    {
     "name": "stdout",
     "output_type": "stream",
     "text": [
      "       -\b--\b-g\bgr\bro\bou\bup\bp-\b-d\bdi\bir\bre\bec\bct\bto\bor\bri\bie\bes\bs-\b-f\bfi\bir\brs\bst\bt\n"
     ]
    },
    {
     "name": "stdout",
     "output_type": "stream",
     "text": [
      "              group directories before files;\n"
     ]
    },
    {
     "name": "stdout",
     "output_type": "stream",
     "text": [
      "\n"
     ]
    },
    {
     "name": "stdout",
     "output_type": "stream",
     "text": [
      "              can   be  augmented  with  a  -\b--\b-s\bso\bor\brt\bt  option,  but  any  use  of\n"
     ]
    },
    {
     "name": "stdout",
     "output_type": "stream",
     "text": [
      "              -\b--\b-s\bso\bor\brt\bt=_\bn_\bo_\bn_\be (-\b-U\bU) disables grouping\n"
     ]
    },
    {
     "name": "stdout",
     "output_type": "stream",
     "text": [
      "\n"
     ]
    },
    {
     "name": "stdout",
     "output_type": "stream",
     "text": [
      "       -\b-G\bG, -\b--\b-n\bno\bo-\b-g\bgr\bro\bou\bup\bp\n"
     ]
    },
    {
     "name": "stdout",
     "output_type": "stream",
     "text": [
      "              in a long listing, don't print group names\n"
     ]
    },
    {
     "name": "stdout",
     "output_type": "stream",
     "text": [
      "\n"
     ]
    },
    {
     "name": "stdout",
     "output_type": "stream",
     "text": [
      "       -\b-h\bh, -\b--\b-h\bhu\bum\bma\ban\bn-\b-r\bre\bea\bad\bda\bab\bbl\ble\be\n"
     ]
    },
    {
     "name": "stdout",
     "output_type": "stream",
     "text": [
      "              with -\b-l\bl and -\b-s\bs, print sizes like 1K 234M 2G etc.\n"
     ]
    },
    {
     "name": "stdout",
     "output_type": "stream",
     "text": [
      "\n"
     ]
    },
    {
     "name": "stdout",
     "output_type": "stream",
     "text": [
      "       -\b--\b-s\bsi\bi   likewise, but use powers of 1000 not 1024\n"
     ]
    },
    {
     "name": "stdout",
     "output_type": "stream",
     "text": [
      "\n"
     ]
    },
    {
     "name": "stdout",
     "output_type": "stream",
     "text": [
      "       -\b-H\bH, -\b--\b-d\bde\ber\bre\bef\bfe\ber\bre\ben\bnc\bce\be-\b-c\bco\bom\bmm\bma\ban\bnd\bd-\b-l\bli\bin\bne\be\n"
     ]
    },
    {
     "name": "stdout",
     "output_type": "stream",
     "text": [
      "              follow symbolic links listed on the command line\n"
     ]
    },
    {
     "name": "stdout",
     "output_type": "stream",
     "text": [
      "\n"
     ]
    },
    {
     "name": "stdout",
     "output_type": "stream",
     "text": [
      "       -\b--\b-d\bde\ber\bre\bef\bfe\ber\bre\ben\bnc\bce\be-\b-c\bco\bom\bmm\bma\ban\bnd\bd-\b-l\bli\bin\bne\be-\b-s\bsy\bym\bml\bli\bin\bnk\bk-\b-t\bto\bo-\b-d\bdi\bir\br\n"
     ]
    },
    {
     "name": "stdout",
     "output_type": "stream",
     "text": [
      "              follow each command line symbolic link\n"
     ]
    },
    {
     "name": "stdout",
     "output_type": "stream",
     "text": [
      "\n"
     ]
    },
    {
     "name": "stdout",
     "output_type": "stream",
     "text": [
      "              that points to a directory\n"
     ]
    },
    {
     "name": "stdout",
     "output_type": "stream",
     "text": [
      "\n"
     ]
    },
    {
     "name": "stdout",
     "output_type": "stream",
     "text": [
      "       -\b--\b-h\bhi\bid\bde\be=_\bP_\bA_\bT_\bT_\bE_\bR_\bN\n"
     ]
    },
    {
     "name": "stdout",
     "output_type": "stream",
     "text": [
      "              do not list implied entries matching shell  PATTERN  (overridden\n"
     ]
    },
    {
     "name": "stdout",
     "output_type": "stream",
     "text": [
      "              by -\b-a\ba or -\b-A\bA)\n"
     ]
    },
    {
     "name": "stdout",
     "output_type": "stream",
     "text": [
      "\n"
     ]
    },
    {
     "name": "stdout",
     "output_type": "stream",
     "text": [
      "       -\b--\b-h\bhy\byp\bpe\ber\brl\bli\bin\bnk\bk[=_\bW_\bH_\bE_\bN]\n"
     ]
    },
    {
     "name": "stdout",
     "output_type": "stream",
     "text": [
      "              hyperlink file names; WHEN can be 'always' (default if omitted),\n"
     ]
    },
    {
     "name": "stdout",
     "output_type": "stream",
     "text": [
      "              'auto', or 'never'\n"
     ]
    },
    {
     "name": "stdout",
     "output_type": "stream",
     "text": [
      "\n"
     ]
    },
    {
     "name": "stdout",
     "output_type": "stream",
     "text": [
      "       -\b--\b-i\bin\bnd\bdi\bic\bca\bat\bto\bor\br-\b-s\bst\bty\byl\ble\be=_\bW_\bO_\bR_\bD\n"
     ]
    },
    {
     "name": "stdout",
     "output_type": "stream",
     "text": [
      "              append indicator with style WORD to entry names: none (default),\n"
     ]
    },
    {
     "name": "stdout",
     "output_type": "stream",
     "text": [
      "              slash (-\b-p\bp), file-type (-\b--\b-f\bfi\bil\ble\be-\b-t\bty\byp\bpe\be), classify (-\b-F\bF)\n"
     ]
    },
    {
     "name": "stdout",
     "output_type": "stream",
     "text": [
      "\n"
     ]
    },
    {
     "name": "stdout",
     "output_type": "stream",
     "text": [
      "       -\b-i\bi, -\b--\b-i\bin\bno\bod\bde\be\n"
     ]
    },
    {
     "name": "stdout",
     "output_type": "stream",
     "text": [
      "              print the index number of each file\n"
     ]
    },
    {
     "name": "stdout",
     "output_type": "stream",
     "text": [
      "\n"
     ]
    },
    {
     "name": "stdout",
     "output_type": "stream",
     "text": [
      "       -\b-I\bI, -\b--\b-i\big\bgn\bno\bor\bre\be=_\bP_\bA_\bT_\bT_\bE_\bR_\bN\n"
     ]
    },
    {
     "name": "stdout",
     "output_type": "stream",
     "text": [
      "              do not list implied entries matching shell PATTERN\n"
     ]
    },
    {
     "name": "stdout",
     "output_type": "stream",
     "text": [
      "\n"
     ]
    },
    {
     "name": "stdout",
     "output_type": "stream",
     "text": [
      "       -\b-k\bk, -\b--\b-k\bki\bib\bbi\bib\bby\byt\bte\bes\bs\n"
     ]
    },
    {
     "name": "stdout",
     "output_type": "stream",
     "text": [
      "              default  to  1024-byte  blocks for disk usage; used only with -\b-s\bs\n"
     ]
    },
    {
     "name": "stdout",
     "output_type": "stream",
     "text": [
      "              and per directory totals\n"
     ]
    },
    {
     "name": "stdout",
     "output_type": "stream",
     "text": [
      "\n"
     ]
    },
    {
     "name": "stdout",
     "output_type": "stream",
     "text": [
      "       -\b-l\bl     use a long listing format\n"
     ]
    },
    {
     "name": "stdout",
     "output_type": "stream",
     "text": [
      "\n"
     ]
    },
    {
     "name": "stdout",
     "output_type": "stream",
     "text": [
      "       -\b-L\bL, -\b--\b-d\bde\ber\bre\bef\bfe\ber\bre\ben\bnc\bce\be\n"
     ]
    },
    {
     "name": "stdout",
     "output_type": "stream",
     "text": [
      "              when showing file information for a symbolic link, show informa‐\n"
     ]
    },
    {
     "name": "stdout",
     "output_type": "stream",
     "text": [
      "              tion  for  the file the link references rather than for the link\n"
     ]
    },
    {
     "name": "stdout",
     "output_type": "stream",
     "text": [
      "              itself\n"
     ]
    },
    {
     "name": "stdout",
     "output_type": "stream",
     "text": [
      "\n"
     ]
    },
    {
     "name": "stdout",
     "output_type": "stream",
     "text": [
      "       -\b-m\bm     fill width with a comma separated list of entries\n"
     ]
    },
    {
     "name": "stdout",
     "output_type": "stream",
     "text": [
      "\n"
     ]
    },
    {
     "name": "stdout",
     "output_type": "stream",
     "text": [
      "       -\b-n\bn, -\b--\b-n\bnu\bum\bme\ber\bri\bic\bc-\b-u\bui\bid\bd-\b-g\bgi\bid\bd\n"
     ]
    },
    {
     "name": "stdout",
     "output_type": "stream",
     "text": [
      "              like -\b-l\bl, but list numeric user and group IDs\n"
     ]
    },
    {
     "name": "stdout",
     "output_type": "stream",
     "text": [
      "\n"
     ]
    },
    {
     "name": "stdout",
     "output_type": "stream",
     "text": [
      "       -\b-N\bN, -\b--\b-l\bli\bit\bte\ber\bra\bal\bl\n"
     ]
    },
    {
     "name": "stdout",
     "output_type": "stream",
     "text": [
      "              print entry names without quoting\n"
     ]
    },
    {
     "name": "stdout",
     "output_type": "stream",
     "text": [
      "\n"
     ]
    },
    {
     "name": "stdout",
     "output_type": "stream",
     "text": [
      "       -\b-o\bo     like -\b-l\bl, but do not list group information\n"
     ]
    },
    {
     "name": "stdout",
     "output_type": "stream",
     "text": [
      "\n"
     ]
    },
    {
     "name": "stdout",
     "output_type": "stream",
     "text": [
      "       -\b-p\bp, -\b--\b-i\bin\bnd\bdi\bic\bca\bat\bto\bor\br-\b-s\bst\bty\byl\ble\be=_\bs_\bl_\ba_\bs_\bh\n"
     ]
    },
    {
     "name": "stdout",
     "output_type": "stream",
     "text": [
      "              append / indicator to directories\n"
     ]
    },
    {
     "name": "stdout",
     "output_type": "stream",
     "text": [
      "\n"
     ]
    },
    {
     "name": "stdout",
     "output_type": "stream",
     "text": [
      "       -\b-q\bq, -\b--\b-h\bhi\bid\bde\be-\b-c\bco\bon\bnt\btr\bro\bol\bl-\b-c\bch\bha\bar\brs\bs\n"
     ]
    },
    {
     "name": "stdout",
     "output_type": "stream",
     "text": [
      "              print ? instead of nongraphic characters\n"
     ]
    },
    {
     "name": "stdout",
     "output_type": "stream",
     "text": [
      "\n"
     ]
    },
    {
     "name": "stdout",
     "output_type": "stream",
     "text": [
      "       -\b--\b-s\bsh\bho\bow\bw-\b-c\bco\bon\bnt\btr\bro\bol\bl-\b-c\bch\bha\bar\brs\bs\n"
     ]
    },
    {
     "name": "stdout",
     "output_type": "stream",
     "text": [
      "              show nongraphic characters as-is (the default, unless program is\n"
     ]
    },
    {
     "name": "stdout",
     "output_type": "stream",
     "text": [
      "              'ls' and output is a terminal)\n"
     ]
    },
    {
     "name": "stdout",
     "output_type": "stream",
     "text": [
      "\n"
     ]
    },
    {
     "name": "stdout",
     "output_type": "stream",
     "text": [
      "       -\b-Q\bQ, -\b--\b-q\bqu\buo\bot\bte\be-\b-n\bna\bam\bme\be\n"
     ]
    },
    {
     "name": "stdout",
     "output_type": "stream",
     "text": [
      "              enclose entry names in double quotes\n"
     ]
    },
    {
     "name": "stdout",
     "output_type": "stream",
     "text": [
      "\n"
     ]
    },
    {
     "name": "stdout",
     "output_type": "stream",
     "text": [
      "       -\b--\b-q\bqu\buo\bot\bti\bin\bng\bg-\b-s\bst\bty\byl\ble\be=_\bW_\bO_\bR_\bD\n"
     ]
    },
    {
     "name": "stdout",
     "output_type": "stream",
     "text": [
      "              use  quoting style WORD for entry names: literal, locale, shell,\n"
     ]
    },
    {
     "name": "stdout",
     "output_type": "stream",
     "text": [
      "              shell-always,  shell-escape,  shell-escape-always,   c,   escape\n"
     ]
    },
    {
     "name": "stdout",
     "output_type": "stream",
     "text": [
      "              (overrides QUOTING_STYLE environment variable)\n"
     ]
    },
    {
     "name": "stdout",
     "output_type": "stream",
     "text": [
      "\n"
     ]
    },
    {
     "name": "stdout",
     "output_type": "stream",
     "text": [
      "       -\b-r\br, -\b--\b-r\bre\bev\bve\ber\brs\bse\be\n"
     ]
    },
    {
     "name": "stdout",
     "output_type": "stream",
     "text": [
      "              reverse order while sorting\n"
     ]
    },
    {
     "name": "stdout",
     "output_type": "stream",
     "text": [
      "\n"
     ]
    },
    {
     "name": "stdout",
     "output_type": "stream",
     "text": [
      "       -\b-R\bR, -\b--\b-r\bre\bec\bcu\bur\brs\bsi\biv\bve\be\n"
     ]
    },
    {
     "name": "stdout",
     "output_type": "stream",
     "text": [
      "              list subdirectories recursively\n"
     ]
    },
    {
     "name": "stdout",
     "output_type": "stream",
     "text": [
      "\n"
     ]
    },
    {
     "name": "stdout",
     "output_type": "stream",
     "text": [
      "       -\b-s\bs, -\b--\b-s\bsi\biz\bze\be\n"
     ]
    },
    {
     "name": "stdout",
     "output_type": "stream",
     "text": [
      "              print the allocated size of each file, in blocks\n"
     ]
    },
    {
     "name": "stdout",
     "output_type": "stream",
     "text": [
      "\n"
     ]
    },
    {
     "name": "stdout",
     "output_type": "stream",
     "text": [
      "       -\b-S\bS     sort by file size, largest first\n"
     ]
    },
    {
     "name": "stdout",
     "output_type": "stream",
     "text": [
      "\n"
     ]
    },
    {
     "name": "stdout",
     "output_type": "stream",
     "text": [
      "       -\b--\b-s\bso\bor\brt\bt=_\bW_\bO_\bR_\bD\n"
     ]
    },
    {
     "name": "stdout",
     "output_type": "stream",
     "text": [
      "              sort  by  WORD instead of name: none (-\b-U\bU), size (-\b-S\bS), time (-\b-t\bt),\n"
     ]
    },
    {
     "name": "stdout",
     "output_type": "stream",
     "text": [
      "              version (-\b-v\bv), extension (-\b-X\bX)\n"
     ]
    },
    {
     "name": "stdout",
     "output_type": "stream",
     "text": [
      "\n"
     ]
    },
    {
     "name": "stdout",
     "output_type": "stream",
     "text": [
      "       -\b--\b-t\bti\bim\bme\be=_\bW_\bO_\bR_\bD\n"
     ]
    },
    {
     "name": "stdout",
     "output_type": "stream",
     "text": [
      "              with -\b-l\bl, show time as WORD instead of default modification time:\n"
     ]
    },
    {
     "name": "stdout",
     "output_type": "stream",
     "text": [
      "              atime  or  access  or  use  (-\b-u\bu); ctime or status (-\b-c\bc); also use\n"
     ]
    },
    {
     "name": "stdout",
     "output_type": "stream",
     "text": [
      "              specified time as sort key if -\b--\b-s\bso\bor\brt\bt=_\bt_\bi_\bm_\be (newest first)\n"
     ]
    },
    {
     "name": "stdout",
     "output_type": "stream",
     "text": [
      "\n"
     ]
    },
    {
     "name": "stdout",
     "output_type": "stream",
     "text": [
      "       -\b--\b-t\bti\bim\bme\be-\b-s\bst\bty\byl\ble\be=_\bT_\bI_\bM_\bE_\b__\bS_\bT_\bY_\bL_\bE\n"
     ]
    },
    {
     "name": "stdout",
     "output_type": "stream",
     "text": [
      "              time/date format with -\b-l\bl; see TIME_STYLE below\n"
     ]
    },
    {
     "name": "stdout",
     "output_type": "stream",
     "text": [
      "\n"
     ]
    },
    {
     "name": "stdout",
     "output_type": "stream",
     "text": [
      "       -\b-t\bt     sort by modification time, newest first\n"
     ]
    },
    {
     "name": "stdout",
     "output_type": "stream",
     "text": [
      "\n"
     ]
    },
    {
     "name": "stdout",
     "output_type": "stream",
     "text": [
      "       -\b-T\bT, -\b--\b-t\bta\bab\bbs\bsi\biz\bze\be=_\bC_\bO_\bL_\bS\n"
     ]
    },
    {
     "name": "stdout",
     "output_type": "stream",
     "text": [
      "              assume tab stops at each COLS instead of 8\n"
     ]
    },
    {
     "name": "stdout",
     "output_type": "stream",
     "text": [
      "\n"
     ]
    },
    {
     "name": "stdout",
     "output_type": "stream",
     "text": [
      "       -\b-u\bu     with -\b-l\blt\bt: sort by, and show, access time; with -\b-l\bl:  show  access\n"
     ]
    },
    {
     "name": "stdout",
     "output_type": "stream",
     "text": [
      "              time  and  sort  by name; otherwise: sort by access time, newest\n"
     ]
    },
    {
     "name": "stdout",
     "output_type": "stream",
     "text": [
      "              first\n"
     ]
    },
    {
     "name": "stdout",
     "output_type": "stream",
     "text": [
      "\n"
     ]
    },
    {
     "name": "stdout",
     "output_type": "stream",
     "text": [
      "       -\b-U\bU     do not sort; list entries in directory order\n"
     ]
    },
    {
     "name": "stdout",
     "output_type": "stream",
     "text": [
      "\n"
     ]
    },
    {
     "name": "stdout",
     "output_type": "stream",
     "text": [
      "       -\b-v\bv     natural sort of (version) numbers within text\n"
     ]
    },
    {
     "name": "stdout",
     "output_type": "stream",
     "text": [
      "\n"
     ]
    },
    {
     "name": "stdout",
     "output_type": "stream",
     "text": [
      "       -\b-w\bw, -\b--\b-w\bwi\bid\bdt\bth\bh=_\bC_\bO_\bL_\bS\n"
     ]
    },
    {
     "name": "stdout",
     "output_type": "stream",
     "text": [
      "              set output width to COLS.  0 means no limit\n"
     ]
    },
    {
     "name": "stdout",
     "output_type": "stream",
     "text": [
      "\n"
     ]
    },
    {
     "name": "stdout",
     "output_type": "stream",
     "text": [
      "       -\b-x\bx     list entries by lines instead of by columns\n"
     ]
    },
    {
     "name": "stdout",
     "output_type": "stream",
     "text": [
      "\n"
     ]
    },
    {
     "name": "stdout",
     "output_type": "stream",
     "text": [
      "       -\b-X\bX     sort alphabetically by entry extension\n"
     ]
    },
    {
     "name": "stdout",
     "output_type": "stream",
     "text": [
      "\n"
     ]
    },
    {
     "name": "stdout",
     "output_type": "stream",
     "text": [
      "       -\b-Z\bZ, -\b--\b-c\bco\bon\bnt\bte\bex\bxt\bt\n"
     ]
    },
    {
     "name": "stdout",
     "output_type": "stream",
     "text": [
      "              print any security context of each file\n"
     ]
    },
    {
     "name": "stdout",
     "output_type": "stream",
     "text": [
      "\n"
     ]
    },
    {
     "name": "stdout",
     "output_type": "stream",
     "text": [
      "       -\b-1\b1     list one file per line.  Avoid '\\n' with -\b-q\bq or -\b-b\bb\n"
     ]
    },
    {
     "name": "stdout",
     "output_type": "stream",
     "text": [
      "\n"
     ]
    },
    {
     "name": "stdout",
     "output_type": "stream",
     "text": [
      "       -\b--\b-h\bhe\bel\blp\bp display this help and exit\n"
     ]
    },
    {
     "name": "stdout",
     "output_type": "stream",
     "text": [
      "\n"
     ]
    },
    {
     "name": "stdout",
     "output_type": "stream",
     "text": [
      "       -\b--\b-v\bve\ber\brs\bsi\bio\bon\bn\n"
     ]
    },
    {
     "name": "stdout",
     "output_type": "stream",
     "text": [
      "              output version information and exit\n"
     ]
    },
    {
     "name": "stdout",
     "output_type": "stream",
     "text": [
      "\n"
     ]
    },
    {
     "name": "stdout",
     "output_type": "stream",
     "text": [
      "       The SIZE argument is an integer and  optional  unit  (example:  10K  is\n"
     ]
    },
    {
     "name": "stdout",
     "output_type": "stream",
     "text": [
      "       10*1024).   Units  are  K,M,G,T,P,E,Z,Y  (powers  of 1024) or KB,MB,...\n"
     ]
    },
    {
     "name": "stdout",
     "output_type": "stream",
     "text": [
      "       (powers of 1000).\n"
     ]
    },
    {
     "name": "stdout",
     "output_type": "stream",
     "text": [
      "\n"
     ]
    },
    {
     "name": "stdout",
     "output_type": "stream",
     "text": [
      "       The TIME_STYLE argument can be  full-iso,  long-iso,  iso,  locale,  or\n"
     ]
    },
    {
     "name": "stdout",
     "output_type": "stream",
     "text": [
      "       +FORMAT.   FORMAT  is  interpreted  like in date(1).  If FORMAT is FOR‐\n"
     ]
    },
    {
     "name": "stdout",
     "output_type": "stream",
     "text": [
      "       MAT1<newline>FORMAT2, then FORMAT1 applies to non-recent files and FOR‐\n"
     ]
    },
    {
     "name": "stdout",
     "output_type": "stream",
     "text": [
      "       MAT2  to  recent files.  TIME_STYLE prefixed with 'posix-' takes effect\n"
     ]
    },
    {
     "name": "stdout",
     "output_type": "stream",
     "text": [
      "       only outside the POSIX locale.  Also the TIME_STYLE  environment  vari‐\n"
     ]
    },
    {
     "name": "stdout",
     "output_type": "stream",
     "text": [
      "       able sets the default style to use.\n"
     ]
    },
    {
     "name": "stdout",
     "output_type": "stream",
     "text": [
      "\n"
     ]
    },
    {
     "name": "stdout",
     "output_type": "stream",
     "text": [
      "       Using  color  to distinguish file types is disabled both by default and\n"
     ]
    },
    {
     "name": "stdout",
     "output_type": "stream",
     "text": [
      "       with -\b--\b-c\bco\bol\blo\bor\br=_\bn_\be_\bv_\be_\br.  With -\b--\b-c\bco\bol\blo\bor\br=_\ba_\bu_\bt_\bo, ls emits color codes only  when\n"
     ]
    },
    {
     "name": "stdout",
     "output_type": "stream",
     "text": [
      "       standard  output is connected to a terminal.  The LS_COLORS environment\n"
     ]
    },
    {
     "name": "stdout",
     "output_type": "stream",
     "text": [
      "       variable can change the settings.  Use the dircolors command to set it.\n"
     ]
    },
    {
     "name": "stdout",
     "output_type": "stream",
     "text": [
      "\n"
     ]
    },
    {
     "name": "stdout",
     "output_type": "stream",
     "text": [
      "   E\bEx\bxi\bit\bt s\bst\bta\bat\btu\bus\bs:\b:\n"
     ]
    },
    {
     "name": "stdout",
     "output_type": "stream",
     "text": [
      "       0      if OK,\n"
     ]
    },
    {
     "name": "stdout",
     "output_type": "stream",
     "text": [
      "\n"
     ]
    },
    {
     "name": "stdout",
     "output_type": "stream",
     "text": [
      "       1      if minor problems (e.g., cannot access subdirectory),\n"
     ]
    },
    {
     "name": "stdout",
     "output_type": "stream",
     "text": [
      "\n"
     ]
    },
    {
     "name": "stdout",
     "output_type": "stream",
     "text": [
      "       2      if serious trouble (e.g., cannot access command-line argument).\n"
     ]
    },
    {
     "name": "stdout",
     "output_type": "stream",
     "text": [
      "\n"
     ]
    },
    {
     "name": "stdout",
     "output_type": "stream",
     "text": [
      "A\bAU\bUT\bTH\bHO\bOR\bR\n"
     ]
    },
    {
     "name": "stdout",
     "output_type": "stream",
     "text": [
      "       Written by Richard M. Stallman and David MacKenzie.\n"
     ]
    },
    {
     "name": "stdout",
     "output_type": "stream",
     "text": [
      "\n"
     ]
    },
    {
     "name": "stdout",
     "output_type": "stream",
     "text": [
      "R\bRE\bEP\bPO\bOR\bRT\bTI\bIN\bNG\bG B\bBU\bUG\bGS\bS\n"
     ]
    },
    {
     "name": "stdout",
     "output_type": "stream",
     "text": [
      "       GNU coreutils online help: <https://www.gnu.org/software/coreutils/>\n"
     ]
    },
    {
     "name": "stdout",
     "output_type": "stream",
     "text": [
      "       Report ls translation bugs to <https://translationproject.org/team/>\n"
     ]
    },
    {
     "name": "stdout",
     "output_type": "stream",
     "text": [
      "\n"
     ]
    },
    {
     "name": "stdout",
     "output_type": "stream",
     "text": [
      "C\bCO\bOP\bPY\bYR\bRI\bIG\bGH\bHT\bT\n"
     ]
    },
    {
     "name": "stdout",
     "output_type": "stream",
     "text": [
      "       Copyright © 2018 Free Software Foundation, Inc.   License  GPLv3+:  GNU\n"
     ]
    },
    {
     "name": "stdout",
     "output_type": "stream",
     "text": [
      "       GPL version 3 or later <https://gnu.org/licenses/gpl.html>.\n"
     ]
    },
    {
     "name": "stdout",
     "output_type": "stream",
     "text": [
      "       This  is  free  software:  you  are free to change and redistribute it.\n"
     ]
    },
    {
     "name": "stdout",
     "output_type": "stream",
     "text": [
      "       There is NO WARRANTY, to the extent permitted by law.\n"
     ]
    },
    {
     "name": "stdout",
     "output_type": "stream",
     "text": [
      "\n"
     ]
    },
    {
     "name": "stdout",
     "output_type": "stream",
     "text": [
      "S\bSE\bEE\bE A\bAL\bLS\bSO\bO\n"
     ]
    },
    {
     "name": "stdout",
     "output_type": "stream",
     "text": [
      "       Full documentation at: <https://www.gnu.org/software/coreutils/ls>\n"
     ]
    },
    {
     "name": "stdout",
     "output_type": "stream",
     "text": [
      "       or available locally via: info '(coreutils) ls invocation'\n"
     ]
    },
    {
     "name": "stdout",
     "output_type": "stream",
     "text": [
      "\n"
     ]
    },
    {
     "name": "stdout",
     "output_type": "stream",
     "text": [
      "GNU coreutils 8.30              September 2019                           LS(1)\n"
     ]
    }
   ],
   "source": [
    "man ls"
   ]
  },
  {
   "cell_type": "code",
   "execution_count": 37,
   "metadata": {
    "collapsed": false
   },
   "outputs": [
    {
     "name": "stdout",
     "output_type": "stream",
     "text": [
      "\u001b[0m\u001b[01;34m.\u001b[0m  \u001b[01;34m..\u001b[0m  .03.term-0.term  .Ch03.ipynb.sage-jupyter2  Ch03.ipynb  \u001b[01;34mtestingCh03\u001b[0m\n"
     ]
    }
   ],
   "source": [
    "ls -a # showing the hidden files\n",
    "\n",
    "# you may see \".\" and \"..\"\n",
    "# which stands for the current and above directory"
   ]
  },
  {
   "cell_type": "code",
   "execution_count": 38,
   "metadata": {
    "collapsed": false
   },
   "outputs": [
    {
     "name": "stdout",
     "output_type": "stream",
     "text": [
      "total 9\n"
     ]
    },
    {
     "name": "stdout",
     "output_type": "stream",
     "text": [
      "-rw-r--r-- 1 user user 41870 Jan 14 08:21 Ch03.ipynb\n"
     ]
    },
    {
     "name": "stdout",
     "output_type": "stream",
     "text": [
      "drwxr-xr-x 2 user user     3 Jan 14 08:12 \u001b[0m\u001b[01;34mtestingCh03\u001b[0m\n"
     ]
    }
   ],
   "source": [
    "ls -l # long listing format"
   ]
  },
  {
   "cell_type": "code",
   "execution_count": 39,
   "metadata": {
    "collapsed": false
   },
   "outputs": [
    {
     "name": "stdout",
     "output_type": "stream",
     "text": [
      "Ch03.ipynb  \u001b[0m\u001b[01;34mtestingCh03\u001b[0m\n"
     ]
    }
   ],
   "source": [
    "ls -h # human readable"
   ]
  },
  {
   "cell_type": "code",
   "execution_count": 40,
   "metadata": {
    "collapsed": false
   },
   "outputs": [
    {
     "name": "stdout",
     "output_type": "stream",
     "text": [
      "total 34K\n"
     ]
    },
    {
     "name": "stdout",
     "output_type": "stream",
     "text": [
      "drwxr-xr-x  3 user user   6 Jan 14 08:12 \u001b[0m\u001b[01;34m.\u001b[0m\n"
     ]
    },
    {
     "name": "stdout",
     "output_type": "stream",
     "text": [
      "drwxr-xr-x 17 user user  25 Jan 14 07:56 \u001b[01;34m..\u001b[0m\n"
     ]
    },
    {
     "name": "stdout",
     "output_type": "stream",
     "text": [
      "-rw-r--r--  1 user user 273 Jan 14 07:57 .03.term-0.term\n"
     ]
    },
    {
     "name": "stdout",
     "output_type": "stream",
     "text": [
      "-rw-r--r--  1 user user 26K Jan 14 08:23 .Ch03.ipynb.sage-jupyter2\n"
     ]
    },
    {
     "name": "stdout",
     "output_type": "stream",
     "text": [
      "-rw-r--r--  1 user user 42K Jan 14 08:23 Ch03.ipynb\n"
     ]
    },
    {
     "name": "stdout",
     "output_type": "stream",
     "text": [
      "drwxr-xr-x  2 user user   3 Jan 14 08:12 \u001b[01;34mtestingCh03\u001b[0m\n"
     ]
    }
   ],
   "source": [
    "# can do it together\n",
    "ls -lah"
   ]
  },
  {
   "cell_type": "markdown",
   "metadata": {
    "collapsed": false
   },
   "source": [
    "# Exercises"
   ]
  },
  {
   "cell_type": "markdown",
   "metadata": {
    "collapsed": false
   },
   "source": [
    "##### Q2. Without explicitly typing your username, create another environment variable called CHECKCASH, such that when echo CHECKCASH is run, a string like oneils has 20 is printed (except that oneils would be your username and should be set by reading from USER). "
   ]
  },
  {
   "cell_type": "code",
   "execution_count": 5,
   "metadata": {
    "collapsed": false
   },
   "outputs": [
   ],
   "source": [
    "export CHECKCASH=$USER\\ has\\ \\$20"
   ]
  },
  {
   "cell_type": "code",
   "execution_count": 6,
   "metadata": {
    "collapsed": false
   },
   "outputs": [
    {
     "name": "stdout",
     "output_type": "stream",
     "text": [
      "user has $20\n"
     ]
    }
   ],
   "source": [
    "echo $CHECKCASH"
   ]
  },
  {
   "cell_type": "markdown",
   "metadata": {
    "collapsed": false
   },
   "source": [
    "##### Q4. What happens if you are in the top-level directory / and you run cd ..? "
   ]
  },
  {
   "cell_type": "code",
   "execution_count": 22,
   "metadata": {
    "collapsed": false
   },
   "outputs": [
    {
     "name": "stdout",
     "output_type": "stream",
     "text": [
      "/home/user/5030\n"
     ]
    }
   ],
   "source": [
    "pwd"
   ]
  },
  {
   "cell_type": "code",
   "execution_count": 23,
   "metadata": {
    "collapsed": false
   },
   "outputs": [
    {
     "name": "stdout",
     "output_type": "stream",
     "text": [
      "/\n"
     ]
    }
   ],
   "source": [
    "cd ../../..\n",
    "pwd"
   ]
  },
  {
   "cell_type": "code",
   "execution_count": 24,
   "metadata": {
    "collapsed": false
   },
   "outputs": [
    {
     "name": "stdout",
     "output_type": "stream",
     "text": [
      "\u001b[0m\u001b[01;34mbin\u001b[0m     \u001b[30;42mdata\u001b[0m  \u001b[01;34metc\u001b[0m  \u001b[01;34mhome\u001b[0m  \u001b[01;34mlib32\u001b[0m  \u001b[01;34mlibx32\u001b[0m  \u001b[01;34mopt\u001b[0m   \u001b[01;34msbin\u001b[0m     \u001b[01;34msrv\u001b[0m  \u001b[30;42mtmp\u001b[0m  \u001b[01;34mvar\u001b[0m\n"
     ]
    },
    {
     "name": "stdout",
     "output_type": "stream",
     "text": [
      "\u001b[01;34mcocalc\u001b[0m  \u001b[01;34mdev\u001b[0m   \u001b[01;34mext\u001b[0m  \u001b[01;34mlib\u001b[0m   \u001b[01;34mlib64\u001b[0m  \u001b[01;34mlocal\u001b[0m   \u001b[01;34mproc\u001b[0m  \u001b[01;34msecrets\u001b[0m  \u001b[01;34msys\u001b[0m  \u001b[01;34musr\u001b[0m\n"
     ]
    }
   ],
   "source": [
    "ls"
   ]
  },
  {
   "cell_type": "code",
   "execution_count": 18,
   "metadata": {
    "collapsed": false
   },
   "outputs": [
   ],
   "source": [
    "cd .."
   ]
  },
  {
   "cell_type": "code",
   "execution_count": 19,
   "metadata": {
    "collapsed": false
   },
   "outputs": [
    {
     "name": "stdout",
     "output_type": "stream",
     "text": [
      "/\n"
     ]
    }
   ],
   "source": [
    "pwd"
   ]
  },
  {
   "cell_type": "code",
   "execution_count": 0,
   "metadata": {
    "collapsed": false
   },
   "outputs": [
   ],
   "source": [
    "# seems nothing happen"
   ]
  },
  {
   "cell_type": "code",
   "execution_count": 20,
   "metadata": {
    "collapsed": false
   },
   "outputs": [
    {
     "name": "stdout",
     "output_type": "stream",
     "text": [
      "\u001b[0m\u001b[01;34mbin\u001b[0m     \u001b[30;42mdata\u001b[0m  \u001b[01;34metc\u001b[0m  \u001b[01;34mhome\u001b[0m  \u001b[01;34mlib32\u001b[0m  \u001b[01;34mlibx32\u001b[0m  \u001b[01;34mopt\u001b[0m   \u001b[01;34msbin\u001b[0m     \u001b[01;34msrv\u001b[0m  \u001b[30;42mtmp\u001b[0m  \u001b[01;34mvar\u001b[0m\n"
     ]
    },
    {
     "name": "stdout",
     "output_type": "stream",
     "text": [
      "\u001b[01;34mcocalc\u001b[0m  \u001b[01;34mdev\u001b[0m   \u001b[01;34mext\u001b[0m  \u001b[01;34mlib\u001b[0m   \u001b[01;34mlib64\u001b[0m  \u001b[01;34mlocal\u001b[0m   \u001b[01;34mproc\u001b[0m  \u001b[01;34msecrets\u001b[0m  \u001b[01;34msys\u001b[0m  \u001b[01;34musr\u001b[0m\n"
     ]
    }
   ],
   "source": [
    "ls"
   ]
  },
  {
   "cell_type": "code",
   "execution_count": 25,
   "metadata": {
    "collapsed": false
   },
   "outputs": [
   ],
   "source": [
    "cd $hom"
   ]
  }
 ],
 "metadata": {
  "kernelspec": {
   "display_name": "Bash (Linux)",
   "env": {
    "PS1": "$"
   },
   "language": "bash",
   "name": "bash",
   "resource_dir": "/ext/jupyter/kernels/bash"
  },
  "language_info": {
   "codemirror_mode": "shell",
   "file_extension": ".sh",
   "mimetype": "text/x-sh",
   "name": "bash"
  }
 },
 "nbformat": 4,
 "nbformat_minor": 4
}