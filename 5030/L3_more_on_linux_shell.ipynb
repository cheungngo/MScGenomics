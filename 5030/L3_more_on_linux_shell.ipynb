{
  "nbformat": 4,
  "nbformat_minor": 0,
  "metadata": {
    "colab": {
      "name": "L3_more_on_linux_shell.ipynb",
      "provenance": [],
      "mount_file_id": "1vEfa5W2591_IhAwQrSlcQnAIM2syTfLG",
      "authorship_tag": "ABX9TyMnQ6v63HHUoB3y4hjw16Se",
      "include_colab_link": true
    },
    "kernelspec": {
      "name": "python3",
      "display_name": "Python 3"
    },
    "language_info": {
      "name": "python"
    }
  },
  "cells": [
    {
      "cell_type": "markdown",
      "metadata": {
        "id": "view-in-github",
        "colab_type": "text"
      },
      "source": [
        "<a href=\"https://colab.research.google.com/github/cheungngo/MScGenomics/blob/master/5030/L3_more_on_linux_shell.ipynb\" target=\"_parent\"><img src=\"https://colab.research.google.com/assets/colab-badge.svg\" alt=\"Open In Colab\"/></a>"
      ]
    },
    {
      "cell_type": "markdown",
      "source": [
        "# More on linux shell"
      ],
      "metadata": {
        "id": "6m7NI45P49y7"
      }
    },
    {
      "cell_type": "code",
      "source": [
        "# loading the data just for demonstration\n",
        "\n",
        "!mkdir -p 5030/lec3\n",
        "%cd 5030/lec3\n",
        "\n",
        "!cp \"/content/drive/MyDrive/Colab Notebooks/5030/ecoli\" . -r"
      ],
      "metadata": {
        "colab": {
          "base_uri": "https://localhost:8080/"
        },
        "id": "8KxUWY8x5YCk",
        "outputId": "580e1810-ca06-47fe-fb9a-969ca1d040ef"
      },
      "execution_count": 3,
      "outputs": [
        {
          "output_type": "stream",
          "name": "stdout",
          "text": [
            "/content/5030/lec3\n",
            "cp: cannot stat '/content/drive/MyDrive/Colab Notebooks/5030/ecoli': No such file or directory\n"
          ]
        }
      ]
    },
    {
      "cell_type": "markdown",
      "source": [
        "### File permissions"
      ],
      "metadata": {
        "id": "KpMKRBi-5V1E"
      }
    },
    {
      "cell_type": "code",
      "source": [
        "# listing file information regarding file permission\n",
        "\n",
        "%cd ecoli\n",
        "!ls -l"
      ],
      "metadata": {
        "colab": {
          "base_uri": "https://localhost:8080/"
        },
        "id": "D7LcZ6A146HS",
        "outputId": "1c81ac1a-81a5-4e9a-99d7-b81fe5400fd5"
      },
      "execution_count": 8,
      "outputs": [
        {
          "output_type": "stream",
          "name": "stdout",
          "text": [
            "/content/5030/lec3/ecoli\n",
            "total 8\n",
            "drwx------ 2 root root 4096 Feb  2 05:32 sra_metadata\n",
            "drwx------ 2 root root 4096 Feb  2 05:32 untrimmed_fastq\n"
          ]
        }
      ]
    },
    {
      "cell_type": "markdown",
      "source": [
        "the first \"d\" = directory\n",
        "\n",
        "r = read\n",
        "\n",
        "w = write\n",
        "\n",
        "x = execute\n",
        "\n",
        "first rwx: owner; second: group; third: other user"
      ],
      "metadata": {
        "id": "U16Nl5BF7Gwc"
      }
    },
    {
      "cell_type": "code",
      "source": [
        "# changing file permissions\n",
        "\n",
        "%cd sra_metadata\n",
        "!ls -l"
      ],
      "metadata": {
        "colab": {
          "base_uri": "https://localhost:8080/"
        },
        "id": "yij7capw7XdH",
        "outputId": "92905b78-b5b9-4dfd-af70-0253b5f60667"
      },
      "execution_count": 9,
      "outputs": [
        {
          "output_type": "stream",
          "name": "stdout",
          "text": [
            "/content/5030/lec3/ecoli/sra_metadata\n",
            "total 12\n",
            "-rw------- 1 root root 8735 Feb  2 05:32 SraRunTable.txt\n"
          ]
        }
      ]
    },
    {
      "cell_type": "code",
      "source": [
        "# changing user permissions\n",
        "\n",
        "!chmod u+x SraRunTable.txt\n",
        "!ls -l"
      ],
      "metadata": {
        "colab": {
          "base_uri": "https://localhost:8080/"
        },
        "id": "rAQFkPo0_UiM",
        "outputId": "ae3ff715-9f3b-4bbc-868f-c0b3526be160"
      },
      "execution_count": 12,
      "outputs": [
        {
          "output_type": "stream",
          "name": "stdout",
          "text": [
            "total 12\n",
            "-rwx------ 1 root root 8735 Feb  2 05:32 SraRunTable.txt\n"
          ]
        }
      ]
    },
    {
      "cell_type": "code",
      "source": [
        "# another way\n",
        "\n",
        "!chmod 600 SraRunTable.txt # 6 is 110 in binary\n",
        "!ls -l"
      ],
      "metadata": {
        "colab": {
          "base_uri": "https://localhost:8080/"
        },
        "id": "85sJWE63_4BN",
        "outputId": "93c9e06e-3689-4cca-ea1b-7777413636c3"
      },
      "execution_count": 15,
      "outputs": [
        {
          "output_type": "stream",
          "name": "stdout",
          "text": [
            "total 12\n",
            "-rw------- 1 root root 8735 Feb  2 05:32 SraRunTable.txt\n"
          ]
        }
      ]
    },
    {
      "cell_type": "code",
      "source": [
        "# changing group permissions\n",
        "\n",
        "!chmod g+rw SraRunTable.txt\n",
        "!ls -l"
      ],
      "metadata": {
        "colab": {
          "base_uri": "https://localhost:8080/"
        },
        "id": "Mercd_1W_rfF",
        "outputId": "4d3137d1-570a-4642-e42b-04404dc643d2"
      },
      "execution_count": 16,
      "outputs": [
        {
          "output_type": "stream",
          "name": "stdout",
          "text": [
            "total 12\n",
            "-rw-rw---- 1 root root 8735 Feb  2 05:32 SraRunTable.txt\n"
          ]
        }
      ]
    },
    {
      "cell_type": "code",
      "source": [
        "# another way\n",
        "\n",
        "!chmod 640 SraRunTable.txt # 6 = rw-; 4 = r-- (all in binary)\n",
        "!ls -l"
      ],
      "metadata": {
        "colab": {
          "base_uri": "https://localhost:8080/"
        },
        "id": "IobtPJYV_zxt",
        "outputId": "61e7d69f-ae7a-4509-c09a-3f25dd5fbf4a"
      },
      "execution_count": 17,
      "outputs": [
        {
          "output_type": "stream",
          "name": "stdout",
          "text": [
            "total 12\n",
            "-rw-r----- 1 root root 8735 Feb  2 05:32 SraRunTable.txt\n"
          ]
        }
      ]
    },
    {
      "cell_type": "code",
      "source": [
        "# changing other's permission\n",
        "\n",
        "!chmod o+rwx SraRunTable.txt\n",
        "!ls -l"
      ],
      "metadata": {
        "colab": {
          "base_uri": "https://localhost:8080/"
        },
        "id": "GR6K8W25AaGp",
        "outputId": "8562fee0-8dc6-41e1-968d-2203181d5c97"
      },
      "execution_count": 18,
      "outputs": [
        {
          "output_type": "stream",
          "name": "stdout",
          "text": [
            "total 12\n",
            "-rw-r--rwx 1 root root 8735 Feb  2 05:32 SraRunTable.txt\n"
          ]
        }
      ]
    },
    {
      "cell_type": "code",
      "source": [
        "# another way\n",
        "!chmod 642 SraRunTable.txt\n",
        "!ls -l"
      ],
      "metadata": {
        "colab": {
          "base_uri": "https://localhost:8080/"
        },
        "id": "spz_GziLAfnS",
        "outputId": "59ace9aa-a97a-45ed-ba50-8806718f5b99"
      },
      "execution_count": 19,
      "outputs": [
        {
          "output_type": "stream",
          "name": "stdout",
          "text": [
            "total 12\n",
            "-rw-r---w- 1 root root 8735 Feb  2 05:32 SraRunTable.txt\n"
          ]
        }
      ]
    },
    {
      "cell_type": "markdown",
      "source": [
        "### awk"
      ],
      "metadata": {
        "id": "xFtd1li_BDOr"
      }
    },
    {
      "cell_type": "code",
      "source": [
        "!head SraRunTable.txt"
      ],
      "metadata": {
        "colab": {
          "base_uri": "https://localhost:8080/"
        },
        "id": "iSdXpvJsCisH",
        "outputId": "ab062576-d5c1-4926-b9c9-1cabe00b66f6"
      },
      "execution_count": 21,
      "outputs": [
        {
          "output_type": "stream",
          "name": "stdout",
          "text": [
            "BioSample_s\tInsertSize_l\tLibraryLayout_s\tLibrary_Name_s\tLoadDate_s\tMBases_l\tMBytes_l\tReleaseDate_s\tRun_s\tSRA_Sample_s\tSample_Name_s\tAssay_Type_s\tAssemblyName_s\tBioProject_s\tCenter_Name_s\tConsent_s\tOrganism_s\tPlatform_s\tSRA_Study_s\tg1k_analysis_group_s\tg1k_pop_code_s\tsource_s\tstrain_s\n",
            "SAMN00205533\t0\tSINGLE\tCZB152\t29-May-14\t149\t100\t25-Mar-11\tSRR097977\tSRS167141\tCZB152\tWGS\t<not provided>\tPRJNA188723\tMSU\tpublic\tEscherichia coli B str. REL606\tILLUMINA\tSRP004752\t<not provided>\t<not provided>\t<not provided>\tREL606\n",
            "SAMN00205558\t0\tSINGLE\tCZB154\t29-May-14\t627\t444\t25-Mar-11\tSRR098026\tSRS167166\tCZB154\tWGS\t<not provided>\tPRJNA188723\tMSU\tpublic\tEscherichia coli B str. REL606\tILLUMINA\tSRP004752\t<not provided>\t<not provided>\t<not provided>\tREL606\n",
            "SAMN00205559\t0\tSINGLE\tCZB199\t29-May-14\t157\t118\t25-Mar-11\tSRR098027\tSRS167167\tCZB199\tWGS\t<not provided>\tPRJNA188723\tMSU\tpublic\tEscherichia coli B str. REL606\tILLUMINA\tSRP004752\t<not provided>\t<not provided>\t<not provided>\tREL606\n",
            "SAMN00205560\t0\tSINGLE\tREL1166A\t29-May-14\t627\t440\t25-Mar-11\tSRR098028\tSRS167168\tREL1166A\tWGS\t<not provided>\tPRJNA188723\tMSU\tpublic\tEscherichia coli B str. REL606\tILLUMINA\tSRP004752\t<not provided>\t<not provided>\t<not provided>\tREL606\n",
            "SAMN00205561\t0\tSINGLE\tREL10979\t29-May-14\t140\t94\t25-Mar-11\tSRR098029\tSRS167169\tREL10979\tWGS\t<not provided>\tPRJNA188723\tMSU\tpublic\tEscherichia coli B str. REL606\tILLUMINA\tSRP004752\t<not provided>\t<not provided>\t<not provided>\tREL606\n",
            "SAMN00205562\t0\tSINGLE\tREL10988\t29-May-14\t145\t110\t25-Mar-11\tSRR098030\tSRS167170\tREL10988\tWGS\t<not provided>\tPRJNA188723\tMSU\tpublic\tEscherichia coli B str. REL606\tILLUMINA\tSRP004752\t<not provided>\t<not provided>\t<not provided>\tREL606\n",
            "SAMN00205563\t0\tSINGLE\tZDB16\t29-May-14\t606\t424\t25-Mar-11\tSRR098031\tSRS167171\tZDB16\tWGS\t<not provided>\tPRJNA188723\tMSU\tpublic\tEscherichia coli B str. REL606\tILLUMINA\tSRP004752\t<not provided>\t<not provided>\t<not provided>\tREL606\n",
            "SAMN00205564\t0\tSINGLE\t<not provided>\t29-May-14\t311\t257\t25-Mar-11\tSRR098032\tSRS167172\tZDB30\tWGS\t<not provided>\tPRJNA188723\tMSU\tpublic\tEscherichia coli B str. REL606\tILLUMINA\tSRP004752\t<not provided>\t<not provided>\t<not provided>\tREL606\n",
            "SAMN00205564\t2834\tPAIRED\tZDB30\t29-May-14\t1695\t679\t25-Mar-11\tSRR098033\tSRS167172\tZDB30\tWGS\t<not provided>\tPRJNA188723\tMSU\tpublic\tEscherichia coli B str. REL606\tILLUMINA\tSRP004752\t<not provided>\t<not provided>\t<not provided>\tREL606\n"
          ]
        }
      ]
    },
    {
      "cell_type": "code",
      "source": [
        "# number of columns as the pointer goes down each row\n",
        "\n",
        "!awk '{print NF}' SraRunTable.txt | head"
      ],
      "metadata": {
        "colab": {
          "base_uri": "https://localhost:8080/"
        },
        "id": "hXjYfk_bCpBg",
        "outputId": "adb78d24-760e-4fea-cae6-29b1d39ef8bc"
      },
      "execution_count": 26,
      "outputs": [
        {
          "output_type": "stream",
          "name": "stdout",
          "text": [
            "23\n",
            "31\n",
            "31\n",
            "31\n",
            "31\n",
            "31\n",
            "31\n",
            "31\n",
            "32\n",
            "31\n"
          ]
        }
      ]
    },
    {
      "cell_type": "code",
      "source": [
        "# number of rows as the pointer goes down each row\n",
        "\n",
        "!awk '{print NR}' SraRunTable.txt | head"
      ],
      "metadata": {
        "colab": {
          "base_uri": "https://localhost:8080/"
        },
        "id": "G0gnytIAC9Ua",
        "outputId": "403394d4-6edd-4201-be5e-ff503ed27697"
      },
      "execution_count": 27,
      "outputs": [
        {
          "output_type": "stream",
          "name": "stdout",
          "text": [
            "1\n",
            "2\n",
            "3\n",
            "4\n",
            "5\n",
            "6\n",
            "7\n",
            "8\n",
            "9\n",
            "10\n"
          ]
        }
      ]
    },
    {
      "cell_type": "code",
      "source": [
        "# operation between columns\n",
        "\n",
        "!grep -v \"BioSample_s\" SraRunTable.txt | awk '{print $7 - $6}' | head"
      ],
      "metadata": {
        "colab": {
          "base_uri": "https://localhost:8080/"
        },
        "id": "jxxIsVRPDetg",
        "outputId": "1413e25d-ca08-43ed-8eaf-c7d21435eb9d"
      },
      "execution_count": 32,
      "outputs": [
        {
          "output_type": "stream",
          "name": "stdout",
          "text": [
            "-49\n",
            "-183\n",
            "-39\n",
            "-187\n",
            "-46\n",
            "-35\n",
            "-182\n",
            "282\n",
            "-1016\n",
            "-98\n"
          ]
        }
      ]
    },
    {
      "cell_type": "code",
      "source": [
        "# specify the deliminator\n",
        "\n",
        "!awk -F- '{print $2}' SraRunTable.txt | head # columns separated by \"-\""
      ],
      "metadata": {
        "colab": {
          "base_uri": "https://localhost:8080/"
        },
        "id": "wuW9lNngDrJH",
        "outputId": "764800b4-92a9-4d65-ee20-1d322a231755"
      },
      "execution_count": 34,
      "outputs": [
        {
          "output_type": "stream",
          "name": "stdout",
          "text": [
            "\n",
            "May\n",
            "May\n",
            "May\n",
            "May\n",
            "May\n",
            "May\n",
            "May\n",
            "May\n",
            "May\n"
          ]
        }
      ]
    },
    {
      "cell_type": "code",
      "source": [
        "# print all lines containing a specific word\n",
        "\n",
        "!awk '/SINGLE/' SraRunTable.txt | head"
      ],
      "metadata": {
        "colab": {
          "base_uri": "https://localhost:8080/"
        },
        "id": "cywh6isiE8C9",
        "outputId": "462dab02-afa0-42c3-f6b3-eb2ca1904f26"
      },
      "execution_count": 42,
      "outputs": [
        {
          "output_type": "stream",
          "name": "stdout",
          "text": [
            "SAMN00205533\t0\tSINGLE\tCZB152\t29-May-14\t149\t100\t25-Mar-11\tSRR097977\tSRS167141\tCZB152\tWGS\t<not provided>\tPRJNA188723\tMSU\tpublic\tEscherichia coli B str. REL606\tILLUMINA\tSRP004752\t<not provided>\t<not provided>\t<not provided>\tREL606\n",
            "SAMN00205558\t0\tSINGLE\tCZB154\t29-May-14\t627\t444\t25-Mar-11\tSRR098026\tSRS167166\tCZB154\tWGS\t<not provided>\tPRJNA188723\tMSU\tpublic\tEscherichia coli B str. REL606\tILLUMINA\tSRP004752\t<not provided>\t<not provided>\t<not provided>\tREL606\n",
            "SAMN00205559\t0\tSINGLE\tCZB199\t29-May-14\t157\t118\t25-Mar-11\tSRR098027\tSRS167167\tCZB199\tWGS\t<not provided>\tPRJNA188723\tMSU\tpublic\tEscherichia coli B str. REL606\tILLUMINA\tSRP004752\t<not provided>\t<not provided>\t<not provided>\tREL606\n",
            "SAMN00205560\t0\tSINGLE\tREL1166A\t29-May-14\t627\t440\t25-Mar-11\tSRR098028\tSRS167168\tREL1166A\tWGS\t<not provided>\tPRJNA188723\tMSU\tpublic\tEscherichia coli B str. REL606\tILLUMINA\tSRP004752\t<not provided>\t<not provided>\t<not provided>\tREL606\n",
            "SAMN00205561\t0\tSINGLE\tREL10979\t29-May-14\t140\t94\t25-Mar-11\tSRR098029\tSRS167169\tREL10979\tWGS\t<not provided>\tPRJNA188723\tMSU\tpublic\tEscherichia coli B str. REL606\tILLUMINA\tSRP004752\t<not provided>\t<not provided>\t<not provided>\tREL606\n",
            "SAMN00205562\t0\tSINGLE\tREL10988\t29-May-14\t145\t110\t25-Mar-11\tSRR098030\tSRS167170\tREL10988\tWGS\t<not provided>\tPRJNA188723\tMSU\tpublic\tEscherichia coli B str. REL606\tILLUMINA\tSRP004752\t<not provided>\t<not provided>\t<not provided>\tREL606\n",
            "SAMN00205563\t0\tSINGLE\tZDB16\t29-May-14\t606\t424\t25-Mar-11\tSRR098031\tSRS167171\tZDB16\tWGS\t<not provided>\tPRJNA188723\tMSU\tpublic\tEscherichia coli B str. REL606\tILLUMINA\tSRP004752\t<not provided>\t<not provided>\t<not provided>\tREL606\n",
            "SAMN00205564\t0\tSINGLE\t<not provided>\t29-May-14\t311\t257\t25-Mar-11\tSRR098032\tSRS167172\tZDB30\tWGS\t<not provided>\tPRJNA188723\tMSU\tpublic\tEscherichia coli B str. REL606\tILLUMINA\tSRP004752\t<not provided>\t<not provided>\t<not provided>\tREL606\n",
            "SAMN00205565\t0\tSINGLE\tZDB83\t29-May-14\t260\t162\t25-Mar-11\tSRR098034\tSRS167173\tZDB83\tWGS\t<not provided>\tPRJNA188723\tMSU\tpublic\tEscherichia coli B str. REL606\tILLUMINA\tSRP004752\t<not provided>\t<not provided>\t<not provided>\tREL606\n",
            "SAMN00205566\t0\tSINGLE\tZDB87\t29-May-14\t255\t161\t25-Mar-11\tSRR098035\tSRS167174\tZDB87\tWGS\t<not provided>\tPRJNA188723\tMSU\tpublic\tEscherichia coli B str. REL606\tILLUMINA\tSRP004752\t<not provided>\t<not provided>\t<not provided>\tREL606\n"
          ]
        }
      ]
    },
    {
      "cell_type": "code",
      "source": [
        "# lines with character length specifier\n",
        "\n",
        "!awk 'length >100' SraRunTable.txt | head"
      ],
      "metadata": {
        "colab": {
          "base_uri": "https://localhost:8080/"
        },
        "id": "eu3VJ37XFrv4",
        "outputId": "d3e4db90-a362-45aa-fd73-02261bc1107a"
      },
      "execution_count": 43,
      "outputs": [
        {
          "output_type": "stream",
          "name": "stdout",
          "text": [
            "BioSample_s\tInsertSize_l\tLibraryLayout_s\tLibrary_Name_s\tLoadDate_s\tMBases_l\tMBytes_l\tReleaseDate_s\tRun_s\tSRA_Sample_s\tSample_Name_s\tAssay_Type_s\tAssemblyName_s\tBioProject_s\tCenter_Name_s\tConsent_s\tOrganism_s\tPlatform_s\tSRA_Study_s\tg1k_analysis_group_s\tg1k_pop_code_s\tsource_s\tstrain_s\n",
            "SAMN00205533\t0\tSINGLE\tCZB152\t29-May-14\t149\t100\t25-Mar-11\tSRR097977\tSRS167141\tCZB152\tWGS\t<not provided>\tPRJNA188723\tMSU\tpublic\tEscherichia coli B str. REL606\tILLUMINA\tSRP004752\t<not provided>\t<not provided>\t<not provided>\tREL606\n",
            "SAMN00205558\t0\tSINGLE\tCZB154\t29-May-14\t627\t444\t25-Mar-11\tSRR098026\tSRS167166\tCZB154\tWGS\t<not provided>\tPRJNA188723\tMSU\tpublic\tEscherichia coli B str. REL606\tILLUMINA\tSRP004752\t<not provided>\t<not provided>\t<not provided>\tREL606\n",
            "SAMN00205559\t0\tSINGLE\tCZB199\t29-May-14\t157\t118\t25-Mar-11\tSRR098027\tSRS167167\tCZB199\tWGS\t<not provided>\tPRJNA188723\tMSU\tpublic\tEscherichia coli B str. REL606\tILLUMINA\tSRP004752\t<not provided>\t<not provided>\t<not provided>\tREL606\n",
            "SAMN00205560\t0\tSINGLE\tREL1166A\t29-May-14\t627\t440\t25-Mar-11\tSRR098028\tSRS167168\tREL1166A\tWGS\t<not provided>\tPRJNA188723\tMSU\tpublic\tEscherichia coli B str. REL606\tILLUMINA\tSRP004752\t<not provided>\t<not provided>\t<not provided>\tREL606\n",
            "SAMN00205561\t0\tSINGLE\tREL10979\t29-May-14\t140\t94\t25-Mar-11\tSRR098029\tSRS167169\tREL10979\tWGS\t<not provided>\tPRJNA188723\tMSU\tpublic\tEscherichia coli B str. REL606\tILLUMINA\tSRP004752\t<not provided>\t<not provided>\t<not provided>\tREL606\n",
            "SAMN00205562\t0\tSINGLE\tREL10988\t29-May-14\t145\t110\t25-Mar-11\tSRR098030\tSRS167170\tREL10988\tWGS\t<not provided>\tPRJNA188723\tMSU\tpublic\tEscherichia coli B str. REL606\tILLUMINA\tSRP004752\t<not provided>\t<not provided>\t<not provided>\tREL606\n",
            "SAMN00205563\t0\tSINGLE\tZDB16\t29-May-14\t606\t424\t25-Mar-11\tSRR098031\tSRS167171\tZDB16\tWGS\t<not provided>\tPRJNA188723\tMSU\tpublic\tEscherichia coli B str. REL606\tILLUMINA\tSRP004752\t<not provided>\t<not provided>\t<not provided>\tREL606\n",
            "SAMN00205564\t0\tSINGLE\t<not provided>\t29-May-14\t311\t257\t25-Mar-11\tSRR098032\tSRS167172\tZDB30\tWGS\t<not provided>\tPRJNA188723\tMSU\tpublic\tEscherichia coli B str. REL606\tILLUMINA\tSRP004752\t<not provided>\t<not provided>\t<not provided>\tREL606\n",
            "SAMN00205564\t2834\tPAIRED\tZDB30\t29-May-14\t1695\t679\t25-Mar-11\tSRR098033\tSRS167172\tZDB30\tWGS\t<not provided>\tPRJNA188723\tMSU\tpublic\tEscherichia coli B str. REL606\tILLUMINA\tSRP004752\t<not provided>\t<not provided>\t<not provided>\tREL606\n"
          ]
        }
      ]
    },
    {
      "cell_type": "code",
      "source": [
        "# remove empty lines\n",
        "\n",
        "!awk 'NF>0' SraRunTable.txt | head"
      ],
      "metadata": {
        "colab": {
          "base_uri": "https://localhost:8080/"
        },
        "id": "6kw7TwIfF2k0",
        "outputId": "e8e0f7fa-55c7-473c-ffab-b6517e7d639a"
      },
      "execution_count": 44,
      "outputs": [
        {
          "output_type": "stream",
          "name": "stdout",
          "text": [
            "BioSample_s\tInsertSize_l\tLibraryLayout_s\tLibrary_Name_s\tLoadDate_s\tMBases_l\tMBytes_l\tReleaseDate_s\tRun_s\tSRA_Sample_s\tSample_Name_s\tAssay_Type_s\tAssemblyName_s\tBioProject_s\tCenter_Name_s\tConsent_s\tOrganism_s\tPlatform_s\tSRA_Study_s\tg1k_analysis_group_s\tg1k_pop_code_s\tsource_s\tstrain_s\n",
            "SAMN00205533\t0\tSINGLE\tCZB152\t29-May-14\t149\t100\t25-Mar-11\tSRR097977\tSRS167141\tCZB152\tWGS\t<not provided>\tPRJNA188723\tMSU\tpublic\tEscherichia coli B str. REL606\tILLUMINA\tSRP004752\t<not provided>\t<not provided>\t<not provided>\tREL606\n",
            "SAMN00205558\t0\tSINGLE\tCZB154\t29-May-14\t627\t444\t25-Mar-11\tSRR098026\tSRS167166\tCZB154\tWGS\t<not provided>\tPRJNA188723\tMSU\tpublic\tEscherichia coli B str. REL606\tILLUMINA\tSRP004752\t<not provided>\t<not provided>\t<not provided>\tREL606\n",
            "SAMN00205559\t0\tSINGLE\tCZB199\t29-May-14\t157\t118\t25-Mar-11\tSRR098027\tSRS167167\tCZB199\tWGS\t<not provided>\tPRJNA188723\tMSU\tpublic\tEscherichia coli B str. REL606\tILLUMINA\tSRP004752\t<not provided>\t<not provided>\t<not provided>\tREL606\n",
            "SAMN00205560\t0\tSINGLE\tREL1166A\t29-May-14\t627\t440\t25-Mar-11\tSRR098028\tSRS167168\tREL1166A\tWGS\t<not provided>\tPRJNA188723\tMSU\tpublic\tEscherichia coli B str. REL606\tILLUMINA\tSRP004752\t<not provided>\t<not provided>\t<not provided>\tREL606\n",
            "SAMN00205561\t0\tSINGLE\tREL10979\t29-May-14\t140\t94\t25-Mar-11\tSRR098029\tSRS167169\tREL10979\tWGS\t<not provided>\tPRJNA188723\tMSU\tpublic\tEscherichia coli B str. REL606\tILLUMINA\tSRP004752\t<not provided>\t<not provided>\t<not provided>\tREL606\n",
            "SAMN00205562\t0\tSINGLE\tREL10988\t29-May-14\t145\t110\t25-Mar-11\tSRR098030\tSRS167170\tREL10988\tWGS\t<not provided>\tPRJNA188723\tMSU\tpublic\tEscherichia coli B str. REL606\tILLUMINA\tSRP004752\t<not provided>\t<not provided>\t<not provided>\tREL606\n",
            "SAMN00205563\t0\tSINGLE\tZDB16\t29-May-14\t606\t424\t25-Mar-11\tSRR098031\tSRS167171\tZDB16\tWGS\t<not provided>\tPRJNA188723\tMSU\tpublic\tEscherichia coli B str. REL606\tILLUMINA\tSRP004752\t<not provided>\t<not provided>\t<not provided>\tREL606\n",
            "SAMN00205564\t0\tSINGLE\t<not provided>\t29-May-14\t311\t257\t25-Mar-11\tSRR098032\tSRS167172\tZDB30\tWGS\t<not provided>\tPRJNA188723\tMSU\tpublic\tEscherichia coli B str. REL606\tILLUMINA\tSRP004752\t<not provided>\t<not provided>\t<not provided>\tREL606\n",
            "SAMN00205564\t2834\tPAIRED\tZDB30\t29-May-14\t1695\t679\t25-Mar-11\tSRR098033\tSRS167172\tZDB30\tWGS\t<not provided>\tPRJNA188723\tMSU\tpublic\tEscherichia coli B str. REL606\tILLUMINA\tSRP004752\t<not provided>\t<not provided>\t<not provided>\tREL606\n"
          ]
        }
      ]
    },
    {
      "cell_type": "markdown",
      "source": [
        "### sed"
      ],
      "metadata": {
        "id": "PudaxnqWV2Qp"
      }
    },
    {
      "cell_type": "code",
      "source": [
        "# replace a certain word in a file\n",
        "\n",
        "!sed s/SINGLE/SINGSING/g SraRunTable.txt >> new.txt # g for global\n",
        "!head new.txt"
      ],
      "metadata": {
        "colab": {
          "base_uri": "https://localhost:8080/"
        },
        "id": "JcS3sWJVWI0B",
        "outputId": "1c5a9a50-67a9-4f12-a31e-95fb57d8f069"
      },
      "execution_count": 46,
      "outputs": [
        {
          "output_type": "stream",
          "name": "stdout",
          "text": [
            "BioSample_s\tInsertSize_l\tLibraryLayout_s\tLibrary_Name_s\tLoadDate_s\tMBases_l\tMBytes_l\tReleaseDate_s\tRun_s\tSRA_Sample_s\tSample_Name_s\tAssay_Type_s\tAssemblyName_s\tBioProject_s\tCenter_Name_s\tConsent_s\tOrganism_s\tPlatform_s\tSRA_Study_s\tg1k_analysis_group_s\tg1k_pop_code_s\tsource_s\tstrain_s\n",
            "SAMN00205533\t0\tSINGSING\tCZB152\t29-May-14\t149\t100\t25-Mar-11\tSRR097977\tSRS167141\tCZB152\tWGS\t<not provided>\tPRJNA188723\tMSU\tpublic\tEscherichia coli B str. REL606\tILLUMINA\tSRP004752\t<not provided>\t<not provided>\t<not provided>\tREL606\n",
            "SAMN00205558\t0\tSINGSING\tCZB154\t29-May-14\t627\t444\t25-Mar-11\tSRR098026\tSRS167166\tCZB154\tWGS\t<not provided>\tPRJNA188723\tMSU\tpublic\tEscherichia coli B str. REL606\tILLUMINA\tSRP004752\t<not provided>\t<not provided>\t<not provided>\tREL606\n",
            "SAMN00205559\t0\tSINGSING\tCZB199\t29-May-14\t157\t118\t25-Mar-11\tSRR098027\tSRS167167\tCZB199\tWGS\t<not provided>\tPRJNA188723\tMSU\tpublic\tEscherichia coli B str. REL606\tILLUMINA\tSRP004752\t<not provided>\t<not provided>\t<not provided>\tREL606\n",
            "SAMN00205560\t0\tSINGSING\tREL1166A\t29-May-14\t627\t440\t25-Mar-11\tSRR098028\tSRS167168\tREL1166A\tWGS\t<not provided>\tPRJNA188723\tMSU\tpublic\tEscherichia coli B str. REL606\tILLUMINA\tSRP004752\t<not provided>\t<not provided>\t<not provided>\tREL606\n",
            "SAMN00205561\t0\tSINGSING\tREL10979\t29-May-14\t140\t94\t25-Mar-11\tSRR098029\tSRS167169\tREL10979\tWGS\t<not provided>\tPRJNA188723\tMSU\tpublic\tEscherichia coli B str. REL606\tILLUMINA\tSRP004752\t<not provided>\t<not provided>\t<not provided>\tREL606\n",
            "SAMN00205562\t0\tSINGSING\tREL10988\t29-May-14\t145\t110\t25-Mar-11\tSRR098030\tSRS167170\tREL10988\tWGS\t<not provided>\tPRJNA188723\tMSU\tpublic\tEscherichia coli B str. REL606\tILLUMINA\tSRP004752\t<not provided>\t<not provided>\t<not provided>\tREL606\n",
            "SAMN00205563\t0\tSINGSING\tZDB16\t29-May-14\t606\t424\t25-Mar-11\tSRR098031\tSRS167171\tZDB16\tWGS\t<not provided>\tPRJNA188723\tMSU\tpublic\tEscherichia coli B str. REL606\tILLUMINA\tSRP004752\t<not provided>\t<not provided>\t<not provided>\tREL606\n",
            "SAMN00205564\t0\tSINGSING\t<not provided>\t29-May-14\t311\t257\t25-Mar-11\tSRR098032\tSRS167172\tZDB30\tWGS\t<not provided>\tPRJNA188723\tMSU\tpublic\tEscherichia coli B str. REL606\tILLUMINA\tSRP004752\t<not provided>\t<not provided>\t<not provided>\tREL606\n",
            "SAMN00205564\t2834\tPAIRED\tZDB30\t29-May-14\t1695\t679\t25-Mar-11\tSRR098033\tSRS167172\tZDB30\tWGS\t<not provided>\tPRJNA188723\tMSU\tpublic\tEscherichia coli B str. REL606\tILLUMINA\tSRP004752\t<not provided>\t<not provided>\t<not provided>\tREL606\n"
          ]
        }
      ]
    },
    {
      "cell_type": "code",
      "source": [
        "# delete lines containing a certain word in a file\n",
        "\n",
        "!sed /SINGSING/d new.txt | head"
      ],
      "metadata": {
        "colab": {
          "base_uri": "https://localhost:8080/"
        },
        "id": "p_lLSlfZWjp2",
        "outputId": "dada558d-010c-4d91-a99f-a59e154e3ed8"
      },
      "execution_count": 48,
      "outputs": [
        {
          "output_type": "stream",
          "name": "stdout",
          "text": [
            "BioSample_s\tInsertSize_l\tLibraryLayout_s\tLibrary_Name_s\tLoadDate_s\tMBases_l\tMBytes_l\tReleaseDate_s\tRun_s\tSRA_Sample_s\tSample_Name_s\tAssay_Type_s\tAssemblyName_s\tBioProject_s\tCenter_Name_s\tConsent_s\tOrganism_s\tPlatform_s\tSRA_Study_s\tg1k_analysis_group_s\tg1k_pop_code_s\tsource_s\tstrain_s\n",
            "SAMN00205564\t2834\tPAIRED\tZDB30\t29-May-14\t1695\t679\t25-Mar-11\tSRR098033\tSRS167172\tZDB30\tWGS\t<not provided>\tPRJNA188723\tMSU\tpublic\tEscherichia coli B str. REL606\tILLUMINA\tSRP004752\t<not provided>\t<not provided>\t<not provided>\tREL606\n",
            "SAMN00205573\t2729\tPAIRED\tZDB172-PE\t29-May-14\t1620\t635\t25-Mar-11\tSRR098043\tSRS167181\tZDB172\tWGS\t<not provided>\tPRJNA188723\tMSU\tpublic\tEscherichia coli B str. REL606\tILLUMINA\tSRP004752\t<not provided>\t<not provided>\t<not provided>\tREL606\n"
          ]
        }
      ]
    },
    {
      "cell_type": "markdown",
      "source": [
        "### top"
      ],
      "metadata": {
        "id": "Bq_E3a__GAUs"
      }
    },
    {
      "cell_type": "markdown",
      "source": [
        "real-time view of the Linux system status"
      ],
      "metadata": {
        "id": "seG2ZfO3XaIw"
      }
    },
    {
      "cell_type": "code",
      "source": [
        "!top"
      ],
      "metadata": {
        "colab": {
          "base_uri": "https://localhost:8080/"
        },
        "id": "6whdxqnpGBWr",
        "outputId": "4e7f45f6-f2a1-415a-a544-dde2c49bddd3"
      },
      "execution_count": 50,
      "outputs": [
        {
          "output_type": "stream",
          "name": "stdout",
          "text": [
            "\u001b[?1h\u001b=\u001b[H\u001b[2J\u001b[mtop - 07:36:43 up  2:11,  0 users,  load average: 0.09, 0.05, 0.01\u001b[m\u001b[m\u001b[m\u001b[m\u001b[K\n",
            "Tasks:\u001b[m\u001b[m\u001b[1m  19 \u001b[m\u001b[mtotal,\u001b[m\u001b[m\u001b[1m   1 \u001b[m\u001b[mrunning,\u001b[m\u001b[m\u001b[1m  17 \u001b[m\u001b[msleeping,\u001b[m\u001b[m\u001b[1m   0 \u001b[m\u001b[mstopped,\u001b[m\u001b[m\u001b[1m   1 \u001b[m\u001b[mzombie\u001b[m\u001b[m\u001b[m\u001b[m\u001b[K\n",
            "%Cpu(s):\u001b[m\u001b[m\u001b[1m  1.5 \u001b[m\u001b[mus,\u001b[m\u001b[m\u001b[1m  1.1 \u001b[m\u001b[msy,\u001b[m\u001b[m\u001b[1m  0.0 \u001b[m\u001b[mni,\u001b[m\u001b[m\u001b[1m 97.2 \u001b[m\u001b[mid,\u001b[m\u001b[m\u001b[1m  0.2 \u001b[m\u001b[mwa,\u001b[m\u001b[m\u001b[1m  0.0 \u001b[m\u001b[mhi,\u001b[m\u001b[m\u001b[1m  0.0 \u001b[m\u001b[msi,\u001b[m\u001b[m\u001b[1m  0.0 \u001b[m\u001b[mst\u001b[m\u001b[m\u001b[m\u001b[m\u001b[K\n",
            "KiB Mem :\u001b[m\u001b[m\u001b[1m 13302920 \u001b[m\u001b[mtotal,\u001b[m\u001b[m\u001b[1m 10352732 \u001b[m\u001b[mfree,\u001b[m\u001b[m\u001b[1m   709704 \u001b[m\u001b[mused,\u001b[m\u001b[m\u001b[1m  2240484 \u001b[m\u001b[mbuff/cache\u001b[m\u001b[m\u001b[m\u001b[m\u001b[K\n",
            "KiB Swap:\u001b[m\u001b[m\u001b[1m        0 \u001b[m\u001b[mtotal,\u001b[m\u001b[m\u001b[1m        0 \u001b[m\u001b[mfree,\u001b[m\u001b[m\u001b[1m        0 \u001b[m\u001b[mused.\u001b[m\u001b[m\u001b[1m 12371952 \u001b[m\u001b[mavail Mem \u001b[m\u001b[m\u001b[m\u001b[m\u001b[K\n",
            "\u001b[K\n",
            "\u001b[7m    PID USER      PR  NI    VIRT    RES    SHR S  %CPU %MEM     TIME+ COMMAND   \u001b[m\u001b[m\u001b[K\n",
            "\u001b[m    158 root      20   0  719588 158476  49676 S   6.7  1.2   0:47.47 python3   \u001b[m\u001b[m\u001b[K\n",
            "\u001b[m      1 root      20   0     992      4      0 S   0.0  0.0   0:00.88 docker-i+ \u001b[m\u001b[m\u001b[K\n",
            "\u001b[m      7 root      20   0  350568  61996  32860 S   0.0  0.5   0:12.74 node      \u001b[m\u001b[m\u001b[K\n",
            "\u001b[m     17 root      20   0   35888   4896   3804 S   0.0  0.0   0:01.18 tail      \u001b[m\u001b[m\u001b[K\n",
            "\u001b[m     36 root      20   0       0      0      0 Z   0.0  0.0   0:06.57 python3   \u001b[m\u001b[m\u001b[K\n",
            "\u001b[m     37 root      20   0  160660  41756  13156 S   0.0  0.3   0:01.90 colab-fi+ \u001b[m\u001b[m\u001b[K\n",
            "\u001b[m     50 root      20   0  196216  61904  13684 S   0.0  0.5   0:09.31 jupyter-+ \u001b[m\u001b[m\u001b[K\n",
            "\u001b[m     51 root      20   0  708196  10784   4592 S   0.0  0.1   0:10.52 dap_mult+ \u001b[m\u001b[m\u001b[K\n",
            "\u001b[m    179 root      20   0  128664  16412   5752 S   0.0  0.1   0:22.35 python3   \u001b[m\u001b[m\u001b[K\n",
            "\u001b[m    194 root      20   0  535120 117460  31572 S   0.0  0.9   0:19.41 node      \u001b[m\u001b[m\u001b[K\n",
            "\u001b[m    246 root      20   0   18380   1504   1200 S   0.0  0.0   0:00.00 bash      \u001b[m\u001b[m\u001b[K\n",
            "\u001b[m    247 root      20   0 1123820  18772  15096 S   0.0  0.1   0:00.04 drive     \u001b[m\u001b[m\u001b[K\n",
            "\u001b[m    248 root      20   0   11604   2176   1908 S   0.0  0.0   0:00.00 grep      \u001b[m\u001b[m\u001b[K\n",
            "\u001b[m    288 root      20   0 2569488  54140  31664 S   0.0  0.4   0:02.96 drive     \u001b[m\u001b[m\u001b[K\n",
            "\u001b[m    361 root      20   0   18380   2936   2692 S   0.0  0.0   0:00.00 bash      \u001b[m\u001b[m\u001b[K\n",
            "\u001b[m    362 root      20   0  703804   2824   2080 S   0.0  0.0   0:00.10 director+ \u001b[m\u001b[m\u001b[K\n",
            "\u001b[m    363 root      20   0    4572    876    816 S   0.0  0.0   0:00.50 tail      \u001b[m\u001b[m\u001b[K\u001b[H\u001b[mtop - 07:36:46 up  2:11,  0 users,  load average: 0.08, 0.05, 0.01\u001b[m\u001b[m\u001b[m\u001b[m\u001b[K\n",
            "Tasks:\u001b[m\u001b[m\u001b[1m  19 \u001b[m\u001b[mtotal,\u001b[m\u001b[m\u001b[1m   1 \u001b[m\u001b[mrunning,\u001b[m\u001b[m\u001b[1m  17 \u001b[m\u001b[msleeping,\u001b[m\u001b[m\u001b[1m   0 \u001b[m\u001b[mstopped,\u001b[m\u001b[m\u001b[1m   1 \u001b[m\u001b[mzombie\u001b[m\u001b[m\u001b[m\u001b[m\u001b[K\n",
            "%Cpu(s):\u001b[m\u001b[m\u001b[1m  1.3 \u001b[m\u001b[mus,\u001b[m\u001b[m\u001b[1m  1.0 \u001b[m\u001b[msy,\u001b[m\u001b[m\u001b[1m  0.0 \u001b[m\u001b[mni,\u001b[m\u001b[m\u001b[1m 97.5 \u001b[m\u001b[mid,\u001b[m\u001b[m\u001b[1m  0.2 \u001b[m\u001b[mwa,\u001b[m\u001b[m\u001b[1m  0.0 \u001b[m\u001b[mhi,\u001b[m\u001b[m\u001b[1m  0.0 \u001b[m\u001b[msi,\u001b[m\u001b[m\u001b[1m  0.0 \u001b[m\u001b[mst\u001b[m\u001b[m\u001b[m\u001b[m\u001b[K\n",
            "KiB Mem :\u001b[m\u001b[m\u001b[1m 13302920 \u001b[m\u001b[mtotal,\u001b[m\u001b[m\u001b[1m 10352708 \u001b[m\u001b[mfree,\u001b[m\u001b[m\u001b[1m   709612 \u001b[m\u001b[mused,\u001b[m\u001b[m\u001b[1m  2240600 \u001b[m\u001b[mbuff/cache\u001b[m\u001b[m\u001b[m\u001b[m\u001b[K\n",
            "KiB Swap:\u001b[m\u001b[m\u001b[1m        0 \u001b[m\u001b[mtotal,\u001b[m\u001b[m\u001b[1m        0 \u001b[m\u001b[mfree,\u001b[m\u001b[m\u001b[1m        0 \u001b[m\u001b[mused.\u001b[m\u001b[m\u001b[1m 12372116 \u001b[m\u001b[mavail Mem \u001b[m\u001b[m\u001b[m\u001b[m\u001b[K\n",
            "\u001b[K\n",
            "\n",
            "\u001b[m    158 root      20   0  719588 158476  49676 S   1.0  1.2   0:47.50 python3   \u001b[m\u001b[m\u001b[K\n",
            "\u001b[m     51 root      20   0  708196  10784   4592 S   0.7  0.1   0:10.54 dap_mult+ \u001b[m\u001b[m\u001b[K\n",
            "\u001b[m    179 root      20   0  128664  16412   5752 S   0.7  0.1   0:22.37 python3   \u001b[m\u001b[m\u001b[K\n",
            "\u001b[m      7 root      20   0  350568  61428  32860 S   0.3  0.5   0:12.75 node      \u001b[m\u001b[m\u001b[K\n",
            "\u001b[m      1 root      20   0     992      4      0 S   0.0  0.0   0:00.88 docker-i+ \u001b[m\u001b[m\u001b[K\n",
            "\u001b[m     17 root      20   0   35888   4896   3804 S   0.0  0.0   0:01.18 tail      \u001b[m\u001b[m\u001b[K\n",
            "\u001b[m     36 root      20   0       0      0      0 Z   0.0  0.0   0:06.57 python3   \u001b[m\u001b[m\u001b[K\n",
            "\u001b[m     37 root      20   0  160660  41756  13156 S   0.0  0.3   0:01.90 colab-fi+ \u001b[m\u001b[m\u001b[K\n",
            "\u001b[m     50 root      20   0  196216  61904  13684 S   0.0  0.5   0:09.31 jupyter-+ \u001b[m\u001b[m\u001b[K\n",
            "\n",
            "\n",
            "\n",
            "\n",
            "\n",
            "\n",
            "\n",
            "\u001b[H\u001b[mtop - 07:36:49 up  2:11,  0 users,  load average: 0.08, 0.05, 0.01\u001b[m\u001b[m\u001b[m\u001b[m\u001b[K\n",
            "Tasks:\u001b[m\u001b[m\u001b[1m  19 \u001b[m\u001b[mtotal,\u001b[m\u001b[m\u001b[1m   2 \u001b[m\u001b[mrunning,\u001b[m\u001b[m\u001b[1m  16 \u001b[m\u001b[msleeping,\u001b[m\u001b[m\u001b[1m   0 \u001b[m\u001b[mstopped,\u001b[m\u001b[m\u001b[1m   1 \u001b[m\u001b[mzombie\u001b[m\u001b[m\u001b[m\u001b[m\u001b[K\n",
            "%Cpu(s):\u001b[m\u001b[m\u001b[1m  1.5 \u001b[m\u001b[mus,\u001b[m\u001b[m\u001b[1m  1.0 \u001b[m\u001b[msy,\u001b[m\u001b[m\u001b[1m  0.0 \u001b[m\u001b[mni,\u001b[m\u001b[m\u001b[1m 97.3 \u001b[m\u001b[mid,\u001b[m\u001b[m\u001b[1m  0.0 \u001b[m\u001b[mwa,\u001b[m\u001b[m\u001b[1m  0.0 \u001b[m\u001b[mhi,\u001b[m\u001b[m\u001b[1m  0.2 \u001b[m\u001b[msi,\u001b[m\u001b[m\u001b[1m  0.0 \u001b[m\u001b[mst\u001b[m\u001b[m\u001b[m\u001b[m\u001b[K\n",
            "KiB Mem :\u001b[m\u001b[m\u001b[1m 13302920 \u001b[m\u001b[mtotal,\u001b[m\u001b[m\u001b[1m 10352700 \u001b[m\u001b[mfree,\u001b[m\u001b[m\u001b[1m   709620 \u001b[m\u001b[mused,\u001b[m\u001b[m\u001b[1m  2240600 \u001b[m\u001b[mbuff/cache\u001b[m\u001b[m\u001b[m\u001b[m\u001b[K\n",
            "KiB Swap:\u001b[m\u001b[m\u001b[1m        0 \u001b[m\u001b[mtotal,\u001b[m\u001b[m\u001b[1m        0 \u001b[m\u001b[mfree,\u001b[m\u001b[m\u001b[1m        0 \u001b[m\u001b[mused.\u001b[m\u001b[m\u001b[1m 12372108 \u001b[m\u001b[mavail Mem \u001b[m\u001b[m\u001b[m\u001b[m\u001b[K\n",
            "\u001b[K\n",
            "\n",
            "\u001b[m    158 root      20   0  719588 158476  49676 S   1.3  1.2   0:47.54 python3   \u001b[m\u001b[m\u001b[K\n",
            "\u001b[m     51 root      20   0  708196  10784   4592 S   0.3  0.1   0:10.55 dap_mult+ \u001b[m\u001b[m\u001b[K\n",
            "\u001b[m    179 root      20   0  128664  16412   5752 S   0.3  0.1   0:22.38 python3   \u001b[m\u001b[m\u001b[K\n",
            "\u001b[m      1 root      20   0     992      4      0 S   0.0  0.0   0:00.88 docker-i+ \u001b[m\u001b[m\u001b[K\n",
            "\u001b[m\u001b[1m      7 root      20   0  350568  61428  32860 R   0.0  0.5   0:12.75 node      \u001b[m\u001b[m\u001b[K\n",
            "\n",
            "\n",
            "\n",
            "\n",
            "\n",
            "\n",
            "\n",
            "\n",
            "\n",
            "\n",
            "\n",
            "\u001b[?1l\u001b>\u001b[25;1H\n",
            "\u001b[K"
          ]
        }
      ]
    },
    {
      "cell_type": "markdown",
      "source": [
        "### df and du"
      ],
      "metadata": {
        "id": "X8UBGZ0vXgM6"
      }
    },
    {
      "cell_type": "code",
      "source": [
        "# space left on the current file system\n",
        "\n",
        "!df -h . # -h for human readable"
      ],
      "metadata": {
        "colab": {
          "base_uri": "https://localhost:8080/"
        },
        "id": "mbXf4XHDXh0Y",
        "outputId": "ecfebed7-d223-4da2-d107-7aad1c87ac70"
      },
      "execution_count": 51,
      "outputs": [
        {
          "output_type": "stream",
          "name": "stdout",
          "text": [
            "Filesystem      Size  Used Avail Use% Mounted on\n",
            "overlay         226G   42G  184G  19% /\n"
          ]
        }
      ]
    },
    {
      "cell_type": "code",
      "source": [
        "# total space used by current dir\n",
        "\n",
        "!du -sh ."
      ],
      "metadata": {
        "colab": {
          "base_uri": "https://localhost:8080/"
        },
        "id": "Byl3UXm0Xtxp",
        "outputId": "e98283d4-d180-44cf-a21e-b7c96ad3a174"
      },
      "execution_count": 52,
      "outputs": [
        {
          "output_type": "stream",
          "name": "stdout",
          "text": [
            "28K\t.\n"
          ]
        }
      ]
    },
    {
      "cell_type": "code",
      "source": [
        "# space used by each file under a certain dir\n",
        "\n",
        "!du -sh ~"
      ],
      "metadata": {
        "colab": {
          "base_uri": "https://localhost:8080/"
        },
        "id": "aXrME-NzX0ye",
        "outputId": "44a4c4c3-bbc4-40a6-d622-99a8a7353d36"
      },
      "execution_count": 54,
      "outputs": [
        {
          "output_type": "stream",
          "name": "stdout",
          "text": [
            "31M\t/root\n"
          ]
        }
      ]
    },
    {
      "cell_type": "markdown",
      "source": [
        "### wget"
      ],
      "metadata": {
        "id": "qdvbEwWCYC3f"
      }
    },
    {
      "cell_type": "code",
      "source": [
        "# download files from web\n",
        "\n",
        "!wget www.google.com -o goo.txt"
      ],
      "metadata": {
        "id": "StbOglf2YIR5"
      },
      "execution_count": 56,
      "outputs": []
    },
    {
      "cell_type": "code",
      "source": [
        "!head goo.txt"
      ],
      "metadata": {
        "colab": {
          "base_uri": "https://localhost:8080/"
        },
        "id": "y2MS0qtoYK7w",
        "outputId": "2fa7dddc-9125-47ea-eef3-12d29c06122a"
      },
      "execution_count": 57,
      "outputs": [
        {
          "output_type": "stream",
          "name": "stdout",
          "text": [
            "--2022-02-02 07:40:55--  http://www.google.com/\n",
            "Resolving www.google.com (www.google.com)... 173.194.213.106, 173.194.213.147, 173.194.213.104, ...\n",
            "Connecting to www.google.com (www.google.com)|173.194.213.106|:80... connected.\n",
            "HTTP request sent, awaiting response... 200 OK\n",
            "Length: unspecified [text/html]\n",
            "Saving to: ‘index.html’\n",
            "\n",
            "     0K .......... ...                                          177M=0s\n",
            "\n",
            "2022-02-02 07:40:55 (177 MB/s) - ‘index.html’ saved [14110]\n"
          ]
        }
      ]
    },
    {
      "cell_type": "code",
      "source": [
        "!head index.html"
      ],
      "metadata": {
        "colab": {
          "base_uri": "https://localhost:8080/"
        },
        "id": "uHCcQfM3YTSW",
        "outputId": "d7f51f35-f7f9-449e-e608-a7f8760cda84"
      },
      "execution_count": 58,
      "outputs": [
        {
          "output_type": "stream",
          "name": "stdout",
          "text": [
            "<!doctype html><html itemscope=\"\" itemtype=\"http://schema.org/WebPage\" lang=\"en\"><head><meta content=\"Search the world's information, including webpages, images, videos and more. Google has many special features to help you find exactly what you're looking for.\" name=\"description\"><meta content=\"noodp\" name=\"robots\"><meta content=\"text/html; charset=UTF-8\" http-equiv=\"Content-Type\"><meta content=\"/images/branding/googleg/1x/googleg_standard_color_128dp.png\" itemprop=\"image\"><title>Google</title><script nonce=\"qNmZTf3N3vv1xUbUakyMgQ==\">(function(){window.google={kEI:'hzX6YeTFCryVwbkPxMe-8A0',kEXPI:'0,202410,10,1100116,56873,1709,4349,207,2414,2390,2316,383,246,5,1354,4013,923,315,1122515,1197696,380794,16115,28684,17572,4859,1361,9290,3025,2820,14764,4020,978,13228,3847,10622,7432,15309,5081,1593,1279,2742,149,1103,840,1983,4314,3514,606,2023,1777,521,14669,3227,1989,857,6,4811,12639,14396,1924,908,2,941,15324,432,3,346,1244,1,5445,148,11323,991,1661,4,1528,2304,7039,74,4610,17339,3050,2658,7355,32,901,1,15031,675,1457,15351,1435,5806,2551,4094,4052,3,3541,1,14711,2096,6904,14678,3765,2,14022,1931,442,342,255,2993,1557,744,5852,9326,1137,1160,5679,1021,2379,2719,8596,9637,64,1,8,6662,1056,4567,2578,10,3671,6717,1,5296,2,6612,4790,438,814,4588,1,8,12498,2570,1137,1539,2794,2204,2083,98,1705,57,1782,2,2,1,1407,10319,4,4592,897,402,1,2,3769,926,284,1146,34,843,621,938,10,1,436,288,392,2,365,4729,2234,39,43,63,113,2182,341,2655,274,68,949,568,693,2,525,1,2,3,406,78,658,311,312,811,330,599,2070,1968,737,262,595,597,1113,25,232,313,363,4,7,1141,753,1627,749,8,234,567,19,30,320,44,1469,653,366,1332,2,258,3380,1,5489078,2031,102,757,249,8796903,882,444,1,2,80,1,1796,1,9,2553,1,748,141,795,563,1,4265,1,1,2,1331,4142,2609,155,17,13,72,139,4,2,20,2,169,13,19,46,5,39,96,548,29,2,2,1,2,1,2,2,7,4,1,2,2,2,2,2,2,353,513,186,1,1,158,3,2,2,2,2,2,4,2,3,3,269,1601,141,204,131,67,13,1,2,7,20,4,4,4,6,4,23952513,2738465,1303225,3,2414,1491,9,1435,159,1358,4726,3,927,1246,489,1803,1056,729,625,149,199',kBL:'vOnp'};google.sn='webhp';google.kHL='en';})();(function(){\n",
            "var f=this||self;var h,k=[];function l(a){for(var b;a&&(!a.getAttribute||!(b=a.getAttribute(\"eid\")));)a=a.parentNode;return b||h}function m(a){for(var b=null;a&&(!a.getAttribute||!(b=a.getAttribute(\"leid\")));)a=a.parentNode;return b}\n",
            "function n(a,b,c,d,g){var e=\"\";c||-1!==b.search(\"&ei=\")||(e=\"&ei=\"+l(d),-1===b.search(\"&lei=\")&&(d=m(d))&&(e+=\"&lei=\"+d));d=\"\";!c&&f._cshid&&-1===b.search(\"&cshid=\")&&\"slh\"!==a&&(d=\"&cshid=\"+f._cshid);c=c||\"/\"+(g||\"gen_204\")+\"?atyp=i&ct=\"+a+\"&cad=\"+b+e+\"&zx=\"+Date.now()+d;/^http:/i.test(c)&&\"https:\"===window.location.protocol&&(google.ml&&google.ml(Error(\"a\"),!1,{src:c,glmm:1}),c=\"\");return c};h=google.kEI;google.getEI=l;google.getLEI=m;google.ml=function(){return null};google.log=function(a,b,c,d,g){if(c=n(a,b,c,d,g)){a=new Image;var e=k.length;k[e]=a;a.onerror=a.onload=a.onabort=function(){delete k[e]};a.src=c}};google.logUrl=n;}).call(this);(function(){\n",
            "google.y={};google.sy=[];google.x=function(a,b){if(a)var c=a.id;else{do c=Math.random();while(google.y[c])}google.y[c]=[a,b];return!1};google.sx=function(a){google.sy.push(a)};google.lm=[];google.plm=function(a){google.lm.push.apply(google.lm,a)};google.lq=[];google.load=function(a,b,c){google.lq.push([[a],b,c])};google.loadAll=function(a,b){google.lq.push([a,b])};google.bx=!1;google.lx=function(){};}).call(this);google.f={};(function(){\n",
            "document.documentElement.addEventListener(\"submit\",function(b){var a;if(a=b.target){var c=a.getAttribute(\"data-submitfalse\");a=\"1\"===c||\"q\"===c&&!a.elements.q.value?!0:!1}else a=!1;a&&(b.preventDefault(),b.stopPropagation())},!0);document.documentElement.addEventListener(\"click\",function(b){var a;a:{for(a=b.target;a&&a!==document.documentElement;a=a.parentElement)if(\"A\"===a.tagName){a=\"1\"===a.getAttribute(\"data-nohref\");break a}a=!1}a&&b.preventDefault()},!0);}).call(this);</script><style>#gbar,#guser{font-size:13px;padding-top:1px !important;}#gbar{height:22px}#guser{padding-bottom:7px !important;text-align:right}.gbh,.gbd{border-top:1px solid #c9d7f1;font-size:1px}.gbh{height:0;position:absolute;top:24px;width:100%}@media all{.gb1{height:22px;margin-right:.5em;vertical-align:top}#gbar{float:left}}a.gb1,a.gb4{text-decoration:underline !important}a.gb1,a.gb4{color:#00c !important}.gbi .gb4{color:#dd8e27 !important}.gbf .gb4{color:#900 !important}\n",
            "</style><style>body,td,a,p,.h{font-family:arial,sans-serif}body{margin:0;overflow-y:scroll}#gog{padding:3px 8px 0}td{line-height:.8em}.gac_m td{line-height:17px}form{margin-bottom:20px}.h{color:#1558d6}em{font-weight:bold;font-style:normal}.lst{height:25px;width:496px}.gsfi,.lst{font:18px arial,sans-serif}.gsfs{font:17px arial,sans-serif}.ds{display:inline-box;display:inline-block;margin:3px 0 4px;margin-left:4px}input{font-family:inherit}body{background:#fff;color:#000}a{color:#4b11a8;text-decoration:none}a:hover,a:active{text-decoration:underline}.fl a{color:#1558d6}a:visited{color:#4b11a8}.sblc{padding-top:5px}.sblc a{display:block;margin:2px 0;margin-left:13px;font-size:11px}.lsbb{background:#f8f9fa;border:solid 1px;border-color:#dadce0 #70757a #70757a #dadce0;height:30px}.lsbb{display:block}#WqQANb a{display:inline-block;margin:0 12px}.lsb{background:url(/images/nav_logo229.png) 0 -261px repeat-x;border:none;color:#000;cursor:pointer;height:30px;margin:0;outline:0;font:15px arial,sans-serif;vertical-align:top}.lsb:active{background:#dadce0}.lst:focus{outline:none}</style><script nonce=\"qNmZTf3N3vv1xUbUakyMgQ==\">(function(){window.google.erd={jsr:1,bv:1524,de:true};\n",
            "var f=this||self;var g,h,k=null!==(g=f.mei)&&void 0!==g?g:1,l=null!==(h=f.sdo)&&void 0!==h?h:!0,p=0,q,r=google.erd,u=r.jsr;google.ml=function(a,b,d,m,c){c=void 0===c?2:c;b&&(q=a&&a.message);if(google.dl)return google.dl(a,c,d),null;if(0>u){window.console&&console.error(a,d);if(-2===u)throw a;b=!1}else b=!a||!a.message||\"Error loading script\"===a.message||p>=k&&!m?!1:!0;if(!b)return null;p++;d=d||{};var e=c;c=encodeURIComponent;b=\"/gen_204?atyp=i&ei=\"+c(google.kEI);google.kEXPI&&(b+=\"&jexpid=\"+c(google.kEXPI));b+=\"&srcpg=\"+c(google.sn)+\"&jsr=\"+c(r.jsr)+\"&bver=\"+c(r.bv)+(\"&jsel=\"+e);e=a.lineNumber;void 0!==e&&(b+=\"&line=\"+\n",
            "e);var n=a.fileName;n&&(b+=\"&script=\"+c(n),e&&n===window.location.href&&(e=document.documentElement.outerHTML.split(\"\\n\")[e],b+=\"&cad=\"+c(e?e.substring(0,300):\"No script found.\")));for(var t in d)b+=\"&\",b+=c(t),b+=\"=\",b+=c(d[t]);b=b+\"&emsg=\"+c(a.name+\": \"+a.message);b=b+\"&jsst=\"+c(a.stack||\"N/A\");12288<=b.length&&(b=b.substr(0,12288));a=b;m||google.log(0,\"\",a);return a};window.onerror=function(a,b,d,m,c){q!==a&&(a=c instanceof Error?c:Error(a),void 0===d||\"lineNumber\"in a||(a.lineNumber=d),void 0===b||\"fileName\"in a||(a.fileName=b),google.ml(a,!1,void 0,!1,\"SyntaxError\"===a.name||\"SyntaxError\"===a.message.substring(0,11)?2:0));q=null;l&&p>=k&&(window.onerror=null)};})();</script></head><body bgcolor=\"#fff\"><script nonce=\"qNmZTf3N3vv1xUbUakyMgQ==\">(function(){var src='/images/nav_logo229.png';var iesg=false;document.body.onload = function(){window.n && window.n();if (document.images){new Image().src=src;}\n",
            "if (!iesg){document.f&&document.f.q.focus();document.gbqf&&document.gbqf.q.focus();}\n",
            "}\n"
          ]
        }
      ]
    },
    {
      "cell_type": "markdown",
      "source": [
        "### nohup (no hang up)"
      ],
      "metadata": {
        "id": "Huj9F600YfRy"
      }
    },
    {
      "cell_type": "code",
      "source": [
        "# sample code:\n",
        "# nohup sh xxx.sh &\n",
        "# & means running in background\n",
        "# output > nohup.out"
      ],
      "metadata": {
        "id": "egduah1VYmaU"
      },
      "execution_count": 59,
      "outputs": []
    },
    {
      "cell_type": "markdown",
      "source": [
        "screen"
      ],
      "metadata": {
        "id": "ltlGQiIWZArn"
      }
    },
    {
      "cell_type": "code",
      "source": [
        "# sample\n",
        "# screen -S session_name (to create and attach to a new session)"
      ],
      "metadata": {
        "id": "8G8DfpBYY-pZ"
      },
      "execution_count": 61,
      "outputs": []
    }
  ]
}