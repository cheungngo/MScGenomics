{
  "nbformat": 4,
  "nbformat_minor": 0,
  "metadata": {
    "colab": {
      "name": "L6_FastQC_Trim.ipynb",
      "provenance": [],
      "mount_file_id": "1ZvJ6Q32AvfI6nMNJtMyY_W9Wd4xqXVuT",
      "authorship_tag": "ABX9TyMQ3yWqFTRjAuFzx8Ov6oel",
      "include_colab_link": true
    },
    "kernelspec": {
      "name": "python3",
      "display_name": "Python 3"
    },
    "language_info": {
      "name": "python"
    }
  },
  "cells": [
    {
      "cell_type": "markdown",
      "metadata": {
        "id": "view-in-github",
        "colab_type": "text"
      },
      "source": [
        "<a href=\"https://colab.research.google.com/github/cheungngo/MScGenomics/blob/master/5030/L6_FastQC_Trim.ipynb\" target=\"_parent\"><img src=\"https://colab.research.google.com/assets/colab-badge.svg\" alt=\"Open In Colab\"/></a>"
      ]
    },
    {
      "cell_type": "markdown",
      "source": [
        "# Assessing quality using FastQC"
      ],
      "metadata": {
        "id": "Z5ShU66PvXji"
      }
    },
    {
      "cell_type": "markdown",
      "source": [
        "## Installation of fastqc"
      ],
      "metadata": {
        "id": "0UPP6Kndt69E"
      }
    },
    {
      "cell_type": "code",
      "execution_count": null,
      "metadata": {
        "id": "HfVYawguhEnG"
      },
      "outputs": [],
      "source": [
        "!wget https://www.bioinformatics.babraham.ac.uk/projects/fastqc/fastqc_v0.11.9.zip\n",
        "!unzip -q fastqc_v0.11.9.zip\n",
        "!sudo apt-get install fastqc"
      ]
    },
    {
      "cell_type": "markdown",
      "source": [
        "## performing fastqc"
      ],
      "metadata": {
        "id": "EvFfrofWuBR-"
      }
    },
    {
      "cell_type": "code",
      "source": [
        "!cp \"/content/drive/MyDrive/Colab Notebooks/5030/L6/SRR2584863_1.fastq.gz\" .\n",
        "!gzip -d SRR2584863_1.fastq.gz"
      ],
      "metadata": {
        "id": "qLlt5SfwtNCN"
      },
      "execution_count": null,
      "outputs": []
    },
    {
      "cell_type": "code",
      "source": [
        "!fastqc SRR2584863_1.fastq"
      ],
      "metadata": {
        "colab": {
          "base_uri": "https://localhost:8080/"
        },
        "id": "XlE5BLa5tTBV",
        "outputId": "a6809d81-1143-4639-f587-267d5aa02701"
      },
      "execution_count": 4,
      "outputs": [
        {
          "output_type": "stream",
          "name": "stdout",
          "text": [
            "Started analysis of SRR2584863_1.fastq\n",
            "Approx 5% complete for SRR2584863_1.fastq\n",
            "Approx 10% complete for SRR2584863_1.fastq\n",
            "Approx 15% complete for SRR2584863_1.fastq\n",
            "Approx 20% complete for SRR2584863_1.fastq\n",
            "Approx 25% complete for SRR2584863_1.fastq\n",
            "Approx 30% complete for SRR2584863_1.fastq\n",
            "Approx 35% complete for SRR2584863_1.fastq\n",
            "Approx 40% complete for SRR2584863_1.fastq\n",
            "Approx 45% complete for SRR2584863_1.fastq\n",
            "Approx 50% complete for SRR2584863_1.fastq\n",
            "Approx 55% complete for SRR2584863_1.fastq\n",
            "Approx 60% complete for SRR2584863_1.fastq\n",
            "Approx 65% complete for SRR2584863_1.fastq\n",
            "Approx 70% complete for SRR2584863_1.fastq\n",
            "Approx 75% complete for SRR2584863_1.fastq\n",
            "Approx 80% complete for SRR2584863_1.fastq\n",
            "Approx 85% complete for SRR2584863_1.fastq\n",
            "Approx 90% complete for SRR2584863_1.fastq\n",
            "Approx 95% complete for SRR2584863_1.fastq\n",
            "Analysis complete for SRR2584863_1.fastq\n"
          ]
        }
      ]
    },
    {
      "cell_type": "markdown",
      "source": [
        "two files resulted:\n",
        "\n",
        "*.html and *.zip"
      ],
      "metadata": {
        "id": "99pEXOBJt19n"
      }
    },
    {
      "cell_type": "code",
      "source": [
        "# unzipping the zip file\n",
        "!unzip /content/SRR2584863_1_fastqc.zip"
      ],
      "metadata": {
        "id": "RPx_K6i4t51F"
      },
      "execution_count": null,
      "outputs": []
    },
    {
      "cell_type": "code",
      "source": [
        "# The summarizing report\n",
        "!head -25 /content/SRR2584863_1_fastqc/summary.txt"
      ],
      "metadata": {
        "colab": {
          "base_uri": "https://localhost:8080/"
        },
        "id": "8Jp2shs3u_MN",
        "outputId": "54839b21-125b-4a51-b2c7-0f11e296bd8c"
      },
      "execution_count": null,
      "outputs": [
        {
          "output_type": "stream",
          "name": "stdout",
          "text": [
            "PASS\tBasic Statistics\tSRR2584863_1.fastq\n",
            "PASS\tPer base sequence quality\tSRR2584863_1.fastq\n",
            "PASS\tPer tile sequence quality\tSRR2584863_1.fastq\n",
            "PASS\tPer sequence quality scores\tSRR2584863_1.fastq\n",
            "WARN\tPer base sequence content\tSRR2584863_1.fastq\n",
            "WARN\tPer sequence GC content\tSRR2584863_1.fastq\n",
            "PASS\tPer base N content\tSRR2584863_1.fastq\n",
            "PASS\tSequence Length Distribution\tSRR2584863_1.fastq\n",
            "PASS\tSequence Duplication Levels\tSRR2584863_1.fastq\n",
            "PASS\tOverrepresented sequences\tSRR2584863_1.fastq\n",
            "WARN\tAdapter Content\tSRR2584863_1.fastq\n",
            "FAIL\tKmer Content\tSRR2584863_1.fastq\n"
          ]
        }
      ]
    },
    {
      "cell_type": "markdown",
      "source": [
        "# Trimming and filtering reads "
      ],
      "metadata": {
        "id": "Z-29xvBMvcZ_"
      }
    },
    {
      "cell_type": "markdown",
      "source": [
        "## Installing Trimmomatic"
      ],
      "metadata": {
        "id": "dDTo2AWkveKd"
      }
    },
    {
      "cell_type": "code",
      "source": [
        "!wget http://www.usadellab.org/cms/uploads/supplementary/Trimmomatic/Trimmomatic-0.39.zip\n",
        "!unzip /content/Trimmomatic-0.39.zip"
      ],
      "metadata": {
        "id": "ron1cUImvmVc"
      },
      "execution_count": null,
      "outputs": []
    },
    {
      "cell_type": "code",
      "source": [
        "# first line for using trimmomatic\n",
        "!java -jar /content/Trimmomatic-0.39/trimmomatic-0.39.jar"
      ],
      "metadata": {
        "colab": {
          "base_uri": "https://localhost:8080/"
        },
        "id": "RuzSyqZkwnJ2",
        "outputId": "952762fa-db1e-4874-cb69-a0e9991c8d2c"
      },
      "execution_count": 7,
      "outputs": [
        {
          "output_type": "stream",
          "name": "stdout",
          "text": [
            "Usage: \n",
            "       PE [-version] [-threads <threads>] [-phred33|-phred64] [-trimlog <trimLogFile>] [-summary <statsSummaryFile>] [-quiet] [-validatePairs] [-basein <inputBase> | <inputFile1> <inputFile2>] [-baseout <outputBase> | <outputFile1P> <outputFile1U> <outputFile2P> <outputFile2U>] <trimmer1>...\n",
            "   or: \n",
            "       SE [-version] [-threads <threads>] [-phred33|-phred64] [-trimlog <trimLogFile>] [-summary <statsSummaryFile>] [-quiet] <inputFile> <outputFile> <trimmer1>...\n",
            "   or: \n",
            "       -version\n"
          ]
        }
      ]
    },
    {
      "cell_type": "code",
      "source": [
        "!cp \"/content/drive/MyDrive/Colab Notebooks/5030/L6/SRR2584863_1.fastq.gz\" .\n",
        "!cp \"/content/drive/MyDrive/Colab Notebooks/5030/L6/SRR2584863_2.fastq.gz\" ."
      ],
      "metadata": {
        "id": "MmLzHI6CVT9Y"
      },
      "execution_count": 19,
      "outputs": []
    },
    {
      "cell_type": "code",
      "source": [
        "# example of a single-ended trimming (SE)\n",
        "\n",
        "%%bash\n",
        "\n",
        "for infile in *_1.fastq.gz; do\n",
        "\n",
        "  # get the base name of the fastq file\n",
        "  base=$(basename $infile  _1.fastq.gz)\n",
        "\n",
        "  # input files \n",
        "  in1=${base}_1.fastq.gz\n",
        "\n",
        "  # output files\n",
        "  out1=${base}_1.trim.fastq.gz\n",
        "\n",
        "  # trimming using trimmomatic\n",
        "  java -jar \"/content/Trimmomatic-0.39/trimmomatic-0.39.jar\" SE \\\n",
        "    $in1 \\\n",
        "    $out1 \\\n",
        "    SLIDINGWINDOW:4:20 MINLEN:25 ILLUMINACLIP:NexteraPE-PE.fa:2:40:15\n",
        "\n",
        "done"
      ],
      "metadata": {
        "colab": {
          "base_uri": "https://localhost:8080/"
        },
        "id": "L7Q1CkNdVBex",
        "outputId": "3dbe9e20-810c-491c-c8b6-969e3cde4b0e"
      },
      "execution_count": 18,
      "outputs": [
        {
          "output_type": "stream",
          "name": "stderr",
          "text": [
            "TrimmomaticSE: Started with arguments:\n",
            " SRR2584863_1.fastq.gz SRR2584863_1.trim.fastq.gz SLIDINGWINDOW:4:20 MINLEN:25 ILLUMINACLIP:NexteraPE-PE.fa:2:40:15\n",
            "Automatically using 2 threads\n",
            "java.io.FileNotFoundException: /content/NexteraPE-PE.fa (No such file or directory)\n",
            "\tat java.base/java.io.FileInputStream.open0(Native Method)\n",
            "\tat java.base/java.io.FileInputStream.open(FileInputStream.java:219)\n",
            "\tat java.base/java.io.FileInputStream.<init>(FileInputStream.java:157)\n",
            "\tat org.usadellab.trimmomatic.fasta.FastaParser.parse(FastaParser.java:54)\n",
            "\tat org.usadellab.trimmomatic.trim.IlluminaClippingTrimmer.loadSequences(IlluminaClippingTrimmer.java:110)\n",
            "\tat org.usadellab.trimmomatic.trim.IlluminaClippingTrimmer.makeIlluminaClippingTrimmer(IlluminaClippingTrimmer.java:71)\n",
            "\tat org.usadellab.trimmomatic.trim.TrimmerFactory.makeTrimmer(TrimmerFactory.java:32)\n",
            "\tat org.usadellab.trimmomatic.Trimmomatic.createTrimmers(Trimmomatic.java:59)\n",
            "\tat org.usadellab.trimmomatic.TrimmomaticSE.run(TrimmomaticSE.java:318)\n",
            "\tat org.usadellab.trimmomatic.Trimmomatic.main(Trimmomatic.java:85)\n",
            "Quality encoding detected as phred33\n",
            "Input Reads: 1553259 Surviving: 1545498 (99.50%) Dropped: 7761 (0.50%)\n",
            "TrimmomaticSE: Completed successfully\n"
          ]
        }
      ]
    },
    {
      "cell_type": "code",
      "source": [
        "# example of a paired-ended trimming (PE)\n",
        "\n",
        "%%bash\n",
        "\n",
        "for infile in *_1.fastq.gz; do\n",
        "\n",
        "  # get the base name of the fastq file\n",
        "  base=$(basename $infile  _1.fastq.gz)\n",
        "\n",
        "  # input files \n",
        "  in1=${base}_1.fastq.gz\n",
        "\n",
        "  # output files\n",
        "  out1=${base}_1.trim.fastq.gz\n",
        "  out2=${base}_1un.trim.fastq.gz\n",
        "  out3=${base}_2.trim.fastq.gz\n",
        "  out4=${base}_2un.trim.fastq.gz\n",
        "\n",
        "  # trimming using trimmomatic\n",
        "  java -jar \"/content/Trimmomatic-0.39/trimmomatic-0.39.jar\" PE \\\n",
        "    $in1 \\\n",
        "    $out1 $out2 $out3 $out4 \\\n",
        "    SLIDINGWINDOW:4:20 MINLEN:25 ILLUMINACLIP:NexteraPE-PE.fa:2:40:15\n",
        "\n",
        "done"
      ],
      "metadata": {
        "colab": {
          "base_uri": "https://localhost:8080/"
        },
        "id": "cGDyqeUVrcSc",
        "outputId": "b90083af-7483-438d-9690-f10697ea57c9"
      },
      "execution_count": 20,
      "outputs": [
        {
          "output_type": "stream",
          "name": "stderr",
          "text": [
            "TrimmomaticPE: Started with arguments:\n",
            " SRR2584863_1.fastq.gz SRR2584863_1.trim.fastq.gz SRR2584863_1un.trim.fastq.gz SRR2584863_2.trim.fastq.gz SRR2584863_2un.trim.fastq.gz SLIDINGWINDOW:4:20 MINLEN:25 ILLUMINACLIP:NexteraPE-PE.fa:2:40:15\n",
            "Multiple cores found: Using 2 threads\n",
            "java.io.FileNotFoundException: /content/NexteraPE-PE.fa (No such file or directory)\n",
            "\tat java.base/java.io.FileInputStream.open0(Native Method)\n",
            "\tat java.base/java.io.FileInputStream.open(FileInputStream.java:219)\n",
            "\tat java.base/java.io.FileInputStream.<init>(FileInputStream.java:157)\n",
            "\tat org.usadellab.trimmomatic.fasta.FastaParser.parse(FastaParser.java:54)\n",
            "\tat org.usadellab.trimmomatic.trim.IlluminaClippingTrimmer.loadSequences(IlluminaClippingTrimmer.java:110)\n",
            "\tat org.usadellab.trimmomatic.trim.IlluminaClippingTrimmer.makeIlluminaClippingTrimmer(IlluminaClippingTrimmer.java:71)\n",
            "\tat org.usadellab.trimmomatic.trim.TrimmerFactory.makeTrimmer(TrimmerFactory.java:32)\n",
            "\tat org.usadellab.trimmomatic.Trimmomatic.createTrimmers(Trimmomatic.java:59)\n",
            "\tat org.usadellab.trimmomatic.TrimmomaticPE.run(TrimmomaticPE.java:552)\n",
            "\tat org.usadellab.trimmomatic.Trimmomatic.main(Trimmomatic.java:80)\n",
            "Quality encoding detected as phred33\n",
            "Input Read Pairs: 1545498 Both Surviving: 1545498 (100.00%) Forward Only Surviving: 0 (0.00%) Reverse Only Surviving: 0 (0.00%) Dropped: 0 (0.00%)\n",
            "TrimmomaticPE: Completed successfully\n"
          ]
        }
      ]
    }
  ]
}