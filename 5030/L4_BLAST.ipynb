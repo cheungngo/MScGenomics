{
  "nbformat": 4,
  "nbformat_minor": 0,
  "metadata": {
    "colab": {
      "name": "L4_BLAST.ipynb",
      "provenance": [],
      "collapsed_sections": [],
      "mount_file_id": "1MECGcfsz2dpDRyWgC6NCaTwD_zpFlw6y",
      "authorship_tag": "ABX9TyOxVH6sfFKCv4ipTmyFgm/C",
      "include_colab_link": true
    },
    "kernelspec": {
      "name": "python3",
      "display_name": "Python 3"
    },
    "language_info": {
      "name": "python"
    }
  },
  "cells": [
    {
      "cell_type": "markdown",
      "metadata": {
        "id": "view-in-github",
        "colab_type": "text"
      },
      "source": [
        "<a href=\"https://colab.research.google.com/github/cheungngo/MScGenomics/blob/master/5030/L4_BLAST.ipynb\" target=\"_parent\"><img src=\"https://colab.research.google.com/assets/colab-badge.svg\" alt=\"Open In Colab\"/></a>"
      ]
    },
    {
      "cell_type": "markdown",
      "source": [
        "# L4: BLAST"
      ],
      "metadata": {
        "id": "YmBXjWb42KZF"
      }
    },
    {
      "cell_type": "markdown",
      "source": [
        "## Downloading the software"
      ],
      "metadata": {
        "id": "oCPPM661tUDN"
      }
    },
    {
      "cell_type": "code",
      "source": [
        "!wget \"https://ftp.ncbi.nlm.nih.gov/blast/executables/blast+/LATEST/ncbi-blast-2.12.0+-x64-linux.tar.gz\" -O blast.tar.gz"
      ],
      "metadata": {
        "colab": {
          "base_uri": "https://localhost:8080/"
        },
        "id": "9Xe6V4P4uKUu",
        "outputId": "3ecd4236-b62a-4edf-cd83-2a50c638aca6"
      },
      "execution_count": 1,
      "outputs": [
        {
          "output_type": "stream",
          "name": "stdout",
          "text": [
            "--2022-02-22 08:29:15--  https://ftp.ncbi.nlm.nih.gov/blast/executables/blast+/LATEST/ncbi-blast-2.12.0+-x64-linux.tar.gz\n",
            "Resolving ftp.ncbi.nlm.nih.gov (ftp.ncbi.nlm.nih.gov)... 130.14.250.11, 130.14.250.12, 2607:f220:41e:250::10, ...\n",
            "Connecting to ftp.ncbi.nlm.nih.gov (ftp.ncbi.nlm.nih.gov)|130.14.250.11|:443... connected.\n",
            "HTTP request sent, awaiting response... 200 OK\n",
            "Length: 247307631 (236M) [application/x-gzip]\n",
            "Saving to: ‘blast.tar.gz’\n",
            "\n",
            "blast.tar.gz        100%[===================>] 235.85M  89.4MB/s    in 2.6s    \n",
            "\n",
            "2022-02-22 08:29:18 (89.4 MB/s) - ‘blast.tar.gz’ saved [247307631/247307631]\n",
            "\n"
          ]
        }
      ]
    },
    {
      "cell_type": "code",
      "execution_count": 2,
      "metadata": {
        "id": "lGDUykwlrjLp"
      },
      "outputs": [],
      "source": [
        "!gzip -d blast.tar.gz\n",
        "!tar -xf blast.tar"
      ]
    },
    {
      "cell_type": "markdown",
      "source": [
        "## connect to the program"
      ],
      "metadata": {
        "id": "7whXRYLyyt69"
      }
    },
    {
      "cell_type": "code",
      "source": [
        "# need to do this before use\n",
        "%env PATH=/content/ncbi-blast-2.12.0+/bin"
      ],
      "metadata": {
        "colab": {
          "base_uri": "https://localhost:8080/"
        },
        "id": "80M47pXz0OcE",
        "outputId": "85e6e1f6-3977-4fff-8398-13f01747d9be"
      },
      "execution_count": null,
      "outputs": [
        {
          "output_type": "stream",
          "name": "stdout",
          "text": [
            "env: PATH=/content/ncbi-blast-2.12.0+/bin\n"
          ]
        }
      ]
    },
    {
      "cell_type": "code",
      "source": [
        "# checking if it is installed\n",
        "!blastn"
      ],
      "metadata": {
        "colab": {
          "base_uri": "https://localhost:8080/"
        },
        "id": "p9aU32lCxeir",
        "outputId": "3aaa93fc-c977-422c-bc9d-f4bc25e53815"
      },
      "execution_count": null,
      "outputs": [
        {
          "output_type": "stream",
          "name": "stdout",
          "text": [
            "BLAST query/options error: Either a BLAST database or subject sequence(s) must be specified\n",
            "Please refer to the BLAST+ user manual.\n"
          ]
        }
      ]
    },
    {
      "cell_type": "code",
      "source": [
        "# back to normal\n",
        "%env PATH=/bin"
      ],
      "metadata": {
        "colab": {
          "base_uri": "https://localhost:8080/"
        },
        "id": "x7Yk38W41u71",
        "outputId": "ed846807-070b-4377-8f67-d73109c85811"
      },
      "execution_count": null,
      "outputs": [
        {
          "output_type": "stream",
          "name": "stdout",
          "text": [
            "env: PATH=/bin\n"
          ]
        }
      ]
    },
    {
      "cell_type": "markdown",
      "source": [
        "### Exercise 1"
      ],
      "metadata": {
        "id": "ixiJlzNn2RTL"
      }
    },
    {
      "cell_type": "markdown",
      "source": [
        "Combine the following two genomes and then make a protein database using makeblastdb\n",
        "command:\n",
        "\n",
        "\n",
        ">e.coli_K-12_substr_MG1655_protein.faa\n",
        "\n",
        ">r.denitrificans_protein.faa\n",
        "\n",
        "\n",
        "Then use blast to search against the database for query sequences in seqs.fas. Report the number of\n",
        "real homologous genes for each query sequence, based on the blast output"
      ],
      "metadata": {
        "id": "t4whChC22bxd"
      }
    },
    {
      "cell_type": "code",
      "source": [
        "# copying the pre-downloaded database\n",
        "!cp \"/content/drive/MyDrive/Colab Notebooks/5030/L4\" . -r"
      ],
      "metadata": {
        "id": "oj31ogjKyvv6"
      },
      "execution_count": 3,
      "outputs": []
    },
    {
      "cell_type": "code",
      "source": [
        "!cat \"/content/L4/e.coli_K-12_substr_MG1655_protein.faa\" \"/content/L4/r.denitrificans_protein.faa\" > newdb.faa"
      ],
      "metadata": {
        "id": "xjAMRGvw2vXF"
      },
      "execution_count": 4,
      "outputs": []
    },
    {
      "cell_type": "code",
      "source": [
        "%env PATH=/content/ncbi-blast-2.12.0+/bin"
      ],
      "metadata": {
        "colab": {
          "base_uri": "https://localhost:8080/"
        },
        "outputId": "701dbfb8-ca26-4fa0-affe-31be3b19f9e1",
        "id": "fTSgb5Aw3WjH"
      },
      "execution_count": 5,
      "outputs": [
        {
          "output_type": "stream",
          "name": "stdout",
          "text": [
            "env: PATH=/content/ncbi-blast-2.12.0+/bin\n"
          ]
        }
      ]
    },
    {
      "cell_type": "code",
      "source": [
        "!makeblastdb -in newdb.faa -out db/mydb -dbtype prot -parse_seqids"
      ],
      "metadata": {
        "id": "OKtUK3lC3UFE",
        "colab": {
          "base_uri": "https://localhost:8080/"
        },
        "outputId": "63e7955a-257b-41f4-bd5e-1fcb1fb2b7cb"
      },
      "execution_count": 7,
      "outputs": [
        {
          "output_type": "stream",
          "name": "stdout",
          "text": [
            "\n",
            "\n",
            "Building a new DB, current time: 02/22/2022 08:30:05\n",
            "New DB name:   /content/db/mydb\n",
            "New DB title:  newdb.faa\n",
            "Sequence type: Protein\n",
            "Keep MBits: T\n",
            "Maximum file size: 1000000000B\n",
            "Adding sequences from FASTA; added 8135 sequences in 0.295143 seconds.\n",
            "\n",
            "\n"
          ]
        }
      ]
    },
    {
      "cell_type": "code",
      "source": [
        "!blastx -db db/mydb -query \"/content/L4/seqs.fas\" -out ex1.txt"
      ],
      "metadata": {
        "id": "2KmHvNv83jWx"
      },
      "execution_count": 8,
      "outputs": []
    },
    {
      "cell_type": "markdown",
      "source": [
        "BLASTX 2.12.0+\n",
        "\n",
        "\n",
        "Reference: Stephen F. Altschul, Thomas L. Madden, Alejandro A.\n",
        "Schaffer, Jinghui Zhang, Zheng Zhang, Webb Miller, and David J.\n",
        "Lipman (1997), \"Gapped BLAST and PSI-BLAST: a new generation of\n",
        "protein database search programs\", Nucleic Acids Res. 25:3389-3402.\n",
        "\n",
        "\n",
        "\n",
        "Database: newdb.faa\n",
        "           8,135 sequences; 2,598,789 total letters\n",
        "\n",
        "\n",
        "\n",
        "Query= NC_000913.3:49823-50302 folA  Escherichia coli str. K-12 substr.\n",
        "MG1655, complete genome\n",
        "\n",
        "Length=480\n",
        "                                                                      Score     E\n",
        "Sequences producing significant alignments:                          (Bits)  Value\n",
        "\n",
        "NP_414590.1 dihydrofolate reductase [Escherichia coli str. K-12 s...  333     5e-120\n",
        "WP_011568103.1 dihydrofolate reductase [Roseobacter denitrificans]    95.1    4e-26 \n",
        "NP_417794.1 bifunctional prepilin leader peptidase/ methylase [Es...  29.6    0.16  \n",
        "NP_416077.4 Qin prophage; putative antitermination protein Q [Esc...  28.1    0.58  \n",
        "WP_011570239.1 hemin import ATP-binding protein HmuV [Roseobacter...  27.3    0.94  \n",
        "NP_415740.1 sensory histidine kinase in two-component regulatory ...  26.6    1.8   \n",
        "WP_011569939.1 FAD-binding oxidoreductase [Roseobacter denitrific...  26.2    2.5   \n",
        "NP_415497.1 cytochrome bd-II oxidase, subunit I [Escherichia coli...  26.2    2.6   \n",
        "WP_085978967.1 acetyltransferase [Roseobacter denitrificans]          25.4    4.7   \n",
        "NP_414763.1 RAYT REP element-mobilizing transposase; TnpA(REP) [E...  24.6    5.8   \n",
        "WP_011568820.1 ornithine-acyl-ACP acyltransferase [Roseobacter de...  25.0    6.2   \n",
        "NP_416967.1 N-succinyl-diaminopimelate deacylase [Escherichia col...  25.0    6.9   \n",
        "WP_011568957.1 acetolactate synthase small subunit [Roseobacter d...  24.6    7.1   \n",
        "WP_011568480.1 chromate transporter [Roseobacter denitrificans]       24.6    7.6   \n"
      ],
      "metadata": {
        "id": "D730glCakk_Y"
      }
    },
    {
      "cell_type": "markdown",
      "source": [
        "### Exercise 2"
      ],
      "metadata": {
        "id": "dLVPoJ8OBCWp"
      }
    },
    {
      "cell_type": "code",
      "source": [
        "# back to normal\n",
        "%env PATH=/bin"
      ],
      "metadata": {
        "colab": {
          "base_uri": "https://localhost:8080/"
        },
        "outputId": "be615dd8-1e6f-4e4e-c5e4-a81f9ebd5e9d",
        "id": "vDHXZt91E6DL"
      },
      "execution_count": null,
      "outputs": [
        {
          "output_type": "stream",
          "name": "stdout",
          "text": [
            "env: PATH=/bin\n"
          ]
        }
      ]
    },
    {
      "cell_type": "code",
      "source": [
        "!wget \"http://sgd-archive.yeastgenome.org/sequence/S288C_reference/orf_protein/orf_trans.fasta.gz\""
      ],
      "metadata": {
        "colab": {
          "base_uri": "https://localhost:8080/"
        },
        "id": "Fr36ye-6BE1Q",
        "outputId": "c2170e6d-4f21-44dc-fca7-0becff556c52"
      },
      "execution_count": null,
      "outputs": [
        {
          "output_type": "stream",
          "name": "stdout",
          "text": [
            "--2022-02-16 10:22:19--  http://sgd-archive.yeastgenome.org/sequence/S288C_reference/orf_protein/orf_trans.fasta.gz\n",
            "Resolving sgd-archive.yeastgenome.org (sgd-archive.yeastgenome.org)... 52.92.165.19\n",
            "Connecting to sgd-archive.yeastgenome.org (sgd-archive.yeastgenome.org)|52.92.165.19|:80... connected.\n",
            "HTTP request sent, awaiting response... 200 OK\n",
            "Length: 2580699 (2.5M) [application/x-gzip]\n",
            "Saving to: ‘orf_trans.fasta.gz’\n",
            "\n",
            "orf_trans.fasta.gz  100%[===================>]   2.46M  2.62MB/s    in 0.9s    \n",
            "\n",
            "2022-02-16 10:22:20 (2.62 MB/s) - ‘orf_trans.fasta.gz’ saved [2580699/2580699]\n",
            "\n"
          ]
        }
      ]
    },
    {
      "cell_type": "code",
      "source": [
        "!gzip -d orf_trans.fasta.gz"
      ],
      "metadata": {
        "id": "tvH5-XdIE8bP"
      },
      "execution_count": null,
      "outputs": []
    },
    {
      "cell_type": "code",
      "source": [
        "# need to do this before use\n",
        "%env PATH=/content/ncbi-blast-2.12.0+/bin"
      ],
      "metadata": {
        "colab": {
          "base_uri": "https://localhost:8080/"
        },
        "id": "iepPnbaqFHr9",
        "outputId": "94016cd9-5a31-41d6-e84a-4c1b8d33c780"
      },
      "execution_count": null,
      "outputs": [
        {
          "output_type": "stream",
          "name": "stdout",
          "text": [
            "env: PATH=/content/ncbi-blast-2.12.0+/bin\n"
          ]
        }
      ]
    },
    {
      "cell_type": "code",
      "source": [
        "!makeblastdb -in orf_trans.fasta -out db/ex2db -dbtype prot -parse_seqids"
      ],
      "metadata": {
        "colab": {
          "base_uri": "https://localhost:8080/"
        },
        "id": "VyZzpq7MFFBo",
        "outputId": "53f46aee-fd3a-4ddb-c562-d38ef87736d0"
      },
      "execution_count": null,
      "outputs": [
        {
          "output_type": "stream",
          "name": "stdout",
          "text": [
            "\n",
            "\n",
            "Building a new DB, current time: 02/16/2022 10:31:05\n",
            "New DB name:   /content/db/ex2db\n",
            "New DB title:  orf_trans.fasta\n",
            "Sequence type: Protein\n",
            "Keep MBits: T\n",
            "Maximum file size: 1000000000B\n",
            "Adding sequences from FASTA; added 6034 sequences in 0.290888 seconds.\n",
            "\n",
            "\n"
          ]
        }
      ]
    },
    {
      "cell_type": "code",
      "source": [
        "!makeblastdb -in newdb.faa -out db/ex1db -dbtype prot -parse_seqids"
      ],
      "metadata": {
        "colab": {
          "base_uri": "https://localhost:8080/"
        },
        "id": "zKJnU1jGFi0o",
        "outputId": "26f2f794-8ed1-4a1c-9865-0b4c83725245"
      },
      "execution_count": null,
      "outputs": [
        {
          "output_type": "stream",
          "name": "stdout",
          "text": [
            "\n",
            "\n",
            "Building a new DB, current time: 02/16/2022 10:31:35\n",
            "New DB name:   /content/db/ex1db\n",
            "New DB title:  newdb.faa\n",
            "Sequence type: Protein\n",
            "Keep MBits: T\n",
            "Maximum file size: 1000000000B\n",
            "Adding sequences from FASTA; added 8135 sequences in 0.292017 seconds.\n",
            "\n",
            "\n"
          ]
        }
      ]
    },
    {
      "cell_type": "code",
      "source": [
        "!blastp -db db/ex1db -query orf_trans.fasta -out ex2.txt"
      ],
      "metadata": {
        "id": "0I6t6Al7FmsW"
      },
      "execution_count": null,
      "outputs": []
    },
    {
      "cell_type": "code",
      "source": [
        "%env PATH=/bin\n",
        "!cp ex2.txt \"/content/drive/MyDrive/Colab Notebooks/5030/L4_ex2.txt\""
      ],
      "metadata": {
        "colab": {
          "base_uri": "https://localhost:8080/"
        },
        "id": "xR0Ts0NKHZ1Z",
        "outputId": "babe27ac-4060-47cb-998a-cd56b14208ff"
      },
      "execution_count": null,
      "outputs": [
        {
          "output_type": "stream",
          "name": "stdout",
          "text": [
            "env: PATH=/bin\n"
          ]
        }
      ]
    }
  ]
}