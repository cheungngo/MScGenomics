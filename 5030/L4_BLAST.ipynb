{
  "nbformat": 4,
  "nbformat_minor": 0,
  "metadata": {
    "colab": {
      "name": "L4_BLAST.ipynb",
      "provenance": [],
      "collapsed_sections": [],
      "mount_file_id": "1MECGcfsz2dpDRyWgC6NCaTwD_zpFlw6y",
      "authorship_tag": "ABX9TyM87d56FoetWXTnfrEY4oMq",
      "include_colab_link": true
    },
    "kernelspec": {
      "name": "python3",
      "display_name": "Python 3"
    },
    "language_info": {
      "name": "python"
    }
  },
  "cells": [
    {
      "cell_type": "markdown",
      "metadata": {
        "id": "view-in-github",
        "colab_type": "text"
      },
      "source": [
        "<a href=\"https://colab.research.google.com/github/cheungngo/MScGenomics/blob/master/5030/L4_BLAST.ipynb\" target=\"_parent\"><img src=\"https://colab.research.google.com/assets/colab-badge.svg\" alt=\"Open In Colab\"/></a>"
      ]
    },
    {
      "cell_type": "markdown",
      "source": [
        "# L4: BLAST"
      ],
      "metadata": {
        "id": "YmBXjWb42KZF"
      }
    },
    {
      "cell_type": "markdown",
      "source": [
        "## Downloading the software"
      ],
      "metadata": {
        "id": "oCPPM661tUDN"
      }
    },
    {
      "cell_type": "code",
      "source": [
        "!wget \"https://ftp.ncbi.nlm.nih.gov/blast/executables/blast+/LATEST/ncbi-blast-2.12.0+-x64-linux.tar.gz\" -O blast.tar.gz"
      ],
      "metadata": {
        "colab": {
          "base_uri": "https://localhost:8080/"
        },
        "id": "9Xe6V4P4uKUu",
        "outputId": "2a7f7b0c-9f83-49d7-e90b-c1234cc614ed"
      },
      "execution_count": 1,
      "outputs": [
        {
          "output_type": "stream",
          "name": "stdout",
          "text": [
            "--2022-02-22 16:31:43--  https://ftp.ncbi.nlm.nih.gov/blast/executables/blast+/LATEST/ncbi-blast-2.12.0+-x64-linux.tar.gz\n",
            "Resolving ftp.ncbi.nlm.nih.gov (ftp.ncbi.nlm.nih.gov)... 165.112.9.229, 165.112.9.230, 2607:f220:41e:250::11, ...\n",
            "Connecting to ftp.ncbi.nlm.nih.gov (ftp.ncbi.nlm.nih.gov)|165.112.9.229|:443... connected.\n",
            "HTTP request sent, awaiting response... 200 OK\n",
            "Length: 247307631 (236M) [application/x-gzip]\n",
            "Saving to: ‘blast.tar.gz’\n",
            "\n",
            "blast.tar.gz        100%[===================>] 235.85M  34.9MB/s    in 7.4s    \n",
            "\n",
            "2022-02-22 16:31:51 (32.0 MB/s) - ‘blast.tar.gz’ saved [247307631/247307631]\n",
            "\n"
          ]
        }
      ]
    },
    {
      "cell_type": "code",
      "execution_count": 2,
      "metadata": {
        "id": "lGDUykwlrjLp"
      },
      "outputs": [],
      "source": [
        "!gzip -d blast.tar.gz\n",
        "!tar -xf blast.tar"
      ]
    },
    {
      "cell_type": "code",
      "source": [
        "!cp \"/content/ncbi-blast-2.12.0+/bin\" ../ -r # here we installed the program"
      ],
      "metadata": {
        "id": "eNvxneiLReqp"
      },
      "execution_count": 6,
      "outputs": []
    },
    {
      "cell_type": "markdown",
      "source": [
        "### Exercise 1"
      ],
      "metadata": {
        "id": "ixiJlzNn2RTL"
      }
    },
    {
      "cell_type": "markdown",
      "source": [
        "Combine the following two genomes and then make a protein database using makeblastdb\n",
        "command:\n",
        "\n",
        "\n",
        ">e.coli_K-12_substr_MG1655_protein.faa\n",
        "\n",
        ">r.denitrificans_protein.faa\n",
        "\n",
        "\n",
        "Then use blast to search against the database for query sequences in seqs.fas. Report the number of\n",
        "real homologous genes for each query sequence, based on the blast output"
      ],
      "metadata": {
        "id": "t4whChC22bxd"
      }
    },
    {
      "cell_type": "code",
      "source": [
        "# copying the pre-downloaded database\n",
        "!cp \"/content/drive/MyDrive/Colab Notebooks/5030/L4\" . -r"
      ],
      "metadata": {
        "id": "oj31ogjKyvv6"
      },
      "execution_count": 8,
      "outputs": []
    },
    {
      "cell_type": "code",
      "source": [
        "!cat \"/content/L4/e.coli_K-12_substr_MG1655_protein.faa\" \"/content/L4/r.denitrificans_protein.faa\" > newdb.faa"
      ],
      "metadata": {
        "id": "xjAMRGvw2vXF"
      },
      "execution_count": 9,
      "outputs": []
    },
    {
      "cell_type": "code",
      "source": [
        "!makeblastdb -in newdb.faa -out db/mydb -dbtype prot -parse_seqids"
      ],
      "metadata": {
        "id": "OKtUK3lC3UFE",
        "colab": {
          "base_uri": "https://localhost:8080/"
        },
        "outputId": "6c697ee9-f64a-4b84-88fa-ea97c1d362b2"
      },
      "execution_count": 10,
      "outputs": [
        {
          "output_type": "stream",
          "name": "stdout",
          "text": [
            "\n",
            "\n",
            "Building a new DB, current time: 02/22/2022 16:34:55\n",
            "New DB name:   /content/db/mydb\n",
            "New DB title:  newdb.faa\n",
            "Sequence type: Protein\n",
            "Keep MBits: T\n",
            "Maximum file size: 1000000000B\n",
            "Adding sequences from FASTA; added 8135 sequences in 0.283479 seconds.\n",
            "\n",
            "\n"
          ]
        }
      ]
    },
    {
      "cell_type": "code",
      "source": [
        "!blastx -db db/mydb -query \"/content/L4/seqs.fas\" -out ex1.txt"
      ],
      "metadata": {
        "id": "2KmHvNv83jWx"
      },
      "execution_count": 11,
      "outputs": []
    },
    {
      "cell_type": "markdown",
      "source": [
        "BLASTX 2.12.0+\n",
        "\n",
        "\n",
        "Reference: Stephen F. Altschul, Thomas L. Madden, Alejandro A.\n",
        "Schaffer, Jinghui Zhang, Zheng Zhang, Webb Miller, and David J.\n",
        "Lipman (1997), \"Gapped BLAST and PSI-BLAST: a new generation of\n",
        "protein database search programs\", Nucleic Acids Res. 25:3389-3402.\n",
        "\n",
        "\n",
        "\n",
        "Database: newdb.faa\n",
        "           8,135 sequences; 2,598,789 total letters\n",
        "\n",
        "\n",
        "\n",
        "Query= NC_000913.3:49823-50302 folA  Escherichia coli str. K-12 substr.\n",
        "MG1655, complete genome\n",
        "\n",
        "Length=480\n",
        "                                                                      Score     E\n",
        "Sequences producing significant alignments:                          (Bits)  Value\n",
        "\n",
        "NP_414590.1 dihydrofolate reductase [Escherichia coli str. K-12 s...  333     5e-120\n",
        "WP_011568103.1 dihydrofolate reductase [Roseobacter denitrificans]    95.1    4e-26 \n",
        "NP_417794.1 bifunctional prepilin leader peptidase/ methylase [Es...  29.6    0.16  \n",
        "NP_416077.4 Qin prophage; putative antitermination protein Q [Esc...  28.1    0.58  \n",
        "WP_011570239.1 hemin import ATP-binding protein HmuV [Roseobacter...  27.3    0.94  \n",
        "NP_415740.1 sensory histidine kinase in two-component regulatory ...  26.6    1.8   \n",
        "WP_011569939.1 FAD-binding oxidoreductase [Roseobacter denitrific...  26.2    2.5   \n",
        "NP_415497.1 cytochrome bd-II oxidase, subunit I [Escherichia coli...  26.2    2.6   \n",
        "WP_085978967.1 acetyltransferase [Roseobacter denitrificans]          25.4    4.7   \n",
        "NP_414763.1 RAYT REP element-mobilizing transposase; TnpA(REP) [E...  24.6    5.8   \n",
        "WP_011568820.1 ornithine-acyl-ACP acyltransferase [Roseobacter de...  25.0    6.2   \n",
        "NP_416967.1 N-succinyl-diaminopimelate deacylase [Escherichia col...  25.0    6.9   \n",
        "WP_011568957.1 acetolactate synthase small subunit [Roseobacter d...  24.6    7.1   \n",
        "WP_011568480.1 chromate transporter [Roseobacter denitrificans]       24.6    7.6   \n"
      ],
      "metadata": {
        "id": "D730glCakk_Y"
      }
    },
    {
      "cell_type": "markdown",
      "source": [
        "### Exercise 2"
      ],
      "metadata": {
        "id": "dLVPoJ8OBCWp"
      }
    },
    {
      "cell_type": "code",
      "source": [
        "!wget \"http://sgd-archive.yeastgenome.org/sequence/S288C_reference/orf_protein/orf_trans.fasta.gz\""
      ],
      "metadata": {
        "colab": {
          "base_uri": "https://localhost:8080/"
        },
        "id": "Fr36ye-6BE1Q",
        "outputId": "c2170e6d-4f21-44dc-fca7-0becff556c52"
      },
      "execution_count": null,
      "outputs": [
        {
          "output_type": "stream",
          "name": "stdout",
          "text": [
            "--2022-02-16 10:22:19--  http://sgd-archive.yeastgenome.org/sequence/S288C_reference/orf_protein/orf_trans.fasta.gz\n",
            "Resolving sgd-archive.yeastgenome.org (sgd-archive.yeastgenome.org)... 52.92.165.19\n",
            "Connecting to sgd-archive.yeastgenome.org (sgd-archive.yeastgenome.org)|52.92.165.19|:80... connected.\n",
            "HTTP request sent, awaiting response... 200 OK\n",
            "Length: 2580699 (2.5M) [application/x-gzip]\n",
            "Saving to: ‘orf_trans.fasta.gz’\n",
            "\n",
            "orf_trans.fasta.gz  100%[===================>]   2.46M  2.62MB/s    in 0.9s    \n",
            "\n",
            "2022-02-16 10:22:20 (2.62 MB/s) - ‘orf_trans.fasta.gz’ saved [2580699/2580699]\n",
            "\n"
          ]
        }
      ]
    },
    {
      "cell_type": "code",
      "source": [
        "!gzip -d orf_trans.fasta.gz"
      ],
      "metadata": {
        "id": "tvH5-XdIE8bP"
      },
      "execution_count": null,
      "outputs": []
    },
    {
      "cell_type": "code",
      "source": [
        "!makeblastdb -in orf_trans.fasta -out db/ex2db -dbtype prot -parse_seqids"
      ],
      "metadata": {
        "colab": {
          "base_uri": "https://localhost:8080/"
        },
        "id": "VyZzpq7MFFBo",
        "outputId": "53f46aee-fd3a-4ddb-c562-d38ef87736d0"
      },
      "execution_count": null,
      "outputs": [
        {
          "output_type": "stream",
          "name": "stdout",
          "text": [
            "\n",
            "\n",
            "Building a new DB, current time: 02/16/2022 10:31:05\n",
            "New DB name:   /content/db/ex2db\n",
            "New DB title:  orf_trans.fasta\n",
            "Sequence type: Protein\n",
            "Keep MBits: T\n",
            "Maximum file size: 1000000000B\n",
            "Adding sequences from FASTA; added 6034 sequences in 0.290888 seconds.\n",
            "\n",
            "\n"
          ]
        }
      ]
    },
    {
      "cell_type": "code",
      "source": [
        "!makeblastdb -in newdb.faa -out db/ex1db -dbtype prot -parse_seqids"
      ],
      "metadata": {
        "colab": {
          "base_uri": "https://localhost:8080/"
        },
        "id": "zKJnU1jGFi0o",
        "outputId": "26f2f794-8ed1-4a1c-9865-0b4c83725245"
      },
      "execution_count": null,
      "outputs": [
        {
          "output_type": "stream",
          "name": "stdout",
          "text": [
            "\n",
            "\n",
            "Building a new DB, current time: 02/16/2022 10:31:35\n",
            "New DB name:   /content/db/ex1db\n",
            "New DB title:  newdb.faa\n",
            "Sequence type: Protein\n",
            "Keep MBits: T\n",
            "Maximum file size: 1000000000B\n",
            "Adding sequences from FASTA; added 8135 sequences in 0.292017 seconds.\n",
            "\n",
            "\n"
          ]
        }
      ]
    },
    {
      "cell_type": "code",
      "source": [
        "!blastp -db db/ex1db -query orf_trans.fasta -out ex2.txt"
      ],
      "metadata": {
        "id": "0I6t6Al7FmsW"
      },
      "execution_count": null,
      "outputs": []
    },
    {
      "cell_type": "code",
      "source": [
        "!cp ex2.txt \"/content/drive/MyDrive/Colab Notebooks/5030/L4_ex2.txt\""
      ],
      "metadata": {
        "id": "xR0Ts0NKHZ1Z"
      },
      "execution_count": null,
      "outputs": []
    }
  ]
}