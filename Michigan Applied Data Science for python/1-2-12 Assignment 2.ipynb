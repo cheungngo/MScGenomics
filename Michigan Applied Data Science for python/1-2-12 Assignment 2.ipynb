{
 "cells": [
  {
   "cell_type": "markdown",
   "metadata": {
    "collapsed": false
   },
   "source": [
    "# Course 1 Week 2 Assignment 2"
   ]
  },
  {
   "cell_type": "markdown",
   "metadata": {
    "collapsed": false
   },
   "source": [
    "## Question 1:"
   ]
  },
  {
   "cell_type": "markdown",
   "metadata": {
    "collapsed": false
   },
   "source": [
    "Write a function called proportion_of_education which returns the proportion of children in the dataset who had a mother with the education levels equal to less than high school (<12), high school (12), more than high school but not a college graduate (>12) and college degree.\n",
    "\n",
    "> This function should return a dictionary in the form of (use the correct numbers, do not round numbers):"
   ]
  },
  {
   "cell_type": "markdown",
   "metadata": {
    "collapsed": false
   },
   "source": [
    ">>> {\"less than high school\":0.2,\n",
    "     \n",
    ">>> \"high school\":0.4,\n",
    "     \n",
    ">>> \"more than high school but not college\":0.2,\n",
    "     \n",
    ">>> \"college\":0.2}"
   ]
  },
  {
   "cell_type": "code",
   "execution_count": 1,
   "metadata": {
    "collapsed": false
   },
   "outputs": [
   ],
   "source": [
    "import pandas as pd"
   ]
  },
  {
   "cell_type": "code",
   "execution_count": 30,
   "metadata": {
    "collapsed": false
   },
   "outputs": [
   ],
   "source": [
    "df = pd.read_csv(\"C1W2/NISPUF17.csv\")"
   ]
  },
  {
   "cell_type": "code",
   "execution_count": 7,
   "metadata": {
    "collapsed": false
   },
   "outputs": [
    {
     "data": {
      "text/plain": [
       "array([4, 3, 1, 2])"
      ]
     },
     "execution_count": 7,
     "metadata": {
     },
     "output_type": "execute_result"
    }
   ],
   "source": [
    "df[\"EDUC1\"].unique()"
   ]
  },
  {
   "cell_type": "code",
   "execution_count": 26,
   "metadata": {
    "collapsed": false
   },
   "outputs": [
   ],
   "source": [
    "def proportion_of_education(df):\n",
    "    \n",
    "    educ1 = df[\"EDUC1\"]\n",
    "    dc = dict()\n",
    "    for k in range(1,5,1):\n",
    "        dc[k] = 0\n",
    "    \n",
    "    for i in educ1:\n",
    "        dc[i] += 1\n",
    "        \n",
    "    dc2 = {\"less than high school\" : dc[1] / len(educ1),\n",
    "          \"high school\" : dc[2] / len(educ1),\n",
    "          \"more than high school but not college\" : dc[3] / len(educ1),\n",
    "          \"college\" : dc[4] / len(educ1)}\n",
    "    \n",
    "    return dc2"
   ]
  },
  {
   "cell_type": "code",
   "execution_count": 27,
   "metadata": {
    "collapsed": false
   },
   "outputs": [
   ],
   "source": [
    "dc = proportion_of_education(df)"
   ]
  },
  {
   "cell_type": "code",
   "execution_count": 28,
   "metadata": {
    "collapsed": false
   },
   "outputs": [
    {
     "data": {
      "text/plain": [
       "{'less than high school': 0.10202002459160373,\n",
       " 'high school': 0.172352011241876,\n",
       " 'more than high school but not college': 0.24588090637625154,\n",
       " 'college': 0.47974705779026877}"
      ]
     },
     "execution_count": 28,
     "metadata": {
     },
     "output_type": "execute_result"
    }
   ],
   "source": [
    "dc"
   ]
  },
  {
   "cell_type": "markdown",
   "metadata": {
    "collapsed": false
   },
   "source": [
    "## Question 2:"
   ]
  },
  {
   "cell_type": "markdown",
   "metadata": {
    "collapsed": false
   },
   "source": [
    "Let's explore the relationship between being fed breastmilk as a child and getting a seasonal influenza vaccine from a healthcare provider. Return a tuple of the average number of influenza vaccines for those children we know received breastmilk as a child and those who know did not.\n",
    "\n",
    "This function should return a tuple in the form (use the correct numbers:\n",
    "\n",
    "                                                 \n",
    ">>>> (2.5, 0.1)"
   ]
  },
  {
   "cell_type": "code",
   "execution_count": 38,
   "metadata": {
    "collapsed": false
   },
   "outputs": [
   ],
   "source": [
    "import numpy as np"
   ]
  },
  {
   "cell_type": "code",
   "execution_count": 45,
   "metadata": {
    "collapsed": false
   },
   "outputs": [
   ],
   "source": [
    "def average_influenza_doses(df):\n",
    "    \n",
    "    bf = df[\"CBF_01\"]\n",
    "    vac = np.array(df[\"P_NUMFLU\"])\n",
    "    \n",
    "    vac_bf1 = vac[bf==1]\n",
    "    vac_bf2 = vac[bf==2]\n",
    "    \n",
    "    return(np.nanmean(vac_bf1), np.nanmean(vac_bf2))"
   ]
  },
  {
   "cell_type": "code",
   "execution_count": 46,
   "metadata": {
    "collapsed": false
   },
   "outputs": [
    {
     "data": {
      "text/plain": [
       "(1.8799187420058687, 1.5963945918878317)"
      ]
     },
     "execution_count": 46,
     "metadata": {
     },
     "output_type": "execute_result"
    }
   ],
   "source": [
    "average_influenza_doses(df)"
   ]
  },
  {
   "cell_type": "markdown",
   "metadata": {
    "collapsed": false
   },
   "source": [
    "## Question 3:"
   ]
  },
  {
   "cell_type": "markdown",
   "metadata": {
    "collapsed": false
   },
   "source": [
    "It would be interesting to see if there is any evidence of a link between vaccine effectiveness and sex of the child. Calculate the ratio of the number of children who contracted chickenpox but were vaccinated against it (at least one varicella dose) versus those who were vaccinated but did not contract chicken pox. Return results by sex.\n",
    "\n",
    "This function should return a dictionary in the form of (use the correct numbers):\n",
    ">>>  {\"male\":0.2,\n",
    ">>>  \"female\":0.4}\n",
    "\n",
    "Note: To aid in verification, the chickenpox_by_sex()['female'] value the autograder is looking for starts with the digits 0.0077."
   ]
  },
  {
   "cell_type": "code",
   "execution_count": 64,
   "metadata": {
    "collapsed": false
   },
   "outputs": [
   ],
   "source": [
    "def chickenpox_by_sex(df):\n",
    "    \n",
    "    sex = df[\"SEX\"]\n",
    "    pox = df[\"HAD_CPOX\"]\n",
    "    vrc = df[\"P_NUMVRC\"]\n",
    "    mask_male_nom = (sex == 1) & (pox == 1) & (vrc > 0)\n",
    "    mask_female_nom = (sex == 2) & (pox == 1) & (vrc > 0)\n",
    "    mask_male_denom = (sex == 1) & (pox == 2) & (vrc > 0)\n",
    "    mask_female_denom = (sex == 2) & (pox == 2) & (vrc > 0)\n",
    "    \n",
    "    return{\"male\" : (sum(mask_male_nom)/sum(mask_male_denom)),\n",
    "          \"female\" : (sum(mask_female_nom)/sum(mask_female_denom))}"
   ]
  },
  {
   "cell_type": "code",
   "execution_count": 65,
   "metadata": {
    "collapsed": false
   },
   "outputs": [
    {
     "data": {
      "text/plain": [
       "{'male': 0.009675583380762664, 'female': 0.0077918259335489565}"
      ]
     },
     "execution_count": 65,
     "metadata": {
     },
     "output_type": "execute_result"
    }
   ],
   "source": [
    "chickenpox_by_sex(df)"
   ]
  },
  {
   "cell_type": "markdown",
   "metadata": {
    "collapsed": false
   },
   "source": [
    "## Question 4:"
   ]
  },
  {
   "cell_type": "markdown",
   "metadata": {
    "collapsed": false
   },
   "source": [
    "A correlation is a statistical relationship between two variables. If we wanted to know if vaccines work, we might look at the correlation between the use of the vaccine and whether it results in prevention of the infection or disease [1]. In this question, you are to see if there is a correlation between having had the chicken pox and the number of chickenpox vaccine doses given (varicella).\n",
    "\n",
    "Some notes on interpreting the answer. If the had_chickenpox_column is either 1 (for yes) or 2 for no, and that the num_chickenpox_vaccine_column is the number of doses a child has been given of the varicella vaccine, then a positive correlation (e.g. corr > 0) would mean that an increase in had_chickenpox_column (which means more no's) would mean an increase in the num_chickenpox_vaccine_column (which means more doses of vaccine). If corr < 0 then there is a negative correlation, indicating that having had chickenpox is related to an increase in the number of vaccine doses. Also, pval refers to the probability the relationship observed is significant. In this case pval should be very very small (will end in e-18 indicating a very small number), which means the result unlikely to be by chance.\n",
    "\n",
    "[1] This isn't really the full picture, since we are not looking at when the dose was given. It's possible that children had chickenpox and then their parents went to get them the vaccine. Does this dataset have the data we would need to investigate the timing of the dose?"
   ]
  },
  {
   "cell_type": "code",
   "execution_count": 69,
   "metadata": {
    "collapsed": false
   },
   "outputs": [
   ],
   "source": [
    "def corr_chickenpox(df):\n",
    "    \n",
    "    pox = df[\"HAD_CPOX\"]\n",
    "    vrc = df[\"P_NUMVRC\"]\n",
    "    \n",
    "    pox.replace(77,2)\n",
    "    pox.replace(99,2)\n",
    "    vrc.fillna(0)\n",
    "    \n",
    "    return vrc.corr(pox)"
   ]
  },
  {
   "cell_type": "code",
   "execution_count": 70,
   "metadata": {
    "collapsed": false
   },
   "outputs": [
    {
     "data": {
      "text/plain": [
       "0.0034753171515293666"
      ]
     },
     "execution_count": 70,
     "metadata": {
     },
     "output_type": "execute_result"
    }
   ],
   "source": [
    "corr_chickenpox(df)"
   ]
  },
  {
   "cell_type": "code",
   "execution_count": 0,
   "metadata": {
    "collapsed": false
   },
   "outputs": [
   ],
   "source": [
   ]
  }
 ],
 "metadata": {
  "kernelspec": {
   "display_name": "Python 3 (system-wide)",
   "language": "python",
   "metadata": {
    "cocalc": {
     "description": "Python 3 programming language",
     "priority": 100,
     "url": "https://www.python.org/"
    }
   },
   "name": "python3",
   "resource_dir": "/ext/jupyter/kernels/python3"
  },
  "language_info": {
   "codemirror_mode": {
    "name": "ipython",
    "version": 3
   },
   "file_extension": ".py",
   "mimetype": "text/x-python",
   "name": "python",
   "nbconvert_exporter": "python",
   "pygments_lexer": "ipython3",
   "version": "3.8.10"
  }
 },
 "nbformat": 4,
 "nbformat_minor": 4
}