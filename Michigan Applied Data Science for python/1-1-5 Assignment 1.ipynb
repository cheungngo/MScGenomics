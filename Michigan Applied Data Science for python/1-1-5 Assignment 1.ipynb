{
 "cells": [
  {
   "cell_type": "markdown",
   "metadata": {
    "collapsed": false
   },
   "source": [
    "# Course 1 Week 1 Assignment 1"
   ]
  },
  {
   "cell_type": "markdown",
   "metadata": {
    "collapsed": false
   },
   "source": [
    "## Part A: Find a list of all of the names in the following string using regex."
   ]
  },
  {
   "cell_type": "code",
   "execution_count": 40,
   "metadata": {
    "collapsed": false
   },
   "outputs": [
   ],
   "source": [
    "import re"
   ]
  },
  {
   "cell_type": "code",
   "execution_count": 1,
   "metadata": {
    "collapsed": false
   },
   "outputs": [
   ],
   "source": [
    "simple_string = \"\"\"Amy is 5 years old, and her sister Mary is 2 years old. Ruth and Peter, their parents, have 3 kids.\"\"\""
   ]
  },
  {
   "cell_type": "code",
   "execution_count": 3,
   "metadata": {
    "collapsed": false
   },
   "outputs": [
    {
     "data": {
      "text/plain": [
       "['Amy', 'Mary', 'Ruth', 'Peter']"
      ]
     },
     "execution_count": 3,
     "metadata": {
     },
     "output_type": "execute_result"
    }
   ],
   "source": [
    "re.findall(\"[A-Z][a-z]+\", simple_string)\n",
    "# \"+\": for one or more"
   ]
  },
  {
   "cell_type": "markdown",
   "metadata": {
    "collapsed": false
   },
   "source": [
    "## Part B: The dataset file contains a line separated list of people with their grade in a class. Create a regex to generate a list of just those students who received a B in the course."
   ]
  },
  {
   "cell_type": "code",
   "execution_count": 131,
   "metadata": {
    "collapsed": false
   },
   "outputs": [
    {
     "name": "stdout",
     "output_type": "stream",
     "text": [
      "['Bell Kassulke', 'Simon Loidl', 'Elias Jovanovic', 'Hakim Botros', 'Emilie Lorentsen', 'Jake Wood', 'Fatemeh Akhtar', 'Kim Weston', 'Yasmin Dar', 'Viswamitra Upandhye', 'Killian Kaufman', 'Elwood Page', 'Elodie Booker', 'Adnan Chen', 'Hank Spinka', 'Hannah Bayer']\n",
      "16\n"
     ]
    }
   ],
   "source": [
    "# The usual way\n",
    "\n",
    "import io\n",
    "\n",
    "ls_B = list()\n",
    "no = sum(1 for i in io.open(\"C1W1/A1Q2.txt\"))\n",
    "with io.open(\"C1W1/A1Q2.txt\") as fh:\n",
    "    for i in range(no):\n",
    "        ln = fh.readline().strip().split(\": \")\n",
    "        try:\n",
    "            if ln[1] == \"B\":\n",
    "                ls_B.append(ln[0])\n",
    "        except:\n",
    "            print(\"\")\n",
    "\n",
    "print(ls_B)\n",
    "print(len(ls_B))"
   ]
  },
  {
   "cell_type": "markdown",
   "metadata": {
    "collapsed": false
   },
   "source": [
    "##### Try using regex"
   ]
  },
  {
   "cell_type": "code",
   "execution_count": 38,
   "metadata": {
    "collapsed": false
   },
   "outputs": [
    {
     "name": "stdout",
     "output_type": "stream",
     "text": [
      "Ronald Mayr: A\n"
     ]
    }
   ],
   "source": [
    "line = io.open(\"C1W1/A1Q2.txt\").readline().strip()\n",
    "print(line)"
   ]
  },
  {
   "cell_type": "code",
   "execution_count": 51,
   "metadata": {
    "collapsed": false
   },
   "outputs": [
    {
     "data": {
      "text/plain": [
       "['A']"
      ]
     },
     "execution_count": 51,
     "metadata": {
     },
     "output_type": "execute_result"
    }
   ],
   "source": [
    "# finding the grade\n",
    "re.findall(\"(?<=: )[A-Z]\", line)"
   ]
  },
  {
   "cell_type": "code",
   "execution_count": 108,
   "metadata": {
    "collapsed": false
   },
   "outputs": [
    {
     "data": {
      "text/plain": [
       "['Ronald Mayr', '']"
      ]
     },
     "execution_count": 108,
     "metadata": {
     },
     "output_type": "execute_result"
    }
   ],
   "source": [
    "# finding the name\n",
    "re.findall(\"[\\w ]*(?=: )\", line)"
   ]
  },
  {
   "cell_type": "code",
   "execution_count": 129,
   "metadata": {
    "collapsed": false
   },
   "outputs": [
   ],
   "source": [
    "def grades():\n",
    "    \n",
    "    pattern = \"(?<=: )[B]\"\n",
    "    pattern2 = \"[\\w ]*(?=: )\"\n",
    "    Bls = list()\n",
    "    no = sum(1 for i in io.open(\"C1W1/A1Q2.txt\"))\n",
    "    \n",
    "    with open (\"C1W1/A1Q2.txt\", \"r\") as file:\n",
    "        for i in range(no):\n",
    "            line = file.readline()\n",
    "            name = re.findall(pattern2, line)[0]\n",
    "            if re.search(pattern, line):\n",
    "                Bls.append(name)\n",
    "\n",
    "    return(Bls)\n",
    "\n",
    "    raise NotImplementedError()"
   ]
  },
  {
   "cell_type": "code",
   "execution_count": 130,
   "metadata": {
    "collapsed": false
   },
   "outputs": [
    {
     "name": "stdout",
     "output_type": "stream",
     "text": [
      "16\n"
     ]
    }
   ],
   "source": [
    "ls = grades()\n",
    "print(len(ls))"
   ]
  },
  {
   "cell_type": "markdown",
   "metadata": {
    "collapsed": false
   },
   "source": [
    "## Part C: Consider the standard web log file. This file records the access a user makes when visiting a web page (like this one!). Each line of the log has the following items:"
   ]
  },
  {
   "cell_type": "markdown",
   "metadata": {
    "collapsed": false
   },
   "source": [
    "- a host (e.g., '146.204.224.152')\n",
    "- a user_name (e.g., 'feest6811' note: sometimes the user name is missing! In this case, use '-' as the value for the username.)\n",
    "- the time a request was made (e.g., '21/Jun/2019:15:45:24 -0700')\n",
    "- the post request type (e.g., 'POST /incentivize HTTP/1.1' note: not everything is a POST!)"
   ]
  },
  {
   "cell_type": "code",
   "execution_count": 132,
   "metadata": {
    "collapsed": false
   },
   "outputs": [
   ],
   "source": [
    "# Your task is to convert this into a list of dictionaries, where each dictionary looks like the following:\n",
    "    \n",
    "example_dict = {\"host\":\"146.204.224.152\", \n",
    "                \"user_name\":\"feest6811\", \n",
    "                \"time\":\"21/Jun/2019:15:45:24 -0700\",\n",
    "                \"request\":\"POST /incentivize HTTP/1.1\"}"
   ]
  },
  {
   "cell_type": "code",
   "execution_count": 135,
   "metadata": {
    "collapsed": false
   },
   "outputs": [
    {
     "name": "stdout",
     "output_type": "stream",
     "text": [
      "146.204.224.152 - feest6811 [21/Jun/2019:15:45:24 -0700] \"POST /incentivize HTTP/1.1\" 302 4622\n",
      "\n",
      "146.204.224.152 - feest6811 [21/Jun/2019:15:45:24 -0700] \"POST /incentivize HTTP/1.1\" 302 4622\n",
      "\n",
      "146.204.224.152 - feest6811 [21/Jun/2019:15:45:24 -0700] \"POST /incentivize HTTP/1.1\" 302 4622\n",
      "\n",
      "146.204.224.152 - feest6811 [21/Jun/2019:15:45:24 -0700] \"POST /incentivize HTTP/1.1\" 302 4622\n",
      "\n",
      "146.204.224.152 - feest6811 [21/Jun/2019:15:45:24 -0700] \"POST /incentivize HTTP/1.1\" 302 4622\n",
      "\n"
     ]
    }
   ],
   "source": [
    "# printing a line for ref\n",
    "\n",
    "for i in range(5):\n",
    "    print(io.open(\"C1W1/A1Q3.txt\").readline())"
   ]
  },
  {
   "cell_type": "code",
   "execution_count": 173,
   "metadata": {
    "collapsed": false,
    "scrolled": true
   },
   "outputs": [
   ],
   "source": [
    "# The usual way:\n",
    "\n",
    "no = sum(1 for i in io.open(\"C1W1/A1Q3.txt\"))\n",
    "\n",
    "\n",
    "with io.open(\"C1W1/A1Q3.txt\") as fh:\n",
    "\n",
    "    ls = list()\n",
    "    for i in range(no):\n",
    "        dc = dict()\n",
    "        ln = fh.readline().strip().split(\" \")\n",
    "        host = ln[0]\n",
    "        user_name = ln[2]\n",
    "        time = ln[3] + \" \" + ln[4]\n",
    "        time = time[1:len(time)-1]\n",
    "        request = ln[5] + \" \" + ln[6] + \" \" + ln[7]\n",
    "        request = request[1:len(request)-1]\n",
    "        dc[\"host\"] = host\n",
    "        dc[\"user_name\"] = user_name\n",
    "        dc[\"time\"] = time\n",
    "        dc[\"request\"] = request\n",
    "        ls.append(dc)"
   ]
  },
  {
   "cell_type": "code",
   "execution_count": 174,
   "metadata": {
    "collapsed": false,
    "scrolled": true
   },
   "outputs": [
    {
     "data": {
      "text/plain": [
       "979"
      ]
     },
     "execution_count": 174,
     "metadata": {
     },
     "output_type": "execute_result"
    }
   ],
   "source": [
    "len(ls)"
   ]
  },
  {
   "cell_type": "code",
   "execution_count": 175,
   "metadata": {
    "collapsed": false
   },
   "outputs": [
   ],
   "source": [
    "one_item={'host': '146.204.224.152',\n",
    "  'user_name': 'feest6811',\n",
    "  'time': '21/Jun/2019:15:45:24 -0700',\n",
    "  'request': 'POST /incentivize HTTP/1.1'}\n",
    "assert one_item in ls, \"Sorry, this item should be in the log results, check your formating\"\n"
   ]
  },
  {
   "cell_type": "code",
   "execution_count": 176,
   "metadata": {
    "collapsed": false,
    "scrolled": true
   },
   "outputs": [
    {
     "data": {
      "text/plain": [
       "{'host': '146.204.224.152',\n",
       " 'user_name': 'feest6811',\n",
       " 'time': '21/Jun/2019:15:45:24 -0700',\n",
       " 'request': 'POST /incentivize HTTP/1.1'}"
      ]
     },
     "execution_count": 176,
     "metadata": {
     },
     "output_type": "execute_result"
    }
   ],
   "source": [
    "ls[0]"
   ]
  },
  {
   "cell_type": "markdown",
   "metadata": {
    "collapsed": false
   },
   "source": [
    "##### try using regex"
   ]
  },
  {
   "cell_type": "code",
   "execution_count": 177,
   "metadata": {
    "collapsed": false
   },
   "outputs": [
    {
     "name": "stdout",
     "output_type": "stream",
     "text": [
      "146.204.224.152 - feest6811 [21/Jun/2019:15:45:24 -0700] \"POST /incentivize HTTP/1.1\" 302 4622\n",
      "\n",
      "146.204.224.152 - feest6811 [21/Jun/2019:15:45:24 -0700] \"POST /incentivize HTTP/1.1\" 302 4622\n",
      "\n",
      "146.204.224.152 - feest6811 [21/Jun/2019:15:45:24 -0700] \"POST /incentivize HTTP/1.1\" 302 4622\n",
      "\n",
      "146.204.224.152 - feest6811 [21/Jun/2019:15:45:24 -0700] \"POST /incentivize HTTP/1.1\" 302 4622\n",
      "\n",
      "146.204.224.152 - feest6811 [21/Jun/2019:15:45:24 -0700] \"POST /incentivize HTTP/1.1\" 302 4622\n",
      "\n"
     ]
    }
   ],
   "source": [
    "# printing a line for ref\n",
    "\n",
    "for i in range(5):\n",
    "    print(io.open(\"C1W1/A1Q3.txt\").readline())"
   ]
  },
  {
   "cell_type": "code",
   "execution_count": 178,
   "metadata": {
    "collapsed": false
   },
   "outputs": [
   ],
   "source": [
    "line = io.open(\"C1W1/A1Q3.txt\").readline()"
   ]
  },
  {
   "cell_type": "code",
   "execution_count": 210,
   "metadata": {
    "collapsed": false
   },
   "outputs": [
    {
     "data": {
      "text/plain": [
       "'146.204.224.152'"
      ]
     },
     "execution_count": 210,
     "metadata": {
     },
     "output_type": "execute_result"
    }
   ],
   "source": [
    "re.findall(\"[\\d.]*(?= - )\", line)[0]"
   ]
  },
  {
   "cell_type": "code",
   "execution_count": 192,
   "metadata": {
    "collapsed": false
   },
   "outputs": [
    {
     "data": {
      "text/plain": [
       "['feest6811']"
      ]
     },
     "execution_count": 192,
     "metadata": {
     },
     "output_type": "execute_result"
    }
   ],
   "source": [
    "re.findall(\"(?<= - )[\\w]*\", line)"
   ]
  },
  {
   "cell_type": "code",
   "execution_count": 209,
   "metadata": {
    "collapsed": false
   },
   "outputs": [
    {
     "data": {
      "text/plain": [
       "['feest6811']"
      ]
     },
     "execution_count": 209,
     "metadata": {
     },
     "output_type": "execute_result"
    }
   ],
   "source": [
    "re.findall('(?<= - )(.*?)(?=\\s\\[)', line) # this is much better"
   ]
  },
  {
   "cell_type": "code",
   "execution_count": 197,
   "metadata": {
    "collapsed": false
   },
   "outputs": [
    {
     "data": {
      "text/plain": [
       "['21/Jun/2019:15:45:24 -0700']"
      ]
     },
     "execution_count": 197,
     "metadata": {
     },
     "output_type": "execute_result"
    }
   ],
   "source": [
    "re.findall(\"(?<=\\[)(.*?)(?=\\])\", line)"
   ]
  },
  {
   "cell_type": "code",
   "execution_count": 198,
   "metadata": {
    "collapsed": false
   },
   "outputs": [
    {
     "data": {
      "text/plain": [
       "['21/Jun/2019:15:45:24 -0700']"
      ]
     },
     "execution_count": 198,
     "metadata": {
     },
     "output_type": "execute_result"
    }
   ],
   "source": [
    "re.findall(\"\\[(.*?)\\]\", line)"
   ]
  },
  {
   "cell_type": "code",
   "execution_count": 199,
   "metadata": {
    "collapsed": false
   },
   "outputs": [
    {
     "data": {
      "text/plain": [
       "['POST /incentivize HTTP/1.1']"
      ]
     },
     "execution_count": 199,
     "metadata": {
     },
     "output_type": "execute_result"
    }
   ],
   "source": [
    "re.findall('\\\"(.*?)\\\"', line)"
   ]
  },
  {
   "cell_type": "code",
   "execution_count": 214,
   "metadata": {
    "collapsed": false
   },
   "outputs": [
   ],
   "source": [
    "no = sum(1 for i in io.open(\"C1W1/A1Q3.txt\"))\n",
    "\n",
    "with io.open(\"C1W1/A1Q3.txt\") as fh:\n",
    "\n",
    "    ls = list()\n",
    "    \n",
    "    for i in range(no):\n",
    "        dc = dict()\n",
    "        line = fh.readline()\n",
    "        dc[\"host\"] = re.findall(\"[\\d.]*(?= - )\", line)[0]\n",
    "        dc[\"user_name\"] = re.findall('(?<= - )(.*?)(?=\\s\\[)', line)[0]\n",
    "        dc[\"time\"] = re.findall(\"(?<=\\[)(.*?)(?=\\])\", line)[0]\n",
    "        dc[\"request\"] = re.findall('\\\"(.*?)\\\"', line)[0]\n",
    "        ls.append(dc)"
   ]
  },
  {
   "cell_type": "code",
   "execution_count": 216,
   "metadata": {
    "collapsed": false
   },
   "outputs": [
    {
     "data": {
      "text/plain": [
       "{'host': '146.204.224.152',\n",
       " 'user_name': 'feest6811',\n",
       " 'time': '21/Jun/2019:15:45:24 -0700',\n",
       " 'request': 'POST /incentivize HTTP/1.1'}"
      ]
     },
     "execution_count": 216,
     "metadata": {
     },
     "output_type": "execute_result"
    }
   ],
   "source": [
    "ls[0]"
   ]
  },
  {
   "cell_type": "code",
   "execution_count": 217,
   "metadata": {
    "collapsed": false
   },
   "outputs": [
    {
     "data": {
      "text/plain": [
       "979"
      ]
     },
     "execution_count": 217,
     "metadata": {
     },
     "output_type": "execute_result"
    }
   ],
   "source": [
    "len(ls)"
   ]
  }
 ],
 "metadata": {
  "kernelspec": {
   "display_name": "Python 3 (system-wide)",
   "language": "python",
   "metadata": {
    "cocalc": {
     "description": "Python 3 programming language",
     "priority": 100,
     "url": "https://www.python.org/"
    }
   },
   "name": "python3",
   "resource_dir": "/ext/jupyter/kernels/python3"
  },
  "language_info": {
   "codemirror_mode": {
    "name": "ipython",
    "version": 3
   },
   "file_extension": ".py",
   "mimetype": "text/x-python",
   "name": "python",
   "nbconvert_exporter": "python",
   "pygments_lexer": "ipython3",
   "version": "3.8.10"
  }
 },
 "nbformat": 4,
 "nbformat_minor": 4
}